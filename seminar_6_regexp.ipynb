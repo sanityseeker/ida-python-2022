{
 "cells": [
  {
   "cell_type": "markdown",
   "id": "5e227e84",
   "metadata": {},
   "source": [
    "# Linux/shell"
   ]
  },
  {
   "cell_type": "markdown",
   "id": "0c4969e2",
   "metadata": {
    "ExecuteTime": {
     "end_time": "2022-11-09T14:12:14.386234Z",
     "start_time": "2022-11-09T14:12:14.373874Z"
    }
   },
   "source": [
    "Лекции и конспекты про линукс, работу с терминалом, git и не только\n",
    "\n",
    "[The missing semester of your CS education](https://missing.csail.mit.edu/) -- набор лекций и конспетов от студентов MIT\n",
    "\n",
    "[Пропущенный семестр](https://github.com/danlark1/hse_missing_cs_education) -- адаптация идеи выше, прочитанная Даней Кутениным на ФКН"
   ]
  },
  {
   "cell_type": "markdown",
   "id": "3a3b4c99-b2ab-400c-af52-b41825d55ae3",
   "metadata": {
    "tags": []
   },
   "source": [
    "# Регулярные выражения"
   ]
  },
  {
   "cell_type": "markdown",
   "id": "80dc9c32-8cf0-4a93-8c36-83d41b7e6aeb",
   "metadata": {
    "ExecuteTime": {
     "end_time": "2021-11-17T02:56:48.721812Z",
     "start_time": "2021-11-17T02:56:48.718678Z"
    }
   },
   "source": [
    "Полезные ссылки:\n",
    "\n",
    "https://habr.com/ru/post/349860/\n",
    "\n",
    "https://uneex.org/HSE/ProgrammingOS/15_Regexp\n",
    "    \n",
    "https://regexone.com/    \n",
    "    \n",
    "https://ravesli.com/regulyarnye-vyrazheniya-osnovy/\n",
    "    \n",
    "https://regex101.com/"
   ]
  },
  {
   "cell_type": "markdown",
   "id": "747c1fec-364f-49c1-96eb-701c170c95b6",
   "metadata": {},
   "source": [
    "Pattern matching / searching:\n",
    "- Pattern -- это некоторая строка из спецсимволов, которая описывает, что мы хотим найти\n",
    "- Matching -- определение, соответствует ли строка заданному паттерну\n",
    "- Searching -- поиск подстрок, соответствующих паттерну, в тексте"
   ]
  },
  {
   "cell_type": "markdown",
   "id": "0fb84c12-6460-4e86-bcce-27daaaf0e334",
   "metadata": {},
   "source": [
    "### Основные правила:\n",
    "\n",
    "#### Общее\n",
    "- любой неспециальный символ матчит себя\n",
    "- \".\" матчит любой символ\n",
    "- \"[abc]\" матчит любой символ внутри множества\n",
    "- \"[A-z]\", \"[0-9]\" и прочие сокращения (множества символов подряд в таблице ascii)\n",
    "- \"a*\" -- звездочка означает 0 или больше указанных символов подряд\n",
    "- \"a+\" -- + означает 1 или более указанных символов подряд\n",
    "- \"a{2,}\" -- N или больше символов подряд\n",
    "- \"a?\" -- один или ни одного\n",
    "- \"a{1, 5}\" -- в фигурных скобках можно указать точное количество. Левая цифра означает минимальное, правая -- максимальное\n",
    "- \"^regexp\" -- только подстроки в начале строки\n",
    "- \"rgexp$\" -- только подстроки, находящиеся в конце строки\n",
    "\n",
    "#### Специальные обобщающие символы\n",
    "`\\{small_letter}` -- специальный символ\n",
    "`\\{big_letter}` -- любой символ кроме специального символа \n",
    "\n",
    "- \\s -- пробельные символы\n",
    "- \\d -- цифра\n",
    "- \\w -- буква или _\n",
    "\n",
    "#### Lookarounds\n",
    "- \"(?=...)\" -- positive lookahead\n",
    "- \"(?<=...)\" -- positive lookbehind\n",
    "- \"(?!...)\" -- negative lookahead\n",
    "- \"(?<!...)\" -- negative loookbehind\n",
    "\n",
    "и прочее и прочее...\n",
    "\n",
    "\n",
    "**Дисклеймер**: Написать регулярку может быть гораздо сложнее, чем потом прочитать! "
   ]
  },
  {
   "cell_type": "markdown",
   "id": "02a2db12-a73e-4496-86c3-0864bc88614b",
   "metadata": {},
   "source": [
    "### Разберем несколько примеров"
   ]
  },
  {
   "cell_type": "code",
   "execution_count": 1,
   "id": "c366d902-029f-47ee-81c7-06364ad798e9",
   "metadata": {
    "ExecuteTime": {
     "end_time": "2022-11-09T12:35:16.132305Z",
     "start_time": "2022-11-09T12:35:16.127671Z"
    },
    "jupyter": {
     "outputs_hidden": true
    }
   },
   "outputs": [],
   "source": [
    "import re"
   ]
  },
  {
   "cell_type": "code",
   "execution_count": 28,
   "id": "274838ed-22c5-43fd-b5bb-72563ceabfd5",
   "metadata": {
    "ExecuteTime": {
     "end_time": "2022-11-09T12:38:44.595348Z",
     "start_time": "2022-11-09T12:38:44.589603Z"
    },
    "jupyter": {
     "outputs_hidden": true
    }
   },
   "outputs": [],
   "source": [
    "sample_string = 'Hello, world!'"
   ]
  },
  {
   "cell_type": "code",
   "execution_count": 29,
   "id": "66026ca2-3568-45d6-ae12-2cdef990da8d",
   "metadata": {
    "ExecuteTime": {
     "end_time": "2022-11-09T12:38:44.794132Z",
     "start_time": "2022-11-09T12:38:44.789074Z"
    },
    "jupyter": {
     "outputs_hidden": true
    }
   },
   "outputs": [
    {
     "data": {
      "text/plain": [
       "<re.Match object; span=(0, 5), match='Hello'>"
      ]
     },
     "execution_count": 29,
     "metadata": {},
     "output_type": "execute_result"
    }
   ],
   "source": [
    "pattern = re.compile('[hH]ello')\n",
    "pattern.match(sample_string)"
   ]
  },
  {
   "cell_type": "code",
   "execution_count": 30,
   "id": "e7f76915-c507-407b-9829-b56d70749f16",
   "metadata": {
    "ExecuteTime": {
     "end_time": "2022-11-09T12:38:44.912690Z",
     "start_time": "2022-11-09T12:38:44.904293Z"
    },
    "jupyter": {
     "outputs_hidden": true
    }
   },
   "outputs": [
    {
     "data": {
      "text/plain": [
       "['Hello']"
      ]
     },
     "execution_count": 30,
     "metadata": {},
     "output_type": "execute_result"
    }
   ],
   "source": [
    "pattern.findall(sample_string)"
   ]
  },
  {
   "cell_type": "code",
   "execution_count": 40,
   "id": "28e3de2f-ab80-44f3-9659-67a8176b4e40",
   "metadata": {
    "ExecuteTime": {
     "end_time": "2022-11-09T12:39:28.505619Z",
     "start_time": "2022-11-09T12:39:28.499446Z"
    },
    "jupyter": {
     "outputs_hidden": true
    }
   },
   "outputs": [],
   "source": [
    "m = re.match(r'^[hH]ello,? [A-z]*[.!]?$', sample_string)"
   ]
  },
  {
   "cell_type": "code",
   "execution_count": 41,
   "id": "dbc7170a-2293-424d-a3fd-4a07e8b6e01e",
   "metadata": {
    "ExecuteTime": {
     "end_time": "2022-11-09T12:39:28.773053Z",
     "start_time": "2022-11-09T12:39:28.763726Z"
    },
    "jupyter": {
     "outputs_hidden": true
    }
   },
   "outputs": [
    {
     "data": {
      "text/plain": [
       "'Hello, world!'"
      ]
     },
     "execution_count": 41,
     "metadata": {},
     "output_type": "execute_result"
    }
   ],
   "source": [
    "sample_string[m.start():m.end()]"
   ]
  },
  {
   "cell_type": "code",
   "execution_count": 43,
   "id": "441bcfb3-7a49-4aa3-a535-826afa0b43bb",
   "metadata": {
    "ExecuteTime": {
     "end_time": "2022-11-09T12:39:32.681837Z",
     "start_time": "2022-11-09T12:39:32.676229Z"
    },
    "jupyter": {
     "outputs_hidden": true
    }
   },
   "outputs": [
    {
     "data": {
      "text/plain": [
       "'Hello, world!'"
      ]
     },
     "execution_count": 43,
     "metadata": {},
     "output_type": "execute_result"
    }
   ],
   "source": [
    "m.group()"
   ]
  },
  {
   "cell_type": "code",
   "execution_count": 44,
   "id": "b1546d6e-5b45-40eb-b494-b63838d04aa7",
   "metadata": {
    "ExecuteTime": {
     "end_time": "2022-11-09T12:39:35.524983Z",
     "start_time": "2022-11-09T12:39:35.518292Z"
    },
    "jupyter": {
     "outputs_hidden": true
    }
   },
   "outputs": [],
   "source": [
    "grouped_match = re.match(r'([hH]ello,?) [a-z]*[.!]?$', sample_string)"
   ]
  },
  {
   "cell_type": "code",
   "execution_count": 45,
   "id": "5a6f3ef3-a3cb-451f-add2-ca84053d5764",
   "metadata": {
    "ExecuteTime": {
     "end_time": "2022-11-09T12:39:36.697571Z",
     "start_time": "2022-11-09T12:39:36.688900Z"
    },
    "jupyter": {
     "outputs_hidden": true
    }
   },
   "outputs": [
    {
     "data": {
      "text/plain": [
       "'Hello, world!'"
      ]
     },
     "execution_count": 45,
     "metadata": {},
     "output_type": "execute_result"
    }
   ],
   "source": [
    "grouped_match.group()"
   ]
  },
  {
   "cell_type": "code",
   "execution_count": 46,
   "id": "290a8722-d9f3-4f45-bdf2-86b1c391f496",
   "metadata": {
    "ExecuteTime": {
     "end_time": "2022-11-09T12:39:42.045862Z",
     "start_time": "2022-11-09T12:39:42.036331Z"
    },
    "jupyter": {
     "outputs_hidden": true
    }
   },
   "outputs": [
    {
     "data": {
      "text/plain": [
       "('Hello,',)"
      ]
     },
     "execution_count": 46,
     "metadata": {},
     "output_type": "execute_result"
    }
   ],
   "source": [
    "grouped_match.groups()"
   ]
  },
  {
   "cell_type": "code",
   "execution_count": 47,
   "id": "f5154fc9-d720-4140-96df-48628eb553c3",
   "metadata": {
    "ExecuteTime": {
     "end_time": "2022-11-09T12:40:17.274208Z",
     "start_time": "2022-11-09T12:40:17.269132Z"
    },
    "jupyter": {
     "outputs_hidden": true
    }
   },
   "outputs": [
    {
     "data": {
      "text/plain": [
       "<re.Match object; span=(4, 7), match='973'>"
      ]
     },
     "execution_count": 47,
     "metadata": {},
     "output_type": "execute_result"
    }
   ],
   "source": [
    "re.search(r'\\d{1,3}', 'rfhe97346fevbv78')"
   ]
  },
  {
   "cell_type": "code",
   "execution_count": 51,
   "id": "72557731-057d-4fc2-9f24-724383b26dd6",
   "metadata": {
    "ExecuteTime": {
     "end_time": "2022-11-09T12:41:06.592141Z",
     "start_time": "2022-11-09T12:41:06.586949Z"
    },
    "jupyter": {
     "outputs_hidden": true
    }
   },
   "outputs": [
    {
     "data": {
      "text/plain": [
       "['97346', '78']"
      ]
     },
     "execution_count": 51,
     "metadata": {},
     "output_type": "execute_result"
    }
   ],
   "source": [
    "re.findall(r'\\d{1,}', 'rfhe97346fevbv78')"
   ]
  },
  {
   "cell_type": "code",
   "execution_count": 52,
   "id": "e9a30163-1eee-4bcd-ade9-a3e129179cac",
   "metadata": {
    "ExecuteTime": {
     "end_time": "2022-11-09T12:41:26.737458Z",
     "start_time": "2022-11-09T12:41:26.731833Z"
    },
    "jupyter": {
     "outputs_hidden": true
    }
   },
   "outputs": [
    {
     "data": {
      "text/plain": [
       "'rfheцифрыfevbv78'"
      ]
     },
     "execution_count": 52,
     "metadata": {},
     "output_type": "execute_result"
    }
   ],
   "source": [
    "re.sub(r'\\d{3,5}', 'цифры', 'rfhe97346fevbv78')"
   ]
  },
  {
   "cell_type": "markdown",
   "id": "6ade0a1b-65dd-47fc-a37e-84397cc87b16",
   "metadata": {},
   "source": [
    "**Lookarounds**"
   ]
  },
  {
   "cell_type": "code",
   "execution_count": 55,
   "id": "695e964c-e3e7-4ea6-8dab-d9c075112abf",
   "metadata": {
    "ExecuteTime": {
     "end_time": "2022-11-09T12:48:04.734674Z",
     "start_time": "2022-11-09T12:48:04.728718Z"
    },
    "jupyter": {
     "outputs_hidden": true
    }
   },
   "outputs": [],
   "source": [
    "er_words = 'math teacher math physics teacher scheduler funny monster creepy monster'"
   ]
  },
  {
   "cell_type": "code",
   "execution_count": 57,
   "id": "ba411b5e-9091-45c7-9d71-ec794c36120b",
   "metadata": {
    "ExecuteTime": {
     "end_time": "2022-11-09T12:48:26.078278Z",
     "start_time": "2022-11-09T12:48:26.072699Z"
    },
    "jupyter": {
     "outputs_hidden": true
    }
   },
   "outputs": [
    {
     "data": {
      "text/plain": [
       "['math ', 'physics ', 'teacher ', 'funny ', 'creepy ']"
      ]
     },
     "execution_count": 57,
     "metadata": {},
     "output_type": "execute_result"
    }
   ],
   "source": [
    "re.findall('\\w+ (?=\\w+er)', er_words)"
   ]
  },
  {
   "cell_type": "code",
   "execution_count": 60,
   "id": "4b18c717-070d-4a95-b5c0-7e5181197fc7",
   "metadata": {
    "ExecuteTime": {
     "end_time": "2022-11-09T12:50:25.761438Z",
     "start_time": "2022-11-09T12:50:25.756405Z"
    },
    "jupyter": {
     "outputs_hidden": true
    }
   },
   "outputs": [
    {
     "name": "stdout",
     "output_type": "stream",
     "text": [
      "math  0 5\n",
      "physics  18 26\n",
      "teacher  26 34\n",
      "funny  44 50\n",
      "creepy  58 65\n"
     ]
    }
   ],
   "source": [
    "for m in re.finditer('\\w+ (?=\\w+er)', er_words):\n",
    "    print(er_words[m.start():m.end()], m.start(), m.end())"
   ]
  },
  {
   "cell_type": "code",
   "execution_count": 65,
   "id": "12e614a0",
   "metadata": {
    "ExecuteTime": {
     "end_time": "2022-11-09T12:53:02.239230Z",
     "start_time": "2022-11-09T12:53:02.233932Z"
    }
   },
   "outputs": [],
   "source": [
    "for m in re.finditer('(?<!math) \\w+', er_words):\n",
    "    print(er_words[m.start():m.end()], m.start(), m.end())"
   ]
  },
  {
   "cell_type": "markdown",
   "id": "00828b3f-1d17-48fd-bbb0-8a8e4832da9c",
   "metadata": {},
   "source": [
    "## Practice Tasks"
   ]
  },
  {
   "cell_type": "markdown",
   "id": "73b91ede",
   "metadata": {},
   "source": [
    "### Remove stops"
   ]
  },
  {
   "cell_type": "code",
   "execution_count": 77,
   "id": "705a23bf",
   "metadata": {
    "ExecuteTime": {
     "end_time": "2022-11-09T12:59:58.999214Z",
     "start_time": "2022-11-09T12:59:58.993706Z"
    }
   },
   "outputs": [
    {
     "data": {
      "text/plain": [
       "' любимый  !\\nКузов в хорошем состоянии,  бит, безопасность целая,исправная, стекла все родные, салон в хорошем состоянии, КПП без нареканий, двигатель нужно обслужить (заменить масла, отрегулировать клапана).\\nПо ходовке заменить передний ступечный подшипник. \\nДокументы в порядке. Вин JMBSNCY2A8U006864.\\nЦена на  с учётом всех расходов, торг только адекватным людям в разумных пределах.\\n'"
      ]
     },
     "execution_count": 77,
     "metadata": {},
     "output_type": "execute_result"
    }
   ],
   "source": [
    "stopwords = ['продам', 'отличный', 'авто', 'автомобиль', 'хороший', 'не']\n",
    "# write regexp to filter stopwords\n",
    "regexp_stops = '|'.join(fr'\\b{word}\\b' for word in stopwords)\n",
    "\n",
    "text = '''Продам любимый отличный автомобиль!\n",
    "Кузов в хорошем состоянии, не бит, безопасность целая,исправная, стекла все родные, салон в хорошем состоянии, КПП без нареканий, двигатель нужно обслужить (заменить масла, отрегулировать клапана).\n",
    "По ходовке заменить передний ступечный подшипник. \n",
    "Документы в порядке. Вин JMBSNCY2A8U006864.\n",
    "Цена на авто с учётом всех расходов, торг только адекватным людям в разумных пределах.\n",
    "'''\n",
    "\n",
    "cleaned_text = re.sub(regexp_stops, '', text, flags=re.IGNORECASE)\n",
    "cleaned_text"
   ]
  },
  {
   "cell_type": "code",
   "execution_count": 78,
   "id": "01d26126",
   "metadata": {
    "ExecuteTime": {
     "end_time": "2022-11-09T12:59:59.382532Z",
     "start_time": "2022-11-09T12:59:59.376257Z"
    }
   },
   "outputs": [],
   "source": [
    "regexp_chars = r'[!?,.\\s_]+'\n",
    "cleaned_text = re.sub(regexp_chars, ' ', text)"
   ]
  },
  {
   "cell_type": "code",
   "execution_count": 79,
   "id": "0d39dddf",
   "metadata": {
    "ExecuteTime": {
     "end_time": "2022-11-09T12:59:59.854310Z",
     "start_time": "2022-11-09T12:59:59.845125Z"
    }
   },
   "outputs": [
    {
     "data": {
      "text/plain": [
       "'Продам любимый отличный автомобиль Кузов в хорошем состоянии не бит безопасность целая исправная стекла все родные салон в хорошем состоянии КПП без нареканий двигатель нужно обслужить (заменить масла отрегулировать клапана) По ходовке заменить передний ступечный подшипник Документы в порядке Вин JMBSNCY2A8U006864 Цена на авто с учётом всех расходов торг только адекватным людям в разумных пределах '"
      ]
     },
     "execution_count": 79,
     "metadata": {},
     "output_type": "execute_result"
    }
   ],
   "source": [
    "cleaned_text"
   ]
  },
  {
   "cell_type": "markdown",
   "id": "01c88741-258a-414e-b171-8cc35d3a02be",
   "metadata": {},
   "source": [
    "### Ошибся со временем\n",
    "\n",
    "Вы написали длинное письмо, где описали свои планы на день с указанием конкретных временных промежутков. Однако позже вы осознали, что на самом деле забыли об одном важном деле, и теперь все даты в вашем письме неверные. Напишите программу, которая заменяет все временные указания на строчку TBD\n",
    "\n",
    "*Пример:*\n",
    "\n",
    "`Уважаемый Д.! Если вы к 12:00 среды не подготовите свой семинар, то уже в 12:00:01 я за себя не отвечаю. \n",
    "Нужно нагененировать хотя бы 10 примеров и успеть разобрать в идеале 80:100 из них` \n",
    "\n",
    "->\n",
    "\n",
    "`Уважаемый Д.! Если вы к (TBD) среды не подготовите свой семинар, то уже в (TBD) я за себя не отвечаю. \n",
    "Нужно нагененировать хотя бы 10 примеров и успеть разобрать в идеале 80:100 из них` "
   ]
  },
  {
   "cell_type": "code",
   "execution_count": 81,
   "id": "fb23868c-20e9-4fe8-b8f3-305d941b741d",
   "metadata": {
    "ExecuteTime": {
     "end_time": "2022-11-09T13:01:51.349383Z",
     "start_time": "2022-11-09T13:01:51.343716Z"
    }
   },
   "outputs": [
    {
     "data": {
      "text/plain": [
       "'Уважаемый Д.! Если вы к (TBD) среды не подготовите свой семинар, то уже в (TBD) я за себя не отвечаю. Нужно нагененировать хотя бы 10 примеров и успеть разобрать в идеале 80:100 из них'"
      ]
     },
     "execution_count": 81,
     "metadata": {},
     "output_type": "execute_result"
    }
   ],
   "source": [
    "# your code\n",
    "\n",
    "text = 'Уважаемый Д.! Если вы к 12:00 среды не подготовите свой семинар, то уже в 12:00:01 я за себя не отвечаю. Нужно нагененировать хотя бы 10 примеров и успеть разобрать в идеале 80:100 из них'\n",
    "\n",
    "regexp_time = r'\\b(([01][0-9])|(2[0-3])):([0-5][0-9])(:[0-5][0-9])?\\b'\n",
    "\n",
    "re.sub(regexp_time, '(TBD)', text)"
   ]
  },
  {
   "cell_type": "markdown",
   "id": "3e3c0022",
   "metadata": {},
   "source": [
    "## Опциональные задачи на бонусы"
   ]
  },
  {
   "cell_type": "markdown",
   "id": "aafdd4a3-5edc-410b-9e65-ca10abe155b0",
   "metadata": {},
   "source": [
    "### E-mails (1)\n",
    "\n",
    "Вы увидели, что у соседнего курса в открытом доступе выложены личные данные лекторов, семинаристов и ассистентов! Как хорошие программисты, вы конечно же забеспокоились о приватности данных незадачливых коллег и решили тайком  удалить все их личные почты из общего файла. При этом, вы хотите, чтобы с ними можно было связаться, поэтому университетские почты вы в файле оставляете.\n",
    "\n",
    "**Задача:** \n",
    "- Прочитать данные из файла\n",
    "- Вывести все e-mail'ы из файла\n",
    "- Модифицировать файл таким образом, чтобы все почты не относящиеся к доменам @hse.ru или @edu.hse.ru (и только к ним) были заменены на фразу \"Pr1v@cY REstorED\"\n",
    "\n",
    "\n",
    "Попробуйте сделать это задание в терминале. Вам может помочь команда `ssed`\n",
    "\n",
    "Загрузить таблицу из google sheets можно следующей командой:\n",
    "`curl --silent -L \"https://docs.google.com/spreadsheets/d/1VUACNvvtewTJZYF986zfNhNiLKQ1F_ubPgDMQygrBpA/export?gid=931303141&format=tsv\"` (или сохраните ее в графическом интерфейсе)"
   ]
  },
  {
   "cell_type": "markdown",
   "id": "d5d92a6a-b1ef-4487-80c4-af8bdcc05d8c",
   "metadata": {},
   "source": [
    "### Погенерируем пароли (1)\n",
    "\n",
    "Вы наконец-то обеспокоились своей безопасностью в сети и решили обновить все свои пароли. Однако придумывать все самим для всех ваших сайтов вам, конечно, лень. Поэтому вы решили написать программу, которая это сделает за вас!\n",
    "\n",
    "Сгенерируйте случайный пароль длины N. Убедитесь, что получившийся пароль на самом деле хороший. В нашем случае это:\n",
    "1. Содержит хотя бы две заглавные буквы подряд\n",
    "2. Содержит хотя бы две строчные буквы подряд\n",
    "3. Не содержит пробельные спецсимволы (\\t, \\n и подобные)\n",
    "4. Не содержит трех цифр подряд\n",
    "5. Содержит и русские, и английские буквы \n",
    "\n",
    "Ваш код должен генерировать пароли, пока они не удовлетворят заданным условиям."
   ]
  },
  {
   "cell_type": "markdown",
   "id": "cfd1e2d4",
   "metadata": {},
   "source": [
    "hint: используйте модуль random"
   ]
  }
 ],
 "metadata": {
  "kernelspec": {
   "display_name": "base-env",
   "language": "python",
   "name": "base-env"
  },
  "language_info": {
   "codemirror_mode": {
    "name": "ipython",
    "version": 3
   },
   "file_extension": ".py",
   "mimetype": "text/x-python",
   "name": "python",
   "nbconvert_exporter": "python",
   "pygments_lexer": "ipython3",
   "version": "3.9.12"
  },
  "toc": {
   "base_numbering": 1,
   "nav_menu": {},
   "number_sections": true,
   "sideBar": true,
   "skip_h1_title": false,
   "title_cell": "Table of Contents",
   "title_sidebar": "Contents",
   "toc_cell": false,
   "toc_position": {},
   "toc_section_display": true,
   "toc_window_display": false
  },
  "varInspector": {
   "cols": {
    "lenName": 16,
    "lenType": 16,
    "lenVar": 40
   },
   "kernels_config": {
    "python": {
     "delete_cmd_postfix": "",
     "delete_cmd_prefix": "del ",
     "library": "var_list.py",
     "varRefreshCmd": "print(var_dic_list())"
    },
    "r": {
     "delete_cmd_postfix": ") ",
     "delete_cmd_prefix": "rm(",
     "library": "var_list.r",
     "varRefreshCmd": "cat(var_dic_list()) "
    }
   },
   "types_to_exclude": [
    "module",
    "function",
    "builtin_function_or_method",
    "instance",
    "_Feature"
   ],
   "window_display": false
  }
 },
 "nbformat": 4,
 "nbformat_minor": 5
}
