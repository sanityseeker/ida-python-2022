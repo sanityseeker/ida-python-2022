{
 "cells": [
  {
   "cell_type": "markdown",
   "id": "b9931fd6",
   "metadata": {},
   "source": [
    "In Python, object-oriented Programming (OOPs) is a programming paradigm that uses objects and classes in programming. It aims to implement real-world entities like inheritance, polymorphisms, encapsulation, etc. in the programming. The main concept of OOPs is to bind the data and the functions that work on that together as a single unit so that no other part of the code can access this data.\n",
    "\n",
    "Язык может быть ориентирован на объекты, но программу, построенную по принципам ООП, можно написать и в языках, где нет как таковых классов/объектов. Например, на C, или на Go. \n",
    "\n",
    "- **Абстракция**. \n",
    "\n",
    "Выделение значимой информации и использование наиболее важных характеристик объекта.\n",
    "Абстракция от общего к частному. Класс -> экземпляр класса, Базовый класс -> производный класс.\n",
    "\n",
    "Выделяем общее из частного. Притом то общее, с которым мы хотим работать.\n",
    "\n",
    "Пример абстракции. Если нам нужно, чтобы утка крякала и плавала, то все то, что крякает и плавает для нас будет уткой. Мы отбросили все частное, которое нам не нужно.\n",
    "\n",
    "Также абстракция бывает горизонтальной. Когда мы моделируем нечто с помощью массива (множество, дерево и пр.). С помощью одного и того же инструмента можем определять разное.\n",
    "\n",
    "Как это относится к ООП?\n",
    "\n",
    "\n",
    "- **Инкапсуляция**\n",
    "\n",
    "Логическое объединение данных и функций для работы с ними. Инструмент, который позволяет разделить действия, необходмые для разного уровня абстракций. \n",
    "\n",
    "Минимизация необходимого информационного пространства, за счет создания иерархии пространств имен (размещаем в объектке и его описание, и методы, которые с этим объектом работают). Нотация доступа к методам объекта через точку. Методы, поля и прочее и прочее и прочее. Посмотреть методы можно с помощью команды `dir()`.\n",
    "\n",
    "Следует заметить, что также часто используется также \"сокрытие\" определенных полей. Когда мы говорим, что внутри объекта есть еще поля, но мы вам их не покажем. В некоторых языках есть, например, \n",
    "\n",
    "\n",
    "- **Наследование**\n",
    "\n",
    "Повторное использование свойств объектов с описанием различий.\n",
    "\n",
    "Хотим, когда мы используем очередной класс объектов, мы могли сказать \"А можно сделать вот так же, как тут, только в некоторых пунктах мы делаем изменений\". Повторное использование кода.\n",
    "\n",
    "\n",
    "- **Полиморфизм**\n",
    "\n",
    "Предоставление одинаковых средств взаимодействия с объектами разной природы. Возможность для одного и того же кода обрабатывать данные разных типов. Duck typing в Python -- это из коробки\n",
    "\n",
    "\n",
    "Класс можно использовать как контейнер. Мы можем складывать в него дополнительные поля. Можно делать свои \"пространства имен\", и в них складывать какие-то методы. Например, можно сделать некоторый класс и объявить в нем свою функцию минимума. Или определить какое-то поле, например, value. И тогда value будет определена только в области видимости нашего класса\n",
    "\n",
    "**Class** \n",
    "A class is a collection of objects. A class contains the blueprints or the prototype from which the objects are being created. It is a logical entity that contains some attributes and methods. \n",
    "\n",
    "To understand the need for creating a class let’s consider an example, let’s say you wanted to track the number of dogs that may have different attributes like breed, age. If a list is used, the first element could be the dog’s breed while the second element could represent its age. Let’s suppose there are 100 different dogs, then how would you know which element is supposed to be which? What if you wanted to add other properties to these dogs? This lacks organization and it’s the exact need for classes. \n",
    "\n",
    "Some points on Python class:  \n",
    "\n",
    "Classes are created by keyword class.\n",
    "Attributes are the variables that belong to a class.\n",
    "Attributes are always public and can be accessed using the dot (.) operator. Eg.: Myclass.Myattribute\n",
    "\n",
    "**Objects**\n",
    "The object is an entity that has a state and behavior associated with it. It may be any real-world object like a mouse, keyboard, chair, table, pen, etc. Integers, strings, floating-point numbers, even arrays, and dictionaries, are all objects. More specifically, any single integer or any single string is an object. The number 12 is an object, the string “Hello, world” is an object, a list is an object that can hold other objects, and so on. You’ve been using objects all along and may not even realize it.\n",
    "\n",
    "*An object consists of :*\n",
    "\n",
    "- State: It is represented by the attributes of an object. It also reflects the properties of an object.\n",
    "\n",
    "- Behavior: It is represented by the methods of an object. It also reflects the response of an object to other objects.\n",
    "\n",
    "- Identity: It gives a unique name to an object and enables one object to interact with other objects."
   ]
  },
  {
   "cell_type": "markdown",
   "id": "5dd39f58",
   "metadata": {},
   "source": [
    "## Первый класс"
   ]
  },
  {
   "cell_type": "code",
   "execution_count": 3,
   "id": "e912eea8",
   "metadata": {
    "ExecuteTime": {
     "end_time": "2022-11-16T11:56:17.920686Z",
     "start_time": "2022-11-16T11:56:17.914878Z"
    }
   },
   "outputs": [],
   "source": [
    "class Empty:\n",
    "    pass"
   ]
  },
  {
   "cell_type": "code",
   "execution_count": 4,
   "id": "e23113f4",
   "metadata": {
    "ExecuteTime": {
     "end_time": "2022-11-16T11:56:28.673566Z",
     "start_time": "2022-11-16T11:56:28.667480Z"
    }
   },
   "outputs": [],
   "source": [
    "empty_value = Empty()"
   ]
  },
  {
   "cell_type": "code",
   "execution_count": 5,
   "id": "124d435d",
   "metadata": {
    "ExecuteTime": {
     "end_time": "2022-11-16T11:56:38.697528Z",
     "start_time": "2022-11-16T11:56:38.691596Z"
    }
   },
   "outputs": [
    {
     "data": {
      "text/plain": [
       "['__class__',\n",
       " '__delattr__',\n",
       " '__dict__',\n",
       " '__dir__',\n",
       " '__doc__',\n",
       " '__eq__',\n",
       " '__format__',\n",
       " '__ge__',\n",
       " '__getattribute__',\n",
       " '__gt__',\n",
       " '__hash__',\n",
       " '__init__',\n",
       " '__init_subclass__',\n",
       " '__le__',\n",
       " '__lt__',\n",
       " '__module__',\n",
       " '__ne__',\n",
       " '__new__',\n",
       " '__reduce__',\n",
       " '__reduce_ex__',\n",
       " '__repr__',\n",
       " '__setattr__',\n",
       " '__sizeof__',\n",
       " '__str__',\n",
       " '__subclasshook__',\n",
       " '__weakref__']"
      ]
     },
     "execution_count": 5,
     "metadata": {},
     "output_type": "execute_result"
    }
   ],
   "source": [
    "dir(empty_value)"
   ]
  },
  {
   "cell_type": "code",
   "execution_count": 8,
   "id": "097a8932",
   "metadata": {
    "ExecuteTime": {
     "end_time": "2022-11-16T11:57:13.579002Z",
     "start_time": "2022-11-16T11:57:13.573937Z"
    }
   },
   "outputs": [
    {
     "data": {
      "text/plain": [
       "(__main__.Empty, 'Empty')"
      ]
     },
     "execution_count": 8,
     "metadata": {},
     "output_type": "execute_result"
    }
   ],
   "source": [
    "empty_value.__class__, empty_value.__class__.__name__ "
   ]
  },
  {
   "cell_type": "code",
   "execution_count": 9,
   "id": "028f5fc3",
   "metadata": {
    "ExecuteTime": {
     "end_time": "2022-11-16T11:57:20.705097Z",
     "start_time": "2022-11-16T11:57:20.699639Z"
    }
   },
   "outputs": [
    {
     "data": {
      "text/plain": [
       "__main__.Empty"
      ]
     },
     "execution_count": 9,
     "metadata": {},
     "output_type": "execute_result"
    }
   ],
   "source": [
    "type(empty_value)"
   ]
  },
  {
   "cell_type": "code",
   "execution_count": 11,
   "id": "93224ba3",
   "metadata": {
    "ExecuteTime": {
     "end_time": "2022-11-16T11:57:46.967712Z",
     "start_time": "2022-11-16T11:57:46.961516Z"
    }
   },
   "outputs": [
    {
     "data": {
      "text/plain": [
       "(<__main__.Empty at 0x7f8877e0d9d0>,\n",
       " '<__main__.Empty object at 0x7f8877e0d9d0>')"
      ]
     },
     "execution_count": 11,
     "metadata": {},
     "output_type": "execute_result"
    }
   ],
   "source": [
    "empty_value, str(empty_value)"
   ]
  },
  {
   "cell_type": "code",
   "execution_count": 12,
   "id": "c0ed5d83",
   "metadata": {
    "ExecuteTime": {
     "end_time": "2022-11-16T11:58:03.967931Z",
     "start_time": "2022-11-16T11:58:03.962705Z"
    }
   },
   "outputs": [
    {
     "data": {
      "text/plain": [
       "8764006469021"
      ]
     },
     "execution_count": 12,
     "metadata": {},
     "output_type": "execute_result"
    }
   ],
   "source": [
    "hash(empty_value)"
   ]
  },
  {
   "cell_type": "markdown",
   "id": "d16b0bae",
   "metadata": {},
   "source": [
    "Когда мы задаем переменную внутри класса, то она будет видна из его экземпляров"
   ]
  },
  {
   "cell_type": "code",
   "execution_count": 13,
   "id": "7f1a6f43",
   "metadata": {
    "ExecuteTime": {
     "end_time": "2022-11-16T11:58:27.875040Z",
     "start_time": "2022-11-16T11:58:27.869066Z"
    }
   },
   "outputs": [],
   "source": [
    "Empty.value = 1337"
   ]
  },
  {
   "cell_type": "code",
   "execution_count": 14,
   "id": "1b778a01",
   "metadata": {
    "ExecuteTime": {
     "end_time": "2022-11-16T11:58:54.997074Z",
     "start_time": "2022-11-16T11:58:54.991466Z"
    }
   },
   "outputs": [
    {
     "data": {
      "text/plain": [
       "1337"
      ]
     },
     "execution_count": 14,
     "metadata": {},
     "output_type": "execute_result"
    }
   ],
   "source": [
    "empty_value.value"
   ]
  },
  {
   "cell_type": "code",
   "execution_count": 15,
   "id": "85fdbfaf",
   "metadata": {
    "ExecuteTime": {
     "end_time": "2022-11-16T11:59:01.165310Z",
     "start_time": "2022-11-16T11:59:01.159568Z"
    }
   },
   "outputs": [
    {
     "data": {
      "text/plain": [
       "['__class__',\n",
       " '__delattr__',\n",
       " '__dict__',\n",
       " '__dir__',\n",
       " '__doc__',\n",
       " '__eq__',\n",
       " '__format__',\n",
       " '__ge__',\n",
       " '__getattribute__',\n",
       " '__gt__',\n",
       " '__hash__',\n",
       " '__init__',\n",
       " '__init_subclass__',\n",
       " '__le__',\n",
       " '__lt__',\n",
       " '__module__',\n",
       " '__ne__',\n",
       " '__new__',\n",
       " '__reduce__',\n",
       " '__reduce_ex__',\n",
       " '__repr__',\n",
       " '__setattr__',\n",
       " '__sizeof__',\n",
       " '__str__',\n",
       " '__subclasshook__',\n",
       " '__weakref__',\n",
       " 'value']"
      ]
     },
     "execution_count": 15,
     "metadata": {},
     "output_type": "execute_result"
    }
   ],
   "source": [
    "dir(empty_value)"
   ]
  },
  {
   "cell_type": "code",
   "execution_count": 17,
   "id": "091abc75",
   "metadata": {
    "ExecuteTime": {
     "end_time": "2022-11-16T12:00:27.383251Z",
     "start_time": "2022-11-16T12:00:27.373508Z"
    }
   },
   "outputs": [
    {
     "data": {
      "text/plain": [
       "1337"
      ]
     },
     "execution_count": 17,
     "metadata": {},
     "output_type": "execute_result"
    }
   ],
   "source": [
    "empty_value.value"
   ]
  },
  {
   "cell_type": "code",
   "execution_count": 18,
   "id": "eb839c18",
   "metadata": {
    "ExecuteTime": {
     "end_time": "2022-11-16T12:00:39.521671Z",
     "start_time": "2022-11-16T12:00:39.274719Z"
    }
   },
   "outputs": [
    {
     "ename": "AttributeError",
     "evalue": "'Empty' object has no attribute 'another_value'",
     "output_type": "error",
     "traceback": [
      "\u001b[0;31m---------------------------------------------------------------------------\u001b[0m",
      "\u001b[0;31mAttributeError\u001b[0m                            Traceback (most recent call last)",
      "Cell \u001b[0;32mIn [18], line 1\u001b[0m\n\u001b[0;32m----> 1\u001b[0m empty_value\u001b[38;5;241m.\u001b[39manother_value\n",
      "\u001b[0;31mAttributeError\u001b[0m: 'Empty' object has no attribute 'another_value'"
     ]
    }
   ],
   "source": [
    "empty_value.another_value"
   ]
  },
  {
   "cell_type": "code",
   "execution_count": 19,
   "id": "983d1bed",
   "metadata": {
    "ExecuteTime": {
     "end_time": "2022-11-16T12:01:02.842343Z",
     "start_time": "2022-11-16T12:01:02.832369Z"
    }
   },
   "outputs": [
    {
     "data": {
      "text/plain": [
       "True"
      ]
     },
     "execution_count": 19,
     "metadata": {},
     "output_type": "execute_result"
    }
   ],
   "source": [
    "empty_value.value is Empty.value  # id(empty_value.value) == id(Empty.value)"
   ]
  },
  {
   "cell_type": "code",
   "execution_count": 20,
   "id": "351ee5ea",
   "metadata": {
    "ExecuteTime": {
     "end_time": "2022-11-16T12:01:56.201789Z",
     "start_time": "2022-11-16T12:01:56.195507Z"
    }
   },
   "outputs": [],
   "source": [
    "another_empty_value = Empty()"
   ]
  },
  {
   "cell_type": "code",
   "execution_count": 24,
   "id": "3f1d98aa",
   "metadata": {
    "ExecuteTime": {
     "end_time": "2022-11-16T12:02:13.652376Z",
     "start_time": "2022-11-16T12:02:13.646666Z"
    }
   },
   "outputs": [
    {
     "data": {
      "text/plain": [
       "True"
      ]
     },
     "execution_count": 24,
     "metadata": {},
     "output_type": "execute_result"
    }
   ],
   "source": [
    "another_empty_value.value is empty_value.value is Empty.value"
   ]
  },
  {
   "cell_type": "markdown",
   "id": "8920bafe",
   "metadata": {},
   "source": [
    "Сначала смотрим на поля экземпляра. Если там нету, то смотрим на поля класса. Если там нету, выводим ошибку"
   ]
  },
  {
   "cell_type": "code",
   "execution_count": 25,
   "id": "972d921e",
   "metadata": {
    "ExecuteTime": {
     "end_time": "2022-11-16T12:02:31.652503Z",
     "start_time": "2022-11-16T12:02:31.645961Z"
    }
   },
   "outputs": [],
   "source": [
    "another_empty_value.value = '42'"
   ]
  },
  {
   "cell_type": "code",
   "execution_count": 26,
   "id": "20fa4e06",
   "metadata": {
    "ExecuteTime": {
     "end_time": "2022-11-16T12:02:37.212920Z",
     "start_time": "2022-11-16T12:02:37.207527Z"
    }
   },
   "outputs": [
    {
     "data": {
      "text/plain": [
       "'42'"
      ]
     },
     "execution_count": 26,
     "metadata": {},
     "output_type": "execute_result"
    }
   ],
   "source": [
    "another_empty_value.value"
   ]
  },
  {
   "cell_type": "markdown",
   "id": "48d793c6",
   "metadata": {},
   "source": [
    "Можно удалять поля через `del`."
   ]
  },
  {
   "cell_type": "code",
   "execution_count": 27,
   "id": "6d1ce07d",
   "metadata": {
    "ExecuteTime": {
     "end_time": "2022-11-16T12:02:52.925478Z",
     "start_time": "2022-11-16T12:02:52.918729Z"
    }
   },
   "outputs": [],
   "source": [
    "del another_empty_value.value"
   ]
  },
  {
   "cell_type": "code",
   "execution_count": 28,
   "id": "13edb7ba",
   "metadata": {
    "ExecuteTime": {
     "end_time": "2022-11-16T12:03:02.587989Z",
     "start_time": "2022-11-16T12:03:02.582722Z"
    }
   },
   "outputs": [
    {
     "data": {
      "text/plain": [
       "1337"
      ]
     },
     "execution_count": 28,
     "metadata": {},
     "output_type": "execute_result"
    }
   ],
   "source": [
    "another_empty_value.value"
   ]
  },
  {
   "cell_type": "markdown",
   "id": "62a050b2",
   "metadata": {},
   "source": [
    "**Запишем каакие-нибудь поля сразу в класс**"
   ]
  },
  {
   "cell_type": "code",
   "execution_count": 29,
   "id": "71e6d070",
   "metadata": {
    "ExecuteTime": {
     "end_time": "2022-11-16T12:04:17.318381Z",
     "start_time": "2022-11-16T12:04:17.311946Z"
    }
   },
   "outputs": [],
   "source": [
    "class NotEmpty:\n",
    "    imm_value = 'immutable string'\n",
    "    mut_value = [42]"
   ]
  },
  {
   "cell_type": "code",
   "execution_count": 30,
   "id": "b2cb1e83",
   "metadata": {
    "ExecuteTime": {
     "end_time": "2022-11-16T12:04:27.224919Z",
     "start_time": "2022-11-16T12:04:27.219636Z"
    }
   },
   "outputs": [
    {
     "data": {
      "text/plain": [
       "('immutable string', [42])"
      ]
     },
     "execution_count": 30,
     "metadata": {},
     "output_type": "execute_result"
    }
   ],
   "source": [
    "NotEmpty.imm_value, NotEmpty.mut_value"
   ]
  },
  {
   "cell_type": "code",
   "execution_count": 31,
   "id": "2d01a8a3",
   "metadata": {
    "ExecuteTime": {
     "end_time": "2022-11-16T12:04:40.887658Z",
     "start_time": "2022-11-16T12:04:40.881874Z"
    }
   },
   "outputs": [],
   "source": [
    "not_empty_val = NotEmpty()"
   ]
  },
  {
   "cell_type": "code",
   "execution_count": 34,
   "id": "e8ce0dde",
   "metadata": {
    "ExecuteTime": {
     "end_time": "2022-11-16T12:05:11.847693Z",
     "start_time": "2022-11-16T12:05:11.842029Z"
    }
   },
   "outputs": [
    {
     "data": {
      "text/plain": [
       "('immutable string', [42])"
      ]
     },
     "execution_count": 34,
     "metadata": {},
     "output_type": "execute_result"
    }
   ],
   "source": [
    "not_empty_val.imm_value, not_empty_val.mut_value"
   ]
  },
  {
   "cell_type": "code",
   "execution_count": 35,
   "id": "cd4e715e",
   "metadata": {
    "ExecuteTime": {
     "end_time": "2022-11-16T12:05:43.468685Z",
     "start_time": "2022-11-16T12:05:43.462809Z"
    }
   },
   "outputs": [],
   "source": [
    "another_not_empty_val = NotEmpty()"
   ]
  },
  {
   "cell_type": "code",
   "execution_count": 36,
   "id": "301df302",
   "metadata": {
    "ExecuteTime": {
     "end_time": "2022-11-16T12:06:21.369399Z",
     "start_time": "2022-11-16T12:06:21.363102Z"
    }
   },
   "outputs": [],
   "source": [
    "not_empty_val.imm_value += ' !!!'\n",
    "not_empty_val.mut_value.append('mutable')"
   ]
  },
  {
   "cell_type": "code",
   "execution_count": 37,
   "id": "1ce86c8a",
   "metadata": {
    "ExecuteTime": {
     "end_time": "2022-11-16T12:07:28.726841Z",
     "start_time": "2022-11-16T12:07:28.721671Z"
    }
   },
   "outputs": [
    {
     "data": {
      "text/plain": [
       "[42, 'mutable']"
      ]
     },
     "execution_count": 37,
     "metadata": {},
     "output_type": "execute_result"
    }
   ],
   "source": [
    "NotEmpty.mut_value"
   ]
  },
  {
   "cell_type": "code",
   "execution_count": 38,
   "id": "23d5be4b",
   "metadata": {
    "ExecuteTime": {
     "end_time": "2022-11-16T12:07:40.598035Z",
     "start_time": "2022-11-16T12:07:40.592670Z"
    }
   },
   "outputs": [
    {
     "data": {
      "text/plain": [
       "[42, 'mutable']"
      ]
     },
     "execution_count": 38,
     "metadata": {},
     "output_type": "execute_result"
    }
   ],
   "source": [
    "another_not_empty_val.mut_value"
   ]
  },
  {
   "cell_type": "code",
   "execution_count": 39,
   "id": "e8c8ec64",
   "metadata": {
    "ExecuteTime": {
     "end_time": "2022-11-16T12:08:06.923617Z",
     "start_time": "2022-11-16T12:08:06.917872Z"
    }
   },
   "outputs": [
    {
     "data": {
      "text/plain": [
       "'immutable string'"
      ]
     },
     "execution_count": 39,
     "metadata": {},
     "output_type": "execute_result"
    }
   ],
   "source": [
    "NotEmpty.imm_value"
   ]
  },
  {
   "cell_type": "code",
   "execution_count": 41,
   "id": "7c30945d",
   "metadata": {
    "ExecuteTime": {
     "end_time": "2022-11-16T12:08:27.404444Z",
     "start_time": "2022-11-16T12:08:27.398846Z"
    }
   },
   "outputs": [
    {
     "data": {
      "text/plain": [
       "'immutable string !!!'"
      ]
     },
     "execution_count": 41,
     "metadata": {},
     "output_type": "execute_result"
    }
   ],
   "source": [
    "not_empty_val.imm_value"
   ]
  },
  {
   "cell_type": "code",
   "execution_count": 42,
   "id": "e60cb188",
   "metadata": {
    "ExecuteTime": {
     "end_time": "2022-11-16T12:08:34.723486Z",
     "start_time": "2022-11-16T12:08:34.717704Z"
    }
   },
   "outputs": [],
   "source": [
    "del not_empty_val.imm_value"
   ]
  },
  {
   "cell_type": "code",
   "execution_count": 43,
   "id": "551851b7",
   "metadata": {
    "ExecuteTime": {
     "end_time": "2022-11-16T12:08:38.541368Z",
     "start_time": "2022-11-16T12:08:38.535948Z"
    }
   },
   "outputs": [
    {
     "data": {
      "text/plain": [
       "'immutable string'"
      ]
     },
     "execution_count": 43,
     "metadata": {},
     "output_type": "execute_result"
    }
   ],
   "source": [
    "not_empty_val.imm_value"
   ]
  },
  {
   "cell_type": "code",
   "execution_count": 44,
   "id": "693b3461",
   "metadata": {
    "ExecuteTime": {
     "end_time": "2022-11-16T12:09:33.521428Z",
     "start_time": "2022-11-16T12:09:33.516095Z"
    }
   },
   "outputs": [
    {
     "data": {
      "text/plain": [
       "{}"
      ]
     },
     "execution_count": 44,
     "metadata": {},
     "output_type": "execute_result"
    }
   ],
   "source": [
    "not_empty_val.__dict__"
   ]
  },
  {
   "cell_type": "code",
   "execution_count": 45,
   "id": "be4cffc4",
   "metadata": {
    "ExecuteTime": {
     "end_time": "2022-11-16T12:09:59.751176Z",
     "start_time": "2022-11-16T12:09:59.745141Z"
    }
   },
   "outputs": [],
   "source": [
    "not_empty_val.imm_value = 'value of class example'"
   ]
  },
  {
   "cell_type": "code",
   "execution_count": 46,
   "id": "ab4c3630",
   "metadata": {
    "ExecuteTime": {
     "end_time": "2022-11-16T12:10:04.337626Z",
     "start_time": "2022-11-16T12:10:04.328024Z"
    }
   },
   "outputs": [
    {
     "data": {
      "text/plain": [
       "'value of class example'"
      ]
     },
     "execution_count": 46,
     "metadata": {},
     "output_type": "execute_result"
    }
   ],
   "source": [
    "not_empty_val.imm_value"
   ]
  },
  {
   "cell_type": "code",
   "execution_count": 47,
   "id": "59933b0e",
   "metadata": {
    "ExecuteTime": {
     "end_time": "2022-11-16T12:10:11.610042Z",
     "start_time": "2022-11-16T12:10:11.604194Z"
    }
   },
   "outputs": [
    {
     "data": {
      "text/plain": [
       "{'imm_value': 'value of class example'}"
      ]
     },
     "execution_count": 47,
     "metadata": {},
     "output_type": "execute_result"
    }
   ],
   "source": [
    "not_empty_val.__dict__"
   ]
  },
  {
   "cell_type": "code",
   "execution_count": 49,
   "id": "d34b7d8b",
   "metadata": {
    "ExecuteTime": {
     "end_time": "2022-11-16T12:11:03.037847Z",
     "start_time": "2022-11-16T12:11:03.032267Z"
    }
   },
   "outputs": [
    {
     "data": {
      "text/plain": [
       "mappingproxy({'__module__': '__main__',\n",
       "              'imm_value': 'immutable string',\n",
       "              'mut_value': [42, 'mutable'],\n",
       "              '__dict__': <attribute '__dict__' of 'NotEmpty' objects>,\n",
       "              '__weakref__': <attribute '__weakref__' of 'NotEmpty' objects>,\n",
       "              '__doc__': None})"
      ]
     },
     "execution_count": 49,
     "metadata": {},
     "output_type": "execute_result"
    }
   ],
   "source": [
    "NotEmpty.__dict__"
   ]
  },
  {
   "cell_type": "markdown",
   "id": "53f73abc",
   "metadata": {},
   "source": [
    "**Добавим метод**"
   ]
  },
  {
   "cell_type": "code",
   "execution_count": 50,
   "id": "939986e0",
   "metadata": {
    "ExecuteTime": {
     "end_time": "2022-11-16T12:11:52.019442Z",
     "start_time": "2022-11-16T12:11:52.014830Z"
    }
   },
   "outputs": [],
   "source": [
    "class DefinitelyNotEmpty:\n",
    "    value = 'some value'\n",
    "    \n",
    "    def func(*args):\n",
    "        return args"
   ]
  },
  {
   "cell_type": "code",
   "execution_count": 54,
   "id": "d4542a02",
   "metadata": {
    "ExecuteTime": {
     "end_time": "2022-11-16T12:13:17.478161Z",
     "start_time": "2022-11-16T12:13:17.473405Z"
    }
   },
   "outputs": [
    {
     "data": {
      "text/plain": [
       "()"
      ]
     },
     "execution_count": 54,
     "metadata": {},
     "output_type": "execute_result"
    }
   ],
   "source": [
    "DefinitelyNotEmpty.func()"
   ]
  },
  {
   "cell_type": "code",
   "execution_count": 52,
   "id": "1907eab6",
   "metadata": {
    "ExecuteTime": {
     "end_time": "2022-11-16T12:12:29.677705Z",
     "start_time": "2022-11-16T12:12:29.672398Z"
    }
   },
   "outputs": [
    {
     "data": {
      "text/plain": [
       "(14, 1337, (1, 2, 3), {'a': 8376})"
      ]
     },
     "execution_count": 52,
     "metadata": {},
     "output_type": "execute_result"
    }
   ],
   "source": [
    "DefinitelyNotEmpty.func(14, 1337, (1, 2, 3,), {'a': 8376})"
   ]
  },
  {
   "cell_type": "code",
   "execution_count": 53,
   "id": "7b2f6faf",
   "metadata": {
    "ExecuteTime": {
     "end_time": "2022-11-16T12:13:08.405561Z",
     "start_time": "2022-11-16T12:13:08.401316Z"
    }
   },
   "outputs": [],
   "source": [
    "def_not_empty_val = DefinitelyNotEmpty()"
   ]
  },
  {
   "cell_type": "markdown",
   "id": "f12eba99",
   "metadata": {},
   "source": [
    "Видим, что хотя мы не передавали никаких аргументов, при вызове метода от экземпляра класса у нас что-то передалось"
   ]
  },
  {
   "cell_type": "code",
   "execution_count": 55,
   "id": "d32ec0bb",
   "metadata": {
    "ExecuteTime": {
     "end_time": "2022-11-16T12:13:36.305553Z",
     "start_time": "2022-11-16T12:13:36.300374Z"
    }
   },
   "outputs": [
    {
     "data": {
      "text/plain": [
       "(<__main__.DefinitelyNotEmpty at 0x7f8877d6fbb0>,)"
      ]
     },
     "execution_count": 55,
     "metadata": {},
     "output_type": "execute_result"
    }
   ],
   "source": [
    "def_not_empty_val.func()"
   ]
  },
  {
   "cell_type": "code",
   "execution_count": 56,
   "id": "b03f3024",
   "metadata": {
    "ExecuteTime": {
     "end_time": "2022-11-16T12:13:48.176149Z",
     "start_time": "2022-11-16T12:13:48.170346Z"
    }
   },
   "outputs": [
    {
     "data": {
      "text/plain": [
       "(<__main__.DefinitelyNotEmpty at 0x7f8877d6fbb0>, 42, 1337, (1, 2, 3))"
      ]
     },
     "execution_count": 56,
     "metadata": {},
     "output_type": "execute_result"
    }
   ],
   "source": [
    "def_not_empty_val.func(42, 1337, (1, 2, 3,))"
   ]
  },
  {
   "cell_type": "code",
   "execution_count": 59,
   "id": "355e1a6a",
   "metadata": {
    "ExecuteTime": {
     "end_time": "2022-11-16T12:15:51.832339Z",
     "start_time": "2022-11-16T12:15:51.826487Z"
    }
   },
   "outputs": [
    {
     "data": {
      "text/plain": [
       "'0x7f8877d6fbb0'"
      ]
     },
     "execution_count": 59,
     "metadata": {},
     "output_type": "execute_result"
    }
   ],
   "source": [
    "hex(id(def_not_empty_val))"
   ]
  },
  {
   "cell_type": "code",
   "execution_count": 60,
   "id": "479742e8",
   "metadata": {
    "ExecuteTime": {
     "end_time": "2022-11-16T12:15:52.211304Z",
     "start_time": "2022-11-16T12:15:52.201157Z"
    }
   },
   "outputs": [
    {
     "data": {
      "text/plain": [
       "True"
      ]
     },
     "execution_count": 60,
     "metadata": {},
     "output_type": "execute_result"
    }
   ],
   "source": [
    "def_not_empty_val is def_not_empty_val.func()[0]"
   ]
  },
  {
   "cell_type": "markdown",
   "id": "b47c0a96",
   "metadata": {},
   "source": [
    "Это \"что-то\" -- ссылка на самого себя"
   ]
  },
  {
   "cell_type": "markdown",
   "id": "9111c860",
   "metadata": {
    "ExecuteTime": {
     "end_time": "2022-10-14T09:50:31.016158Z",
     "start_time": "2022-10-14T09:50:31.009828Z"
    }
   },
   "source": [
    "## Magics"
   ]
  },
  {
   "cell_type": "markdown",
   "id": "03ecf5ad",
   "metadata": {},
   "source": [
    "**The self**  \n",
    "Class methods must have an extra first parameter in the method definition. We do not give a value for this parameter when we call the method, Python provides it\n",
    "If we have a method that takes no arguments, then we still have to have one argument.\n",
    "This is similar to `this` pointer in C++ and `this` reference in Java.\n",
    "\n",
    "Если мы хотим, чтобы у нас при создании экземпляра класса уже были определены какие-то поля, мы используем функцию `__init__`"
   ]
  },
  {
   "cell_type": "code",
   "execution_count": 69,
   "id": "b0b99a73",
   "metadata": {
    "ExecuteTime": {
     "end_time": "2022-11-16T12:19:45.735663Z",
     "start_time": "2022-11-16T12:19:45.729229Z"
    }
   },
   "outputs": [],
   "source": [
    "class Complex:\n",
    "    SOME_CONST = 42\n",
    "    \n",
    "    def __init__(self, re: float = 0, im: float = 0):\n",
    "        self.re = re\n",
    "        self.im = im"
   ]
  },
  {
   "cell_type": "code",
   "execution_count": 70,
   "id": "fa998409",
   "metadata": {
    "ExecuteTime": {
     "end_time": "2022-11-16T12:19:46.768586Z",
     "start_time": "2022-11-16T12:19:46.762562Z"
    }
   },
   "outputs": [],
   "source": [
    "a = Complex(1, 2)"
   ]
  },
  {
   "cell_type": "code",
   "execution_count": 71,
   "id": "b11330f8",
   "metadata": {
    "ExecuteTime": {
     "end_time": "2022-11-16T12:19:54.343139Z",
     "start_time": "2022-11-16T12:19:54.337435Z"
    }
   },
   "outputs": [
    {
     "data": {
      "text/plain": [
       "(1, 2)"
      ]
     },
     "execution_count": 71,
     "metadata": {},
     "output_type": "execute_result"
    }
   ],
   "source": [
    "a.re, a.im"
   ]
  },
  {
   "cell_type": "code",
   "execution_count": 72,
   "id": "28bd5b71",
   "metadata": {
    "ExecuteTime": {
     "end_time": "2022-11-16T12:19:54.893796Z",
     "start_time": "2022-11-16T12:19:54.884009Z"
    }
   },
   "outputs": [
    {
     "data": {
      "text/plain": [
       "{'re': 1, 'im': 2}"
      ]
     },
     "execution_count": 72,
     "metadata": {},
     "output_type": "execute_result"
    }
   ],
   "source": [
    "a.__dict__"
   ]
  },
  {
   "cell_type": "markdown",
   "id": "a396822f",
   "metadata": {},
   "source": [
    "Пространства имен в Python -- это все еще просто словари "
   ]
  },
  {
   "cell_type": "code",
   "execution_count": 73,
   "id": "9447de91",
   "metadata": {
    "ExecuteTime": {
     "end_time": "2022-11-16T12:19:58.279316Z",
     "start_time": "2022-11-16T12:19:58.270311Z"
    }
   },
   "outputs": [
    {
     "data": {
      "text/plain": [
       "mappingproxy({'__module__': '__main__',\n",
       "              'SOME_CONST': 42,\n",
       "              '__init__': <function __main__.Complex.__init__(self, re: float = 0, im: float = 0)>,\n",
       "              '__dict__': <attribute '__dict__' of 'Complex' objects>,\n",
       "              '__weakref__': <attribute '__weakref__' of 'Complex' objects>,\n",
       "              '__doc__': None})"
      ]
     },
     "execution_count": 73,
     "metadata": {},
     "output_type": "execute_result"
    }
   ],
   "source": [
    "Complex.__dict__"
   ]
  },
  {
   "cell_type": "code",
   "execution_count": 76,
   "id": "b9b7cb9f",
   "metadata": {
    "ExecuteTime": {
     "end_time": "2022-11-16T12:20:53.430363Z",
     "start_time": "2022-11-16T12:20:53.425412Z"
    }
   },
   "outputs": [
    {
     "data": {
      "text/plain": [
       "1"
      ]
     },
     "execution_count": 76,
     "metadata": {},
     "output_type": "execute_result"
    }
   ],
   "source": [
    "getattr(a, 're')  # a.re"
   ]
  },
  {
   "cell_type": "code",
   "execution_count": 77,
   "id": "e0be69f8",
   "metadata": {
    "ExecuteTime": {
     "end_time": "2022-11-16T12:21:07.776700Z",
     "start_time": "2022-11-16T12:21:07.770976Z"
    }
   },
   "outputs": [],
   "source": [
    "setattr(a, 're', 10)  # a.re = 10"
   ]
  },
  {
   "cell_type": "code",
   "execution_count": 78,
   "id": "0ad39423",
   "metadata": {
    "ExecuteTime": {
     "end_time": "2022-11-16T12:21:11.510672Z",
     "start_time": "2022-11-16T12:21:11.505338Z"
    }
   },
   "outputs": [
    {
     "data": {
      "text/plain": [
       "{'re': 10, 'im': 2}"
      ]
     },
     "execution_count": 78,
     "metadata": {},
     "output_type": "execute_result"
    }
   ],
   "source": [
    "a.__dict__"
   ]
  },
  {
   "cell_type": "code",
   "execution_count": 79,
   "id": "5726a752",
   "metadata": {
    "ExecuteTime": {
     "end_time": "2022-11-16T12:21:43.864629Z",
     "start_time": "2022-11-16T12:21:43.858241Z"
    }
   },
   "outputs": [],
   "source": [
    "a.__dict__['some_value'] = 'some'"
   ]
  },
  {
   "cell_type": "code",
   "execution_count": 82,
   "id": "b502c657",
   "metadata": {
    "ExecuteTime": {
     "end_time": "2022-11-16T12:21:51.693113Z",
     "start_time": "2022-11-16T12:21:51.687586Z"
    }
   },
   "outputs": [
    {
     "data": {
      "text/plain": [
       "'some'"
      ]
     },
     "execution_count": 82,
     "metadata": {},
     "output_type": "execute_result"
    }
   ],
   "source": [
    "a.some_value"
   ]
  },
  {
   "cell_type": "markdown",
   "id": "303ac520",
   "metadata": {
    "ExecuteTime": {
     "end_time": "2022-11-16T13:17:06.475466Z",
     "start_time": "2022-11-16T13:17:06.469721Z"
    }
   },
   "source": [
    "Будем постепенно определять разные арифметические операции с попощью стандартных методов, имеющих вид `__method__`\n",
    "\n",
    "Они называются **magics**\n",
    "\n",
    "`__add__`, `__radd__` в данном примере одинаковы, поскольку для комплексных чисел операции коммутативны\n",
    "\n",
    "`__iadd__` и подобные будут inplace менять объект"
   ]
  },
  {
   "cell_type": "code",
   "execution_count": 88,
   "id": "d2e4957d",
   "metadata": {
    "ExecuteTime": {
     "end_time": "2022-11-16T12:25:54.135407Z",
     "start_time": "2022-11-16T12:25:54.130277Z"
    }
   },
   "outputs": [],
   "source": [
    "class Complex:\n",
    "    def __init__(self, re: float = 0, im: float = 0):\n",
    "        self.re = re\n",
    "        self.im = im\n",
    "        \n",
    "    def __add__(self, other):\n",
    "        return self.__class__(self.re + other.re, self.im + other.im)  # Complex(self.re + other.re, self.im + other.im)\n",
    "    "
   ]
  },
  {
   "cell_type": "code",
   "execution_count": 89,
   "id": "5202f126",
   "metadata": {
    "ExecuteTime": {
     "end_time": "2022-11-16T12:26:13.174560Z",
     "start_time": "2022-11-16T12:26:13.168141Z"
    }
   },
   "outputs": [],
   "source": [
    "a = Complex(1, 2)\n",
    "b = Complex(42, 1)"
   ]
  },
  {
   "cell_type": "code",
   "execution_count": 90,
   "id": "90868c33",
   "metadata": {
    "ExecuteTime": {
     "end_time": "2022-11-16T12:26:21.435311Z",
     "start_time": "2022-11-16T12:26:21.429095Z"
    }
   },
   "outputs": [],
   "source": [
    "c = a + b"
   ]
  },
  {
   "cell_type": "code",
   "execution_count": 92,
   "id": "27db20a3",
   "metadata": {
    "ExecuteTime": {
     "end_time": "2022-11-16T12:26:37.013209Z",
     "start_time": "2022-11-16T12:26:37.007976Z"
    }
   },
   "outputs": [
    {
     "data": {
      "text/plain": [
       "(43, 3)"
      ]
     },
     "execution_count": 92,
     "metadata": {},
     "output_type": "execute_result"
    }
   ],
   "source": [
    "c.re, c.im"
   ]
  },
  {
   "cell_type": "code",
   "execution_count": 93,
   "id": "78c47236",
   "metadata": {
    "ExecuteTime": {
     "end_time": "2022-11-16T12:27:21.278299Z",
     "start_time": "2022-11-16T12:27:21.273736Z"
    }
   },
   "outputs": [
    {
     "data": {
      "text/plain": [
       "<__main__.Complex at 0x7f8877da6460>"
      ]
     },
     "execution_count": 93,
     "metadata": {},
     "output_type": "execute_result"
    }
   ],
   "source": [
    "a.__add__(b)"
   ]
  },
  {
   "cell_type": "code",
   "execution_count": 94,
   "id": "e03c9644",
   "metadata": {
    "ExecuteTime": {
     "end_time": "2022-11-16T12:29:52.735845Z",
     "start_time": "2022-11-16T12:29:52.729164Z"
    }
   },
   "outputs": [],
   "source": [
    "a += b"
   ]
  },
  {
   "cell_type": "code",
   "execution_count": 96,
   "id": "197eb3df",
   "metadata": {
    "ExecuteTime": {
     "end_time": "2022-11-16T12:30:00.474352Z",
     "start_time": "2022-11-16T12:30:00.468976Z"
    }
   },
   "outputs": [
    {
     "data": {
      "text/plain": [
       "(43, 3)"
      ]
     },
     "execution_count": 96,
     "metadata": {},
     "output_type": "execute_result"
    }
   ],
   "source": [
    "a.re, a.im"
   ]
  },
  {
   "cell_type": "code",
   "execution_count": 97,
   "id": "6b01ff95",
   "metadata": {
    "ExecuteTime": {
     "end_time": "2022-11-16T12:30:12.348700Z",
     "start_time": "2022-11-16T12:30:12.343685Z"
    }
   },
   "outputs": [
    {
     "data": {
      "text/plain": [
       "140224098909104"
      ]
     },
     "execution_count": 97,
     "metadata": {},
     "output_type": "execute_result"
    }
   ],
   "source": [
    "id(a)"
   ]
  },
  {
   "cell_type": "code",
   "execution_count": 98,
   "id": "63633d47",
   "metadata": {
    "ExecuteTime": {
     "end_time": "2022-11-16T12:30:18.905532Z",
     "start_time": "2022-11-16T12:30:18.899889Z"
    }
   },
   "outputs": [],
   "source": [
    "a += b"
   ]
  },
  {
   "cell_type": "code",
   "execution_count": 99,
   "id": "54880496",
   "metadata": {
    "ExecuteTime": {
     "end_time": "2022-11-16T12:30:21.566648Z",
     "start_time": "2022-11-16T12:30:21.557779Z"
    }
   },
   "outputs": [
    {
     "data": {
      "text/plain": [
       "140224089875072"
      ]
     },
     "execution_count": 99,
     "metadata": {},
     "output_type": "execute_result"
    }
   ],
   "source": [
    "id(a)"
   ]
  },
  {
   "cell_type": "code",
   "execution_count": 231,
   "id": "35be888a",
   "metadata": {
    "ExecuteTime": {
     "end_time": "2022-11-16T13:18:00.570989Z",
     "start_time": "2022-11-16T13:18:00.564857Z"
    }
   },
   "outputs": [],
   "source": [
    "class Complex:\n",
    "    def __init__(self, re: float = 0, im: float = 0):\n",
    "        self.re = re\n",
    "        self.im = im\n",
    "        \n",
    "    def __add__(self, other):\n",
    "        '''\n",
    "        self + other, where both self and other are Complex\n",
    "        '''\n",
    "        return self.__class__(self.re + other.re, self.im + other.im)  # Complex(self.re + other.re, self.im + other.im)\n",
    "    \n",
    "    def __iadd__(self, other):\n",
    "        '''\n",
    "        self += other, where both self and other are Complex\n",
    "        '''\n",
    "        self.re += other.re\n",
    "        self.im += other.im\n",
    "        \n",
    "        return self"
   ]
  },
  {
   "cell_type": "code",
   "execution_count": 106,
   "id": "521662db",
   "metadata": {
    "ExecuteTime": {
     "end_time": "2022-11-16T12:32:00.744311Z",
     "start_time": "2022-11-16T12:32:00.737605Z"
    }
   },
   "outputs": [],
   "source": [
    "a = Complex(1, 2)\n",
    "b = Complex(42, 1)"
   ]
  },
  {
   "cell_type": "code",
   "execution_count": 107,
   "id": "1524b97b",
   "metadata": {
    "ExecuteTime": {
     "end_time": "2022-11-16T12:32:00.974990Z",
     "start_time": "2022-11-16T12:32:00.965225Z"
    }
   },
   "outputs": [
    {
     "data": {
      "text/plain": [
       "<__main__.Complex at 0x7f887710ef10>"
      ]
     },
     "execution_count": 107,
     "metadata": {},
     "output_type": "execute_result"
    }
   ],
   "source": [
    "a + b"
   ]
  },
  {
   "cell_type": "code",
   "execution_count": 110,
   "id": "0270d2ee",
   "metadata": {
    "ExecuteTime": {
     "end_time": "2022-11-16T12:32:10.339448Z",
     "start_time": "2022-11-16T12:32:10.333816Z"
    }
   },
   "outputs": [
    {
     "data": {
      "text/plain": [
       "140224089876944"
      ]
     },
     "execution_count": 110,
     "metadata": {},
     "output_type": "execute_result"
    }
   ],
   "source": [
    "id(a)"
   ]
  },
  {
   "cell_type": "code",
   "execution_count": 111,
   "id": "96e171f2",
   "metadata": {
    "ExecuteTime": {
     "end_time": "2022-11-16T12:32:10.655432Z",
     "start_time": "2022-11-16T12:32:10.649146Z"
    }
   },
   "outputs": [],
   "source": [
    "a += b"
   ]
  },
  {
   "cell_type": "code",
   "execution_count": 112,
   "id": "ea2c0b71",
   "metadata": {
    "ExecuteTime": {
     "end_time": "2022-11-16T12:32:13.432498Z",
     "start_time": "2022-11-16T12:32:13.427315Z"
    }
   },
   "outputs": [
    {
     "data": {
      "text/plain": [
       "140224089876944"
      ]
     },
     "execution_count": 112,
     "metadata": {},
     "output_type": "execute_result"
    }
   ],
   "source": [
    "id(a)"
   ]
  },
  {
   "cell_type": "code",
   "execution_count": 190,
   "id": "71fbf0a0",
   "metadata": {
    "ExecuteTime": {
     "end_time": "2022-11-16T12:54:15.435512Z",
     "start_time": "2022-11-16T12:54:15.426820Z"
    }
   },
   "outputs": [],
   "source": [
    "class Complex:\n",
    "    def __init__(self, re: float = 0, im: float = 0):\n",
    "        self.re = re\n",
    "        self.im = im\n",
    "        \n",
    "    def __add__(self, other):\n",
    "        if isinstance(other, Complex):\n",
    "            return type(self)(self.re + other.re, self.im + other.im)  \n",
    "        \n",
    "        # Возвращаем новый объект класса Complex. То же самое, что:\n",
    "        # Complex(self.re + other.re, self.im + other.im)\n",
    "        # self.__class__(self.re + other.re, self.im + other.im) \n",
    "    \n",
    "        elif isinstance(other, (int, float)):\n",
    "            return type(self)(self.re + other, self.im)\n",
    "        \n",
    "        elif isinstance(other, complex):\n",
    "            return type(self)(self.re + other.real, self.im + other.imag)\n",
    "        \n",
    "        else:\n",
    "            raise TypeError(f'Cannot add {self.__class__.__name__} with {other.__class__.__name__}!')\n",
    "        \n",
    "    \n",
    "    def __iadd__(self, other):\n",
    "        if isinstance(other, Complex):\n",
    "            self.re += other.re\n",
    "            self.im += other.im\n",
    "        \n",
    "        elif isinstance(other, (int, float)):\n",
    "            self.re += other\n",
    "        \n",
    "        elif isinstance(other, complex):\n",
    "            self.re += other.real\n",
    "            self.im += other.imag\n",
    "            \n",
    "        else:\n",
    "            raise TypeError(f'Cannot add {self.__class__.__name__} with {other.__class__.__name__}!')\n",
    "\n",
    "\n",
    "        return self\n",
    "    \n",
    "    def __radd__(self, other):\n",
    "        '''\n",
    "        other + self, self object is the right operand here\n",
    "        '''\n",
    "        return self + other\n",
    "    \n",
    "    \n",
    "    def __sub__(self, other):\n",
    "        if isinstance(other, Complex):\n",
    "            return type(self)(self.re - other.re, self.im - other.im)  \n",
    "    \n",
    "        elif isinstance(other, (int, float)):\n",
    "            return type(self)(self.re - other, self.im)\n",
    "        \n",
    "        elif isinstance(other, complex):\n",
    "            return type(self)(self.re - other.real, self.im - other.imag)\n",
    "        \n",
    "        else:\n",
    "            raise TypeError(f'Cannot sub {self.__class__.__name__} with {other.__class__.__name__}!')\n",
    "        \n",
    "    \n",
    "    def __isub__(self, other):\n",
    "        if isinstance(other, Complex):\n",
    "            self.re -= other.re\n",
    "            self.im -= other.im\n",
    "        \n",
    "        elif isinstance(other, (int, float)):\n",
    "            self.re -= other\n",
    "        \n",
    "        elif isinstance(other, complex):\n",
    "            self.re -= other.real\n",
    "            self.im -= other.imag\n",
    "            \n",
    "        else:\n",
    "            raise TypeError(f'Cannot sub {self.__class__.__name__} with {other.__class__.__name__}!')\n",
    "\n",
    "\n",
    "        return self\n",
    "    \n",
    "    def __rsub__(self, other):\n",
    "        return other - self\n",
    "    \n",
    "    # mul, imul, rmul...\n",
    "    \n",
    "    def __pos__(self):\n",
    "        return self\n",
    "    \n",
    "    def __neg__(self):\n",
    "        return type(self)(-self.re, -self.im)\n",
    "    \n",
    "    def __int__(self):\n",
    "        return int(self.re)\n",
    "    \n",
    "    def __float__(self):\n",
    "        return float(self.re)\n",
    "    \n",
    "    def __repr__(self):\n",
    "        return f'Complex({self.re}, {self.im})'\n",
    "    \n",
    "    def __str__(self):\n",
    "        if self.im >= 0:\n",
    "            return f'{self.re} + {self.im}i'\n",
    "        \n",
    "        else:\n",
    "            return f'{self.re} - {-self.im}i'"
   ]
  },
  {
   "cell_type": "code",
   "execution_count": 191,
   "id": "909dbbaa",
   "metadata": {
    "ExecuteTime": {
     "end_time": "2022-11-16T12:54:16.678096Z",
     "start_time": "2022-11-16T12:54:16.671859Z"
    }
   },
   "outputs": [],
   "source": [
    "a = Complex(42, 12)\n",
    "b = Complex(-1, 3)\n",
    "c = complex(4, 4)"
   ]
  },
  {
   "cell_type": "code",
   "execution_count": 163,
   "id": "8fdf0581",
   "metadata": {
    "ExecuteTime": {
     "end_time": "2022-11-16T12:49:13.638872Z",
     "start_time": "2022-11-16T12:49:13.633377Z"
    }
   },
   "outputs": [
    {
     "data": {
      "text/plain": [
       "(Complex(46, 12), '46 + 12i')"
      ]
     },
     "execution_count": 163,
     "metadata": {},
     "output_type": "execute_result"
    }
   ],
   "source": [
    "a + 4, str(a + 4)"
   ]
  },
  {
   "cell_type": "code",
   "execution_count": 164,
   "id": "1d196743",
   "metadata": {
    "ExecuteTime": {
     "end_time": "2022-11-16T12:49:13.726420Z",
     "start_time": "2022-11-16T12:49:13.722115Z"
    }
   },
   "outputs": [
    {
     "data": {
      "text/plain": [
       "Complex(46.9, 12)"
      ]
     },
     "execution_count": 164,
     "metadata": {},
     "output_type": "execute_result"
    }
   ],
   "source": [
    "a + 4.9"
   ]
  },
  {
   "cell_type": "code",
   "execution_count": 165,
   "id": "f22e1ec0",
   "metadata": {
    "ExecuteTime": {
     "end_time": "2022-11-16T12:49:13.845194Z",
     "start_time": "2022-11-16T12:49:13.836523Z"
    }
   },
   "outputs": [
    {
     "data": {
      "text/plain": [
       "Complex(41, 15)"
      ]
     },
     "execution_count": 165,
     "metadata": {},
     "output_type": "execute_result"
    }
   ],
   "source": [
    "a + b"
   ]
  },
  {
   "cell_type": "code",
   "execution_count": 166,
   "id": "798c055f",
   "metadata": {
    "ExecuteTime": {
     "end_time": "2022-11-16T12:49:13.973741Z",
     "start_time": "2022-11-16T12:49:13.965313Z"
    }
   },
   "outputs": [
    {
     "data": {
      "text/plain": [
       "Complex(46.0, 16.0)"
      ]
     },
     "execution_count": 166,
     "metadata": {},
     "output_type": "execute_result"
    }
   ],
   "source": [
    "a + c"
   ]
  },
  {
   "cell_type": "code",
   "execution_count": 167,
   "id": "a11724e7",
   "metadata": {
    "ExecuteTime": {
     "end_time": "2022-11-16T12:49:14.421901Z",
     "start_time": "2022-11-16T12:49:14.401292Z"
    }
   },
   "outputs": [
    {
     "ename": "TypeError",
     "evalue": "Cannot add Complex with str!",
     "output_type": "error",
     "traceback": [
      "\u001b[0;31m---------------------------------------------------------------------------\u001b[0m",
      "\u001b[0;31mTypeError\u001b[0m                                 Traceback (most recent call last)",
      "Cell \u001b[0;32mIn [167], line 1\u001b[0m\n\u001b[0;32m----> 1\u001b[0m a \u001b[38;5;241m+\u001b[39m \u001b[38;5;124m'\u001b[39m\u001b[38;5;124msajfhasklfh\u001b[39m\u001b[38;5;124m'\u001b[39m\n",
      "Cell \u001b[0;32mIn [161], line 17\u001b[0m, in \u001b[0;36mComplex.__add__\u001b[0;34m(self, other)\u001b[0m\n\u001b[1;32m     14\u001b[0m     \u001b[38;5;28;01mreturn\u001b[39;00m \u001b[38;5;28mself\u001b[39m\u001b[38;5;241m.\u001b[39m\u001b[38;5;18m__class__\u001b[39m(\u001b[38;5;28mself\u001b[39m\u001b[38;5;241m.\u001b[39mre \u001b[38;5;241m+\u001b[39m other\u001b[38;5;241m.\u001b[39mreal, \u001b[38;5;28mself\u001b[39m\u001b[38;5;241m.\u001b[39mim \u001b[38;5;241m+\u001b[39m other\u001b[38;5;241m.\u001b[39mimag)\n\u001b[1;32m     16\u001b[0m \u001b[38;5;28;01melse\u001b[39;00m:\n\u001b[0;32m---> 17\u001b[0m     \u001b[38;5;28;01mraise\u001b[39;00m \u001b[38;5;167;01mTypeError\u001b[39;00m(\u001b[38;5;124mf\u001b[39m\u001b[38;5;124m'\u001b[39m\u001b[38;5;124mCannot add \u001b[39m\u001b[38;5;132;01m{\u001b[39;00m\u001b[38;5;28mself\u001b[39m\u001b[38;5;241m.\u001b[39m\u001b[38;5;18m__class__\u001b[39m\u001b[38;5;241m.\u001b[39m\u001b[38;5;18m__name__\u001b[39m\u001b[38;5;132;01m}\u001b[39;00m\u001b[38;5;124m with \u001b[39m\u001b[38;5;132;01m{\u001b[39;00mother\u001b[38;5;241m.\u001b[39m\u001b[38;5;18m__class__\u001b[39m\u001b[38;5;241m.\u001b[39m\u001b[38;5;18m__name__\u001b[39m\u001b[38;5;132;01m}\u001b[39;00m\u001b[38;5;124m!\u001b[39m\u001b[38;5;124m'\u001b[39m)\n",
      "\u001b[0;31mTypeError\u001b[0m: Cannot add Complex with str!"
     ]
    }
   ],
   "source": [
    "a + 'sajfhasklfh'"
   ]
  },
  {
   "cell_type": "code",
   "execution_count": 168,
   "id": "49de8091",
   "metadata": {
    "ExecuteTime": {
     "end_time": "2022-11-16T12:49:15.937625Z",
     "start_time": "2022-11-16T12:49:15.928402Z"
    }
   },
   "outputs": [
    {
     "data": {
      "text/plain": [
       "Complex(84, 12)"
      ]
     },
     "execution_count": 168,
     "metadata": {},
     "output_type": "execute_result"
    }
   ],
   "source": [
    "a + 42"
   ]
  },
  {
   "cell_type": "code",
   "execution_count": 157,
   "id": "e509939d",
   "metadata": {
    "ExecuteTime": {
     "end_time": "2022-11-16T12:46:21.564145Z",
     "start_time": "2022-11-16T12:46:21.556921Z"
    }
   },
   "outputs": [
    {
     "data": {
      "text/plain": [
       "Complex(84, 12)"
      ]
     },
     "execution_count": 157,
     "metadata": {},
     "output_type": "execute_result"
    }
   ],
   "source": [
    "42 + a"
   ]
  },
  {
   "cell_type": "code",
   "execution_count": 158,
   "id": "4a6b343d",
   "metadata": {
    "ExecuteTime": {
     "end_time": "2022-11-16T12:46:54.832924Z",
     "start_time": "2022-11-16T12:46:54.827735Z"
    }
   },
   "outputs": [
    {
     "data": {
      "text/plain": [
       "NotImplemented"
      ]
     },
     "execution_count": 158,
     "metadata": {},
     "output_type": "execute_result"
    }
   ],
   "source": [
    "(42).__add__(a)"
   ]
  },
  {
   "cell_type": "code",
   "execution_count": 159,
   "id": "651d2f02",
   "metadata": {
    "ExecuteTime": {
     "end_time": "2022-11-16T12:47:19.646199Z",
     "start_time": "2022-11-16T12:47:19.641404Z"
    }
   },
   "outputs": [
    {
     "data": {
      "text/plain": [
       "Complex(84, 12)"
      ]
     },
     "execution_count": 159,
     "metadata": {},
     "output_type": "execute_result"
    }
   ],
   "source": [
    "a.__radd__(42)"
   ]
  },
  {
   "cell_type": "code",
   "execution_count": 169,
   "id": "a9b10bc8",
   "metadata": {
    "ExecuteTime": {
     "end_time": "2022-11-16T12:49:17.674110Z",
     "start_time": "2022-11-16T12:49:17.669285Z"
    }
   },
   "outputs": [
    {
     "data": {
      "text/plain": [
       "Complex(43, 9)"
      ]
     },
     "execution_count": 169,
     "metadata": {},
     "output_type": "execute_result"
    }
   ],
   "source": [
    "a - b"
   ]
  },
  {
   "cell_type": "code",
   "execution_count": 172,
   "id": "5ab1a6c6",
   "metadata": {
    "ExecuteTime": {
     "end_time": "2022-11-16T12:49:30.542177Z",
     "start_time": "2022-11-16T12:49:30.533043Z"
    }
   },
   "outputs": [
    {
     "data": {
      "text/plain": [
       "Complex(-43, -9)"
      ]
     },
     "execution_count": 172,
     "metadata": {},
     "output_type": "execute_result"
    }
   ],
   "source": [
    "b - a"
   ]
  },
  {
   "cell_type": "code",
   "execution_count": 193,
   "id": "b727f044",
   "metadata": {
    "ExecuteTime": {
     "end_time": "2022-11-16T12:54:20.413958Z",
     "start_time": "2022-11-16T12:54:20.408727Z"
    }
   },
   "outputs": [
    {
     "data": {
      "text/plain": [
       "(Complex(42, 12), Complex(-42, -12))"
      ]
     },
     "execution_count": 193,
     "metadata": {},
     "output_type": "execute_result"
    }
   ],
   "source": [
    "+a, -a"
   ]
  },
  {
   "cell_type": "code",
   "execution_count": 192,
   "id": "48b9ab07",
   "metadata": {
    "ExecuteTime": {
     "end_time": "2022-11-16T12:54:18.637227Z",
     "start_time": "2022-11-16T12:54:18.630765Z"
    }
   },
   "outputs": [
    {
     "data": {
      "text/plain": [
       "42.0"
      ]
     },
     "execution_count": 192,
     "metadata": {},
     "output_type": "execute_result"
    }
   ],
   "source": [
    "float(a)"
   ]
  },
  {
   "cell_type": "markdown",
   "id": "0bf9ee3a",
   "metadata": {},
   "source": [
    "## Копирование объектов"
   ]
  },
  {
   "cell_type": "code",
   "execution_count": 194,
   "id": "addc0e38",
   "metadata": {
    "ExecuteTime": {
     "end_time": "2022-11-16T12:55:19.875755Z",
     "start_time": "2022-11-16T12:55:19.871671Z"
    }
   },
   "outputs": [
    {
     "name": "stdout",
     "output_type": "stream",
     "text": [
      "4 + 10i\n"
     ]
    }
   ],
   "source": [
    "a = Complex(4, 10)\n",
    "print(a)"
   ]
  },
  {
   "cell_type": "code",
   "execution_count": 199,
   "id": "b686df46",
   "metadata": {
    "ExecuteTime": {
     "end_time": "2022-11-16T12:56:09.376510Z",
     "start_time": "2022-11-16T12:56:09.370218Z"
    }
   },
   "outputs": [],
   "source": [
    "b = a\n",
    "\n",
    "b.re = -1"
   ]
  },
  {
   "cell_type": "code",
   "execution_count": 200,
   "id": "de2ad5d3",
   "metadata": {
    "ExecuteTime": {
     "end_time": "2022-11-16T12:56:09.921110Z",
     "start_time": "2022-11-16T12:56:09.915759Z"
    }
   },
   "outputs": [
    {
     "data": {
      "text/plain": [
       "(Complex(-1, 10), Complex(-1, 10))"
      ]
     },
     "execution_count": 200,
     "metadata": {},
     "output_type": "execute_result"
    }
   ],
   "source": [
    "a, b"
   ]
  },
  {
   "cell_type": "code",
   "execution_count": 201,
   "id": "6d476639",
   "metadata": {
    "ExecuteTime": {
     "end_time": "2022-11-16T12:56:17.645518Z",
     "start_time": "2022-11-16T12:56:17.640379Z"
    }
   },
   "outputs": [
    {
     "data": {
      "text/plain": [
       "(140224089105552, 140224089105552)"
      ]
     },
     "execution_count": 201,
     "metadata": {},
     "output_type": "execute_result"
    }
   ],
   "source": [
    "id(a), id(b)"
   ]
  },
  {
   "cell_type": "code",
   "execution_count": 202,
   "id": "37f8e10d",
   "metadata": {
    "ExecuteTime": {
     "end_time": "2022-11-16T12:56:23.072776Z",
     "start_time": "2022-11-16T12:56:23.067495Z"
    }
   },
   "outputs": [
    {
     "data": {
      "text/plain": [
       "True"
      ]
     },
     "execution_count": 202,
     "metadata": {},
     "output_type": "execute_result"
    }
   ],
   "source": [
    "a is b"
   ]
  },
  {
   "cell_type": "code",
   "execution_count": 206,
   "id": "74c85dd2",
   "metadata": {
    "ExecuteTime": {
     "end_time": "2022-11-16T12:57:49.435141Z",
     "start_time": "2022-11-16T12:57:49.429118Z"
    }
   },
   "outputs": [
    {
     "name": "stdout",
     "output_type": "stream",
     "text": [
      "4 + 7i\n"
     ]
    },
    {
     "data": {
      "text/plain": [
       "(Complex(4, 7), Complex(3, 7))"
      ]
     },
     "execution_count": 206,
     "metadata": {},
     "output_type": "execute_result"
    }
   ],
   "source": [
    "import copy\n",
    "\n",
    "a = Complex(4, 7)\n",
    "print(a)\n",
    "\n",
    "b = copy.copy(a)\n",
    "b.re -= 1\n",
    "\n",
    "a, b"
   ]
  },
  {
   "cell_type": "code",
   "execution_count": 208,
   "id": "d0df470e",
   "metadata": {
    "ExecuteTime": {
     "end_time": "2022-11-16T12:58:36.827843Z",
     "start_time": "2022-11-16T12:58:36.821163Z"
    }
   },
   "outputs": [
    {
     "data": {
      "text/plain": [
       "([42], [42])"
      ]
     },
     "execution_count": 208,
     "metadata": {},
     "output_type": "execute_result"
    }
   ],
   "source": [
    "a.mutable_field = []\n",
    "\n",
    "b = copy.copy(a)\n",
    "b.mutable_field.append(42)\n",
    "\n",
    "a.mutable_field, b.mutable_field"
   ]
  },
  {
   "cell_type": "code",
   "execution_count": 209,
   "id": "4fd6ba82",
   "metadata": {
    "ExecuteTime": {
     "end_time": "2022-11-16T12:58:44.177093Z",
     "start_time": "2022-11-16T12:58:44.171785Z"
    }
   },
   "outputs": [
    {
     "data": {
      "text/plain": [
       "False"
      ]
     },
     "execution_count": 209,
     "metadata": {},
     "output_type": "execute_result"
    }
   ],
   "source": [
    "a is b"
   ]
  },
  {
   "cell_type": "code",
   "execution_count": 211,
   "id": "90c41cad",
   "metadata": {
    "ExecuteTime": {
     "end_time": "2022-11-16T12:59:30.474227Z",
     "start_time": "2022-11-16T12:59:30.466728Z"
    }
   },
   "outputs": [],
   "source": [
    "for field in a.__dict__:\n",
    "    assert getattr(a, field) is getattr(b, field)"
   ]
  },
  {
   "cell_type": "code",
   "execution_count": 212,
   "id": "d71cf18a",
   "metadata": {
    "ExecuteTime": {
     "end_time": "2022-11-16T12:59:40.569374Z",
     "start_time": "2022-11-16T12:59:40.559646Z"
    }
   },
   "outputs": [
    {
     "data": {
      "text/plain": [
       "True"
      ]
     },
     "execution_count": 212,
     "metadata": {},
     "output_type": "execute_result"
    }
   ],
   "source": [
    "a.im is b.im"
   ]
  },
  {
   "cell_type": "markdown",
   "id": "e1ccec73",
   "metadata": {},
   "source": [
    "Пример на copy и deepcopy.\n",
    "\n",
    "При использовании `copy` поля будут переданы по ссылке, хотя сами объекты уже будут разными. А при использовании `deepcopy` -- будет сделана честная копия и всех полей"
   ]
  },
  {
   "cell_type": "code",
   "execution_count": 213,
   "id": "04b290c4",
   "metadata": {
    "ExecuteTime": {
     "end_time": "2022-11-16T13:00:32.399804Z",
     "start_time": "2022-11-16T13:00:32.394449Z"
    }
   },
   "outputs": [],
   "source": [
    "class Bus:\n",
    "    def __init__(self, passengers=None):\n",
    "        if passengers is None:\n",
    "            self.passengers = []\n",
    "        else:\n",
    "            self.passengers = list(passengers)\n",
    "            \n",
    "    def pick(self, name):\n",
    "        self.passengers.append(name)\n",
    "    \n",
    "    def drop(self, name):\n",
    "        self.passengers.remove(name)"
   ]
  },
  {
   "cell_type": "code",
   "execution_count": 214,
   "id": "c9dd2d17",
   "metadata": {
    "ExecuteTime": {
     "end_time": "2022-11-16T13:01:05.740199Z",
     "start_time": "2022-11-16T13:01:05.735414Z"
    }
   },
   "outputs": [],
   "source": [
    "bus_one = Bus(['Alice', 'Bob', 'Chel'])\n",
    "bus_two = copy.copy(bus_one)\n",
    "bus_three = copy.deepcopy(bus_one)"
   ]
  },
  {
   "cell_type": "code",
   "execution_count": 215,
   "id": "a6869373",
   "metadata": {
    "ExecuteTime": {
     "end_time": "2022-11-16T13:01:28.315530Z",
     "start_time": "2022-11-16T13:01:28.309324Z"
    }
   },
   "outputs": [
    {
     "data": {
      "text/plain": [
       "(['Alice', 'Bob', 'Chel'], ['Alice', 'Bob', 'Chel'], ['Alice', 'Bob', 'Chel'])"
      ]
     },
     "execution_count": 215,
     "metadata": {},
     "output_type": "execute_result"
    }
   ],
   "source": [
    "bus_one.passengers, bus_two.passengers, bus_three.passengers"
   ]
  },
  {
   "cell_type": "code",
   "execution_count": 216,
   "id": "e8df0c56",
   "metadata": {
    "ExecuteTime": {
     "end_time": "2022-11-16T13:01:46.298924Z",
     "start_time": "2022-11-16T13:01:46.294736Z"
    }
   },
   "outputs": [],
   "source": [
    "bus_one.drop('Bob')"
   ]
  },
  {
   "cell_type": "code",
   "execution_count": 217,
   "id": "d3bfa4ec",
   "metadata": {
    "ExecuteTime": {
     "end_time": "2022-11-16T13:01:51.329853Z",
     "start_time": "2022-11-16T13:01:51.323664Z"
    }
   },
   "outputs": [
    {
     "data": {
      "text/plain": [
       "(['Alice', 'Chel'], ['Alice', 'Chel'], ['Alice', 'Bob', 'Chel'])"
      ]
     },
     "execution_count": 217,
     "metadata": {},
     "output_type": "execute_result"
    }
   ],
   "source": [
    "bus_one.passengers, bus_two.passengers, bus_three.passengers"
   ]
  },
  {
   "cell_type": "code",
   "execution_count": 218,
   "id": "fa83878a",
   "metadata": {
    "ExecuteTime": {
     "end_time": "2022-11-16T13:02:06.777082Z",
     "start_time": "2022-11-16T13:02:06.771559Z"
    }
   },
   "outputs": [
    {
     "data": {
      "text/plain": [
       "False"
      ]
     },
     "execution_count": 218,
     "metadata": {},
     "output_type": "execute_result"
    }
   ],
   "source": [
    "bus_two is bus_one"
   ]
  },
  {
   "cell_type": "code",
   "execution_count": 219,
   "id": "5b782887",
   "metadata": {
    "ExecuteTime": {
     "end_time": "2022-11-16T13:02:17.458074Z",
     "start_time": "2022-11-16T13:02:17.452635Z"
    }
   },
   "outputs": [
    {
     "data": {
      "text/plain": [
       "True"
      ]
     },
     "execution_count": 219,
     "metadata": {},
     "output_type": "execute_result"
    }
   ],
   "source": [
    "bus_two.passengers is bus_one.passengers"
   ]
  },
  {
   "cell_type": "code",
   "execution_count": 220,
   "id": "84dead89",
   "metadata": {
    "ExecuteTime": {
     "end_time": "2022-11-16T13:02:25.932569Z",
     "start_time": "2022-11-16T13:02:25.923561Z"
    }
   },
   "outputs": [
    {
     "data": {
      "text/plain": [
       "False"
      ]
     },
     "execution_count": 220,
     "metadata": {},
     "output_type": "execute_result"
    }
   ],
   "source": [
    "bus_one is bus_three"
   ]
  },
  {
   "cell_type": "code",
   "execution_count": 221,
   "id": "cbfb9683",
   "metadata": {
    "ExecuteTime": {
     "end_time": "2022-11-16T13:02:44.349418Z",
     "start_time": "2022-11-16T13:02:44.340429Z"
    }
   },
   "outputs": [
    {
     "data": {
      "text/plain": [
       "False"
      ]
     },
     "execution_count": 221,
     "metadata": {},
     "output_type": "execute_result"
    }
   ],
   "source": [
    "bus_three.passengers is bus_one.passengers"
   ]
  },
  {
   "cell_type": "markdown",
   "id": "a6cf1331",
   "metadata": {},
   "source": [
    "`__copy__`, `__deepcopy__`"
   ]
  },
  {
   "cell_type": "code",
   "execution_count": 222,
   "id": "0d33bea4",
   "metadata": {
    "ExecuteTime": {
     "end_time": "2022-11-16T13:05:44.815611Z",
     "start_time": "2022-11-16T13:05:44.809820Z"
    }
   },
   "outputs": [],
   "source": [
    "class A:\n",
    "    pass"
   ]
  },
  {
   "cell_type": "code",
   "execution_count": 223,
   "id": "950de10f",
   "metadata": {
    "ExecuteTime": {
     "end_time": "2022-11-16T13:05:50.985134Z",
     "start_time": "2022-11-16T13:05:50.979761Z"
    }
   },
   "outputs": [],
   "source": [
    "a = A()"
   ]
  },
  {
   "cell_type": "code",
   "execution_count": 224,
   "id": "b616d602",
   "metadata": {
    "ExecuteTime": {
     "end_time": "2022-11-16T13:06:07.997277Z",
     "start_time": "2022-11-16T13:06:07.990854Z"
    }
   },
   "outputs": [],
   "source": [
    "a.bus = Bus(['Alice', 'Bob', 'Chel'])"
   ]
  },
  {
   "cell_type": "code",
   "execution_count": 227,
   "id": "60539d99",
   "metadata": {
    "ExecuteTime": {
     "end_time": "2022-11-16T13:06:23.897581Z",
     "start_time": "2022-11-16T13:06:23.891011Z"
    }
   },
   "outputs": [],
   "source": [
    "b = copy.deepcopy(a)"
   ]
  },
  {
   "cell_type": "code",
   "execution_count": 229,
   "id": "0ad85a7a",
   "metadata": {
    "ExecuteTime": {
     "end_time": "2022-11-16T13:06:42.833325Z",
     "start_time": "2022-11-16T13:06:42.827684Z"
    }
   },
   "outputs": [
    {
     "data": {
      "text/plain": [
       "False"
      ]
     },
     "execution_count": 229,
     "metadata": {},
     "output_type": "execute_result"
    }
   ],
   "source": [
    "b.bus.passengers is a.bus.passengers"
   ]
  }
 ],
 "metadata": {
  "kernelspec": {
   "display_name": "Python 3 (ipykernel)",
   "language": "python",
   "name": "python3"
  },
  "language_info": {
   "codemirror_mode": {
    "name": "ipython",
    "version": 3
   },
   "file_extension": ".py",
   "mimetype": "text/x-python",
   "name": "python",
   "nbconvert_exporter": "python",
   "pygments_lexer": "ipython3",
   "version": "3.9.12"
  },
  "toc": {
   "base_numbering": 1,
   "nav_menu": {},
   "number_sections": true,
   "sideBar": true,
   "skip_h1_title": false,
   "title_cell": "Table of Contents",
   "title_sidebar": "Contents",
   "toc_cell": false,
   "toc_position": {},
   "toc_section_display": true,
   "toc_window_display": true
  },
  "varInspector": {
   "cols": {
    "lenName": 16,
    "lenType": 16,
    "lenVar": 40
   },
   "kernels_config": {
    "python": {
     "delete_cmd_postfix": "",
     "delete_cmd_prefix": "del ",
     "library": "var_list.py",
     "varRefreshCmd": "print(var_dic_list())"
    },
    "r": {
     "delete_cmd_postfix": ") ",
     "delete_cmd_prefix": "rm(",
     "library": "var_list.r",
     "varRefreshCmd": "cat(var_dic_list()) "
    }
   },
   "types_to_exclude": [
    "module",
    "function",
    "builtin_function_or_method",
    "instance",
    "_Feature"
   ],
   "window_display": false
  }
 },
 "nbformat": 4,
 "nbformat_minor": 5
}
