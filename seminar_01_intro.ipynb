{
 "cells": [
  {
   "cell_type": "markdown",
   "metadata": {
    "id": "CHRCnUFGcrb-"
   },
   "source": [
    "# Первый семинар. Знакомство\n"
   ]
  },
  {
   "cell_type": "markdown",
   "metadata": {
    "ExecuteTime": {
     "end_time": "2022-09-07T23:00:18.431028Z",
     "start_time": "2022-09-07T23:00:18.427219Z"
    }
   },
   "source": [
    "Привет! Я Денис, буду помогать вам знакомиться с основами программирования и языком Python.\n",
    "\n",
    "Вышкинская почта (когда заработает): dobelyakov@hse.ru \\\n",
    "Быстрее всего со мной можно связаться в телеграме: @el_loco"
   ]
  },
  {
   "cell_type": "markdown",
   "metadata": {
    "id": "d6XMtnzrcrcE"
   },
   "source": [
    "# Установка Python 3 и среды разработки PyCharm"
   ]
  },
  {
   "cell_type": "markdown",
   "metadata": {
    "id": "TeRBjJEbcrb_"
   },
   "source": [
    "\n",
    "## IDE\n",
    "\n",
    "**Интегрированная среда разработки** (англ. **IDE**, Integrated Development Environment или Integrated Debugging Environment) — система программных средств, используемая программистами для разработки программного обеспечения (ПО).\n",
    "\n",
    "Обычно среда разработки включает в себя:\n",
    "\n",
    "*    текстовый редактор;\n",
    "*    компилятор и / или интерпретатор;\n",
    "*    средства автоматизации сборки;\n",
    "*    debug\n",
    "\n",
    "Часто IDE завязана на определенный язык программирования или на набор схожих. Например, CLion от JetBrains.\n",
    "\n",
    "На данном курсе вам предлагается поработать в среде Pycharm Community Edition от компании JetBrains. Также простые скрипты удобно запускать во встроенной среде разработки для Python, которая называется IDLE"
   ]
  },
  {
   "cell_type": "markdown",
   "metadata": {
    "id": "61WIkiNLcrcD"
   },
   "source": [
    "Так как Python - интерпретируемый язык программирования, для работы с ним можно использовать интерактивную оболочку.\n",
    "Одной из таких оболочек является **IPython** - мощный инструмент для работы с языком Python с широким набором возможностей. \n",
    "Отличительная особенность - IPython позволяет подключаться множеству клиентов к одному вычислительному ядру и, благодаря своей архитектуре, может работать в параллельном кластере."
   ]
  },
  {
   "cell_type": "markdown",
   "metadata": {
    "ExecuteTime": {
     "end_time": "2022-09-08T09:24:27.560160Z",
     "start_time": "2022-09-08T09:24:27.554316Z"
    }
   },
   "source": [
    "## Установка интерпретатора языка Python"
   ]
  },
  {
   "cell_type": "markdown",
   "metadata": {
    "ExecuteTime": {
     "end_time": "2022-09-08T09:25:10.780993Z",
     "start_time": "2022-09-08T09:25:10.775037Z"
    }
   },
   "source": [
    "Установить интерпретатор языка Python 3 версии отсюда: https://www.python.org/\n",
    "        \n",
    "Существует сборка библиотек **Anaconda**, которая включает в себя интерпретатор языка Python (есть версии 2 и 3), набор наиболее часто используемых и полезных в анализе данных библиотек и Jupyter Notebook. Такие ~~тетрадки~~ ноутбучки можно в т.ч. экспортировать в html/pdf \n",
    "\n",
    "https://www.anaconda.com/products/distribution"
   ]
  },
  {
   "cell_type": "markdown",
   "metadata": {
    "id": "nPRL6tvCcrcF"
   },
   "source": [
    "## Среда разработки PyCharm\n",
    "\n",
    "\n",
    "Будем устанавливать среду программирования JetBrains PyCharm (Community) отсюда: https://www.jetbrains.com/pycharm/download\n",
    "\n",
    "Также можно установить Education Edition (там есть tutorial) https://www.jetbrains.com/pycharm-edu/\n",
    "\n",
    "* IDE доступна для Windows, Linux и MacOS. \n",
    "* Существуют два вида лицензии PyCharm – это Professional и Community. Мы будем использовать версию Community, так как она бесплатна и её функционала более чем достаточно для наших задач. \n",
    "* Для студентов по студенческой почте можно получить и более полную версию.\n",
    "\n",
    "\n",
    "У JetBrains есть хорошая [документация](https://www.jetbrains.com/help/pycharm/quick-start-guide.html) "
   ]
  },
  {
   "cell_type": "markdown",
   "metadata": {},
   "source": [
    "## Запуск первого кода"
   ]
  },
  {
   "cell_type": "markdown",
   "metadata": {},
   "source": [
    "- Создаем новый проект в PyCharm: File - New Project\n",
    "- В меню Run - Edit Configurations выбираем наш интерпретатор\n",
    "- Можно запускать по нажатию на зеленую стрелочку или комбинацией клавиш (по умолчанию Shift-F10)\n",
    "\n",
    "Добавление нового интерпретатора:\n",
    "- Ctrl-Alt-S (шорткат для вызова настроек в PyCharm) -- имя вашего проекта\n",
    "- Клик на \"Python Interpreter\"\n",
    "- Клик на \"шестеренку\" -- add"
   ]
  },
  {
   "cell_type": "markdown",
   "metadata": {
    "id": "dmnIfUPNcrcG"
   },
   "source": [
    "# Hello"
   ]
  },
  {
   "cell_type": "markdown",
   "metadata": {
    "ExecuteTime": {
     "end_time": "2022-09-07T23:33:34.802896Z",
     "start_time": "2022-09-07T23:33:34.794207Z"
    }
   },
   "source": [
    "Посмотрим, как печатать на экран"
   ]
  },
  {
   "cell_type": "markdown",
   "metadata": {},
   "source": [
    "## Printing"
   ]
  },
  {
   "cell_type": "code",
   "execution_count": 178,
   "metadata": {
    "ExecuteTime": {
     "end_time": "2022-09-21T11:53:25.412025Z",
     "start_time": "2022-09-21T11:53:25.405282Z"
    },
    "colab": {
     "base_uri": "https://localhost:8080/"
    },
    "id": "7rmlrMaZcrcH",
    "outputId": "9513d689-9133-4e34-9780-f4df480817af"
   },
   "outputs": [
    {
     "name": "stdout",
     "output_type": "stream",
     "text": [
      "Hello, guys!\n"
     ]
    }
   ],
   "source": [
    "print('Hello, guys!')"
   ]
  },
  {
   "cell_type": "markdown",
   "metadata": {
    "id": "b40oOZMTcrcP"
   },
   "source": [
    "Внутри **print** можно вывести результат вычисления арифметического выражения"
   ]
  },
  {
   "cell_type": "code",
   "execution_count": 179,
   "metadata": {
    "ExecuteTime": {
     "end_time": "2022-09-21T11:54:06.795889Z",
     "start_time": "2022-09-21T11:54:06.788787Z"
    },
    "colab": {
     "base_uri": "https://localhost:8080/"
    },
    "id": "2P2Z_ozScrcQ",
    "outputId": "5ec635e8-9095-40b3-ee71-81a7298c29d8"
   },
   "outputs": [
    {
     "name": "stdout",
     "output_type": "stream",
     "text": [
      "5\n"
     ]
    }
   ],
   "source": [
    "print(2 + 3)"
   ]
  },
  {
   "cell_type": "markdown",
   "metadata": {
    "id": "HggL85mOcrca"
   },
   "source": [
    "Функция **print** может принимать несколько несколько неименованных параметров через запятую и печатать их "
   ]
  },
  {
   "cell_type": "code",
   "execution_count": 181,
   "metadata": {
    "ExecuteTime": {
     "end_time": "2022-09-21T11:56:17.369594Z",
     "start_time": "2022-09-21T11:56:17.364710Z"
    },
    "colab": {
     "base_uri": "https://localhost:8080/"
    },
    "id": "1KPJ_cGUcrca",
    "outputId": "8ac876ea-1bbe-4c8f-9ad6-76bb0f31d523"
   },
   "outputs": [
    {
     "name": "stdout",
     "output_type": "stream",
     "text": [
      "Our count today: 27 which is nice\n"
     ]
    }
   ],
   "source": [
    "print('Our count today:', 27, 'which is nice')"
   ]
  },
  {
   "cell_type": "markdown",
   "metadata": {},
   "source": [
    "Заметим, что у нас появился пробел после \":\", хотя мы его не писали. Потому что по дефолту у нас в print есть второй параметр, *sep*, и он по умолчанию равен пробелу"
   ]
  },
  {
   "cell_type": "code",
   "execution_count": 187,
   "metadata": {
    "ExecuteTime": {
     "end_time": "2022-09-21T11:57:24.436700Z",
     "start_time": "2022-09-21T11:57:24.429222Z"
    },
    "colab": {
     "base_uri": "https://localhost:8080/"
    },
    "id": "qsFDfRlEcrcg",
    "outputId": "e41e2578-a290-44bb-f352-365789527834"
   },
   "outputs": [
    {
     "name": "stdout",
     "output_type": "stream",
     "text": [
      "2+3=5\n"
     ]
    }
   ],
   "source": [
    "print('2+3=', 2 + 3, sep='')"
   ]
  },
  {
   "cell_type": "markdown",
   "metadata": {
    "id": "jm3V3pyYcrcl"
   },
   "source": [
    "В качестве параметра **sep** можно использовать любую строку, в том числе состоящую из нескольких символов. \n",
    "\n",
    "Если нужно сделать несколько разных разделителей для разных частей строк, то используем несколько подряд идущих функций **print**. Например, для вывода 1 + 2 + 3 + 4 = 10 пишем код:"
   ]
  },
  {
   "cell_type": "code",
   "execution_count": 188,
   "metadata": {
    "ExecuteTime": {
     "end_time": "2022-09-21T11:57:30.333878Z",
     "start_time": "2022-09-21T11:57:30.328640Z"
    },
    "colab": {
     "base_uri": "https://localhost:8080/"
    },
    "id": "3ZquJ10-crcm",
    "outputId": "ee2b0e5f-c5be-4f83-e101-0bbbcd5af4ea"
   },
   "outputs": [
    {
     "name": "stdout",
     "output_type": "stream",
     "text": [
      "1 + 2 + 3 + 4\n",
      " = 10\n"
     ]
    }
   ],
   "source": [
    "print(1, 2, 3, 4, sep=' + ')\n",
    "print(' = ', 1 + 2 + 3 + 4, sep='')"
   ]
  },
  {
   "cell_type": "markdown",
   "metadata": {
    "id": "Mzt0UuqXcrcq"
   },
   "source": [
    "Но хочется в одну строку.\n",
    "\n",
    "Полученный вывод связан с тем, что после каждой функции **print** по умолчанию осуществляется перевод строки. Для изменения данной ситуации в функции **print** используется именованный параметр **end**:"
   ]
  },
  {
   "cell_type": "code",
   "execution_count": 189,
   "metadata": {
    "ExecuteTime": {
     "end_time": "2022-09-21T11:57:49.608160Z",
     "start_time": "2022-09-21T11:57:49.602591Z"
    },
    "colab": {
     "base_uri": "https://localhost:8080/"
    },
    "id": "BVOaPCX2crcq",
    "outputId": "81476811-cad7-4068-d676-747fc6b6800a"
   },
   "outputs": [
    {
     "name": "stdout",
     "output_type": "stream",
     "text": [
      "1 + 2 + 3 + 4 = 10\n"
     ]
    }
   ],
   "source": [
    "print(1, 2, 3, 4, sep=' + ', end='')\n",
    "print(' = ', 1 + 2 + 3 + 4, sep='')\n",
    "# В качестве end также можно использовать абсолютно любую строку."
   ]
  },
  {
   "cell_type": "markdown",
   "metadata": {
    "id": "2TGIxbfXRzXS"
   },
   "source": [
    "С помощью \\ мы можем делать escape специальных символов. Также для показа исходной строки можно использовать raw_string, добавив символ r перед строкой."
   ]
  },
  {
   "cell_type": "code",
   "execution_count": 192,
   "metadata": {
    "ExecuteTime": {
     "end_time": "2022-09-21T11:59:13.425475Z",
     "start_time": "2022-09-21T11:59:13.418606Z"
    }
   },
   "outputs": [
    {
     "name": "stdout",
     "output_type": "stream",
     "text": [
      "My name is 'Denis'\n"
     ]
    }
   ],
   "source": [
    "print('My name is \\'Denis\\'')"
   ]
  },
  {
   "cell_type": "code",
   "execution_count": 193,
   "metadata": {
    "ExecuteTime": {
     "end_time": "2022-09-21T11:59:21.185330Z",
     "start_time": "2022-09-21T11:59:21.178434Z"
    }
   },
   "outputs": [
    {
     "name": "stdout",
     "output_type": "stream",
     "text": [
      "My name is 'Denis'\n"
     ]
    }
   ],
   "source": [
    "print(\"My name is 'Denis'\")"
   ]
  },
  {
   "cell_type": "code",
   "execution_count": 200,
   "metadata": {
    "ExecuteTime": {
     "end_time": "2022-09-21T12:01:14.251786Z",
     "start_time": "2022-09-21T12:01:14.247110Z"
    },
    "colab": {
     "base_uri": "https://localhost:8080/"
    },
    "id": "4ojGqkOeRvDG",
    "outputId": "b9f05a4e-61a4-4551-d6e5-0dc56c1df958"
   },
   "outputs": [
    {
     "name": "stdout",
     "output_type": "stream",
     "text": [
      "C:\\table\n",
      "ew\n"
     ]
    }
   ],
   "source": [
    "print('C:\\\\table\\new')"
   ]
  },
  {
   "cell_type": "code",
   "execution_count": 201,
   "metadata": {
    "ExecuteTime": {
     "end_time": "2022-09-21T12:01:28.527296Z",
     "start_time": "2022-09-21T12:01:28.520357Z"
    },
    "colab": {
     "base_uri": "https://localhost:8080/"
    },
    "id": "wBDIMJLESgJt",
    "outputId": "0279acd5-0a09-4e7c-c468-befc64e4190e"
   },
   "outputs": [
    {
     "name": "stdout",
     "output_type": "stream",
     "text": [
      "C:\\\\table\\new\n"
     ]
    }
   ],
   "source": [
    "print(r'C:\\\\table\\new')"
   ]
  },
  {
   "cell_type": "markdown",
   "metadata": {
    "id": "LnC-5g05Rwbe"
   },
   "source": []
  },
  {
   "cell_type": "markdown",
   "metadata": {
    "id": "johIW1H2crcu"
   },
   "source": [
    "## Переменные, числа"
   ]
  },
  {
   "cell_type": "markdown",
   "metadata": {
    "id": "johIW1H2crcu"
   },
   "source": [
    "Решим задачу вычисления пройденного расстояния по известному времени и скорости:"
   ]
  },
  {
   "cell_type": "code",
   "execution_count": 202,
   "metadata": {
    "ExecuteTime": {
     "end_time": "2022-09-21T12:03:22.422666Z",
     "start_time": "2022-09-21T12:03:22.415405Z"
    },
    "colab": {
     "base_uri": "https://localhost:8080/"
    },
    "id": "-raRRP9scrcv",
    "outputId": "9d0cc9af-12a0-44d6-c4f0-06994a1a29f1"
   },
   "outputs": [
    {
     "name": "stdout",
     "output_type": "stream",
     "text": [
      "1296\n"
     ]
    }
   ],
   "source": [
    "speed = 108\n",
    "time = 12\n",
    "dist = speed * time\n",
    "print(dist)"
   ]
  },
  {
   "cell_type": "markdown",
   "metadata": {
    "id": "mw0t6Pd2UzoP"
   },
   "source": [
    "\n",
    "Главное, чтобы имя переменной было осмысленным. В Python, как и в других языках, есть свои соглашения по поводу нейминга. Вот некоторые из них:\n",
    "- используте snake_case для переменных, если хотите записать название несколькими словами\n",
    "- название переменной должно отражать ее смысл, а не имплементацию \n",
    "- названия функций и методов следует писать с глаголами, e.g. do_smth_useful(), .is_empty()\n",
    "- избегать использования однобуквенных переменных, кроме отдельных случаев. Например, индекс в цикле, идентификатор файла при чтении `with open() as f:` , сокращение для обрабатываемой ошибки `Exception as e`\n",
    "- module_name, package_name, ClassName, method_name, ExceptionName, function_name, GLOBAL_CONSTANT_NAME, global_var_name, instance_var_name, function_parameter_name, local_var_name\n",
    "\n",
    "\n",
    "Overall, разных мнений по поводу стилей написания кода много. И может различаться в разных компаниях и даже командах. Однако есть некоторые универсальные принципы, которым следует научиться следовать.  "
   ]
  },
  {
   "cell_type": "markdown",
   "metadata": {},
   "source": [
    "Узнать тип можно с помощью команды `type`"
   ]
  },
  {
   "cell_type": "code",
   "execution_count": 203,
   "metadata": {
    "ExecuteTime": {
     "end_time": "2022-09-21T12:06:14.623267Z",
     "start_time": "2022-09-21T12:06:14.618034Z"
    }
   },
   "outputs": [
    {
     "data": {
      "text/plain": [
       "int"
      ]
     },
     "execution_count": 203,
     "metadata": {},
     "output_type": "execute_result"
    }
   ],
   "source": [
    "type(5)"
   ]
  },
  {
   "cell_type": "code",
   "execution_count": 207,
   "metadata": {
    "ExecuteTime": {
     "end_time": "2022-09-21T12:06:52.190435Z",
     "start_time": "2022-09-21T12:06:52.184262Z"
    }
   },
   "outputs": [
    {
     "data": {
      "text/plain": [
       "float"
      ]
     },
     "execution_count": 207,
     "metadata": {},
     "output_type": "execute_result"
    }
   ],
   "source": [
    "type(10 / 2)"
   ]
  },
  {
   "cell_type": "code",
   "execution_count": 213,
   "metadata": {
    "ExecuteTime": {
     "end_time": "2022-09-21T12:08:19.019365Z",
     "start_time": "2022-09-21T12:08:19.014208Z"
    }
   },
   "outputs": [
    {
     "data": {
      "text/plain": [
       "object"
      ]
     },
     "execution_count": 213,
     "metadata": {},
     "output_type": "execute_result"
    }
   ],
   "source": [
    "type(object())"
   ]
  },
  {
   "cell_type": "markdown",
   "metadata": {
    "id": "AVQZVvaNaC0j"
   },
   "source": [
    "Иногда возникает необходимость преобразовать вещественное число в целое. Для этого можно использовать несколько видов функций округления.\n",
    "* int - округляет в сторону нуля (отбрасывает дробную часть)\n",
    "* round - округляет до ближайшего целого, если ближайших целых несколько (дробная часть равна 0.5), то к четному\n",
    "* floor - округляет в меньшую сторону\n",
    "* ceil - округляет в большую сторону\n",
    "* trunc - отбрасывает дробную часть\n",
    "\n",
    "Последние две функции находятся в библиотеке math. Чтобы воспользоваться ими, нужно их импортировать"
   ]
  },
  {
   "cell_type": "code",
   "execution_count": 214,
   "metadata": {
    "ExecuteTime": {
     "end_time": "2022-09-21T12:10:17.269803Z",
     "start_time": "2022-09-21T12:10:17.263143Z"
    }
   },
   "outputs": [],
   "source": [
    "import math\n",
    "\n",
    "some_const = 2.3\n",
    "\n",
    "# hot to print the following?\n",
    "# print(your_code)"
   ]
  },
  {
   "cell_type": "code",
   "execution_count": 218,
   "metadata": {
    "ExecuteTime": {
     "end_time": "2022-09-21T12:11:34.790387Z",
     "start_time": "2022-09-21T12:11:34.785197Z"
    }
   },
   "outputs": [
    {
     "name": "stdout",
     "output_type": "stream",
     "text": [
      "ceil for 2.7 is 3\n",
      "round for 2.7 is 3\n",
      "floor for 2.7 is 2\n",
      "int for 2.7 is 2\n",
      "truncate for 2.7 is 2\n"
     ]
    }
   ],
   "source": [
    "print('ceil for 2.7 is', math.ceil(2.7))\n",
    "print('round for 2.7 is', round(2.7))\n",
    "print('floor for 2.7 is', math.floor(2.7))\n",
    "print('int for 2.7 is', int(2.7))\n",
    "print('truncate for 2.7 is', math.trunc(2.7))"
   ]
  },
  {
   "cell_type": "markdown",
   "metadata": {},
   "source": [
    "Кстати, хороший повод вспомнить про codestyle для импортов в python"
   ]
  },
  {
   "cell_type": "markdown",
   "metadata": {},
   "source": [
    "\n",
    "    1.    standard library imports\n",
    "    2.    related third party imports\n",
    "    3.    local application/library specific imports\n"
   ]
  },
  {
   "cell_type": "markdown",
   "metadata": {},
   "source": [
    "Другие операции с числами"
   ]
  },
  {
   "cell_type": "code",
   "execution_count": 219,
   "metadata": {
    "ExecuteTime": {
     "end_time": "2022-09-21T12:13:10.587737Z",
     "start_time": "2022-09-21T12:13:10.582642Z"
    },
    "id": "Zr6yhsxEaC0x",
    "outputId": "373589dd-24c3-4623-9451-9394f547c4db"
   },
   "outputs": [
    {
     "data": {
      "text/plain": [
       "(3, 1)"
      ]
     },
     "execution_count": 219,
     "metadata": {},
     "output_type": "execute_result"
    }
   ],
   "source": [
    "divmod(10, 3)"
   ]
  },
  {
   "cell_type": "code",
   "execution_count": 220,
   "metadata": {
    "ExecuteTime": {
     "end_time": "2022-09-21T12:13:16.611764Z",
     "start_time": "2022-09-21T12:13:16.606545Z"
    },
    "id": "Tbz4TSA-aC0z",
    "outputId": "706e9288-feb5-45fc-8de2-4668d8a969be"
   },
   "outputs": [
    {
     "data": {
      "text/plain": [
       "5"
      ]
     },
     "execution_count": 220,
     "metadata": {},
     "output_type": "execute_result"
    }
   ],
   "source": [
    "abs(-5)"
   ]
  },
  {
   "cell_type": "code",
   "execution_count": 221,
   "metadata": {
    "ExecuteTime": {
     "end_time": "2022-09-21T12:13:22.479248Z",
     "start_time": "2022-09-21T12:13:22.469611Z"
    },
    "id": "4WAInk3ZaC02",
    "outputId": "d87262a0-56c2-4799-bf14-d0003f76782e"
   },
   "outputs": [
    {
     "data": {
      "text/plain": [
       "32"
      ]
     },
     "execution_count": 221,
     "metadata": {},
     "output_type": "execute_result"
    }
   ],
   "source": [
    "2 ** 5"
   ]
  },
  {
   "cell_type": "code",
   "execution_count": 222,
   "metadata": {
    "ExecuteTime": {
     "end_time": "2022-09-21T12:13:24.374427Z",
     "start_time": "2022-09-21T12:13:24.369214Z"
    }
   },
   "outputs": [
    {
     "data": {
      "text/plain": [
       "3"
      ]
     },
     "execution_count": 222,
     "metadata": {},
     "output_type": "execute_result"
    }
   ],
   "source": [
    "10 // 3"
   ]
  },
  {
   "cell_type": "code",
   "execution_count": 225,
   "metadata": {
    "ExecuteTime": {
     "end_time": "2022-09-21T12:13:41.746628Z",
     "start_time": "2022-09-21T12:13:41.741471Z"
    }
   },
   "outputs": [
    {
     "data": {
      "text/plain": [
       "-3.3333333333333335"
      ]
     },
     "execution_count": 225,
     "metadata": {},
     "output_type": "execute_result"
    }
   ],
   "source": [
    "10 / -3"
   ]
  },
  {
   "cell_type": "code",
   "execution_count": 226,
   "metadata": {
    "ExecuteTime": {
     "end_time": "2022-09-21T12:13:52.401107Z",
     "start_time": "2022-09-21T12:13:52.391779Z"
    }
   },
   "outputs": [
    {
     "data": {
      "text/plain": [
       "-4"
      ]
     },
     "execution_count": 226,
     "metadata": {},
     "output_type": "execute_result"
    }
   ],
   "source": [
    "10 // -3 # floor division"
   ]
  },
  {
   "cell_type": "markdown",
   "metadata": {},
   "source": [
    "http://python-history.blogspot.com/2010/08/why-pythons-integer-division-floors.html\n",
    "\n",
    "https://realpython.com/python-rounding/"
   ]
  },
  {
   "cell_type": "code",
   "execution_count": 227,
   "metadata": {
    "ExecuteTime": {
     "end_time": "2022-09-21T12:14:36.298606Z",
     "start_time": "2022-09-21T12:14:36.292526Z"
    }
   },
   "outputs": [
    {
     "data": {
      "text/plain": [
       "1"
      ]
     },
     "execution_count": 227,
     "metadata": {},
     "output_type": "execute_result"
    }
   ],
   "source": [
    "10 % 3"
   ]
  },
  {
   "cell_type": "code",
   "execution_count": 228,
   "metadata": {
    "ExecuteTime": {
     "end_time": "2022-09-21T12:14:47.239947Z",
     "start_time": "2022-09-21T12:14:47.234468Z"
    }
   },
   "outputs": [
    {
     "data": {
      "text/plain": [
       "-2"
      ]
     },
     "execution_count": 228,
     "metadata": {},
     "output_type": "execute_result"
    }
   ],
   "source": [
    "10 % -3"
   ]
  },
  {
   "cell_type": "markdown",
   "metadata": {},
   "source": [
    "% -- оператор остатка по модулю в Python работает так:\n",
    "\n",
    "```number % k = number - math.floor(number / k) * k```"
   ]
  },
  {
   "cell_type": "code",
   "execution_count": 229,
   "metadata": {
    "ExecuteTime": {
     "end_time": "2022-09-21T12:14:59.836517Z",
     "start_time": "2022-09-21T12:14:59.831480Z"
    }
   },
   "outputs": [
    {
     "data": {
      "text/plain": [
       "2"
      ]
     },
     "execution_count": 229,
     "metadata": {},
     "output_type": "execute_result"
    }
   ],
   "source": [
    "-10 % 3 "
   ]
  },
  {
   "cell_type": "code",
   "execution_count": 230,
   "metadata": {
    "ExecuteTime": {
     "end_time": "2022-09-21T12:15:09.676855Z",
     "start_time": "2022-09-21T12:15:09.671666Z"
    }
   },
   "outputs": [
    {
     "data": {
      "text/plain": [
       "-2"
      ]
     },
     "execution_count": 230,
     "metadata": {},
     "output_type": "execute_result"
    }
   ],
   "source": [
    "number = 10\n",
    "k = -3\n",
    "\n",
    "number - math.floor(number / k) * k"
   ]
  },
  {
   "cell_type": "markdown",
   "metadata": {
    "ExecuteTime": {
     "end_time": "2022-09-08T00:49:39.771774Z",
     "start_time": "2022-09-08T00:49:39.766265Z"
    }
   },
   "source": [
    "Пример работы с отрицательными числами при взятии остатка\n",
    "\n",
    "Если сейчас день недели d. То какой день недели был k дней назад?"
   ]
  },
  {
   "cell_type": "code",
   "execution_count": 231,
   "metadata": {
    "ExecuteTime": {
     "end_time": "2022-09-21T12:17:32.065966Z",
     "start_time": "2022-09-21T12:17:32.060584Z"
    }
   },
   "outputs": [
    {
     "data": {
      "text/plain": [
       "6"
      ]
     },
     "execution_count": 231,
     "metadata": {},
     "output_type": "execute_result"
    }
   ],
   "source": [
    "d = 3  # day of week, Thursday\n",
    "k = 4  # offset\n",
    "\n",
    "(d - k) % 7  # got 6 -- Sunday"
   ]
  },
  {
   "cell_type": "markdown",
   "metadata": {},
   "source": [
    "Задача. Дано четырехзначное число. Выведите сумму его цифр"
   ]
  },
  {
   "cell_type": "code",
   "execution_count": 233,
   "metadata": {
    "ExecuteTime": {
     "end_time": "2022-09-21T12:18:11.478753Z",
     "start_time": "2022-09-21T12:18:11.472603Z"
    }
   },
   "outputs": [],
   "source": [
    "a = 1234"
   ]
  },
  {
   "cell_type": "code",
   "execution_count": 236,
   "metadata": {
    "ExecuteTime": {
     "end_time": "2022-09-21T12:18:46.189757Z",
     "start_time": "2022-09-21T12:18:46.184426Z"
    }
   },
   "outputs": [
    {
     "data": {
      "text/plain": [
       "10"
      ]
     },
     "execution_count": 236,
     "metadata": {},
     "output_type": "execute_result"
    }
   ],
   "source": [
    "a // 1000 + a // 100 % 10 + a // 10 % 10 + a % 10"
   ]
  },
  {
   "cell_type": "markdown",
   "metadata": {},
   "source": [
    "---\n"
   ]
  },
  {
   "cell_type": "markdown",
   "metadata": {},
   "source": [
    "Переменную в Python можно воспринимать как ссылку на некоторую область в памяти, где было сложено значение. С этим нужно быть аккуратным"
   ]
  },
  {
   "cell_type": "code",
   "execution_count": 237,
   "metadata": {
    "ExecuteTime": {
     "end_time": "2022-09-21T12:21:07.628331Z",
     "start_time": "2022-09-21T12:21:07.623620Z"
    }
   },
   "outputs": [
    {
     "name": "stdout",
     "output_type": "stream",
     "text": [
      "140478985988528 140478985988528\n"
     ]
    }
   ],
   "source": [
    "a = 5\n",
    "b = a\n",
    "\n",
    "print(id(b), id(a))"
   ]
  },
  {
   "cell_type": "markdown",
   "metadata": {},
   "source": [
    "Числа являются неизменяемым типом"
   ]
  },
  {
   "cell_type": "code",
   "execution_count": 238,
   "metadata": {
    "ExecuteTime": {
     "end_time": "2022-09-21T12:22:19.338552Z",
     "start_time": "2022-09-21T12:22:19.333622Z"
    }
   },
   "outputs": [
    {
     "name": "stdout",
     "output_type": "stream",
     "text": [
      "140478985988528\n",
      "140478985988848\n"
     ]
    }
   ],
   "source": [
    "a = 5\n",
    "\n",
    "print(id(a))\n",
    "\n",
    "a += 10\n",
    "\n",
    "print(id(a))"
   ]
  },
  {
   "cell_type": "markdown",
   "metadata": {},
   "source": [
    "Переменная теперь ссылается на новую область в памяти, хотя казалось бы, мы просто к ней что-то прибавили"
   ]
  },
  {
   "cell_type": "code",
   "execution_count": 239,
   "metadata": {
    "ExecuteTime": {
     "end_time": "2022-09-21T12:24:16.387472Z",
     "start_time": "2022-09-21T12:24:16.381779Z"
    }
   },
   "outputs": [
    {
     "data": {
      "text/plain": [
       "False"
      ]
     },
     "execution_count": 239,
     "metadata": {},
     "output_type": "execute_result"
    }
   ],
   "source": [
    "b = -3\n",
    "c = 4\n",
    "\n",
    "id(b) == id(c)"
   ]
  },
  {
   "cell_type": "markdown",
   "metadata": {
    "ExecuteTime": {
     "end_time": "2022-09-08T00:57:49.691594Z",
     "start_time": "2022-09-08T00:57:49.682620Z"
    }
   },
   "source": [
    "Не совсем очевидные вещи в Python"
   ]
  },
  {
   "cell_type": "code",
   "execution_count": 244,
   "metadata": {
    "ExecuteTime": {
     "end_time": "2022-09-21T12:26:25.295452Z",
     "start_time": "2022-09-21T12:26:25.289808Z"
    }
   },
   "outputs": [
    {
     "data": {
      "text/plain": [
       "True"
      ]
     },
     "execution_count": 244,
     "metadata": {},
     "output_type": "execute_result"
    }
   ],
   "source": [
    "b = 5\n",
    "c = 5\n",
    "\n",
    "id(b) == id(c)"
   ]
  },
  {
   "cell_type": "code",
   "execution_count": 241,
   "metadata": {
    "ExecuteTime": {
     "end_time": "2022-09-21T12:25:21.927574Z",
     "start_time": "2022-09-21T12:25:21.921770Z"
    }
   },
   "outputs": [
    {
     "data": {
      "text/plain": [
       "False"
      ]
     },
     "execution_count": 241,
     "metadata": {},
     "output_type": "execute_result"
    }
   ],
   "source": [
    "b = 1000\n",
    "c = 1000\n",
    "\n",
    "id(b) == id(c)"
   ]
  },
  {
   "cell_type": "markdown",
   "metadata": {},
   "source": [
    "Немного \"математики\""
   ]
  },
  {
   "cell_type": "markdown",
   "metadata": {},
   "source": [
    "Зная немного о битовом (двоичном) представлении чисел, мы можем делать битовые операции с ними. Например, битовые сдвиги. Если оператор `<<` -- это сдвиг влево, а `>>` -- это сдвиг вправо, как можно из 1 получить 0? Как можно из 1 получить 2048?"
   ]
  },
  {
   "cell_type": "code",
   "execution_count": 246,
   "metadata": {
    "ExecuteTime": {
     "end_time": "2022-09-21T12:30:22.744333Z",
     "start_time": "2022-09-21T12:30:22.738909Z"
    }
   },
   "outputs": [
    {
     "data": {
      "text/plain": [
       "2048"
      ]
     },
     "execution_count": 246,
     "metadata": {},
     "output_type": "execute_result"
    }
   ],
   "source": [
    "# \n",
    "# ....2^2 2^1 2^0\n",
    "#  00000   1  0\n",
    "\n",
    "1 << 11"
   ]
  },
  {
   "cell_type": "code",
   "execution_count": 248,
   "metadata": {
    "ExecuteTime": {
     "end_time": "2022-09-21T12:33:14.918298Z",
     "start_time": "2022-09-21T12:33:14.913656Z"
    }
   },
   "outputs": [
    {
     "data": {
      "text/plain": [
       "0"
      ]
     },
     "execution_count": 248,
     "metadata": {},
     "output_type": "execute_result"
    }
   ],
   "source": [
    "# 1010\n",
    "# 0101\n",
    "\n",
    "10 >> 4"
   ]
  },
  {
   "cell_type": "markdown",
   "metadata": {},
   "source": [
    "## Bools, сравнения"
   ]
  },
  {
   "cell_type": "markdown",
   "metadata": {},
   "source": [
    "`==` сравнивает объекты между собой по значению (с помощью скрытого метода, можно переопределить для своих классов)\n",
    "\n",
    "`is` -- по адресу в памяти"
   ]
  },
  {
   "cell_type": "code",
   "execution_count": 249,
   "metadata": {
    "ExecuteTime": {
     "end_time": "2022-09-21T12:33:38.340200Z",
     "start_time": "2022-09-21T12:33:38.334777Z"
    }
   },
   "outputs": [
    {
     "data": {
      "text/plain": [
       "True"
      ]
     },
     "execution_count": 249,
     "metadata": {},
     "output_type": "execute_result"
    }
   ],
   "source": [
    "True"
   ]
  },
  {
   "cell_type": "code",
   "execution_count": 250,
   "metadata": {
    "ExecuteTime": {
     "end_time": "2022-09-21T12:33:52.645340Z",
     "start_time": "2022-09-21T12:33:52.639792Z"
    }
   },
   "outputs": [
    {
     "data": {
      "text/plain": [
       "True"
      ]
     },
     "execution_count": 250,
     "metadata": {},
     "output_type": "execute_result"
    }
   ],
   "source": [
    "1 == True"
   ]
  },
  {
   "cell_type": "code",
   "execution_count": 253,
   "metadata": {
    "ExecuteTime": {
     "end_time": "2022-09-21T12:35:11.334187Z",
     "start_time": "2022-09-21T12:35:11.329886Z"
    }
   },
   "outputs": [
    {
     "name": "stdout",
     "output_type": "stream",
     "text": [
      "True\n",
      "False\n"
     ]
    }
   ],
   "source": [
    "a = 1337\n",
    "b = 1337\n",
    "\n",
    "print(a == b)\n",
    "print(a is b)"
   ]
  },
  {
   "cell_type": "code",
   "execution_count": 254,
   "metadata": {
    "ExecuteTime": {
     "end_time": "2022-09-21T12:35:13.095507Z",
     "start_time": "2022-09-21T12:35:13.090440Z"
    }
   },
   "outputs": [
    {
     "data": {
      "text/plain": [
       "False"
      ]
     },
     "execution_count": 254,
     "metadata": {},
     "output_type": "execute_result"
    }
   ],
   "source": [
    "True is False"
   ]
  },
  {
   "cell_type": "code",
   "execution_count": 255,
   "metadata": {
    "ExecuteTime": {
     "end_time": "2022-09-21T12:35:19.564713Z",
     "start_time": "2022-09-21T12:35:19.559643Z"
    }
   },
   "outputs": [
    {
     "data": {
      "text/plain": [
       "True"
      ]
     },
     "execution_count": 255,
     "metadata": {},
     "output_type": "execute_result"
    }
   ],
   "source": [
    "False is False is False"
   ]
  },
  {
   "cell_type": "code",
   "execution_count": 256,
   "metadata": {
    "ExecuteTime": {
     "end_time": "2022-09-21T12:35:31.753904Z",
     "start_time": "2022-09-21T12:35:31.748756Z"
    }
   },
   "outputs": [
    {
     "data": {
      "text/plain": [
       "True"
      ]
     },
     "execution_count": 256,
     "metadata": {},
     "output_type": "execute_result"
    }
   ],
   "source": [
    "False == 0"
   ]
  },
  {
   "cell_type": "code",
   "execution_count": 257,
   "metadata": {
    "ExecuteTime": {
     "end_time": "2022-09-21T12:35:41.738082Z",
     "start_time": "2022-09-21T12:35:41.732801Z"
    }
   },
   "outputs": [
    {
     "data": {
      "text/plain": [
       "True"
      ]
     },
     "execution_count": 257,
     "metadata": {},
     "output_type": "execute_result"
    }
   ],
   "source": [
    "0 <= 1"
   ]
  },
  {
   "cell_type": "markdown",
   "metadata": {},
   "source": [
    "Можно делать несколько логических операций в ряд"
   ]
  },
  {
   "cell_type": "code",
   "execution_count": 262,
   "metadata": {
    "ExecuteTime": {
     "end_time": "2022-09-21T12:36:19.161784Z",
     "start_time": "2022-09-21T12:36:19.156745Z"
    }
   },
   "outputs": [
    {
     "data": {
      "text/plain": [
       "True"
      ]
     },
     "execution_count": 262,
     "metadata": {},
     "output_type": "execute_result"
    }
   ],
   "source": [
    "0 < 1 < 2 < 3 < 4 < 5"
   ]
  },
  {
   "cell_type": "code",
   "execution_count": 263,
   "metadata": {
    "ExecuteTime": {
     "end_time": "2022-09-21T12:36:21.747842Z",
     "start_time": "2022-09-21T12:36:21.742708Z"
    }
   },
   "outputs": [
    {
     "data": {
      "text/plain": [
       "True"
      ]
     },
     "execution_count": 263,
     "metadata": {},
     "output_type": "execute_result"
    }
   ],
   "source": [
    "1 == True == 1.0"
   ]
  },
  {
   "cell_type": "code",
   "execution_count": 266,
   "metadata": {
    "ExecuteTime": {
     "end_time": "2022-09-21T12:36:51.043459Z",
     "start_time": "2022-09-21T12:36:51.034471Z"
    }
   },
   "outputs": [
    {
     "data": {
      "text/plain": [
       "True"
      ]
     },
     "execution_count": 266,
     "metadata": {},
     "output_type": "execute_result"
    }
   ],
   "source": [
    "0 < 1 < 2"
   ]
  },
  {
   "cell_type": "code",
   "execution_count": null,
   "metadata": {
    "ExecuteTime": {
     "end_time": "2022-09-21T10:44:44.475602Z",
     "start_time": "2022-09-21T10:44:44.470731Z"
    }
   },
   "outputs": [],
   "source": [
    "(0 < 1) and (1 < 2)"
   ]
  },
  {
   "cell_type": "code",
   "execution_count": 267,
   "metadata": {
    "ExecuteTime": {
     "end_time": "2022-09-21T12:36:53.081334Z",
     "start_time": "2022-09-21T12:36:53.075627Z"
    }
   },
   "outputs": [
    {
     "data": {
      "text/plain": [
       "True"
      ]
     },
     "execution_count": 267,
     "metadata": {},
     "output_type": "execute_result"
    }
   ],
   "source": [
    "1 != 0"
   ]
  },
  {
   "cell_type": "markdown",
   "metadata": {
    "ExecuteTime": {
     "end_time": "2022-09-08T00:24:02.405083Z",
     "start_time": "2022-09-08T00:24:02.396710Z"
    }
   },
   "source": [
    "**Вспомним законы Де Моргана**\n",
    "\n",
    "```\n",
    "не (a и b) = (не a) или (не b)\n",
    "не (a или b) = (не a) и (не b)\n",
    "```"
   ]
  },
  {
   "cell_type": "code",
   "execution_count": 273,
   "metadata": {
    "ExecuteTime": {
     "end_time": "2022-09-21T12:41:03.005990Z",
     "start_time": "2022-09-21T12:41:03.000940Z"
    }
   },
   "outputs": [],
   "source": [
    "a = 1\n",
    "c = 2\n",
    "b = 3\n",
    "\n",
    "bool_value = 0 <= a and c <= 6\n",
    "\n",
    "not_bool_value = 0 > a or c > 6\n",
    "\n",
    "assert not bool_value is not_bool_value"
   ]
  },
  {
   "cell_type": "code",
   "execution_count": null,
   "metadata": {},
   "outputs": [],
   "source": [
    "bool_value = (a > 5 or not (b == 0 or a != 4)) and (c >= 4)\n",
    "\n",
    "not_bool_value = # your code"
   ]
  },
  {
   "cell_type": "markdown",
   "metadata": {},
   "source": [
    "Рассмотренные выше `and`, `or` и `not` являются логическими операторами. В языках, которые вы ранее могли изучать, они соответствуют `&&`, `||` и `!` (и их в python нет).\n",
    "\n",
    "Однако, в питоне существуют *bitwise* операторы `&`, `|`, `~` (и `^`). **Не перепутайте** их с логическими `И`, `ИЛИ` и `НЕ`!"
   ]
  },
  {
   "cell_type": "code",
   "execution_count": 275,
   "metadata": {
    "ExecuteTime": {
     "end_time": "2022-09-21T12:43:06.484844Z",
     "start_time": "2022-09-21T12:43:06.479942Z"
    }
   },
   "outputs": [
    {
     "name": "stdout",
     "output_type": "stream",
     "text": [
      "0111 & 0011 = 0011 is 3\n",
      "0111 | 0011 = 0111 is 7\n",
      "0111 ^ 0011 = 0100 is 4\n",
      "~0111 & 1111 = 1000 & 1111 is 8\n"
     ]
    }
   ],
   "source": [
    "print('0111 & 0011 = 0011 is', 7 & 3)\n",
    "\n",
    "print('0111 | 0011 = 0111 is', 7 | 3)\n",
    "\n",
    "print('0111 ^ 0011 = 0100 is', 7 ^ 3)\n",
    "\n",
    "print('~0111 & 1111 = 1000 & 1111 is', ~7 & 15)"
   ]
  },
  {
   "cell_type": "markdown",
   "metadata": {},
   "source": [
    "## Ветвления"
   ]
  },
  {
   "cell_type": "markdown",
   "metadata": {},
   "source": [
    "Конструкция `ЕСЛИ, ТО`"
   ]
  },
  {
   "cell_type": "markdown",
   "metadata": {},
   "source": [
    "    if some_condition:\n",
    "        do something\n",
    "\n",
    "    (Optional)\n",
    "    elif another condition:\n",
    "        do some other thing\n",
    "\n",
    "    (Optional)\n",
    "    else:\n",
    "        do another thing"
   ]
  },
  {
   "cell_type": "code",
   "execution_count": 278,
   "metadata": {
    "ExecuteTime": {
     "end_time": "2022-09-21T12:44:32.227656Z",
     "start_time": "2022-09-21T12:44:32.221915Z"
    }
   },
   "outputs": [],
   "source": [
    "cond = '2022 is a bad year'"
   ]
  },
  {
   "cell_type": "code",
   "execution_count": 279,
   "metadata": {
    "ExecuteTime": {
     "end_time": "2022-09-21T12:46:33.190288Z",
     "start_time": "2022-09-21T12:46:33.184967Z"
    }
   },
   "outputs": [
    {
     "name": "stdout",
     "output_type": "stream",
     "text": [
      "we are here\n"
     ]
    }
   ],
   "source": [
    "if ('good' in cond):\n",
    "    print('yeah, it was a good year')\n",
    "\n",
    "elif '2021' in cond:\n",
    "    print('well, it was not so bad')\n",
    "\n",
    "# elif...\n",
    "\n",
    "else:\n",
    "    print('we are here')"
   ]
  },
  {
   "cell_type": "markdown",
   "metadata": {
    "id": "y9mc6J_fcrc0",
    "jp-MarkdownHeadingCollapsed": true,
    "tags": []
   },
   "source": [
    "## Строки"
   ]
  },
  {
   "cell_type": "markdown",
   "metadata": {},
   "source": [
    "Строка -- это частный случай последоватьностей в Python, представитель группы `Flat sequences`. То есть, строка -- это последовательность, каждый элемент в которой представляет лишь один тип. Можно сказать, что строка -- это последовательность символов.\n",
    "\n",
    "В отличии от, например, C, строки в питоне являются неизменяемым типом данных. После того, как вы присвоили переменной строку, вы не можете inplace заменить отдельный символ в ней. При этом, можно обращаться к отдельным элементам по индексу, как в массиве"
   ]
  },
  {
   "cell_type": "code",
   "execution_count": 280,
   "metadata": {
    "ExecuteTime": {
     "end_time": "2022-09-21T12:47:31.537491Z",
     "start_time": "2022-09-21T12:47:31.533463Z"
    }
   },
   "outputs": [
    {
     "data": {
      "text/plain": [
       "'stringstring'"
      ]
     },
     "execution_count": 280,
     "metadata": {},
     "output_type": "execute_result"
    }
   ],
   "source": [
    "a = 'string'\n",
    "\n",
    "a + a"
   ]
  },
  {
   "cell_type": "code",
   "execution_count": 281,
   "metadata": {
    "ExecuteTime": {
     "end_time": "2022-09-21T12:47:38.835025Z",
     "start_time": "2022-09-21T12:47:38.826459Z"
    }
   },
   "outputs": [
    {
     "data": {
      "text/plain": [
       "6"
      ]
     },
     "execution_count": 281,
     "metadata": {},
     "output_type": "execute_result"
    }
   ],
   "source": [
    "len(a)"
   ]
  },
  {
   "cell_type": "code",
   "execution_count": 282,
   "metadata": {
    "ExecuteTime": {
     "end_time": "2022-09-21T12:47:48.125342Z",
     "start_time": "2022-09-21T12:47:48.119281Z"
    },
    "id": "aB2lHghJS001"
   },
   "outputs": [],
   "source": [
    "sample_string = 'some_sample'"
   ]
  },
  {
   "cell_type": "code",
   "execution_count": 285,
   "metadata": {
    "ExecuteTime": {
     "end_time": "2022-09-21T12:47:55.460156Z",
     "start_time": "2022-09-21T12:47:55.451764Z"
    },
    "colab": {
     "base_uri": "https://localhost:8080/",
     "height": 35
    },
    "id": "7vrUbit3S35F",
    "outputId": "5c8008ed-77b6-440e-c9b4-bf86b792c4c4"
   },
   "outputs": [
    {
     "data": {
      "text/plain": [
       "'o'"
      ]
     },
     "execution_count": 285,
     "metadata": {},
     "output_type": "execute_result"
    }
   ],
   "source": [
    "sample_string[1]"
   ]
  },
  {
   "cell_type": "code",
   "execution_count": 286,
   "metadata": {
    "ExecuteTime": {
     "end_time": "2022-09-21T12:48:04.688903Z",
     "start_time": "2022-09-21T12:48:04.673155Z"
    },
    "colab": {
     "base_uri": "https://localhost:8080/",
     "height": 166
    },
    "id": "DhYS2s85Tp7P",
    "outputId": "84a3eb6a-4555-4f62-b1dc-f83d860c8178"
   },
   "outputs": [
    {
     "ename": "TypeError",
     "evalue": "'str' object does not support item assignment",
     "output_type": "error",
     "traceback": [
      "\u001b[0;31m---------------------------------------------------------------------------\u001b[0m",
      "\u001b[0;31mTypeError\u001b[0m                                 Traceback (most recent call last)",
      "Input \u001b[0;32mIn [286]\u001b[0m, in \u001b[0;36m<cell line: 1>\u001b[0;34m()\u001b[0m\n\u001b[0;32m----> 1\u001b[0m sample_string[\u001b[38;5;241m0\u001b[39m] \u001b[38;5;241m=\u001b[39m \u001b[38;5;124m'\u001b[39m\u001b[38;5;124mA\u001b[39m\u001b[38;5;124m'\u001b[39m\n",
      "\u001b[0;31mTypeError\u001b[0m: 'str' object does not support item assignment"
     ]
    }
   ],
   "source": [
    "sample_string[0] = 'A'"
   ]
  },
  {
   "cell_type": "markdown",
   "metadata": {
    "id": "pQ-7FFxPTyZQ"
   },
   "source": [
    "Не можем изменить конкретный символ, как и ожидалось. Однако"
   ]
  },
  {
   "cell_type": "code",
   "execution_count": 288,
   "metadata": {
    "ExecuteTime": {
     "end_time": "2022-09-21T12:48:52.789189Z",
     "start_time": "2022-09-21T12:48:52.783855Z"
    },
    "colab": {
     "base_uri": "https://localhost:8080/",
     "height": 35
    },
    "id": "S1RzHTaWTs71",
    "outputId": "b28c906e-e637-4339-97fc-857afab65590"
   },
   "outputs": [
    {
     "data": {
      "text/plain": [
       "'some_sample_long_sample_long_sample'"
      ]
     },
     "execution_count": 288,
     "metadata": {},
     "output_type": "execute_result"
    }
   ],
   "source": [
    "sample_string += '_long_sample'\n",
    "sample_string"
   ]
  },
  {
   "cell_type": "markdown",
   "metadata": {
    "id": "Tz0kKRMFT-mV"
   },
   "source": [
    "Но ведь мы сказали, что строки неизменяемы...\n",
    "\n",
    "Все верно, шорткатом += мы переопределили переменную. Сравним адреса и убедимся, что они отличаются"
   ]
  },
  {
   "cell_type": "code",
   "execution_count": 289,
   "metadata": {
    "ExecuteTime": {
     "end_time": "2022-09-21T12:48:58.452870Z",
     "start_time": "2022-09-21T12:48:58.447445Z"
    },
    "colab": {
     "base_uri": "https://localhost:8080/"
    },
    "id": "T3QBWt9mUKPO",
    "outputId": "b187398b-6340-4062-eb91-5e0f63f291e9"
   },
   "outputs": [
    {
     "data": {
      "text/plain": [
       "140476001643664"
      ]
     },
     "execution_count": 289,
     "metadata": {},
     "output_type": "execute_result"
    }
   ],
   "source": [
    "id(sample_string)"
   ]
  },
  {
   "cell_type": "code",
   "execution_count": 290,
   "metadata": {
    "ExecuteTime": {
     "end_time": "2022-09-21T12:49:04.676482Z",
     "start_time": "2022-09-21T12:49:04.668616Z"
    },
    "colab": {
     "base_uri": "https://localhost:8080/"
    },
    "id": "QhixiIp9UZTV",
    "outputId": "080abbfc-4253-4d0d-a1c2-7a0c1ab6e89b"
   },
   "outputs": [
    {
     "data": {
      "text/plain": [
       "140476001643856"
      ]
     },
     "execution_count": 290,
     "metadata": {},
     "output_type": "execute_result"
    }
   ],
   "source": [
    "sample_string += '1'\n",
    "id(sample_string)"
   ]
  },
  {
   "cell_type": "markdown",
   "metadata": {
    "id": "n9DyOqWJcrc5"
   },
   "source": [
    "Складывать число со строкой нельзя. Но можно воспользоваться функцией **str**, которая преобразует число в строку"
   ]
  },
  {
   "cell_type": "code",
   "execution_count": 291,
   "metadata": {
    "ExecuteTime": {
     "end_time": "2022-09-21T12:49:30.390517Z",
     "start_time": "2022-09-21T12:49:30.382637Z"
    },
    "colab": {
     "base_uri": "https://localhost:8080/"
    },
    "id": "Ioy92EiRcrc6",
    "outputId": "5f15ec92-694e-46de-9155-e13aa94d61f1"
   },
   "outputs": [
    {
     "name": "stdout",
     "output_type": "stream",
     "text": [
      "2 + 3 = 5\n"
     ]
    }
   ],
   "source": [
    "answer = '2 + 3 = ' + str(2 + 3)\n",
    "print(answer)"
   ]
  },
  {
   "cell_type": "markdown",
   "metadata": {
    "id": "7l4U1daWcrc-"
   },
   "source": [
    "Можно умножить строку на целое неотрицательное число, в результате получится исходная строка повторенная заданное число раз:"
   ]
  },
  {
   "cell_type": "code",
   "execution_count": 292,
   "metadata": {
    "ExecuteTime": {
     "end_time": "2022-09-21T12:50:29.875078Z",
     "start_time": "2022-09-21T12:50:29.867341Z"
    },
    "colab": {
     "base_uri": "https://localhost:8080/"
    },
    "id": "UNlMO6Jjcrc-",
    "outputId": "36b7999c-0329-4bb4-f250-f7b2865ff9b9"
   },
   "outputs": [
    {
     "name": "stdout",
     "output_type": "stream",
     "text": [
      "ByeByeBye!\n"
     ]
    }
   ],
   "source": [
    "word = 'Bye'\n",
    "phrase = word * 3 + '!'\n",
    "print(phrase)"
   ]
  },
  {
   "cell_type": "markdown",
   "metadata": {},
   "source": [
    "Строки могут быть многострочными :/"
   ]
  },
  {
   "cell_type": "code",
   "execution_count": 297,
   "metadata": {
    "ExecuteTime": {
     "end_time": "2022-09-21T12:51:59.700184Z",
     "start_time": "2022-09-21T12:51:59.696482Z"
    }
   },
   "outputs": [
    {
     "name": "stdout",
     "output_type": "stream",
     "text": [
      "\n",
      "Hello\n",
      "    I\n",
      "        am\n",
      "            multistring\n",
      "                                        string\n",
      "\n"
     ]
    }
   ],
   "source": [
    "a = '''\n",
    "Hello\n",
    "    I\n",
    "        am\n",
    "            multistring\n",
    "                                        string\n",
    "'''\n",
    "\n",
    "print(a)"
   ]
  },
  {
   "cell_type": "code",
   "execution_count": 298,
   "metadata": {
    "ExecuteTime": {
     "end_time": "2022-09-21T12:52:17.081699Z",
     "start_time": "2022-09-21T12:52:04.044650Z"
    },
    "colab": {
     "base_uri": "https://localhost:8080/"
    },
    "id": "RfGi2UtPcrdD",
    "outputId": "ca76cf19-b5c9-475f-b673-b9db75c2f032"
   },
   "outputs": [
    {
     "name": "stdout",
     "output_type": "stream",
     "text": [
      "Vladimir\n",
      "I love Vladimir !\n"
     ]
    }
   ],
   "source": [
    "name = input()\n",
    "print('I love', name,'!')"
   ]
  },
  {
   "cell_type": "markdown",
   "metadata": {
    "id": "9as9uZtKcrdH"
   },
   "source": [
    "Во многих задачах требуется работать с числами, а читать мы умеем только строки. \n",
    "\n",
    "Чтобы преобразовать строку, состоящую из цифр (и, возможно, знака \"-\" перед ними) в целое число можно воспользоваться функцией **int** (сокращение от integer). Например, решение задачи о сложении двух чисел будет выглядеть так:"
   ]
  },
  {
   "cell_type": "code",
   "execution_count": 299,
   "metadata": {
    "ExecuteTime": {
     "end_time": "2022-09-21T12:52:43.285621Z",
     "start_time": "2022-09-21T12:52:38.278519Z"
    },
    "colab": {
     "base_uri": "https://localhost:8080/"
    },
    "id": "IGW_zhwHcrdI",
    "outputId": "dd4c529f-289e-40a0-b502-a51e3d4ad524"
   },
   "outputs": [
    {
     "name": "stdout",
     "output_type": "stream",
     "text": [
      "4\n",
      "8\n",
      "12\n"
     ]
    }
   ],
   "source": [
    "a = int(input())\n",
    "b = int(input())\n",
    "print(a + b)"
   ]
  },
  {
   "cell_type": "markdown",
   "metadata": {},
   "source": [
    "Выше мы дали определение строки как неизменяемая последовательность символов (immutabe sequence of _charachters_). Но что такое _charachter_?"
   ]
  },
  {
   "cell_type": "markdown",
   "metadata": {},
   "source": [
    "в Python3 это символ Unicode. В зависимости от используемого стандарта Unicode, представление кода в байтах может отличаться"
   ]
  },
  {
   "cell_type": "code",
   "execution_count": 300,
   "metadata": {
    "ExecuteTime": {
     "end_time": "2022-09-21T12:53:38.957729Z",
     "start_time": "2022-09-21T12:53:38.952379Z"
    }
   },
   "outputs": [
    {
     "data": {
      "text/plain": [
       "4"
      ]
     },
     "execution_count": 300,
     "metadata": {},
     "output_type": "execute_result"
    }
   ],
   "source": [
    "s = 'café'\n",
    "len(s)  # 4 символа юникода"
   ]
  },
  {
   "cell_type": "code",
   "execution_count": 301,
   "metadata": {
    "ExecuteTime": {
     "end_time": "2022-09-21T12:53:44.839651Z",
     "start_time": "2022-09-21T12:53:44.834252Z"
    }
   },
   "outputs": [
    {
     "data": {
      "text/plain": [
       "b'caf\\xc3\\xa9'"
      ]
     },
     "execution_count": 301,
     "metadata": {},
     "output_type": "execute_result"
    }
   ],
   "source": [
    "b = s.encode('utf8')\n",
    "b  # 5 байт в кодировке, т.к. последний символ занимает 2 байта в UTF-8"
   ]
  },
  {
   "cell_type": "code",
   "execution_count": 304,
   "metadata": {
    "ExecuteTime": {
     "end_time": "2022-09-21T12:54:44.516307Z",
     "start_time": "2022-09-21T12:54:44.510799Z"
    }
   },
   "outputs": [
    {
     "data": {
      "text/plain": [
       "5"
      ]
     },
     "execution_count": 304,
     "metadata": {},
     "output_type": "execute_result"
    }
   ],
   "source": [
    "len(b)"
   ]
  },
  {
   "cell_type": "code",
   "execution_count": 305,
   "metadata": {
    "ExecuteTime": {
     "end_time": "2022-09-21T12:54:55.442446Z",
     "start_time": "2022-09-21T12:54:55.436984Z"
    }
   },
   "outputs": [
    {
     "data": {
      "text/plain": [
       "'café'"
      ]
     },
     "execution_count": 305,
     "metadata": {},
     "output_type": "execute_result"
    }
   ],
   "source": [
    "b.decode('utf8')"
   ]
  },
  {
   "cell_type": "markdown",
   "metadata": {},
   "source": [
    "**Неочевидные вещи**"
   ]
  },
  {
   "cell_type": "code",
   "execution_count": 311,
   "metadata": {
    "ExecuteTime": {
     "end_time": "2022-09-21T12:57:58.743841Z",
     "start_time": "2022-09-21T12:57:58.738317Z"
    }
   },
   "outputs": [
    {
     "data": {
      "text/plain": [
       "True"
      ]
     },
     "execution_count": 311,
     "metadata": {},
     "output_type": "execute_result"
    }
   ],
   "source": [
    "a = 'whaat'\n",
    "b = 'whaat'\n",
    "\n",
    "id(a) == id(b)"
   ]
  },
  {
   "cell_type": "code",
   "execution_count": 307,
   "metadata": {
    "ExecuteTime": {
     "end_time": "2022-09-21T12:56:06.279776Z",
     "start_time": "2022-09-21T12:56:06.274695Z"
    }
   },
   "outputs": [
    {
     "data": {
      "text/plain": [
       "False"
      ]
     },
     "execution_count": 307,
     "metadata": {},
     "output_type": "execute_result"
    }
   ],
   "source": [
    "a = 'whaaat?!'\n",
    "b = 'whaaat?!'\n",
    "\n",
    "id(a) == id(b)"
   ]
  },
  {
   "cell_type": "code",
   "execution_count": 310,
   "metadata": {
    "ExecuteTime": {
     "end_time": "2022-09-21T12:56:48.318805Z",
     "start_time": "2022-09-21T12:56:48.313226Z"
    }
   },
   "outputs": [
    {
     "data": {
      "text/plain": [
       "True"
      ]
     },
     "execution_count": 310,
     "metadata": {},
     "output_type": "execute_result"
    }
   ],
   "source": [
    "a = 'whaat_is_happening1243'\n",
    "b = 'whaat_is_happening1243'\n",
    "\n",
    "id(a) == id(b)"
   ]
  },
  {
   "cell_type": "markdown",
   "metadata": {},
   "source": [
    "## Приоритет операций"
   ]
  },
  {
   "cell_type": "markdown",
   "metadata": {},
   "source": [
    "- Операции в скобках\n",
    "- Возведение в степень: `**`\n",
    "- Унарные операции: `+x, -x, ~x`\n",
    "- Умножение, деление, остаток: `a *, /, //, % b`\n",
    "- Сложение, вычитание: `a +,- b`\n",
    "- Сравнения: `is, is not, <, <=, >, >=, !=, ==`\n",
    "- `not x`\n",
    "- `a and b`\n",
    "- `a or b`"
   ]
  },
  {
   "cell_type": "markdown",
   "metadata": {
    "ExecuteTime": {
     "end_time": "2022-09-08T09:38:25.990321Z",
     "start_time": "2022-09-08T09:38:25.985137Z"
    }
   },
   "source": [
    "https://docs.python.org/3/reference/expressions.html#operator-precedence\n",
    "\n",
    "https://www.tutorialspoint.com/python/operators_precedence_example.htm"
   ]
  },
  {
   "cell_type": "code",
   "execution_count": 314,
   "metadata": {
    "ExecuteTime": {
     "end_time": "2022-09-21T12:58:48.693936Z",
     "start_time": "2022-09-21T12:58:48.687958Z"
    }
   },
   "outputs": [
    {
     "data": {
      "text/plain": [
       "-300.0"
      ]
     },
     "execution_count": 314,
     "metadata": {},
     "output_type": "execute_result"
    }
   ],
   "source": [
    "a = 10\n",
    "b = 5\n",
    "c = 20\n",
    "d = 3\n",
    "\n",
    "(a + b) * c / (d - 4)"
   ]
  },
  {
   "cell_type": "markdown",
   "metadata": {},
   "source": [
    "## Ничего"
   ]
  },
  {
   "cell_type": "markdown",
   "metadata": {},
   "source": [
    "В Python есть ключевое слово None.\n",
    "\n",
    "Оно используется для опрередеоения `null value` or `Null object`. Это не то же самое что, например, пустая строка или 0. Это тип пустого объекта"
   ]
  },
  {
   "cell_type": "code",
   "execution_count": 315,
   "metadata": {
    "ExecuteTime": {
     "end_time": "2022-09-21T12:59:22.616559Z",
     "start_time": "2022-09-21T12:59:22.608954Z"
    }
   },
   "outputs": [
    {
     "name": "stdout",
     "output_type": "stream",
     "text": [
      "a\n"
     ]
    }
   ],
   "source": [
    "a = print('a')"
   ]
  },
  {
   "cell_type": "code",
   "execution_count": 321,
   "metadata": {
    "ExecuteTime": {
     "end_time": "2022-09-21T12:59:49.881360Z",
     "start_time": "2022-09-21T12:59:49.876866Z"
    }
   },
   "outputs": [],
   "source": [
    "empty_var = None"
   ]
  },
  {
   "cell_type": "code",
   "execution_count": 322,
   "metadata": {
    "ExecuteTime": {
     "end_time": "2022-09-21T12:59:50.127664Z",
     "start_time": "2022-09-21T12:59:50.122674Z"
    }
   },
   "outputs": [
    {
     "data": {
      "text/plain": [
       "True"
      ]
     },
     "execution_count": 322,
     "metadata": {},
     "output_type": "execute_result"
    }
   ],
   "source": [
    "empty_var is None"
   ]
  },
  {
   "cell_type": "code",
   "execution_count": 320,
   "metadata": {
    "ExecuteTime": {
     "end_time": "2022-09-21T12:59:48.092650Z",
     "start_time": "2022-09-21T12:59:48.087855Z"
    }
   },
   "outputs": [
    {
     "data": {
      "text/plain": [
       "94271654034560"
      ]
     },
     "execution_count": 320,
     "metadata": {},
     "output_type": "execute_result"
    }
   ],
   "source": [
    "id(None)"
   ]
  },
  {
   "cell_type": "markdown",
   "metadata": {
    "id": "SDESIEteUm_0",
    "jp-MarkdownHeadingCollapsed": true,
    "tags": []
   },
   "source": [
    "## Тут всё объекты"
   ]
  },
  {
   "cell_type": "markdown",
   "metadata": {
    "ExecuteTime": {
     "end_time": "2022-09-07T23:36:45.450859Z",
     "start_time": "2022-09-07T23:36:45.441133Z"
    }
   },
   "source": [
    "Переменная в python -- это на самом деле объект и у него есть разные \"скрытые\" свойства"
   ]
  },
  {
   "cell_type": "code",
   "execution_count": 323,
   "metadata": {
    "ExecuteTime": {
     "end_time": "2022-09-21T13:00:00.052208Z",
     "start_time": "2022-09-21T13:00:00.047918Z"
    }
   },
   "outputs": [],
   "source": [
    "some_number = 100"
   ]
  },
  {
   "cell_type": "code",
   "execution_count": 324,
   "metadata": {
    "ExecuteTime": {
     "end_time": "2022-09-21T13:00:05.342753Z",
     "start_time": "2022-09-21T13:00:05.334521Z"
    }
   },
   "outputs": [
    {
     "data": {
      "text/plain": [
       "int"
      ]
     },
     "execution_count": 324,
     "metadata": {},
     "output_type": "execute_result"
    }
   ],
   "source": [
    "type(some_number)"
   ]
  },
  {
   "cell_type": "code",
   "execution_count": 325,
   "metadata": {
    "ExecuteTime": {
     "end_time": "2022-09-21T13:00:07.542630Z",
     "start_time": "2022-09-21T13:00:07.535622Z"
    }
   },
   "outputs": [
    {
     "name": "stdout",
     "output_type": "stream",
     "text": [
      "<class 'int'>\n"
     ]
    }
   ],
   "source": [
    "print(type(some_number))"
   ]
  },
  {
   "cell_type": "code",
   "execution_count": 327,
   "metadata": {
    "ExecuteTime": {
     "end_time": "2022-09-21T13:00:28.446174Z",
     "start_time": "2022-09-21T13:00:28.440897Z"
    }
   },
   "outputs": [
    {
     "data": {
      "text/plain": [
       "True"
      ]
     },
     "execution_count": 327,
     "metadata": {},
     "output_type": "execute_result"
    }
   ],
   "source": [
    "isinstance(some_number, int)"
   ]
  },
  {
   "cell_type": "code",
   "execution_count": 328,
   "metadata": {
    "ExecuteTime": {
     "end_time": "2022-09-21T13:00:30.964906Z",
     "start_time": "2022-09-21T13:00:30.956456Z"
    }
   },
   "outputs": [
    {
     "data": {
      "text/plain": [
       "300"
      ]
     },
     "execution_count": 328,
     "metadata": {},
     "output_type": "execute_result"
    }
   ],
   "source": [
    "some_number + 200"
   ]
  },
  {
   "cell_type": "code",
   "execution_count": 329,
   "metadata": {
    "ExecuteTime": {
     "end_time": "2022-09-21T13:00:41.532628Z",
     "start_time": "2022-09-21T13:00:41.527415Z"
    }
   },
   "outputs": [
    {
     "data": {
      "text/plain": [
       "300"
      ]
     },
     "execution_count": 329,
     "metadata": {},
     "output_type": "execute_result"
    }
   ],
   "source": [
    "some_number.__add__(200)"
   ]
  },
  {
   "cell_type": "code",
   "execution_count": 331,
   "metadata": {
    "ExecuteTime": {
     "end_time": "2022-09-21T13:01:20.961958Z",
     "start_time": "2022-09-21T13:01:20.957287Z"
    }
   },
   "outputs": [
    {
     "data": {
      "text/plain": [
       "'100'"
      ]
     },
     "execution_count": 331,
     "metadata": {},
     "output_type": "execute_result"
    }
   ],
   "source": [
    "str(some_number)"
   ]
  },
  {
   "cell_type": "code",
   "execution_count": 334,
   "metadata": {
    "ExecuteTime": {
     "end_time": "2022-09-21T13:01:47.776598Z",
     "start_time": "2022-09-21T13:01:47.771151Z"
    }
   },
   "outputs": [
    {
     "data": {
      "text/plain": [
       "'100'"
      ]
     },
     "execution_count": 334,
     "metadata": {},
     "output_type": "execute_result"
    }
   ],
   "source": [
    "some_number.__str__()"
   ]
  },
  {
   "cell_type": "markdown",
   "metadata": {
    "id": "RJsRDynScrdM"
   },
   "source": [
    "## The Zen of Python\n",
    "\n",
    "Python -- это не просто язык, но и некоторый свод практик программирования. И если в какой-то момент кто-то что-то ~~попутал~~ забыл, всегда можно освежить в памяти данные принципы по следующей команде:\n"
   ]
  },
  {
   "cell_type": "code",
   "execution_count": 1,
   "metadata": {
    "ExecuteTime": {
     "end_time": "2022-09-21T13:03:26.917856Z",
     "start_time": "2022-09-21T13:03:26.909708Z"
    }
   },
   "outputs": [
    {
     "name": "stdout",
     "output_type": "stream",
     "text": [
      "The Zen of Python, by Tim Peters\n",
      "\n",
      "Beautiful is better than ugly.\n",
      "Explicit is better than implicit.\n",
      "Simple is better than complex.\n",
      "Complex is better than complicated.\n",
      "Flat is better than nested.\n",
      "Sparse is better than dense.\n",
      "Readability counts.\n",
      "Special cases aren't special enough to break the rules.\n",
      "Although practicality beats purity.\n",
      "Errors should never pass silently.\n",
      "Unless explicitly silenced.\n",
      "In the face of ambiguity, refuse the temptation to guess.\n",
      "There should be one-- and preferably only one --obvious way to do it.\n",
      "Although that way may not be obvious at first unless you're Dutch.\n",
      "Now is better than never.\n",
      "Although never is often better than *right* now.\n",
      "If the implementation is hard to explain, it's a bad idea.\n",
      "If the implementation is easy to explain, it may be a good idea.\n",
      "Namespaces are one honking great idea -- let's do more of those!\n"
     ]
    }
   ],
   "source": [
    "import this"
   ]
  },
  {
   "cell_type": "markdown",
   "metadata": {},
   "source": [
    "Хотя в целом `explicit better than implicit!!!`, часто принято использовать **implicit True/False**"
   ]
  },
  {
   "cell_type": "code",
   "execution_count": 3,
   "metadata": {
    "ExecuteTime": {
     "end_time": "2022-09-21T13:05:22.160953Z",
     "start_time": "2022-09-21T13:05:22.153852Z"
    }
   },
   "outputs": [
    {
     "name": "stdout",
     "output_type": "stream",
     "text": [
      "123123\n"
     ]
    }
   ],
   "source": [
    "s = '123'\n",
    "\n",
    "if s:\n",
    "    print(s*2)"
   ]
  },
  {
   "cell_type": "markdown",
   "metadata": {},
   "source": [
    "Выдержка из Google Style Guide для Python:\n",
    "\n",
    "    Python evaluates certain values as False when in a boolean context. A quick “rule of thumb” is that all “empty” values are considered false, so 0, None, [], {}, '' all evaluate as false in a boolean context.\n",
    "    \n",
    "Подробнее можно прочитать [здесь](https://google.github.io/styleguide/pyguide.html#2144-decision)\n",
    "    \n",
    "Часто такие сокращения даже немного быстрее и более читаемы"
   ]
  },
  {
   "cell_type": "markdown",
   "metadata": {},
   "source": [
    "## Немного о динамической типизации"
   ]
  },
  {
   "cell_type": "markdown",
   "metadata": {},
   "source": [
    "Переменная в Python не имеет фиксированного типа"
   ]
  },
  {
   "cell_type": "code",
   "execution_count": null,
   "metadata": {
    "ExecuteTime": {
     "end_time": "2022-09-21T11:19:04.536635Z",
     "start_time": "2022-09-21T11:19:04.531744Z"
    }
   },
   "outputs": [],
   "source": [
    "a = 5\n",
    "print(type(a))\n",
    "\n",
    "a = '5'\n",
    "print(type(a))"
   ]
  },
  {
   "cell_type": "markdown",
   "metadata": {},
   "source": [
    "Как думаете, в чем может быть потенциальная проблема в такой функции?"
   ]
  },
  {
   "cell_type": "code",
   "execution_count": null,
   "metadata": {
    "ExecuteTime": {
     "end_time": "2022-09-21T11:19:26.767169Z",
     "start_time": "2022-09-21T11:19:26.760801Z"
    }
   },
   "outputs": [],
   "source": [
    "def add_objects(obj_one, obj_two):\n",
    "    return obj_one + 2 * obj_two"
   ]
  },
  {
   "cell_type": "code",
   "execution_count": null,
   "metadata": {
    "ExecuteTime": {
     "end_time": "2022-09-21T11:19:30.166326Z",
     "start_time": "2022-09-21T11:19:30.161485Z"
    }
   },
   "outputs": [],
   "source": [
    "add_objects(1, 5)"
   ]
  },
  {
   "cell_type": "markdown",
   "metadata": {},
   "source": [
    "Есть некоторая вероятность, что мы хотим, чтобы наш код работал только ожидаемым для нас образом. Для этого можно явно подсветить входные и выходные типы данных. Эту информацию может использовать ваша IDE для подсказок об ошибках в типизации"
   ]
  },
  {
   "cell_type": "code",
   "execution_count": null,
   "metadata": {
    "ExecuteTime": {
     "end_time": "2022-09-21T11:20:37.810280Z",
     "start_time": "2022-09-21T11:20:37.805220Z"
    }
   },
   "outputs": [],
   "source": [
    "def refined_add_objects(obj_one: int, obj_two: int) -> int:\n",
    "    return obj_one + 2 * obj_two\n",
    "\n",
    "refined_add_objects(5, 10)"
   ]
  },
  {
   "cell_type": "code",
   "execution_count": null,
   "metadata": {
    "ExecuteTime": {
     "end_time": "2022-09-21T11:21:32.754369Z",
     "start_time": "2022-09-21T11:21:32.748221Z"
    }
   },
   "outputs": [],
   "source": [
    "refined_add_objects(5, 10)"
   ]
  },
  {
   "cell_type": "markdown",
   "metadata": {},
   "source": [
    "Для более строгой типизации можно обратиться к модулю typing "
   ]
  },
  {
   "cell_type": "code",
   "execution_count": null,
   "metadata": {},
   "outputs": [],
   "source": [
    "from typing import List\n",
    "\n",
    "def refined_add_objects(obj_one: List, obj_two: List):\n",
    "    return obj_one + 2 * obj_two"
   ]
  },
  {
   "cell_type": "markdown",
   "metadata": {
    "id": "t6b4Ip_oabmH"
   },
   "source": [
    "# Для тех, кто уже знает _чуть_ больше :)"
   ]
  },
  {
   "cell_type": "markdown",
   "metadata": {
    "id": "NkQBlvTzknlZ"
   },
   "source": [
    "## WSL (optional)\n",
    "\n",
    "Скорее всего в вашей дальнейшей учебе или работе вам придется либо собирать большие библиотеки, у которых могут быть сложности при сборке под Windows, либо работать с удаленными серверами, т.к. ресурсов ноутбука может не хватать при взаимодействии с большими данными. В таких случаях вы неизбежно столкнетесь с Linux.\n",
    "\n",
    "Я бы очень советовал вам постепенно начать знакомиться в этой ОС. Можно (но, разумеется, не обязательно) это сделать даже на нашем курсе :)\n",
    "\n",
    "Некоторое время назад внутри Windows можно нативно поднять виртуалку с дистрибутивом Линукса и работать под виндой почти так же, как если бы вы полноценно использовали другую ОС. Вы можете попробовать создать себе там среду разработки для питона и попрактиковаться.\n",
    "\n",
    "Шаги для этого:\n",
    "1. Установите дистрибутив Ubuntu с помощью официального [гайда](https://docs.microsoft.com/ru-ru/windows/wsl/install-win10#manual-installation-steps) от Майкрософт\n",
    "2. [Почитайте](https://ubuntu.com/tutorials/command-line-for-beginners#1-overview) про базовые команды для работы с терминалом\n",
    "3.. (optional) Установите Windows Terminal из Microsoft Store \n",
    "4. Создайте рабочую папку командой `mkdir my_work`\n",
    "5. Выполните команду `sudo apt-get install python3-venv` \n",
    "6. Зайдите в созданную папку `cd my_work` и создайте окружение питона командой `python3 -m venv myenv`\n",
    "7. Активируйте окружение командой `source myenv/bin/activate`. Выйти из окружения можно с помощью команды `deactivate`\n",
    "\n",
    "Виртуальное окружение -- это интрумент в Python для работы с зависимостями и библиотеками в рамках отельных проектов. Окружение позволяет устанавливать локально для каждого проекта все необходимые пакеты конкретных версий, которые нужны для его работы.\n",
    "\n",
    "Также можно установить anaconda под линукс и пользоваться командой conda для создания виртуальных окружений. Это может быть полезно для того, чтобы иметь под рукой несколько разных версий питона и переключаться между ними от проекта к проекту.\n",
    "\n",
    "8. Установите редактор Visual Studio Code. В нем в пункте Remote Explorer нужно выбрать опцию WSL Targets. В окошке должен появиться ваш установленный дистрибутив линукса.\n",
    "9. Редактор позволяет вам создать файл под линуксом через меню File, будто вы работаете как обычно внутри Windows. Создайте файл test.py\n",
    "с содержимым, например, `print(\"Hello, world in Linux!\")`\n",
    "10. Нажмите сочетание **Ctrl+\\`** или потяните мышкой с нижней части окна программы. У вас вытянется терминал. В нем запустите ваш созданный файл командой `python test.py`\n",
    "\n",
    "\n",
    "Если будут возникать вопросы, смело пишите в телеграме."
   ]
  },
  {
   "cell_type": "markdown",
   "metadata": {
    "id": "t6b4Ip_oabmH"
   },
   "source": [
    "## Однострочники"
   ]
  },
  {
   "cell_type": "markdown",
   "metadata": {
    "id": "t6b4Ip_oabmH"
   },
   "source": [
    "Здесь мы очень сильно забегаем вперед. Но если кто-то уже хорошо знает Python и ему скучно...\n",
    "\n",
    "То давайте на минутку забудем про принципы читаемости кода и немного попишем однострочников! Мы ведь все это любим в глубине души..."
   ]
  },
  {
   "cell_type": "markdown",
   "metadata": {
    "id": "zV2id7uTaqi6"
   },
   "source": [
    "**1.** На вход подается строка из слов, разделенных пробелами. Прочитайте через input и выведете в нижнем регистре с сортировкой в алфавитном порядке, разделяя слова символом \"!\"\n",
    "\n",
    "В одну строчку :)"
   ]
  },
  {
   "cell_type": "code",
   "execution_count": null,
   "metadata": {},
   "outputs": [],
   "source": [
    "Alice and Bob love playtinf Aad"
   ]
  },
  {
   "cell_type": "code",
   "execution_count": null,
   "metadata": {
    "colab": {
     "base_uri": "https://localhost:8080/",
     "height": 52
    },
    "id": "Dxsgj1uubsep",
    "outputId": "c4df16c1-10b3-4241-d80d-924724c17e52"
   },
   "outputs": [],
   "source": [
    "# your solution"
   ]
  },
  {
   "cell_type": "markdown",
   "metadata": {
    "id": "a0HZ7ygQbPKp"
   },
   "source": [
    "**2.** На вход подается N пар чисел (читаем количество чисел через input). Вывести пары, отсорированные по квадратам разностей между числами.\n",
    "\n",
    "В одну строчку:)"
   ]
  },
  {
   "cell_type": "code",
   "execution_count": null,
   "metadata": {},
   "outputs": [],
   "source": [
    "# your solution"
   ]
  }
 ],
 "metadata": {
  "colab": {
   "collapsed_sections": [],
   "name": "Copy of Hello world_08.09.2021.ipynb",
   "provenance": [],
   "toc_visible": true
  },
  "kernelspec": {
   "display_name": "Python 3 (ipykernel)",
   "language": "python",
   "name": "python3"
  },
  "language_info": {
   "codemirror_mode": {
    "name": "ipython",
    "version": 3
   },
   "file_extension": ".py",
   "mimetype": "text/x-python",
   "name": "python",
   "nbconvert_exporter": "python",
   "pygments_lexer": "ipython3",
   "version": "3.9.12"
  },
  "latex_envs": {
   "LaTeX_envs_menu_present": true,
   "autoclose": false,
   "autocomplete": true,
   "bibliofile": "biblio.bib",
   "cite_by": "apalike",
   "current_citInitial": 1,
   "eqLabelWithNumbers": true,
   "eqNumInitial": 1,
   "hotkeys": {
    "equation": "Ctrl-E",
    "itemize": "Ctrl-I"
   },
   "labels_anchors": false,
   "latex_user_defs": false,
   "report_style_numbering": false,
   "user_envs_cfg": false
  },
  "toc": {
   "base_numbering": 1,
   "nav_menu": {},
   "number_sections": true,
   "sideBar": true,
   "skip_h1_title": false,
   "title_cell": "Table of Contents",
   "title_sidebar": "Contents",
   "toc_cell": false,
   "toc_position": {
    "height": "calc(100% - 180px)",
    "left": "10px",
    "top": "150px",
    "width": "261.578px"
   },
   "toc_section_display": true,
   "toc_window_display": true
  },
  "varInspector": {
   "cols": {
    "lenName": 16,
    "lenType": 16,
    "lenVar": 40
   },
   "kernels_config": {
    "python": {
     "delete_cmd_postfix": "",
     "delete_cmd_prefix": "del ",
     "library": "var_list.py",
     "varRefreshCmd": "print(var_dic_list())"
    },
    "r": {
     "delete_cmd_postfix": ") ",
     "delete_cmd_prefix": "rm(",
     "library": "var_list.r",
     "varRefreshCmd": "cat(var_dic_list()) "
    }
   },
   "types_to_exclude": [
    "module",
    "function",
    "builtin_function_or_method",
    "instance",
    "_Feature"
   ],
   "window_display": false
  }
 },
 "nbformat": 4,
 "nbformat_minor": 4
}
