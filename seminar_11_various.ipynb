{
 "cells": [
  {
   "cell_type": "markdown",
   "id": "d1e3bd06",
   "metadata": {},
   "source": [
    "![img](https://c.tenor.com/XHyzk7O2ndIAAAAC/what-meme.gif)"
   ]
  },
  {
   "cell_type": "markdown",
   "id": "40c4794f",
   "metadata": {},
   "source": [
    "# 'Whaaat?!1!' Gaaaame!"
   ]
  },
  {
   "cell_type": "markdown",
   "id": "05d0c675",
   "metadata": {},
   "source": [
    "Правила просты: попробуйте *аргументированно* предсказать вывод ячеек до их запуска. Ради интереса можете заполнить в квадратных скобочках количество ваших верных ответов :)"
   ]
  },
  {
   "cell_type": "markdown",
   "id": "7aebc320",
   "metadata": {},
   "source": [
    "## sorted or not sorted"
   ]
  },
  {
   "cell_type": "code",
   "execution_count": null,
   "id": "5742af70",
   "metadata": {
    "ExecuteTime": {
     "end_time": "2022-12-14T10:09:45.572667Z",
     "start_time": "2022-12-14T10:09:45.565694Z"
    }
   },
   "outputs": [],
   "source": [
    "a = [1, 2, 3, 4]\n",
    "b = [1, 2, 3, 4]"
   ]
  },
  {
   "cell_type": "code",
   "execution_count": null,
   "id": "8f381341",
   "metadata": {
    "ExecuteTime": {
     "end_time": "2022-12-14T10:10:11.470737Z",
     "start_time": "2022-12-14T10:10:11.463704Z"
    }
   },
   "outputs": [],
   "source": [
    "a == sorted(a)"
   ]
  },
  {
   "cell_type": "code",
   "execution_count": null,
   "id": "29700ff7",
   "metadata": {
    "ExecuteTime": {
     "end_time": "2022-12-14T10:10:40.355010Z",
     "start_time": "2022-12-14T10:10:40.349659Z"
    }
   },
   "outputs": [],
   "source": [
    "a == sorted(b)"
   ]
  },
  {
   "cell_type": "code",
   "execution_count": null,
   "id": "4e716960",
   "metadata": {
    "ExecuteTime": {
     "end_time": "2022-12-14T10:11:27.645276Z",
     "start_time": "2022-12-14T10:11:27.639736Z"
    }
   },
   "outputs": [],
   "source": [
    "a == sorted((1, 2, 3, 4))"
   ]
  },
  {
   "cell_type": "code",
   "execution_count": null,
   "id": "3e6cc2b8",
   "metadata": {
    "ExecuteTime": {
     "end_time": "2022-12-14T10:11:34.247464Z",
     "start_time": "2022-12-14T10:11:34.241703Z"
    }
   },
   "outputs": [],
   "source": [
    "(1, 2, 3, 4) == sorted((1, 2, 3, 4))"
   ]
  },
  {
   "cell_type": "code",
   "execution_count": null,
   "id": "df96e259",
   "metadata": {
    "ExecuteTime": {
     "end_time": "2022-12-14T10:11:48.257557Z",
     "start_time": "2022-12-14T10:11:48.252390Z"
    }
   },
   "outputs": [],
   "source": [
    "sorted(a) == sorted(b)"
   ]
  },
  {
   "cell_type": "code",
   "execution_count": null,
   "id": "1f9765ae",
   "metadata": {
    "ExecuteTime": {
     "end_time": "2022-12-14T10:12:01.040111Z",
     "start_time": "2022-12-14T10:12:01.034961Z"
    }
   },
   "outputs": [],
   "source": [
    "reversed(a) == reversed(b)"
   ]
  },
  {
   "cell_type": "code",
   "execution_count": null,
   "id": "5dd30391",
   "metadata": {
    "ExecuteTime": {
     "end_time": "2022-12-14T10:13:31.277388Z",
     "start_time": "2022-12-14T10:13:31.271925Z"
    }
   },
   "outputs": [],
   "source": [
    "reversed(a) == reversed(a)"
   ]
  },
  {
   "cell_type": "code",
   "execution_count": null,
   "id": "d6fee7be",
   "metadata": {
    "ExecuteTime": {
     "end_time": "2022-12-14T10:14:22.933733Z",
     "start_time": "2022-12-14T10:14:22.928651Z"
    }
   },
   "outputs": [],
   "source": [
    "sorted(reversed(a)) == sorted(reversed(b))"
   ]
  },
  {
   "cell_type": "code",
   "execution_count": null,
   "id": "3bd44621",
   "metadata": {
    "ExecuteTime": {
     "end_time": "2022-12-14T10:14:33.601777Z",
     "start_time": "2022-12-14T10:14:33.596114Z"
    }
   },
   "outputs": [],
   "source": [
    "sorted(reversed(a)) == sorted(reversed(a))"
   ]
  },
  {
   "cell_type": "code",
   "execution_count": null,
   "id": "67cb0fb3",
   "metadata": {
    "ExecuteTime": {
     "end_time": "2022-12-14T10:14:41.497183Z",
     "start_time": "2022-12-14T10:14:41.491148Z"
    }
   },
   "outputs": [],
   "source": [
    "a = [1, 2, 3, 4]\n",
    "b = reversed(a)"
   ]
  },
  {
   "cell_type": "code",
   "execution_count": null,
   "id": "28c5eda7",
   "metadata": {
    "ExecuteTime": {
     "end_time": "2022-12-14T10:15:50.299476Z",
     "start_time": "2022-12-14T10:15:50.294554Z"
    }
   },
   "outputs": [],
   "source": [
    "sorted(b) == sorted(b)"
   ]
  },
  {
   "cell_type": "code",
   "execution_count": null,
   "id": "d5733c7b",
   "metadata": {
    "ExecuteTime": {
     "end_time": "2022-12-14T10:16:30.949832Z",
     "start_time": "2022-12-14T10:16:30.943876Z"
    }
   },
   "outputs": [],
   "source": [
    "b = reversed(a)"
   ]
  },
  {
   "cell_type": "code",
   "execution_count": null,
   "id": "458291d7",
   "metadata": {
    "ExecuteTime": {
     "end_time": "2022-12-14T10:16:32.252558Z",
     "start_time": "2022-12-14T10:16:32.243689Z"
    }
   },
   "outputs": [],
   "source": [
    "b"
   ]
  },
  {
   "cell_type": "code",
   "execution_count": null,
   "id": "d1416d3b",
   "metadata": {
    "ExecuteTime": {
     "end_time": "2022-12-14T10:16:55.505001Z",
     "start_time": "2022-12-14T10:16:55.499818Z"
    }
   },
   "outputs": [],
   "source": [
    "sorted(b)"
   ]
  },
  {
   "cell_type": "code",
   "execution_count": null,
   "id": "1e9160c5",
   "metadata": {
    "ExecuteTime": {
     "end_time": "2022-12-14T10:17:04.953945Z",
     "start_time": "2022-12-14T10:17:04.948858Z"
    }
   },
   "outputs": [],
   "source": [
    "sorted(b)"
   ]
  },
  {
   "cell_type": "markdown",
   "id": "036bca8f",
   "metadata": {},
   "source": [
    "## there is else in for"
   ]
  },
  {
   "cell_type": "code",
   "execution_count": 57,
   "id": "23b3a2e2",
   "metadata": {},
   "outputs": [],
   "source": [
    "def does_exists_num(l, to_find):\n",
    "    for num in l:\n",
    "        if num == to_find:\n",
    "            print(\"Exists!\")\n",
    "            break\n",
    "    else:\n",
    "        print(\"Does not exist\")"
   ]
  },
  {
   "cell_type": "code",
   "execution_count": 58,
   "id": "0a623e0a",
   "metadata": {},
   "outputs": [
    {
     "name": "stdout",
     "output_type": "stream",
     "text": [
      "Exists!\n"
     ]
    }
   ],
   "source": [
    "some_list = list(range(15))\n",
    "does_exists_num(some_list, 4)"
   ]
  },
  {
   "cell_type": "code",
   "execution_count": 59,
   "id": "994c5837",
   "metadata": {},
   "outputs": [
    {
     "name": "stdout",
     "output_type": "stream",
     "text": [
      "Does not exist\n"
     ]
    }
   ],
   "source": [
    "some_list = [7, 8, 9]\n",
    "does_exists_num(some_list, 4)"
   ]
  },
  {
   "cell_type": "code",
   "execution_count": 60,
   "id": "f6d5cf69",
   "metadata": {},
   "outputs": [
    {
     "name": "stdout",
     "output_type": "stream",
     "text": [
      "Does not exist\n"
     ]
    }
   ],
   "source": [
    "does_exists_num(some_list, -1)"
   ]
  },
  {
   "cell_type": "markdown",
   "id": "08f0dfb0",
   "metadata": {},
   "source": [
    "## immutable or not immutable"
   ]
  },
  {
   "cell_type": "code",
   "execution_count": null,
   "id": "ff1fc093",
   "metadata": {
    "ExecuteTime": {
     "end_time": "2022-12-14T10:19:10.045240Z",
     "start_time": "2022-12-14T10:19:10.038984Z"
    }
   },
   "outputs": [],
   "source": [
    "a = (1, [2], 3,)"
   ]
  },
  {
   "cell_type": "code",
   "execution_count": null,
   "id": "1f43e83d",
   "metadata": {
    "ExecuteTime": {
     "end_time": "2022-12-14T10:19:37.807054Z",
     "start_time": "2022-12-14T10:19:37.567814Z"
    }
   },
   "outputs": [],
   "source": [
    "a[2] = 4"
   ]
  },
  {
   "cell_type": "code",
   "execution_count": null,
   "id": "71832dac",
   "metadata": {
    "ExecuteTime": {
     "end_time": "2022-12-14T10:20:15.753195Z",
     "start_time": "2022-12-14T10:20:15.740565Z"
    }
   },
   "outputs": [],
   "source": [
    "a[1] = [3]"
   ]
  },
  {
   "cell_type": "code",
   "execution_count": null,
   "id": "731b136f",
   "metadata": {
    "ExecuteTime": {
     "end_time": "2022-12-14T10:20:34.814667Z",
     "start_time": "2022-12-14T10:20:34.810407Z"
    }
   },
   "outputs": [],
   "source": [
    "a[1].extend([3])"
   ]
  },
  {
   "cell_type": "code",
   "execution_count": null,
   "id": "d7541b7c",
   "metadata": {
    "ExecuteTime": {
     "end_time": "2022-12-14T10:20:38.824195Z",
     "start_time": "2022-12-14T10:20:38.819375Z"
    }
   },
   "outputs": [],
   "source": [
    "a"
   ]
  },
  {
   "cell_type": "code",
   "execution_count": null,
   "id": "2fb261ef",
   "metadata": {
    "ExecuteTime": {
     "end_time": "2022-12-14T10:26:38.311697Z",
     "start_time": "2022-12-14T10:26:38.301062Z"
    }
   },
   "outputs": [],
   "source": [
    "print([id(elem) for elem in a])\n",
    "a[1] += [1, 2, 3]"
   ]
  },
  {
   "cell_type": "code",
   "execution_count": null,
   "id": "c813a852",
   "metadata": {
    "ExecuteTime": {
     "end_time": "2022-12-14T10:26:48.924464Z",
     "start_time": "2022-12-14T10:26:48.918528Z"
    }
   },
   "outputs": [],
   "source": [
    "print([id(elem) for elem in a])\n",
    "a"
   ]
  },
  {
   "cell_type": "code",
   "execution_count": null,
   "id": "62428233",
   "metadata": {
    "ExecuteTime": {
     "end_time": "2022-12-14T10:28:19.507985Z",
     "start_time": "2022-12-14T10:28:19.502808Z"
    }
   },
   "outputs": [],
   "source": [
    "c = [4, 5]\n",
    "id_c = id(c)\n",
    "\n",
    "c.extend([0, 1])\n",
    "new_id_c = id(c)"
   ]
  },
  {
   "cell_type": "code",
   "execution_count": null,
   "id": "ea50f3c4",
   "metadata": {
    "ExecuteTime": {
     "end_time": "2022-12-14T10:28:20.882214Z",
     "start_time": "2022-12-14T10:28:20.873615Z"
    }
   },
   "outputs": [],
   "source": [
    "id_c == new_id_c"
   ]
  },
  {
   "cell_type": "code",
   "execution_count": null,
   "id": "9ffcfaae",
   "metadata": {
    "ExecuteTime": {
     "end_time": "2022-12-14T10:29:27.809857Z",
     "start_time": "2022-12-14T10:29:27.804629Z"
    }
   },
   "outputs": [],
   "source": [
    "c += [10, 9]\n",
    "inew_id_c = id(c)\n",
    "\n",
    "id_c == inew_id_c"
   ]
  },
  {
   "cell_type": "code",
   "execution_count": null,
   "id": "6371c35c",
   "metadata": {
    "ExecuteTime": {
     "end_time": "2022-12-14T10:30:14.804325Z",
     "start_time": "2022-12-14T10:30:14.798535Z"
    }
   },
   "outputs": [],
   "source": [
    "c = c + [11, 12]\n",
    "new_id_c = id(c)\n",
    "\n",
    "id_c == new_id_c"
   ]
  },
  {
   "cell_type": "markdown",
   "id": "14dbc898",
   "metadata": {},
   "source": [
    "## bool or not bool"
   ]
  },
  {
   "cell_type": "code",
   "execution_count": null,
   "id": "547130da",
   "metadata": {
    "ExecuteTime": {
     "end_time": "2022-12-14T10:35:16.504094Z",
     "start_time": "2022-12-14T10:35:16.499086Z"
    }
   },
   "outputs": [],
   "source": [
    "bool([])"
   ]
  },
  {
   "cell_type": "code",
   "execution_count": null,
   "id": "f89ebd5d",
   "metadata": {
    "ExecuteTime": {
     "end_time": "2022-12-14T10:35:18.081905Z",
     "start_time": "2022-12-14T10:35:18.073671Z"
    }
   },
   "outputs": [],
   "source": [
    "bool([[]])"
   ]
  },
  {
   "cell_type": "code",
   "execution_count": null,
   "id": "14034aaa",
   "metadata": {
    "ExecuteTime": {
     "end_time": "2022-12-14T10:35:18.274993Z",
     "start_time": "2022-12-14T10:35:18.265653Z"
    }
   },
   "outputs": [],
   "source": [
    "bool([[[]]])"
   ]
  },
  {
   "cell_type": "code",
   "execution_count": null,
   "id": "0c5f6e1e",
   "metadata": {
    "ExecuteTime": {
     "end_time": "2022-12-14T10:35:20.151854Z",
     "start_time": "2022-12-14T10:35:20.142789Z"
    }
   },
   "outputs": [],
   "source": [
    "?all"
   ]
  },
  {
   "cell_type": "code",
   "execution_count": null,
   "id": "4863f358",
   "metadata": {
    "ExecuteTime": {
     "end_time": "2022-12-14T10:35:21.672156Z",
     "start_time": "2022-12-14T10:35:21.662912Z"
    }
   },
   "outputs": [],
   "source": [
    "all([True, False, True])"
   ]
  },
  {
   "cell_type": "code",
   "execution_count": null,
   "id": "90873a01",
   "metadata": {
    "ExecuteTime": {
     "end_time": "2022-12-14T10:35:34.767429Z",
     "start_time": "2022-12-14T10:35:34.762544Z"
    }
   },
   "outputs": [],
   "source": [
    "all(['The', 'last', 'seminar'])"
   ]
  },
  {
   "cell_type": "code",
   "execution_count": null,
   "id": "33a79e81",
   "metadata": {
    "ExecuteTime": {
     "end_time": "2022-12-14T10:35:42.387378Z",
     "start_time": "2022-12-14T10:35:42.381660Z"
    }
   },
   "outputs": [],
   "source": [
    "all([1, 0, 1])"
   ]
  },
  {
   "cell_type": "code",
   "execution_count": null,
   "id": "6beefdb8",
   "metadata": {
    "ExecuteTime": {
     "end_time": "2022-12-14T10:36:21.937891Z",
     "start_time": "2022-12-14T10:36:21.932836Z"
    }
   },
   "outputs": [],
   "source": [
    "all([])"
   ]
  },
  {
   "cell_type": "code",
   "execution_count": null,
   "id": "3a80ac94",
   "metadata": {
    "ExecuteTime": {
     "end_time": "2022-12-14T10:36:36.660312Z",
     "start_time": "2022-12-14T10:36:36.654831Z"
    }
   },
   "outputs": [],
   "source": [
    "all([[]])"
   ]
  },
  {
   "cell_type": "code",
   "execution_count": null,
   "id": "ba503131",
   "metadata": {
    "ExecuteTime": {
     "end_time": "2022-12-14T10:36:53.176963Z",
     "start_time": "2022-12-14T10:36:53.171789Z"
    }
   },
   "outputs": [],
   "source": [
    "all([[[]]])"
   ]
  },
  {
   "cell_type": "code",
   "execution_count": null,
   "id": "dae7456a",
   "metadata": {
    "ExecuteTime": {
     "end_time": "2022-12-14T10:37:12.881804Z",
     "start_time": "2022-12-14T10:37:12.876726Z"
    }
   },
   "outputs": [],
   "source": [
    "all([[[[]]]])"
   ]
  },
  {
   "cell_type": "code",
   "execution_count": null,
   "id": "cab7cd3a-c07a-4f83-a591-1d1fad922daf",
   "metadata": {
    "ExecuteTime": {
     "end_time": "2022-12-14T10:38:05.402524Z",
     "start_time": "2022-12-14T10:38:05.397591Z"
    }
   },
   "outputs": [],
   "source": [
    "False == False in [False]"
   ]
  },
  {
   "cell_type": "code",
   "execution_count": null,
   "id": "385adb26-c4d6-477a-b06c-46df1a643026",
   "metadata": {
    "ExecuteTime": {
     "end_time": "2022-12-14T10:41:11.449075Z",
     "start_time": "2022-12-14T10:41:11.443663Z"
    }
   },
   "outputs": [],
   "source": [
    "False is False is False"
   ]
  },
  {
   "cell_type": "code",
   "execution_count": null,
   "id": "bf99dce0",
   "metadata": {
    "ExecuteTime": {
     "end_time": "2022-12-14T10:40:47.100516Z",
     "start_time": "2022-12-14T10:40:47.094558Z"
    }
   },
   "outputs": [],
   "source": [
    "(False == False) and (False in [False])"
   ]
  },
  {
   "cell_type": "code",
   "execution_count": null,
   "id": "6c6a400c",
   "metadata": {
    "ExecuteTime": {
     "end_time": "2022-12-14T10:38:47.241371Z",
     "start_time": "2022-12-14T10:38:47.236542Z"
    }
   },
   "outputs": [],
   "source": [
    "1 < 2 < 3"
   ]
  },
  {
   "cell_type": "code",
   "execution_count": null,
   "id": "fce72be3-32c6-4b0d-9bf4-0713ec0ea53e",
   "metadata": {
    "ExecuteTime": {
     "end_time": "2022-12-14T10:39:36.546776Z",
     "start_time": "2022-12-14T10:39:36.541528Z"
    }
   },
   "outputs": [],
   "source": [
    "1 > 0 < 1"
   ]
  },
  {
   "cell_type": "markdown",
   "id": "e3560a0e",
   "metadata": {},
   "source": [
    "## not is not is not"
   ]
  },
  {
   "cell_type": "code",
   "execution_count": null,
   "id": "23434029",
   "metadata": {},
   "outputs": [],
   "source": [
    "'something' is not 'nothing'"
   ]
  },
  {
   "cell_type": "code",
   "execution_count": null,
   "id": "8cb757a5",
   "metadata": {},
   "outputs": [],
   "source": [
    "'something' is not None"
   ]
  },
  {
   "cell_type": "code",
   "execution_count": null,
   "id": "d87c1e32",
   "metadata": {},
   "outputs": [],
   "source": [
    "'something' is (not None)"
   ]
  },
  {
   "cell_type": "markdown",
   "id": "10389b94",
   "metadata": {},
   "source": [
    "- `is not` is a single binary operator, and has behavior different than using `is` and `not` separated.\n",
    "- `is not` evaluates to `False` if the variables on either side of the operator point to the same object and `True` otherwise. \n",
    "- In the example, `(not None)` evaluates to `True` since the value `None` is `False` in a boolean context, so the expression becomes `'something' is True`.\n"
   ]
  },
  {
   "cell_type": "code",
   "execution_count": null,
   "id": "44a204ba",
   "metadata": {},
   "outputs": [],
   "source": [
    "t = True\n",
    "f = False"
   ]
  },
  {
   "cell_type": "code",
   "execution_count": null,
   "id": "b2b6e745",
   "metadata": {},
   "outputs": [],
   "source": [
    "t is f"
   ]
  },
  {
   "cell_type": "code",
   "execution_count": null,
   "id": "d8e6c4f7",
   "metadata": {},
   "outputs": [],
   "source": [
    "t == f"
   ]
  },
  {
   "cell_type": "code",
   "execution_count": null,
   "id": "286fa1de",
   "metadata": {},
   "outputs": [],
   "source": [
    "t == (not f)"
   ]
  },
  {
   "cell_type": "code",
   "execution_count": null,
   "id": "eae7caea",
   "metadata": {},
   "outputs": [],
   "source": [
    "t == not f"
   ]
  },
  {
   "cell_type": "code",
   "execution_count": null,
   "id": "0eeda778",
   "metadata": {},
   "outputs": [],
   "source": [
    "t is (not f)"
   ]
  },
  {
   "cell_type": "markdown",
   "id": "190127cc",
   "metadata": {},
   "source": [
    "## love is complicated"
   ]
  },
  {
   "cell_type": "code",
   "execution_count": null,
   "id": "31d50bf3",
   "metadata": {
    "ExecuteTime": {
     "end_time": "2022-12-14T10:43:27.506586Z",
     "start_time": "2022-12-14T10:43:27.498338Z"
    }
   },
   "outputs": [],
   "source": [
    "import this"
   ]
  },
  {
   "cell_type": "code",
   "execution_count": null,
   "id": "414c83dd",
   "metadata": {
    "ExecuteTime": {
     "end_time": "2022-12-14T10:43:37.670154Z",
     "start_time": "2022-12-14T10:43:37.664343Z"
    }
   },
   "outputs": [],
   "source": [
    "love = this"
   ]
  },
  {
   "cell_type": "code",
   "execution_count": null,
   "id": "8d6daf5e",
   "metadata": {
    "ExecuteTime": {
     "end_time": "2022-12-14T10:44:26.685824Z",
     "start_time": "2022-12-14T10:44:26.680386Z"
    }
   },
   "outputs": [],
   "source": [
    "this is love"
   ]
  },
  {
   "cell_type": "code",
   "execution_count": null,
   "id": "a222a732",
   "metadata": {
    "ExecuteTime": {
     "end_time": "2022-12-14T10:45:10.307946Z",
     "start_time": "2022-12-14T10:45:10.302217Z"
    }
   },
   "outputs": [],
   "source": [
    "love is True"
   ]
  },
  {
   "cell_type": "code",
   "execution_count": null,
   "id": "998aeb7c",
   "metadata": {
    "ExecuteTime": {
     "end_time": "2022-12-14T10:45:29.183154Z",
     "start_time": "2022-12-14T10:45:29.174204Z"
    }
   },
   "outputs": [],
   "source": [
    "love is False"
   ]
  },
  {
   "cell_type": "code",
   "execution_count": null,
   "id": "2e394154",
   "metadata": {
    "ExecuteTime": {
     "end_time": "2022-12-14T10:46:29.509901Z",
     "start_time": "2022-12-14T10:46:29.504162Z"
    }
   },
   "outputs": [],
   "source": [
    "love is not True or False"
   ]
  },
  {
   "cell_type": "code",
   "execution_count": null,
   "id": "650c0f2d",
   "metadata": {
    "ExecuteTime": {
     "end_time": "2022-12-14T10:48:33.546764Z",
     "start_time": "2022-12-14T10:48:33.541611Z"
    }
   },
   "outputs": [],
   "source": [
    "(love is not True) and (True or False)"
   ]
  },
  {
   "cell_type": "code",
   "execution_count": null,
   "id": "30c0e7d7",
   "metadata": {
    "ExecuteTime": {
     "end_time": "2022-12-14T10:50:10.563313Z",
     "start_time": "2022-12-14T10:50:10.557483Z"
    }
   },
   "outputs": [],
   "source": [
    "love is not True or False; love is love"
   ]
  },
  {
   "cell_type": "markdown",
   "id": "c69d8ef8",
   "metadata": {},
   "source": [
    "**love is complicated**"
   ]
  },
  {
   "cell_type": "markdown",
   "id": "2c92b584",
   "metadata": {},
   "source": [
    "* `this` module in Python is an easter egg for The Zen Of Python ([PEP 20](https://www.python.org/dev/peps/pep-0020)).\n",
    "* And if you think that's already interesting enough, check out the implementation of [this.py](https://hg.python.org/cpython/file/c3896275c0f6/Lib/this.py). Interestingly, **the code for the Zen violates itself** (and that's probably the only place where this happens).\n",
    "* Regarding the statement `love is not True or False; love is love`, ironic but it's self-explanatory (if not, please see the examples related to `is` and `is not` operators).\n"
   ]
  },
  {
   "cell_type": "markdown",
   "id": "2c21c4ba",
   "metadata": {},
   "source": [
    "## sum or not sum"
   ]
  },
  {
   "cell_type": "code",
   "execution_count": null,
   "id": "6b40917a",
   "metadata": {
    "ExecuteTime": {
     "end_time": "2022-12-14T10:53:04.044339Z",
     "start_time": "2022-12-14T10:53:04.035838Z"
    }
   },
   "outputs": [],
   "source": [
    "'' + 1"
   ]
  },
  {
   "cell_type": "code",
   "execution_count": null,
   "id": "81fc3c57",
   "metadata": {
    "ExecuteTime": {
     "end_time": "2022-12-14T10:53:19.643099Z",
     "start_time": "2022-12-14T10:53:19.633815Z"
    }
   },
   "outputs": [],
   "source": [
    "' ' + ['']"
   ]
  },
  {
   "cell_type": "code",
   "execution_count": null,
   "id": "40f09883",
   "metadata": {
    "ExecuteTime": {
     "end_time": "2022-12-14T10:53:34.085440Z",
     "start_time": "2022-12-14T10:53:34.079979Z"
    }
   },
   "outputs": [],
   "source": [
    "'1' + '3'"
   ]
  },
  {
   "cell_type": "code",
   "execution_count": null,
   "id": "623433bd",
   "metadata": {
    "ExecuteTime": {
     "end_time": "2022-12-14T10:53:53.123716Z",
     "start_time": "2022-12-14T10:53:53.118222Z"
    }
   },
   "outputs": [],
   "source": [
    "[1] + [3]"
   ]
  },
  {
   "cell_type": "code",
   "execution_count": null,
   "id": "ab8ac14f",
   "metadata": {
    "ExecuteTime": {
     "end_time": "2022-12-14T10:54:24.346320Z",
     "start_time": "2022-12-14T10:54:24.341175Z"
    }
   },
   "outputs": [],
   "source": [
    "(1,) + (3,)"
   ]
  },
  {
   "cell_type": "code",
   "execution_count": null,
   "id": "09b6404f",
   "metadata": {
    "ExecuteTime": {
     "end_time": "2022-12-14T10:54:50.417094Z",
     "start_time": "2022-12-14T10:54:50.411438Z"
    }
   },
   "outputs": [],
   "source": [
    "?sum"
   ]
  },
  {
   "cell_type": "code",
   "execution_count": null,
   "id": "4bab5925",
   "metadata": {
    "ExecuteTime": {
     "end_time": "2022-12-14T10:55:18.289735Z",
     "start_time": "2022-12-14T10:55:18.284475Z"
    }
   },
   "outputs": [],
   "source": [
    "sum([1], 2)"
   ]
  },
  {
   "cell_type": "code",
   "execution_count": null,
   "id": "e21d1ac8",
   "metadata": {
    "ExecuteTime": {
     "end_time": "2022-12-14T10:57:36.733578Z",
     "start_time": "2022-12-14T10:57:36.728242Z"
    }
   },
   "outputs": [],
   "source": [
    "sum([1, 2], 2)"
   ]
  },
  {
   "cell_type": "code",
   "execution_count": null,
   "id": "4fd58eee",
   "metadata": {
    "ExecuteTime": {
     "end_time": "2022-12-14T11:00:43.944830Z",
     "start_time": "2022-12-14T11:00:43.939123Z"
    }
   },
   "outputs": [],
   "source": [
    "a = ''"
   ]
  },
  {
   "cell_type": "code",
   "execution_count": null,
   "id": "3e67496a",
   "metadata": {
    "ExecuteTime": {
     "end_time": "2022-12-14T10:58:11.068396Z",
     "start_time": "2022-12-14T10:58:11.063439Z"
    }
   },
   "outputs": [],
   "source": [
    "sum(a)"
   ]
  },
  {
   "cell_type": "code",
   "execution_count": null,
   "id": "6ac087c1",
   "metadata": {
    "ExecuteTime": {
     "end_time": "2022-12-14T10:59:07.504428Z",
     "start_time": "2022-12-14T10:59:07.499682Z"
    }
   },
   "outputs": [],
   "source": [
    "sum(a, [])"
   ]
  },
  {
   "cell_type": "code",
   "execution_count": null,
   "id": "4a4adbc6",
   "metadata": {
    "ExecuteTime": {
     "end_time": "2022-12-14T11:00:23.627035Z",
     "start_time": "2022-12-14T11:00:23.622051Z"
    }
   },
   "outputs": [],
   "source": [
    "sum(a, ())"
   ]
  },
  {
   "cell_type": "code",
   "execution_count": null,
   "id": "af00bd5c",
   "metadata": {
    "ExecuteTime": {
     "end_time": "2022-12-14T11:00:27.245813Z",
     "start_time": "2022-12-14T11:00:27.240830Z"
    }
   },
   "outputs": [],
   "source": [
    "sum(a, {})"
   ]
  },
  {
   "cell_type": "code",
   "execution_count": null,
   "id": "63ee93a6",
   "metadata": {
    "ExecuteTime": {
     "end_time": "2022-12-14T11:00:53.328028Z",
     "start_time": "2022-12-14T11:00:53.318811Z"
    }
   },
   "outputs": [],
   "source": [
    "sum(a, a)"
   ]
  },
  {
   "cell_type": "markdown",
   "id": "2fe2b58d",
   "metadata": {},
   "source": [
    "## functions"
   ]
  },
  {
   "cell_type": "code",
   "execution_count": null,
   "id": "9c1dcc87",
   "metadata": {
    "ExecuteTime": {
     "end_time": "2022-12-14T11:04:13.815661Z",
     "start_time": "2022-12-14T11:04:13.810552Z"
    }
   },
   "outputs": [],
   "source": [
    "a = 10\n",
    "def foo():\n",
    "    return a\n",
    "\n",
    "foo()"
   ]
  },
  {
   "cell_type": "code",
   "execution_count": null,
   "id": "618019ed",
   "metadata": {
    "ExecuteTime": {
     "end_time": "2022-12-14T11:04:17.566279Z",
     "start_time": "2022-12-14T11:04:17.561424Z"
    }
   },
   "outputs": [],
   "source": [
    "a = 20\n",
    "foo()"
   ]
  },
  {
   "cell_type": "code",
   "execution_count": null,
   "id": "0419aec3",
   "metadata": {
    "ExecuteTime": {
     "end_time": "2022-12-14T11:06:18.734947Z",
     "start_time": "2022-12-14T11:06:18.717840Z"
    }
   },
   "outputs": [],
   "source": [
    "def foo():\n",
    "    a += 20\n",
    "    return a\n",
    "\n",
    "foo()"
   ]
  },
  {
   "cell_type": "code",
   "execution_count": null,
   "id": "573ed7a9",
   "metadata": {
    "ExecuteTime": {
     "end_time": "2022-12-14T11:06:54.813370Z",
     "start_time": "2022-12-14T11:06:54.800925Z"
    }
   },
   "outputs": [],
   "source": [
    "def foo():\n",
    "    a += 20\n",
    "    print(a)\n",
    "\n",
    "foo()"
   ]
  },
  {
   "cell_type": "code",
   "execution_count": null,
   "id": "688e6fa4",
   "metadata": {
    "ExecuteTime": {
     "end_time": "2022-12-14T11:07:33.100319Z",
     "start_time": "2022-12-14T11:07:33.091008Z"
    }
   },
   "outputs": [],
   "source": [
    "a"
   ]
  },
  {
   "cell_type": "code",
   "execution_count": null,
   "id": "44e2dfa7",
   "metadata": {
    "ExecuteTime": {
     "end_time": "2022-12-14T11:09:13.190768Z",
     "start_time": "2022-12-14T11:09:13.170301Z"
    }
   },
   "outputs": [],
   "source": [
    "def foo():\n",
    "    return a\n",
    "    a = 20\n",
    "\n",
    "foo()"
   ]
  },
  {
   "cell_type": "code",
   "execution_count": null,
   "id": "8d758f34",
   "metadata": {
    "ExecuteTime": {
     "end_time": "2022-12-14T11:11:32.477055Z",
     "start_time": "2022-12-14T11:11:32.472263Z"
    }
   },
   "outputs": [],
   "source": [
    "a = 40"
   ]
  },
  {
   "cell_type": "code",
   "execution_count": null,
   "id": "a1f7393f",
   "metadata": {
    "ExecuteTime": {
     "end_time": "2022-12-14T11:11:38.000422Z",
     "start_time": "2022-12-14T11:11:37.994560Z"
    }
   },
   "outputs": [],
   "source": [
    "def foo():\n",
    "    global a\n",
    "    return a\n",
    "    a = 20\n",
    "\n",
    "foo(), a"
   ]
  },
  {
   "cell_type": "code",
   "execution_count": null,
   "id": "0aa48c98",
   "metadata": {
    "ExecuteTime": {
     "end_time": "2022-12-14T11:12:58.942000Z",
     "start_time": "2022-12-14T11:12:58.936744Z"
    }
   },
   "outputs": [],
   "source": [
    "a = []\n",
    "\n",
    "def bar(a):\n",
    "    a.append(1)\n",
    "    \n",
    "bar(a)\n",
    "a"
   ]
  },
  {
   "cell_type": "code",
   "execution_count": null,
   "id": "66365beb",
   "metadata": {
    "ExecuteTime": {
     "end_time": "2022-12-14T11:14:12.149989Z",
     "start_time": "2022-12-14T11:14:12.144918Z"
    }
   },
   "outputs": [],
   "source": [
    "def bar(a=[]):\n",
    "    a.append(1)\n",
    "    print(a)\n",
    "\n",
    "bar()"
   ]
  },
  {
   "cell_type": "code",
   "execution_count": null,
   "id": "e8289778",
   "metadata": {
    "ExecuteTime": {
     "end_time": "2022-12-14T11:14:37.401477Z",
     "start_time": "2022-12-14T11:14:37.396834Z"
    }
   },
   "outputs": [],
   "source": [
    "bar()\n",
    "bar()\n",
    "bar()"
   ]
  },
  {
   "cell_type": "markdown",
   "id": "cde7320a",
   "metadata": {},
   "source": [
    "## exceptions can be tricky"
   ]
  },
  {
   "cell_type": "code",
   "execution_count": null,
   "id": "f3f0048f",
   "metadata": {
    "ExecuteTime": {
     "end_time": "2022-12-14T11:22:57.646096Z",
     "start_time": "2022-12-14T11:22:57.640336Z"
    }
   },
   "outputs": [],
   "source": [
    "def foo():\n",
    "    try:\n",
    "        raise TypeError()\n",
    "        return '1'\n",
    "    except TypeError as e:\n",
    "        return '2'\n",
    "    finally:\n",
    "        return '3'\n",
    "    \n",
    "foo()"
   ]
  },
  {
   "cell_type": "code",
   "execution_count": null,
   "id": "148e025b",
   "metadata": {
    "ExecuteTime": {
     "end_time": "2022-12-14T11:22:30.821458Z",
     "start_time": "2022-12-14T11:22:30.815762Z"
    }
   },
   "outputs": [],
   "source": [
    "def foo():\n",
    "    try:\n",
    "        print('A')\n",
    "        raise TypeError()\n",
    "        print('B')\n",
    "        return '1'\n",
    "    except TypeError as e:\n",
    "        print('C')\n",
    "        return '2'\n",
    "        print('D')\n",
    "        \n",
    "foo()"
   ]
  },
  {
   "cell_type": "code",
   "execution_count": null,
   "id": "04e4cb0a",
   "metadata": {
    "ExecuteTime": {
     "end_time": "2022-12-14T11:23:13.882432Z",
     "start_time": "2022-12-14T11:23:13.875142Z"
    }
   },
   "outputs": [],
   "source": [
    "def foo():\n",
    "    try:\n",
    "        print('A')\n",
    "        raise TypeError()\n",
    "        print('B')\n",
    "        return '1'\n",
    "    except TypeError as e:\n",
    "        print('C')\n",
    "        return '2'\n",
    "        print('D')\n",
    "    finally:\n",
    "        print('E')\n",
    "        return '3'\n",
    "        print('F')\n",
    "\n",
    "foo()"
   ]
  },
  {
   "cell_type": "code",
   "execution_count": null,
   "id": "efa0e227-573a-4252-94f4-a8262748ac0a",
   "metadata": {
    "ExecuteTime": {
     "end_time": "2022-12-14T11:24:44.335942Z",
     "start_time": "2022-12-14T11:24:44.329770Z"
    }
   },
   "outputs": [],
   "source": [
    "def foo():\n",
    "    try:\n",
    "        print('A')\n",
    "        raise TypeError()\n",
    "        print('B')\n",
    "        return '1'\n",
    "    except TypeError as e:\n",
    "        print('C')\n",
    "        return '2'\n",
    "        print('D')\n",
    "    finally:\n",
    "        print('E')\n",
    "        print('F')\n",
    "\n",
    "foo()"
   ]
  },
  {
   "cell_type": "code",
   "execution_count": null,
   "id": "e9befaa7-ed56-47ba-821b-e5381ac3d1b6",
   "metadata": {
    "ExecuteTime": {
     "end_time": "2022-12-14T11:24:59.776090Z",
     "start_time": "2022-12-14T11:24:59.770704Z"
    }
   },
   "outputs": [],
   "source": [
    "def another_foo(): \n",
    "    for i in range(4):\n",
    "        print(i)\n",
    "        try:\n",
    "            if i in {1, 2}: \n",
    "                continue\n",
    "            print('yay')\n",
    "        finally:\n",
    "            print(\"Finally!\")\n",
    "            \n",
    "another_foo()"
   ]
  },
  {
   "cell_type": "markdown",
   "id": "095bc32d",
   "metadata": {},
   "source": [
    "## ids are not ids"
   ]
  },
  {
   "cell_type": "code",
   "execution_count": null,
   "id": "c4b9b38d",
   "metadata": {
    "ExecuteTime": {
     "end_time": "2022-12-14T11:25:15.510192Z",
     "start_time": "2022-12-14T11:25:15.505418Z"
    }
   },
   "outputs": [],
   "source": [
    "b = 1\n",
    "\n",
    "id(b) == id(b)"
   ]
  },
  {
   "cell_type": "code",
   "execution_count": null,
   "id": "922d9813",
   "metadata": {
    "ExecuteTime": {
     "end_time": "2022-12-14T11:25:18.599337Z",
     "start_time": "2022-12-14T11:25:18.594333Z"
    }
   },
   "outputs": [],
   "source": [
    "a = [1, 2]\n",
    "c = [3, 4]\n",
    "\n",
    "id(a) == id(c)"
   ]
  },
  {
   "cell_type": "code",
   "execution_count": null,
   "id": "649573a6",
   "metadata": {
    "ExecuteTime": {
     "end_time": "2022-12-14T11:25:22.284544Z",
     "start_time": "2022-12-14T11:25:22.279289Z"
    }
   },
   "outputs": [],
   "source": [
    "a = 1\n",
    "b = -10\n",
    "\n",
    "id(a) == id(b)"
   ]
  },
  {
   "cell_type": "code",
   "execution_count": null,
   "id": "df2c791f",
   "metadata": {
    "ExecuteTime": {
     "end_time": "2022-12-14T11:25:38.749616Z",
     "start_time": "2022-12-14T11:25:38.744007Z"
    }
   },
   "outputs": [],
   "source": [
    "a = 1\n",
    "b = 1\n",
    "\n",
    "id(a) == id(b)"
   ]
  },
  {
   "cell_type": "code",
   "execution_count": null,
   "id": "ead195e3",
   "metadata": {
    "ExecuteTime": {
     "end_time": "2022-12-14T11:25:40.143340Z",
     "start_time": "2022-12-14T11:25:40.137776Z"
    }
   },
   "outputs": [],
   "source": [
    "a = 1000\n",
    "b = 1000\n",
    "\n",
    "id(a) == id(b)"
   ]
  },
  {
   "cell_type": "code",
   "execution_count": null,
   "id": "1a48f407",
   "metadata": {
    "ExecuteTime": {
     "end_time": "2022-12-14T11:26:48.851529Z",
     "start_time": "2022-12-14T11:26:48.845460Z"
    }
   },
   "outputs": [],
   "source": [
    "# Результат этого примера может зависеть от версии интерпретатора\n",
    "a, b = 1000, 1000\n",
    "\n",
    "id(a) == id(b)"
   ]
  },
  {
   "cell_type": "code",
   "execution_count": null,
   "id": "9de0e49f",
   "metadata": {
    "ExecuteTime": {
     "end_time": "2022-12-14T11:27:04.891477Z",
     "start_time": "2022-12-14T11:27:04.885234Z"
    }
   },
   "outputs": [],
   "source": [
    "id_a = id(a)\n",
    "a += 10\n",
    "new_id_a = id(a)\n",
    "\n",
    "id_a == new_id_a"
   ]
  },
  {
   "cell_type": "code",
   "execution_count": null,
   "id": "0473864e",
   "metadata": {
    "ExecuteTime": {
     "end_time": "2022-12-14T11:27:43.455519Z",
     "start_time": "2022-12-14T11:27:43.449851Z"
    }
   },
   "outputs": [],
   "source": [
    "a, b = [1, 2, 3], [1, 2, 3]\n",
    "\n",
    "id(a) == id(b)"
   ]
  },
  {
   "cell_type": "code",
   "execution_count": null,
   "id": "bcd428df",
   "metadata": {
    "ExecuteTime": {
     "end_time": "2022-12-14T11:28:01.777699Z",
     "start_time": "2022-12-14T11:28:01.771701Z"
    }
   },
   "outputs": [],
   "source": [
    "a, b = (1, 2, 3,), (1, 2, 3,)\n",
    "\n",
    "id(a) == id(b)"
   ]
  },
  {
   "cell_type": "code",
   "execution_count": null,
   "id": "c75742d6-8d4a-46fd-96b0-bf449d23c143",
   "metadata": {
    "ExecuteTime": {
     "end_time": "2022-12-14T11:28:27.630510Z",
     "start_time": "2022-12-14T11:28:27.625379Z"
    }
   },
   "outputs": [],
   "source": [
    "a, b = 'whaat!', 'whaat!'\n",
    "\n",
    "id(a) == id(b)"
   ]
  },
  {
   "cell_type": "code",
   "execution_count": null,
   "id": "0773cffd-2867-407c-9870-404340cff4c8",
   "metadata": {
    "ExecuteTime": {
     "end_time": "2022-12-14T11:29:09.130765Z",
     "start_time": "2022-12-14T11:29:09.121481Z"
    }
   },
   "outputs": [],
   "source": [
    "a = 'whaat'\n",
    "b = 'whaat'\n",
    "\n",
    "id(a) == id(b)"
   ]
  },
  {
   "cell_type": "code",
   "execution_count": null,
   "id": "ba714f06-a85d-46c2-9906-1063481d3393",
   "metadata": {
    "ExecuteTime": {
     "end_time": "2022-12-14T11:29:28.460267Z",
     "start_time": "2022-12-14T11:29:28.455657Z"
    }
   },
   "outputs": [],
   "source": [
    "a = 'whaaat?!'\n",
    "b = 'whaaat?!'\n",
    "\n",
    "id(a) == id(b)"
   ]
  },
  {
   "cell_type": "code",
   "execution_count": null,
   "id": "bc0af03b-5439-47c3-8f2b-79c23503888a",
   "metadata": {
    "ExecuteTime": {
     "end_time": "2022-12-14T11:29:34.388300Z",
     "start_time": "2022-12-14T11:29:34.382620Z"
    }
   },
   "outputs": [],
   "source": [
    "a = 'what_is_happening'\n",
    "\n",
    "b = 'what_' + 'is' + '_happening'\n",
    "\n",
    "a is b"
   ]
  },
  {
   "cell_type": "code",
   "execution_count": null,
   "id": "2c34cd99-726b-4cb2-b358-4599e7d9a7f7",
   "metadata": {
    "ExecuteTime": {
     "end_time": "2022-12-14T11:29:43.063431Z",
     "start_time": "2022-12-14T11:29:43.057946Z"
    }
   },
   "outputs": [],
   "source": [
    "a = 'what is happening'\n",
    "\n",
    "b = 'what ' + 'is' + ' happening'\n",
    "\n",
    "a is b"
   ]
  },
  {
   "cell_type": "code",
   "execution_count": null,
   "id": "25474ba7",
   "metadata": {},
   "outputs": [],
   "source": [
    "a = 'что_тут_происходит'\n",
    "\n",
    "b = 'что_' + 'тут' + '_происходит'\n",
    "\n",
    "a is b"
   ]
  },
  {
   "cell_type": "code",
   "execution_count": null,
   "id": "85568399-bf2e-4601-bf39-c4ffd7878a43",
   "metadata": {
    "ExecuteTime": {
     "end_time": "2022-12-14T11:29:48.337609Z",
     "start_time": "2022-12-14T11:29:48.331890Z"
    }
   },
   "outputs": [],
   "source": [
    "'w' * 5 is 'wwwww'"
   ]
  },
  {
   "cell_type": "code",
   "execution_count": null,
   "id": "008a1efd",
   "metadata": {
    "ExecuteTime": {
     "end_time": "2022-12-14T13:14:43.880076Z",
     "start_time": "2022-12-14T13:14:43.869895Z"
    }
   },
   "outputs": [],
   "source": [
    "'привет' * 5 is 'приветприветприветприветпривет'"
   ]
  },
  {
   "cell_type": "markdown",
   "id": "e85ad320",
   "metadata": {},
   "source": [
    "## the same or not the same"
   ]
  },
  {
   "cell_type": "code",
   "execution_count": null,
   "id": "4e383b6a",
   "metadata": {
    "ExecuteTime": {
     "end_time": "2022-12-14T11:31:09.083719Z",
     "start_time": "2022-12-14T11:31:09.079523Z"
    }
   },
   "outputs": [],
   "source": [
    "some_dict = {}\n",
    "\n",
    "some_dict[42] = 'answer'\n",
    "some_dict[42.0] = 'answer float'\n",
    "some_dict[41.5] = 'new answer'"
   ]
  },
  {
   "cell_type": "code",
   "execution_count": null,
   "id": "39a6eab0",
   "metadata": {
    "ExecuteTime": {
     "end_time": "2022-12-14T11:31:49.108644Z",
     "start_time": "2022-12-14T11:31:49.104091Z"
    }
   },
   "outputs": [],
   "source": [
    "42 == 42.0"
   ]
  },
  {
   "cell_type": "code",
   "execution_count": null,
   "id": "6dcd60eb",
   "metadata": {
    "ExecuteTime": {
     "end_time": "2022-12-14T11:31:12.029436Z",
     "start_time": "2022-12-14T11:31:12.024669Z"
    }
   },
   "outputs": [],
   "source": [
    "some_dict"
   ]
  },
  {
   "cell_type": "code",
   "execution_count": null,
   "id": "a158940a",
   "metadata": {
    "ExecuteTime": {
     "end_time": "2022-12-14T11:32:23.493895Z",
     "start_time": "2022-12-14T11:32:23.487884Z"
    }
   },
   "outputs": [],
   "source": [
    "class IAD:\n",
    "    pass"
   ]
  },
  {
   "cell_type": "code",
   "execution_count": null,
   "id": "63bac0cb",
   "metadata": {
    "ExecuteTime": {
     "end_time": "2022-12-14T11:32:38.910204Z",
     "start_time": "2022-12-14T11:32:38.904924Z"
    }
   },
   "outputs": [],
   "source": [
    "IAD() == IAD()"
   ]
  },
  {
   "cell_type": "code",
   "execution_count": null,
   "id": "84b06272",
   "metadata": {
    "ExecuteTime": {
     "end_time": "2022-12-14T11:33:05.958546Z",
     "start_time": "2022-12-14T11:33:05.953774Z"
    }
   },
   "outputs": [],
   "source": [
    "IAD() is IAD()"
   ]
  },
  {
   "cell_type": "code",
   "execution_count": null,
   "id": "4fb32f93",
   "metadata": {
    "ExecuteTime": {
     "end_time": "2022-12-14T11:33:17.589870Z",
     "start_time": "2022-12-14T11:33:17.584797Z"
    }
   },
   "outputs": [],
   "source": [
    "hash(IAD()) == hash(IAD()) "
   ]
  },
  {
   "cell_type": "code",
   "execution_count": null,
   "id": "9de9b743",
   "metadata": {
    "ExecuteTime": {
     "end_time": "2022-12-14T11:33:29.362647Z",
     "start_time": "2022-12-14T11:33:29.357658Z"
    }
   },
   "outputs": [],
   "source": [
    "id(IAD()) == id(IAD())"
   ]
  },
  {
   "cell_type": "code",
   "execution_count": null,
   "id": "1f308553",
   "metadata": {
    "ExecuteTime": {
     "end_time": "2022-12-14T11:34:13.680221Z",
     "start_time": "2022-12-14T11:34:13.675573Z"
    }
   },
   "outputs": [],
   "source": [
    "class IAD():\n",
    "    def __init__(self):\n",
    "        print(\"IA\")\n",
    "    def __del__(self):\n",
    "        print(\"D\")"
   ]
  },
  {
   "cell_type": "code",
   "execution_count": null,
   "id": "4a1ef2c7",
   "metadata": {
    "ExecuteTime": {
     "end_time": "2022-12-14T11:34:36.768842Z",
     "start_time": "2022-12-14T11:34:36.763542Z"
    }
   },
   "outputs": [],
   "source": [
    "IAD() is IAD()"
   ]
  },
  {
   "cell_type": "code",
   "execution_count": null,
   "id": "0e5487e7",
   "metadata": {
    "ExecuteTime": {
     "end_time": "2022-12-14T11:35:13.407667Z",
     "start_time": "2022-12-14T11:35:13.402214Z"
    }
   },
   "outputs": [],
   "source": [
    "id(IAD()) == id(IAD())"
   ]
  },
  {
   "cell_type": "markdown",
   "id": "66126148",
   "metadata": {},
   "source": [
    "---\n",
    "**credits**: *[1](https://github.com/cosmologicon/pywat), [2](https://www.youtube.com/watch?v=Mhj8vqVUEhU), [3](https://github.com/satwikkansal/wtfpython/releases/)*"
   ]
  }
 ],
 "metadata": {
  "kernelspec": {
   "display_name": "Python 3 (ipykernel)",
   "language": "python",
   "name": "python3"
  },
  "language_info": {
   "codemirror_mode": {
    "name": "ipython",
    "version": 3
   },
   "file_extension": ".py",
   "mimetype": "text/x-python",
   "name": "python",
   "nbconvert_exporter": "python",
   "pygments_lexer": "ipython3",
   "version": "3.9.12"
  },
  "toc": {
   "base_numbering": 1,
   "nav_menu": {},
   "number_sections": true,
   "sideBar": true,
   "skip_h1_title": false,
   "title_cell": "Table of Contents",
   "title_sidebar": "Contents",
   "toc_cell": false,
   "toc_position": {},
   "toc_section_display": true,
   "toc_window_display": true
  },
  "varInspector": {
   "cols": {
    "lenName": 16,
    "lenType": 16,
    "lenVar": 40
   },
   "kernels_config": {
    "python": {
     "delete_cmd_postfix": "",
     "delete_cmd_prefix": "del ",
     "library": "var_list.py",
     "varRefreshCmd": "print(var_dic_list())"
    },
    "r": {
     "delete_cmd_postfix": ") ",
     "delete_cmd_prefix": "rm(",
     "library": "var_list.r",
     "varRefreshCmd": "cat(var_dic_list()) "
    }
   },
   "types_to_exclude": [
    "module",
    "function",
    "builtin_function_or_method",
    "instance",
    "_Feature"
   ],
   "window_display": false
  }
 },
 "nbformat": 4,
 "nbformat_minor": 5
}
