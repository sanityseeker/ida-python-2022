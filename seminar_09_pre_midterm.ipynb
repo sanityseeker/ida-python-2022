{
 "cells": [
  {
   "cell_type": "markdown",
   "id": "3999df67",
   "metadata": {},
   "source": [
    "# Задачи"
   ]
  },
  {
   "cell_type": "markdown",
   "id": "02502631",
   "metadata": {
    "ExecuteTime": {
     "end_time": "2022-11-22T23:17:04.827194Z",
     "start_time": "2022-11-22T23:17:04.817976Z"
    }
   },
   "source": [
    "https://official.contest.yandex.ru/contest/43652/enter/"
   ]
  },
  {
   "cell_type": "markdown",
   "id": "2fb5277b",
   "metadata": {},
   "source": [
    "## Покупка N единиц товара\n",
    "\n",
    "Единица товара стоит a рублей b копеек. Было куплено n штук этого товара. Сколько рублей и копеек пришлось заплатить за всю покупку?\n",
    "\n",
    "**Формат ввода**\n",
    "В единственной строке содержатся три числа: 0 ≤ a ≤ 30000, 0 ≤ b ≤ 99, 0 ≤ n ≤ 30000.\n",
    "\n",
    "**Формат вывода**\n",
    "В единственной строке выведите два искомых числа - количество рублей и копеек за всю покупку.\n",
    "\n",
    "```\n",
    "Ввод\n",
    "10 15 2\n",
    "\n",
    "Вывод\n",
    "20 30\n",
    "```"
   ]
  },
  {
   "cell_type": "code",
   "execution_count": 1,
   "id": "fbda0747",
   "metadata": {
    "ExecuteTime": {
     "end_time": "2022-11-23T10:15:57.470030Z",
     "start_time": "2022-11-23T10:15:51.498996Z"
    }
   },
   "outputs": [
    {
     "name": "stdout",
     "output_type": "stream",
     "text": [
      "10 15 2\n",
      "20 30\n"
     ]
    }
   ],
   "source": [
    "a, b, n = map(int, input().split())\n",
    "\n",
    "rubles = a * n + b * n // 100\n",
    "cents = b * n % 100\n",
    "\n",
    "print(rubles, cents)"
   ]
  },
  {
   "cell_type": "markdown",
   "id": "60b7affd",
   "metadata": {},
   "source": [
    "## Принцип Дирихле\n",
    "\n",
    "Всем известен принцип Дирихле, который формулируется следующим образом:\n",
    "\n",
    "Предположим, что некоторое число кроликов рассажены в клетках. Если число кроликов больше, чем число клеток, то хотя бы в одной из клеток будет больше одного кролика.\n",
    "\n",
    "В данной задаче мы рассмотрим более общий случай этого классического математического факта. Пусть есть n клеток и m кроликов, которых рассадили по этим клеткам. Вам требуется расcчитать максимальное количество кроликов, которое гарантированно окажется в одной клетке.\n",
    "\n",
    "**Формат ввода**\n",
    "Вводятся два натуральных числа n и m. (1 ≤ n, m ≤ 109).\n",
    "\n",
    "**Формат вывода**\n",
    "Выведите ответ на задачу.\n",
    "\n",
    "```\n",
    "Ввод\n",
    "2\n",
    "3\n",
    "\n",
    "Вывод\n",
    "2\n",
    "\n",
    "--\n",
    "\n",
    "Ввод\n",
    "1\n",
    "1\n",
    "\n",
    "Вывод\n",
    "1\n",
    "```"
   ]
  },
  {
   "cell_type": "code",
   "execution_count": null,
   "id": "236dd41b",
   "metadata": {},
   "outputs": [],
   "source": [
    "# your code\n",
    "n = int(input())\n",
    "m = int(input())\n",
    "\n",
    "print(m + n - 1 // n)"
   ]
  },
  {
   "cell_type": "code",
   "execution_count": null,
   "id": "edab64c8",
   "metadata": {},
   "outputs": [],
   "source": [
    "print(m // n + int(bool(m % n)))"
   ]
  },
  {
   "cell_type": "markdown",
   "id": "4a690322",
   "metadata": {},
   "source": [
    "## Сумма цифр числа рекурсией"
   ]
  },
  {
   "cell_type": "markdown",
   "id": "0143408a",
   "metadata": {},
   "source": [
    "Дано число произвольного размера. Посчитайте рекурсивно сумму его цифр"
   ]
  },
  {
   "cell_type": "code",
   "execution_count": 5,
   "id": "c5200b2e",
   "metadata": {
    "ExecuteTime": {
     "end_time": "2022-11-23T10:35:08.724372Z",
     "start_time": "2022-11-23T10:35:08.718129Z"
    }
   },
   "outputs": [],
   "source": [
    "value = 1233455610"
   ]
  },
  {
   "cell_type": "code",
   "execution_count": 6,
   "id": "afb140b4",
   "metadata": {
    "ExecuteTime": {
     "end_time": "2022-11-23T10:35:08.916517Z",
     "start_time": "2022-11-23T10:35:08.909711Z"
    }
   },
   "outputs": [],
   "source": [
    "def sum_digits(value: int): \n",
    "    return 0 if not value else value % 10 + sum_digits(value // 10)"
   ]
  },
  {
   "cell_type": "code",
   "execution_count": 3,
   "id": "c79e0407",
   "metadata": {
    "ExecuteTime": {
     "end_time": "2022-11-23T10:33:14.555918Z",
     "start_time": "2022-11-23T10:33:14.549437Z"
    }
   },
   "outputs": [],
   "source": [
    "def sum_digits(value: int):\n",
    "    if value // 10 == 0: \n",
    "        return value % 10\n",
    "    else: \n",
    "        return value % 10 + sum_digits(value // 10) "
   ]
  },
  {
   "cell_type": "code",
   "execution_count": 7,
   "id": "44618522",
   "metadata": {
    "ExecuteTime": {
     "end_time": "2022-11-23T10:35:10.544324Z",
     "start_time": "2022-11-23T10:35:10.535049Z"
    }
   },
   "outputs": [
    {
     "data": {
      "text/plain": [
       "30"
      ]
     },
     "execution_count": 7,
     "metadata": {},
     "output_type": "execute_result"
    }
   ],
   "source": [
    "sum_digits(value)"
   ]
  },
  {
   "cell_type": "markdown",
   "id": "68bc4bad",
   "metadata": {},
   "source": [
    "## Покровский лифт\n",
    "\n",
    "Прогресс не остановим, поэтому в новом кампусе Высшей Школы Экономики установили лифт, доставляющий студентов не только по вертикали, но и по горизонтали.\n",
    "\n",
    "Нажав всего одну кнопку, через него можно попасть напрямую в аудиторию IJJ, где I - цифра с номером этажа, а JJ - двузначный номер аудитории на этаже.\n",
    "\n",
    "Однако идеально работать, как известно, все равно ничего не будет: по неизвестным (но, видимо, очень весомым) причинам лифту разрешили останавливаться только на каждом k-м этаже и у каждой p-й аудитории на этаже.\n",
    "\n",
    "Вам нужно облегчить жизнь студентов и написать программу, по конфигурации кампуса перечисляющую номера аудиторий, в которые можно добраться напрямую через лифт.\n",
    "\n",
    "**Формат ввода**\n",
    "Первая строка содержит два целых числа: N, 1 ≤ N ≤ 9 - количество этажей в здании кампуса и M,1 ≤ M ≤ 99 - количество аудиторий на каждом этаже.\n",
    "\n",
    "Вторая строка также содержит два целых числа: k, 1 ≤ k ≤ N и p, 1 ≤ p ≤ M.\n",
    "\n",
    "**Формат вывода**\n",
    "В качестве ответа на задачу выведите список доступных через лифт аудиторий по возрастанию, по одному на каждой строке.\n",
    "\n",
    "\n",
    "```\n",
    "Ввод\n",
    "5 6\n",
    "2 3\n",
    "\n",
    "Вывод\n",
    "203\n",
    "206\n",
    "403\n",
    "406\n",
    "\n",
    "--\n",
    "\n",
    "Ввод\n",
    "2 11\n",
    "1 3\n",
    "\n",
    "Вывод\n",
    "103\n",
    "106\n",
    "109\n",
    "203\n",
    "206\n",
    "209\n",
    "```"
   ]
  },
  {
   "cell_type": "code",
   "execution_count": 4,
   "id": "baf54c0d",
   "metadata": {
    "ExecuteTime": {
     "end_time": "2022-11-22T23:23:19.013987Z",
     "start_time": "2022-11-22T23:23:19.007683Z"
    }
   },
   "outputs": [],
   "source": [
    "# your code\n",
    "\n",
    "number_of_floors, number_of_rooms = map(int, input().split())\n",
    "to_stop_floor, to_stop_room = map(int, input().split())\n",
    "\n",
    "for floor in range(1, number_of_floors + 1):\n",
    "    for room in range(1, number_of_rooms + 1):\n",
    "        if (floor % to_stop_floor == 0) and (room % to_stop_room == 0):\n",
    "            if room < 10:\n",
    "                print(floor, 0, room, sep=\"\")\n",
    "            else:\n",
    "                print(floor, room, sep=\"\")"
   ]
  },
  {
   "cell_type": "markdown",
   "id": "2dae09ea",
   "metadata": {},
   "source": [
    "## Симметричная последовательность\n",
    "\n",
    "Последовательность чисел назовем симметричной, если она одинаково читается как слева направо, так и справа налево. Например, следующие последовательности являются симметричными:\n",
    "\n",
    "1 2 3 4 5 4 3 2 1\n",
    "\n",
    "1 2 1 2 2 1 2 1\n",
    "\n",
    "Вашей программе будет дана последовательность чисел. Требуется определить, какое минимальное количество и каких чисел надо приписать в конец этой последовательности, чтобы она стала симметричной.\n",
    "\n",
    "**Формат ввода**\n",
    "Сначала вводится число N — количество элементов исходной последовательности (1 ≤ N ≤ 100). Далее идут N чисел — элементы этой последовательности, натуральные числа от 1 до 9.\n",
    "\n",
    "**Формат вывода**\n",
    "Выведите сначала число M — минимальное количество элементов, которое надо дописать к последовательности, а потом M чисел (каждое — от 1 до 9) — числа, которые надо дописать к последовательности.\n",
    "\n",
    "```\n",
    "Ввод\n",
    "9\n",
    "1 2 3 4 5 4 3 2 1\n",
    "Вывод\n",
    "0\n",
    "\n",
    "--\n",
    "\n",
    "Ввод\n",
    "5\n",
    "1 2 1 2 2\n",
    "Вывод\n",
    "3\n",
    "1 2 1\n",
    "```"
   ]
  },
  {
   "cell_type": "code",
   "execution_count": 5,
   "id": "7b2ad735",
   "metadata": {
    "ExecuteTime": {
     "end_time": "2022-11-22T23:26:49.826703Z",
     "start_time": "2022-11-22T23:26:49.821300Z"
    }
   },
   "outputs": [],
   "source": [
    "# your code\n",
    "\n",
    "n = int(input())\n",
    "arr = input().split()\n",
    "\n",
    "for m in range(len(arr)):\n",
    "    if arr[m:] == arr[m:][::-1]:\n",
    "        print(m)\n",
    "        print(*arr[:m][::-1])\n",
    "        break"
   ]
  },
  {
   "cell_type": "markdown",
   "id": "553c5881",
   "metadata": {},
   "source": [
    "## Автомобильные номера\n"
   ]
  },
  {
   "cell_type": "markdown",
   "id": "96c345a2",
   "metadata": {},
   "source": [
    "Неизвестный водитель совершил ДТП и скрылся с места происшествия. Полиция опрашивает свидетелей. Каждый из них говорит, что запомнил какие-то буквы и цифры номера. Но при этом свидетели не помнят порядок этих цифр и букв. Полиция хочет проверить несколько подозреваемых автомобилей. Будем говорить, что номер согласуется с показанием свидетеля, если все символы, которые назвал свидетель, присутствуют в этом номере (не важно, сколько раз). "
   ]
  },
  {
   "cell_type": "markdown",
   "id": "085bedb0",
   "metadata": {},
   "source": [
    "**Формат ввода**\n",
    "\n",
    "Сначала задано число $M \\leq 100$ -- количество свидетелей. Далее идет $M$ строк, каждая из которых описывает показания очередного свидетеля. Эти строки непустые и состоят из не более чем 20 символов. Каждый символ в строке - либо цифра, либо заглавная латинская буква, причём символы могут повторяться.\n",
    "\n",
    "Затем идёт число $N \\leq 1000$ -- количество номеров. Следующие строки представляют из себя номера подозреваемых машин и имеют такой же формат, как и показания свидетелей.\n",
    "\n",
    "**Формат вывода**\n",
    "\n",
    "Выпишите номера автомобилей, согласующиеся с максимальным количеством свидетелей. Если таких номеров несколько, то выведите их в том же порядке, в котором они были заданы на входе."
   ]
  },
  {
   "cell_type": "markdown",
   "id": "b0904660",
   "metadata": {},
   "source": [
    "Input:\n",
    "\n",
    "    3\n",
    "    ABC\n",
    "    A37\n",
    "    BCDA\n",
    "    2\n",
    "    A317BD\n",
    "    B137AC\n",
    "\n",
    "Output:\n",
    "\n",
    "    B137AC"
   ]
  },
  {
   "cell_type": "code",
   "execution_count": 8,
   "id": "7cad37b8",
   "metadata": {
    "ExecuteTime": {
     "end_time": "2022-11-23T11:18:03.112478Z",
     "start_time": "2022-11-23T11:17:36.908907Z"
    }
   },
   "outputs": [
    {
     "name": "stdout",
     "output_type": "stream",
     "text": [
      "ABC A37 BCDA\n",
      "A317BD B137AC\n"
     ]
    }
   ],
   "source": [
    "witnesses = tuple(map(frozenset, input().split()))\n",
    "criminals = {elem: frozenset(elem) for elem in input().split()}"
   ]
  },
  {
   "cell_type": "code",
   "execution_count": 9,
   "id": "a8e82881",
   "metadata": {
    "ExecuteTime": {
     "end_time": "2022-11-23T11:18:08.547154Z",
     "start_time": "2022-11-23T11:18:08.541733Z"
    }
   },
   "outputs": [
    {
     "data": {
      "text/plain": [
       "(frozenset({'A', 'B', 'C'}),\n",
       " frozenset({'3', '7', 'A'}),\n",
       " frozenset({'A', 'B', 'C', 'D'}))"
      ]
     },
     "execution_count": 9,
     "metadata": {},
     "output_type": "execute_result"
    }
   ],
   "source": [
    "witnesses"
   ]
  },
  {
   "cell_type": "code",
   "execution_count": 10,
   "id": "847b5c8c",
   "metadata": {
    "ExecuteTime": {
     "end_time": "2022-11-23T11:18:14.401082Z",
     "start_time": "2022-11-23T11:18:14.395338Z"
    }
   },
   "outputs": [
    {
     "data": {
      "text/plain": [
       "{'A317BD': frozenset({'1', '3', '7', 'A', 'B', 'D'}),\n",
       " 'B137AC': frozenset({'1', '3', '7', 'A', 'B', 'C'})}"
      ]
     },
     "execution_count": 10,
     "metadata": {},
     "output_type": "execute_result"
    }
   ],
   "source": [
    "criminals"
   ]
  },
  {
   "cell_type": "code",
   "execution_count": 11,
   "id": "01238a9f",
   "metadata": {
    "ExecuteTime": {
     "end_time": "2022-11-23T11:18:49.331954Z",
     "start_time": "2022-11-23T11:18:49.326110Z"
    }
   },
   "outputs": [],
   "source": [
    "from collections import defaultdict"
   ]
  },
  {
   "cell_type": "code",
   "execution_count": 13,
   "id": "7e2e1353",
   "metadata": {
    "ExecuteTime": {
     "end_time": "2022-11-23T11:22:47.515798Z",
     "start_time": "2022-11-23T11:22:47.510504Z"
    }
   },
   "outputs": [],
   "source": [
    "witnesses_counts = defaultdict(list)\n",
    "\n",
    "for criminal_name, criminal_set in criminals.items():\n",
    "    cnt = 0\n",
    "    for witness in witnesses:\n",
    "        cnt += int(witness.issubset(criminal_set))\n",
    "    \n",
    "#     if cnt in witnesses_counts:\n",
    "#         witnesses_counts[cnt] = []\n",
    "#     else:\n",
    "#         witnesses_counts[cnt].append(criminal_name)\n",
    "    \n",
    "    witnesses_counts[cnt].append(criminal_name)"
   ]
  },
  {
   "cell_type": "code",
   "execution_count": 14,
   "id": "218aa5aa",
   "metadata": {
    "ExecuteTime": {
     "end_time": "2022-11-23T11:22:53.070953Z",
     "start_time": "2022-11-23T11:22:53.067771Z"
    }
   },
   "outputs": [
    {
     "data": {
      "text/plain": [
       "defaultdict(list, {1: ['A317BD'], 2: ['B137AC']})"
      ]
     },
     "execution_count": 14,
     "metadata": {},
     "output_type": "execute_result"
    }
   ],
   "source": [
    "witnesses_counts"
   ]
  },
  {
   "cell_type": "code",
   "execution_count": 16,
   "id": "78b36706",
   "metadata": {
    "ExecuteTime": {
     "end_time": "2022-11-23T11:26:11.656412Z",
     "start_time": "2022-11-23T11:26:11.650604Z"
    }
   },
   "outputs": [
    {
     "data": {
      "text/plain": [
       "['B137AC']"
      ]
     },
     "execution_count": 16,
     "metadata": {},
     "output_type": "execute_result"
    }
   ],
   "source": [
    "witnesses_counts[max(witnesses_counts)]"
   ]
  },
  {
   "cell_type": "markdown",
   "id": "f351d410",
   "metadata": {},
   "source": [
    "## Строки Фибоначчи\n",
    "\n",
    "Числа Фибоначчи - это неплохо. Но строки Фибоначчи - еще лучше!\n",
    "\n",
    "На случай если вы не слышали о них, напоминаем, что это последовательность строк, задаваемая индуктивно:\n",
    "$s_1 = a, s_2 = b \\\\ s_i = s_{i - 2} + s_{i - 1}$\n",
    "\n",
    "\n",
    "Нетрудно заметить, что элементы этой последовательности легко найти циклом. Однако мы призываем вас не искать легких путей и найти i-й элемент с помощью рекурсии. Все решения, не использующие рекурсию, будут обнулены ¯\\\\_(ツ)_/¯\n",
    "\n",
    "**Формат ввода**\n",
    "В единственной строке число i, 1 ≤ i ≤ 20 - номер строки Фибоначчи, которую вам нужно вывести.\n",
    "\n",
    "**Формат вывода**\n",
    "В единственной строке - запрашиваемая строка Фибоначчи\n",
    "\n",
    "```\n",
    "Ввод\n",
    "7\n",
    "\n",
    "Вывод\n",
    "abbabbababbab\n",
    "```"
   ]
  },
  {
   "cell_type": "code",
   "execution_count": 21,
   "id": "6130a47c",
   "metadata": {
    "ExecuteTime": {
     "end_time": "2022-11-29T14:57:18.803942Z",
     "start_time": "2022-11-29T14:57:18.799176Z"
    }
   },
   "outputs": [],
   "source": [
    "def calc_fib(n):    \n",
    "    if n == 1:\n",
    "        return 'a'\n",
    "    elif n == 2:\n",
    "        return 'b'\n",
    "    \n",
    "    return calc_fib(n - 2) + calc_fib(n - 1)"
   ]
  },
  {
   "cell_type": "code",
   "execution_count": 22,
   "id": "a267d663",
   "metadata": {
    "ExecuteTime": {
     "end_time": "2022-11-29T14:57:25.598294Z",
     "start_time": "2022-11-29T14:57:25.593068Z"
    }
   },
   "outputs": [
    {
     "data": {
      "text/plain": [
       "'abbabbababbab'"
      ]
     },
     "execution_count": 22,
     "metadata": {},
     "output_type": "execute_result"
    }
   ],
   "source": [
    "calc_fib(7)"
   ]
  },
  {
   "cell_type": "markdown",
   "id": "b2058c04",
   "metadata": {},
   "source": [
    "## Новые заклинания\n",
    "\n",
    "Гарри в печали: вот уже девять лет как он не достает свою волшебную палочку на камеру.\n",
    "Но случилось чудо! Продюсеры дали добро на съемку новой части поттерианы, в этот раз в сеттинге дикого запада.\n",
    "\n",
    "Режиссер поручил (уже не юному) волшебнику подготовить список благозвучных заклинаний, которых еще не было во вселенной.\n",
    "Благозвучность заклинания определяется двумя факторами:\n",
    "\n",
    "- Во-первых, заклинание должно быть удобно произносить, поэтому в нем нужно иметь как можно больше гласных (буквы a, e, i, o, u).\n",
    "\n",
    "- Во-вторых, любое заклинание нужно произносить быстро, поэтому чем оно короче, тем лучше.\n",
    "\n",
    "Гарри выписал в список потенциальные заклинания и теперь просит вас составить из них топ по благозвучности: отсортировать сначала по уменьшению количества гласных, а при одинаковым количестве гласных упорядочить по увеличению длины.\n",
    "\n",
    "В случае, когда два заклинания имеют одинаковую благозвучность, из взаимный порядок должен быть такой же, какой в списке Гарри. Другими словами, ваша сортировка должна быть стабильной."
   ]
  },
  {
   "cell_type": "markdown",
   "id": "d734460b",
   "metadata": {},
   "source": [
    "**Формат ввода**\n",
    "В первой строке содержится число N (1 ≤ N ≤ 100) — количество потенциальных заклинаний.\n",
    "Далее построчно идут заклинания: последовательности строчных букв латинского алфавита, не превышающие по длине 10 символов.\n",
    "\n",
    "**Формат вывода**\n",
    "Необходимо вывести отсортированные заклинания по одному на строке.\n",
    "\n",
    "```\n",
    "Ввод\n",
    "3\n",
    "aab\n",
    "aa\n",
    "abababab\n",
    "\n",
    "Вывод\n",
    "abababab\n",
    "aa\n",
    "aab\n",
    "\n",
    "--\n",
    "\n",
    "Ввод\n",
    "5\n",
    "nitup\n",
    "ynlavan\n",
    "keklol\n",
    "hseforever\n",
    "lovenotwar\n",
    "\n",
    "Вывод\n",
    "hseforever\n",
    "lovenotwar\n",
    "nitup\n",
    "keklol\n",
    "ynlavan\n",
    "```"
   ]
  },
  {
   "cell_type": "code",
   "execution_count": 27,
   "id": "ac4f0166",
   "metadata": {
    "ExecuteTime": {
     "end_time": "2022-11-29T15:03:54.713898Z",
     "start_time": "2022-11-29T15:03:54.708752Z"
    }
   },
   "outputs": [],
   "source": [
    "def get_vowels_cnt(s: str) -> int:\n",
    "    vowels = set('aeiou')\n",
    "    return sum(char in vowels for char in s)"
   ]
  },
  {
   "cell_type": "code",
   "execution_count": 28,
   "id": "9a3f0b01",
   "metadata": {
    "ExecuteTime": {
     "end_time": "2022-11-29T15:05:03.194212Z",
     "start_time": "2022-11-29T15:04:39.561541Z"
    }
   },
   "outputs": [
    {
     "name": "stdout",
     "output_type": "stream",
     "text": [
      "5\n",
      "nitup\n",
      "ynlavan\n",
      "keklol\n",
      "hseforever\n",
      "lovenotwar\n"
     ]
    }
   ],
   "source": [
    "n = int(input())\n",
    "spells = []\n",
    "\n",
    "for i in range(n):\n",
    "    spells.append(input())"
   ]
  },
  {
   "cell_type": "code",
   "execution_count": 37,
   "id": "b5b551df",
   "metadata": {
    "ExecuteTime": {
     "end_time": "2022-11-29T15:08:10.850606Z",
     "start_time": "2022-11-29T15:08:10.844531Z"
    }
   },
   "outputs": [
    {
     "data": {
      "text/plain": [
       "['hseforever', 'lovenotwar', 'nitup', 'keklol', 'ynlavan']"
      ]
     },
     "execution_count": 37,
     "metadata": {},
     "output_type": "execute_result"
    }
   ],
   "source": [
    "sorted(spells, key=lambda x: (-get_vowels_cnt(x), len(x)))"
   ]
  },
  {
   "cell_type": "markdown",
   "id": "a231222e",
   "metadata": {},
   "source": [
    "---"
   ]
  },
  {
   "cell_type": "markdown",
   "id": "8c7e2622",
   "metadata": {},
   "source": [
    "## Run-Length Encoding"
   ]
  },
  {
   "cell_type": "markdown",
   "id": "4164f97e",
   "metadata": {},
   "source": [
    "RLE -- это один из алгоритмом сжатия последовательностей.\n",
    "\n",
    "Пусть у вас есть строка `aaaaaabbbcbbdddeea`, ее можно представить в виде `[(a, 6), (b, 3), (c, 1), (b, 2), (d, 3), (e, 2), (a, 1)]` "
   ]
  },
  {
   "cell_type": "code",
   "execution_count": 8,
   "id": "583701c8",
   "metadata": {
    "ExecuteTime": {
     "end_time": "2022-11-22T23:56:01.085727Z",
     "start_time": "2022-11-22T23:56:01.079450Z"
    }
   },
   "outputs": [],
   "source": [
    "s = 'aaaaaabbbcbbdddeea'"
   ]
  },
  {
   "cell_type": "markdown",
   "id": "f55dcbdb",
   "metadata": {},
   "source": [
    "**Напишите с помощью цикла**"
   ]
  },
  {
   "cell_type": "code",
   "execution_count": 20,
   "id": "e5a093a7",
   "metadata": {
    "ExecuteTime": {
     "end_time": "2022-09-30T08:47:01.279752Z",
     "start_time": "2022-09-30T08:47:01.274077Z"
    }
   },
   "outputs": [],
   "source": [
    "def do_rle(s: str) -> list[tuple]:\n",
    "    \n",
    "    if not s:\n",
    "        return []\n",
    "    \n",
    "    encoded_s = []\n",
    "    \n",
    "    k = 0\n",
    "    for i in range(1, len(s)):\n",
    "        \n",
    "        if s[i - 1] != s[i]:\n",
    "            encoded_s.append((s[i - 1], i - k))\n",
    "            k = i\n",
    "    \n",
    "    encoded_s.append((s[k], len(s) - k))\n",
    "    \n",
    "    return encoded_s"
   ]
  },
  {
   "cell_type": "code",
   "execution_count": 21,
   "id": "55686733",
   "metadata": {
    "ExecuteTime": {
     "end_time": "2022-09-30T08:47:01.941554Z",
     "start_time": "2022-09-30T08:47:01.935840Z"
    }
   },
   "outputs": [
    {
     "data": {
      "text/plain": [
       "[('a', 6), ('b', 3), ('c', 1), ('b', 2), ('d', 3), ('e', 2), ('a', 1)]"
      ]
     },
     "execution_count": 21,
     "metadata": {},
     "output_type": "execute_result"
    }
   ],
   "source": [
    "do_rle(s)"
   ]
  },
  {
   "cell_type": "markdown",
   "id": "dee7810a",
   "metadata": {},
   "source": [
    "**Решите рекурсией**"
   ]
  },
  {
   "cell_type": "code",
   "execution_count": 22,
   "id": "fa3426b2",
   "metadata": {
    "ExecuteTime": {
     "end_time": "2022-09-30T08:50:49.952820Z",
     "start_time": "2022-09-30T08:50:49.947538Z"
    }
   },
   "outputs": [],
   "source": [
    "def do_rle_recursive(s: str, encoded_s: list[tuple]) -> list[tuple]:\n",
    "    \n",
    "    # your base case\n",
    "    if not s:\n",
    "        return encoded_s\n",
    "    \n",
    "    # your code\n",
    "    i = 0\n",
    "    while i < len(s) and s[i] == s[0]:\n",
    "        i += 1\n",
    "    \n",
    "    encoded_s.append((s[0], i))\n",
    "    \n",
    "    return do_rle_recursive(s[i:], encoded_s)"
   ]
  },
  {
   "cell_type": "code",
   "execution_count": 25,
   "id": "38555ab0",
   "metadata": {
    "ExecuteTime": {
     "end_time": "2022-09-30T08:51:19.214363Z",
     "start_time": "2022-09-30T08:51:19.209391Z"
    }
   },
   "outputs": [
    {
     "data": {
      "text/plain": [
       "[('a', 6), ('b', 3), ('c', 1), ('b', 2), ('d', 3), ('e', 2), ('a', 1)]"
      ]
     },
     "execution_count": 25,
     "metadata": {},
     "output_type": "execute_result"
    }
   ],
   "source": [
    "do_rle_recursive(s, [])"
   ]
  },
  {
   "cell_type": "markdown",
   "id": "abb1c871",
   "metadata": {},
   "source": [
    "## Сортировка inplace"
   ]
  },
  {
   "cell_type": "markdown",
   "id": "441c40d1",
   "metadata": {},
   "source": [
    "Реализуйте функцию сортировки и отсортируйте *inplace* передаваемый список. У функции должен быть опциональный параметр *reverse*, который означает, что нужно отсорировать по невозрастанию элементов. Постарайтесь сделать +- эффективно"
   ]
  },
  {
   "cell_type": "code",
   "execution_count": 85,
   "id": "3a200c92",
   "metadata": {},
   "outputs": [],
   "source": [
    "def sort_list(a: list, reverse: bool = False):\n",
    "    \n",
    "    multiplier = 1 if not reverse else -1\n",
    "    \n",
    "    def diff_ok(val_one, val_two):\n",
    "        return multiplier * (val_two - val_one) >= 0\n",
    "    \n",
    "    \n",
    "    for i in range(len(a)):\n",
    "        curr_val = a[i]\n",
    "        j = i - 1\n",
    "        while j >= 0 and not diff_ok(a[j], curr_val):\n",
    "            a[j + 1] = a[j]\n",
    "            j -= 1\n",
    "            \n",
    "        a[j + 1] = curr_val"
   ]
  },
  {
   "cell_type": "code",
   "execution_count": 86,
   "id": "5e436f30",
   "metadata": {},
   "outputs": [],
   "source": [
    "a = [i for i in range(10)][::-1]"
   ]
  },
  {
   "cell_type": "code",
   "execution_count": 87,
   "id": "405784e8",
   "metadata": {},
   "outputs": [],
   "source": [
    "sort_list(a)"
   ]
  },
  {
   "cell_type": "code",
   "execution_count": 88,
   "id": "eec89688",
   "metadata": {},
   "outputs": [
    {
     "data": {
      "text/plain": [
       "[0, 1, 2, 3, 4, 5, 6, 7, 8, 9]"
      ]
     },
     "execution_count": 88,
     "metadata": {},
     "output_type": "execute_result"
    }
   ],
   "source": [
    "a"
   ]
  },
  {
   "cell_type": "code",
   "execution_count": 89,
   "id": "e56a929b",
   "metadata": {},
   "outputs": [],
   "source": [
    "b = [0, 4, -124, 24, -24, 54, 3]"
   ]
  },
  {
   "cell_type": "code",
   "execution_count": 90,
   "id": "22bf2f0c",
   "metadata": {},
   "outputs": [],
   "source": [
    "sort_list(b, reverse=True)"
   ]
  },
  {
   "cell_type": "code",
   "execution_count": 91,
   "id": "b59a8e93",
   "metadata": {},
   "outputs": [
    {
     "data": {
      "text/plain": [
       "[54, 24, 4, 3, 0, -24, -124]"
      ]
     },
     "execution_count": 91,
     "metadata": {},
     "output_type": "execute_result"
    }
   ],
   "source": [
    "b"
   ]
  },
  {
   "cell_type": "markdown",
   "id": "a74a4c0d",
   "metadata": {},
   "source": [
    "## Наибольшее произведение двух чисел"
   ]
  },
  {
   "cell_type": "code",
   "execution_count": 1,
   "id": "5b141be0",
   "metadata": {},
   "outputs": [],
   "source": [
    "a = [-1, -3, -5, 8, 10, 15, -15, -14, 14]"
   ]
  },
  {
   "cell_type": "markdown",
   "id": "8778192a",
   "metadata": {},
   "source": [
    "Найдите наибольше произведение двух чисел в переданном списке. Постарайтесь сделать эффективное решение"
   ]
  },
  {
   "cell_type": "markdown",
   "id": "39d3b36f",
   "metadata": {},
   "source": [
    "Задача сводится к поиску двух наибольших положительных чисел или двух наименьших отрицательных чисел. Отдельный случай, когда в списке 2 элемента"
   ]
  },
  {
   "cell_type": "code",
   "execution_count": 20,
   "id": "8337e237",
   "metadata": {},
   "outputs": [],
   "source": [
    "def find_max_product(a: list) -> list:\n",
    "    \n",
    "    def update_pos_values(cand_value: int, first_pos: int, second_pos: int):\n",
    "        if cand_value >= first_pos:\n",
    "            first_pos, second_pos = cand_value, first_pos\n",
    "        elif cand_value > second_pos:\n",
    "            second_pos = cand_value\n",
    "        \n",
    "        return first_pos, second_pos\n",
    "            \n",
    "    def update_neg_values(cand_value: int, first_neg: int, second_neg: int):\n",
    "        if cand_value <= first_neg:\n",
    "            first_neg, second_neg = cand_value, first_neg\n",
    "        elif cand_value < second_neg:\n",
    "            second_neg = cand_value\n",
    "        \n",
    "        return first_neg, second_neg\n",
    "    \n",
    "    if len(a) == 2:\n",
    "        return sorted(a)\n",
    "    \n",
    "    first_pos = -1\n",
    "    second_pos = -1\n",
    "    first_neg = 1\n",
    "    second_neg = 1\n",
    "    \n",
    "    for elem in a:\n",
    "        if elem >= 0:\n",
    "            first_pos, second_pos = update_pos_values(elem, first_pos, second_pos)\n",
    "        else:\n",
    "            first_neg, second_neg = update_neg_values(elem, first_neg, second_neg)\n",
    "    \n",
    "    if first_pos * second_pos > first_neg * second_neg:\n",
    "        return [second_pos, first_pos]\n",
    "    else:\n",
    "        return [first_neg, second_neg]"
   ]
  },
  {
   "cell_type": "code",
   "execution_count": 21,
   "id": "dde3200c",
   "metadata": {},
   "outputs": [],
   "source": [
    "b = list(map(int, \"12288 -10075 29710 15686 -18900 -17715 15992 24431 6220 28403 -23148 18480 -22905 5411 -7602 15560 -26674 11109 -4323 6146 -1523 4312 10666 -15343 -17679 7284 20709 -7103 24305 14334 -12281 17314 26061 25616 17453 16618 -24230 -19788 21172 11339 2202 -22442 -20997 1879 -8773 -8736 5310 -23372 12621 -25596 -28609 -13309 -13 10336 15812 -21193 21576 -1897 -12311 -6988 -25143 -3501 23231 26610 12618 25834 -29140 21011 23427 1494 15215 23013 -15739 8325 5359 -12932 18111 -72 -12509 20116 24390 1920 17487 25536 24934 -6784 -16417 -2222 -16569 -25594 4491 14249 -28927 27281 3297 5998 6259 4577 12415 3779 -8856 3994 19941 11047 2866 -24443 -17299 -9556 12244 6376 -13694 -14647 -22225 21872 7543 -6935 17736 -2464 9390 1133 18202 -9733 -26011 13474 29793 -26628 -26124 27776 970 14277 -23213 775 -9318 29014 -5645 -27027 -21822 -17450 -5 -655 22807 -20981 16310 27605 -18393 914 7323 599 -12503 -28684 5835 -5627 25891 -11801 21243 -21506 22542 -5097 8115 178 10427 25808 10836 -11213 18488 21293 14652 12260 42 21034 8396 -27956 13670 -296 -757 18076 -15597 4135 -25222 -19603 8007 6012 2704 28935 16188 -20848 13502 -11950 -24466 5440 26348 27378 7990 -11523 -26393\".split()))"
   ]
  },
  {
   "cell_type": "code",
   "execution_count": 22,
   "id": "46976fb3",
   "metadata": {},
   "outputs": [
    {
     "data": {
      "text/plain": [
       "[29710, 29793]"
      ]
     },
     "execution_count": 22,
     "metadata": {},
     "output_type": "execute_result"
    }
   ],
   "source": [
    "find_max_product(b)"
   ]
  },
  {
   "cell_type": "code",
   "execution_count": 23,
   "id": "e63349a1",
   "metadata": {},
   "outputs": [
    {
     "data": {
      "text/plain": [
       "[-15, -14]"
      ]
     },
     "execution_count": 23,
     "metadata": {},
     "output_type": "execute_result"
    }
   ],
   "source": [
    "find_max_product(a)"
   ]
  },
  {
   "cell_type": "markdown",
   "id": "2ef41956",
   "metadata": {},
   "source": [
    "Что нужно изменить, чтобы переформулировать задачу на поиск наименьшего?"
   ]
  },
  {
   "cell_type": "markdown",
   "id": "6bf0d079",
   "metadata": {},
   "source": [
    "---"
   ]
  },
  {
   "cell_type": "markdown",
   "id": "cef50e10",
   "metadata": {},
   "source": [
    "## E. Проходной балл"
   ]
  },
  {
   "cell_type": "markdown",
   "id": "b833b0cd",
   "metadata": {},
   "source": [
    "Для поступления в вуз абитуриент должен предъявить результаты трех экзаменов в виде ЕГЭ, каждый из них оценивается целым числом от 0 до 100 баллов. При этом абитуриенты, набравшие менее 40 баллов (неудовлетворительную оценку) по любому экзамену из конкурса выбывают. Остальные абитуриенты участвуют в конкурсе по сумме баллов за три экзамена.\n",
    "\n",
    "В конкурсе участвует N человек, при этом количество мест равно K. Определите проходной балл, то есть такое количество баллов, что количество участников, набравших столько или больше баллов не превосходит K, а при добавлении к ним абитуриентов, набравших наибольшее количество баллов среди непринятых абитуриентов, общее число принятых абитуриентов станет больше K.\n",
    "\n",
    "\n",
    "**Формат ввода**\n",
    "\n",
    "Программа получает на вход количество мест K. Далее идут строки с информацией об абитуриентах, каждая из которых состоит из имени (текстовая строка содержащая произвольное число пробелов) и трех чисел от 0 до 100, разделенных пробелами."
   ]
  },
  {
   "cell_type": "markdown",
   "id": "cb15547c",
   "metadata": {},
   "source": [
    "**Формат вывода**\n",
    "\n",
    "Программа должна вывести проходной балл в конкурсе. Выведенное значение должно быть минимальным баллом, который набрал абитуриент, прошедший по конкурсу.\n",
    "\n",
    "Также возможны две ситуации, когда проходной балл не определен.\n",
    "\n",
    "Если будут зачислены все абитуриенты, не имеющие неудовлетворительных оценок, программа должна вывести число 0.\n",
    "\n",
    "Если количество абитуриентов, имеющих равный максимальный балл больше чем K, программа должна вывести число 1."
   ]
  },
  {
   "cell_type": "markdown",
   "id": "10107c88",
   "metadata": {},
   "source": [
    "**Примеры**\n",
    "\n",
    "```\n",
    "Ввод\n",
    "5\n",
    "Иванов Сергей 70 70 70\n",
    "Сергеев Петр 100 100 0\n",
    "Петров Василий 70 60 70\n",
    "Васильев Андрей 70 60 70\n",
    "Андреев Денис 100 30 100\n",
    "Денисов Роман 50 50 50\n",
    "Романов Иван 60 70 70\n",
    "Ким Чен Ир 50 50 50\n",
    "Ким Ир Сен 40 40 40\n",
    "\n",
    "Вывод\n",
    "200\n",
    "```"
   ]
  },
  {
   "cell_type": "code",
   "execution_count": 67,
   "id": "64c939b4",
   "metadata": {
    "ExecuteTime": {
     "end_time": "2022-11-30T13:05:32.247484Z",
     "start_time": "2022-11-30T13:05:32.244478Z"
    }
   },
   "outputs": [],
   "source": [
    "num_places = 3\n",
    "\n",
    "\n",
    "test_students = [\n",
    "\"Иванов Сергей 50 50 47\",\n",
    "\"Сергеев Петр 50 48 46\",\n",
    "\"Петров Василий 100 100 39\",\n",
    "\"Васильев Андрей 50 50 50\",\n",
    "\"Андреев Денис 100 39 100\",\n",
    "\"Денисов Роман 50 50 49\",\n",
    "\"Романов Иван 39 100 100\",\n",
    "\"Ким Чен Ир 50 50 48\",\n",
    "\"Ким Ир Сен 50 50 45\",\n",
    "]"
   ]
  },
  {
   "cell_type": "code",
   "execution_count": 68,
   "id": "dbca9a99",
   "metadata": {
    "ExecuteTime": {
     "end_time": "2022-11-30T13:06:37.192699Z",
     "start_time": "2022-11-30T13:06:37.186824Z"
    }
   },
   "outputs": [
    {
     "name": "stdout",
     "output_type": "stream",
     "text": [
      "148\n"
     ]
    }
   ],
   "source": [
    "from collections import Counter\n",
    "\n",
    "def is_eligible(scores: list, lower_bound: int=40) -> bool:\n",
    "    if all(score >= lower_bound for score in scores):\n",
    "        return True\n",
    "    return False\n",
    "\n",
    "eligible_students = []\n",
    "\n",
    "for student in test_students:\n",
    "    scores = list(map(int, student.split()[-3:]))\n",
    "    if is_eligible(scores):\n",
    "        eligible_students.append(sum(scores))\n",
    "\n",
    "if len(eligible_students) <= num_places:\n",
    "    answer = 0\n",
    "    \n",
    "eligible_students_cnts = Counter(eligible_students)        \n",
    "if eligible_students_cnts[max(eligible_students_cnts)] > num_places:\n",
    "    answer = 1\n",
    "else:\n",
    "    for score in sorted(eligible_students_cnts, reverse=True):\n",
    "        cnt = eligible_students_cnts[score]\n",
    "        num_places -= cnt\n",
    "        if num_places >= 0:\n",
    "            answer = score\n",
    "        else:\n",
    "            break\n",
    "        \n",
    "print(answer)"
   ]
  }
 ],
 "metadata": {
  "kernelspec": {
   "display_name": "Python 3 (ipykernel)",
   "language": "python",
   "name": "python3"
  },
  "language_info": {
   "codemirror_mode": {
    "name": "ipython",
    "version": 3
   },
   "file_extension": ".py",
   "mimetype": "text/x-python",
   "name": "python",
   "nbconvert_exporter": "python",
   "pygments_lexer": "ipython3",
   "version": "3.9.12"
  },
  "toc": {
   "base_numbering": 1,
   "nav_menu": {},
   "number_sections": true,
   "sideBar": true,
   "skip_h1_title": false,
   "title_cell": "Table of Contents",
   "title_sidebar": "Contents",
   "toc_cell": false,
   "toc_position": {},
   "toc_section_display": true,
   "toc_window_display": true
  },
  "varInspector": {
   "cols": {
    "lenName": 16,
    "lenType": 16,
    "lenVar": 40
   },
   "kernels_config": {
    "python": {
     "delete_cmd_postfix": "",
     "delete_cmd_prefix": "del ",
     "library": "var_list.py",
     "varRefreshCmd": "print(var_dic_list())"
    },
    "r": {
     "delete_cmd_postfix": ") ",
     "delete_cmd_prefix": "rm(",
     "library": "var_list.r",
     "varRefreshCmd": "cat(var_dic_list()) "
    }
   },
   "types_to_exclude": [
    "module",
    "function",
    "builtin_function_or_method",
    "instance",
    "_Feature"
   ],
   "window_display": false
  }
 },
 "nbformat": 4,
 "nbformat_minor": 5
}
