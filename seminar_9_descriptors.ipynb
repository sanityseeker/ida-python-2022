{
 "cells": [
  {
   "cell_type": "markdown",
   "id": "add4b3e1",
   "metadata": {},
   "source": [
    "# Дексрипторы"
   ]
  },
  {
   "cell_type": "markdown",
   "id": "118dfa05",
   "metadata": {},
   "source": [
    "## staticmethod, classmethod"
   ]
  },
  {
   "cell_type": "code",
   "execution_count": 1,
   "id": "1fd4b20a",
   "metadata": {
    "ExecuteTime": {
     "end_time": "2022-11-23T12:04:46.575617Z",
     "start_time": "2022-11-23T12:04:46.569833Z"
    }
   },
   "outputs": [],
   "source": [
    "class MethodsDemo:\n",
    "    \"\"\"\n",
    "    A sample for showcasing @staticmethod and @classmethod\n",
    "    \"\"\"\n",
    "    \n",
    "    NAME = 'methods demo'\n",
    "    \n",
    "    def __init__(self, instance_name='default'):\n",
    "        self.instance_name = instance_name\n",
    "#         self.NAME = 'methods demo'\n",
    "\n",
    "    def do(self, *args):\n",
    "        return args\n",
    "    \n",
    "    def access(self, *args):\n",
    "        return self.NAME, self.instance_name\n",
    "    \n",
    "    "
   ]
  },
  {
   "cell_type": "code",
   "execution_count": 3,
   "id": "596f120d",
   "metadata": {
    "ExecuteTime": {
     "end_time": "2022-11-23T12:05:26.348729Z",
     "start_time": "2022-11-23T12:05:26.342647Z"
    }
   },
   "outputs": [],
   "source": [
    "demo = MethodsDemo()"
   ]
  },
  {
   "cell_type": "code",
   "execution_count": 4,
   "id": "b2d8ffa6",
   "metadata": {
    "ExecuteTime": {
     "end_time": "2022-11-23T12:05:33.440559Z",
     "start_time": "2022-11-23T12:05:33.434874Z"
    }
   },
   "outputs": [
    {
     "data": {
      "text/plain": [
       "'methods demo'"
      ]
     },
     "execution_count": 4,
     "metadata": {},
     "output_type": "execute_result"
    }
   ],
   "source": [
    "demo.NAME"
   ]
  },
  {
   "cell_type": "code",
   "execution_count": 6,
   "id": "f3430248",
   "metadata": {
    "ExecuteTime": {
     "end_time": "2022-11-23T12:05:53.959824Z",
     "start_time": "2022-11-23T12:05:53.954942Z"
    }
   },
   "outputs": [
    {
     "data": {
      "text/plain": [
       "(123, 234)"
      ]
     },
     "execution_count": 6,
     "metadata": {},
     "output_type": "execute_result"
    }
   ],
   "source": [
    "demo.do(123, 234)"
   ]
  },
  {
   "cell_type": "code",
   "execution_count": 7,
   "id": "1e3eed10",
   "metadata": {
    "ExecuteTime": {
     "end_time": "2022-11-23T12:06:04.357940Z",
     "start_time": "2022-11-23T12:06:04.347895Z"
    }
   },
   "outputs": [
    {
     "data": {
      "text/plain": [
       "('methods demo', 'default')"
      ]
     },
     "execution_count": 7,
     "metadata": {},
     "output_type": "execute_result"
    }
   ],
   "source": [
    "demo.access(4124, 1241)"
   ]
  },
  {
   "cell_type": "code",
   "execution_count": 12,
   "id": "b7db2c91",
   "metadata": {
    "ExecuteTime": {
     "end_time": "2022-11-23T12:07:40.908533Z",
     "start_time": "2022-11-23T12:07:40.902663Z"
    }
   },
   "outputs": [
    {
     "data": {
      "text/plain": [
       "('methods demo', 'default')"
      ]
     },
     "execution_count": 12,
     "metadata": {},
     "output_type": "execute_result"
    }
   ],
   "source": [
    "MethodsDemo().access()"
   ]
  },
  {
   "cell_type": "code",
   "execution_count": 25,
   "id": "68575993",
   "metadata": {
    "ExecuteTime": {
     "end_time": "2022-11-23T12:16:15.853812Z",
     "start_time": "2022-11-23T12:16:15.848097Z"
    }
   },
   "outputs": [],
   "source": [
    "class MethodsDemo:\n",
    "    \"\"\"\n",
    "    A sample for showcasing @staticmethod and @classmethod\n",
    "    \"\"\"\n",
    "    \n",
    "    NAME = 'methods demo'\n",
    "    \n",
    "    def __init__(self, instance_name='default'):\n",
    "        self.instance_name = instance_name\n",
    "#         self.NAME = 'methods demo'\n",
    "\n",
    "    def do(self, *args):\n",
    "        return args\n",
    "    \n",
    "    def access(self, *args):\n",
    "        return self.NAME, self.instance_name\n",
    "    \n",
    "    @classmethod\n",
    "    def do_classmethod(*args):\n",
    "        return args\n",
    "    \n",
    "    @classmethod\n",
    "    def access_cls(cls, *args):\n",
    "        return cls.NAME, args\n",
    "    \n",
    "    @staticmethod\n",
    "    def do_staticmethod(*args):\n",
    "        return args\n",
    "    \n",
    "    def do_method(*args):\n",
    "        return args"
   ]
  },
  {
   "cell_type": "code",
   "execution_count": 17,
   "id": "a7df638d",
   "metadata": {
    "ExecuteTime": {
     "end_time": "2022-11-23T12:11:07.461756Z",
     "start_time": "2022-11-23T12:11:07.453061Z"
    }
   },
   "outputs": [
    {
     "data": {
      "text/plain": [
       "(__main__.MethodsDemo, 123, 124)"
      ]
     },
     "execution_count": 17,
     "metadata": {},
     "output_type": "execute_result"
    }
   ],
   "source": [
    "MethodsDemo.do_classmethod(123, 124)"
   ]
  },
  {
   "cell_type": "code",
   "execution_count": 18,
   "id": "67241ca9",
   "metadata": {
    "ExecuteTime": {
     "end_time": "2022-11-23T12:11:08.278360Z",
     "start_time": "2022-11-23T12:11:08.268225Z"
    }
   },
   "outputs": [
    {
     "data": {
      "text/plain": [
       "('methods demo', (123, 123, 24))"
      ]
     },
     "execution_count": 18,
     "metadata": {},
     "output_type": "execute_result"
    }
   ],
   "source": [
    "MethodsDemo.access_cls(123, 123, 24)"
   ]
  },
  {
   "cell_type": "code",
   "execution_count": 22,
   "id": "2244065b",
   "metadata": {
    "ExecuteTime": {
     "end_time": "2022-11-23T12:13:05.884520Z",
     "start_time": "2022-11-23T12:13:05.873594Z"
    }
   },
   "outputs": [
    {
     "data": {
      "text/plain": [
       "(124515, 123124, (124124,))"
      ]
     },
     "execution_count": 22,
     "metadata": {},
     "output_type": "execute_result"
    }
   ],
   "source": [
    "MethodsDemo.do_staticmethod(124515, 123124, (124124,))"
   ]
  },
  {
   "cell_type": "code",
   "execution_count": 24,
   "id": "2f9e1f79",
   "metadata": {
    "ExecuteTime": {
     "end_time": "2022-11-23T12:13:41.851220Z",
     "start_time": "2022-11-23T12:13:41.845958Z"
    }
   },
   "outputs": [
    {
     "data": {
      "text/plain": [
       "(12441, 124124, 5235)"
      ]
     },
     "execution_count": 24,
     "metadata": {},
     "output_type": "execute_result"
    }
   ],
   "source": [
    "MethodsDemo().do_staticmethod(12441, 124124, 5235)"
   ]
  },
  {
   "cell_type": "code",
   "execution_count": 27,
   "id": "4c3b46a4",
   "metadata": {
    "ExecuteTime": {
     "end_time": "2022-11-23T12:16:31.279947Z",
     "start_time": "2022-11-23T12:16:31.274935Z"
    }
   },
   "outputs": [
    {
     "data": {
      "text/plain": [
       "(124124, 42, 41)"
      ]
     },
     "execution_count": 27,
     "metadata": {},
     "output_type": "execute_result"
    }
   ],
   "source": [
    "MethodsDemo.do_method(124124, 42, 41)"
   ]
  },
  {
   "cell_type": "code",
   "execution_count": 28,
   "id": "e184ec57",
   "metadata": {
    "ExecuteTime": {
     "end_time": "2022-11-23T12:16:47.957293Z",
     "start_time": "2022-11-23T12:16:47.951992Z"
    }
   },
   "outputs": [
    {
     "data": {
      "text/plain": [
       "(<__main__.MethodsDemo at 0x7f8f2307da30>, 124, 42, 12)"
      ]
     },
     "execution_count": 28,
     "metadata": {},
     "output_type": "execute_result"
    }
   ],
   "source": [
    "MethodsDemo().do_method(124, 42, 12)"
   ]
  },
  {
   "cell_type": "code",
   "execution_count": 30,
   "id": "957101bd",
   "metadata": {
    "ExecuteTime": {
     "end_time": "2022-11-23T12:19:51.333515Z",
     "start_time": "2022-11-23T12:19:51.327800Z"
    }
   },
   "outputs": [],
   "source": [
    "class Bus:\n",
    "    \n",
    "    NAME = 'IAD-11 and IAD-12 bus'\n",
    "    \n",
    "    def __init__(self, passengers=None):\n",
    "        if passengers is None:\n",
    "            self.passengers = []\n",
    "        else:\n",
    "            self.passengers = list(passengers)\n",
    "            \n",
    "    def pick(self, name):\n",
    "        self.passengers.append(name)\n",
    "    \n",
    "    def drop(self, name):\n",
    "        self.passengers.remove(name)\n",
    "     \n",
    "    @classmethod\n",
    "    def greet_bus_passengers(cls, greeting: str):\n",
    "        return f'{greeting} from {cls.NAME}'\n",
    "    \n",
    "    @staticmethod\n",
    "    def greet_passengers(greeting: str):\n",
    "        return greeting"
   ]
  },
  {
   "cell_type": "code",
   "execution_count": 32,
   "id": "8ccb7265",
   "metadata": {
    "ExecuteTime": {
     "end_time": "2022-11-23T12:20:10.369513Z",
     "start_time": "2022-11-23T12:20:10.364201Z"
    }
   },
   "outputs": [
    {
     "data": {
      "text/plain": [
       "'Hello from IAD-11 and IAD-12 bus'"
      ]
     },
     "execution_count": 32,
     "metadata": {},
     "output_type": "execute_result"
    }
   ],
   "source": [
    "Bus.greet_bus_passengers('Hello')"
   ]
  },
  {
   "cell_type": "code",
   "execution_count": 33,
   "id": "14e5b03b",
   "metadata": {
    "ExecuteTime": {
     "end_time": "2022-11-23T12:20:26.928849Z",
     "start_time": "2022-11-23T12:20:26.922767Z"
    }
   },
   "outputs": [],
   "source": [
    "bus_one = Bus(['Denis', 'others'])"
   ]
  },
  {
   "cell_type": "code",
   "execution_count": 35,
   "id": "f7527072",
   "metadata": {
    "ExecuteTime": {
     "end_time": "2022-11-23T12:20:40.198108Z",
     "start_time": "2022-11-23T12:20:40.189696Z"
    }
   },
   "outputs": [
    {
     "data": {
      "text/plain": [
       "'Hello there'"
      ]
     },
     "execution_count": 35,
     "metadata": {},
     "output_type": "execute_result"
    }
   ],
   "source": [
    "bus_one.greet_passengers('Hello there')"
   ]
  },
  {
   "cell_type": "code",
   "execution_count": 36,
   "id": "c47cb6d1",
   "metadata": {
    "ExecuteTime": {
     "end_time": "2022-11-23T12:21:26.126490Z",
     "start_time": "2022-11-23T12:21:26.121338Z"
    }
   },
   "outputs": [
    {
     "data": {
      "text/plain": [
       "'Hello there'"
      ]
     },
     "execution_count": 36,
     "metadata": {},
     "output_type": "execute_result"
    }
   ],
   "source": [
    "Bus.greet_passengers('Hello there')"
   ]
  },
  {
   "cell_type": "code",
   "execution_count": 37,
   "id": "9a3019d9",
   "metadata": {
    "ExecuteTime": {
     "end_time": "2022-11-23T12:22:06.611486Z",
     "start_time": "2022-11-23T12:22:06.602329Z"
    }
   },
   "outputs": [
    {
     "data": {
      "text/plain": [
       "'Hello from IAD-11 and IAD-12 bus'"
      ]
     },
     "execution_count": 37,
     "metadata": {},
     "output_type": "execute_result"
    }
   ],
   "source": [
    "bus_one.greet_bus_passengers('Hello')"
   ]
  },
  {
   "cell_type": "markdown",
   "id": "83a010ab",
   "metadata": {},
   "source": [
    "**@classmethod** заставляет декорируемую функцию оперировать самим классом, а не конкретным его инстансом (не требует создания объекта-инстанса класса) \n",
    "\n",
    "**@staticmethod** \"отвязывает\" декорируемую функцию от ее класса в том смысле, что функция теряет доступ к полям класса и полям инстанса класса. Но зато и не требует создания инстанса для своей работы"
   ]
  },
  {
   "cell_type": "markdown",
   "id": "c0d81886",
   "metadata": {},
   "source": [
    "---"
   ]
  },
  {
   "cell_type": "markdown",
   "id": "26e37119",
   "metadata": {},
   "source": [
    "## property"
   ]
  },
  {
   "cell_type": "markdown",
   "id": "a9dfa430",
   "metadata": {},
   "source": [
    "When you define a class in an object-oriented programming language, you’ll probably end up with some instance and class attributes. In other words, you’ll end up with variables that are accessible through the instance, class, or even both, depending on the language. Attributes represent or hold the internal state of a given object, which you’ll often need to access and mutate.\n",
    "\n",
    "Typically, you have at least two ways to manage an attribute. Either you can access and mutate the attribute directly or you can use methods. Methods are functions attached to a given class. They provide the behaviors and actions that an object can perform with its internal data and attributes.\n",
    "\n",
    "If you expose your attributes to the user, then they become part of the public API of your classes. Your user will access and mutate them directly in their code. The problem comes when you need to change the internal implementation of a given attribute."
   ]
  },
  {
   "cell_type": "markdown",
   "id": "fddba5d5",
   "metadata": {},
   "source": [
    "Пусть мы хотим иметь публичный доступ к полям-координатам *x* и *y*, но при этом оставить за собой возможность изменения логики работы с ними, не изменяя публичный api. Один из способов это сделать -- \"завернуть\" в getter и setter"
   ]
  },
  {
   "cell_type": "code",
   "execution_count": 38,
   "id": "34c71267",
   "metadata": {
    "ExecuteTime": {
     "end_time": "2022-11-23T12:27:26.751794Z",
     "start_time": "2022-11-23T12:27:26.746303Z"
    }
   },
   "outputs": [],
   "source": [
    "class Point:\n",
    "    def __init__(self, x, y):\n",
    "        self._x = x\n",
    "        self._y = y\n",
    "\n",
    "    def get_x(self):\n",
    "        return self._x\n",
    "\n",
    "    def set_x(self, value):\n",
    "        self._x = value\n",
    "\n",
    "    def get_y(self):\n",
    "        return self._y\n",
    "\n",
    "    def set_y(self, value):\n",
    "        self._y = value"
   ]
  },
  {
   "cell_type": "code",
   "execution_count": 39,
   "id": "e3889ddf",
   "metadata": {
    "ExecuteTime": {
     "end_time": "2022-11-23T12:27:35.714718Z",
     "start_time": "2022-11-23T12:27:35.708303Z"
    }
   },
   "outputs": [],
   "source": [
    "a = Point(1, 2)"
   ]
  },
  {
   "cell_type": "code",
   "execution_count": 43,
   "id": "d88985a9",
   "metadata": {
    "ExecuteTime": {
     "end_time": "2022-11-23T12:28:51.169985Z",
     "start_time": "2022-11-23T12:28:51.164890Z"
    }
   },
   "outputs": [
    {
     "data": {
      "text/plain": [
       "1"
      ]
     },
     "execution_count": 43,
     "metadata": {},
     "output_type": "execute_result"
    }
   ],
   "source": [
    "a.get_x()"
   ]
  },
  {
   "cell_type": "code",
   "execution_count": 44,
   "id": "f46d6b05",
   "metadata": {
    "ExecuteTime": {
     "end_time": "2022-11-23T12:29:15.091983Z",
     "start_time": "2022-11-23T12:29:15.086325Z"
    }
   },
   "outputs": [
    {
     "data": {
      "text/plain": [
       "2"
      ]
     },
     "execution_count": 44,
     "metadata": {},
     "output_type": "execute_result"
    }
   ],
   "source": [
    "a.set_x(2)\n",
    "a.get_x()"
   ]
  },
  {
   "cell_type": "code",
   "execution_count": 45,
   "id": "12b49d32",
   "metadata": {
    "ExecuteTime": {
     "end_time": "2022-11-23T12:30:05.844961Z",
     "start_time": "2022-11-23T12:30:05.841131Z"
    }
   },
   "outputs": [],
   "source": [
    "class Point:\n",
    "    def __init__(self, x, y):\n",
    "        self.x = x\n",
    "        self.y = y"
   ]
  },
  {
   "cell_type": "code",
   "execution_count": 47,
   "id": "a181d8e6",
   "metadata": {
    "ExecuteTime": {
     "end_time": "2022-11-23T12:30:20.713412Z",
     "start_time": "2022-11-23T12:30:20.707623Z"
    }
   },
   "outputs": [
    {
     "data": {
      "text/plain": [
       "(1, 2)"
      ]
     },
     "execution_count": 47,
     "metadata": {},
     "output_type": "execute_result"
    }
   ],
   "source": [
    "a = Point(1, 2)\n",
    "\n",
    "a.x, a.y"
   ]
  },
  {
   "cell_type": "code",
   "execution_count": 48,
   "id": "b648a0cb",
   "metadata": {
    "ExecuteTime": {
     "end_time": "2022-11-23T12:30:30.569374Z",
     "start_time": "2022-11-23T12:30:30.563855Z"
    }
   },
   "outputs": [
    {
     "data": {
      "text/plain": [
       "2"
      ]
     },
     "execution_count": 48,
     "metadata": {},
     "output_type": "execute_result"
    }
   ],
   "source": [
    "a.x = 2\n",
    "a.x"
   ]
  },
  {
   "cell_type": "markdown",
   "id": "51db7101",
   "metadata": {},
   "source": [
    "На данный момент, мы понимаем, как завернуть поля *x* и *y* в функции и как иметь доступ к ним через точку, т.е. как работать с ними как с атрибутами. Заворачивание в getter и setter не всегда является удачной практикой, и работать с таким не всегда удобно. Хотелось бы иметь возможность дать пользователю работать с атрибутами, но при этом иметь некоторый контроль за логикой, который будет скрыт от пользователя. Т.е. *x* и *y* открыты для доступа через точку, но при доступе к ним есть некоторая дополнительная логика "
   ]
  },
  {
   "cell_type": "code",
   "execution_count": 54,
   "id": "ea0022d1",
   "metadata": {
    "ExecuteTime": {
     "end_time": "2022-11-23T12:37:09.346113Z",
     "start_time": "2022-11-23T12:37:09.340187Z"
    }
   },
   "outputs": [],
   "source": [
    "class Point:\n",
    "    def __init__(self, x, y):\n",
    "        self._x = x\n",
    "        self._y = y\n",
    "        \n",
    "    def _get_x(self):\n",
    "        print('Getting x')\n",
    "        return self._x\n",
    "    \n",
    "    def _set_x(self, value):\n",
    "        print(f'Setting a value {value} for x')\n",
    "        self._x = value\n",
    "        \n",
    "    def _del_x(self):\n",
    "        print('Deleting x')\n",
    "        del self._x\n",
    "        \n",
    "    def _get_y(self):\n",
    "        print('Getting y')\n",
    "        return self._y\n",
    "    \n",
    "    def _set_y(self, value):\n",
    "        print(f'Setting a value {value} for y')\n",
    "        self._y = value\n",
    "        \n",
    "    def _del_y(self):\n",
    "        print('Deleting y')\n",
    "        del self._y\n",
    "        \n",
    "    x = property(\n",
    "        fget=_get_x,\n",
    "        fset=_set_x,\n",
    "        fdel=_del_x,\n",
    "        doc='X coordinate property'\n",
    "    )\n",
    "    \n",
    "    y = property(\n",
    "        fget=_get_y,\n",
    "        fset=_set_y,\n",
    "        fdel=_del_y,\n",
    "        doc='Y coordinate property'\n",
    "    )"
   ]
  },
  {
   "cell_type": "code",
   "execution_count": 55,
   "id": "5b2ae596",
   "metadata": {
    "ExecuteTime": {
     "end_time": "2022-11-23T12:37:10.557225Z",
     "start_time": "2022-11-23T12:37:10.551137Z"
    }
   },
   "outputs": [],
   "source": [
    "a = Point(1, 2)"
   ]
  },
  {
   "cell_type": "code",
   "execution_count": 58,
   "id": "f5e49581",
   "metadata": {
    "ExecuteTime": {
     "end_time": "2022-11-23T12:37:29.942094Z",
     "start_time": "2022-11-23T12:37:29.933311Z"
    }
   },
   "outputs": [
    {
     "name": "stdout",
     "output_type": "stream",
     "text": [
      "Getting x\n"
     ]
    },
    {
     "data": {
      "text/plain": [
       "4"
      ]
     },
     "execution_count": 58,
     "metadata": {},
     "output_type": "execute_result"
    }
   ],
   "source": [
    "a.x"
   ]
  },
  {
   "cell_type": "code",
   "execution_count": 56,
   "id": "23539bb9",
   "metadata": {
    "ExecuteTime": {
     "end_time": "2022-11-23T12:37:11.507247Z",
     "start_time": "2022-11-23T12:37:11.500692Z"
    }
   },
   "outputs": [
    {
     "name": "stdout",
     "output_type": "stream",
     "text": [
      "Setting a value 4 for x\n"
     ]
    }
   ],
   "source": [
    "a.x = 4"
   ]
  },
  {
   "cell_type": "code",
   "execution_count": 57,
   "id": "02cc32d6",
   "metadata": {
    "ExecuteTime": {
     "end_time": "2022-11-23T12:37:23.467527Z",
     "start_time": "2022-11-23T12:37:23.457379Z"
    }
   },
   "outputs": [
    {
     "name": "stdout",
     "output_type": "stream",
     "text": [
      "Getting y\n"
     ]
    },
    {
     "data": {
      "text/plain": [
       "2"
      ]
     },
     "execution_count": 57,
     "metadata": {},
     "output_type": "execute_result"
    }
   ],
   "source": [
    "a.y"
   ]
  },
  {
   "cell_type": "code",
   "execution_count": 59,
   "id": "ed3f7bea",
   "metadata": {
    "ExecuteTime": {
     "end_time": "2022-11-23T12:37:38.480878Z",
     "start_time": "2022-11-23T12:37:38.474288Z"
    }
   },
   "outputs": [
    {
     "name": "stdout",
     "output_type": "stream",
     "text": [
      "Setting a value 1337 for y\n"
     ]
    }
   ],
   "source": [
    "a.y = 1337"
   ]
  },
  {
   "cell_type": "code",
   "execution_count": 60,
   "id": "c8a8bf65",
   "metadata": {
    "ExecuteTime": {
     "end_time": "2022-11-23T12:37:43.730697Z",
     "start_time": "2022-11-23T12:37:43.724021Z"
    }
   },
   "outputs": [
    {
     "name": "stdout",
     "output_type": "stream",
     "text": [
      "Deleting x\n"
     ]
    }
   ],
   "source": [
    "del a.x"
   ]
  },
  {
   "cell_type": "code",
   "execution_count": 62,
   "id": "30f08c54",
   "metadata": {
    "ExecuteTime": {
     "end_time": "2022-11-23T12:38:02.082502Z",
     "start_time": "2022-11-23T12:38:02.074970Z"
    }
   },
   "outputs": [
    {
     "name": "stdout",
     "output_type": "stream",
     "text": [
      "Setting a value 6 for x\n"
     ]
    }
   ],
   "source": [
    "a.x = 6"
   ]
  },
  {
   "cell_type": "code",
   "execution_count": 63,
   "id": "1b5dd3b3",
   "metadata": {
    "ExecuteTime": {
     "end_time": "2022-11-23T12:38:07.250947Z",
     "start_time": "2022-11-23T12:38:07.241184Z"
    }
   },
   "outputs": [
    {
     "name": "stdout",
     "output_type": "stream",
     "text": [
      "Getting x\n"
     ]
    },
    {
     "data": {
      "text/plain": [
       "6"
      ]
     },
     "execution_count": 63,
     "metadata": {},
     "output_type": "execute_result"
    }
   ],
   "source": [
    "a.x"
   ]
  },
  {
   "cell_type": "code",
   "execution_count": 64,
   "id": "53899dd7",
   "metadata": {
    "ExecuteTime": {
     "end_time": "2022-11-23T12:40:14.629834Z",
     "start_time": "2022-11-23T12:40:14.623918Z"
    }
   },
   "outputs": [],
   "source": [
    "class Point:\n",
    "    def __init__(self, x, y):\n",
    "        self._x = x\n",
    "        self._y = y\n",
    "    \n",
    "    @property\n",
    "    def x(self):\n",
    "        print('Getting x')\n",
    "        return self._x\n",
    "    \n",
    "    @x.setter\n",
    "    def x(self, value):\n",
    "        print(f'Setting a value {value} for x')\n",
    "        self._x = value\n",
    "\n",
    "    @x.deleter\n",
    "    def x(self):\n",
    "        print('Deleting x')\n",
    "        del self._x\n",
    "\n",
    "    @property\n",
    "    def y(self):\n",
    "        print('Getting y')\n",
    "        return self._y\n",
    "    \n",
    "    @y.setter\n",
    "    def y(self, value):\n",
    "        print(f'Setting a value {value} for y')\n",
    "        self._y = value\n",
    "    \n",
    "    @y.deleter\n",
    "    def y(self):\n",
    "        print('Deleting y')\n",
    "        del self._y"
   ]
  },
  {
   "cell_type": "code",
   "execution_count": 65,
   "id": "3caec71c",
   "metadata": {
    "ExecuteTime": {
     "end_time": "2022-11-23T12:40:22.237933Z",
     "start_time": "2022-11-23T12:40:22.231634Z"
    }
   },
   "outputs": [],
   "source": [
    "a = Point(42, 1337)"
   ]
  },
  {
   "cell_type": "code",
   "execution_count": 66,
   "id": "50ca083b",
   "metadata": {
    "ExecuteTime": {
     "end_time": "2022-11-23T12:40:28.609742Z",
     "start_time": "2022-11-23T12:40:28.604318Z"
    }
   },
   "outputs": [
    {
     "name": "stdout",
     "output_type": "stream",
     "text": [
      "Getting x\n"
     ]
    },
    {
     "data": {
      "text/plain": [
       "42"
      ]
     },
     "execution_count": 66,
     "metadata": {},
     "output_type": "execute_result"
    }
   ],
   "source": [
    "a.x"
   ]
  },
  {
   "cell_type": "code",
   "execution_count": 67,
   "id": "f56a001f",
   "metadata": {
    "ExecuteTime": {
     "end_time": "2022-11-23T12:41:05.441598Z",
     "start_time": "2022-11-23T12:41:05.434768Z"
    }
   },
   "outputs": [
    {
     "name": "stdout",
     "output_type": "stream",
     "text": [
      "Setting a value 43 for x\n"
     ]
    }
   ],
   "source": [
    "a.x = 43"
   ]
  },
  {
   "cell_type": "code",
   "execution_count": 68,
   "id": "4e862f33",
   "metadata": {
    "ExecuteTime": {
     "end_time": "2022-11-23T12:41:11.523729Z",
     "start_time": "2022-11-23T12:41:11.516839Z"
    }
   },
   "outputs": [
    {
     "name": "stdout",
     "output_type": "stream",
     "text": [
      "Deleting x\n"
     ]
    }
   ],
   "source": [
    "del a.x"
   ]
  },
  {
   "cell_type": "markdown",
   "id": "2bbd9ba8",
   "metadata": {},
   "source": [
    "Если не объявлять setter и deleter, то получим read-only атрибуты"
   ]
  },
  {
   "cell_type": "code",
   "execution_count": 69,
   "id": "c912b306",
   "metadata": {
    "ExecuteTime": {
     "end_time": "2022-11-23T12:41:47.882044Z",
     "start_time": "2022-11-23T12:41:47.877059Z"
    }
   },
   "outputs": [],
   "source": [
    "class Point:\n",
    "    def __init__(self, x, y):\n",
    "        self._x = x\n",
    "        self._y = y\n",
    "    \n",
    "    @property\n",
    "    def x(self):\n",
    "        print('Getting x')\n",
    "        return self._x\n",
    "    \n",
    "    @property\n",
    "    def y(self):\n",
    "        print('Getting y')\n",
    "        return self._y\n",
    "    "
   ]
  },
  {
   "cell_type": "code",
   "execution_count": 70,
   "id": "dc29067e",
   "metadata": {
    "ExecuteTime": {
     "end_time": "2022-11-23T12:41:56.688384Z",
     "start_time": "2022-11-23T12:41:56.682370Z"
    }
   },
   "outputs": [],
   "source": [
    "a = Point(7, 19)"
   ]
  },
  {
   "cell_type": "code",
   "execution_count": 71,
   "id": "aa255c5a",
   "metadata": {
    "ExecuteTime": {
     "end_time": "2022-11-23T12:42:00.217644Z",
     "start_time": "2022-11-23T12:42:00.207619Z"
    }
   },
   "outputs": [
    {
     "name": "stdout",
     "output_type": "stream",
     "text": [
      "Getting x\n"
     ]
    },
    {
     "data": {
      "text/plain": [
       "7"
      ]
     },
     "execution_count": 71,
     "metadata": {},
     "output_type": "execute_result"
    }
   ],
   "source": [
    "a.x"
   ]
  },
  {
   "cell_type": "code",
   "execution_count": 72,
   "id": "55edd866",
   "metadata": {
    "ExecuteTime": {
     "end_time": "2022-11-23T12:42:02.870229Z",
     "start_time": "2022-11-23T12:42:02.860603Z"
    }
   },
   "outputs": [
    {
     "name": "stdout",
     "output_type": "stream",
     "text": [
      "Getting y\n"
     ]
    },
    {
     "data": {
      "text/plain": [
       "19"
      ]
     },
     "execution_count": 72,
     "metadata": {},
     "output_type": "execute_result"
    }
   ],
   "source": [
    "a.y"
   ]
  },
  {
   "cell_type": "code",
   "execution_count": 73,
   "id": "c33661d4",
   "metadata": {
    "ExecuteTime": {
     "end_time": "2022-11-23T12:42:07.601493Z",
     "start_time": "2022-11-23T12:42:07.582834Z"
    }
   },
   "outputs": [
    {
     "ename": "AttributeError",
     "evalue": "can't set attribute",
     "output_type": "error",
     "traceback": [
      "\u001b[0;31m---------------------------------------------------------------------------\u001b[0m",
      "\u001b[0;31mAttributeError\u001b[0m                            Traceback (most recent call last)",
      "Cell \u001b[0;32mIn [73], line 1\u001b[0m\n\u001b[0;32m----> 1\u001b[0m a\u001b[38;5;241m.\u001b[39mx \u001b[38;5;241m=\u001b[39m \u001b[38;5;241m56\u001b[39m\n",
      "\u001b[0;31mAttributeError\u001b[0m: can't set attribute"
     ]
    }
   ],
   "source": [
    "a.x = 56"
   ]
  },
  {
   "cell_type": "markdown",
   "id": "c1b675c1",
   "metadata": {},
   "source": [
    "Можно выбросить кастомную ошибку в setter"
   ]
  },
  {
   "cell_type": "code",
   "execution_count": 74,
   "id": "b5a5afce",
   "metadata": {
    "ExecuteTime": {
     "end_time": "2022-11-23T12:43:49.073876Z",
     "start_time": "2022-11-23T12:43:49.068211Z"
    }
   },
   "outputs": [],
   "source": [
    "class Point:\n",
    "    def __init__(self, x, y):\n",
    "        self._x = x\n",
    "        self._y = y\n",
    "    \n",
    "    @property\n",
    "    def x(self):\n",
    "        print('Getting x')\n",
    "        return self._x\n",
    "    \n",
    "    @x.setter\n",
    "    def x(self, *args):\n",
    "        raise AttributeError('x coordinate is read only!')\n",
    "    \n",
    "    @property\n",
    "    def y(self):\n",
    "        print('Getting y')\n",
    "        return self._y\n",
    "    \n",
    "    @y.setter\n",
    "    def y(self, *args):\n",
    "        raise AttributeError('y coordinate is read only!')\n",
    "    "
   ]
  },
  {
   "cell_type": "code",
   "execution_count": 75,
   "id": "a7a57bce",
   "metadata": {
    "ExecuteTime": {
     "end_time": "2022-11-23T12:43:56.495439Z",
     "start_time": "2022-11-23T12:43:56.484990Z"
    }
   },
   "outputs": [
    {
     "name": "stdout",
     "output_type": "stream",
     "text": [
      "Getting x\n"
     ]
    },
    {
     "data": {
      "text/plain": [
       "6"
      ]
     },
     "execution_count": 75,
     "metadata": {},
     "output_type": "execute_result"
    }
   ],
   "source": [
    "a = Point(6, 7)\n",
    "\n",
    "a.x"
   ]
  },
  {
   "cell_type": "code",
   "execution_count": 76,
   "id": "53a252b3",
   "metadata": {
    "ExecuteTime": {
     "end_time": "2022-11-23T12:43:59.807522Z",
     "start_time": "2022-11-23T12:43:59.787179Z"
    }
   },
   "outputs": [
    {
     "ename": "AttributeError",
     "evalue": "x coordinate is read only!",
     "output_type": "error",
     "traceback": [
      "\u001b[0;31m---------------------------------------------------------------------------\u001b[0m",
      "\u001b[0;31mAttributeError\u001b[0m                            Traceback (most recent call last)",
      "Cell \u001b[0;32mIn [76], line 1\u001b[0m\n\u001b[0;32m----> 1\u001b[0m a\u001b[38;5;241m.\u001b[39mx \u001b[38;5;241m=\u001b[39m \u001b[38;5;241m13\u001b[39m\n",
      "Cell \u001b[0;32mIn [74], line 13\u001b[0m, in \u001b[0;36mPoint.x\u001b[0;34m(self, *args)\u001b[0m\n\u001b[1;32m     11\u001b[0m \u001b[38;5;129m@x\u001b[39m\u001b[38;5;241m.\u001b[39msetter\n\u001b[1;32m     12\u001b[0m \u001b[38;5;28;01mdef\u001b[39;00m \u001b[38;5;21mx\u001b[39m(\u001b[38;5;28mself\u001b[39m, \u001b[38;5;241m*\u001b[39margs):\n\u001b[0;32m---> 13\u001b[0m     \u001b[38;5;28;01mraise\u001b[39;00m \u001b[38;5;167;01mAttributeError\u001b[39;00m(\u001b[38;5;124m'\u001b[39m\u001b[38;5;124mx coordinate is read only!\u001b[39m\u001b[38;5;124m'\u001b[39m)\n",
      "\u001b[0;31mAttributeError\u001b[0m: x coordinate is read only!"
     ]
    }
   ],
   "source": [
    "a.x = 13"
   ]
  },
  {
   "cell_type": "markdown",
   "id": "a06ee6ee",
   "metadata": {},
   "source": [
    "Также можно сделать и write-only атрибуты, задав поведение в setter, а в getter выбрасывать ошибку"
   ]
  },
  {
   "cell_type": "code",
   "execution_count": 77,
   "id": "bb97682f",
   "metadata": {
    "ExecuteTime": {
     "end_time": "2022-11-23T12:45:00.529967Z",
     "start_time": "2022-11-23T12:45:00.524434Z"
    }
   },
   "outputs": [],
   "source": [
    "import hashlib\n",
    "import os\n",
    "\n",
    "class User:\n",
    "    def __init__(self, name, password):\n",
    "        self.name = name\n",
    "        self.password = password\n",
    "\n",
    "    @property\n",
    "    def password(self):\n",
    "        raise AttributeError(\"Password is write-only\")\n",
    "\n",
    "    @password.setter\n",
    "    def password(self, plaintext):\n",
    "        salt = os.urandom(32)\n",
    "        self._hashed_password = hashlib.pbkdf2_hmac(\n",
    "            \"sha256\", plaintext.encode(\"utf-8\"), salt, 100_000\n",
    "        )"
   ]
  },
  {
   "cell_type": "code",
   "execution_count": 78,
   "id": "55c00970",
   "metadata": {
    "ExecuteTime": {
     "end_time": "2022-11-23T12:45:21.617190Z",
     "start_time": "2022-11-23T12:45:21.587314Z"
    }
   },
   "outputs": [],
   "source": [
    "me = User('Denis', '12345678')"
   ]
  },
  {
   "cell_type": "code",
   "execution_count": 80,
   "id": "949c1cf2",
   "metadata": {
    "ExecuteTime": {
     "end_time": "2022-11-23T12:45:49.131605Z",
     "start_time": "2022-11-23T12:45:49.105391Z"
    }
   },
   "outputs": [],
   "source": [
    "me.password = '123'"
   ]
  },
  {
   "cell_type": "markdown",
   "id": "6cc37718",
   "metadata": {},
   "source": [
    "Одно из полезных применений механизма дескриптора -- осуществление контроля за типом данных. Пример, где в setter мы проверяем, что переданное значение координаты -- это число"
   ]
  },
  {
   "cell_type": "code",
   "execution_count": 88,
   "id": "5eb46fc9",
   "metadata": {
    "ExecuteTime": {
     "end_time": "2022-11-23T12:52:36.905965Z",
     "start_time": "2022-11-23T12:52:36.900259Z"
    }
   },
   "outputs": [],
   "source": [
    "class Point:\n",
    "    def __init__(self, x, y):\n",
    "        self._x = x\n",
    "        self._y = y\n",
    "    \n",
    "    @property\n",
    "    def x(self):\n",
    "        print('Getting x')\n",
    "        return self._x\n",
    "    \n",
    "    @x.setter\n",
    "    def x(self, value):\n",
    "        try:\n",
    "            self._x = float(value)\n",
    "        except ValueError:\n",
    "            raise ValueError('x should be a number')\n",
    "        \n",
    "    @property\n",
    "    def y(self):\n",
    "        print('Getting y')\n",
    "        return self._y\n",
    "    \n",
    "    @y.setter\n",
    "    def y(self, value):\n",
    "        try:\n",
    "            self._y = float(value)\n",
    "        except ValueError:\n",
    "            raise ValueError('y should be a number')"
   ]
  },
  {
   "cell_type": "code",
   "execution_count": 87,
   "id": "11c05c60",
   "metadata": {
    "ExecuteTime": {
     "end_time": "2022-11-23T12:52:01.813535Z",
     "start_time": "2022-11-23T12:52:01.791320Z"
    }
   },
   "outputs": [
    {
     "ename": "ValueError",
     "evalue": "x should be a number",
     "output_type": "error",
     "traceback": [
      "\u001b[0;31m---------------------------------------------------------------------------\u001b[0m",
      "\u001b[0;31mValueError\u001b[0m                                Traceback (most recent call last)",
      "Cell \u001b[0;32mIn [85], line 14\u001b[0m, in \u001b[0;36mPoint.x\u001b[0;34m(self, value)\u001b[0m\n\u001b[1;32m     13\u001b[0m \u001b[38;5;28;01mtry\u001b[39;00m:\n\u001b[0;32m---> 14\u001b[0m     \u001b[38;5;28mself\u001b[39m\u001b[38;5;241m.\u001b[39m_ \u001b[38;5;241m=\u001b[39m \u001b[38;5;28;43mfloat\u001b[39;49m\u001b[43m(\u001b[49m\u001b[43mvalue\u001b[49m\u001b[43m)\u001b[49m\n\u001b[1;32m     15\u001b[0m \u001b[38;5;28;01mexcept\u001b[39;00m \u001b[38;5;167;01mValueError\u001b[39;00m:\n",
      "\u001b[0;31mValueError\u001b[0m: could not convert string to float: 'something'",
      "\nDuring handling of the above exception, another exception occurred:\n",
      "\u001b[0;31mValueError\u001b[0m                                Traceback (most recent call last)",
      "Cell \u001b[0;32mIn [87], line 3\u001b[0m\n\u001b[1;32m      1\u001b[0m a \u001b[38;5;241m=\u001b[39m Point(\u001b[38;5;241m5\u001b[39m, \u001b[38;5;241m2\u001b[39m)\n\u001b[0;32m----> 3\u001b[0m a\u001b[38;5;241m.\u001b[39mx \u001b[38;5;241m=\u001b[39m \u001b[38;5;124m'\u001b[39m\u001b[38;5;124msomething\u001b[39m\u001b[38;5;124m'\u001b[39m\n",
      "Cell \u001b[0;32mIn [85], line 16\u001b[0m, in \u001b[0;36mPoint.x\u001b[0;34m(self, value)\u001b[0m\n\u001b[1;32m     14\u001b[0m     \u001b[38;5;28mself\u001b[39m\u001b[38;5;241m.\u001b[39m_ \u001b[38;5;241m=\u001b[39m \u001b[38;5;28mfloat\u001b[39m(value)\n\u001b[1;32m     15\u001b[0m \u001b[38;5;28;01mexcept\u001b[39;00m \u001b[38;5;167;01mValueError\u001b[39;00m:\n\u001b[0;32m---> 16\u001b[0m     \u001b[38;5;28;01mraise\u001b[39;00m \u001b[38;5;167;01mValueError\u001b[39;00m(\u001b[38;5;124m'\u001b[39m\u001b[38;5;124mx should be a number\u001b[39m\u001b[38;5;124m'\u001b[39m)\n",
      "\u001b[0;31mValueError\u001b[0m: x should be a number"
     ]
    }
   ],
   "source": [
    "a = Point(5, 2)\n",
    "\n",
    "a.x = 'something'"
   ]
  },
  {
   "cell_type": "markdown",
   "id": "d5bc44a1",
   "metadata": {},
   "source": [
    "## Общий вид"
   ]
  },
  {
   "cell_type": "markdown",
   "id": "b96e01ed",
   "metadata": {},
   "source": [
    "Отличное описание в [доке](https://docs.python.org/3/reference/datamodel.html#invoking-descriptors)"
   ]
  },
  {
   "cell_type": "markdown",
   "id": "23b5fb6e",
   "metadata": {},
   "source": [
    "Мы самом деле, мы с вами уже выше познакомились с частным примером такой сущности."
   ]
  },
  {
   "cell_type": "markdown",
   "id": "44dab0c8",
   "metadata": {},
   "source": [
    "Дескриптор -- это объект с определенными методами `__get__()`, `__set__()` и `__delete__()`.  Не обязательно все эти методы должны быть определены "
   ]
  },
  {
   "cell_type": "markdown",
   "id": "8e6504c3",
   "metadata": {},
   "source": [
    "### Coordinate"
   ]
  },
  {
   "cell_type": "markdown",
   "id": "316277f9",
   "metadata": {},
   "source": [
    "Реализуем функционал, который мы делали через @property, только в общем виде"
   ]
  },
  {
   "cell_type": "code",
   "execution_count": 98,
   "id": "087648bf",
   "metadata": {
    "ExecuteTime": {
     "end_time": "2022-11-23T13:01:03.075886Z",
     "start_time": "2022-11-23T13:01:03.070336Z"
    }
   },
   "outputs": [],
   "source": [
    "class Coordinate:\n",
    "    def __set_name__(self, owner, name):\n",
    "        self._name = name\n",
    "        \n",
    "    def __get__(self, instance, owner):\n",
    "        return instance.__dict__[self._name]\n",
    "    \n",
    "    def __set__(self, instance, value):\n",
    "        try:\n",
    "            instance.__dict__[self._name] = float(value)\n",
    "            print(f'Validated {self._name}')\n",
    "        except ValueError:\n",
    "            raise ValueError(f'{self._name} should be a number')\n",
    "            \n",
    "\n",
    "class Point:\n",
    "    x = Coordinate()\n",
    "    y = Coordinate()\n",
    "    \n",
    "    def __init__(self, value_x, value_y):\n",
    "        self.x = value_x\n",
    "        self.y = value_y"
   ]
  },
  {
   "cell_type": "code",
   "execution_count": 99,
   "id": "8513cb69",
   "metadata": {
    "ExecuteTime": {
     "end_time": "2022-11-23T13:01:04.015050Z",
     "start_time": "2022-11-23T13:01:04.007831Z"
    }
   },
   "outputs": [
    {
     "name": "stdout",
     "output_type": "stream",
     "text": [
      "Validated x\n",
      "Validated y\n"
     ]
    }
   ],
   "source": [
    "a = Point(14, 15)"
   ]
  },
  {
   "cell_type": "code",
   "execution_count": 100,
   "id": "64ee88c8",
   "metadata": {
    "ExecuteTime": {
     "end_time": "2022-11-23T13:01:04.754068Z",
     "start_time": "2022-11-23T13:01:04.744816Z"
    }
   },
   "outputs": [
    {
     "data": {
      "text/plain": [
       "(14.0, 15.0)"
      ]
     },
     "execution_count": 100,
     "metadata": {},
     "output_type": "execute_result"
    }
   ],
   "source": [
    "a.x, a.y"
   ]
  },
  {
   "cell_type": "code",
   "execution_count": 101,
   "id": "0b5a71d5",
   "metadata": {
    "ExecuteTime": {
     "end_time": "2022-11-23T13:01:07.671192Z",
     "start_time": "2022-11-23T13:01:07.668029Z"
    }
   },
   "outputs": [
    {
     "name": "stdout",
     "output_type": "stream",
     "text": [
      "Validated x\n"
     ]
    }
   ],
   "source": [
    "a.x = 52"
   ]
  },
  {
   "cell_type": "markdown",
   "id": "c5a1815e",
   "metadata": {},
   "source": [
    "### Разбираемся с аргументами"
   ]
  },
  {
   "cell_type": "markdown",
   "id": "4343809a",
   "metadata": {},
   "source": [
    "В реализации выше мы задали несколько параметров в функции `__get__`, `__set__` и `__delete__`. Давайте посмотрим, какие аргументы туда передаются."
   ]
  },
  {
   "cell_type": "code",
   "execution_count": 2,
   "id": "88d981e0",
   "metadata": {
    "ExecuteTime": {
     "end_time": "2022-12-09T21:22:13.446932Z",
     "start_time": "2022-12-09T21:22:13.441336Z"
    }
   },
   "outputs": [],
   "source": [
    "class BestConstant:\n",
    "    def __get__(self, obj, owner):\n",
    "        print('using BestConstant __get__')\n",
    "        print(self, obj, owner)\n",
    "        return obj._y\n",
    "    \n",
    "    def __set__(self, obj, value):\n",
    "        print('using BestConstant __set__')\n",
    "        print(self, obj, value)\n",
    "        obj._y = value\n",
    "        \n",
    "    def __delete__(self, obj):\n",
    "        print('using BestConstant __delete__')\n",
    "        print(obj)\n",
    "        del obj._y\n",
    "    \n",
    "class Point:\n",
    "    y = BestConstant()\n",
    "    \n",
    "    def __init__(self, x=10, y=32):\n",
    "        self.x = x\n",
    "        self.y = y"
   ]
  },
  {
   "cell_type": "markdown",
   "id": "4c60acf0",
   "metadata": {},
   "source": [
    "Что за obj, owner, value?"
   ]
  },
  {
   "cell_type": "code",
   "execution_count": 3,
   "id": "5373060d",
   "metadata": {
    "ExecuteTime": {
     "end_time": "2022-12-09T21:22:14.942403Z",
     "start_time": "2022-12-09T21:22:14.936103Z"
    }
   },
   "outputs": [
    {
     "name": "stdout",
     "output_type": "stream",
     "text": [
      "using BestConstant __set__\n",
      "<__main__.BestConstant object at 0x7f8e3b719ee0> <__main__.Point object at 0x7f8ee453eaf0> 10\n"
     ]
    }
   ],
   "source": [
    "a = Point(1, 10)"
   ]
  },
  {
   "cell_type": "markdown",
   "id": "db6d1dd2",
   "metadata": {},
   "source": [
    "(видим, что при задании значения поля y вызвали ассоциированный дескриптор)"
   ]
  },
  {
   "cell_type": "markdown",
   "id": "6311df81",
   "metadata": {},
   "source": [
    "`self` -- инстанс класса BestConstant - поле *y*\n",
    "\n",
    "`obj` -- инстанс класса Point\n",
    "\n",
    "`owner` -- класс Point"
   ]
  },
  {
   "cell_type": "code",
   "execution_count": 81,
   "id": "3f36a852",
   "metadata": {
    "ExecuteTime": {
     "end_time": "2022-12-07T01:56:05.790378Z",
     "start_time": "2022-12-07T01:56:05.784979Z"
    }
   },
   "outputs": [
    {
     "name": "stdout",
     "output_type": "stream",
     "text": [
      "using BestConstant __get__\n",
      "<__main__.BestConstant object at 0x7f59ce690910> <__main__.Point object at 0x7f59ce748d00> <class '__main__.Point'>\n"
     ]
    },
    {
     "data": {
      "text/plain": [
       "10"
      ]
     },
     "execution_count": 81,
     "metadata": {},
     "output_type": "execute_result"
    }
   ],
   "source": [
    "a.y"
   ]
  },
  {
   "cell_type": "code",
   "execution_count": 82,
   "id": "8d13c1f3",
   "metadata": {
    "ExecuteTime": {
     "end_time": "2022-12-07T01:56:09.316068Z",
     "start_time": "2022-12-07T01:56:09.309161Z"
    }
   },
   "outputs": [
    {
     "name": "stdout",
     "output_type": "stream",
     "text": [
      "using BestConstant __delete__\n",
      "<__main__.Point object at 0x7f59ce748d00>\n"
     ]
    }
   ],
   "source": [
    "del a.y"
   ]
  },
  {
   "cell_type": "markdown",
   "id": "c595c5c8",
   "metadata": {},
   "source": [
    "Помимо обозначенных функций можно еще использовать метод `__set_name__`. С его помощью можно получить название поля, для которого вызывается дескриптор"
   ]
  },
  {
   "cell_type": "code",
   "execution_count": 83,
   "id": "ba4c5beb",
   "metadata": {
    "ExecuteTime": {
     "end_time": "2022-12-07T01:56:40.048470Z",
     "start_time": "2022-12-07T01:56:40.042317Z"
    }
   },
   "outputs": [],
   "source": [
    "class BestConstant:\n",
    "    \n",
    "    def __set_name__(self, owner, name):\n",
    "        self.public_name = name\n",
    "        self.private_name = '_' + name\n",
    "    \n",
    "    def __get__(self, obj, owner):\n",
    "        print(f'using BestConstant __get__ for \"{self.public_name}\" of {owner}')\n",
    "        return getattr(self, self.private_name)\n",
    "    \n",
    "    def __set__(self, obj, value):\n",
    "        print(f'using BestConstant __set__ for \"{self.public_name}\"')\n",
    "        setattr(self, self.private_name, value)\n",
    "        \n",
    "    def __delete__(self, obj):\n",
    "        print(f'using BestConstant __delete__ for \"{self.public_name}\"')\n",
    "        delattr(self, self.private_name)\n",
    "    \n",
    "class Point:\n",
    "    x = BestConstant()\n",
    "    y = BestConstant()\n",
    "    \n",
    "    def __init__(self, x=10, y=32):\n",
    "        self.x = x\n",
    "        self.y = y"
   ]
  },
  {
   "cell_type": "code",
   "execution_count": 84,
   "id": "b6bbac7b",
   "metadata": {
    "ExecuteTime": {
     "end_time": "2022-12-07T01:56:40.208560Z",
     "start_time": "2022-12-07T01:56:40.201786Z"
    }
   },
   "outputs": [
    {
     "name": "stdout",
     "output_type": "stream",
     "text": [
      "using BestConstant __set__ for \"x\"\n",
      "using BestConstant __set__ for \"y\"\n"
     ]
    }
   ],
   "source": [
    "a = Point(10, 10)"
   ]
  },
  {
   "cell_type": "code",
   "execution_count": 85,
   "id": "a8599a2e",
   "metadata": {
    "ExecuteTime": {
     "end_time": "2022-12-07T01:56:40.357131Z",
     "start_time": "2022-12-07T01:56:40.347599Z"
    }
   },
   "outputs": [
    {
     "name": "stdout",
     "output_type": "stream",
     "text": [
      "using BestConstant __get__ for \"x\" of <class '__main__.Point'>\n"
     ]
    },
    {
     "data": {
      "text/plain": [
       "10"
      ]
     },
     "execution_count": 85,
     "metadata": {},
     "output_type": "execute_result"
    }
   ],
   "source": [
    "a.x"
   ]
  },
  {
   "cell_type": "code",
   "execution_count": 86,
   "id": "4c8ab7e4",
   "metadata": {
    "ExecuteTime": {
     "end_time": "2022-12-07T01:56:40.503649Z",
     "start_time": "2022-12-07T01:56:40.496887Z"
    }
   },
   "outputs": [
    {
     "name": "stdout",
     "output_type": "stream",
     "text": [
      "using BestConstant __delete__ for \"x\"\n"
     ]
    }
   ],
   "source": [
    "del a.x"
   ]
  },
  {
   "cell_type": "code",
   "execution_count": 87,
   "id": "e8926793",
   "metadata": {
    "ExecuteTime": {
     "end_time": "2022-12-07T01:56:40.768158Z",
     "start_time": "2022-12-07T01:56:40.748902Z"
    }
   },
   "outputs": [
    {
     "name": "stdout",
     "output_type": "stream",
     "text": [
      "using BestConstant __get__ for \"x\" of <class '__main__.Point'>\n"
     ]
    },
    {
     "ename": "AttributeError",
     "evalue": "'BestConstant' object has no attribute '_x'",
     "output_type": "error",
     "traceback": [
      "\u001b[0;31m---------------------------------------------------------------------------\u001b[0m",
      "\u001b[0;31mAttributeError\u001b[0m                            Traceback (most recent call last)",
      "Cell \u001b[0;32mIn [87], line 1\u001b[0m\n\u001b[0;32m----> 1\u001b[0m a\u001b[38;5;241m.\u001b[39mx\n",
      "Cell \u001b[0;32mIn [83], line 10\u001b[0m, in \u001b[0;36mBestConstant.__get__\u001b[0;34m(self, obj, owner)\u001b[0m\n\u001b[1;32m      8\u001b[0m         \u001b[38;5;28mprint\u001b[39m(\u001b[38;5;124mf\u001b[39m\u001b[38;5;124m'\u001b[39m\u001b[38;5;124musing BestConstant __get__ for \u001b[39m\u001b[38;5;124m\"\u001b[39m\u001b[38;5;132;01m{\u001b[39;00m\u001b[38;5;28mself\u001b[39m\u001b[38;5;241m.\u001b[39mpublic_name\u001b[38;5;132;01m}\u001b[39;00m\u001b[38;5;124m\"\u001b[39m\u001b[38;5;124m of \u001b[39m\u001b[38;5;132;01m{\u001b[39;00mowner\u001b[38;5;132;01m}\u001b[39;00m\u001b[38;5;124m'\u001b[39m)\n\u001b[1;32m      9\u001b[0m \u001b[38;5;66;03m#         print(self, obj, owner)\u001b[39;00m\n\u001b[0;32m---> 10\u001b[0m         \u001b[38;5;28;01mreturn\u001b[39;00m \u001b[38;5;28;43mgetattr\u001b[39;49m\u001b[43m(\u001b[49m\u001b[38;5;28;43mself\u001b[39;49m\u001b[43m,\u001b[49m\u001b[43m \u001b[49m\u001b[38;5;28;43mself\u001b[39;49m\u001b[38;5;241;43m.\u001b[39;49m\u001b[43mprivate_name\u001b[49m\u001b[43m)\u001b[49m\n",
      "\u001b[0;31mAttributeError\u001b[0m: 'BestConstant' object has no attribute '_x'"
     ]
    }
   ],
   "source": [
    "a.x"
   ]
  },
  {
   "cell_type": "code",
   "execution_count": 88,
   "id": "33ccdb16",
   "metadata": {
    "ExecuteTime": {
     "end_time": "2022-12-07T01:56:41.684049Z",
     "start_time": "2022-12-07T01:56:41.676936Z"
    }
   },
   "outputs": [
    {
     "name": "stdout",
     "output_type": "stream",
     "text": [
      "using BestConstant __set__ for \"x\"\n"
     ]
    }
   ],
   "source": [
    "a.x = 15"
   ]
  },
  {
   "cell_type": "code",
   "execution_count": 89,
   "id": "67fb9539",
   "metadata": {
    "ExecuteTime": {
     "end_time": "2022-12-07T01:56:42.449702Z",
     "start_time": "2022-12-07T01:56:42.439994Z"
    }
   },
   "outputs": [
    {
     "name": "stdout",
     "output_type": "stream",
     "text": [
      "using BestConstant __get__ for \"x\" of <class '__main__.Point'>\n"
     ]
    },
    {
     "data": {
      "text/plain": [
       "15"
      ]
     },
     "execution_count": 89,
     "metadata": {},
     "output_type": "execute_result"
    }
   ],
   "source": [
    "a.x"
   ]
  },
  {
   "cell_type": "markdown",
   "id": "d1ee2c2d",
   "metadata": {},
   "source": [
    "### \"размер\" директории"
   ]
  },
  {
   "cell_type": "code",
   "execution_count": 50,
   "id": "981cac2d",
   "metadata": {
    "ExecuteTime": {
     "end_time": "2022-10-07T08:31:36.128765Z",
     "start_time": "2022-10-07T08:31:36.123004Z"
    }
   },
   "outputs": [],
   "source": [
    "import os"
   ]
  },
  {
   "cell_type": "code",
   "execution_count": 51,
   "id": "62b9eae1",
   "metadata": {
    "ExecuteTime": {
     "end_time": "2022-10-07T08:33:40.024914Z",
     "start_time": "2022-10-07T08:33:40.019976Z"
    }
   },
   "outputs": [],
   "source": [
    "class DirectorySize:\n",
    "    \n",
    "    def __get__(self, obj, owner):\n",
    "        return len(os.listdir(obj.dirname))\n",
    "    \n",
    "class Directory:\n",
    "    size = DirectorySize()\n",
    "    \n",
    "    def __init__(self, dirname):\n",
    "        self.dirname = dirname"
   ]
  },
  {
   "cell_type": "code",
   "execution_count": 54,
   "id": "55568099",
   "metadata": {
    "ExecuteTime": {
     "end_time": "2022-10-07T08:34:08.991918Z",
     "start_time": "2022-10-07T08:34:08.870880Z"
    }
   },
   "outputs": [
    {
     "name": "stdout",
     "output_type": "stream",
     "text": [
      "data\t\t    seminar_10_oops.ipynb\t seminar_5_regexp.ipynb\r\n",
      "img\t\t    seminar_1_intro.ipynb\t seminar_6_decorators.ipynb\r\n",
      "lecture_live.ipynb  seminar_2_strings.ipynb\t seminar_7_dicts.ipynb\r\n",
      "lecture_oop.ipynb   seminar_3_sequences.ipynb\t seminar_8_various.ipynb\r\n",
      "README.md\t    seminar_4_func_basics.ipynb  seminar_9_classes_decos.ipynb\r\n"
     ]
    }
   ],
   "source": [
    "! ls"
   ]
  },
  {
   "cell_type": "code",
   "execution_count": 59,
   "id": "f5ebc517",
   "metadata": {
    "ExecuteTime": {
     "end_time": "2022-10-07T08:35:14.637482Z",
     "start_time": "2022-10-07T08:35:14.630969Z"
    }
   },
   "outputs": [],
   "source": [
    "a = Directory('data')\n",
    "\n",
    "b = Directory('img')"
   ]
  },
  {
   "cell_type": "code",
   "execution_count": 60,
   "id": "7217b283",
   "metadata": {
    "ExecuteTime": {
     "end_time": "2022-10-07T08:35:15.145651Z",
     "start_time": "2022-10-07T08:35:15.135780Z"
    }
   },
   "outputs": [
    {
     "data": {
      "text/plain": [
       "3"
      ]
     },
     "execution_count": 60,
     "metadata": {},
     "output_type": "execute_result"
    }
   ],
   "source": [
    "a.size"
   ]
  },
  {
   "cell_type": "code",
   "execution_count": 64,
   "id": "08e4b45b",
   "metadata": {
    "ExecuteTime": {
     "end_time": "2022-10-07T08:36:20.629557Z",
     "start_time": "2022-10-07T08:36:20.619937Z"
    }
   },
   "outputs": [
    {
     "data": {
      "text/plain": [
       "1"
      ]
     },
     "execution_count": 64,
     "metadata": {},
     "output_type": "execute_result"
    }
   ],
   "source": [
    "b.size"
   ]
  },
  {
   "cell_type": "code",
   "execution_count": 66,
   "id": "8f70d976",
   "metadata": {
    "ExecuteTime": {
     "end_time": "2022-10-07T08:36:56.761671Z",
     "start_time": "2022-10-07T08:36:56.641506Z"
    }
   },
   "outputs": [],
   "source": [
    "! touch data/tempfile"
   ]
  },
  {
   "cell_type": "code",
   "execution_count": 68,
   "id": "49a7d423",
   "metadata": {
    "ExecuteTime": {
     "end_time": "2022-10-07T08:37:21.356889Z",
     "start_time": "2022-10-07T08:37:21.354234Z"
    }
   },
   "outputs": [
    {
     "data": {
      "text/plain": [
       "4"
      ]
     },
     "execution_count": 68,
     "metadata": {},
     "output_type": "execute_result"
    }
   ],
   "source": [
    "a.size"
   ]
  },
  {
   "cell_type": "markdown",
   "id": "738d27b2",
   "metadata": {},
   "source": [
    "Дескриптор вызывается при обращении к атрибуту *size*. При этом, код дескриптора выполняется каждый раз"
   ]
  }
 ],
 "metadata": {
  "kernelspec": {
   "display_name": "Python 3 (ipykernel)",
   "language": "python",
   "name": "python3"
  },
  "language_info": {
   "codemirror_mode": {
    "name": "ipython",
    "version": 3
   },
   "file_extension": ".py",
   "mimetype": "text/x-python",
   "name": "python",
   "nbconvert_exporter": "python",
   "pygments_lexer": "ipython3",
   "version": "3.9.12"
  },
  "toc": {
   "base_numbering": 1,
   "nav_menu": {},
   "number_sections": true,
   "sideBar": true,
   "skip_h1_title": false,
   "title_cell": "Table of Contents",
   "title_sidebar": "Contents",
   "toc_cell": false,
   "toc_position": {},
   "toc_section_display": true,
   "toc_window_display": true
  },
  "varInspector": {
   "cols": {
    "lenName": 16,
    "lenType": 16,
    "lenVar": 40
   },
   "kernels_config": {
    "python": {
     "delete_cmd_postfix": "",
     "delete_cmd_prefix": "del ",
     "library": "var_list.py",
     "varRefreshCmd": "print(var_dic_list())"
    },
    "r": {
     "delete_cmd_postfix": ") ",
     "delete_cmd_prefix": "rm(",
     "library": "var_list.r",
     "varRefreshCmd": "cat(var_dic_list()) "
    }
   },
   "types_to_exclude": [
    "module",
    "function",
    "builtin_function_or_method",
    "instance",
    "_Feature"
   ],
   "window_display": false
  }
 },
 "nbformat": 4,
 "nbformat_minor": 5
}
