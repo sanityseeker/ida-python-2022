{
 "cells": [
  {
   "cell_type": "markdown",
   "id": "b3bb1629-0ad4-4404-9adb-ddceffdd66e8",
   "metadata": {},
   "source": [
    "# Чё вообще происходит #1"
   ]
  },
  {
   "cell_type": "markdown",
   "id": "c9ed1139-d9c5-4a9f-9539-8c0a90ec2fb7",
   "metadata": {},
   "source": [
    "**Вопросы в зал**"
   ]
  },
  {
   "cell_type": "markdown",
   "id": "a7e001d6-0629-49f0-a336-3769a27189a3",
   "metadata": {},
   "source": [
    "- Что такое float? Почему нужно быть внимательным в использовании данного типа данных?\n",
    "- Что вы можете рассказать о строках? Можно ли в Python изменять уже созданные строки?\n",
    "- Что делает оператор is? В чем разница между is и \"==\"?"
   ]
  },
  {
   "cell_type": "markdown",
   "id": "0d3399ba-8494-42ae-af56-c6dbd14b7c2d",
   "metadata": {},
   "source": [
    "**Часть прошлых бонусов**"
   ]
  },
  {
   "cell_type": "markdown",
   "id": "0cc2f58a-a3d8-46ac-ab3d-a4c8ce22e7eb",
   "metadata": {},
   "source": [
    "1. Получите с помощью форматирования строк строку \"foo:foo\""
   ]
  },
  {
   "cell_type": "code",
   "execution_count": 253,
   "id": "8e5a7642-1b05-42f1-a631-005b9c1bbd5a",
   "metadata": {},
   "outputs": [
    {
     "data": {
      "text/plain": [
       "'foo:foo'"
      ]
     },
     "execution_count": 253,
     "metadata": {},
     "output_type": "execute_result"
    }
   ],
   "source": [
    "\"%s:%s\" % (bar, bar)"
   ]
  },
  {
   "cell_type": "code",
   "execution_count": 254,
   "id": "90443bb2-1c0e-4adf-9f43-af547951194e",
   "metadata": {},
   "outputs": [
    {
     "data": {
      "text/plain": [
       "'foo:foo'"
      ]
     },
     "execution_count": 254,
     "metadata": {},
     "output_type": "execute_result"
    }
   ],
   "source": [
    "\"{}:{}\".format(bar, bar)"
   ]
  },
  {
   "cell_type": "code",
   "execution_count": 255,
   "id": "764c659f-5f1b-4b6f-950b-080c34b627cf",
   "metadata": {},
   "outputs": [
    {
     "data": {
      "text/plain": [
       "'foo:foo'"
      ]
     },
     "execution_count": 255,
     "metadata": {},
     "output_type": "execute_result"
    }
   ],
   "source": [
    "\"{0}:{0}\".format(bar)"
   ]
  },
  {
   "cell_type": "code",
   "execution_count": 256,
   "id": "955a1983-e7d6-4cc5-81a5-1d4fa4078d6c",
   "metadata": {},
   "outputs": [
    {
     "data": {
      "text/plain": [
       "'foo:foo'"
      ]
     },
     "execution_count": 256,
     "metadata": {},
     "output_type": "execute_result"
    }
   ],
   "source": [
    "\"{value}:{value}\".format(value=bar)"
   ]
  },
  {
   "cell_type": "code",
   "execution_count": 257,
   "id": "74f3a82b-070e-439e-8e50-4b612daabab3",
   "metadata": {},
   "outputs": [
    {
     "data": {
      "text/plain": [
       "'foo:foo'"
      ]
     },
     "execution_count": 257,
     "metadata": {},
     "output_type": "execute_result"
    }
   ],
   "source": [
    "f'{bar}:{bar}'"
   ]
  },
  {
   "cell_type": "markdown",
   "id": "799d671c-b83e-4a05-8b53-3a9277632695",
   "metadata": {},
   "source": [
    "2. Напишите форматную строку, которая могла бы форматировать число по заданной ширине и целочисленной точности\n",
    "\n",
    "hint: в f-строках возможно вложенное использование {}"
   ]
  },
  {
   "cell_type": "code",
   "execution_count": 249,
   "id": "be40c209-115d-4690-9dbd-d9a3b089362e",
   "metadata": {},
   "outputs": [],
   "source": [
    "width = 10\n",
    "d_prec = 3\n",
    "value = 1337.808"
   ]
  },
  {
   "cell_type": "code",
   "execution_count": 251,
   "id": "01d22063-c71b-401a-997f-fa833f17926e",
   "metadata": {},
   "outputs": [
    {
     "data": {
      "text/plain": [
       "'output:   1.34e+03'"
      ]
     },
     "execution_count": 251,
     "metadata": {},
     "output_type": "execute_result"
    }
   ],
   "source": [
    "f\"output: {value:{width}.{d_prec}}\""
   ]
  },
  {
   "cell_type": "markdown",
   "id": "99d2f5a9-1928-4f8e-94d0-1b713fd41ec4",
   "metadata": {},
   "source": [
    "(*) Какой-нибудь глупый вопрос"
   ]
  },
  {
   "cell_type": "markdown",
   "id": "12f98e2d-878c-468d-9026-d246ed6f9079",
   "metadata": {},
   "source": [
    "```python \n",
    "a = b = c = d = 42\n",
    "``` \n",
    "сколько объектов создалось?"
   ]
  },
  {
   "cell_type": "markdown",
   "id": "cab1f37c-0471-4ee6-b0e5-4125ad5d1742",
   "metadata": {},
   "source": [
    "(*) В прошлый раз мы немного поговорили про память. И упоминали, что память высвобождается, когда количество референсов на ячейку памяти становится нулевым"
   ]
  },
  {
   "cell_type": "code",
   "execution_count": 10,
   "id": "91d455f9-f9cc-41eb-8ca2-c366accd203f",
   "metadata": {},
   "outputs": [
    {
     "data": {
      "text/plain": [
       "[[42, 84], 1337]"
      ]
     },
     "execution_count": 10,
     "metadata": {},
     "output_type": "execute_result"
    }
   ],
   "source": [
    "a = [42, 84]\n",
    "b = [a, 1337]\n",
    "b"
   ]
  },
  {
   "cell_type": "code",
   "execution_count": 11,
   "id": "ff28181a-bd13-4d20-ba2f-b5599b47a7f7",
   "metadata": {},
   "outputs": [
    {
     "data": {
      "text/plain": [
       "[[[...], 1337], 84]"
      ]
     },
     "execution_count": 11,
     "metadata": {},
     "output_type": "execute_result"
    }
   ],
   "source": [
    "a[0] = b\n",
    "a"
   ]
  },
  {
   "cell_type": "markdown",
   "id": "cc2d60ee-432e-49f6-a533-58fc3fe63d34",
   "metadata": {},
   "source": [
    "..."
   ]
  },
  {
   "cell_type": "code",
   "execution_count": 12,
   "id": "9c72e1d2-0399-4017-aa6e-175a151604c5",
   "metadata": {},
   "outputs": [
    {
     "data": {
      "text/plain": [
       "['In',\n",
       " 'Out',\n",
       " '_',\n",
       " '_1',\n",
       " '_10',\n",
       " '_11',\n",
       " '_2',\n",
       " '_3',\n",
       " '_4',\n",
       " '_5',\n",
       " '_6',\n",
       " '_7',\n",
       " '_9',\n",
       " '__',\n",
       " '___',\n",
       " '__builtin__',\n",
       " '__builtins__',\n",
       " '__doc__',\n",
       " '__loader__',\n",
       " '__name__',\n",
       " '__package__',\n",
       " '__spec__',\n",
       " '_dh',\n",
       " '_i',\n",
       " '_i1',\n",
       " '_i10',\n",
       " '_i11',\n",
       " '_i12',\n",
       " '_i2',\n",
       " '_i3',\n",
       " '_i4',\n",
       " '_i5',\n",
       " '_i6',\n",
       " '_i7',\n",
       " '_i8',\n",
       " '_i9',\n",
       " '_ih',\n",
       " '_ii',\n",
       " '_iii',\n",
       " '_oh',\n",
       " 'a',\n",
       " 'b',\n",
       " 'exit',\n",
       " 'get_ipython',\n",
       " 'quit']"
      ]
     },
     "execution_count": 12,
     "metadata": {},
     "output_type": "execute_result"
    }
   ],
   "source": [
    "dir()"
   ]
  },
  {
   "cell_type": "code",
   "execution_count": 13,
   "id": "9c83d8e7-66a0-4e6e-803f-274ee0ecaa4e",
   "metadata": {},
   "outputs": [
    {
     "data": {
      "text/plain": [
       "(140165185830016, 140165185901312)"
      ]
     },
     "execution_count": 13,
     "metadata": {},
     "output_type": "execute_result"
    }
   ],
   "source": [
    "id(a), id(b)"
   ]
  },
  {
   "cell_type": "code",
   "execution_count": 14,
   "id": "89f0f292-4d23-45ca-9582-dc50386e26ef",
   "metadata": {},
   "outputs": [],
   "source": [
    "del a, b"
   ]
  },
  {
   "cell_type": "code",
   "execution_count": 15,
   "id": "2f2d7f26-3bac-4bbb-9067-08293e555143",
   "metadata": {},
   "outputs": [
    {
     "data": {
      "text/plain": [
       "['In',\n",
       " 'Out',\n",
       " '_',\n",
       " '_1',\n",
       " '_10',\n",
       " '_11',\n",
       " '_12',\n",
       " '_13',\n",
       " '_2',\n",
       " '_3',\n",
       " '_4',\n",
       " '_5',\n",
       " '_6',\n",
       " '_7',\n",
       " '_9',\n",
       " '__',\n",
       " '___',\n",
       " '__builtin__',\n",
       " '__builtins__',\n",
       " '__doc__',\n",
       " '__loader__',\n",
       " '__name__',\n",
       " '__package__',\n",
       " '__spec__',\n",
       " '_dh',\n",
       " '_i',\n",
       " '_i1',\n",
       " '_i10',\n",
       " '_i11',\n",
       " '_i12',\n",
       " '_i13',\n",
       " '_i14',\n",
       " '_i15',\n",
       " '_i2',\n",
       " '_i3',\n",
       " '_i4',\n",
       " '_i5',\n",
       " '_i6',\n",
       " '_i7',\n",
       " '_i8',\n",
       " '_i9',\n",
       " '_ih',\n",
       " '_ii',\n",
       " '_iii',\n",
       " '_oh',\n",
       " 'exit',\n",
       " 'get_ipython',\n",
       " 'quit']"
      ]
     },
     "execution_count": 15,
     "metadata": {},
     "output_type": "execute_result"
    }
   ],
   "source": [
    "dir()"
   ]
  },
  {
   "cell_type": "code",
   "execution_count": 16,
   "id": "da6675ba-f0cc-4ff5-8b2c-679dd9f6009c",
   "metadata": {},
   "outputs": [],
   "source": [
    "import _ctypes\n",
    "\n",
    "def get_by_id(obj_id: int):\n",
    "    \"\"\" Inverse of id() function. \"\"\"\n",
    "    return _ctypes.PyObj_FromPtr(obj_id)"
   ]
  },
  {
   "cell_type": "markdown",
   "id": "b2498864-71ca-4163-ae03-8b9b556c606d",
   "metadata": {},
   "source": [
    "# Sequences"
   ]
  },
  {
   "cell_type": "markdown",
   "id": "c4eda83e-1a17-40d7-a8aa-a96fda5ddd19",
   "metadata": {},
   "source": [
    "    \"As you may have noticed, several of the operations mentioned work equally for texts, lists and tables. Texts, lists and tables together are called trains. \n",
    "    […] The FOR command also works generically on trains\""
   ]
  },
  {
   "cell_type": "markdown",
   "id": "25614693-d7f1-4aec-9803-5dcf415d17f6",
   "metadata": {},
   "source": [
    "Мощь Python в том, что для многих схожих классов у нас есть общее множество поддерживаемых операций. Например, strings, lists, byte sequences, arrays и др. поддерживают iteration, slicing, sorting, contactenation и прочие общие операции.\n",
    "\n",
    "Understanding и embracing данного принципа помогает нам не изобретать велосипед, а использовать общий интерфейс, который дает реализуемым классам поддержку уже принятых методов "
   ]
  },
  {
   "cell_type": "markdown",
   "id": "6120322c-ef35-422c-9dc0-a83b108edaa5",
   "metadata": {},
   "source": [
    "Рассмотрим некоторые примеры последовательностей, помимо изученного ранее string"
   ]
  },
  {
   "cell_type": "markdown",
   "id": "db1dd44d-369f-44fe-81cd-235a212a0998",
   "metadata": {},
   "source": [
    "## bytes"
   ]
  },
  {
   "cell_type": "markdown",
   "id": "dd74a635-c2eb-451f-9a15-99ed55c566fa",
   "metadata": {},
   "source": [
    "bytes() method returns a bytes object which is an immutable sequence of integers in the range 0 <=x < 256\n",
    "\n",
    "bytearray -- версия, которую можно модифицировать"
   ]
  },
  {
   "cell_type": "code",
   "execution_count": 289,
   "id": "211a476c-eecb-4113-85d8-4c84629783f0",
   "metadata": {
    "tags": []
   },
   "outputs": [
    {
     "data": {
      "text/plain": [
       "b'Python3 is neat.'"
      ]
     },
     "execution_count": 289,
     "metadata": {},
     "output_type": "execute_result"
    }
   ],
   "source": [
    "sample_string = \"Python3 is neat.\"\n",
    "\n",
    "# string with encoding 'utf-8'\n",
    "arr = bytes(sample_string, 'utf-8')\n",
    "arr"
   ]
  },
  {
   "cell_type": "code",
   "execution_count": 290,
   "id": "0eac096f-7e38-47e1-a79f-d78470076208",
   "metadata": {
    "tags": []
   },
   "outputs": [
    {
     "data": {
      "text/plain": [
       "b'Python3 is neat.'"
      ]
     },
     "execution_count": 290,
     "metadata": {},
     "output_type": "execute_result"
    }
   ],
   "source": [
    "win_arr = bytes(sample_string, 'cp1251')\n",
    "win_arr"
   ]
  },
  {
   "cell_type": "code",
   "execution_count": 291,
   "id": "64ad0e83-a7d7-46fe-8c56-3442a47e9db2",
   "metadata": {
    "tags": []
   },
   "outputs": [
    {
     "data": {
      "text/plain": [
       "'Python3 is neat.'"
      ]
     },
     "execution_count": 291,
     "metadata": {},
     "output_type": "execute_result"
    }
   ],
   "source": [
    "win_arr.decode('cp1251')"
   ]
  },
  {
   "cell_type": "code",
   "execution_count": 292,
   "id": "8c633cb5-9528-403f-8a19-43b14a8030dc",
   "metadata": {},
   "outputs": [
    {
     "data": {
      "text/plain": [
       "'Python3 is neat.'"
      ]
     },
     "execution_count": 292,
     "metadata": {},
     "output_type": "execute_result"
    }
   ],
   "source": [
    "win_arr.decode('utf-8')"
   ]
  },
  {
   "cell_type": "code",
   "execution_count": 293,
   "id": "7c0502ef-fe54-4a68-8d8f-cdce65a17143",
   "metadata": {
    "tags": []
   },
   "outputs": [
    {
     "data": {
      "text/plain": [
       "True"
      ]
     },
     "execution_count": 293,
     "metadata": {},
     "output_type": "execute_result"
    }
   ],
   "source": [
    "win_arr == arr"
   ]
  },
  {
   "cell_type": "code",
   "execution_count": 294,
   "id": "1fe13909-acd2-475c-ac15-a65f5f99fa9d",
   "metadata": {
    "tags": []
   },
   "outputs": [],
   "source": [
    "encoded_string = b'\\xc1\\xe5\\xeb\\xe0\\xff \\xff\\xe1\\xeb\\xfb\\xed\\xff \\xe3\\xf0\\xee\\xec\\xf3'"
   ]
  },
  {
   "cell_type": "code",
   "execution_count": 296,
   "id": "0cdad60d-0053-4c4a-b2f5-33954bbb5981",
   "metadata": {
    "tags": []
   },
   "outputs": [
    {
     "ename": "UnicodeDecodeError",
     "evalue": "'utf-8' codec can't decode byte 0xc1 in position 0: invalid start byte",
     "output_type": "error",
     "traceback": [
      "\u001b[0;31m---------------------------------------------------------------------------\u001b[0m",
      "\u001b[0;31mUnicodeDecodeError\u001b[0m                        Traceback (most recent call last)",
      "Input \u001b[0;32mIn [296]\u001b[0m, in \u001b[0;36m<cell line: 1>\u001b[0;34m()\u001b[0m\n\u001b[0;32m----> 1\u001b[0m \u001b[43mencoded_string\u001b[49m\u001b[38;5;241;43m.\u001b[39;49m\u001b[43mdecode\u001b[49m\u001b[43m(\u001b[49m\u001b[38;5;124;43m'\u001b[39;49m\u001b[38;5;124;43mutf-8\u001b[39;49m\u001b[38;5;124;43m'\u001b[39;49m\u001b[43m)\u001b[49m\n",
      "\u001b[0;31mUnicodeDecodeError\u001b[0m: 'utf-8' codec can't decode byte 0xc1 in position 0: invalid start byte"
     ]
    }
   ],
   "source": [
    "encoded_string.decode('utf-8')"
   ]
  },
  {
   "cell_type": "code",
   "execution_count": 297,
   "id": "b87cf87a-9632-4902-b419-0fbc7a4b485e",
   "metadata": {},
   "outputs": [
    {
     "data": {
      "text/plain": [
       "'Белая яблыня грому'"
      ]
     },
     "execution_count": 297,
     "metadata": {},
     "output_type": "execute_result"
    }
   ],
   "source": [
    "encoded_string.decode('cp1251')"
   ]
  },
  {
   "cell_type": "markdown",
   "id": "3add9acb-ddd2-4bb4-8848-ee82668de51f",
   "metadata": {},
   "source": [
    "## List"
   ]
  },
  {
   "cell_type": "markdown",
   "id": "001af72d-7831-4b54-bd7f-40728c69dcf9",
   "metadata": {},
   "source": [
    "Most fundamental sequence, mutable and mixed-type"
   ]
  },
  {
   "cell_type": "code",
   "execution_count": 324,
   "id": "56851000-5cd5-4861-80aa-7774ca1b03a3",
   "metadata": {
    "tags": []
   },
   "outputs": [],
   "source": [
    "a = [1, 2, 3]\n",
    "b = ['1', [2], 3, 4.]"
   ]
  },
  {
   "cell_type": "markdown",
   "id": "199c09cd-0ca2-429b-981d-96f59be8a57f",
   "metadata": {},
   "source": [
    "### Базовые операции"
   ]
  },
  {
   "cell_type": "code",
   "execution_count": 299,
   "id": "8bdbc9c9-b5e7-43bd-a337-a124ee1b122f",
   "metadata": {
    "tags": []
   },
   "outputs": [
    {
     "data": {
      "text/plain": [
       "[1, 2, 3, '1', [2], 3, 4.0]"
      ]
     },
     "execution_count": 299,
     "metadata": {},
     "output_type": "execute_result"
    }
   ],
   "source": [
    "a + b"
   ]
  },
  {
   "cell_type": "code",
   "execution_count": 300,
   "id": "ac272a43-7c69-4ec5-9f31-7562e0dc41e5",
   "metadata": {
    "tags": []
   },
   "outputs": [
    {
     "data": {
      "text/plain": [
       "[1, 2, 3, 1, 2, 3, 1, 2, 3]"
      ]
     },
     "execution_count": 300,
     "metadata": {},
     "output_type": "execute_result"
    }
   ],
   "source": [
    "a * 3"
   ]
  },
  {
   "cell_type": "code",
   "execution_count": 308,
   "id": "02381b7d-8c79-44f7-a619-d9757baafedd",
   "metadata": {},
   "outputs": [],
   "source": [
    "a = [1]"
   ]
  },
  {
   "cell_type": "code",
   "execution_count": 309,
   "id": "3ba08151-d09d-410d-a006-67fb8cbed7bb",
   "metadata": {},
   "outputs": [],
   "source": [
    "a *= 3"
   ]
  },
  {
   "cell_type": "code",
   "execution_count": 310,
   "id": "2908bd95-1362-4748-a0ed-f19dc8e81691",
   "metadata": {},
   "outputs": [
    {
     "name": "stdout",
     "output_type": "stream",
     "text": [
      "139829997885744\n",
      "139829997885744\n",
      "139829997885744\n"
     ]
    }
   ],
   "source": [
    "for elem in a:\n",
    "    print(id(elem))"
   ]
  },
  {
   "cell_type": "code",
   "execution_count": 314,
   "id": "b7009953-e7e7-4964-83d3-acc8debbc56b",
   "metadata": {},
   "outputs": [],
   "source": [
    "a[0] = 1337"
   ]
  },
  {
   "cell_type": "code",
   "execution_count": 316,
   "id": "708deb2a-1232-4c4b-9ef6-163c087ea7fd",
   "metadata": {},
   "outputs": [],
   "source": [
    "a = [[1]]"
   ]
  },
  {
   "cell_type": "code",
   "execution_count": 317,
   "id": "360128a8-f0ea-4047-b5f5-af8918893ac5",
   "metadata": {},
   "outputs": [
    {
     "data": {
      "text/plain": [
       "[[1], [1], [1]]"
      ]
     },
     "execution_count": 317,
     "metadata": {},
     "output_type": "execute_result"
    }
   ],
   "source": [
    "a *= 3\n",
    "a"
   ]
  },
  {
   "cell_type": "code",
   "execution_count": 318,
   "id": "08296f6e-d814-4b75-b531-cc665d557ec7",
   "metadata": {},
   "outputs": [
    {
     "name": "stdout",
     "output_type": "stream",
     "text": [
      "139826922044928\n",
      "139826922044928\n",
      "139826922044928\n"
     ]
    }
   ],
   "source": [
    "for elem in a:\n",
    "    print(id(elem))"
   ]
  },
  {
   "cell_type": "code",
   "execution_count": 320,
   "id": "018fb324-925b-4314-ad75-1539553ef850",
   "metadata": {},
   "outputs": [],
   "source": [
    "a[0].append(2)"
   ]
  },
  {
   "cell_type": "code",
   "execution_count": 322,
   "id": "3b2c04fb-07ba-4882-91ae-bc779d971f65",
   "metadata": {},
   "outputs": [
    {
     "data": {
      "text/plain": [
       "[[1, 2], [1, 2], [1, 2]]"
      ]
     },
     "execution_count": 322,
     "metadata": {},
     "output_type": "execute_result"
    }
   ],
   "source": [
    "a"
   ]
  },
  {
   "cell_type": "markdown",
   "id": "17dbd3d5-02e4-4c3b-bb17-40c9529caabc",
   "metadata": {},
   "source": [
    "`Слайсы!`"
   ]
  },
  {
   "cell_type": "code",
   "execution_count": 323,
   "id": "6ae5aa57-0197-430b-885a-fc7d4b56ac7e",
   "metadata": {
    "tags": []
   },
   "outputs": [
    {
     "data": {
      "text/plain": [
       "[4.0, 3, [2], '1']"
      ]
     },
     "execution_count": 323,
     "metadata": {},
     "output_type": "execute_result"
    }
   ],
   "source": [
    "b[::-1]"
   ]
  },
  {
   "cell_type": "markdown",
   "id": "9db366a9-9b07-47ed-a410-31c17dd6e652",
   "metadata": {},
   "source": [
    "Поддержка операций `in (not in), min, max, index (поиск), count`"
   ]
  },
  {
   "cell_type": "code",
   "execution_count": 327,
   "id": "b6d89753-142f-4a83-8432-f8d79842bef6",
   "metadata": {},
   "outputs": [],
   "source": [
    "a = [1, 2, 3]\n",
    "b = ['1', [2], 3, 4.]"
   ]
  },
  {
   "cell_type": "code",
   "execution_count": 328,
   "id": "166bf0db-7697-4077-81a2-eb797bc31309",
   "metadata": {
    "tags": []
   },
   "outputs": [
    {
     "data": {
      "text/plain": [
       "True"
      ]
     },
     "execution_count": 328,
     "metadata": {},
     "output_type": "execute_result"
    }
   ],
   "source": [
    "'1' not in a"
   ]
  },
  {
   "cell_type": "code",
   "execution_count": 329,
   "id": "dbf14a4e-038d-4900-9bac-7d61994cc4ca",
   "metadata": {
    "tags": []
   },
   "outputs": [
    {
     "data": {
      "text/plain": [
       "True"
      ]
     },
     "execution_count": 329,
     "metadata": {},
     "output_type": "execute_result"
    }
   ],
   "source": [
    "'1' in a + b"
   ]
  },
  {
   "cell_type": "markdown",
   "id": "cace2f89-86b7-4c22-b6e3-b0982d6c1db8",
   "metadata": {},
   "source": [
    "Для коллекций, содержащих разные типы, нужно явно определить компаратор"
   ]
  },
  {
   "cell_type": "code",
   "execution_count": 330,
   "id": "9c71d8b0-d8fc-4e4f-809f-a839da066d23",
   "metadata": {
    "tags": []
   },
   "outputs": [
    {
     "data": {
      "text/plain": [
       "(1, 3)"
      ]
     },
     "execution_count": 330,
     "metadata": {},
     "output_type": "execute_result"
    }
   ],
   "source": [
    "min(a), max(a)"
   ]
  },
  {
   "cell_type": "code",
   "execution_count": 338,
   "id": "2e3b5ba4-6cbf-484c-a5e6-479a5b8639d7",
   "metadata": {
    "tags": []
   },
   "outputs": [
    {
     "data": {
      "text/plain": [
       "(2, 0)"
      ]
     },
     "execution_count": 338,
     "metadata": {},
     "output_type": "execute_result"
    }
   ],
   "source": [
    "a.index(3), a.index(1)"
   ]
  },
  {
   "cell_type": "code",
   "execution_count": 339,
   "id": "8d7066f2-e87e-4b7e-96c8-82c9125fc41e",
   "metadata": {
    "tags": []
   },
   "outputs": [
    {
     "data": {
      "text/plain": [
       "(1, 0)"
      ]
     },
     "execution_count": 339,
     "metadata": {},
     "output_type": "execute_result"
    }
   ],
   "source": [
    "a.count(1), a.count(4)"
   ]
  },
  {
   "cell_type": "markdown",
   "id": "d3e9fe1b-88d6-423f-b031-67966dda6b7a",
   "metadata": {},
   "source": [
    "И, конечно же, уже знакомые нам"
   ]
  },
  {
   "cell_type": "code",
   "execution_count": 340,
   "id": "918ae989-f288-4048-9d82-b82de5f77280",
   "metadata": {
    "tags": []
   },
   "outputs": [
    {
     "data": {
      "text/plain": [
       "(3, 4)"
      ]
     },
     "execution_count": 340,
     "metadata": {},
     "output_type": "execute_result"
    }
   ],
   "source": [
    "len(a), len(b)"
   ]
  },
  {
   "cell_type": "code",
   "execution_count": 341,
   "id": "a93413bf-37db-48de-9d84-d850594f7db0",
   "metadata": {
    "tags": []
   },
   "outputs": [
    {
     "data": {
      "text/plain": [
       "('[1, 2, 3]', '[1, 2, 3]')"
      ]
     },
     "execution_count": 341,
     "metadata": {},
     "output_type": "execute_result"
    }
   ],
   "source": [
    "repr(a), a.__repr__()"
   ]
  },
  {
   "cell_type": "code",
   "execution_count": 342,
   "id": "d291106b-18e8-465a-94ac-6e8806d3e4b2",
   "metadata": {
    "tags": []
   },
   "outputs": [
    {
     "data": {
      "text/plain": [
       "('[1, 2, 3]', '[1, 2, 3]')"
      ]
     },
     "execution_count": 342,
     "metadata": {},
     "output_type": "execute_result"
    }
   ],
   "source": [
    "str(a), a.__str__()"
   ]
  },
  {
   "cell_type": "markdown",
   "id": "103df298-e022-4962-9e73-63787c4f5af4",
   "metadata": {},
   "source": [
    "**Inplace** изменения в список"
   ]
  },
  {
   "cell_type": "code",
   "execution_count": 348,
   "id": "01b2e371-2382-448f-8993-0d70e8ce6c15",
   "metadata": {
    "tags": []
   },
   "outputs": [
    {
     "data": {
      "text/plain": [
       "[1, 2, 3, 1, 2, 3, 1, 2, 3, 10, 11, 4]"
      ]
     },
     "execution_count": 348,
     "metadata": {},
     "output_type": "execute_result"
    }
   ],
   "source": [
    "a.append(4)\n",
    "a"
   ]
  },
  {
   "cell_type": "code",
   "execution_count": 344,
   "id": "d6d22048-4bae-4126-9602-095c705983f3",
   "metadata": {
    "tags": []
   },
   "outputs": [
    {
     "data": {
      "text/plain": [
       "[1, 2, 3, 4, '1', [2], 3, 4.0]"
      ]
     },
     "execution_count": 344,
     "metadata": {},
     "output_type": "execute_result"
    }
   ],
   "source": [
    "a.extend(b)\n",
    "a"
   ]
  },
  {
   "cell_type": "code",
   "execution_count": 345,
   "id": "865192ce-af08-4f66-a2a1-1c4578037dae",
   "metadata": {
    "tags": []
   },
   "outputs": [
    {
     "data": {
      "text/plain": [
       "[1, 2, 4, '1', [2], 3, 4.0]"
      ]
     },
     "execution_count": 345,
     "metadata": {},
     "output_type": "execute_result"
    }
   ],
   "source": [
    "a.remove(3)\n",
    "a"
   ]
  },
  {
   "cell_type": "code",
   "execution_count": 346,
   "id": "8773b2d8-76b1-423b-8bd5-40922a1cc204",
   "metadata": {
    "tags": []
   },
   "outputs": [
    {
     "data": {
      "text/plain": [
       "[100, 2, 4, '1', [2], 3, 4.0]"
      ]
     },
     "execution_count": 346,
     "metadata": {},
     "output_type": "execute_result"
    }
   ],
   "source": [
    "a[0] = 100\n",
    "a"
   ]
  },
  {
   "cell_type": "markdown",
   "id": "e7185bb7-8684-42e4-8f72-254d219b139e",
   "metadata": {},
   "source": [
    "**+=, *=**"
   ]
  },
  {
   "cell_type": "code",
   "execution_count": 347,
   "id": "51f12f59-3c79-4f2e-8d08-25334e2a976a",
   "metadata": {
    "tags": []
   },
   "outputs": [
    {
     "name": "stdout",
     "output_type": "stream",
     "text": [
      "139826918780096\n",
      "139826918780096\n",
      "139826918780096\n"
     ]
    }
   ],
   "source": [
    "a = [1, 2, 3]\n",
    "print(id(a))\n",
    "\n",
    "a *= 3\n",
    "print(id(a))\n",
    "\n",
    "a += [10, 11]\n",
    "print(id(a))"
   ]
  },
  {
   "cell_type": "code",
   "execution_count": 349,
   "id": "80b404ef-53f4-44b2-9569-e162486dddf9",
   "metadata": {},
   "outputs": [
    {
     "name": "stdout",
     "output_type": "stream",
     "text": [
      "id before extend 139826923268352\n",
      "id after extend 139826923268352\n"
     ]
    },
    {
     "data": {
      "text/plain": [
       "[5, 6, 7, 1, 2]"
      ]
     },
     "execution_count": 349,
     "metadata": {},
     "output_type": "execute_result"
    }
   ],
   "source": [
    "a = [5, 6, 7]\n",
    "b = [1, 2]\n",
    "\n",
    "print('id before extend', id(a))\n",
    "a.extend(b)\n",
    "print('id after extend', id(a))\n",
    "a"
   ]
  },
  {
   "cell_type": "code",
   "execution_count": 350,
   "id": "001c364c-0879-4475-bb2f-641ddafdc81b",
   "metadata": {},
   "outputs": [
    {
     "name": "stdout",
     "output_type": "stream",
     "text": [
      "id before extend 139826923345984\n",
      "id after extend 139826923345984\n"
     ]
    },
    {
     "data": {
      "text/plain": [
       "[5, 6, 7, 1, 2]"
      ]
     },
     "execution_count": 350,
     "metadata": {},
     "output_type": "execute_result"
    }
   ],
   "source": [
    "a = [5, 6, 7]\n",
    "b = [1, 2]\n",
    "\n",
    "print('id before extend', id(a))\n",
    "a += b\n",
    "print('id after extend', id(a))\n",
    "a"
   ]
  },
  {
   "cell_type": "markdown",
   "id": "d85aa5a8-0bc6-4f0e-afb3-adbb42acc409",
   "metadata": {},
   "source": [
    "`При использовании inplace операции над изменяемым обектом, адрес не меняется, это все тот же объект`"
   ]
  },
  {
   "cell_type": "markdown",
   "id": "691b8789-1516-43a5-b669-691e484207cb",
   "metadata": {},
   "source": [
    "### (*) Вообще все эти \"операции\" -- это просто синтаксический сахар.."
   ]
  },
  {
   "cell_type": "code",
   "execution_count": 272,
   "id": "d39ce299",
   "metadata": {
    "ExecuteTime": {
     "end_time": "2022-10-05T13:05:02.586252Z",
     "start_time": "2022-10-05T13:05:02.578610Z"
    }
   },
   "outputs": [
    {
     "data": {
      "text/plain": [
       "9"
      ]
     },
     "execution_count": 272,
     "metadata": {},
     "output_type": "execute_result"
    }
   ],
   "source": [
    "4 + 5"
   ]
  },
  {
   "cell_type": "code",
   "execution_count": 273,
   "id": "15050347",
   "metadata": {
    "ExecuteTime": {
     "end_time": "2022-10-05T13:05:10.849122Z",
     "start_time": "2022-10-05T13:05:10.843891Z"
    }
   },
   "outputs": [
    {
     "data": {
      "text/plain": [
       "9"
      ]
     },
     "execution_count": 273,
     "metadata": {},
     "output_type": "execute_result"
    }
   ],
   "source": [
    "(4).__add__(5)"
   ]
  },
  {
   "cell_type": "code",
   "execution_count": 278,
   "id": "a7ec864e",
   "metadata": {
    "ExecuteTime": {
     "end_time": "2022-10-05T13:06:03.194070Z",
     "start_time": "2022-10-05T13:06:03.188957Z"
    }
   },
   "outputs": [
    {
     "data": {
      "text/plain": [
       "[1, 2, 3, 1, 2, 3, 1, 2, 3, 1, 2, 3]"
      ]
     },
     "execution_count": 278,
     "metadata": {},
     "output_type": "execute_result"
    }
   ],
   "source": [
    "[1, 2, 3] * 4"
   ]
  },
  {
   "cell_type": "code",
   "execution_count": 279,
   "id": "e77e1341",
   "metadata": {
    "ExecuteTime": {
     "end_time": "2022-10-05T13:06:15.010226Z",
     "start_time": "2022-10-05T13:06:15.004977Z"
    }
   },
   "outputs": [
    {
     "data": {
      "text/plain": [
       "[1, 2, 3, 1, 2, 3, 1, 2, 3, 1, 2, 3]"
      ]
     },
     "execution_count": 279,
     "metadata": {},
     "output_type": "execute_result"
    }
   ],
   "source": [
    "[1, 2, 3].__mul__(4)"
   ]
  },
  {
   "cell_type": "code",
   "execution_count": 280,
   "id": "166c7e82",
   "metadata": {
    "ExecuteTime": {
     "end_time": "2022-10-05T13:06:21.877265Z",
     "start_time": "2022-10-05T13:06:21.871625Z"
    }
   },
   "outputs": [
    {
     "data": {
      "text/plain": [
       "[1, 2, 3, 1, 2, 3, 1, 2, 3, 1, 2, 3]"
      ]
     },
     "execution_count": 280,
     "metadata": {},
     "output_type": "execute_result"
    }
   ],
   "source": [
    "4 * [1, 2, 3]"
   ]
  },
  {
   "cell_type": "code",
   "execution_count": 281,
   "id": "8cb3026c",
   "metadata": {
    "ExecuteTime": {
     "end_time": "2022-10-05T13:06:33.176174Z",
     "start_time": "2022-10-05T13:06:33.167699Z"
    }
   },
   "outputs": [
    {
     "data": {
      "text/plain": [
       "NotImplemented"
      ]
     },
     "execution_count": 281,
     "metadata": {},
     "output_type": "execute_result"
    }
   ],
   "source": [
    "(4).__mul__([1, 2, 3])"
   ]
  },
  {
   "cell_type": "code",
   "execution_count": 282,
   "id": "7c50f0be",
   "metadata": {
    "ExecuteTime": {
     "end_time": "2022-10-05T13:07:38.347730Z",
     "start_time": "2022-10-05T13:07:38.342107Z"
    }
   },
   "outputs": [
    {
     "data": {
      "text/plain": [
       "[1, 2, 3, 1, 2, 3, 1, 2, 3, 1, 2, 3]"
      ]
     },
     "execution_count": 282,
     "metadata": {},
     "output_type": "execute_result"
    }
   ],
   "source": [
    "[1, 2, 3].__rmul__(4)"
   ]
  },
  {
   "cell_type": "code",
   "execution_count": 286,
   "id": "0e66ad7d",
   "metadata": {
    "ExecuteTime": {
     "end_time": "2022-10-05T13:09:04.221194Z",
     "start_time": "2022-10-05T13:09:04.215857Z"
    }
   },
   "outputs": [
    {
     "data": {
      "text/plain": [
       "1"
      ]
     },
     "execution_count": 286,
     "metadata": {},
     "output_type": "execute_result"
    }
   ],
   "source": [
    "a = [1, 2, 3, 4]\n",
    "a[0]"
   ]
  },
  {
   "cell_type": "code",
   "execution_count": 287,
   "id": "05d7d3f1",
   "metadata": {
    "ExecuteTime": {
     "end_time": "2022-10-05T13:09:11.645145Z",
     "start_time": "2022-10-05T13:09:11.636947Z"
    }
   },
   "outputs": [
    {
     "data": {
      "text/plain": [
       "1"
      ]
     },
     "execution_count": 287,
     "metadata": {},
     "output_type": "execute_result"
    }
   ],
   "source": [
    "a.__getitem__(0)"
   ]
  },
  {
   "cell_type": "code",
   "execution_count": 288,
   "id": "c1c8d483",
   "metadata": {
    "ExecuteTime": {
     "end_time": "2022-10-05T13:09:19.745374Z",
     "start_time": "2022-10-05T13:09:19.736836Z"
    }
   },
   "outputs": [
    {
     "data": {
      "text/plain": [
       "[2, 3]"
      ]
     },
     "execution_count": 288,
     "metadata": {},
     "output_type": "execute_result"
    }
   ],
   "source": [
    "a[1:3]"
   ]
  },
  {
   "cell_type": "code",
   "execution_count": 290,
   "id": "a39245d0",
   "metadata": {
    "ExecuteTime": {
     "end_time": "2022-10-05T13:09:58.489251Z",
     "start_time": "2022-10-05T13:09:58.483714Z"
    }
   },
   "outputs": [
    {
     "data": {
      "text/plain": [
       "[2, 3]"
      ]
     },
     "execution_count": 290,
     "metadata": {},
     "output_type": "execute_result"
    }
   ],
   "source": [
    "a.__getitem__(slice(1, 3))"
   ]
  },
  {
   "cell_type": "code",
   "execution_count": null,
   "id": "bc4efe65",
   "metadata": {},
   "outputs": [],
   "source": []
  },
  {
   "cell_type": "markdown",
   "id": "a91f66bb-7a28-4ade-a311-6d9de8bb525a",
   "metadata": {},
   "source": [
    "### Iterating"
   ]
  },
  {
   "cell_type": "code",
   "execution_count": 27,
   "id": "25231680-5481-434d-87a3-6d6b3ee3b111",
   "metadata": {
    "tags": []
   },
   "outputs": [
    {
     "name": "stdout",
     "output_type": "stream",
     "text": [
      "1\n",
      "2\n",
      "42\n",
      "(123,)\n"
     ]
    }
   ],
   "source": [
    "for element in [1, 2, 42, (123,)]:\n",
    "    print(element)"
   ]
  },
  {
   "cell_type": "code",
   "execution_count": 28,
   "id": "463d088f-60d9-4300-82d4-b55b7e539f71",
   "metadata": {},
   "outputs": [
    {
     "name": "stdout",
     "output_type": "stream",
     "text": [
      "met 42\n"
     ]
    }
   ],
   "source": [
    "for element in [1, 2, 42, (123,)]:\n",
    "    if element == 42:\n",
    "        print('met 42')\n",
    "        break\n",
    "else:          \n",
    "    print(element)"
   ]
  },
  {
   "cell_type": "markdown",
   "id": "1b6067ce-47f7-44ba-93e2-9dc85a930928",
   "metadata": {},
   "source": [
    "Можно итерироваться по нескольким сразу"
   ]
  },
  {
   "cell_type": "code",
   "execution_count": 352,
   "id": "5cd1adfd-36bd-4d67-8daa-b2690d26ee02",
   "metadata": {
    "tags": []
   },
   "outputs": [
    {
     "name": "stdout",
     "output_type": "stream",
     "text": [
      "1 10\n",
      "2 20\n",
      "3 30\n"
     ]
    }
   ],
   "source": [
    "c = [1, 2, 3]\n",
    "d = [10, 20, 30, 40]\n",
    "\n",
    "for val_one, val_two in zip(c, d):\n",
    "    print(val_one, val_two)"
   ]
  },
  {
   "cell_type": "markdown",
   "id": "2e7612a9-43f7-4615-b1b8-56290724cc71",
   "metadata": {},
   "source": [
    "По значению и индексу"
   ]
  },
  {
   "cell_type": "code",
   "execution_count": 353,
   "id": "24a01b10-c3c8-46ce-ab47-644cb5e9050b",
   "metadata": {
    "tags": []
   },
   "outputs": [
    {
     "name": "stdout",
     "output_type": "stream",
     "text": [
      "0 1\n",
      "1 2\n"
     ]
    }
   ],
   "source": [
    "for index, elem in enumerate(b, start=0):\n",
    "    print(index, elem)"
   ]
  },
  {
   "cell_type": "markdown",
   "id": "4ec5a71c-aeaa-4b49-919c-faffe2ad55ec",
   "metadata": {},
   "source": [
    "Разберем простой пример. Если у нас есть два списка, один -- с цветами, второй -- с размерами. Как можно вывести на экран все комбинации?"
   ]
  },
  {
   "cell_type": "code",
   "execution_count": 355,
   "id": "96473a10-ceef-4236-b9a7-b7bfae8bc151",
   "metadata": {
    "tags": []
   },
   "outputs": [
    {
     "name": "stdout",
     "output_type": "stream",
     "text": [
      "S black\n",
      "M black\n",
      "L black\n",
      "S white\n",
      "M white\n",
      "L white\n"
     ]
    }
   ],
   "source": [
    "colors = ['black', 'white'] \n",
    "sizes = ['S', 'M', 'L']\n",
    "\n",
    "# your code\n",
    "\n",
    "for color in colors:\n",
    "    for size in sizes:\n",
    "        print(size, color)"
   ]
  },
  {
   "cell_type": "markdown",
   "id": "1bc92f77-4254-47c3-8275-cfc2bcc43328",
   "metadata": {},
   "source": [
    "### Сортировка"
   ]
  },
  {
   "cell_type": "code",
   "execution_count": 358,
   "id": "5bff5b34-2e02-449a-a3fe-f350a63850f8",
   "metadata": {
    "tags": []
   },
   "outputs": [],
   "source": [
    "a = [1, 2, 5, 4, 10, -5]\n",
    "a.sort()"
   ]
  },
  {
   "cell_type": "code",
   "execution_count": 359,
   "id": "41671280-4f0e-4c91-99f3-03cb8421ca7d",
   "metadata": {
    "tags": []
   },
   "outputs": [
    {
     "data": {
      "text/plain": [
       "[-5, 1, 2, 4, 5, 10]"
      ]
     },
     "execution_count": 359,
     "metadata": {},
     "output_type": "execute_result"
    }
   ],
   "source": [
    "sorted(a)"
   ]
  },
  {
   "cell_type": "code",
   "execution_count": 361,
   "id": "97741d13-b033-49fe-92ee-5207ad027cc1",
   "metadata": {},
   "outputs": [
    {
     "data": {
      "text/plain": [
       "['3', 'a', 'seminar']"
      ]
     },
     "execution_count": 361,
     "metadata": {},
     "output_type": "execute_result"
    }
   ],
   "source": [
    "str_a = ['3', 'a', 'seminar']\n",
    "sorted(str_a)"
   ]
  },
  {
   "cell_type": "markdown",
   "id": "00de86d3-49be-4497-b43a-ec90ef532f19",
   "metadata": {},
   "source": [
    "### Со строками"
   ]
  },
  {
   "cell_type": "code",
   "execution_count": 372,
   "id": "329210e0-22c8-42e9-a93d-a37c24a2e08f",
   "metadata": {},
   "outputs": [
    {
     "data": {
      "text/plain": [
       "['i', 'am', 'Denis']"
      ]
     },
     "execution_count": 372,
     "metadata": {},
     "output_type": "execute_result"
    }
   ],
   "source": [
    "'i am Denis'.split()"
   ]
  },
  {
   "cell_type": "code",
   "execution_count": 376,
   "id": "90d1a339-2296-485e-a0f2-99be37d3ced3",
   "metadata": {},
   "outputs": [
    {
     "data": {
      "text/plain": [
       "'i|am|Denis'"
      ]
     },
     "execution_count": 376,
     "metadata": {},
     "output_type": "execute_result"
    }
   ],
   "source": [
    "'|'.join(['i', 'am', 'Denis'])"
   ]
  },
  {
   "cell_type": "markdown",
   "id": "b63f03aa-3fcb-4930-bf82-f40560297b0f",
   "metadata": {},
   "source": [
    "### Внутреннее устройство"
   ]
  },
  {
   "cell_type": "markdown",
   "id": "898286f4-5f94-4933-9b59-f16435f6b181",
   "metadata": {},
   "source": [
    "https://pythontutor.com/ -- наглядная визуализация происходящего в Python"
   ]
  },
  {
   "cell_type": "markdown",
   "id": "057cba4f-6377-49db-b125-e4a204363dfc",
   "metadata": {},
   "source": [
    "Как ни странно, список в Python -- это на самом деле массив :/\n",
    "\n",
    "То есть, внутри список предаставляется как непрерывный кусок памяти, каждый элемент -- это указатель на объект."
   ]
  },
  {
   "cell_type": "markdown",
   "id": "1f605016-59ac-4166-a658-8d79cb7eb6fa",
   "metadata": {},
   "source": [
    "![array](https://media.geeksforgeeks.org/wp-content/uploads/array-2.png)"
   ]
  },
  {
   "cell_type": "markdown",
   "id": "a9d74c82-e05f-4dd9-a3c5-8a3afebe09d6",
   "metadata": {},
   "source": [
    "    The implementation uses a contiguous array of references to other objects, and keeps a pointer to this array and the array’s length in a list head structure.\n",
    "    \n",
    "    When items are appended or inserted, the array of references is resized. Some cleverness is applied to improve the performance of appending items repeatedly; when the array must be grown, some extra space is allocated so the next few times don’t require an actual resize. (Python docs)"
   ]
  },
  {
   "cell_type": "markdown",
   "id": "0037551e-7d70-4283-b895-2cecece55bf2",
   "metadata": {},
   "source": [
    "**Что это дает на практике?**\n",
    "\n",
    "Важно понимать сложность базовых операций с нашей структурой данных. И в зависимости от этого подбирать правильную структуру данных под определенную задачу."
   ]
  },
  {
   "cell_type": "markdown",
   "id": "f6daf194-5679-478c-af15-7e793dccf0d5",
   "metadata": {},
   "source": [
    "Recap:\n",
    "![o](https://wikimedia.org/api/rest_v1/media/math/render/svg/e45ededce98fd7f1d8866cff71d6311e6510e850), если $\\exists M, x_0$:\n",
    "![o_cond](https://wikimedia.org/api/rest_v1/media/math/render/svg/8248f95babb0ee9002984ae877f30dae8d710025)"
   ]
  },
  {
   "cell_type": "markdown",
   "id": "a6325ff6-b589-4727-8bb6-5b2b30ecc10c",
   "metadata": {},
   "source": [
    "Так, основное для list:\n",
    "\n",
    "- Доступ по индексу -- O(1)\n",
    "- Дописывание в конец / удаление с конца -- в среднем O(1)\n",
    "- Вставка / удаление в произвольном месте -- O(n)\n",
    "- min, max -- O(n)\n",
    "\n",
    "O(1) означает выполнение за контантное время, O(n) -- время выполнения зависит от длины массива"
   ]
  },
  {
   "cell_type": "markdown",
   "id": "2f7eed07-7a3e-43a3-9295-2b8105968bf9",
   "metadata": {},
   "source": [
    "### List Comprehensions"
   ]
  },
  {
   "cell_type": "markdown",
   "id": "878b19c8-e0bc-4634-b294-e6c0212d24ff",
   "metadata": {},
   "source": [
    "**Example**"
   ]
  },
  {
   "cell_type": "code",
   "execution_count": 362,
   "id": "a403dc1f-3984-4979-85f0-df777b38592b",
   "metadata": {
    "tags": []
   },
   "outputs": [],
   "source": [
    "symbols = '$¢£¥€¤'"
   ]
  },
  {
   "cell_type": "code",
   "execution_count": 364,
   "id": "5138ff9a-3f7f-4e95-867c-12a87ba64092",
   "metadata": {
    "tags": []
   },
   "outputs": [
    {
     "data": {
      "text/plain": [
       "[36, 162, 163, 165, 8364, 164]"
      ]
     },
     "execution_count": 364,
     "metadata": {},
     "output_type": "execute_result"
    }
   ],
   "source": [
    "codes = []\n",
    "for s in symbols:\n",
    "    codes.append(ord(s))\n",
    "\n",
    "codes"
   ]
  },
  {
   "cell_type": "code",
   "execution_count": 366,
   "id": "9cbf7dbb-7763-46ad-83f7-8a6b894a7e7d",
   "metadata": {
    "tags": []
   },
   "outputs": [
    {
     "data": {
      "text/plain": [
       "[36, 162, 163, 165, 8364, 164]"
      ]
     },
     "execution_count": 366,
     "metadata": {},
     "output_type": "execute_result"
    }
   ],
   "source": [
    "codes = [ord(s) for s in symbols]\n",
    "\n",
    "codes"
   ]
  },
  {
   "cell_type": "markdown",
   "id": "bac0cbf5-eb2a-49dc-8a57-3414e8cb1f80",
   "metadata": {},
   "source": [
    "Поддерживают условия, а также могут быть вложенными"
   ]
  },
  {
   "cell_type": "code",
   "execution_count": 368,
   "id": "5fa6f244-b73d-4c41-b47b-2b73ce2ce1ed",
   "metadata": {
    "tags": []
   },
   "outputs": [
    {
     "data": {
      "text/plain": [
       "[8364]"
      ]
     },
     "execution_count": 368,
     "metadata": {},
     "output_type": "execute_result"
    }
   ],
   "source": [
    "[ord(s) for s in symbols if ord(s) > 200]"
   ]
  },
  {
   "cell_type": "code",
   "execution_count": 370,
   "id": "3fbdaa62-f22e-464a-b44e-63a15454d197",
   "metadata": {
    "tags": []
   },
   "outputs": [
    {
     "data": {
      "text/plain": [
       "[-1, -1, -1, -1, 8364, -1]"
      ]
     },
     "execution_count": 370,
     "metadata": {},
     "output_type": "execute_result"
    }
   ],
   "source": [
    "[ord(s) if ord(s) > 200 else -1 for s in symbols]"
   ]
  },
  {
   "cell_type": "markdown",
   "id": "55806eb3-8d17-4523-90ab-daaecee82945",
   "metadata": {},
   "source": [
    "**Listcomp для убирания вложенности в списке**"
   ]
  },
  {
   "cell_type": "code",
   "execution_count": 377,
   "id": "5ffb98ba-2d3e-461d-b24b-a158e4d02632",
   "metadata": {
    "tags": []
   },
   "outputs": [],
   "source": [
    "a = [[1, 2], [3, 4], [5, 6], [7, 8]]\n",
    "\n",
    "b = [item for inner_list in a for item in inner_list]\n",
    "\n",
    "flattened_a = []\n",
    "for inner_list in a:\n",
    "    for item in inner_list:\n",
    "        flattened_a.append(item)\n",
    "\n",
    "assert b == [1, 2, 3, 4, 5, 6, 7, 8] \n",
    "assert flattened_a == [1, 2, 3, 4, 5, 6, 7, 8] "
   ]
  },
  {
   "cell_type": "code",
   "execution_count": 380,
   "id": "40bf77c7-5569-455b-8a8e-c2b0ce9f8329",
   "metadata": {},
   "outputs": [
    {
     "data": {
      "text/plain": [
       "([1, 2, 3, 4, 5, 6, 7, 8],\n",
       " [[1, 2], [3, 4], [5, 6], [7, 8]],\n",
       " [1, 2, 3, 4, 5, 6, 7, 8])"
      ]
     },
     "execution_count": 380,
     "metadata": {},
     "output_type": "execute_result"
    }
   ],
   "source": [
    "flattened_a, a, b"
   ]
  },
  {
   "cell_type": "markdown",
   "id": "0c3db859-f220-4c35-b81a-5abb07f4d75b",
   "metadata": {},
   "source": [
    "**Вспомним наш пример с размерами одежды**. Как можно сгенерировать список из всевозможных пар?"
   ]
  },
  {
   "cell_type": "code",
   "execution_count": 394,
   "id": "4af50339-64c5-4f23-b086-b1dc8e12ccdc",
   "metadata": {},
   "outputs": [
    {
     "data": {
      "text/plain": [
       "['black S', 'black M', 'black L', 'white S', 'white M', 'white L']"
      ]
     },
     "execution_count": 394,
     "metadata": {},
     "output_type": "execute_result"
    }
   ],
   "source": [
    "all_color_sizes = []\n",
    "for color in colors:\n",
    "    for size in sizes:\n",
    "        all_color_sizes.append(f'{color} {size}')\n",
    "\n",
    "all_color_sizes"
   ]
  },
  {
   "cell_type": "code",
   "execution_count": 393,
   "id": "2af90856-3eb8-42bf-95a2-102623756a89",
   "metadata": {
    "tags": []
   },
   "outputs": [
    {
     "data": {
      "text/plain": [
       "['black S', 'black M', 'black L', 'white S', 'white M', 'white L']"
      ]
     },
     "execution_count": 393,
     "metadata": {},
     "output_type": "execute_result"
    }
   ],
   "source": [
    "colors = ['black', 'white'] \n",
    "sizes = ['S', 'M', 'L']\n",
    "\n",
    "# your code\n",
    "[f'{color} {size}' for color in colors for size in sizes]"
   ]
  },
  {
   "cell_type": "markdown",
   "id": "65a53907-87e0-42bd-b8c3-8f4ee1a6a76c",
   "metadata": {},
   "source": [
    "### Generator expressions"
   ]
  },
  {
   "cell_type": "markdown",
   "id": "a5cf80cb-74af-4cfe-a5fa-9d4615af53b9",
   "metadata": {},
   "source": [
    "Как list comprehension, только создает и выдает элементы на лету"
   ]
  },
  {
   "cell_type": "code",
   "execution_count": 403,
   "id": "752b42fb-adca-46cf-bd20-79a5d78904af",
   "metadata": {},
   "outputs": [
    {
     "data": {
      "text/plain": [
       "'$¢£¥€¤'"
      ]
     },
     "execution_count": 403,
     "metadata": {},
     "output_type": "execute_result"
    }
   ],
   "source": [
    "symbols"
   ]
  },
  {
   "cell_type": "code",
   "execution_count": 398,
   "id": "b27aac1d-80de-4168-8acc-5a9667f23837",
   "metadata": {},
   "outputs": [
    {
     "data": {
      "text/plain": [
       "[36, 162, 163, 165, 8364, 164]"
      ]
     },
     "execution_count": 398,
     "metadata": {},
     "output_type": "execute_result"
    }
   ],
   "source": [
    "[ord(s) for s in symbols]"
   ]
  },
  {
   "cell_type": "code",
   "execution_count": 404,
   "id": "c0175d39-221b-48cf-b661-e6a7cb2c2cb3",
   "metadata": {
    "tags": []
   },
   "outputs": [
    {
     "data": {
      "text/plain": [
       "<generator object <genexpr> at 0x7f2bfe065740>"
      ]
     },
     "execution_count": 404,
     "metadata": {},
     "output_type": "execute_result"
    }
   ],
   "source": [
    "gen = (ord(s) for s in symbols)\n",
    "gen"
   ]
  },
  {
   "cell_type": "code",
   "execution_count": 405,
   "id": "1b93a9b5-20cb-449c-b591-29c4a752b3b9",
   "metadata": {
    "tags": []
   },
   "outputs": [
    {
     "name": "stdout",
     "output_type": "stream",
     "text": [
      "36\n",
      "162\n",
      "163\n",
      "165\n",
      "8364\n",
      "164\n"
     ]
    }
   ],
   "source": [
    "for element in gen:\n",
    "    print(element)"
   ]
  },
  {
   "cell_type": "code",
   "execution_count": 406,
   "id": "578a07c1-efa2-47c5-b9fd-1fbcfeb1e2f9",
   "metadata": {
    "tags": []
   },
   "outputs": [],
   "source": [
    "for i in gen:\n",
    "    print(i)"
   ]
  },
  {
   "cell_type": "code",
   "execution_count": 412,
   "id": "3ecc5a97-c5cb-46ea-b299-0abc328b830c",
   "metadata": {},
   "outputs": [],
   "source": [
    "gen = (ord(s) for s in symbols)"
   ]
  },
  {
   "cell_type": "code",
   "execution_count": 411,
   "id": "fc8c994d-0e72-459a-a1b8-485c4654465a",
   "metadata": {},
   "outputs": [
    {
     "name": "stdout",
     "output_type": "stream",
     "text": [
      "[36, 162, 163, 165, 8364, 164]\n"
     ]
    }
   ],
   "source": [
    "print(list(gen))"
   ]
  },
  {
   "cell_type": "markdown",
   "id": "ba2ac352-e656-43d7-8aed-22c27b260f05",
   "metadata": {},
   "source": [
    "Почему пусто?\n",
    "Генератор \"отдал\" все созданные элементы, больше в нем нет :)"
   ]
  },
  {
   "cell_type": "markdown",
   "id": "ac0ae5c5-ed14-4412-a41b-f83bd0270014",
   "metadata": {},
   "source": [
    "## Range"
   ]
  },
  {
   "cell_type": "markdown",
   "id": "162ea875-d4cf-4154-b4a1-ad559d8d459a",
   "metadata": {},
   "source": [
    "range() function generates the immutable sequence (of type rage) of numbers starting from the given start integer to the stop integer\n",
    "\n",
    "`range(start, stop, step)`"
   ]
  },
  {
   "cell_type": "code",
   "execution_count": 415,
   "id": "54d53159-975f-42ec-90c7-68975a4d5f12",
   "metadata": {
    "tags": []
   },
   "outputs": [
    {
     "data": {
      "text/plain": [
       "range(0, 10)"
      ]
     },
     "execution_count": 415,
     "metadata": {},
     "output_type": "execute_result"
    }
   ],
   "source": [
    "range(10)"
   ]
  },
  {
   "cell_type": "code",
   "execution_count": 416,
   "id": "4670534c-3c8b-4f05-90b1-a1a843dfc079",
   "metadata": {
    "tags": []
   },
   "outputs": [
    {
     "data": {
      "text/plain": [
       "[0, 1, 2, 3, 4, 5, 6, 7, 8, 9]"
      ]
     },
     "execution_count": 416,
     "metadata": {},
     "output_type": "execute_result"
    }
   ],
   "source": [
    "list(range(10))"
   ]
  },
  {
   "cell_type": "code",
   "execution_count": 417,
   "id": "486b7e6d-0e6c-44a7-9b3a-cc0de4e645a7",
   "metadata": {
    "tags": []
   },
   "outputs": [
    {
     "data": {
      "text/plain": [
       "[1, 3, 5, 7, 9]"
      ]
     },
     "execution_count": 417,
     "metadata": {},
     "output_type": "execute_result"
    }
   ],
   "source": [
    "a = range(1, 10, 2)\n",
    "\n",
    "list(a)"
   ]
  },
  {
   "cell_type": "code",
   "execution_count": 418,
   "id": "3c6a9f19-f405-4700-8885-5e0bd3a49af7",
   "metadata": {
    "tags": []
   },
   "outputs": [
    {
     "name": "stdout",
     "output_type": "stream",
     "text": [
      "1\n",
      "3\n",
      "5\n",
      "7\n",
      "9\n"
     ]
    }
   ],
   "source": [
    "for i in a:\n",
    "    print(i)"
   ]
  },
  {
   "cell_type": "markdown",
   "id": "5fb47adc-2f6e-4c09-a93b-1f656a484eed",
   "metadata": {},
   "source": [
    "Поддерживает индексацию"
   ]
  },
  {
   "cell_type": "code",
   "execution_count": 419,
   "id": "08a472f3-bb8a-4399-be1e-3ab652b1c979",
   "metadata": {
    "tags": []
   },
   "outputs": [],
   "source": [
    "a = range(0, 10)"
   ]
  },
  {
   "cell_type": "code",
   "execution_count": 420,
   "id": "abc67156-33f9-40e1-8fd9-b4c3c15c9f9b",
   "metadata": {
    "tags": []
   },
   "outputs": [
    {
     "data": {
      "text/plain": [
       "(1, 3)"
      ]
     },
     "execution_count": 420,
     "metadata": {},
     "output_type": "execute_result"
    }
   ],
   "source": [
    "a[1], a.index(3)"
   ]
  },
  {
   "cell_type": "markdown",
   "id": "a93ba49e-29c3-4103-b28c-e34d007bcafe",
   "metadata": {},
   "source": [
    "range не генерирует числа сразу же, а делает это one-by-one. Это хорошо для памяти и скорости"
   ]
  },
  {
   "cell_type": "code",
   "execution_count": 422,
   "id": "12f6e5f9-d73a-4d6d-ac28-fcaa3fc76f51",
   "metadata": {
    "tags": []
   },
   "outputs": [],
   "source": [
    "a = range(1000000000000000000000000000000000000000000000000000000000000000000000000000000000000000000000000000000000)"
   ]
  },
  {
   "cell_type": "code",
   "execution_count": 425,
   "id": "952bb632-9b5b-409f-8cb5-c8e684fec444",
   "metadata": {},
   "outputs": [
    {
     "name": "stdout",
     "output_type": "stream",
     "text": [
      "0 1\n",
      "1 2\n",
      "2 3\n",
      "3 4\n"
     ]
    }
   ],
   "source": [
    "a = [1, 2, 3, 4]\n",
    "\n",
    "for i in range(len(a)):\n",
    "    print(i, a[i])"
   ]
  },
  {
   "cell_type": "markdown",
   "id": "4e2fc743-7ccf-4816-874d-983b3b2ce792",
   "metadata": {},
   "source": [
    "## Tuples"
   ]
  },
  {
   "cell_type": "markdown",
   "id": "ccbe166f-8f90-4fa3-9f5e-11ff446b2604",
   "metadata": {},
   "source": [
    "Очень похоже на списки, только неизменяемые"
   ]
  },
  {
   "cell_type": "code",
   "execution_count": 1,
   "id": "dfba179b-9696-447c-8aa8-0758e7dd4ff1",
   "metadata": {
    "ExecuteTime": {
     "end_time": "2022-09-16T08:13:47.933751Z",
     "start_time": "2022-09-16T08:13:47.927350Z"
    },
    "collapsed": true,
    "jupyter": {
     "outputs_hidden": true
    }
   },
   "outputs": [],
   "source": [
    "a = (1, 2, 3,)"
   ]
  },
  {
   "cell_type": "code",
   "execution_count": 2,
   "id": "79ab1219-8023-4484-b571-f5c9b29d2e8e",
   "metadata": {
    "ExecuteTime": {
     "end_time": "2022-09-16T08:14:01.331791Z",
     "start_time": "2022-09-16T08:14:01.319195Z"
    },
    "collapsed": true,
    "jupyter": {
     "outputs_hidden": true
    }
   },
   "outputs": [
    {
     "ename": "TypeError",
     "evalue": "'tuple' object does not support item assignment",
     "output_type": "error",
     "traceback": [
      "\u001b[0;31m---------------------------------------------------------------------------\u001b[0m",
      "\u001b[0;31mTypeError\u001b[0m                                 Traceback (most recent call last)",
      "Input \u001b[0;32mIn [2]\u001b[0m, in \u001b[0;36m<cell line: 1>\u001b[0;34m()\u001b[0m\n\u001b[0;32m----> 1\u001b[0m a[\u001b[38;5;241m0\u001b[39m] \u001b[38;5;241m=\u001b[39m \u001b[38;5;241m3\u001b[39m\n",
      "\u001b[0;31mTypeError\u001b[0m: 'tuple' object does not support item assignment"
     ]
    }
   ],
   "source": [
    "a[0] = 3"
   ]
  },
  {
   "cell_type": "markdown",
   "id": "2b9633d9-d6e6-41a4-9120-a6da733ed4cd",
   "metadata": {},
   "source": [
    "**Be careful!**\n",
    "Если внутренний элемент изменяемый, то можно его менять inplace"
   ]
  },
  {
   "cell_type": "code",
   "execution_count": 3,
   "id": "af1f65af-f69e-442d-a763-baa15e815ce1",
   "metadata": {
    "ExecuteTime": {
     "end_time": "2022-09-16T08:15:07.745969Z",
     "start_time": "2022-09-16T08:15:07.740276Z"
    },
    "collapsed": true,
    "jupyter": {
     "outputs_hidden": true
    }
   },
   "outputs": [],
   "source": [
    "a = (1, [1, 2], 3)\n",
    "a[1].append(4)"
   ]
  },
  {
   "cell_type": "code",
   "execution_count": 4,
   "id": "e956bd59-ad31-4845-a7b4-a0b3deff7c18",
   "metadata": {
    "ExecuteTime": {
     "end_time": "2022-09-16T08:15:10.004318Z",
     "start_time": "2022-09-16T08:15:09.993233Z"
    },
    "collapsed": true,
    "jupyter": {
     "outputs_hidden": true
    }
   },
   "outputs": [
    {
     "data": {
      "text/plain": [
       "(1, [1, 2, 4], 3)"
      ]
     },
     "execution_count": 4,
     "metadata": {},
     "output_type": "execute_result"
    }
   ],
   "source": [
    "a"
   ]
  },
  {
   "cell_type": "code",
   "execution_count": 5,
   "id": "07d7df09-0422-4982-82dc-7431ad9ee67e",
   "metadata": {
    "ExecuteTime": {
     "end_time": "2022-09-16T08:16:11.422278Z",
     "start_time": "2022-09-16T08:16:11.407080Z"
    },
    "collapsed": true,
    "jupyter": {
     "outputs_hidden": true
    }
   },
   "outputs": [
    {
     "ename": "TypeError",
     "evalue": "'tuple' object does not support item assignment",
     "output_type": "error",
     "traceback": [
      "\u001b[0;31m---------------------------------------------------------------------------\u001b[0m",
      "\u001b[0;31mTypeError\u001b[0m                                 Traceback (most recent call last)",
      "Input \u001b[0;32mIn [5]\u001b[0m, in \u001b[0;36m<cell line: 2>\u001b[0;34m()\u001b[0m\n\u001b[1;32m      1\u001b[0m t \u001b[38;5;241m=\u001b[39m (\u001b[38;5;241m1\u001b[39m, \u001b[38;5;241m2\u001b[39m, [\u001b[38;5;241m30\u001b[39m, \u001b[38;5;241m40\u001b[39m])\n\u001b[0;32m----> 2\u001b[0m t[\u001b[38;5;241m2\u001b[39m] \u001b[38;5;241m+\u001b[39m\u001b[38;5;241m=\u001b[39m [\u001b[38;5;241m50\u001b[39m, \u001b[38;5;241m60\u001b[39m]\n",
      "\u001b[0;31mTypeError\u001b[0m: 'tuple' object does not support item assignment"
     ]
    }
   ],
   "source": [
    "t = (1, 2, [30, 40])\n",
    "t[2] += [50, 60]"
   ]
  },
  {
   "cell_type": "code",
   "execution_count": 6,
   "id": "383d9504",
   "metadata": {
    "ExecuteTime": {
     "end_time": "2022-09-16T08:16:54.280163Z",
     "start_time": "2022-09-16T08:16:54.274570Z"
    }
   },
   "outputs": [
    {
     "data": {
      "text/plain": [
       "(1, 2, [30, 40, 50, 60])"
      ]
     },
     "execution_count": 6,
     "metadata": {},
     "output_type": "execute_result"
    }
   ],
   "source": [
    "t"
   ]
  },
  {
   "cell_type": "markdown",
   "id": "4e801ccf-6c61-43a6-a914-29aa6e79a745",
   "metadata": {},
   "source": [
    "https://stackoverflow.com/questions/68630/are-tuples-more-efficient-than-lists-in-python/22140115#22140115"
   ]
  },
  {
   "cell_type": "markdown",
   "id": "14183cfd-653c-474a-932f-62d6ee77654d",
   "metadata": {},
   "source": [
    "• To evaluate a tuple literal, the Python compiler generates bytecode for a tuple constant in one operation; but for a list literal, the generated bytecode pushes each element as a separate constant to the data stack, and then builds the list.\n",
    "\n",
    "• Given a tuple t, tuple(t) simply returns a reference to the same t. There’s no need to copy. In contrast, given a list l, the list(l) constructor must create a new copy of l.\n",
    "\n",
    "• Because of its fixed length, a tuple instance is allocated the exact memory space it needs. Instances of list, on the other \n",
    "hand, are allocated with room to spare, to amortize the cost of future appends.\n",
    "\n",
    "• The references to the items in a tuple are stored in an array in the tuple struct, while a list holds a pointer to an array of references stored elsewhere. The indirection is necessary because when a list grows beyond the space currently allocated, Python needs to reallocate the array of references to make room. The extra indirection makes CPU caches less effective."
   ]
  },
  {
   "cell_type": "code",
   "execution_count": 7,
   "id": "da149ef3-e55b-4872-853c-c0f44e648965",
   "metadata": {
    "ExecuteTime": {
     "end_time": "2022-09-16T08:18:05.970777Z",
     "start_time": "2022-09-16T08:18:05.964256Z"
    },
    "collapsed": true,
    "jupyter": {
     "outputs_hidden": true
    }
   },
   "outputs": [
    {
     "data": {
      "text/plain": [
       "(140213493983408, 140213493983408)"
      ]
     },
     "execution_count": 7,
     "metadata": {},
     "output_type": "execute_result"
    }
   ],
   "source": [
    "a = (1, 2, 3, 4)\n",
    "b = tuple(a)\n",
    "\n",
    "id(a), id(b)"
   ]
  },
  {
   "cell_type": "code",
   "execution_count": 8,
   "id": "ed6d4f55-2c1d-484d-86fa-00c991be8b39",
   "metadata": {
    "ExecuteTime": {
     "end_time": "2022-09-16T08:18:52.559431Z",
     "start_time": "2022-09-16T08:18:52.553831Z"
    },
    "collapsed": true,
    "jupyter": {
     "outputs_hidden": true
    }
   },
   "outputs": [
    {
     "data": {
      "text/plain": [
       "(140214004418496, 140213494299904)"
      ]
     },
     "execution_count": 8,
     "metadata": {},
     "output_type": "execute_result"
    }
   ],
   "source": [
    "a = [1, 2, 3, 4]\n",
    "b = list(a)\n",
    "\n",
    "id(a), id(b)"
   ]
  },
  {
   "cell_type": "markdown",
   "id": "89fe35b0-86fa-4155-b6e3-42959f9e005a",
   "metadata": {},
   "source": [
    "## Unpacking"
   ]
  },
  {
   "cell_type": "markdown",
   "id": "a77a10a4-79f9-4257-a709-17e4e31ecef8",
   "metadata": {},
   "source": [
    "Работает с любым итерируемым объектом в Python"
   ]
  },
  {
   "cell_type": "code",
   "execution_count": 12,
   "id": "b033ae78-3a6f-41f9-ad85-64339ed98c61",
   "metadata": {
    "ExecuteTime": {
     "end_time": "2022-09-16T08:24:52.225972Z",
     "start_time": "2022-09-16T08:24:52.220385Z"
    },
    "collapsed": true,
    "jupyter": {
     "outputs_hidden": true
    }
   },
   "outputs": [
    {
     "data": {
      "text/plain": [
       "(10.0, -11.0)"
      ]
     },
     "execution_count": 12,
     "metadata": {},
     "output_type": "execute_result"
    }
   ],
   "source": [
    "coordinates = (10., -11.)\n",
    "\n",
    "lat, lon = coordinates\n",
    "\n",
    "lat, lon"
   ]
  },
  {
   "cell_type": "code",
   "execution_count": 15,
   "id": "e8ce3346-e5ce-4b14-88fc-f5ab13b299aa",
   "metadata": {
    "ExecuteTime": {
     "end_time": "2022-09-16T08:27:08.968521Z",
     "start_time": "2022-09-16T08:27:08.963105Z"
    },
    "collapsed": true,
    "jupyter": {
     "outputs_hidden": true
    }
   },
   "outputs": [],
   "source": [
    "lon, lat = lat, lon"
   ]
  },
  {
   "cell_type": "markdown",
   "id": "f9d9db93-e8c6-4392-ba90-f599338d387b",
   "metadata": {},
   "source": [
    "Лишние значения можно свернуть"
   ]
  },
  {
   "cell_type": "code",
   "execution_count": 16,
   "id": "f2928bef-abd7-43a8-95f6-41aaee7e0b32",
   "metadata": {
    "ExecuteTime": {
     "end_time": "2022-09-16T08:27:11.237486Z",
     "start_time": "2022-09-16T08:27:11.232125Z"
    },
    "collapsed": true,
    "jupyter": {
     "outputs_hidden": true
    }
   },
   "outputs": [
    {
     "data": {
      "text/plain": [
       "[0, 1, 2, 3, 4, 5, 6, 7, 8, 9]"
      ]
     },
     "execution_count": 16,
     "metadata": {},
     "output_type": "execute_result"
    }
   ],
   "source": [
    "list(range(10))"
   ]
  },
  {
   "cell_type": "code",
   "execution_count": 17,
   "id": "de15e2b5-7709-4330-957a-59e8e1823b97",
   "metadata": {
    "ExecuteTime": {
     "end_time": "2022-09-16T08:27:37.717623Z",
     "start_time": "2022-09-16T08:27:37.712150Z"
    },
    "collapsed": true,
    "jupyter": {
     "outputs_hidden": true
    }
   },
   "outputs": [],
   "source": [
    "a, b, *rest = range(10)"
   ]
  },
  {
   "cell_type": "code",
   "execution_count": 18,
   "id": "0ccd68fa-ae51-43c2-b32c-50e56bb92266",
   "metadata": {
    "ExecuteTime": {
     "end_time": "2022-09-16T08:27:38.704993Z",
     "start_time": "2022-09-16T08:27:38.696881Z"
    },
    "collapsed": true,
    "jupyter": {
     "outputs_hidden": true
    }
   },
   "outputs": [
    {
     "data": {
      "text/plain": [
       "(0, 1)"
      ]
     },
     "execution_count": 18,
     "metadata": {},
     "output_type": "execute_result"
    }
   ],
   "source": [
    "a, b"
   ]
  },
  {
   "cell_type": "code",
   "execution_count": 19,
   "id": "09a0f99d-cff5-4f2c-95bc-ab0112957b43",
   "metadata": {
    "ExecuteTime": {
     "end_time": "2022-09-16T08:27:43.839836Z",
     "start_time": "2022-09-16T08:27:43.831985Z"
    },
    "collapsed": true,
    "jupyter": {
     "outputs_hidden": true
    }
   },
   "outputs": [
    {
     "data": {
      "text/plain": [
       "[2, 3, 4, 5, 6, 7, 8, 9]"
      ]
     },
     "execution_count": 19,
     "metadata": {},
     "output_type": "execute_result"
    }
   ],
   "source": [
    "rest"
   ]
  },
  {
   "cell_type": "markdown",
   "id": "58bc679e-0062-4f17-b50b-a1ea7133059a",
   "metadata": {},
   "source": [
    "или"
   ]
  },
  {
   "cell_type": "code",
   "execution_count": 20,
   "id": "68aed12e-5e7e-4d35-9b44-ec892183ca60",
   "metadata": {
    "ExecuteTime": {
     "end_time": "2022-09-16T08:27:56.545857Z",
     "start_time": "2022-09-16T08:27:56.540176Z"
    },
    "collapsed": true,
    "jupyter": {
     "outputs_hidden": true
    }
   },
   "outputs": [],
   "source": [
    "first, *rest, last = range(10)"
   ]
  },
  {
   "cell_type": "code",
   "execution_count": 21,
   "id": "39c764e6-2ff0-49af-8af6-0ebf1c4a8ecc",
   "metadata": {
    "ExecuteTime": {
     "end_time": "2022-09-16T08:27:57.567081Z",
     "start_time": "2022-09-16T08:27:57.558733Z"
    },
    "collapsed": true,
    "jupyter": {
     "outputs_hidden": true
    }
   },
   "outputs": [
    {
     "data": {
      "text/plain": [
       "(0, 9)"
      ]
     },
     "execution_count": 21,
     "metadata": {},
     "output_type": "execute_result"
    }
   ],
   "source": [
    "first, last"
   ]
  },
  {
   "cell_type": "code",
   "execution_count": 22,
   "id": "15d3ea4a-ad91-48e5-95d7-1a543d8fd971",
   "metadata": {
    "ExecuteTime": {
     "end_time": "2022-09-16T08:28:01.780339Z",
     "start_time": "2022-09-16T08:28:01.775026Z"
    },
    "collapsed": true,
    "jupyter": {
     "outputs_hidden": true
    }
   },
   "outputs": [
    {
     "data": {
      "text/plain": [
       "[1, 2, 3, 4, 5, 6, 7, 8]"
      ]
     },
     "execution_count": 22,
     "metadata": {},
     "output_type": "execute_result"
    }
   ],
   "source": [
    "rest"
   ]
  },
  {
   "cell_type": "markdown",
   "id": "2ac220f7-8733-4bb4-b0fa-c75ae7fee68a",
   "metadata": {},
   "source": [
    "**+=, *=**"
   ]
  },
  {
   "cell_type": "code",
   "execution_count": 23,
   "id": "478b599e-73a7-432b-be4c-5893a2888014",
   "metadata": {
    "ExecuteTime": {
     "end_time": "2022-09-16T08:28:07.208087Z",
     "start_time": "2022-09-16T08:28:07.203225Z"
    },
    "collapsed": true,
    "jupyter": {
     "outputs_hidden": true
    }
   },
   "outputs": [
    {
     "name": "stdout",
     "output_type": "stream",
     "text": [
      "140213494212608\n",
      "140213494063168\n",
      "140213493931328\n"
     ]
    }
   ],
   "source": [
    "a = (1, 2, 3)\n",
    "print(id(a))\n",
    "\n",
    "a *= 3\n",
    "print(id(a))\n",
    "\n",
    "a += (10, 11)\n",
    "print(id(a))"
   ]
  },
  {
   "cell_type": "markdown",
   "id": "aca17610-a8f9-4b6d-91ee-4cd341e98dd6",
   "metadata": {},
   "source": [
    "Tuple (кортеж) -- неизменяемый объект, поэтому каждый раз создается новый"
   ]
  },
  {
   "cell_type": "markdown",
   "id": "70778103-3607-42c8-bb1f-e3cbbe3c8660",
   "metadata": {},
   "source": [
    "## Named Tuples"
   ]
  },
  {
   "cell_type": "code",
   "execution_count": 24,
   "id": "b2a036c8-aa81-4801-a60e-ccd37cbd5c69",
   "metadata": {
    "ExecuteTime": {
     "end_time": "2022-09-16T08:29:04.947798Z",
     "start_time": "2022-09-16T08:29:04.942525Z"
    },
    "collapsed": true,
    "jupyter": {
     "outputs_hidden": true
    }
   },
   "outputs": [],
   "source": [
    "from collections import namedtuple"
   ]
  },
  {
   "cell_type": "code",
   "execution_count": 25,
   "id": "6215b04b-4b39-41b2-9504-88fb0cc56603",
   "metadata": {
    "ExecuteTime": {
     "end_time": "2022-09-16T08:29:07.743688Z",
     "start_time": "2022-09-16T08:29:07.738233Z"
    },
    "collapsed": true,
    "jupyter": {
     "outputs_hidden": true
    }
   },
   "outputs": [],
   "source": [
    "Subject = namedtuple('Subject', 'name difficulty')"
   ]
  },
  {
   "cell_type": "code",
   "execution_count": 27,
   "id": "640c26f8-13a5-4061-9248-417b749d7f61",
   "metadata": {
    "ExecuteTime": {
     "end_time": "2022-09-16T08:29:41.177271Z",
     "start_time": "2022-09-16T08:29:41.171660Z"
    },
    "collapsed": true,
    "jupyter": {
     "outputs_hidden": true
    }
   },
   "outputs": [
    {
     "data": {
      "text/plain": [
       "Subject(name='Python', difficulty=1)"
      ]
     },
     "execution_count": 27,
     "metadata": {},
     "output_type": "execute_result"
    }
   ],
   "source": [
    "python_course = Subject('Python', 1)\n",
    "python_course"
   ]
  },
  {
   "cell_type": "code",
   "execution_count": 28,
   "id": "87236884-c33b-4b35-b08b-90ab07677e8c",
   "metadata": {
    "ExecuteTime": {
     "end_time": "2022-09-16T08:29:41.856605Z",
     "start_time": "2022-09-16T08:29:41.848159Z"
    },
    "collapsed": true,
    "jupyter": {
     "outputs_hidden": true
    }
   },
   "outputs": [
    {
     "data": {
      "text/plain": [
       "('Python', 1)"
      ]
     },
     "execution_count": 28,
     "metadata": {},
     "output_type": "execute_result"
    }
   ],
   "source": [
    "python_course[0], python_course[1]"
   ]
  },
  {
   "cell_type": "code",
   "execution_count": 29,
   "id": "2581650d-488a-4fb3-81d3-f12e0db17cba",
   "metadata": {
    "ExecuteTime": {
     "end_time": "2022-09-16T08:29:58.782815Z",
     "start_time": "2022-09-16T08:29:58.777527Z"
    },
    "collapsed": true,
    "jupyter": {
     "outputs_hidden": true
    }
   },
   "outputs": [
    {
     "data": {
      "text/plain": [
       "('Python', 1)"
      ]
     },
     "execution_count": 29,
     "metadata": {},
     "output_type": "execute_result"
    }
   ],
   "source": [
    "python_course.name, python_course.difficulty"
   ]
  },
  {
   "cell_type": "markdown",
   "id": "1888d78f-49f3-43ba-a4cb-7f2dec60fe70",
   "metadata": {},
   "source": [
    "## Arrays"
   ]
  },
  {
   "cell_type": "markdown",
   "id": "fed8f7cb-e993-4313-9616-0c3cefeb0fc9",
   "metadata": {},
   "source": [
    "Если очень хочется скорости для работы с числами и файлами, то можно пользоваться почти C-шными массивами"
   ]
  },
  {
   "cell_type": "markdown",
   "id": "e74ccc86-652e-4d4d-bb07-cc1823a8867e",
   "metadata": {},
   "source": [
    "![](img/python_seq_memory.png)"
   ]
  },
  {
   "cell_type": "code",
   "execution_count": 5,
   "id": "fc5a5666-74fa-488d-b24a-a04d09439f47",
   "metadata": {
    "ExecuteTime": {
     "end_time": "2022-09-16T11:28:44.572991Z",
     "start_time": "2022-09-16T11:28:44.567197Z"
    },
    "collapsed": true,
    "jupyter": {
     "outputs_hidden": true
    }
   },
   "outputs": [],
   "source": [
    "from array import array"
   ]
  },
  {
   "cell_type": "markdown",
   "id": "6860873a-fe89-4dc2-a060-b66ce80d4e76",
   "metadata": {},
   "source": [
    "'b' -- typecode для типа byte (целые от -128 до 127)"
   ]
  },
  {
   "cell_type": "code",
   "execution_count": 31,
   "id": "1b20b85e-5713-45ca-991f-2104c322e99c",
   "metadata": {
    "ExecuteTime": {
     "end_time": "2022-09-16T08:31:14.488970Z",
     "start_time": "2022-09-16T08:31:14.483190Z"
    },
    "collapsed": true,
    "jupyter": {
     "outputs_hidden": true
    }
   },
   "outputs": [],
   "source": [
    "bytes_array = array('b', (i for i in range(120)))"
   ]
  },
  {
   "cell_type": "code",
   "execution_count": 32,
   "id": "6b99fba1-a561-424e-96a3-d09028856aa4",
   "metadata": {
    "ExecuteTime": {
     "end_time": "2022-09-16T08:31:15.651662Z",
     "start_time": "2022-09-16T08:31:15.643498Z"
    },
    "collapsed": true,
    "jupyter": {
     "outputs_hidden": true
    }
   },
   "outputs": [
    {
     "data": {
      "text/plain": [
       "array('b', [0, 1, 2, 3, 4, 5, 6, 7, 8, 9, 10, 11, 12, 13, 14, 15, 16, 17, 18, 19, 20, 21, 22, 23, 24, 25, 26, 27, 28, 29, 30, 31, 32, 33, 34, 35, 36, 37, 38, 39, 40, 41, 42, 43, 44, 45, 46, 47, 48, 49, 50, 51, 52, 53, 54, 55, 56, 57, 58, 59, 60, 61, 62, 63, 64, 65, 66, 67, 68, 69, 70, 71, 72, 73, 74, 75, 76, 77, 78, 79, 80, 81, 82, 83, 84, 85, 86, 87, 88, 89, 90, 91, 92, 93, 94, 95, 96, 97, 98, 99, 100, 101, 102, 103, 104, 105, 106, 107, 108, 109, 110, 111, 112, 113, 114, 115, 116, 117, 118, 119])"
      ]
     },
     "execution_count": 32,
     "metadata": {},
     "output_type": "execute_result"
    }
   ],
   "source": [
    "bytes_array"
   ]
  },
  {
   "cell_type": "code",
   "execution_count": 33,
   "id": "e47031de-9489-431f-ade5-1b0b9841274f",
   "metadata": {
    "ExecuteTime": {
     "end_time": "2022-09-16T08:31:24.050250Z",
     "start_time": "2022-09-16T08:31:24.044965Z"
    },
    "collapsed": true,
    "jupyter": {
     "outputs_hidden": true
    }
   },
   "outputs": [],
   "source": [
    "bytes_array.append(127)"
   ]
  },
  {
   "cell_type": "markdown",
   "id": "f42c98cd-5b6b-4b66-8071-f9a28dea0bad",
   "metadata": {},
   "source": [
    "Строгость типа не позволяет записать что-то помимо него"
   ]
  },
  {
   "cell_type": "code",
   "execution_count": 34,
   "id": "d8d1d629-708c-494b-9ab6-5c6a38dd98a1",
   "metadata": {
    "ExecuteTime": {
     "end_time": "2022-09-16T08:31:33.220068Z",
     "start_time": "2022-09-16T08:31:33.205995Z"
    },
    "collapsed": true,
    "jupyter": {
     "outputs_hidden": true
    }
   },
   "outputs": [
    {
     "ename": "OverflowError",
     "evalue": "signed char is greater than maximum",
     "output_type": "error",
     "traceback": [
      "\u001b[0;31m---------------------------------------------------------------------------\u001b[0m",
      "\u001b[0;31mOverflowError\u001b[0m                             Traceback (most recent call last)",
      "Input \u001b[0;32mIn [34]\u001b[0m, in \u001b[0;36m<cell line: 1>\u001b[0;34m()\u001b[0m\n\u001b[0;32m----> 1\u001b[0m \u001b[43mbytes_array\u001b[49m\u001b[38;5;241;43m.\u001b[39;49m\u001b[43mappend\u001b[49m\u001b[43m(\u001b[49m\u001b[38;5;241;43m256\u001b[39;49m\u001b[43m)\u001b[49m\n",
      "\u001b[0;31mOverflowError\u001b[0m: signed char is greater than maximum"
     ]
    }
   ],
   "source": [
    "bytes_array.append(256)"
   ]
  },
  {
   "cell_type": "markdown",
   "id": "f9744ddb-6d1c-429e-b3f0-880694219318",
   "metadata": {},
   "source": [
    "есть `array.fromfile() и array.tofile()` для быстрой записи и чтения"
   ]
  },
  {
   "cell_type": "markdown",
   "id": "0eded917-4988-4336-9ca8-2d42dba807dd",
   "metadata": {},
   "source": [
    "Сравним скорость какой-нибудь простой арифметической операции для массива чисел"
   ]
  },
  {
   "cell_type": "code",
   "execution_count": 3,
   "id": "7f086fd0-3b02-487c-8cd7-62969e9a0c9b",
   "metadata": {
    "ExecuteTime": {
     "end_time": "2022-09-16T11:28:39.517682Z",
     "start_time": "2022-09-16T11:28:39.501455Z"
    },
    "collapsed": true,
    "jupyter": {
     "outputs_hidden": true
    }
   },
   "outputs": [],
   "source": [
    "list_ints = list(range(1000000))"
   ]
  },
  {
   "cell_type": "code",
   "execution_count": 45,
   "id": "4fa1e181-15f9-43a7-82fb-637df36b2229",
   "metadata": {
    "ExecuteTime": {
     "end_time": "2022-09-16T08:33:21.432517Z",
     "start_time": "2022-09-16T08:33:03.437913Z"
    },
    "collapsed": true,
    "jupyter": {
     "outputs_hidden": true
    }
   },
   "outputs": [
    {
     "name": "stdout",
     "output_type": "stream",
     "text": [
      "2.57 ms ± 4.71 µs per loop (mean ± std. dev. of 7 runs, 1,000 loops each)\n"
     ]
    }
   ],
   "source": [
    "%%timeit -n 1000\n",
    "sum(list_ints)"
   ]
  },
  {
   "cell_type": "code",
   "execution_count": 6,
   "id": "5d842364-bc18-4135-bb0d-b0840b14f715",
   "metadata": {
    "ExecuteTime": {
     "end_time": "2022-09-16T11:28:47.063854Z",
     "start_time": "2022-09-16T11:28:47.023226Z"
    },
    "collapsed": true,
    "jupyter": {
     "outputs_hidden": true
    }
   },
   "outputs": [],
   "source": [
    "array_ints = array('I', (i for i in range(1000000)))"
   ]
  },
  {
   "cell_type": "code",
   "execution_count": 47,
   "id": "7c45a6e5-dd52-48d7-8cab-4d2bb860cec7",
   "metadata": {
    "ExecuteTime": {
     "end_time": "2022-09-16T08:34:24.078809Z",
     "start_time": "2022-09-16T08:33:25.203023Z"
    },
    "collapsed": true,
    "jupyter": {
     "outputs_hidden": true
    }
   },
   "outputs": [
    {
     "name": "stdout",
     "output_type": "stream",
     "text": [
      "8.41 ms ± 615 µs per loop (mean ± std. dev. of 7 runs, 1,000 loops each)\n"
     ]
    }
   ],
   "source": [
    "%%timeit -n 1000\n",
    "sum(array_ints)"
   ]
  },
  {
   "cell_type": "markdown",
   "id": "1dc93efd",
   "metadata": {},
   "source": [
    "Как видим, скорость обычных списков для простой математической операции выше. Но преимущества array могуть быть в другом. В частности, в экономии памяти и в случае чтения и записи из файлов. Об этом ниже"
   ]
  },
  {
   "cell_type": "markdown",
   "id": "14b90eb8-70b3-4d91-a1fa-3543a1eed73a",
   "metadata": {},
   "source": [
    "# Запись и чтение из файла"
   ]
  },
  {
   "cell_type": "code",
   "execution_count": 48,
   "id": "91ddced6-48da-4b19-b85a-40fd5d401cd1",
   "metadata": {
    "ExecuteTime": {
     "end_time": "2022-09-16T08:37:29.897023Z",
     "start_time": "2022-09-16T08:37:29.891982Z"
    },
    "collapsed": true,
    "jupyter": {
     "outputs_hidden": true
    }
   },
   "outputs": [
    {
     "name": "stdout",
     "output_type": "stream",
     "text": [
      "b'Python3 is great'\n"
     ]
    }
   ],
   "source": [
    "filename = 'out.bin'\n",
    "\n",
    "byte_string = bytes('Python3 is great', encoding='utf-8')\n",
    "\n",
    "with open('out.bin', 'wb') as f:\n",
    "    f.write(byte_string)\n",
    "\n",
    "with open('out.bin', 'rb') as f:\n",
    "    content = f.read()\n",
    "    print(content)"
   ]
  },
  {
   "cell_type": "markdown",
   "id": "72689f20-d1ac-415b-ba38-1ae570ac1f8f",
   "metadata": {},
   "source": [
    "Если у нас есть какая-то структура"
   ]
  },
  {
   "cell_type": "code",
   "execution_count": 49,
   "id": "b297f150-f55a-4691-ab25-c9c7ea4faadf",
   "metadata": {
    "ExecuteTime": {
     "end_time": "2022-09-16T08:37:46.735386Z",
     "start_time": "2022-09-16T08:37:46.730148Z"
    },
    "collapsed": true,
    "jupyter": {
     "outputs_hidden": true
    }
   },
   "outputs": [
    {
     "data": {
      "text/plain": [
       "[[1, 2, (4, 5, 3), 'something ()'], ('hello', 6)]"
      ]
     },
     "execution_count": 49,
     "metadata": {},
     "output_type": "execute_result"
    }
   ],
   "source": [
    "some_object = [[1, 2, (4, 5, 3), 'something ()'], ('hello', 6)]\n",
    "some_object"
   ]
  },
  {
   "cell_type": "code",
   "execution_count": 50,
   "id": "e5e4cd3a-f9f9-4e94-aa16-17e28f2185cc",
   "metadata": {
    "ExecuteTime": {
     "end_time": "2022-09-16T08:38:12.541008Z",
     "start_time": "2022-09-16T08:38:12.534943Z"
    },
    "collapsed": true,
    "jupyter": {
     "outputs_hidden": true
    }
   },
   "outputs": [],
   "source": [
    "with open('out', 'w') as f:\n",
    "    f.write(str(some_object))"
   ]
  },
  {
   "cell_type": "code",
   "execution_count": 51,
   "id": "ccb1d769-a043-453d-aa7b-27f437189b8f",
   "metadata": {
    "ExecuteTime": {
     "end_time": "2022-09-16T08:38:28.410375Z",
     "start_time": "2022-09-16T08:38:28.406300Z"
    },
    "collapsed": true,
    "jupyter": {
     "outputs_hidden": true
    }
   },
   "outputs": [
    {
     "name": "stdout",
     "output_type": "stream",
     "text": [
      "[[1, 2, (4, 5, 3), 'something ()'], ('hello', 6)]\n"
     ]
    }
   ],
   "source": [
    "with open('out', 'r') as f:\n",
    "    content = f.read()\n",
    "    print(content)"
   ]
  },
  {
   "cell_type": "markdown",
   "id": "c3ef788d-3dfc-4a2e-aa91-b7102bf8ff07",
   "metadata": {},
   "source": [
    "Если хотим сохранить объект"
   ]
  },
  {
   "cell_type": "code",
   "execution_count": 7,
   "id": "9d1c654e-ce06-4a5a-b303-2956de8fcc38",
   "metadata": {
    "ExecuteTime": {
     "end_time": "2022-09-16T11:30:12.527265Z",
     "start_time": "2022-09-16T11:30:12.522295Z"
    },
    "collapsed": true,
    "jupyter": {
     "outputs_hidden": true
    }
   },
   "outputs": [],
   "source": [
    "import pickle"
   ]
  },
  {
   "cell_type": "code",
   "execution_count": 55,
   "id": "79aed50a-f73b-44d3-b779-c96583706a3a",
   "metadata": {
    "ExecuteTime": {
     "end_time": "2022-09-16T08:40:00.674411Z",
     "start_time": "2022-09-16T08:40:00.664628Z"
    },
    "collapsed": true,
    "jupyter": {
     "outputs_hidden": true
    }
   },
   "outputs": [
    {
     "data": {
      "text/plain": [
       "True"
      ]
     },
     "execution_count": 55,
     "metadata": {},
     "output_type": "execute_result"
    }
   ],
   "source": [
    "with open('object', 'wb') as f:\n",
    "    pickle.dump(some_object, f)\n",
    "    \n",
    "with open('object', 'rb') as f:\n",
    "    content = pickle.load(f)\n",
    "\n",
    "content == some_object"
   ]
  },
  {
   "cell_type": "markdown",
   "id": "21fe347c-2878-4932-9371-5f57a2c7031f",
   "metadata": {},
   "source": [
    "Если у нас текст с форматированием"
   ]
  },
  {
   "cell_type": "code",
   "execution_count": 71,
   "id": "d10adb22-7752-4806-8c38-b01029d5e9de",
   "metadata": {
    "ExecuteTime": {
     "end_time": "2022-09-16T09:46:14.006582Z",
     "start_time": "2022-09-16T09:46:13.999289Z"
    },
    "collapsed": true,
    "jupyter": {
     "outputs_hidden": true
    }
   },
   "outputs": [],
   "source": [
    "some_text = \"\"\" Я готовлю семинар.\n",
    "Все пока идет хорошо.\n",
    "Почему уже 2 часа ночи...\n",
    "\"\"\"\n",
    "\n",
    "with open('out_str', 'w') as f:\n",
    "    f.write(some_text)"
   ]
  },
  {
   "cell_type": "code",
   "execution_count": 59,
   "id": "0c919880-6eb3-44f3-964b-f0f27863b9f8",
   "metadata": {
    "ExecuteTime": {
     "end_time": "2022-09-16T08:40:40.336592Z",
     "start_time": "2022-09-16T08:40:40.331420Z"
    },
    "collapsed": true,
    "jupyter": {
     "outputs_hidden": true
    }
   },
   "outputs": [
    {
     "name": "stdout",
     "output_type": "stream",
     "text": [
      " Я готовлю семинар.\n",
      "Все пока идет хорошо.\n",
      "Почему уже 2 часа ночи...\n",
      "\n"
     ]
    }
   ],
   "source": [
    "with open('out_str', 'r') as f:\n",
    "    content = f.read()\n",
    "\n",
    "print(content)"
   ]
  },
  {
   "cell_type": "code",
   "execution_count": 60,
   "id": "a494f1cd-d64b-487f-b674-10ff9a2415f4",
   "metadata": {
    "ExecuteTime": {
     "end_time": "2022-09-16T08:40:59.019395Z",
     "start_time": "2022-09-16T08:40:59.013197Z"
    },
    "collapsed": true,
    "jupyter": {
     "outputs_hidden": true
    }
   },
   "outputs": [
    {
     "name": "stdout",
     "output_type": "stream",
     "text": [
      " Я готовлю семинар.\n",
      " Все пока идет хорошо.\n",
      "\n"
     ]
    }
   ],
   "source": [
    "with open('out_str', 'r') as f:\n",
    "    first_line = f.readline()\n",
    "    second_line = f.readline()\n",
    "    \n",
    "print(first_line, second_line)"
   ]
  },
  {
   "cell_type": "code",
   "execution_count": 61,
   "id": "be0d99c9-a840-4565-8469-52e39d65947b",
   "metadata": {
    "ExecuteTime": {
     "end_time": "2022-09-16T08:41:14.609022Z",
     "start_time": "2022-09-16T08:41:14.599485Z"
    },
    "collapsed": true,
    "jupyter": {
     "outputs_hidden": true
    }
   },
   "outputs": [
    {
     "name": "stdout",
     "output_type": "stream",
     "text": [
      "Line 0: Я готовлю семинар.\n",
      "Line 1: Все пока идет хорошо.\n",
      "Line 2: Почему уже 2 часа ночи...\n"
     ]
    }
   ],
   "source": [
    "with open('out_str', 'r') as f:\n",
    "    for index, line in enumerate(f):\n",
    "        print(f\"Line {index}: {line.strip()}\")"
   ]
  },
  {
   "cell_type": "markdown",
   "id": "85b8291e",
   "metadata": {},
   "source": [
    "**Вернемся к array.** Давайте попробуем записать наши массивы чисел в файлы и прочитать их оттуда. Заодно посмотрим, сколько времени занимают такие операции, и какой получается размер у файлов."
   ]
  },
  {
   "cell_type": "code",
   "execution_count": 5,
   "id": "ab332ce7",
   "metadata": {
    "ExecuteTime": {
     "end_time": "2022-09-22T10:07:26.857333Z",
     "start_time": "2022-09-22T10:07:26.437862Z"
    }
   },
   "outputs": [],
   "source": [
    "N = 10000000\n",
    "\n",
    "list_ints = list(range(N))\n",
    "array_ints = array('I', list(range(N)))"
   ]
  },
  {
   "cell_type": "markdown",
   "id": "d9d163c5",
   "metadata": {},
   "source": [
    "Запишем в файл большой массив чисел в виде списка. У нас два способа, как мы это можем сделать. Pickle и записать в виде строки, а потом сконвертить обратно"
   ]
  },
  {
   "cell_type": "markdown",
   "id": "3025e954",
   "metadata": {},
   "source": [
    "Перед тем как записать в файл список в виде строк, надо его аккуратно сконвертить. Например, можно сохранить по одному числу на строку и отрезать квадратные скобки. Так мы сможем потом быстро перевести прочитанный файл обратно в list"
   ]
  },
  {
   "cell_type": "code",
   "execution_count": 6,
   "id": "27bbf282",
   "metadata": {
    "ExecuteTime": {
     "end_time": "2022-09-22T10:07:30.501887Z",
     "start_time": "2022-09-22T10:07:29.403922Z"
    }
   },
   "outputs": [],
   "source": [
    "sep = '\\n'\n",
    "list_str_repr = sep.join([str(digit) for digit in list_ints])"
   ]
  },
  {
   "cell_type": "code",
   "execution_count": 7,
   "id": "002484f2",
   "metadata": {
    "ExecuteTime": {
     "end_time": "2022-09-22T10:07:34.700801Z",
     "start_time": "2022-09-22T10:07:34.692082Z"
    }
   },
   "outputs": [
    {
     "data": {
      "text/plain": [
       "'0\\n1\\n2\\n3\\n4\\n5\\n6\\n7\\n8\\n9\\n10\\n11\\n12\\n13\\n14\\n15\\n16\\n17\\n18\\n19\\n20\\n21\\n22\\n23\\n24\\n25\\n26\\n27\\n28\\n29\\n30\\n31\\n32\\n33\\n34\\n35\\n36\\n37\\n38\\n39\\n40\\n41\\n42\\n4'"
      ]
     },
     "execution_count": 7,
     "metadata": {},
     "output_type": "execute_result"
    }
   ],
   "source": [
    "list_str_repr[:120]"
   ]
  },
  {
   "cell_type": "code",
   "execution_count": 10,
   "id": "e5dd45cc",
   "metadata": {
    "ExecuteTime": {
     "end_time": "2022-09-22T10:08:10.919504Z",
     "start_time": "2022-09-22T10:08:10.662238Z"
    }
   },
   "outputs": [],
   "source": [
    "with open('list_ints', 'w') as f:\n",
    "    f.write(list_str_repr)\n",
    "\n",
    "with open('list_ints_pickle', 'wb') as f:\n",
    "    pickle.dump(list_ints, f)"
   ]
  },
  {
   "cell_type": "markdown",
   "id": "1702d591",
   "metadata": {},
   "source": [
    "Запишем array в файл с помощью встроенного метода `.tofile()`"
   ]
  },
  {
   "cell_type": "code",
   "execution_count": 11,
   "id": "ba609cf8",
   "metadata": {
    "ExecuteTime": {
     "end_time": "2022-09-22T10:08:19.143851Z",
     "start_time": "2022-09-22T10:08:19.119074Z"
    }
   },
   "outputs": [],
   "source": [
    "with open('array_ints', 'wb') as f:\n",
    "    array_ints.tofile(f)"
   ]
  },
  {
   "cell_type": "markdown",
   "id": "f2e38578",
   "metadata": {},
   "source": [
    "Посмотрим, сколько места занимают файлы"
   ]
  },
  {
   "cell_type": "code",
   "execution_count": 12,
   "id": "c0d1034c",
   "metadata": {
    "ExecuteTime": {
     "end_time": "2022-09-22T10:08:26.948196Z",
     "start_time": "2022-09-22T10:08:26.943180Z"
    }
   },
   "outputs": [
    {
     "name": "stdout",
     "output_type": "stream",
     "text": [
      "\n",
      "list (str): 78888889 bytes\n",
      "list (pickle): 49895535 bytes\n",
      "array (native): 40000000 bytes\n",
      "\n"
     ]
    }
   ],
   "source": [
    "import os\n",
    "\n",
    "print(f'''\n",
    "list (str): {os.path.getsize(\"list_ints\")} bytes\n",
    "list (pickle): {os.path.getsize(\"list_ints_pickle\")} bytes\n",
    "array (native): {os.path.getsize(\"array_ints\")} bytes\n",
    "''')"
   ]
  },
  {
   "cell_type": "markdown",
   "id": "007da557",
   "metadata": {},
   "source": [
    "Видим, что размер array для 10 миллионов чисел составил ровно $4 * 10^7$ байт, т.е. ровно по 4 байта на число. Pickle примерно на 25% менее эффективен с точки зрения места на диске, а сохранение через строковое представление и вовсе в 2 раза хуже"
   ]
  },
  {
   "cell_type": "markdown",
   "id": "4f13e0d5",
   "metadata": {},
   "source": [
    "А что по времени на чтение?"
   ]
  },
  {
   "cell_type": "code",
   "execution_count": 16,
   "id": "674e63bb",
   "metadata": {
    "ExecuteTime": {
     "end_time": "2022-09-22T10:12:23.411342Z",
     "start_time": "2022-09-22T10:12:22.493870Z"
    }
   },
   "outputs": [
    {
     "name": "stdout",
     "output_type": "stream",
     "text": [
      "CPU times: user 670 ms, sys: 244 ms, total: 915 ms\n",
      "Wall time: 912 ms\n"
     ]
    }
   ],
   "source": [
    "%%time\n",
    "\n",
    "# так как мы разделили числа с помощью символ переноса строки, можем использовать readlines() \n",
    "# и потом скастить каждый элемент в тип int\n",
    "\n",
    "with open('list_ints', 'r') as f:\n",
    "    list_from_str = list(map(int, f.readlines()))"
   ]
  },
  {
   "cell_type": "code",
   "execution_count": 17,
   "id": "ae877108",
   "metadata": {
    "ExecuteTime": {
     "end_time": "2022-09-22T10:12:30.980608Z",
     "start_time": "2022-09-22T10:12:30.807740Z"
    }
   },
   "outputs": [
    {
     "name": "stdout",
     "output_type": "stream",
     "text": [
      "CPU times: user 123 ms, sys: 48.7 ms, total: 172 ms\n",
      "Wall time: 169 ms\n"
     ]
    }
   ],
   "source": [
    "%%time\n",
    "\n",
    "with open('list_ints_pickle', 'rb') as f:\n",
    "    list_from_pickle = pickle.load(f)"
   ]
  },
  {
   "cell_type": "code",
   "execution_count": 18,
   "id": "16ca8c1d",
   "metadata": {
    "ExecuteTime": {
     "end_time": "2022-09-22T10:12:33.325036Z",
     "start_time": "2022-09-22T10:12:33.299436Z"
    }
   },
   "outputs": [
    {
     "name": "stdout",
     "output_type": "stream",
     "text": [
      "CPU times: user 2.7 ms, sys: 20.6 ms, total: 23.3 ms\n",
      "Wall time: 21.3 ms\n"
     ]
    }
   ],
   "source": [
    "%%time\n",
    "\n",
    "with open('array_ints', 'rb') as f:\n",
    "    array_from_dump = array('I')\n",
    "    array_from_dump.fromfile(f, N)"
   ]
  },
  {
   "cell_type": "code",
   "execution_count": 19,
   "id": "34c8f444",
   "metadata": {
    "ExecuteTime": {
     "end_time": "2022-09-22T10:13:11.333481Z",
     "start_time": "2022-09-22T10:13:11.189822Z"
    }
   },
   "outputs": [],
   "source": [
    "assert array_from_dump == array_ints\n",
    "assert list_from_pickle == list_ints\n",
    "assert list_from_str == list_ints"
   ]
  },
  {
   "cell_type": "markdown",
   "id": "b1835d7a",
   "metadata": {},
   "source": [
    "У меня нет уверенности, что вы на практике столкнетесь с типом array.array напрямую. Но нечто похожее с точки зрения эффективности по хранению и скорости чтения вы увидите, когда будете работать с массивами из библиотеки NumPy. С одной лишь разницей, что там и математические операции будут гораздо быстрее, чем их аналоги на чистом Python  "
   ]
  },
  {
   "cell_type": "markdown",
   "id": "d307282f-bebf-45d3-9e7c-eafb2bd1cdd5",
   "metadata": {},
   "source": [
    "# Сколько памяти занимает объект в Python"
   ]
  },
  {
   "cell_type": "markdown",
   "id": "2190fc4d-24d1-411b-bd57-d14310979903",
   "metadata": {},
   "source": [
    "https://stackoverflow.com/questions/449560/how-do-i-determine-the-size-of-an-object-in-python\n",
    "\n",
    "https://docs.python.org/3/library/sys.html#sys.getsizeof\n",
    "\n",
    "https://towardsdatascience.com/the-strange-size-of-python-objects-in-memory-ce87bdfbb97f"
   ]
  },
  {
   "cell_type": "code",
   "execution_count": 21,
   "id": "0ea9a397-fa14-436d-874f-ebac927c088d",
   "metadata": {},
   "outputs": [],
   "source": [
    "a = 8"
   ]
  },
  {
   "cell_type": "code",
   "execution_count": 70,
   "id": "05eb49cf-7ebd-4d6f-aa0c-6c578327752d",
   "metadata": {
    "ExecuteTime": {
     "end_time": "2022-09-16T12:08:26.634756Z",
     "start_time": "2022-09-16T12:08:26.629829Z"
    },
    "collapsed": true,
    "jupyter": {
     "outputs_hidden": true
    }
   },
   "outputs": [],
   "source": [
    "import sys"
   ]
  },
  {
   "cell_type": "code",
   "execution_count": 75,
   "id": "f14a756f-0452-483d-9877-2bf44f8ac070",
   "metadata": {
    "ExecuteTime": {
     "end_time": "2022-09-16T09:48:12.376469Z",
     "start_time": "2022-09-16T09:48:12.368054Z"
    },
    "collapsed": true,
    "jupyter": {
     "outputs_hidden": true
    }
   },
   "outputs": [
    {
     "data": {
      "text/plain": [
       "28"
      ]
     },
     "execution_count": 75,
     "metadata": {},
     "output_type": "execute_result"
    }
   ],
   "source": [
    "sys.getsizeof(1)"
   ]
  },
  {
   "cell_type": "code",
   "execution_count": 76,
   "id": "bb6b74e7-302a-46fd-8e32-fa40af15bf39",
   "metadata": {
    "ExecuteTime": {
     "end_time": "2022-09-16T09:48:15.349845Z",
     "start_time": "2022-09-16T09:48:15.340806Z"
    },
    "collapsed": true,
    "jupyter": {
     "outputs_hidden": true
    }
   },
   "outputs": [
    {
     "data": {
      "text/plain": [
       "49"
      ]
     },
     "execution_count": 76,
     "metadata": {},
     "output_type": "execute_result"
    }
   ],
   "source": [
    "sys.getsizeof('')"
   ]
  },
  {
   "cell_type": "code",
   "execution_count": 77,
   "id": "56ed055a",
   "metadata": {
    "ExecuteTime": {
     "end_time": "2022-09-16T09:48:21.898207Z",
     "start_time": "2022-09-16T09:48:21.890748Z"
    }
   },
   "outputs": [
    {
     "name": "stdout",
     "output_type": "stream",
     "text": [
      "49\n",
      "51\n"
     ]
    }
   ],
   "source": [
    "a = ''\n",
    "\n",
    "print(sys.getsizeof(a))\n",
    "\n",
    "a += '12'\n",
    "\n",
    "print(sys.getsizeof(a))\n"
   ]
  },
  {
   "cell_type": "code",
   "execution_count": 79,
   "id": "73f39bb0",
   "metadata": {
    "ExecuteTime": {
     "end_time": "2022-09-16T09:48:29.170808Z",
     "start_time": "2022-09-16T09:48:29.165781Z"
    }
   },
   "outputs": [
    {
     "data": {
      "text/plain": [
       "80"
      ]
     },
     "execution_count": 79,
     "metadata": {},
     "output_type": "execute_result"
    }
   ],
   "source": [
    "a = [[1, 2, 3, 4, 5], 5, 6]\n",
    "\n",
    "sys.getsizeof(a)"
   ]
  },
  {
   "cell_type": "code",
   "execution_count": 80,
   "id": "6dea5cf6",
   "metadata": {
    "ExecuteTime": {
     "end_time": "2022-09-16T09:48:32.073947Z",
     "start_time": "2022-09-16T09:48:32.068808Z"
    }
   },
   "outputs": [
    {
     "data": {
      "text/plain": [
       "96"
      ]
     },
     "execution_count": 80,
     "metadata": {},
     "output_type": "execute_result"
    }
   ],
   "source": [
    "sys.getsizeof(a[0])"
   ]
  },
  {
   "cell_type": "markdown",
   "id": "07772752",
   "metadata": {},
   "source": [
    "Посмотрим, сколько памяти у нас занимали list и array с числами"
   ]
  },
  {
   "cell_type": "code",
   "execution_count": 75,
   "id": "10005afd",
   "metadata": {
    "ExecuteTime": {
     "end_time": "2022-09-16T12:09:23.291280Z",
     "start_time": "2022-09-16T12:09:23.286139Z"
    }
   },
   "outputs": [
    {
     "data": {
      "text/plain": [
       "(80000056, 40000064)"
      ]
     },
     "execution_count": 75,
     "metadata": {},
     "output_type": "execute_result"
    }
   ],
   "source": [
    "sys.getsizeof(list_ints), sys.getsizeof(array_ints)"
   ]
  },
  {
   "cell_type": "markdown",
   "id": "c0e60ca8-b940-42f7-87b4-eacd43347ad2",
   "metadata": {},
   "source": [
    "## Простой бонус"
   ]
  },
  {
   "cell_type": "markdown",
   "id": "0f4b9217-5d04-4ed2-a785-2fe8dfd40ee8",
   "metadata": {},
   "source": [
    "### Проверка на палиндром"
   ]
  },
  {
   "cell_type": "markdown",
   "id": "f1356296-ab02-4448-bdcd-e53e9039f631",
   "metadata": {},
   "source": [
    "A phrase is a palindrome if, after converting all uppercase letters into lowercase letters and removing all non-alphanumeric characters, it reads the same forward and backward. Alphanumeric characters include letters and numbers.\n",
    "\n",
    "Given a string s, return true if it is a palindrome, or false otherwise."
   ]
  },
  {
   "cell_type": "markdown",
   "id": "8b31edac-1ea2-4b3e-9a6c-e4de01e7a988",
   "metadata": {},
   "source": [
    "Напишите функцию проверки, которая принимает в качестве параметра Iterable из предложений и возвращает результат в формате:\n",
    "`[index of example: is palindrome,...]`"
   ]
  },
  {
   "cell_type": "code",
   "execution_count": 1,
   "id": "f1e2bd65-772d-402a-9ee9-96cc8480d594",
   "metadata": {},
   "outputs": [],
   "source": [
    "tests = [\n",
    "    'A nut for a jar of tuna.',\n",
    "    'Borrow or rob?',\n",
    "    'Was it a car or a cat I saw?',\n",
    "    '''Dennis, Nell, Edna, Leon, Nedra, Anita,\n",
    "    Rolf, Nora, Alice, Carol, Leo, Jane, Reed,\n",
    "    Dena, Dale, Basil, Rae, Penny, Lana, Dave,\n",
    "    Denny, Lena, Ida, Bernadette, Ben, Ray, Lila,\n",
    "    Nina, Jo, Ira, Mara, Sara, Mario, Jan, Ina,\n",
    "    Lily, Arne, Bette, Dan, Reba, Diane, Lynn,\n",
    "    Ed, Eva, Dana, Lynne, Pearl, Isabel, Ada, Ned,\n",
    "    Dee, Rena, Joel, Lora, Cecil, Aaron, Flora,\n",
    "    Tina, Arden, Noel, and Ellen sinned.''',\n",
    "    'Murder for a jar of red rum.'\n",
    "]"
   ]
  },
  {
   "cell_type": "code",
   "execution_count": 84,
   "id": "ca495af9-37b7-409c-8cd4-5d146de4bbbd",
   "metadata": {
    "ExecuteTime": {
     "end_time": "2022-09-16T09:40:27.577414Z",
     "start_time": "2022-09-16T09:40:27.571665Z"
    }
   },
   "outputs": [],
   "source": [
    "from typing import Callable, Iterable\n",
    "\n",
    "\n",
    "def is_palindrome(s: str) -> bool:\n",
    "    # your code\n",
    "    pass\n",
    "\n",
    "def check_tests(pal_func: Callable, tests: Iterable[str]) -> list:\n",
    "    # your code\n",
    "    pass"
   ]
  },
  {
   "cell_type": "markdown",
   "id": "a00cab9b-2800-4115-a6c8-147650116b42",
   "metadata": {},
   "source": [
    "### Два числа с суммой N\n",
    "\n",
    "Пусть дан отсортированный список чисел [1, 2, 7 ...] и некоторое число N. Проверить, есть ли в нем 2 числа, которые в сумме дают N. Вывести такие пары чисел"
   ]
  },
  {
   "cell_type": "markdown",
   "id": "33adaf43-8a29-4ebc-8393-f0d5fbd96c18",
   "metadata": {},
   "source": [
    "### Три числа с суммой N"
   ]
  },
  {
   "cell_type": "markdown",
   "id": "cefccdb7-6ae0-46fb-b8b8-50e397f0cd09",
   "metadata": {},
   "source": [
    "Пусть дан отсортированный список чисел [10, 10, 15...] и некоторое число N. Проверить, есть ли в нем 3 числа, которые в сумме дают N. Вывести такие \"триплеты\" чисел\n",
    "\n",
    "- (* совсем опционально) Сможете ли вы вывести уникальные триплеты? А если считать уникальность по конкретному элементу, а не просто по его значению? Например, если нужно вывести триплеты с суммой 15 из массива [10, 10, 5, 0], ответ будет [(10, 5, 0), (10, 5, 0)], т.к. у нас есть две \"десятки\" "
   ]
  },
  {
   "cell_type": "code",
   "execution_count": null,
   "id": "f1ee1590-17fc-4ff3-81cf-b296e9bb8b91",
   "metadata": {},
   "outputs": [],
   "source": []
  }
 ],
 "metadata": {
  "kernelspec": {
   "display_name": "ml-env",
   "language": "python",
   "name": "ml-env"
  },
  "language_info": {
   "codemirror_mode": {
    "name": "ipython",
    "version": 3
   },
   "file_extension": ".py",
   "mimetype": "text/x-python",
   "name": "python",
   "nbconvert_exporter": "python",
   "pygments_lexer": "ipython3",
   "version": "3.8.13"
  },
  "toc": {
   "base_numbering": 1,
   "nav_menu": {},
   "number_sections": true,
   "sideBar": true,
   "skip_h1_title": false,
   "title_cell": "Table of Contents",
   "title_sidebar": "Contents",
   "toc_cell": false,
   "toc_position": {},
   "toc_section_display": true,
   "toc_window_display": true
  },
  "varInspector": {
   "cols": {
    "lenName": 16,
    "lenType": 16,
    "lenVar": 40
   },
   "kernels_config": {
    "python": {
     "delete_cmd_postfix": "",
     "delete_cmd_prefix": "del ",
     "library": "var_list.py",
     "varRefreshCmd": "print(var_dic_list())"
    },
    "r": {
     "delete_cmd_postfix": ") ",
     "delete_cmd_prefix": "rm(",
     "library": "var_list.r",
     "varRefreshCmd": "cat(var_dic_list()) "
    }
   },
   "types_to_exclude": [
    "module",
    "function",
    "builtin_function_or_method",
    "instance",
    "_Feature"
   ],
   "window_display": false
  }
 },
 "nbformat": 4,
 "nbformat_minor": 5
}
