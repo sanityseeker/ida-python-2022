{
 "cells": [
  {
   "cell_type": "markdown",
   "id": "8d91fd0f",
   "metadata": {},
   "source": [
    "**Решения бонусов со второго семинара**"
   ]
  },
  {
   "cell_type": "markdown",
   "id": "f6f9a72f",
   "metadata": {},
   "source": [
    "**3. Напишите функцию, которая:**\n",
    "\n",
    "   - получает на вход строку (возможно, небольшой текст) и стоп-слово\n",
    "    \n",
    "   - находит все индексы стоп-слова в строке\n",
    "    \n",
    "   - (*) в результате своей работы собирает новую строку, в которой нет стоп-слов\n",
    "   - (*) желательно написать удаление именно стопслова, когда оно не является частью другого слова"
   ]
  },
  {
   "cell_type": "markdown",
   "id": "fbe77900",
   "metadata": {
    "ExecuteTime": {
     "end_time": "2022-09-28T17:03:06.249229Z",
     "start_time": "2022-09-28T17:03:06.243508Z"
    }
   },
   "source": [
    "example:\n",
    "\n",
    "    s = 'here is my stopword stop it please stop'\n",
    "    stopword = 'stop'\n",
    "    \n",
    "output:\n",
    "    \n",
    "    20 24\n",
    "    35 39\n",
    "    'here is my stopword  it please '"
   ]
  },
  {
   "cell_type": "code",
   "execution_count": 1,
   "id": "f36abe38",
   "metadata": {
    "ExecuteTime": {
     "end_time": "2022-10-12T11:48:55.953638Z",
     "start_time": "2022-10-12T11:48:55.947601Z"
    }
   },
   "outputs": [],
   "source": [
    "def remove_stopword(s: str, stopword: str):\n",
    "    s = ' ' + s.lower() + ' '\n",
    "    i = 0\n",
    "    ind = []\n",
    "    new_s = ''\n",
    "\n",
    "    while s.find(stopword, i) != -1:\n",
    "        index = s.find(stopword, i)\n",
    "        if not (s[index + len(stopword)].isalpha() or s[index - 1].isalpha()):\n",
    "            ind.append((index - 1, index - 1 + len(stopword)))\n",
    "\n",
    "        i = index + len(stopword)\n",
    "\n",
    "    start_index = 0\n",
    "    if ind:\n",
    "        for index_pair in ind:\n",
    "            stop_begin, stop_end = index_pair\n",
    "            new_s += s[start_index + 1: stop_begin + 1]\n",
    "            start_index = stop_end\n",
    "\n",
    "        new_s += new_s[start_index:]\n",
    "    else:\n",
    "        new_s = s\n",
    "\n",
    "    return new_s, ind"
   ]
  },
  {
   "cell_type": "code",
   "execution_count": 2,
   "id": "a09fefd3",
   "metadata": {
    "ExecuteTime": {
     "end_time": "2022-10-12T11:48:57.649507Z",
     "start_time": "2022-10-12T11:48:57.637528Z"
    }
   },
   "outputs": [
    {
     "data": {
      "text/plain": [
       "('here is my stopword \"\" stopstop.  it please , please, ',\n",
       " [(21, 25), (37, 41), (52, 56), (66, 70)])"
      ]
     },
     "execution_count": 2,
     "metadata": {},
     "output_type": "execute_result"
    }
   ],
   "source": [
    "s = 'Here is my stopword \"stop\" stopstop. Stop it please stop, please, stop.'\n",
    "s_spaced = 'Here is my stopword stop stopstop Stop it please stop please stop'\n",
    "stopword = 'stop'\n",
    "\n",
    "remove_stopword(s, stopword)"
   ]
  },
  {
   "cell_type": "markdown",
   "id": "20524c23",
   "metadata": {},
   "source": [
    "   **4. Let the FUN begin**\n",
    "   \n",
    "   4.1 Сделайте преобразование  с использованием .format(). Но теперь в вашем решении не должно быть символов \"{}\""
   ]
  },
  {
   "cell_type": "code",
   "execution_count": 102,
   "id": "a41e79a4",
   "metadata": {
    "ExecuteTime": {
     "end_time": "2022-10-12T13:29:34.763331Z",
     "start_time": "2022-10-12T13:29:34.757581Z"
    }
   },
   "outputs": [],
   "source": [
    "bar = 'foo'"
   ]
  },
  {
   "cell_type": "code",
   "execution_count": 105,
   "id": "d4d1e25e",
   "metadata": {
    "ExecuteTime": {
     "end_time": "2022-10-12T13:31:06.533353Z",
     "start_time": "2022-10-12T13:31:06.527810Z"
    }
   },
   "outputs": [
    {
     "data": {
      "text/plain": [
       "'foo:foo'"
      ]
     },
     "execution_count": 105,
     "metadata": {},
     "output_type": "execute_result"
    }
   ],
   "source": [
    "(str(set([0,])) + ':' + str(set([0,]))).format(bar)"
   ]
  },
  {
   "cell_type": "markdown",
   "id": "ce0ab696",
   "metadata": {},
   "source": [
    "# Dicts"
   ]
  },
  {
   "cell_type": "markdown",
   "id": "bd126c63",
   "metadata": {},
   "source": [
    "## Creation"
   ]
  },
  {
   "cell_type": "code",
   "execution_count": 48,
   "id": "157e4657",
   "metadata": {
    "ExecuteTime": {
     "end_time": "2022-09-29T10:45:30.960391Z",
     "start_time": "2022-09-29T10:45:30.955621Z"
    }
   },
   "outputs": [
    {
     "name": "stdout",
     "output_type": "stream",
     "text": [
      "{} <class 'dict'>\n"
     ]
    }
   ],
   "source": [
    "some_empty_dict = dict()\n",
    "print(some_empty_dict, type(some_empty_dict))"
   ]
  },
  {
   "cell_type": "markdown",
   "id": "442dc1e0",
   "metadata": {},
   "source": [
    "### Simple example"
   ]
  },
  {
   "cell_type": "code",
   "execution_count": 1,
   "id": "cc2ce912",
   "metadata": {
    "ExecuteTime": {
     "end_time": "2022-10-12T13:38:24.062762Z",
     "start_time": "2022-10-12T13:38:24.051043Z"
    }
   },
   "outputs": [
    {
     "data": {
      "text/plain": [
       "{'name': 'Denis',\n",
       " 'year': 2015,\n",
       " 'core subjects': ('Statistics', 'Algorimthms'),\n",
       " 'optional subjects': ['Urban Studies', 'Basic Physics'],\n",
       " 42: 'always the answer',\n",
       " (42,): 'always the answer'}"
      ]
     },
     "execution_count": 1,
     "metadata": {},
     "output_type": "execute_result"
    }
   ],
   "source": [
    "student_card = {\n",
    "    'name': 'Denis',\n",
    "    'year': 2015,\n",
    "    'core subjects': ('Statistics', 'Algorimthms'),\n",
    "    'optional subjects': ['Urban Studies', 'Basic Physics'],\n",
    "    42: 'always the answer',\n",
    "    (42,): 'always the answer',\n",
    "}\n",
    "\n",
    "student_card"
   ]
  },
  {
   "cell_type": "code",
   "execution_count": 2,
   "id": "d62cd3c8",
   "metadata": {
    "ExecuteTime": {
     "end_time": "2022-10-12T13:38:25.198207Z",
     "start_time": "2022-10-12T13:38:25.192214Z"
    }
   },
   "outputs": [],
   "source": [
    "student_card['surname'] = 'Belyakov'"
   ]
  },
  {
   "cell_type": "code",
   "execution_count": 3,
   "id": "8c53b2d0",
   "metadata": {
    "ExecuteTime": {
     "end_time": "2022-10-12T13:38:25.639869Z",
     "start_time": "2022-10-12T13:38:25.630051Z"
    }
   },
   "outputs": [
    {
     "data": {
      "text/plain": [
       "{'name': 'Denis',\n",
       " 'year': 2015,\n",
       " 'core subjects': ('Statistics', 'Algorimthms'),\n",
       " 'optional subjects': ['Urban Studies', 'Basic Physics'],\n",
       " 42: 'always the answer',\n",
       " (42,): 'always the answer',\n",
       " 'surname': 'Belyakov'}"
      ]
     },
     "execution_count": 3,
     "metadata": {},
     "output_type": "execute_result"
    }
   ],
   "source": [
    "student_card"
   ]
  },
  {
   "cell_type": "markdown",
   "id": "8ec20b73",
   "metadata": {},
   "source": [
    "## Внутри"
   ]
  },
  {
   "cell_type": "markdown",
   "id": "0af4eb35",
   "metadata": {},
   "source": [
    "Ключ может быть только hashable"
   ]
  },
  {
   "cell_type": "markdown",
   "id": "f7c07457",
   "metadata": {},
   "source": [
    "    An object is hashable if it has a hash value which never changes during its lifetime (it\n",
    "    needs a __hash__() method), and can be compared to other objects (it needs an\n",
    "    __eq__() method). Hashable objects which compare equal must have the same hash\n",
    "    value. […]"
   ]
  },
  {
   "cell_type": "markdown",
   "id": "d4e8bd06",
   "metadata": {},
   "source": [
    "Данное требование существует, потому что внутри dict -- это *hash таблица*! \n",
    "\n",
    "huh?"
   ]
  },
  {
   "cell_type": "markdown",
   "id": "6e7627ef",
   "metadata": {},
   "source": [
    "Можно сказать, что dict -- это некий интерфейс, чтобы поддерживать базовые операции с массивом пар (key, value). Эффективность доступа произрастает из концепта хеш-функции. Эта функция применяется к входному ключу, чтобы расчитать индекс в упомянутом массиве, где и хранится значение\n",
    "\n",
    "Базовые операции:\n",
    "- Быстро найти элемент или проверить, что его нет\n",
    "- Добавить новый элемент\n",
    "- Удалить элемент"
   ]
  },
  {
   "cell_type": "markdown",
   "id": "44cac078",
   "metadata": {},
   "source": [
    "Операции доставания значения по ключу, добавления и проверки нахождения -- в среднем **O(1)**. \n",
    "\n",
    "` Может быть O(n), если у вас отвратительная хеш-функция `"
   ]
  },
  {
   "cell_type": "markdown",
   "id": "a6e29f62",
   "metadata": {},
   "source": [
    "![hashtable](https://upload.wikimedia.org/wikipedia/commons/thumb/7/7d/Hash_table_3_1_1_0_1_0_0_SP.svg/1200px-Hash_table_3_1_1_0_1_0_0_SP.svg.png)"
   ]
  },
  {
   "cell_type": "markdown",
   "id": "ee28ba00",
   "metadata": {},
   "source": [
    "Смелым можно почитать [реализацию](https://github.com/python/cpython/blob/main/Objects/dictobject.c#L144) и [статью](https://tenthousandmeters.com/blog/python-behind-the-scenes-10-how-python-dictionaries-work/)"
   ]
  },
  {
   "cell_type": "markdown",
   "id": "35680796",
   "metadata": {},
   "source": [
    "## Basic operations"
   ]
  },
  {
   "cell_type": "markdown",
   "id": "b1162add",
   "metadata": {},
   "source": [
    "### Get values"
   ]
  },
  {
   "cell_type": "code",
   "execution_count": 7,
   "id": "4e79e416",
   "metadata": {
    "ExecuteTime": {
     "end_time": "2022-10-12T13:38:47.693710Z",
     "start_time": "2022-10-12T13:38:47.688322Z"
    }
   },
   "outputs": [
    {
     "data": {
      "text/plain": [
       "'Denis'"
      ]
     },
     "execution_count": 7,
     "metadata": {},
     "output_type": "execute_result"
    }
   ],
   "source": [
    "student_card.get('name', 'key is not there')"
   ]
  },
  {
   "cell_type": "code",
   "execution_count": 8,
   "id": "5e5dd923",
   "metadata": {
    "ExecuteTime": {
     "end_time": "2022-10-12T13:38:48.222184Z",
     "start_time": "2022-10-12T13:38:48.209413Z"
    }
   },
   "outputs": [
    {
     "ename": "KeyError",
     "evalue": "'profession'",
     "output_type": "error",
     "traceback": [
      "\u001b[0;31m---------------------------------------------------------------------------\u001b[0m",
      "\u001b[0;31mKeyError\u001b[0m                                  Traceback (most recent call last)",
      "Cell \u001b[0;32mIn [8], line 1\u001b[0m\n\u001b[0;32m----> 1\u001b[0m student_card[\u001b[38;5;124m'\u001b[39m\u001b[38;5;124mprofession\u001b[39m\u001b[38;5;124m'\u001b[39m]\n",
      "\u001b[0;31mKeyError\u001b[0m: 'profession'"
     ]
    }
   ],
   "source": [
    "student_card['profession']"
   ]
  },
  {
   "cell_type": "code",
   "execution_count": 9,
   "id": "757513f1",
   "metadata": {
    "ExecuteTime": {
     "end_time": "2022-10-12T13:38:51.175802Z",
     "start_time": "2022-10-12T13:38:51.170113Z"
    }
   },
   "outputs": [
    {
     "data": {
      "text/plain": [
       "'key is not there'"
      ]
     },
     "execution_count": 9,
     "metadata": {},
     "output_type": "execute_result"
    }
   ],
   "source": [
    "student_card.get('profession', 'key is not there')"
   ]
  },
  {
   "cell_type": "markdown",
   "id": "710869ba",
   "metadata": {},
   "source": [
    "### Add values"
   ]
  },
  {
   "cell_type": "code",
   "execution_count": 5,
   "id": "11eeda6f",
   "metadata": {
    "ExecuteTime": {
     "end_time": "2022-10-12T12:43:47.328185Z",
     "start_time": "2022-10-12T12:43:47.322050Z"
    }
   },
   "outputs": [],
   "source": [
    "some_empty_dict['key'] = 42"
   ]
  },
  {
   "cell_type": "code",
   "execution_count": 6,
   "id": "1321851f",
   "metadata": {
    "ExecuteTime": {
     "end_time": "2022-10-12T12:43:54.196584Z",
     "start_time": "2022-10-12T12:43:54.188004Z"
    }
   },
   "outputs": [
    {
     "data": {
      "text/plain": [
       "7026967759832483157"
      ]
     },
     "execution_count": 6,
     "metadata": {},
     "output_type": "execute_result"
    }
   ],
   "source": [
    "hash('key')"
   ]
  },
  {
   "cell_type": "code",
   "execution_count": 7,
   "id": "fbf3e519",
   "metadata": {
    "ExecuteTime": {
     "end_time": "2022-10-12T12:44:10.433969Z",
     "start_time": "2022-10-12T12:44:10.427294Z"
    }
   },
   "outputs": [],
   "source": [
    "some_empty_dict[(1, 2, 3,)] = 43"
   ]
  },
  {
   "cell_type": "code",
   "execution_count": 8,
   "id": "8ac46621",
   "metadata": {
    "ExecuteTime": {
     "end_time": "2022-10-12T12:44:14.504156Z",
     "start_time": "2022-10-12T12:44:14.498882Z"
    }
   },
   "outputs": [
    {
     "data": {
      "text/plain": [
       "{'key': 42, (1, 2, 3): 43}"
      ]
     },
     "execution_count": 8,
     "metadata": {},
     "output_type": "execute_result"
    }
   ],
   "source": [
    "some_empty_dict"
   ]
  },
  {
   "cell_type": "code",
   "execution_count": 9,
   "id": "3cfb277c",
   "metadata": {
    "ExecuteTime": {
     "end_time": "2022-10-12T12:44:25.034749Z",
     "start_time": "2022-10-12T12:44:25.029511Z"
    }
   },
   "outputs": [
    {
     "data": {
      "text/plain": [
       "529344067295497451"
      ]
     },
     "execution_count": 9,
     "metadata": {},
     "output_type": "execute_result"
    }
   ],
   "source": [
    "hash((1, 2, 3,))"
   ]
  },
  {
   "cell_type": "code",
   "execution_count": 10,
   "id": "e9a0a468",
   "metadata": {
    "ExecuteTime": {
     "end_time": "2022-10-12T12:44:49.559035Z",
     "start_time": "2022-10-12T12:44:49.326208Z"
    }
   },
   "outputs": [
    {
     "ename": "TypeError",
     "evalue": "unhashable type: 'list'",
     "output_type": "error",
     "traceback": [
      "\u001b[0;31m---------------------------------------------------------------------------\u001b[0m",
      "\u001b[0;31mTypeError\u001b[0m                                 Traceback (most recent call last)",
      "Cell \u001b[0;32mIn [10], line 1\u001b[0m\n\u001b[0;32m----> 1\u001b[0m \u001b[38;5;28mhash\u001b[39m([\u001b[38;5;241m1\u001b[39m, \u001b[38;5;241m2\u001b[39m, \u001b[38;5;241m3\u001b[39m,])\n",
      "\u001b[0;31mTypeError\u001b[0m: unhashable type: 'list'"
     ]
    }
   ],
   "source": [
    "hash([1, 2, 3,])"
   ]
  },
  {
   "cell_type": "code",
   "execution_count": 11,
   "id": "4e1ec068",
   "metadata": {
    "ExecuteTime": {
     "end_time": "2022-10-12T12:45:05.266156Z",
     "start_time": "2022-10-12T12:45:05.248981Z"
    }
   },
   "outputs": [
    {
     "ename": "TypeError",
     "evalue": "unhashable type: 'list'",
     "output_type": "error",
     "traceback": [
      "\u001b[0;31m---------------------------------------------------------------------------\u001b[0m",
      "\u001b[0;31mTypeError\u001b[0m                                 Traceback (most recent call last)",
      "Cell \u001b[0;32mIn [11], line 1\u001b[0m\n\u001b[0;32m----> 1\u001b[0m some_empty_dict[[\u001b[38;5;241m1\u001b[39m, \u001b[38;5;241m2\u001b[39m, \u001b[38;5;241m3\u001b[39m,]] \u001b[38;5;241m=\u001b[39m \u001b[38;5;241m43\u001b[39m\n",
      "\u001b[0;31mTypeError\u001b[0m: unhashable type: 'list'"
     ]
    }
   ],
   "source": [
    "some_empty_dict[[1, 2, 3,]] = 43"
   ]
  },
  {
   "cell_type": "markdown",
   "id": "bf6ecbe7",
   "metadata": {},
   "source": [
    "**Можем объявить через Iterable от пар**"
   ]
  },
  {
   "cell_type": "code",
   "execution_count": 14,
   "id": "1bbc1318",
   "metadata": {
    "ExecuteTime": {
     "end_time": "2022-10-12T12:35:31.995231Z",
     "start_time": "2022-10-12T12:35:30.108941Z"
    }
   },
   "outputs": [
    {
     "name": "stdout",
     "output_type": "stream",
     "text": [
      "269 µs ± 3.4 µs per loop (mean ± std. dev. of 7 runs, 1,000 loops each)\n"
     ]
    }
   ],
   "source": [
    "%%timeit -n 1000\n",
    "a = dict(enumerate(range(10000), start=100500))"
   ]
  },
  {
   "cell_type": "code",
   "execution_count": 13,
   "id": "2380f43c",
   "metadata": {
    "ExecuteTime": {
     "end_time": "2022-10-12T12:35:24.929495Z",
     "start_time": "2022-10-12T12:35:22.396586Z"
    }
   },
   "outputs": [
    {
     "name": "stdout",
     "output_type": "stream",
     "text": [
      "361 µs ± 2.17 µs per loop (mean ± std. dev. of 7 runs, 1,000 loops each)\n"
     ]
    }
   ],
   "source": [
    "%%timeit -n 1000\n",
    "b = {k: v for k, v in enumerate(range(10000), start=100500)}"
   ]
  },
  {
   "cell_type": "markdown",
   "id": "2e0b6efa",
   "metadata": {},
   "source": [
    "### Remove values"
   ]
  },
  {
   "cell_type": "code",
   "execution_count": 57,
   "id": "b7825737",
   "metadata": {
    "ExecuteTime": {
     "end_time": "2022-09-29T10:52:36.577905Z",
     "start_time": "2022-09-29T10:52:36.572474Z"
    }
   },
   "outputs": [
    {
     "data": {
      "text/plain": [
       "'always the answer'"
      ]
     },
     "execution_count": 57,
     "metadata": {},
     "output_type": "execute_result"
    }
   ],
   "source": [
    "student_card.pop((42,))"
   ]
  },
  {
   "cell_type": "code",
   "execution_count": 58,
   "id": "b3681e1d",
   "metadata": {
    "ExecuteTime": {
     "end_time": "2022-09-29T10:52:40.384217Z",
     "start_time": "2022-09-29T10:52:40.374694Z"
    }
   },
   "outputs": [
    {
     "data": {
      "text/plain": [
       "{'name': 'Denis',\n",
       " 'year': 2015,\n",
       " 'core subjects': ('Statistics', 'Algorimthms'),\n",
       " 'optional subjects': ['Urban Studies', 'Basic Physics'],\n",
       " 42: 'always the answer',\n",
       " 'surname': 'Belyakov'}"
      ]
     },
     "execution_count": 58,
     "metadata": {},
     "output_type": "execute_result"
    }
   ],
   "source": [
    "student_card"
   ]
  },
  {
   "cell_type": "markdown",
   "id": "00c71455",
   "metadata": {},
   "source": [
    "### Update with many `key:value` pairs"
   ]
  },
  {
   "cell_type": "code",
   "execution_count": 61,
   "id": "8a038738",
   "metadata": {
    "ExecuteTime": {
     "end_time": "2022-09-29T10:53:10.637785Z",
     "start_time": "2022-09-29T10:53:10.633331Z"
    }
   },
   "outputs": [],
   "source": [
    "student_card.update({'name': 1, 'b': 2})"
   ]
  },
  {
   "cell_type": "code",
   "execution_count": 62,
   "id": "c33f67e2",
   "metadata": {
    "ExecuteTime": {
     "end_time": "2022-09-29T10:53:11.149492Z",
     "start_time": "2022-09-29T10:53:11.144024Z"
    }
   },
   "outputs": [
    {
     "data": {
      "text/plain": [
       "{'name': 1,\n",
       " 'year': 2015,\n",
       " 'core subjects': ('Statistics', 'Algorimthms'),\n",
       " 'optional subjects': ['Urban Studies', 'Basic Physics'],\n",
       " 42: 'always the answer',\n",
       " 'surname': 'Belyakov',\n",
       " 'a': 1,\n",
       " 'b': 2}"
      ]
     },
     "execution_count": 62,
     "metadata": {},
     "output_type": "execute_result"
    }
   ],
   "source": [
    "student_card"
   ]
  },
  {
   "cell_type": "markdown",
   "id": "fcdd6263",
   "metadata": {},
   "source": [
    "### Iterate over"
   ]
  },
  {
   "cell_type": "code",
   "execution_count": 63,
   "id": "0fbb7ccd",
   "metadata": {
    "ExecuteTime": {
     "end_time": "2022-09-29T10:53:34.565055Z",
     "start_time": "2022-09-29T10:53:34.557961Z"
    }
   },
   "outputs": [
    {
     "name": "stdout",
     "output_type": "stream",
     "text": [
      "name\n",
      "year\n",
      "core subjects\n",
      "optional subjects\n",
      "42\n",
      "surname\n",
      "a\n",
      "b\n"
     ]
    }
   ],
   "source": [
    "for key in student_card:\n",
    "    print(key)"
   ]
  },
  {
   "cell_type": "code",
   "execution_count": 64,
   "id": "a517d82f",
   "metadata": {
    "ExecuteTime": {
     "end_time": "2022-09-29T10:53:45.237922Z",
     "start_time": "2022-09-29T10:53:45.233125Z"
    }
   },
   "outputs": [
    {
     "name": "stdout",
     "output_type": "stream",
     "text": [
      "name 1\n",
      "year 2015\n",
      "core subjects ('Statistics', 'Algorimthms')\n",
      "optional subjects ['Urban Studies', 'Basic Physics']\n",
      "42 always the answer\n",
      "surname Belyakov\n",
      "a 1\n",
      "b 2\n"
     ]
    }
   ],
   "source": [
    "for key, value in student_card.items():\n",
    "    print(key, value)"
   ]
  },
  {
   "cell_type": "code",
   "execution_count": 65,
   "id": "9bd592b0",
   "metadata": {
    "ExecuteTime": {
     "end_time": "2022-09-29T10:53:48.017634Z",
     "start_time": "2022-09-29T10:53:48.012746Z"
    }
   },
   "outputs": [
    {
     "data": {
      "text/plain": [
       "dict_values([1, 2015, ('Statistics', 'Algorimthms'), ['Urban Studies', 'Basic Physics'], 'always the answer', 'Belyakov', 1, 2])"
      ]
     },
     "execution_count": 65,
     "metadata": {},
     "output_type": "execute_result"
    }
   ],
   "source": [
    "student_card.values()"
   ]
  },
  {
   "cell_type": "markdown",
   "id": "c8f8a6b5",
   "metadata": {},
   "source": [
    "### clear"
   ]
  },
  {
   "cell_type": "code",
   "execution_count": 66,
   "id": "a37529b2",
   "metadata": {
    "ExecuteTime": {
     "end_time": "2022-09-29T10:53:53.687218Z",
     "start_time": "2022-09-29T10:53:53.681441Z"
    }
   },
   "outputs": [],
   "source": [
    "student_card.clear()"
   ]
  },
  {
   "cell_type": "code",
   "execution_count": 67,
   "id": "bc082cf8",
   "metadata": {
    "ExecuteTime": {
     "end_time": "2022-09-29T10:53:55.497666Z",
     "start_time": "2022-09-29T10:53:55.492440Z"
    }
   },
   "outputs": [
    {
     "data": {
      "text/plain": [
       "{}"
      ]
     },
     "execution_count": 67,
     "metadata": {},
     "output_type": "execute_result"
    }
   ],
   "source": [
    "student_card"
   ]
  },
  {
   "cell_type": "markdown",
   "id": "9e2dd433",
   "metadata": {},
   "source": [
    "## Sample task\n",
    "\n",
    "### Let's count unique symbols in a string!"
   ]
  },
  {
   "cell_type": "markdown",
   "id": "fd9085b7",
   "metadata": {},
   "source": [
    "**dict**"
   ]
  },
  {
   "cell_type": "code",
   "execution_count": 37,
   "id": "de0f8733",
   "metadata": {
    "ExecuteTime": {
     "end_time": "2022-10-12T12:17:35.869413Z",
     "start_time": "2022-10-12T12:17:35.863199Z"
    }
   },
   "outputs": [],
   "source": [
    "sample_string = 'Eddie Ate Dynamite, GoodBye Eddie'"
   ]
  },
  {
   "cell_type": "code",
   "execution_count": 65,
   "id": "84901775",
   "metadata": {
    "ExecuteTime": {
     "end_time": "2022-10-12T12:25:06.474520Z",
     "start_time": "2022-10-12T12:25:06.469947Z"
    }
   },
   "outputs": [],
   "source": [
    "symbols = {}\n",
    "\n",
    "for elem in sample_string.lower():\n",
    "    if elem in symbols:\n",
    "        symbols[elem] += 1\n",
    "    else:\n",
    "        symbols[elem] = 1"
   ]
  },
  {
   "cell_type": "code",
   "execution_count": 66,
   "id": "11f442c5",
   "metadata": {
    "ExecuteTime": {
     "end_time": "2022-10-12T12:25:06.842049Z",
     "start_time": "2022-10-12T12:25:06.832055Z"
    }
   },
   "outputs": [
    {
     "data": {
      "text/plain": [
       "{'e': 7,\n",
       " 'd': 6,\n",
       " 'i': 3,\n",
       " ' ': 4,\n",
       " 'a': 2,\n",
       " 't': 2,\n",
       " 'y': 2,\n",
       " 'n': 1,\n",
       " 'm': 1,\n",
       " ',': 1,\n",
       " 'g': 1,\n",
       " 'o': 2,\n",
       " 'b': 1}"
      ]
     },
     "execution_count": 66,
     "metadata": {},
     "output_type": "execute_result"
    }
   ],
   "source": [
    "symbols"
   ]
  },
  {
   "cell_type": "markdown",
   "id": "b14d2d63",
   "metadata": {},
   "source": [
    "**defaultdict**"
   ]
  },
  {
   "cell_type": "code",
   "execution_count": 67,
   "id": "0ead69c2",
   "metadata": {
    "ExecuteTime": {
     "end_time": "2022-10-12T12:25:18.765113Z",
     "start_time": "2022-10-12T12:25:18.759026Z"
    }
   },
   "outputs": [],
   "source": [
    "from collections import defaultdict"
   ]
  },
  {
   "cell_type": "code",
   "execution_count": 68,
   "id": "496efeb0",
   "metadata": {
    "ExecuteTime": {
     "end_time": "2022-10-12T12:25:19.981631Z",
     "start_time": "2022-10-12T12:25:19.977143Z"
    }
   },
   "outputs": [],
   "source": [
    "symbols = defaultdict(int)\n",
    "\n",
    "for elem in sample_string.lower():\n",
    "    symbols[elem] += 1"
   ]
  },
  {
   "cell_type": "code",
   "execution_count": 70,
   "id": "6046697b",
   "metadata": {
    "ExecuteTime": {
     "end_time": "2022-10-12T12:25:34.464511Z",
     "start_time": "2022-10-12T12:25:34.458662Z"
    }
   },
   "outputs": [
    {
     "data": {
      "text/plain": [
       "defaultdict(int,\n",
       "            {'e': 7,\n",
       "             'd': 6,\n",
       "             'i': 3,\n",
       "             ' ': 4,\n",
       "             'a': 2,\n",
       "             't': 2,\n",
       "             'y': 2,\n",
       "             'n': 1,\n",
       "             'm': 1,\n",
       "             ',': 1,\n",
       "             'g': 1,\n",
       "             'o': 2,\n",
       "             'b': 1})"
      ]
     },
     "execution_count": 70,
     "metadata": {},
     "output_type": "execute_result"
    }
   ],
   "source": [
    "symbols"
   ]
  },
  {
   "cell_type": "markdown",
   "id": "c2831baf",
   "metadata": {},
   "source": [
    "**Counter**"
   ]
  },
  {
   "cell_type": "code",
   "execution_count": 72,
   "id": "dfa53ac5",
   "metadata": {
    "ExecuteTime": {
     "end_time": "2022-10-12T12:25:49.908906Z",
     "start_time": "2022-10-12T12:25:49.902747Z"
    }
   },
   "outputs": [],
   "source": [
    "from collections import Counter"
   ]
  },
  {
   "cell_type": "code",
   "execution_count": 75,
   "id": "4fc9f95f",
   "metadata": {
    "ExecuteTime": {
     "end_time": "2022-10-12T12:26:41.069608Z",
     "start_time": "2022-10-12T12:26:41.063068Z"
    }
   },
   "outputs": [],
   "source": [
    "cnts = Counter(sample_string.lower())"
   ]
  },
  {
   "cell_type": "code",
   "execution_count": 83,
   "id": "78daf1ad",
   "metadata": {
    "ExecuteTime": {
     "end_time": "2022-10-12T12:27:52.472422Z",
     "start_time": "2022-10-12T12:27:52.466190Z"
    }
   },
   "outputs": [
    {
     "data": {
      "text/plain": [
       "('e', 7)"
      ]
     },
     "execution_count": 83,
     "metadata": {},
     "output_type": "execute_result"
    }
   ],
   "source": [
    "most_common_key, most_common_value = cnts.most_common(1)[0]\n",
    "most_common_key, most_common_value"
   ]
  },
  {
   "cell_type": "markdown",
   "id": "d7606d08",
   "metadata": {},
   "source": [
    "## Про пространство имен"
   ]
  },
  {
   "cell_type": "markdown",
   "id": "d62f2fd3",
   "metadata": {},
   "source": [
    "Развенчание мифов...\n",
    "\n",
    "(лучше перезапустить jupyter/restart kernel для наглядности)"
   ]
  },
  {
   "cell_type": "code",
   "execution_count": 2,
   "id": "24a6136c",
   "metadata": {
    "ExecuteTime": {
     "end_time": "2022-10-12T12:38:21.593411Z",
     "start_time": "2022-10-12T12:38:21.586970Z"
    }
   },
   "outputs": [
    {
     "data": {
      "text/plain": [
       "{'__name__': '__main__',\n",
       " '__doc__': 'Automatically created module for IPython interactive environment',\n",
       " '__package__': None,\n",
       " '__loader__': None,\n",
       " '__spec__': None,\n",
       " '__builtin__': <module 'builtins' (built-in)>,\n",
       " '__builtins__': <module 'builtins' (built-in)>,\n",
       " '_ih': ['', 'globals()', 'globals()'],\n",
       " '_oh': {1: {...}},\n",
       " '_dh': [PosixPath('/home/sanityseeker/Documents/Projects/ida-python-2022')],\n",
       " 'In': ['', 'globals()', 'globals()'],\n",
       " 'Out': {1: {...}},\n",
       " 'get_ipython': <function IPython.core.getipython.get_ipython()>,\n",
       " 'exit': <IPython.core.autocall.ZMQExitAutocall at 0x7f15785a9220>,\n",
       " 'quit': <IPython.core.autocall.ZMQExitAutocall at 0x7f15785a9220>,\n",
       " '_': {...},\n",
       " '__': '',\n",
       " '___': '',\n",
       " 'json': <module 'json' from '/home/sanityseeker/anaconda3/lib/python3.9/json/__init__.py'>,\n",
       " 'autopep8': <module 'autopep8' from '/home/sanityseeker/anaconda3/lib/python3.9/site-packages/autopep8.py'>,\n",
       " 'getsizeof': <function sys.getsizeof>,\n",
       " 'NamespaceMagics': IPython.core.magics.namespace.NamespaceMagics,\n",
       " '_nms': <IPython.core.magics.namespace.NamespaceMagics at 0x7f157adeffd0>,\n",
       " '_Jupyter': <ipykernel.zmqshell.ZMQInteractiveShell at 0x7f157ae18550>,\n",
       " 'np': <module 'numpy' from '/home/sanityseeker/anaconda3/lib/python3.9/site-packages/numpy/__init__.py'>,\n",
       " '_getsizeof': <function __main__._getsizeof(x)>,\n",
       " '_getshapeof': <function __main__._getshapeof(x)>,\n",
       " 'var_dic_list': <function __main__.var_dic_list()>,\n",
       " '_i': 'globals()',\n",
       " '_ii': '',\n",
       " '_iii': '',\n",
       " '_i1': 'globals()',\n",
       " '_1': {...},\n",
       " '_i2': 'globals()'}"
      ]
     },
     "execution_count": 2,
     "metadata": {},
     "output_type": "execute_result"
    }
   ],
   "source": [
    "globals()"
   ]
  },
  {
   "cell_type": "code",
   "execution_count": 3,
   "id": "21c4ab17",
   "metadata": {
    "ExecuteTime": {
     "end_time": "2022-10-12T12:38:44.802584Z",
     "start_time": "2022-10-12T12:38:44.796881Z"
    }
   },
   "outputs": [],
   "source": [
    "ans = 42"
   ]
  },
  {
   "cell_type": "code",
   "execution_count": 5,
   "id": "75ac3e16",
   "metadata": {
    "ExecuteTime": {
     "end_time": "2022-10-12T12:39:02.042034Z",
     "start_time": "2022-10-12T12:39:02.036857Z"
    }
   },
   "outputs": [
    {
     "data": {
      "text/plain": [
       "42"
      ]
     },
     "execution_count": 5,
     "metadata": {},
     "output_type": "execute_result"
    }
   ],
   "source": [
    "globals()['ans']"
   ]
  },
  {
   "cell_type": "code",
   "execution_count": 6,
   "id": "bd6e13a3",
   "metadata": {
    "ExecuteTime": {
     "end_time": "2022-10-12T12:39:09.235295Z",
     "start_time": "2022-10-12T12:39:09.229283Z"
    }
   },
   "outputs": [],
   "source": [
    "globals()['ans'] = 43"
   ]
  },
  {
   "cell_type": "code",
   "execution_count": 7,
   "id": "b7457a1c",
   "metadata": {
    "ExecuteTime": {
     "end_time": "2022-10-12T12:39:12.225470Z",
     "start_time": "2022-10-12T12:39:12.216877Z"
    }
   },
   "outputs": [
    {
     "data": {
      "text/plain": [
       "43"
      ]
     },
     "execution_count": 7,
     "metadata": {},
     "output_type": "execute_result"
    }
   ],
   "source": [
    "ans"
   ]
  },
  {
   "cell_type": "code",
   "execution_count": 8,
   "id": "8ebb7bbe",
   "metadata": {
    "ExecuteTime": {
     "end_time": "2022-10-12T12:39:32.085045Z",
     "start_time": "2022-10-12T12:39:32.078603Z"
    }
   },
   "outputs": [],
   "source": [
    "globals()['ans_true'] = 42"
   ]
  },
  {
   "cell_type": "code",
   "execution_count": 9,
   "id": "e898289e",
   "metadata": {
    "ExecuteTime": {
     "end_time": "2022-10-12T12:39:35.693527Z",
     "start_time": "2022-10-12T12:39:35.688238Z"
    }
   },
   "outputs": [
    {
     "data": {
      "text/plain": [
       "42"
      ]
     },
     "execution_count": 9,
     "metadata": {},
     "output_type": "execute_result"
    }
   ],
   "source": [
    "ans_true"
   ]
  },
  {
   "cell_type": "code",
   "execution_count": 10,
   "id": "7c175c50",
   "metadata": {
    "ExecuteTime": {
     "end_time": "2022-10-12T12:41:03.263976Z",
     "start_time": "2022-10-12T12:41:03.257647Z"
    }
   },
   "outputs": [],
   "source": [
    "globals()['autopep8'] = None  # поломали работу моего загруженного форматтера кода "
   ]
  },
  {
   "cell_type": "markdown",
   "id": "d1101d46",
   "metadata": {},
   "source": [
    "# Sets"
   ]
  },
  {
   "cell_type": "markdown",
   "id": "f237c19c",
   "metadata": {},
   "source": [
    "## Коллекция уникальных объектов"
   ]
  },
  {
   "cell_type": "code",
   "execution_count": 15,
   "id": "3050d765",
   "metadata": {
    "ExecuteTime": {
     "end_time": "2022-10-12T12:47:23.842326Z",
     "start_time": "2022-10-12T12:47:23.836262Z"
    }
   },
   "outputs": [
    {
     "data": {
      "text/plain": [
       "{'one', 'two'}"
      ]
     },
     "execution_count": 15,
     "metadata": {},
     "output_type": "execute_result"
    }
   ],
   "source": [
    "a = ['one', 'two', 'two', 'one']\n",
    "set(a)"
   ]
  },
  {
   "cell_type": "markdown",
   "id": "6354a3c1",
   "metadata": {},
   "source": [
    "set -- mutable, frozenset -- immutable"
   ]
  },
  {
   "cell_type": "code",
   "execution_count": 31,
   "id": "3de613e7",
   "metadata": {
    "ExecuteTime": {
     "end_time": "2022-10-12T12:50:26.126791Z",
     "start_time": "2022-10-12T12:50:26.120183Z"
    }
   },
   "outputs": [],
   "source": [
    "first_set = {1, 2, 3, 4, 5, 6}\n",
    "second_set = {4, 5, 6, 7, 8, 9, 19}"
   ]
  },
  {
   "cell_type": "code",
   "execution_count": 32,
   "id": "3f04a1d8",
   "metadata": {
    "ExecuteTime": {
     "end_time": "2022-10-12T12:50:27.200266Z",
     "start_time": "2022-10-12T12:50:27.195028Z"
    }
   },
   "outputs": [
    {
     "data": {
      "text/plain": [
       "({1, 2, 3, 4, 5, 6, 7, 8, 9, 19}, {1, 2, 3, 4, 5, 6, 7, 8, 9, 19})"
      ]
     },
     "execution_count": 32,
     "metadata": {},
     "output_type": "execute_result"
    }
   ],
   "source": [
    "first_set | second_set, first_set.union(second_set)"
   ]
  },
  {
   "cell_type": "code",
   "execution_count": 33,
   "id": "029c0fb6",
   "metadata": {
    "ExecuteTime": {
     "end_time": "2022-10-12T12:50:27.424694Z",
     "start_time": "2022-10-12T12:50:27.414506Z"
    }
   },
   "outputs": [
    {
     "data": {
      "text/plain": [
       "({4, 5, 6}, {4, 5, 6})"
      ]
     },
     "execution_count": 33,
     "metadata": {},
     "output_type": "execute_result"
    }
   ],
   "source": [
    "first_set & second_set, first_set.intersection(second_set)"
   ]
  },
  {
   "cell_type": "code",
   "execution_count": 35,
   "id": "e9d83bcd",
   "metadata": {
    "ExecuteTime": {
     "end_time": "2022-10-12T12:50:57.460385Z",
     "start_time": "2022-10-12T12:50:57.455473Z"
    }
   },
   "outputs": [
    {
     "data": {
      "text/plain": [
       "({1, 2, 3}, {7, 8, 9, 19})"
      ]
     },
     "execution_count": 35,
     "metadata": {},
     "output_type": "execute_result"
    }
   ],
   "source": [
    "first_set - second_set, second_set - first_set"
   ]
  },
  {
   "cell_type": "code",
   "execution_count": 36,
   "id": "82cbca62",
   "metadata": {
    "ExecuteTime": {
     "end_time": "2022-10-12T12:51:07.504531Z",
     "start_time": "2022-10-12T12:51:07.499255Z"
    }
   },
   "outputs": [
    {
     "data": {
      "text/plain": [
       "{1, 2, 3, 7, 8, 9, 19}"
      ]
     },
     "execution_count": 36,
     "metadata": {},
     "output_type": "execute_result"
    }
   ],
   "source": [
    "first_set ^ second_set"
   ]
  },
  {
   "cell_type": "markdown",
   "id": "7eec30ac",
   "metadata": {},
   "source": [
    "## Пример\n",
    "\n",
    "Внутри хеш-таблица, что дает нам операцию проверки вхождения за O(1) при хорошей хеш-функции"
   ]
  },
  {
   "cell_type": "code",
   "execution_count": 37,
   "id": "dea35448",
   "metadata": {
    "ExecuteTime": {
     "end_time": "2022-10-12T12:51:58.382945Z",
     "start_time": "2022-10-12T12:51:58.376858Z"
    }
   },
   "outputs": [],
   "source": [
    "import random"
   ]
  },
  {
   "cell_type": "code",
   "execution_count": 50,
   "id": "7d52024b",
   "metadata": {
    "ExecuteTime": {
     "end_time": "2022-10-12T12:55:18.464226Z",
     "start_time": "2022-10-12T12:55:18.457692Z"
    }
   },
   "outputs": [],
   "source": [
    "bad_values = set([random.randint(1, 10000) for i in range(1000)])"
   ]
  },
  {
   "cell_type": "code",
   "execution_count": 51,
   "id": "3ec4ce04",
   "metadata": {
    "ExecuteTime": {
     "end_time": "2022-10-12T12:55:18.956196Z",
     "start_time": "2022-10-12T12:55:18.939281Z"
    }
   },
   "outputs": [
    {
     "name": "stdout",
     "output_type": "stream",
     "text": [
      "CPU times: user 12.2 ms, sys: 0 ns, total: 12.2 ms\n",
      "Wall time: 11.9 ms\n"
     ]
    }
   ],
   "source": [
    "%%time\n",
    "filtered_values = []\n",
    "\n",
    "for i in range(100000):\n",
    "    if i not in bad_values:\n",
    "        filtered_values.append(i)"
   ]
  },
  {
   "cell_type": "code",
   "execution_count": 52,
   "id": "2fe04c02",
   "metadata": {
    "ExecuteTime": {
     "end_time": "2022-10-12T12:55:21.833768Z",
     "start_time": "2022-10-12T12:55:21.828535Z"
    }
   },
   "outputs": [],
   "source": [
    "bad_values = [random.randint(1, 10000) for i in range(1000)]"
   ]
  },
  {
   "cell_type": "code",
   "execution_count": 53,
   "id": "0a179666",
   "metadata": {
    "ExecuteTime": {
     "end_time": "2022-10-12T12:55:22.818470Z",
     "start_time": "2022-10-12T12:55:22.487668Z"
    }
   },
   "outputs": [
    {
     "name": "stdout",
     "output_type": "stream",
     "text": [
      "CPU times: user 328 ms, sys: 0 ns, total: 328 ms\n",
      "Wall time: 326 ms\n"
     ]
    }
   ],
   "source": [
    "%%time\n",
    "filtered_values = []\n",
    "\n",
    "for i in range(100000):\n",
    "    if i not in bad_values:\n",
    "        filtered_values.append(i)"
   ]
  },
  {
   "cell_type": "markdown",
   "id": "e4ad6209",
   "metadata": {},
   "source": [
    "Видим, насколько это быстрее использования списков для аналогичных целей"
   ]
  },
  {
   "cell_type": "markdown",
   "id": "7b2efcad",
   "metadata": {},
   "source": [
    "## Общие элементы двух списков (однострочник)"
   ]
  },
  {
   "cell_type": "markdown",
   "id": "968f0085",
   "metadata": {},
   "source": [
    "Даны списки a и b. Вывести общие элементы в них"
   ]
  },
  {
   "cell_type": "code",
   "execution_count": 38,
   "id": "b0811123",
   "metadata": {
    "ExecuteTime": {
     "end_time": "2022-09-30T08:58:46.281098Z",
     "start_time": "2022-09-30T08:58:46.274985Z"
    }
   },
   "outputs": [
    {
     "data": {
      "text/plain": [
       "({4, 7}, {4, 7})"
      ]
     },
     "execution_count": 38,
     "metadata": {},
     "output_type": "execute_result"
    }
   ],
   "source": [
    "a = [1, 2, 3, 4, 7, 8, 9, 7, 7]\n",
    "b = [5, 4, 6, 7, 10, 11, 12, 7, 7]\n",
    "\n",
    "# your code\n",
    "set(a).intersection(set(b)), set(a) & set(b)"
   ]
  },
  {
   "cell_type": "code",
   "execution_count": 42,
   "id": "f1f962be",
   "metadata": {
    "ExecuteTime": {
     "end_time": "2022-09-30T09:03:23.258816Z",
     "start_time": "2022-09-30T09:03:23.253308Z"
    }
   },
   "outputs": [
    {
     "data": {
      "text/plain": [
       "Counter({4: 1, 7: 3})"
      ]
     },
     "execution_count": 42,
     "metadata": {},
     "output_type": "execute_result"
    }
   ],
   "source": [
    "Counter(a) & Counter(b)"
   ]
  },
  {
   "cell_type": "markdown",
   "id": "d8fafb74",
   "metadata": {},
   "source": [
    "Задачка. \n",
    "\n",
    "## Дедуплицируем список с сохранением порядка"
   ]
  },
  {
   "cell_type": "code",
   "execution_count": 82,
   "id": "02cef8c9",
   "metadata": {
    "ExecuteTime": {
     "end_time": "2022-10-12T13:06:29.746589Z",
     "start_time": "2022-10-12T13:06:29.697782Z"
    }
   },
   "outputs": [],
   "source": [
    "a = [random.randint(1, 1000) for i in range(100000)]"
   ]
  },
  {
   "cell_type": "code",
   "execution_count": 84,
   "id": "807115e6",
   "metadata": {
    "ExecuteTime": {
     "end_time": "2022-10-12T13:06:41.572887Z",
     "start_time": "2022-10-12T13:06:41.564068Z"
    }
   },
   "outputs": [
    {
     "name": "stdout",
     "output_type": "stream",
     "text": [
      "CPU times: user 3.89 ms, sys: 0 ns, total: 3.89 ms\n",
      "Wall time: 3.76 ms\n"
     ]
    }
   ],
   "source": [
    "%%time\n",
    "seen_values = set()\n",
    "dedup_a = []\n",
    "\n",
    "for value in a:\n",
    "    if value not in seen_values:\n",
    "        dedup_a.append(value)\n",
    "        seen_values.add(value)"
   ]
  },
  {
   "cell_type": "code",
   "execution_count": 85,
   "id": "03852de5",
   "metadata": {
    "ExecuteTime": {
     "end_time": "2022-10-12T13:06:57.013910Z",
     "start_time": "2022-10-12T13:06:56.842567Z"
    }
   },
   "outputs": [
    {
     "name": "stdout",
     "output_type": "stream",
     "text": [
      "CPU times: user 168 ms, sys: 0 ns, total: 168 ms\n",
      "Wall time: 167 ms\n"
     ]
    }
   ],
   "source": [
    "%%time\n",
    "seen_values = []\n",
    "dedup_a = []\n",
    "\n",
    "for value in a:\n",
    "    if value not in seen_values:\n",
    "        dedup_a.append(value)\n",
    "        seen_values.append(value)"
   ]
  },
  {
   "cell_type": "markdown",
   "id": "7a9a2ff0",
   "metadata": {},
   "source": [
    "Другая задачка. \n",
    "\n",
    "## 2-sum\n",
    "\n",
    "Задача аналогичная домашней с прошлого семинара, только нет помогающего условия на сортированность элементов"
   ]
  },
  {
   "cell_type": "code",
   "execution_count": 88,
   "id": "dfdaa35c",
   "metadata": {
    "ExecuteTime": {
     "end_time": "2022-10-12T13:08:21.573224Z",
     "start_time": "2022-10-12T13:08:21.568584Z"
    }
   },
   "outputs": [],
   "source": [
    "a = [random.randint(-1000, 1000) for i in range(100)]"
   ]
  },
  {
   "cell_type": "code",
   "execution_count": 90,
   "id": "3f99e977",
   "metadata": {
    "ExecuteTime": {
     "end_time": "2022-10-12T13:10:59.142200Z",
     "start_time": "2022-10-12T13:10:59.137419Z"
    }
   },
   "outputs": [],
   "source": [
    "target_sum = 7\n",
    "\n",
    "set_a = set(a)  # объявляем set из элементов списка выше\n",
    "ans = set()\n",
    "\n",
    "for elem in a:\n",
    "    pair_elem = target_sum - elem\n",
    "    if pair_elem in set_a:  # быстрая проверка на вхождение\n",
    "        ans.add((min(elem, pair_elem), max(elem, pair_elem)))"
   ]
  },
  {
   "cell_type": "code",
   "execution_count": 91,
   "id": "7cb62e76",
   "metadata": {
    "ExecuteTime": {
     "end_time": "2022-10-12T13:11:02.384771Z",
     "start_time": "2022-10-12T13:11:02.379117Z"
    }
   },
   "outputs": [
    {
     "data": {
      "text/plain": [
       "{(-846, 853), (-743, 750), (-613, 620), (-248, 255)}"
      ]
     },
     "execution_count": 91,
     "metadata": {},
     "output_type": "execute_result"
    }
   ],
   "source": [
    "ans"
   ]
  },
  {
   "cell_type": "markdown",
   "id": "e3eeed03",
   "metadata": {},
   "source": [
    "# Bonus Task (на выбор)"
   ]
  },
  {
   "cell_type": "markdown",
   "id": "39ba240e",
   "metadata": {},
   "source": [
    "Можно получить по одному полному баллу с каждого задания"
   ]
  },
  {
   "cell_type": "markdown",
   "id": "01154650",
   "metadata": {},
   "source": [
    "## Посчитать TF-IDF\n",
    "\n",
    "http://www.tfidf.com/\n",
    "\n",
    "https://ru.wikipedia.org/wiki/TF-IDF\n",
    "\n",
    "https://en.wikipedia.org/wiki/Tf–idf\n",
    "\n",
    "**Term-frequency** -- частота слова в документе\n",
    "\n",
    "$TF(term) = \\frac{1}{2} + \\frac{1}{2} \\cdot \\frac{\\text{(Number of times term t appears in a document)}}{\\text{(Total number of terms in the document)}}$\n",
    "\n",
    "**Inverse-document frequency** -- обратная частота слова для корпуса из текстов. \n",
    "\n",
    "- $N$ -- количество документов в корпусе.\n",
    "- $num\\_doc(term)$ -- количество документов, содержащих слово   \n",
    "\n",
    "$IDF(term) = \\log\\left(\\frac{N}{1 + num\\_doc(term)}\\right)$\n",
    "\n",
    "\n",
    "**TF**\n",
    "\n",
    "Для решения нужно:\n",
    "- Функция-конвертор предложения в список слов\n",
    "- Функция расчета TF для терма в предложении\n",
    "- Функция расчета IDF всех термов\n",
    "- Функция расчета TF-IDF по предподсчитанному словарю idf и передаваемым термом и предложением (текстом)\n",
    "\n",
    "Для этого может пригодиться функция `re.split`. Нужно также игнорировать кейс.\n",
    "\n",
    "(Optional) Если вам интересно, можете посмотреть на библиотеку `pymorphy`. В ней есть локига работы с языками. С ее помощью можно привести слова к начальной форме. Приведенные ниже референсы не используют нормализацию"
   ]
  },
  {
   "cell_type": "markdown",
   "id": "66e21ede",
   "metadata": {},
   "source": [
    "[Это не я придумал](https://yandex.ru/lab/yalm?style=25)"
   ]
  },
  {
   "cell_type": "code",
   "execution_count": 81,
   "id": "3d46df96",
   "metadata": {
    "ExecuteTime": {
     "end_time": "2022-10-12T00:30:30.357448Z",
     "start_time": "2022-10-12T00:30:30.351662Z"
    }
   },
   "outputs": [],
   "source": [
    "# Это прекрасно https://yandex.ru/lab/yalm/share?id=eb582a812e9cce0b1708456ec8f1ef8d62a15176&style=11\n",
    "# это прекрасно (1) https://yandex.ru/lab/yalm/share?id=b739ce54689fca0d1e8cdadb9009dbea5740df2e&style=24...\n",
    "\n",
    "text_corpus = [\n",
    "\"Как выжить в современной России.\",  # запрос в балабобу, а дальше компиляция из его разных ответов :)\n",
    "\"Никогда не берите в руки нож.\",\n",
    "\"Не покупайте водку.\",\n",
    "\"Просыпайся в 7 утра.\",\n",
    "\"Никогда не ешьте котов\",\n",
    "\"Не ешьте то, что не можете позволить себе купить.\",\n",
    "\"Уберитесь в квартире.\",\n",
    "\"В любой непонятной ситуации - ешь мясо!\",\n",
    "\"Не ешьте мясо, если хотите жить долго и счастливо.\",\n",
    "\"Не попадаться на глаза сотрудникам полиции. Выйти из дома с сумкой, на которой написано “Я не верблюд\",\n",
    "\"Не ешьте камни. Не ешьте ничего, кроме собаки.\", \n",
    "\"Не ешьте собаку.\",\n",
    "\"Не ешьте мышей. Не ешьте кошек.\", \n",
    "\"Не ешьте котиков. Не ешьте мышь. Не ешьте сыр.\", \n",
    "\"Не ешьте никого. Не ешьте кота.\",\n",
    "\"Покупать себе только то, что выгодно, например, покупать дешевый алкоголь в магазине, который находится в подвале.\",\n",
    "\"Не иметь друзей.\",\n",
    "\"Не говорить с незнакомцами. Не разговаривать с незнакомыми людьми.\",\n",
    "\"Перестать бояться незнакомых людей, перестать бояться незнакомцев.\",\n",
    "\"Не общаться с незнакомыми девушками. Не общаться со знакомыми девушками.\",\n",
    "\"Не говорить девушкам, что они нравятся тебе. Не говорить, что нравишься им.\"\n",
    "\"Не говорить им, что любишь их. Не встречаться с ними. Не влюбляться в них. Не рассказывать им о своих чувствах.\",\n",
    "'В современных российских условиях вопрос выживания становится все более актуальным. И не столько для тех, кто живет \"на земле\", сколько для интеллигенции, представителей творческих профессий и, конечно, для студентов. В этой связи особенно важно, чтобы каждый из нас смог определить для себя жизненные ценности, которые помогут ему сохранить себя, свою человеческую сущность и остаться человеком в экстремальных условиях.',\n",
    "'Как выжить в современной России. У нас есть три способа: 1) стать жертвой маньяка; 2) стать жертвой другого маньяка, которого мы убьем; 3) стать жертвой не маньяка.',\n",
    "'Покупать все продукты в магазине \"Магнит\" и ходить в церковь.',\n",
    "'Никогда не ложитесь спать, будучи голодными;',\n",
    "'Кушать бублики с маком. Бубликов с маком много.',\n",
    "'Не ходить в церковь; Не верить в бога; Не пить водку; Не работать.',\n",
    "]"
   ]
  },
  {
   "cell_type": "markdown",
   "id": "835ebe09",
   "metadata": {
    "ExecuteTime": {
     "end_time": "2022-10-12T00:30:37.089312Z",
     "start_time": "2022-10-12T00:30:37.082648Z"
    }
   },
   "source": [
    "Могут пригодиться следующие импорты"
   ]
  },
  {
   "cell_type": "code",
   "execution_count": 85,
   "id": "55f954b0",
   "metadata": {
    "ExecuteTime": {
     "end_time": "2022-10-12T00:35:07.164227Z",
     "start_time": "2022-10-12T00:35:07.157891Z"
    }
   },
   "outputs": [],
   "source": [
    "import math\n",
    "import re\n",
    "from collections import Counter, defaultdict\n",
    "from typing import Iterable"
   ]
  },
  {
   "cell_type": "markdown",
   "id": "915bdb3c",
   "metadata": {},
   "source": [
    "Реализация"
   ]
  },
  {
   "cell_type": "code",
   "execution_count": 88,
   "id": "e9b25e34",
   "metadata": {
    "ExecuteTime": {
     "end_time": "2022-10-12T00:37:45.896585Z",
     "start_time": "2022-10-12T00:37:45.881670Z"
    }
   },
   "outputs": [],
   "source": [
    "def preprocess_text(text: str) -> list[str]:\n",
    "    pass\n",
    "    \n",
    "def calc_tf(term: str, text: str):\n",
    "    pass\n",
    "\n",
    "def calc_idfs(corpus: Iterable[str]) -> dict:\n",
    "    pass\n",
    "\n",
    "def calc_tfidf(term: str, text: str, precomputed_idfs: dict) -> float:\n",
    "    pass"
   ]
  },
  {
   "cell_type": "markdown",
   "id": "db1a25b2",
   "metadata": {},
   "source": [
    "**Референсы для самопроверки**"
   ]
  },
  {
   "cell_type": "markdown",
   "id": "122e000c",
   "metadata": {},
   "source": [
    "TF\n",
    "\n",
    "```python\n",
    "\n",
    "calc_tf('котиков', \"Не ешьте котиков. Не ешьте мышь. Не ешьте сыр.\")\n",
    "\n",
    "0.6666666666666666\n",
    "```"
   ]
  },
  {
   "cell_type": "markdown",
   "id": "984c16dd",
   "metadata": {},
   "source": [
    "Некоторые значения IDF для данного корпуса\n",
    "\n",
    "``` python \n",
    "idfs = calc_idfs(text_corpus)\n",
    "idfs\n",
    "\n",
    "{\n",
    "    'выжить': 2.367123614131617,\n",
    "    'в': 0.9808292530117262,\n",
    "    'никогда': 2.0794415416798357,\n",
    "    'не': 0.2468600779315258,\n",
    "    'покупайте': 2.772588722239781,\n",
    "    'просыпайся': 2.772588722239781,\n",
    "    'ешьте': 0.8266785731844679,\n",
    "    'можете': 2.772588722239781,\n",
    "    'с': 1.6739764335716716,\n",
    "    'сумкой': 2.772588722239781,\n",
    "    'на': 2.367123614131617,\n",
    "    'говорить': 2.367123614131617,\n",
    "    'церковь': 2.367123614131617,\n",
    "    'ложитесь': 2.772588722239781,\n",
    "    'спать': 2.772588722239781,\n",
    "    'голодными': 2.772588722239781,\n",
    "    'кушать': 2.772588722239781,\n",
    "    'пить': 2.772588722239781\n",
    "    ...\n",
    "}\n",
    "```"
   ]
  },
  {
   "cell_type": "markdown",
   "id": "a166e603",
   "metadata": {},
   "source": [
    "TF-IDF\n",
    "\n",
    "```python \n",
    "calc_tfidf(\n",
    "    term='котиков',\n",
    "    text=\"Не ешьте котиков. Не ешьте мышь. Не ешьте сыр.\",\n",
    "    precomputed_idfs=idfs\n",
    ")\n",
    "\n",
    "1.8483924814931874\n",
    "```"
   ]
  },
  {
   "cell_type": "markdown",
   "id": "dbddb50e",
   "metadata": {},
   "source": [
    "## Анаграммы"
   ]
  },
  {
   "cell_type": "markdown",
   "id": "4994aeeb",
   "metadata": {},
   "source": [
    "Даны две строки, `s` и `p`. Ваша задача в том, чтобы найти все анаграммы строки `p` в строке `s`. В ответе нужно вывести индексы начала анаграм, в любом порядке.\n",
    "\n",
    "*Анаграмма -- это слово или фраза, сформированная из букв (символов) другого слова или фразы в другом порядке.*\n",
    "*Например, `\"Primus Lune\"` является анаграммой `\"Rimus Lupin\"`. `\"Debit card\"` – `\"bad credit\"`, `\"abc\"` -- `\"cab\"`*\n",
    "\n",
    "\n"
   ]
  },
  {
   "cell_type": "markdown",
   "id": "a8c3db9f-9d51-4987-859c-b2a70835380a",
   "metadata": {},
   "source": [
    "Пример:\n",
    "\n",
    "    Input: s = \"cbaebabacd\", p = \"abc\"\n",
    "    Output: [0,6]\n",
    "    \n",
    "    По индексу 0 \"cba\" -- анаграмма \"abc\".\n",
    "    По индексу 6 \"bac\" -- анаграмма \"abc\"."
   ]
  }
 ],
 "metadata": {
  "kernelspec": {
   "display_name": "base-env",
   "language": "python",
   "name": "base-env"
  },
  "language_info": {
   "codemirror_mode": {
    "name": "ipython",
    "version": 3
   },
   "file_extension": ".py",
   "mimetype": "text/x-python",
   "name": "python",
   "nbconvert_exporter": "python",
   "pygments_lexer": "ipython3",
   "version": "3.9.12"
  },
  "toc": {
   "base_numbering": 1,
   "nav_menu": {},
   "number_sections": true,
   "sideBar": true,
   "skip_h1_title": false,
   "title_cell": "Table of Contents",
   "title_sidebar": "Contents",
   "toc_cell": false,
   "toc_position": {},
   "toc_section_display": true,
   "toc_window_display": true
  },
  "varInspector": {
   "cols": {
    "lenName": 16,
    "lenType": 16,
    "lenVar": 40
   },
   "kernels_config": {
    "python": {
     "delete_cmd_postfix": "",
     "delete_cmd_prefix": "del ",
     "library": "var_list.py",
     "varRefreshCmd": "print(var_dic_list())"
    },
    "r": {
     "delete_cmd_postfix": ") ",
     "delete_cmd_prefix": "rm(",
     "library": "var_list.r",
     "varRefreshCmd": "cat(var_dic_list()) "
    }
   },
   "types_to_exclude": [
    "module",
    "function",
    "builtin_function_or_method",
    "instance",
    "_Feature"
   ],
   "window_display": false
  }
 },
 "nbformat": 4,
 "nbformat_minor": 5
}
