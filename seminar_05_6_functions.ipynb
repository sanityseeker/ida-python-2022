{
 "cells": [
  {
   "cell_type": "markdown",
   "id": "c1f3368b-8783-4dcc-8bc8-074a78d2287f",
   "metadata": {},
   "source": [
    "# Functions"
   ]
  },
  {
   "cell_type": "markdown",
   "id": "a6b11e12-8d63-4a6e-916d-08d868ee2526",
   "metadata": {},
   "source": [
    "Functions -- \"first class objects\":\n",
    "    \n",
    "    - создаются в рантайме\n",
    "    - присваиваются переменным или элементам в структурах данных\n",
    "    - используются как аргумент в других функциях\n",
    "    - возвращаются как результат работы функций\n",
    "    \n",
    "Ровно так же работают, например, string, list и прочие рассмотренные ранее примеры "
   ]
  },
  {
   "cell_type": "markdown",
   "id": "e5c7443c-defc-4646-a182-c23bf5b15282",
   "metadata": {},
   "source": [
    "## Базовый синтаксис"
   ]
  },
  {
   "cell_type": "markdown",
   "id": "375d732b-78e5-4e8e-939b-cddd2ef165fc",
   "metadata": {},
   "source": [
    "### Аргументы и вызов"
   ]
  },
  {
   "cell_type": "code",
   "execution_count": 2,
   "id": "80df023f-9b2c-41fd-b150-73b29d66aa00",
   "metadata": {
    "ExecuteTime": {
     "end_time": "2022-10-19T10:09:15.024892Z",
     "start_time": "2022-10-19T10:09:15.019714Z"
    }
   },
   "outputs": [
    {
     "name": "stdout",
     "output_type": "stream",
     "text": [
      "Hello, world!\n"
     ]
    }
   ],
   "source": [
    "def func():  # name and function arguments\n",
    "    '''\n",
    "    Doc string to be shown in help\n",
    "    '''\n",
    "    \n",
    "    print(\"Hello, world!\") # body\n",
    "\n",
    "func()"
   ]
  },
  {
   "cell_type": "code",
   "execution_count": 3,
   "id": "3e5a9095-790c-4bf7-afcc-4f30b7b16eb7",
   "metadata": {
    "ExecuteTime": {
     "end_time": "2022-10-19T10:09:15.970962Z",
     "start_time": "2022-10-19T10:09:15.963343Z"
    }
   },
   "outputs": [
    {
     "name": "stdout",
     "output_type": "stream",
     "text": [
      "Help on function func in module __main__:\n",
      "\n",
      "func()\n",
      "    Doc string to be shown in help\n",
      "\n"
     ]
    }
   ],
   "source": [
    "help(func)"
   ]
  },
  {
   "cell_type": "code",
   "execution_count": 4,
   "id": "0678a5e7",
   "metadata": {
    "ExecuteTime": {
     "end_time": "2022-10-19T10:09:43.157233Z",
     "start_time": "2022-10-19T10:09:43.150829Z"
    }
   },
   "outputs": [],
   "source": [
    "def func(a, b):\n",
    "    print(a + b)"
   ]
  },
  {
   "cell_type": "code",
   "execution_count": 5,
   "id": "6e650977",
   "metadata": {
    "ExecuteTime": {
     "end_time": "2022-10-19T10:09:48.385190Z",
     "start_time": "2022-10-19T10:09:48.378396Z"
    }
   },
   "outputs": [
    {
     "name": "stdout",
     "output_type": "stream",
     "text": [
      "1379\n"
     ]
    }
   ],
   "source": [
    "func(42, 1337)"
   ]
  },
  {
   "cell_type": "code",
   "execution_count": 6,
   "id": "0b75d68b",
   "metadata": {
    "ExecuteTime": {
     "end_time": "2022-10-19T10:10:04.167331Z",
     "start_time": "2022-10-19T10:10:04.162591Z"
    }
   },
   "outputs": [],
   "source": [
    "def func(a, b=42):\n",
    "    print(a + b)"
   ]
  },
  {
   "cell_type": "code",
   "execution_count": 7,
   "id": "f0c5dceb",
   "metadata": {
    "ExecuteTime": {
     "end_time": "2022-10-19T10:10:09.483514Z",
     "start_time": "2022-10-19T10:10:09.477607Z"
    }
   },
   "outputs": [
    {
     "name": "stdout",
     "output_type": "stream",
     "text": [
      "84\n"
     ]
    }
   ],
   "source": [
    "func(42)"
   ]
  },
  {
   "cell_type": "code",
   "execution_count": 8,
   "id": "3e309f55",
   "metadata": {
    "ExecuteTime": {
     "end_time": "2022-10-19T10:10:38.309091Z",
     "start_time": "2022-10-19T10:10:38.302807Z"
    }
   },
   "outputs": [
    {
     "name": "stdout",
     "output_type": "stream",
     "text": [
      "87\n"
     ]
    }
   ],
   "source": [
    "func(a=43, b=44)"
   ]
  },
  {
   "cell_type": "code",
   "execution_count": 9,
   "id": "bb4b5496",
   "metadata": {
    "ExecuteTime": {
     "end_time": "2022-10-19T10:10:47.214830Z",
     "start_time": "2022-10-19T10:10:47.207715Z"
    }
   },
   "outputs": [
    {
     "name": "stdout",
     "output_type": "stream",
     "text": [
      "87\n"
     ]
    }
   ],
   "source": [
    "func(43, 44)"
   ]
  },
  {
   "cell_type": "code",
   "execution_count": 10,
   "id": "f22f6afa",
   "metadata": {
    "ExecuteTime": {
     "end_time": "2022-10-19T10:11:34.778021Z",
     "start_time": "2022-10-19T10:11:34.771746Z"
    }
   },
   "outputs": [],
   "source": [
    "def func(a, b='43', *, c='some important var'):\n",
    "    print(a, b, c)"
   ]
  },
  {
   "cell_type": "code",
   "execution_count": 13,
   "id": "87105b46",
   "metadata": {
    "ExecuteTime": {
     "end_time": "2022-10-19T10:11:45.727124Z",
     "start_time": "2022-10-19T10:11:45.496606Z"
    }
   },
   "outputs": [
    {
     "ename": "TypeError",
     "evalue": "func() takes from 1 to 2 positional arguments but 3 were given",
     "output_type": "error",
     "traceback": [
      "\u001b[0;31m---------------------------------------------------------------------------\u001b[0m",
      "\u001b[0;31mTypeError\u001b[0m                                 Traceback (most recent call last)",
      "Cell \u001b[0;32mIn [13], line 1\u001b[0m\n\u001b[0;32m----> 1\u001b[0m func(\u001b[38;5;241m1\u001b[39m, \u001b[38;5;241m13\u001b[39m, \u001b[38;5;241m14\u001b[39m)\n",
      "\u001b[0;31mTypeError\u001b[0m: func() takes from 1 to 2 positional arguments but 3 were given"
     ]
    }
   ],
   "source": [
    "func(1, 13, 14)"
   ]
  },
  {
   "cell_type": "code",
   "execution_count": 14,
   "id": "d0b0d3a5",
   "metadata": {
    "ExecuteTime": {
     "end_time": "2022-10-19T10:12:00.863456Z",
     "start_time": "2022-10-19T10:12:00.858569Z"
    }
   },
   "outputs": [
    {
     "name": "stdout",
     "output_type": "stream",
     "text": [
      "1 13 14\n"
     ]
    }
   ],
   "source": [
    "func(1, 13, c=14)"
   ]
  },
  {
   "cell_type": "code",
   "execution_count": 16,
   "id": "03437140",
   "metadata": {
    "ExecuteTime": {
     "end_time": "2022-10-19T10:12:28.334781Z",
     "start_time": "2022-10-19T10:12:28.328410Z"
    }
   },
   "outputs": [],
   "source": [
    "var = {'a': 1,\n",
    "        'b': 42,\n",
    "        'c': 43}"
   ]
  },
  {
   "cell_type": "code",
   "execution_count": 17,
   "id": "b6bfd448",
   "metadata": {
    "ExecuteTime": {
     "end_time": "2022-10-19T10:12:37.612640Z",
     "start_time": "2022-10-19T10:12:37.605753Z"
    }
   },
   "outputs": [
    {
     "name": "stdout",
     "output_type": "stream",
     "text": [
      "1 42 43\n"
     ]
    }
   ],
   "source": [
    "func(**var) # <-> func(a=1, b=42, c=43)"
   ]
  },
  {
   "cell_type": "code",
   "execution_count": 23,
   "id": "7229f08f",
   "metadata": {
    "ExecuteTime": {
     "end_time": "2022-10-19T10:14:21.740827Z",
     "start_time": "2022-10-19T10:14:21.734527Z"
    }
   },
   "outputs": [],
   "source": [
    "vars_tuple = 1, 42"
   ]
  },
  {
   "cell_type": "code",
   "execution_count": 24,
   "id": "1d2068fa",
   "metadata": {
    "ExecuteTime": {
     "end_time": "2022-10-19T10:14:22.709761Z",
     "start_time": "2022-10-19T10:14:22.702699Z"
    }
   },
   "outputs": [
    {
     "name": "stdout",
     "output_type": "stream",
     "text": [
      "1 42 some important var\n"
     ]
    }
   ],
   "source": [
    "func(*vars_tuple)"
   ]
  },
  {
   "cell_type": "code",
   "execution_count": 25,
   "id": "24dc034a",
   "metadata": {
    "ExecuteTime": {
     "end_time": "2022-10-19T10:15:18.938987Z",
     "start_time": "2022-10-19T10:15:18.933575Z"
    }
   },
   "outputs": [
    {
     "name": "stdout",
     "output_type": "stream",
     "text": [
      "1 (42, 43, 535, 124, 12, 253, '25255')\n"
     ]
    }
   ],
   "source": [
    "def ff(a, *args):\n",
    "    print(a, args)\n",
    "\n",
    "vars_tuple = 1, 42, 43, 535, 124, 12, 253, '25255'\n",
    "    \n",
    "ff(*vars_tuple)"
   ]
  },
  {
   "cell_type": "code",
   "execution_count": 26,
   "id": "17afadc0",
   "metadata": {
    "ExecuteTime": {
     "end_time": "2022-10-19T10:15:46.257176Z",
     "start_time": "2022-10-19T10:15:46.250615Z"
    }
   },
   "outputs": [],
   "source": [
    "a, *others = vars_tuple"
   ]
  },
  {
   "cell_type": "code",
   "execution_count": 28,
   "id": "68e986d8",
   "metadata": {
    "ExecuteTime": {
     "end_time": "2022-10-19T10:15:52.478313Z",
     "start_time": "2022-10-19T10:15:52.473331Z"
    }
   },
   "outputs": [
    {
     "data": {
      "text/plain": [
       "[42, 43, 535, 124, 12, 253, '25255']"
      ]
     },
     "execution_count": 28,
     "metadata": {},
     "output_type": "execute_result"
    }
   ],
   "source": [
    "others"
   ]
  },
  {
   "cell_type": "code",
   "execution_count": 33,
   "id": "536ca9fc",
   "metadata": {
    "ExecuteTime": {
     "end_time": "2022-10-19T10:17:50.395176Z",
     "start_time": "2022-10-19T10:17:50.390665Z"
    }
   },
   "outputs": [],
   "source": [
    "def fff(*args, **kwargs):\n",
    "    print(args, kwargs)"
   ]
  },
  {
   "cell_type": "code",
   "execution_count": 32,
   "id": "2d32b81d",
   "metadata": {
    "ExecuteTime": {
     "end_time": "2022-10-19T10:17:38.646787Z",
     "start_time": "2022-10-19T10:17:38.640217Z"
    }
   },
   "outputs": [
    {
     "name": "stdout",
     "output_type": "stream",
     "text": [
      "{'args': (1, 42, 43, 535, 124, 12, 253, '25255'), 'kwargs': {'a': 1, 'b': 42, 'c': 43}}\n",
      "(1, 42, 43, 535, 124, 12, 253, '25255') {'a': 1, 'b': 42, 'c': 43}\n"
     ]
    }
   ],
   "source": [
    "fff(*vars_tuple, **var)"
   ]
  },
  {
   "cell_type": "markdown",
   "id": "477be714-ca3d-4d06-986d-be0bce95e12b",
   "metadata": {},
   "source": [
    "### Return"
   ]
  },
  {
   "cell_type": "markdown",
   "id": "1ad1f4c2-a330-4e22-ab7e-b229455088ee",
   "metadata": {},
   "source": [
    "Функция может возвращать что-то"
   ]
  },
  {
   "cell_type": "code",
   "execution_count": 39,
   "id": "e36f8d0e",
   "metadata": {
    "ExecuteTime": {
     "end_time": "2022-10-19T10:18:57.686682Z",
     "start_time": "2022-10-19T10:18:57.680732Z"
    }
   },
   "outputs": [],
   "source": [
    "def ff(a, b):\n",
    "    return a, b"
   ]
  },
  {
   "cell_type": "code",
   "execution_count": 40,
   "id": "c0b9ce9f",
   "metadata": {
    "ExecuteTime": {
     "end_time": "2022-10-19T10:18:57.940465Z",
     "start_time": "2022-10-19T10:18:57.934297Z"
    }
   },
   "outputs": [],
   "source": [
    "a = 1\n",
    "b = 3\n",
    "\n",
    "c, d = ff(a, b)"
   ]
  },
  {
   "cell_type": "code",
   "execution_count": 41,
   "id": "528c4452",
   "metadata": {
    "ExecuteTime": {
     "end_time": "2022-10-19T10:19:06.813904Z",
     "start_time": "2022-10-19T10:19:06.808654Z"
    }
   },
   "outputs": [
    {
     "data": {
      "text/plain": [
       "(140521295124784, 140521295124848)"
      ]
     },
     "execution_count": 41,
     "metadata": {},
     "output_type": "execute_result"
    }
   ],
   "source": [
    "id(a), id(b)"
   ]
  },
  {
   "cell_type": "code",
   "execution_count": 42,
   "id": "c866c492",
   "metadata": {
    "ExecuteTime": {
     "end_time": "2022-10-19T10:19:14.961048Z",
     "start_time": "2022-10-19T10:19:14.955330Z"
    }
   },
   "outputs": [
    {
     "data": {
      "text/plain": [
       "(140521295124784, 140521295124848)"
      ]
     },
     "execution_count": 42,
     "metadata": {},
     "output_type": "execute_result"
    }
   ],
   "source": [
    "id(c), id(d)"
   ]
  },
  {
   "cell_type": "code",
   "execution_count": 43,
   "id": "5873e422",
   "metadata": {
    "ExecuteTime": {
     "end_time": "2022-10-19T10:19:52.475284Z",
     "start_time": "2022-10-19T10:19:52.470784Z"
    }
   },
   "outputs": [],
   "source": [
    "def change_list(a: list):\n",
    "    a.append(10)"
   ]
  },
  {
   "cell_type": "code",
   "execution_count": 44,
   "id": "a44b024e",
   "metadata": {
    "ExecuteTime": {
     "end_time": "2022-10-19T10:20:03.317457Z",
     "start_time": "2022-10-19T10:20:03.311658Z"
    }
   },
   "outputs": [],
   "source": [
    "b = []\n",
    "\n",
    "change_list(b)"
   ]
  },
  {
   "cell_type": "code",
   "execution_count": 49,
   "id": "49cf4a0a",
   "metadata": {
    "ExecuteTime": {
     "end_time": "2022-10-19T10:20:17.335209Z",
     "start_time": "2022-10-19T10:20:17.330022Z"
    }
   },
   "outputs": [
    {
     "data": {
      "text/plain": [
       "[10, 10, 10, 10]"
      ]
     },
     "execution_count": 49,
     "metadata": {},
     "output_type": "execute_result"
    }
   ],
   "source": [
    "b"
   ]
  },
  {
   "cell_type": "code",
   "execution_count": 57,
   "id": "1cd7c4d8",
   "metadata": {
    "ExecuteTime": {
     "end_time": "2022-10-19T10:21:08.747112Z",
     "start_time": "2022-10-19T10:21:08.740662Z"
    }
   },
   "outputs": [],
   "source": [
    "def change_list(a: list = []):\n",
    "    a.append(10)\n",
    "    print(a)"
   ]
  },
  {
   "cell_type": "code",
   "execution_count": 64,
   "id": "f527c849",
   "metadata": {
    "ExecuteTime": {
     "end_time": "2022-10-19T10:21:16.576520Z",
     "start_time": "2022-10-19T10:21:16.570336Z"
    }
   },
   "outputs": [
    {
     "name": "stdout",
     "output_type": "stream",
     "text": [
      "[10, 10, 10, 10, 10, 10, 10]\n"
     ]
    }
   ],
   "source": [
    "change_list()"
   ]
  },
  {
   "cell_type": "code",
   "execution_count": 65,
   "id": "58f41cf8",
   "metadata": {
    "ExecuteTime": {
     "end_time": "2022-10-19T10:23:14.429318Z",
     "start_time": "2022-10-19T10:23:14.423838Z"
    }
   },
   "outputs": [],
   "source": [
    "from typing import Optional\n",
    "\n",
    "def change_list_better(a: Optional[list] = None):\n",
    "    if a is None:\n",
    "        a = []\n",
    "    \n",
    "    a.append(10)\n",
    "    print(a)"
   ]
  },
  {
   "cell_type": "code",
   "execution_count": 69,
   "id": "167141cc",
   "metadata": {
    "ExecuteTime": {
     "end_time": "2022-10-19T10:23:33.858474Z",
     "start_time": "2022-10-19T10:23:33.851879Z"
    }
   },
   "outputs": [
    {
     "name": "stdout",
     "output_type": "stream",
     "text": [
      "[10]\n"
     ]
    }
   ],
   "source": [
    "change_list_better()"
   ]
  },
  {
   "cell_type": "code",
   "execution_count": 70,
   "id": "ff9ec3ab",
   "metadata": {
    "ExecuteTime": {
     "end_time": "2022-10-19T10:23:55.113805Z",
     "start_time": "2022-10-19T10:23:55.108351Z"
    }
   },
   "outputs": [
    {
     "data": {
      "text/plain": [
       "{}"
      ]
     },
     "execution_count": 70,
     "metadata": {},
     "output_type": "execute_result"
    }
   ],
   "source": [
    "change_list_better.__dict__"
   ]
  },
  {
   "cell_type": "code",
   "execution_count": 71,
   "id": "8013fad0",
   "metadata": {
    "ExecuteTime": {
     "end_time": "2022-10-19T10:24:13.272658Z",
     "start_time": "2022-10-19T10:24:13.266855Z"
    }
   },
   "outputs": [],
   "source": [
    "change_list_better.name = 'func_name'"
   ]
  },
  {
   "cell_type": "code",
   "execution_count": 72,
   "id": "3329db18",
   "metadata": {
    "ExecuteTime": {
     "end_time": "2022-10-19T10:24:18.282215Z",
     "start_time": "2022-10-19T10:24:18.277255Z"
    }
   },
   "outputs": [
    {
     "data": {
      "text/plain": [
       "{'name': 'func_name'}"
      ]
     },
     "execution_count": 72,
     "metadata": {},
     "output_type": "execute_result"
    }
   ],
   "source": [
    "change_list_better.__dict__"
   ]
  },
  {
   "cell_type": "code",
   "execution_count": 73,
   "id": "77bdd7ef",
   "metadata": {
    "ExecuteTime": {
     "end_time": "2022-10-19T10:24:26.461951Z",
     "start_time": "2022-10-19T10:24:26.457828Z"
    }
   },
   "outputs": [],
   "source": [
    "change_list_better.__dict__.clear()"
   ]
  },
  {
   "cell_type": "code",
   "execution_count": 74,
   "id": "015054a4",
   "metadata": {
    "ExecuteTime": {
     "end_time": "2022-10-19T10:24:32.149907Z",
     "start_time": "2022-10-19T10:24:32.140952Z"
    }
   },
   "outputs": [
    {
     "data": {
      "text/plain": [
       "{}"
      ]
     },
     "execution_count": 74,
     "metadata": {},
     "output_type": "execute_result"
    }
   ],
   "source": [
    "change_list_better.__dict__"
   ]
  },
  {
   "cell_type": "code",
   "execution_count": 75,
   "id": "ad323db5",
   "metadata": {
    "ExecuteTime": {
     "end_time": "2022-10-19T10:25:10.570180Z",
     "start_time": "2022-10-19T10:25:10.564885Z"
    }
   },
   "outputs": [
    {
     "data": {
      "text/plain": [
       "['__annotations__',\n",
       " '__call__',\n",
       " '__class__',\n",
       " '__closure__',\n",
       " '__code__',\n",
       " '__defaults__',\n",
       " '__delattr__',\n",
       " '__dict__',\n",
       " '__dir__',\n",
       " '__doc__',\n",
       " '__eq__',\n",
       " '__format__',\n",
       " '__ge__',\n",
       " '__get__',\n",
       " '__getattribute__',\n",
       " '__globals__',\n",
       " '__gt__',\n",
       " '__hash__',\n",
       " '__init__',\n",
       " '__init_subclass__',\n",
       " '__kwdefaults__',\n",
       " '__le__',\n",
       " '__lt__',\n",
       " '__module__',\n",
       " '__name__',\n",
       " '__ne__',\n",
       " '__new__',\n",
       " '__qualname__',\n",
       " '__reduce__',\n",
       " '__reduce_ex__',\n",
       " '__repr__',\n",
       " '__setattr__',\n",
       " '__sizeof__',\n",
       " '__str__',\n",
       " '__subclasshook__']"
      ]
     },
     "execution_count": 75,
     "metadata": {},
     "output_type": "execute_result"
    }
   ],
   "source": [
    "dir(change_list_better)"
   ]
  },
  {
   "cell_type": "markdown",
   "id": "5c1b4962",
   "metadata": {},
   "source": [
    "### Annotations"
   ]
  },
  {
   "cell_type": "markdown",
   "id": "c0a8a29a",
   "metadata": {},
   "source": [
    "В Python можно назначить метаданные для аргументов и выходного значения функции "
   ]
  },
  {
   "cell_type": "code",
   "execution_count": 87,
   "id": "4083217d",
   "metadata": {
    "ExecuteTime": {
     "end_time": "2022-10-19T10:28:32.918463Z",
     "start_time": "2022-10-19T10:28:32.913859Z"
    }
   },
   "outputs": [],
   "source": [
    "def test_str(s: str, max_len: int = 10, name: str = 'test') -> str:\n",
    "    some_var = 0\n",
    "    other_var = '10'\n",
    "    return s[:max_len]"
   ]
  },
  {
   "cell_type": "code",
   "execution_count": 83,
   "id": "e12adb96",
   "metadata": {
    "ExecuteTime": {
     "end_time": "2022-10-19T10:27:37.143788Z",
     "start_time": "2022-10-19T10:27:37.138764Z"
    }
   },
   "outputs": [
    {
     "data": {
      "text/plain": [
       "'asfasfs'"
      ]
     },
     "execution_count": 83,
     "metadata": {},
     "output_type": "execute_result"
    }
   ],
   "source": [
    "test_str('asfasfs')"
   ]
  },
  {
   "cell_type": "markdown",
   "id": "7802e6fb",
   "metadata": {},
   "source": [
    "Аннотации могут быть любым выражением. Они игнорируются во время выполнения программы. Доступ можно получить через поле `__annotations__`"
   ]
  },
  {
   "cell_type": "code",
   "execution_count": 88,
   "id": "72153ffa",
   "metadata": {
    "ExecuteTime": {
     "end_time": "2022-10-19T10:28:34.747975Z",
     "start_time": "2022-10-19T10:28:34.742637Z"
    }
   },
   "outputs": [
    {
     "data": {
      "text/plain": [
       "{'s': str, 'max_len': int, 'name': str, 'return': str}"
      ]
     },
     "execution_count": 88,
     "metadata": {},
     "output_type": "execute_result"
    }
   ],
   "source": [
    "test_str.__annotations__"
   ]
  },
  {
   "cell_type": "markdown",
   "id": "011838da",
   "metadata": {},
   "source": [
    "Эту информацию могут использовать декораторы, ide или библиотеки (например, для проверки синтаксиса)"
   ]
  },
  {
   "cell_type": "code",
   "execution_count": 89,
   "id": "464f3199",
   "metadata": {
    "ExecuteTime": {
     "end_time": "2022-10-19T10:28:48.393011Z",
     "start_time": "2022-10-19T10:28:48.386815Z"
    }
   },
   "outputs": [],
   "source": [
    "from inspect import signature"
   ]
  },
  {
   "cell_type": "code",
   "execution_count": 91,
   "id": "8ae03bb7",
   "metadata": {
    "ExecuteTime": {
     "end_time": "2022-10-19T10:29:02.524377Z",
     "start_time": "2022-10-19T10:29:02.518763Z"
    }
   },
   "outputs": [
    {
     "data": {
      "text/plain": [
       "str"
      ]
     },
     "execution_count": 91,
     "metadata": {},
     "output_type": "execute_result"
    }
   ],
   "source": [
    "sig = signature(test_str)\n",
    "\n",
    "sig.return_annotation"
   ]
  },
  {
   "cell_type": "code",
   "execution_count": 94,
   "id": "7f2ab3e5",
   "metadata": {
    "ExecuteTime": {
     "end_time": "2022-10-19T10:29:36.778039Z",
     "start_time": "2022-10-19T10:29:36.772944Z"
    }
   },
   "outputs": [
    {
     "data": {
      "text/plain": [
       "odict_values([<Parameter \"s: str\">, <Parameter \"max_len: int = 10\">, <Parameter \"name: str = 'test'\">])"
      ]
     },
     "execution_count": 94,
     "metadata": {},
     "output_type": "execute_result"
    }
   ],
   "source": [
    "sig.parameters.values()"
   ]
  },
  {
   "cell_type": "markdown",
   "id": "ee604698",
   "metadata": {},
   "source": [
    "### Functions magics"
   ]
  },
  {
   "cell_type": "code",
   "execution_count": 99,
   "id": "c4ce489a",
   "metadata": {
    "ExecuteTime": {
     "end_time": "2022-10-19T10:30:18.704330Z",
     "start_time": "2022-10-19T10:30:18.699613Z"
    }
   },
   "outputs": [],
   "source": [
    "def test_str(s, max_len=10, name='test'):\n",
    "    some_var = 0\n",
    "    other_var = '10'\n",
    "    return s[:max_len]"
   ]
  },
  {
   "cell_type": "code",
   "execution_count": 100,
   "id": "c716a849",
   "metadata": {
    "ExecuteTime": {
     "end_time": "2022-10-19T10:30:19.269597Z",
     "start_time": "2022-10-19T10:30:19.260678Z"
    }
   },
   "outputs": [
    {
     "data": {
      "text/plain": [
       "(10, 'test')"
      ]
     },
     "execution_count": 100,
     "metadata": {},
     "output_type": "execute_result"
    }
   ],
   "source": [
    "test_str.__defaults__"
   ]
  },
  {
   "cell_type": "code",
   "execution_count": 101,
   "id": "1f657ee7",
   "metadata": {
    "ExecuteTime": {
     "end_time": "2022-10-19T10:30:19.414691Z",
     "start_time": "2022-10-19T10:30:19.405763Z"
    }
   },
   "outputs": [
    {
     "data": {
      "text/plain": [
       "<code object test_str at 0x7fccfa509450, file \"/tmp/ipykernel_984442/2346920870.py\", line 1>"
      ]
     },
     "execution_count": 101,
     "metadata": {},
     "output_type": "execute_result"
    }
   ],
   "source": [
    "test_str.__code__"
   ]
  },
  {
   "cell_type": "code",
   "execution_count": 102,
   "id": "256aa5f3",
   "metadata": {
    "ExecuteTime": {
     "end_time": "2022-10-19T10:30:19.961711Z",
     "start_time": "2022-10-19T10:30:19.952728Z"
    }
   },
   "outputs": [
    {
     "data": {
      "text/plain": [
       "('s', 'max_len', 'name', 'some_var', 'other_var')"
      ]
     },
     "execution_count": 102,
     "metadata": {},
     "output_type": "execute_result"
    }
   ],
   "source": [
    "test_str.__code__.co_varnames"
   ]
  },
  {
   "cell_type": "code",
   "execution_count": 103,
   "id": "ac66050d",
   "metadata": {
    "ExecuteTime": {
     "end_time": "2022-10-19T10:30:34.392245Z",
     "start_time": "2022-10-19T10:30:34.387027Z"
    }
   },
   "outputs": [
    {
     "data": {
      "text/plain": [
       "3"
      ]
     },
     "execution_count": 103,
     "metadata": {},
     "output_type": "execute_result"
    }
   ],
   "source": [
    "test_str.__code__.co_argcount"
   ]
  },
  {
   "cell_type": "code",
   "execution_count": 105,
   "id": "39eedb76",
   "metadata": {
    "ExecuteTime": {
     "end_time": "2022-10-19T10:31:17.306535Z",
     "start_time": "2022-10-19T10:31:17.301518Z"
    }
   },
   "outputs": [
    {
     "data": {
      "text/plain": [
       "5"
      ]
     },
     "execution_count": 105,
     "metadata": {},
     "output_type": "execute_result"
    }
   ],
   "source": [
    "test_str.__code__.co_nlocals"
   ]
  },
  {
   "cell_type": "markdown",
   "id": "c496e862-9f90-4489-952c-7aec3fc73129",
   "metadata": {},
   "source": [
    "## Higher order functions"
   ]
  },
  {
   "cell_type": "markdown",
   "id": "5ce8b1b2-55fa-41be-972a-ad97f65e4d24",
   "metadata": {},
   "source": [
    "Что-то там было про функции в качестве аргументов и возвращаемых значений..."
   ]
  },
  {
   "cell_type": "code",
   "execution_count": 106,
   "id": "7313747f",
   "metadata": {
    "ExecuteTime": {
     "end_time": "2022-10-19T10:32:41.991515Z",
     "start_time": "2022-10-19T10:32:41.985017Z"
    }
   },
   "outputs": [],
   "source": [
    "def calc_smth(func, other_func, a):\n",
    "    return func(other_func(a))"
   ]
  },
  {
   "cell_type": "code",
   "execution_count": 107,
   "id": "46af506b",
   "metadata": {
    "ExecuteTime": {
     "end_time": "2022-10-19T10:33:10.108105Z",
     "start_time": "2022-10-19T10:33:10.102941Z"
    }
   },
   "outputs": [
    {
     "data": {
      "text/plain": [
       "'(1, 2, 3, 4, 5)'"
      ]
     },
     "execution_count": 107,
     "metadata": {},
     "output_type": "execute_result"
    }
   ],
   "source": [
    "calc_smth(str, tuple, [1, 2, 3, 4, 5])"
   ]
  },
  {
   "cell_type": "code",
   "execution_count": 109,
   "id": "20614401",
   "metadata": {
    "ExecuteTime": {
     "end_time": "2022-10-19T10:33:33.489452Z",
     "start_time": "2022-10-19T10:33:33.483884Z"
    }
   },
   "outputs": [
    {
     "data": {
      "text/plain": [
       "'(1, 2, 3, 4, 5)'"
      ]
     },
     "execution_count": 109,
     "metadata": {},
     "output_type": "execute_result"
    }
   ],
   "source": [
    "str(tuple([1, 2, 3, 4, 5]))"
   ]
  },
  {
   "cell_type": "code",
   "execution_count": 110,
   "id": "a9a924a2",
   "metadata": {
    "ExecuteTime": {
     "end_time": "2022-10-19T10:34:15.949722Z",
     "start_time": "2022-10-19T10:34:15.944971Z"
    }
   },
   "outputs": [],
   "source": [
    "sample = [1, [3.], '214124', (4, 3,), {'a': 42}]"
   ]
  },
  {
   "cell_type": "code",
   "execution_count": 111,
   "id": "f7282d0a",
   "metadata": {
    "ExecuteTime": {
     "end_time": "2022-10-19T10:34:22.962501Z",
     "start_time": "2022-10-19T10:34:22.951661Z"
    }
   },
   "outputs": [
    {
     "ename": "TypeError",
     "evalue": "'<' not supported between instances of 'list' and 'int'",
     "output_type": "error",
     "traceback": [
      "\u001b[0;31m---------------------------------------------------------------------------\u001b[0m",
      "\u001b[0;31mTypeError\u001b[0m                                 Traceback (most recent call last)",
      "Cell \u001b[0;32mIn [111], line 1\u001b[0m\n\u001b[0;32m----> 1\u001b[0m \u001b[38;5;28msorted\u001b[39m(sample)\n",
      "\u001b[0;31mTypeError\u001b[0m: '<' not supported between instances of 'list' and 'int'"
     ]
    }
   ],
   "source": [
    "sorted(sample)"
   ]
  },
  {
   "cell_type": "code",
   "execution_count": 112,
   "id": "f0549d37",
   "metadata": {
    "ExecuteTime": {
     "end_time": "2022-10-19T10:34:42.784262Z",
     "start_time": "2022-10-19T10:34:42.778673Z"
    }
   },
   "outputs": [
    {
     "name": "stdout",
     "output_type": "stream",
     "text": [
      "Help on built-in function sorted in module builtins:\n",
      "\n",
      "sorted(iterable, /, *, key=None, reverse=False)\n",
      "    Return a new list containing all items from the iterable in ascending order.\n",
      "    \n",
      "    A custom key function can be supplied to customize the sort order, and the\n",
      "    reverse flag can be set to request the result in descending order.\n",
      "\n"
     ]
    }
   ],
   "source": [
    "help(sorted)"
   ]
  },
  {
   "cell_type": "code",
   "execution_count": 113,
   "id": "2171c445",
   "metadata": {
    "ExecuteTime": {
     "end_time": "2022-10-19T10:36:00.664255Z",
     "start_time": "2022-10-19T10:36:00.659846Z"
    }
   },
   "outputs": [],
   "source": [
    "def my_key(a):\n",
    "    return len(repr(a))"
   ]
  },
  {
   "cell_type": "code",
   "execution_count": 118,
   "id": "0c4d26b1",
   "metadata": {
    "ExecuteTime": {
     "end_time": "2022-10-19T10:37:23.547513Z",
     "start_time": "2022-10-19T10:37:23.542077Z"
    }
   },
   "outputs": [
    {
     "data": {
      "text/plain": [
       "[1, [3.0], (4, 3), '214124', {'a': 42}]"
      ]
     },
     "execution_count": 118,
     "metadata": {},
     "output_type": "execute_result"
    }
   ],
   "source": [
    "sorted(sample, key=my_key)"
   ]
  },
  {
   "cell_type": "markdown",
   "id": "5f4d1315-5d8f-4381-9187-425163f2160d",
   "metadata": {},
   "source": [
    "## Анонимные функции"
   ]
  },
  {
   "cell_type": "markdown",
   "id": "880990ec-5bb0-4ab7-81f4-1053368679d3",
   "metadata": {},
   "source": [
    "Ключевое слово **lambda**, краткое объявление функции как выражения.\n",
    "\n",
    "Отлично может использоваться в качестве аргумента для функций высших порядков"
   ]
  },
  {
   "cell_type": "code",
   "execution_count": 120,
   "id": "6a948261",
   "metadata": {
    "ExecuteTime": {
     "end_time": "2022-10-19T10:38:47.374531Z",
     "start_time": "2022-10-19T10:38:47.369418Z"
    }
   },
   "outputs": [
    {
     "data": {
      "text/plain": [
       "[1, [3.0], (4, 3), '214124', {'a': 42}]"
      ]
     },
     "execution_count": 120,
     "metadata": {},
     "output_type": "execute_result"
    }
   ],
   "source": [
    "sorted(sample, key = lambda x: len(repr(x)))"
   ]
  },
  {
   "cell_type": "code",
   "execution_count": 121,
   "id": "b4635af1-fe96-48f6-88ae-eeb653f75eb7",
   "metadata": {
    "ExecuteTime": {
     "end_time": "2022-10-19T10:39:38.411912Z",
     "start_time": "2022-10-19T10:39:38.405339Z"
    }
   },
   "outputs": [
    {
     "data": {
      "text/plain": [
       "['€']"
      ]
     },
     "execution_count": 121,
     "metadata": {},
     "output_type": "execute_result"
    }
   ],
   "source": [
    "symbols = '$¢£¥€¤'\n",
    "filtered_symbols = [s for s in symbols if ord(s) > 200]\n",
    "filtered_symbols"
   ]
  },
  {
   "cell_type": "code",
   "execution_count": 128,
   "id": "0d2a812b",
   "metadata": {
    "ExecuteTime": {
     "end_time": "2022-10-19T10:43:40.482849Z",
     "start_time": "2022-10-19T10:43:40.476946Z"
    }
   },
   "outputs": [
    {
     "data": {
      "text/plain": [
       "['$', '¢', '£', '¥', '€', '¤', '']"
      ]
     },
     "execution_count": 128,
     "metadata": {},
     "output_type": "execute_result"
    }
   ],
   "source": [
    "example_list = list(symbols) + ['']\n",
    "\n",
    "example_list"
   ]
  },
  {
   "cell_type": "code",
   "execution_count": 129,
   "id": "f486731f",
   "metadata": {
    "ExecuteTime": {
     "end_time": "2022-10-19T10:43:47.686256Z",
     "start_time": "2022-10-19T10:43:47.680884Z"
    }
   },
   "outputs": [
    {
     "data": {
      "text/plain": [
       "['$', '¢', '£', '¥', '€', '¤']"
      ]
     },
     "execution_count": 129,
     "metadata": {},
     "output_type": "execute_result"
    }
   ],
   "source": [
    "list(filter(None, example_list))"
   ]
  },
  {
   "cell_type": "markdown",
   "id": "a9d55cb6",
   "metadata": {},
   "source": [
    "## Variable scope"
   ]
  },
  {
   "cell_type": "markdown",
   "id": "d14eeadf",
   "metadata": {},
   "source": [
    "https://pythontutor.com"
   ]
  },
  {
   "cell_type": "code",
   "execution_count": 1,
   "id": "fcc8d84f",
   "metadata": {
    "ExecuteTime": {
     "end_time": "2022-10-19T10:48:41.788874Z",
     "start_time": "2022-10-19T10:48:41.782809Z"
    }
   },
   "outputs": [],
   "source": [
    "# from dis import dis"
   ]
  },
  {
   "cell_type": "code",
   "execution_count": 4,
   "id": "6d6461aa",
   "metadata": {
    "ExecuteTime": {
     "end_time": "2022-10-19T10:49:27.197789Z",
     "start_time": "2022-10-19T10:49:27.192885Z"
    }
   },
   "outputs": [],
   "source": [
    "def func_1(e):\n",
    "    print('locals', locals())\n",
    "    print('dir', dir())\n",
    "    print('alpha' in globals())\n",
    "    print(e)\n",
    "    print(alpha)"
   ]
  },
  {
   "cell_type": "code",
   "execution_count": 5,
   "id": "b226398c",
   "metadata": {
    "ExecuteTime": {
     "end_time": "2022-10-19T10:49:27.777121Z",
     "start_time": "2022-10-19T10:49:27.761521Z"
    }
   },
   "outputs": [
    {
     "name": "stdout",
     "output_type": "stream",
     "text": [
      "locals {'e': 42}\n",
      "dir ['e']\n",
      "False\n",
      "42\n"
     ]
    },
    {
     "ename": "NameError",
     "evalue": "name 'alpha' is not defined",
     "output_type": "error",
     "traceback": [
      "\u001b[0;31m---------------------------------------------------------------------------\u001b[0m",
      "\u001b[0;31mNameError\u001b[0m                                 Traceback (most recent call last)",
      "Cell \u001b[0;32mIn [5], line 1\u001b[0m\n\u001b[0;32m----> 1\u001b[0m func_1(\u001b[38;5;241m42\u001b[39m)\n",
      "Cell \u001b[0;32mIn [4], line 6\u001b[0m, in \u001b[0;36mfunc_1\u001b[0;34m(e)\u001b[0m\n\u001b[1;32m      4\u001b[0m \u001b[38;5;28mprint\u001b[39m(\u001b[38;5;124m'\u001b[39m\u001b[38;5;124malpha\u001b[39m\u001b[38;5;124m'\u001b[39m \u001b[38;5;129;01min\u001b[39;00m \u001b[38;5;28mglobals\u001b[39m())\n\u001b[1;32m      5\u001b[0m \u001b[38;5;28mprint\u001b[39m(e)\n\u001b[0;32m----> 6\u001b[0m \u001b[38;5;28mprint\u001b[39m(\u001b[43malpha\u001b[49m)\n",
      "\u001b[0;31mNameError\u001b[0m: name 'alpha' is not defined"
     ]
    }
   ],
   "source": [
    "func_1(42)"
   ]
  },
  {
   "cell_type": "code",
   "execution_count": 6,
   "id": "9cf9cbc9",
   "metadata": {
    "ExecuteTime": {
     "end_time": "2022-10-19T10:49:42.003640Z",
     "start_time": "2022-10-19T10:49:41.996873Z"
    }
   },
   "outputs": [
    {
     "name": "stdout",
     "output_type": "stream",
     "text": [
      "locals {'e': 3}\n",
      "dir ['e']\n",
      "True\n",
      "3\n",
      "1337\n"
     ]
    }
   ],
   "source": [
    "alpha = 1337\n",
    "\n",
    "func_1(3)"
   ]
  },
  {
   "cell_type": "code",
   "execution_count": 8,
   "id": "3f6913f3",
   "metadata": {
    "ExecuteTime": {
     "end_time": "2022-10-19T10:52:31.570797Z",
     "start_time": "2022-10-19T10:52:31.556560Z"
    }
   },
   "outputs": [
    {
     "name": "stdout",
     "output_type": "stream",
     "text": [
      "1337\n"
     ]
    },
    {
     "ename": "UnboundLocalError",
     "evalue": "local variable 'b' referenced before assignment",
     "output_type": "error",
     "traceback": [
      "\u001b[0;31m---------------------------------------------------------------------------\u001b[0m",
      "\u001b[0;31mUnboundLocalError\u001b[0m                         Traceback (most recent call last)",
      "Cell \u001b[0;32mIn [8], line 7\u001b[0m\n\u001b[1;32m      4\u001b[0m     \u001b[38;5;28mprint\u001b[39m(b)\n\u001b[1;32m      5\u001b[0m     b \u001b[38;5;241m=\u001b[39m \u001b[38;5;241m9\u001b[39m\n\u001b[0;32m----> 7\u001b[0m func_2(\u001b[38;5;241m1337\u001b[39m)\n",
      "Cell \u001b[0;32mIn [8], line 4\u001b[0m, in \u001b[0;36mfunc_2\u001b[0;34m(a)\u001b[0m\n\u001b[1;32m      2\u001b[0m \u001b[38;5;28;01mdef\u001b[39;00m \u001b[38;5;21mfunc_2\u001b[39m(a):\n\u001b[1;32m      3\u001b[0m     \u001b[38;5;28mprint\u001b[39m(a)\n\u001b[0;32m----> 4\u001b[0m     \u001b[38;5;28mprint\u001b[39m(\u001b[43mb\u001b[49m)\n\u001b[1;32m      5\u001b[0m     b \u001b[38;5;241m=\u001b[39m \u001b[38;5;241m9\u001b[39m\n",
      "\u001b[0;31mUnboundLocalError\u001b[0m: local variable 'b' referenced before assignment"
     ]
    }
   ],
   "source": [
    "b = 42\n",
    "def func_2(a):\n",
    "    print(a)\n",
    "    print(b)\n",
    "    b = 9\n",
    "    \n",
    "func_2(1337)"
   ]
  },
  {
   "cell_type": "code",
   "execution_count": 9,
   "id": "ec18c75f",
   "metadata": {
    "ExecuteTime": {
     "end_time": "2022-10-19T10:53:32.962114Z",
     "start_time": "2022-10-19T10:53:32.957433Z"
    }
   },
   "outputs": [],
   "source": [
    "b = 42\n",
    "def func_2_fixed(a):\n",
    "    global b\n",
    "    print(a)\n",
    "    print(b)\n",
    "    b = 9"
   ]
  },
  {
   "cell_type": "code",
   "execution_count": 10,
   "id": "fda91e3b",
   "metadata": {
    "ExecuteTime": {
     "end_time": "2022-10-19T10:53:48.197003Z",
     "start_time": "2022-10-19T10:53:48.189268Z"
    }
   },
   "outputs": [
    {
     "name": "stdout",
     "output_type": "stream",
     "text": [
      "1337\n",
      "42\n"
     ]
    }
   ],
   "source": [
    "func_2_fixed(1337)"
   ]
  },
  {
   "cell_type": "code",
   "execution_count": 11,
   "id": "07450f19",
   "metadata": {
    "ExecuteTime": {
     "end_time": "2022-10-19T10:54:15.985466Z",
     "start_time": "2022-10-19T10:54:15.978333Z"
    }
   },
   "outputs": [
    {
     "data": {
      "text/plain": [
       "9"
      ]
     },
     "execution_count": 11,
     "metadata": {},
     "output_type": "execute_result"
    }
   ],
   "source": [
    "b"
   ]
  },
  {
   "cell_type": "markdown",
   "id": "48ebe348",
   "metadata": {},
   "source": [
    "## Generators"
   ]
  },
  {
   "cell_type": "markdown",
   "id": "6ca283bc",
   "metadata": {},
   "source": [
    "By now you have probably noticed that most container objects can be looped over using a for statement"
   ]
  },
  {
   "cell_type": "code",
   "execution_count": 12,
   "id": "f5de1a3c",
   "metadata": {
    "ExecuteTime": {
     "end_time": "2022-10-19T10:55:44.476265Z",
     "start_time": "2022-10-19T10:55:44.470090Z"
    }
   },
   "outputs": [],
   "source": [
    "s = '12312414124jhfsdjghs'\n",
    "\n",
    "it = iter(s)"
   ]
  },
  {
   "cell_type": "code",
   "execution_count": 35,
   "id": "dc15db71",
   "metadata": {
    "ExecuteTime": {
     "end_time": "2022-10-19T10:56:30.756760Z",
     "start_time": "2022-10-19T10:56:30.744132Z"
    }
   },
   "outputs": [
    {
     "ename": "StopIteration",
     "evalue": "",
     "output_type": "error",
     "traceback": [
      "\u001b[0;31m---------------------------------------------------------------------------\u001b[0m",
      "\u001b[0;31mStopIteration\u001b[0m                             Traceback (most recent call last)",
      "Cell \u001b[0;32mIn [35], line 1\u001b[0m\n\u001b[0;32m----> 1\u001b[0m \u001b[38;5;28mnext\u001b[39m(it)\n",
      "\u001b[0;31mStopIteration\u001b[0m: "
     ]
    }
   ],
   "source": [
    "next(it)"
   ]
  },
  {
   "cell_type": "code",
   "execution_count": 48,
   "id": "10e5fe22",
   "metadata": {
    "ExecuteTime": {
     "end_time": "2022-10-19T10:57:57.244926Z",
     "start_time": "2022-10-19T10:57:57.237985Z"
    }
   },
   "outputs": [],
   "source": [
    "filtered_iter = filter(None, [1, 2, 3, 0, 1, 6, 4])"
   ]
  },
  {
   "cell_type": "code",
   "execution_count": 49,
   "id": "c5f34738",
   "metadata": {
    "ExecuteTime": {
     "end_time": "2022-10-19T10:57:58.706583Z",
     "start_time": "2022-10-19T10:57:58.701536Z"
    }
   },
   "outputs": [
    {
     "data": {
      "text/plain": [
       "[1, 2, 3, 1, 6, 4]"
      ]
     },
     "execution_count": 49,
     "metadata": {},
     "output_type": "execute_result"
    }
   ],
   "source": [
    "list(filtered_iter)"
   ]
  },
  {
   "cell_type": "code",
   "execution_count": 50,
   "id": "ffe668d2",
   "metadata": {
    "ExecuteTime": {
     "end_time": "2022-10-19T10:58:39.054507Z",
     "start_time": "2022-10-19T10:58:39.047943Z"
    }
   },
   "outputs": [],
   "source": [
    "def my_custom_range(start, end):\n",
    "    while start < end:\n",
    "        yield start\n",
    "        start += 1"
   ]
  },
  {
   "cell_type": "code",
   "execution_count": 52,
   "id": "14bda386",
   "metadata": {
    "ExecuteTime": {
     "end_time": "2022-10-19T10:59:01.379715Z",
     "start_time": "2022-10-19T10:59:01.373730Z"
    }
   },
   "outputs": [],
   "source": [
    "custom_range = my_custom_range(-10, 10)"
   ]
  },
  {
   "cell_type": "code",
   "execution_count": 63,
   "id": "dbc49b0d",
   "metadata": {
    "ExecuteTime": {
     "end_time": "2022-10-19T10:59:46.758990Z",
     "start_time": "2022-10-19T10:59:46.752805Z"
    }
   },
   "outputs": [],
   "source": [
    "for elem in custom_range:\n",
    "    print(elem, end=' ')"
   ]
  },
  {
   "cell_type": "markdown",
   "id": "5e4c354d",
   "metadata": {},
   "source": [
    "## Closures"
   ]
  },
  {
   "cell_type": "markdown",
   "id": "99b68ada",
   "metadata": {},
   "source": [
    "Замыкания -- это функции, которые при своей работе используют переменные, не объявленные внутри самой функции и при этом не являющиеся глобальными. "
   ]
  },
  {
   "cell_type": "markdown",
   "id": "8c7a58be",
   "metadata": {},
   "source": [
    "Сложно"
   ]
  },
  {
   "cell_type": "markdown",
   "id": "524c00fe",
   "metadata": {},
   "source": [
    "Функция -- это объект. И мы можем изготовить его внутри другой функции"
   ]
  },
  {
   "cell_type": "code",
   "execution_count": 64,
   "id": "871f820c",
   "metadata": {
    "ExecuteTime": {
     "end_time": "2022-10-19T11:01:56.304313Z",
     "start_time": "2022-10-19T11:01:56.299552Z"
    }
   },
   "outputs": [],
   "source": [
    "def make_constant_adder(const: float):\n",
    "    \n",
    "    def adder(a: float, b: float = const):\n",
    "        return a + b\n",
    "    \n",
    "    return adder"
   ]
  },
  {
   "cell_type": "code",
   "execution_count": 66,
   "id": "72a64143",
   "metadata": {
    "ExecuteTime": {
     "end_time": "2022-10-19T11:02:11.115601Z",
     "start_time": "2022-10-19T11:02:11.109633Z"
    }
   },
   "outputs": [],
   "source": [
    "adder = make_constant_adder(42)"
   ]
  },
  {
   "cell_type": "code",
   "execution_count": 70,
   "id": "769da043",
   "metadata": {
    "ExecuteTime": {
     "end_time": "2022-10-19T11:02:48.879862Z",
     "start_time": "2022-10-19T11:02:48.874449Z"
    }
   },
   "outputs": [
    {
     "data": {
      "text/plain": [
       "16"
      ]
     },
     "execution_count": 70,
     "metadata": {},
     "output_type": "execute_result"
    }
   ],
   "source": [
    "adder(2, 14)"
   ]
  },
  {
   "cell_type": "code",
   "execution_count": 76,
   "id": "8aa1acb6",
   "metadata": {
    "ExecuteTime": {
     "end_time": "2022-10-19T11:08:11.733810Z",
     "start_time": "2022-10-19T11:08:11.730230Z"
    }
   },
   "outputs": [],
   "source": [
    "def make_constant_adder(const: float):\n",
    "    \n",
    "    def adder(a: float):\n",
    "        return a + const\n",
    "    \n",
    "    return adder"
   ]
  },
  {
   "cell_type": "code",
   "execution_count": 77,
   "id": "c0fa6dca",
   "metadata": {
    "ExecuteTime": {
     "end_time": "2022-10-19T11:08:12.297784Z",
     "start_time": "2022-10-19T11:08:12.292075Z"
    }
   },
   "outputs": [],
   "source": [
    "b = make_constant_adder(42)"
   ]
  },
  {
   "cell_type": "code",
   "execution_count": 78,
   "id": "4763d03e",
   "metadata": {
    "ExecuteTime": {
     "end_time": "2022-10-19T11:08:14.226911Z",
     "start_time": "2022-10-19T11:08:14.217976Z"
    }
   },
   "outputs": [
    {
     "data": {
      "text/plain": [
       "44"
      ]
     },
     "execution_count": 78,
     "metadata": {},
     "output_type": "execute_result"
    }
   ],
   "source": [
    "b(2)"
   ]
  },
  {
   "cell_type": "code",
   "execution_count": 81,
   "id": "dc669a9f",
   "metadata": {
    "ExecuteTime": {
     "end_time": "2022-10-19T11:08:45.049335Z",
     "start_time": "2022-10-19T11:08:45.044081Z"
    }
   },
   "outputs": [
    {
     "data": {
      "text/plain": [
       "42"
      ]
     },
     "execution_count": 81,
     "metadata": {},
     "output_type": "execute_result"
    }
   ],
   "source": [
    "b.__closure__[0].cell_contents"
   ]
  },
  {
   "cell_type": "markdown",
   "id": "02345400",
   "metadata": {},
   "source": [
    "### naive example"
   ]
  },
  {
   "cell_type": "markdown",
   "id": "b410e3f7",
   "metadata": {},
   "source": [
    "### less naive example"
   ]
  },
  {
   "cell_type": "markdown",
   "id": "f5334c1d",
   "metadata": {},
   "source": [
    "Разберем на примерах"
   ]
  },
  {
   "cell_type": "markdown",
   "id": "b2f5975a",
   "metadata": {},
   "source": [
    "Пусть есть функция `average`, которая считает среднее. В эту функцию при этом постоянно подаются новые данные, и она должна считать среднее с учетом предыдущих обработанных значений.\n",
    "\n",
    "```python\n",
    "    average(2)  # 2\n",
    "    average(6)  # (6 + 2) / 2 = 4\n",
    "    average(7)  # (6 + 2 + 8) / 3 = 5\n",
    "```"
   ]
  },
  {
   "cell_type": "markdown",
   "id": "0c78b6d3",
   "metadata": {},
   "source": [
    "To summarize: a closure is function that retains the bindings of the free variables that\n",
    "exist when the function is defined, so that they can be used later when the function is\n",
    "invoked and the defining scope is no longer available."
   ]
  },
  {
   "cell_type": "code",
   "execution_count": 82,
   "id": "17dd0297",
   "metadata": {
    "ExecuteTime": {
     "end_time": "2022-10-19T11:10:55.066718Z",
     "start_time": "2022-10-19T11:10:55.061316Z"
    }
   },
   "outputs": [],
   "source": [
    "def make_averager():\n",
    "    history = []\n",
    "    \n",
    "    def averager(val):\n",
    "        history.append(val)\n",
    "        total = sum(history)\n",
    "        return total / len(history)\n",
    "    \n",
    "    return averager"
   ]
  },
  {
   "cell_type": "code",
   "execution_count": 83,
   "id": "0c02f032",
   "metadata": {
    "ExecuteTime": {
     "end_time": "2022-10-19T11:11:10.191764Z",
     "start_time": "2022-10-19T11:11:10.184657Z"
    }
   },
   "outputs": [],
   "source": [
    "average = make_averager()"
   ]
  },
  {
   "cell_type": "code",
   "execution_count": 84,
   "id": "a3dcf75f",
   "metadata": {
    "ExecuteTime": {
     "end_time": "2022-10-19T11:11:16.219338Z",
     "start_time": "2022-10-19T11:11:16.214091Z"
    }
   },
   "outputs": [
    {
     "data": {
      "text/plain": [
       "2.0"
      ]
     },
     "execution_count": 84,
     "metadata": {},
     "output_type": "execute_result"
    }
   ],
   "source": [
    "average(2)"
   ]
  },
  {
   "cell_type": "code",
   "execution_count": 85,
   "id": "990277c9",
   "metadata": {
    "ExecuteTime": {
     "end_time": "2022-10-19T11:11:24.745382Z",
     "start_time": "2022-10-19T11:11:24.734541Z"
    }
   },
   "outputs": [
    {
     "data": {
      "text/plain": [
       "4.5"
      ]
     },
     "execution_count": 85,
     "metadata": {},
     "output_type": "execute_result"
    }
   ],
   "source": [
    "average(7)"
   ]
  },
  {
   "cell_type": "code",
   "execution_count": 87,
   "id": "aa46d761",
   "metadata": {
    "ExecuteTime": {
     "end_time": "2022-10-19T11:12:57.775394Z",
     "start_time": "2022-10-19T11:12:57.770177Z"
    }
   },
   "outputs": [
    {
     "data": {
      "text/plain": [
       "('val', 'total')"
      ]
     },
     "execution_count": 87,
     "metadata": {},
     "output_type": "execute_result"
    }
   ],
   "source": [
    "average.__code__.co_varnames"
   ]
  },
  {
   "cell_type": "code",
   "execution_count": 88,
   "id": "9b60e2ea",
   "metadata": {
    "ExecuteTime": {
     "end_time": "2022-10-19T11:13:26.039816Z",
     "start_time": "2022-10-19T11:13:26.034352Z"
    }
   },
   "outputs": [
    {
     "data": {
      "text/plain": [
       "('history',)"
      ]
     },
     "execution_count": 88,
     "metadata": {},
     "output_type": "execute_result"
    }
   ],
   "source": [
    "average.__code__.co_freevars"
   ]
  },
  {
   "cell_type": "code",
   "execution_count": 91,
   "id": "8b7a9bfb",
   "metadata": {
    "ExecuteTime": {
     "end_time": "2022-10-19T11:13:50.874683Z",
     "start_time": "2022-10-19T11:13:50.865081Z"
    }
   },
   "outputs": [
    {
     "data": {
      "text/plain": [
       "[2, 7]"
      ]
     },
     "execution_count": 91,
     "metadata": {},
     "output_type": "execute_result"
    }
   ],
   "source": [
    "average.__closure__[0].cell_contents"
   ]
  },
  {
   "cell_type": "markdown",
   "id": "da55b12e",
   "metadata": {},
   "source": [
    "**effective example**"
   ]
  },
  {
   "cell_type": "markdown",
   "id": "f83c1842",
   "metadata": {},
   "source": [
    "В чем проблема имплементации выше? Как можно ее улучшить?"
   ]
  },
  {
   "cell_type": "code",
   "execution_count": 92,
   "id": "cf9c7263",
   "metadata": {
    "ExecuteTime": {
     "end_time": "2022-10-19T11:15:49.144531Z",
     "start_time": "2022-10-19T11:15:49.139019Z"
    }
   },
   "outputs": [],
   "source": [
    "def make_averager():\n",
    "    avg_cnt = 0\n",
    "    running_total = 0\n",
    "    \n",
    "    def averager(val):\n",
    "        avg_cnt += 1\n",
    "        running_total += val\n",
    "        return running_total / avg_cnt\n",
    "    \n",
    "    return averager"
   ]
  },
  {
   "cell_type": "code",
   "execution_count": 93,
   "id": "ffa58924",
   "metadata": {
    "ExecuteTime": {
     "end_time": "2022-10-19T11:15:57.090847Z",
     "start_time": "2022-10-19T11:15:57.084757Z"
    }
   },
   "outputs": [],
   "source": [
    "average = make_averager()"
   ]
  },
  {
   "cell_type": "code",
   "execution_count": 94,
   "id": "3fab5bb0",
   "metadata": {
    "ExecuteTime": {
     "end_time": "2022-10-19T11:16:04.061644Z",
     "start_time": "2022-10-19T11:16:04.046804Z"
    }
   },
   "outputs": [
    {
     "ename": "UnboundLocalError",
     "evalue": "local variable 'avg_cnt' referenced before assignment",
     "output_type": "error",
     "traceback": [
      "\u001b[0;31m---------------------------------------------------------------------------\u001b[0m",
      "\u001b[0;31mUnboundLocalError\u001b[0m                         Traceback (most recent call last)",
      "Cell \u001b[0;32mIn [94], line 1\u001b[0m\n\u001b[0;32m----> 1\u001b[0m average(\u001b[38;5;241m2\u001b[39m)\n",
      "Cell \u001b[0;32mIn [92], line 6\u001b[0m, in \u001b[0;36mmake_averager.<locals>.averager\u001b[0;34m(val)\u001b[0m\n\u001b[1;32m      5\u001b[0m \u001b[38;5;28;01mdef\u001b[39;00m \u001b[38;5;21maverager\u001b[39m(val):\n\u001b[0;32m----> 6\u001b[0m     avg_cnt \u001b[38;5;241m+\u001b[39m\u001b[38;5;241m=\u001b[39m \u001b[38;5;241m1\u001b[39m\n\u001b[1;32m      7\u001b[0m     running_total \u001b[38;5;241m+\u001b[39m\u001b[38;5;241m=\u001b[39m val\n\u001b[1;32m      8\u001b[0m     \u001b[38;5;28;01mreturn\u001b[39;00m running_total \u001b[38;5;241m/\u001b[39m avg_cnt\n",
      "\u001b[0;31mUnboundLocalError\u001b[0m: local variable 'avg_cnt' referenced before assignment"
     ]
    }
   ],
   "source": [
    "average(2)"
   ]
  },
  {
   "cell_type": "code",
   "execution_count": 95,
   "id": "2d6675d9",
   "metadata": {
    "ExecuteTime": {
     "end_time": "2022-10-19T11:17:29.090010Z",
     "start_time": "2022-10-19T11:17:29.084489Z"
    }
   },
   "outputs": [
    {
     "data": {
      "text/plain": [
       "('val', 'avg_cnt', 'running_total')"
      ]
     },
     "execution_count": 95,
     "metadata": {},
     "output_type": "execute_result"
    }
   ],
   "source": [
    "average.__code__.co_varnames"
   ]
  },
  {
   "cell_type": "code",
   "execution_count": 103,
   "id": "4a741cda",
   "metadata": {
    "ExecuteTime": {
     "end_time": "2022-10-19T11:20:17.749591Z",
     "start_time": "2022-10-19T11:20:17.744135Z"
    }
   },
   "outputs": [],
   "source": [
    "def make_averager():\n",
    "    stats = {\n",
    "        'avg_cnt': 0,\n",
    "        'running_total': 0\n",
    "    }\n",
    "    \n",
    "    print(hex(id(stats)))\n",
    "    \n",
    "    def averager(val):\n",
    "        stats['avg_cnt'] += 1\n",
    "        stats['running_total'] += val\n",
    "        return stats['running_total'] / stats['avg_cnt']\n",
    "    \n",
    "    return averager"
   ]
  },
  {
   "cell_type": "code",
   "execution_count": 104,
   "id": "a276a21f",
   "metadata": {
    "ExecuteTime": {
     "end_time": "2022-10-19T11:20:18.901329Z",
     "start_time": "2022-10-19T11:20:18.894627Z"
    }
   },
   "outputs": [
    {
     "name": "stdout",
     "output_type": "stream",
     "text": [
      "0x7fb65f5153c0\n"
     ]
    }
   ],
   "source": [
    "average = make_averager()"
   ]
  },
  {
   "cell_type": "code",
   "execution_count": 105,
   "id": "d19e389b",
   "metadata": {
    "ExecuteTime": {
     "end_time": "2022-10-19T11:20:19.852260Z",
     "start_time": "2022-10-19T11:20:19.843015Z"
    }
   },
   "outputs": [
    {
     "data": {
      "text/plain": [
       "2.0"
      ]
     },
     "execution_count": 105,
     "metadata": {},
     "output_type": "execute_result"
    }
   ],
   "source": [
    "average(2)"
   ]
  },
  {
   "cell_type": "code",
   "execution_count": 106,
   "id": "8f842eda",
   "metadata": {
    "ExecuteTime": {
     "end_time": "2022-10-19T11:20:20.253244Z",
     "start_time": "2022-10-19T11:20:20.243867Z"
    }
   },
   "outputs": [
    {
     "data": {
      "text/plain": [
       "4.5"
      ]
     },
     "execution_count": 106,
     "metadata": {},
     "output_type": "execute_result"
    }
   ],
   "source": [
    "average(7)"
   ]
  },
  {
   "cell_type": "code",
   "execution_count": 107,
   "id": "49ed3b66",
   "metadata": {
    "ExecuteTime": {
     "end_time": "2022-10-19T11:20:21.034228Z",
     "start_time": "2022-10-19T11:20:21.028872Z"
    }
   },
   "outputs": [
    {
     "data": {
      "text/plain": [
       "(('val',), <cell at 0x7fb65f1a6dc0: dict object at 0x7fb65f5153c0>)"
      ]
     },
     "execution_count": 107,
     "metadata": {},
     "output_type": "execute_result"
    }
   ],
   "source": [
    "average.__code__.co_varnames, average.__closure__[0]"
   ]
  },
  {
   "cell_type": "code",
   "execution_count": 110,
   "id": "221a4071",
   "metadata": {
    "ExecuteTime": {
     "end_time": "2022-10-19T11:21:17.936389Z",
     "start_time": "2022-10-19T11:21:17.930862Z"
    }
   },
   "outputs": [],
   "source": [
    "def make_averager():\n",
    "    avg_cnt = 0\n",
    "    running_total = 0\n",
    "    \n",
    "    def averager(val):\n",
    "        nonlocal avg_cnt, running_total\n",
    "        avg_cnt += 1\n",
    "        running_total += val\n",
    "        return running_total / avg_cnt\n",
    "    \n",
    "    return averager"
   ]
  },
  {
   "cell_type": "code",
   "execution_count": 115,
   "id": "b17225eb",
   "metadata": {
    "ExecuteTime": {
     "end_time": "2022-10-19T11:21:38.204759Z",
     "start_time": "2022-10-19T11:21:38.198115Z"
    }
   },
   "outputs": [],
   "source": [
    "average = make_averager()"
   ]
  },
  {
   "cell_type": "code",
   "execution_count": 116,
   "id": "46d82549",
   "metadata": {
    "ExecuteTime": {
     "end_time": "2022-10-19T11:21:39.044707Z",
     "start_time": "2022-10-19T11:21:39.039635Z"
    }
   },
   "outputs": [
    {
     "data": {
      "text/plain": [
       "10.0"
      ]
     },
     "execution_count": 116,
     "metadata": {},
     "output_type": "execute_result"
    }
   ],
   "source": [
    "average(10)"
   ]
  },
  {
   "cell_type": "code",
   "execution_count": 117,
   "id": "6e43d644",
   "metadata": {
    "ExecuteTime": {
     "end_time": "2022-10-19T11:21:43.544169Z",
     "start_time": "2022-10-19T11:21:43.535015Z"
    }
   },
   "outputs": [
    {
     "data": {
      "text/plain": [
       "7.5"
      ]
     },
     "execution_count": 117,
     "metadata": {},
     "output_type": "execute_result"
    }
   ],
   "source": [
    "average(5)"
   ]
  },
  {
   "cell_type": "code",
   "execution_count": 120,
   "id": "a97a9798",
   "metadata": {
    "ExecuteTime": {
     "end_time": "2022-10-19T11:22:16.393436Z",
     "start_time": "2022-10-19T11:22:16.384185Z"
    }
   },
   "outputs": [
    {
     "data": {
      "text/plain": [
       "('val',)"
      ]
     },
     "execution_count": 120,
     "metadata": {},
     "output_type": "execute_result"
    }
   ],
   "source": [
    "average.__code__.co_varnames"
   ]
  },
  {
   "cell_type": "code",
   "execution_count": 121,
   "id": "db088b7e",
   "metadata": {
    "ExecuteTime": {
     "end_time": "2022-10-19T11:22:23.090572Z",
     "start_time": "2022-10-19T11:22:23.085139Z"
    }
   },
   "outputs": [
    {
     "data": {
      "text/plain": [
       "(<cell at 0x7fb65f0f9b80: int object at 0x7fb70f243950>,\n",
       " <cell at 0x7fb65f0f9550: int object at 0x7fb70f243af0>)"
      ]
     },
     "execution_count": 121,
     "metadata": {},
     "output_type": "execute_result"
    }
   ],
   "source": [
    "average.__closure__"
   ]
  },
  {
   "cell_type": "code",
   "execution_count": 122,
   "id": "50ab47a1",
   "metadata": {
    "ExecuteTime": {
     "end_time": "2022-10-19T11:22:40.626996Z",
     "start_time": "2022-10-19T11:22:40.621809Z"
    }
   },
   "outputs": [
    {
     "data": {
      "text/plain": [
       "('avg_cnt', 'running_total')"
      ]
     },
     "execution_count": 122,
     "metadata": {},
     "output_type": "execute_result"
    }
   ],
   "source": [
    "average.__code__.co_freevars"
   ]
  },
  {
   "cell_type": "markdown",
   "id": "6365b474",
   "metadata": {},
   "source": [
    "Пример про использование closure для создания html хедера"
   ]
  },
  {
   "cell_type": "code",
   "execution_count": 126,
   "id": "050a7d09",
   "metadata": {
    "ExecuteTime": {
     "end_time": "2022-10-19T11:24:46.045853Z",
     "start_time": "2022-10-19T11:24:46.040939Z"
    }
   },
   "outputs": [],
   "source": [
    "def wrap_html(title):\n",
    "    \n",
    "    def print_wrapped(a):\n",
    "        return f'<{title}>{a}</{title}>'\n",
    "    \n",
    "    return print_wrapped"
   ]
  },
  {
   "cell_type": "code",
   "execution_count": 127,
   "id": "8be3800d",
   "metadata": {
    "ExecuteTime": {
     "end_time": "2022-10-19T11:24:47.387951Z",
     "start_time": "2022-10-19T11:24:47.381920Z"
    }
   },
   "outputs": [],
   "source": [
    "wrapping_title = wrap_html('title')"
   ]
  },
  {
   "cell_type": "code",
   "execution_count": 128,
   "id": "e37b43ad",
   "metadata": {
    "ExecuteTime": {
     "end_time": "2022-10-19T11:24:48.267618Z",
     "start_time": "2022-10-19T11:24:48.257950Z"
    }
   },
   "outputs": [
    {
     "data": {
      "text/plain": [
       "'<title>1242141</title>'"
      ]
     },
     "execution_count": 128,
     "metadata": {},
     "output_type": "execute_result"
    }
   ],
   "source": [
    "wrapping_title('1242141')"
   ]
  },
  {
   "cell_type": "markdown",
   "id": "040fa2c5",
   "metadata": {},
   "source": [
    "## Рекурсия"
   ]
  },
  {
   "cell_type": "markdown",
   "id": "df8dbfef",
   "metadata": {},
   "source": [
    "Функция может вызывать саму себя внутри. Классический пример -- вычисление факториала"
   ]
  },
  {
   "cell_type": "markdown",
   "id": "be6a5c86",
   "metadata": {},
   "source": [
    "### Факториал"
   ]
  },
  {
   "cell_type": "code",
   "execution_count": 1,
   "id": "a6feeda1",
   "metadata": {
    "ExecuteTime": {
     "end_time": "2022-11-02T11:47:24.704284Z",
     "start_time": "2022-11-02T11:47:24.699135Z"
    }
   },
   "outputs": [],
   "source": [
    "def fact(n):\n",
    "    if n == 0:\n",
    "        return 1  # условие выхода из рекурсии\n",
    "    return n * fact(n - 1)"
   ]
  },
  {
   "cell_type": "code",
   "execution_count": 2,
   "id": "5e7a15a4",
   "metadata": {
    "ExecuteTime": {
     "end_time": "2022-11-02T11:47:25.904405Z",
     "start_time": "2022-11-02T11:47:25.892652Z"
    }
   },
   "outputs": [
    {
     "data": {
      "text/plain": [
       "24"
      ]
     },
     "execution_count": 2,
     "metadata": {},
     "output_type": "execute_result"
    }
   ],
   "source": [
    "fact(4)"
   ]
  },
  {
   "cell_type": "code",
   "execution_count": 3,
   "id": "4af0b027",
   "metadata": {
    "ExecuteTime": {
     "end_time": "2022-11-02T11:47:27.393127Z",
     "start_time": "2022-11-02T11:47:27.384105Z"
    }
   },
   "outputs": [
    {
     "data": {
      "text/plain": [
       "24"
      ]
     },
     "execution_count": 3,
     "metadata": {},
     "output_type": "execute_result"
    }
   ],
   "source": [
    "1 * 2 * 3 * 4"
   ]
  },
  {
   "cell_type": "markdown",
   "id": "4f38e980",
   "metadata": {},
   "source": [
    "Рекурсивный вызов -- сложная штука. Для каждого вызова рекурсии мы создаем новый контекст, новое пространство имен... В Python нет дополнительных оптизимаций на этот счет. Поэтому не стоит без необходимости использовать рекурсию вместо цикла. Собственно, на примере выше мы просто заместили цикл. Если глубина рекурсии порядка n (размера входных данных), то наверное мы просто заместили цикл и стоит подумать, а так ли нужна ли нам рекурсия в данном случае.\n",
    "\n",
    "Критерий хорошей рекурсии -- количество рекурсивных вызовов не превышает log(N). Например, merge sort или хотя бы бинпоиск "
   ]
  },
  {
   "cell_type": "markdown",
   "id": "9ba98529",
   "metadata": {},
   "source": [
    "### Пример из жизни"
   ]
  },
  {
   "cell_type": "code",
   "execution_count": 6,
   "id": "dc091630",
   "metadata": {
    "ExecuteTime": {
     "end_time": "2022-11-02T11:53:04.182478Z",
     "start_time": "2022-11-02T11:53:04.175932Z"
    }
   },
   "outputs": [],
   "source": [
    "import os"
   ]
  },
  {
   "cell_type": "code",
   "execution_count": 8,
   "id": "25d36c98",
   "metadata": {
    "ExecuteTime": {
     "end_time": "2022-11-02T11:53:37.077941Z",
     "start_time": "2022-11-02T11:53:37.073045Z"
    }
   },
   "outputs": [],
   "source": [
    "import os\n",
    "\n",
    "def traverse_subfolders(path):\n",
    "    files = os.listdir(path)\n",
    "    \n",
    "    for file in files:\n",
    "        curr_path = os.path.join(path, file)\n",
    "        print(curr_path)\n",
    "        if os.path.isdir(curr_path):\n",
    "            traverse_subfolders(curr_path)"
   ]
  },
  {
   "cell_type": "code",
   "execution_count": 9,
   "id": "12dc983e",
   "metadata": {
    "ExecuteTime": {
     "end_time": "2022-11-02T11:53:57.329713Z",
     "start_time": "2022-11-02T11:53:57.319748Z"
    }
   },
   "outputs": [
    {
     "name": "stdout",
     "output_type": "stream",
     "text": [
      "/home/sanityseeker/Documents/Projects/ida-python-2022/seminar_4_hashtables_solved.ipynb\n",
      "/home/sanityseeker/Documents/Projects/ida-python-2022/seminar_5_6_functions_2.ipynb\n",
      "/home/sanityseeker/Documents/Projects/ida-python-2022/img\n",
      "/home/sanityseeker/Documents/Projects/ida-python-2022/img/python_seq_memory.png\n",
      "/home/sanityseeker/Documents/Projects/ida-python-2022/.ipynb_checkpoints\n",
      "/home/sanityseeker/Documents/Projects/ida-python-2022/.ipynb_checkpoints/seminar_5_functions_2-checkpoint.ipynb\n",
      "/home/sanityseeker/Documents/Projects/ida-python-2022/.ipynb_checkpoints/seminar_5_6_functions_1-checkpoint.ipynb\n",
      "/home/sanityseeker/Documents/Projects/ida-python-2022/.ipynb_checkpoints/seminar_3_sequences-checkpoint.ipynb\n",
      "/home/sanityseeker/Documents/Projects/ida-python-2022/.ipynb_checkpoints/seminar_2_floats_fstrings-checkpoint.ipynb\n",
      "/home/sanityseeker/Documents/Projects/ida-python-2022/.ipynb_checkpoints/seminar_4_hashtables_solved-checkpoint.ipynb\n",
      "/home/sanityseeker/Documents/Projects/ida-python-2022/.ipynb_checkpoints/seminar_4_hashtables-checkpoint.ipynb\n",
      "/home/sanityseeker/Documents/Projects/ida-python-2022/.ipynb_checkpoints/seminar_5_functions_solved-checkpoint.ipynb\n",
      "/home/sanityseeker/Documents/Projects/ida-python-2022/.ipynb_checkpoints/seminar_5_functions_1-checkpoint.ipynb\n",
      "/home/sanityseeker/Documents/Projects/ida-python-2022/.ipynb_checkpoints/seminar_5_6_functions_2-checkpoint.ipynb\n",
      "/home/sanityseeker/Documents/Projects/ida-python-2022/seminar_5_functions_solved.ipynb\n",
      "/home/sanityseeker/Documents/Projects/ida-python-2022/seminar_4_hashtables.ipynb\n",
      "/home/sanityseeker/Documents/Projects/ida-python-2022/seminar_1_intro.ipynb\n",
      "/home/sanityseeker/Documents/Projects/ida-python-2022/seminar_5_6_functions_1.ipynb\n",
      "/home/sanityseeker/Documents/Projects/ida-python-2022/.git\n",
      "/home/sanityseeker/Documents/Projects/ida-python-2022/.git/logs\n",
      "/home/sanityseeker/Documents/Projects/ida-python-2022/.git/logs/refs\n",
      "/home/sanityseeker/Documents/Projects/ida-python-2022/.git/logs/refs/heads\n",
      "/home/sanityseeker/Documents/Projects/ida-python-2022/.git/logs/refs/heads/main\n",
      "/home/sanityseeker/Documents/Projects/ida-python-2022/.git/logs/refs/remotes\n",
      "/home/sanityseeker/Documents/Projects/ida-python-2022/.git/logs/refs/remotes/origin\n",
      "/home/sanityseeker/Documents/Projects/ida-python-2022/.git/logs/refs/remotes/origin/main\n",
      "/home/sanityseeker/Documents/Projects/ida-python-2022/.git/logs/refs/remotes/origin/HEAD\n",
      "/home/sanityseeker/Documents/Projects/ida-python-2022/.git/logs/HEAD\n",
      "/home/sanityseeker/Documents/Projects/ida-python-2022/.git/objects\n",
      "/home/sanityseeker/Documents/Projects/ida-python-2022/.git/objects/2f\n",
      "/home/sanityseeker/Documents/Projects/ida-python-2022/.git/objects/2f/8c0da35a357f6d4f15dac8efea97c8199472ea\n",
      "/home/sanityseeker/Documents/Projects/ida-python-2022/.git/objects/a9\n",
      "/home/sanityseeker/Documents/Projects/ida-python-2022/.git/objects/a9/c6391d015a1f46a30ea4ed339ca25982bcd0d9\n",
      "/home/sanityseeker/Documents/Projects/ida-python-2022/.git/objects/c2\n",
      "/home/sanityseeker/Documents/Projects/ida-python-2022/.git/objects/c2/d078b3f1d17251a70b24cf2179ca34ca4b45e4\n",
      "/home/sanityseeker/Documents/Projects/ida-python-2022/.git/objects/ec\n",
      "/home/sanityseeker/Documents/Projects/ida-python-2022/.git/objects/ec/4c25058cb6f510231adb6030c9cd5c46a26d66\n",
      "/home/sanityseeker/Documents/Projects/ida-python-2022/.git/objects/fb\n",
      "/home/sanityseeker/Documents/Projects/ida-python-2022/.git/objects/fb/5cb167905c4c62db78528caba00ecc1284adef\n",
      "/home/sanityseeker/Documents/Projects/ida-python-2022/.git/objects/86\n",
      "/home/sanityseeker/Documents/Projects/ida-python-2022/.git/objects/86/0d62fd205c593161bf3cb38003c2dce1beaaea\n",
      "/home/sanityseeker/Documents/Projects/ida-python-2022/.git/objects/pack\n",
      "/home/sanityseeker/Documents/Projects/ida-python-2022/.git/objects/pack/pack-8be4a917896a228067fc3a279b61a879bffb9831.pack\n",
      "/home/sanityseeker/Documents/Projects/ida-python-2022/.git/objects/pack/pack-8be4a917896a228067fc3a279b61a879bffb9831.idx\n",
      "/home/sanityseeker/Documents/Projects/ida-python-2022/.git/objects/56\n",
      "/home/sanityseeker/Documents/Projects/ida-python-2022/.git/objects/56/037b10718df244c907c05eea90aa3ad8766eb4\n",
      "/home/sanityseeker/Documents/Projects/ida-python-2022/.git/objects/44\n",
      "/home/sanityseeker/Documents/Projects/ida-python-2022/.git/objects/44/648e4a8352ecdebcd39c7fcc98a75a3fa30054\n",
      "/home/sanityseeker/Documents/Projects/ida-python-2022/.git/objects/50\n",
      "/home/sanityseeker/Documents/Projects/ida-python-2022/.git/objects/50/a766e2f75ec09b977e00c073e8aaee30bc431d\n",
      "/home/sanityseeker/Documents/Projects/ida-python-2022/.git/objects/4e\n",
      "/home/sanityseeker/Documents/Projects/ida-python-2022/.git/objects/4e/1abd4e0454b9c973a385dc46f79d4e14a9fe19\n",
      "/home/sanityseeker/Documents/Projects/ida-python-2022/.git/objects/f1\n",
      "/home/sanityseeker/Documents/Projects/ida-python-2022/.git/objects/f1/dfe736d0f0deb4df910bdca5fabff84f5db5a1\n",
      "/home/sanityseeker/Documents/Projects/ida-python-2022/.git/objects/40\n",
      "/home/sanityseeker/Documents/Projects/ida-python-2022/.git/objects/40/20295e001f218a058a6f724948d1a4cf956edd\n",
      "/home/sanityseeker/Documents/Projects/ida-python-2022/.git/objects/40/7dd2d7c318eb37dcad06bb7345a278da831313\n",
      "/home/sanityseeker/Documents/Projects/ida-python-2022/.git/objects/3c\n",
      "/home/sanityseeker/Documents/Projects/ida-python-2022/.git/objects/3c/6f5db229bfea3a6aa4043823bfc7d54cb88847\n",
      "/home/sanityseeker/Documents/Projects/ida-python-2022/.git/objects/c4\n",
      "/home/sanityseeker/Documents/Projects/ida-python-2022/.git/objects/c4/2cc93364283d79b24ed8339482600aef739afe\n",
      "/home/sanityseeker/Documents/Projects/ida-python-2022/.git/objects/51\n",
      "/home/sanityseeker/Documents/Projects/ida-python-2022/.git/objects/51/5c8565130d8b3753d14c2e6f04f9433cb3ef88\n",
      "/home/sanityseeker/Documents/Projects/ida-python-2022/.git/objects/51/eedcca6690b1fef96d5476396cdb69f4015463\n",
      "/home/sanityseeker/Documents/Projects/ida-python-2022/.git/objects/75\n",
      "/home/sanityseeker/Documents/Projects/ida-python-2022/.git/objects/75/9e3ab233e15046b74448d34a5e357b0bf09e6c\n",
      "/home/sanityseeker/Documents/Projects/ida-python-2022/.git/objects/eb\n",
      "/home/sanityseeker/Documents/Projects/ida-python-2022/.git/objects/eb/16f454c32c4e3a46d0b4bb9b4251bb90f267bb\n",
      "/home/sanityseeker/Documents/Projects/ida-python-2022/.git/objects/ce\n",
      "/home/sanityseeker/Documents/Projects/ida-python-2022/.git/objects/ce/afc9d219c6a50778557d1e7d6dfe3aff297da9\n",
      "/home/sanityseeker/Documents/Projects/ida-python-2022/.git/objects/55\n",
      "/home/sanityseeker/Documents/Projects/ida-python-2022/.git/objects/55/4e578730336d047a7c83da60c652c9c31cb0e8\n",
      "/home/sanityseeker/Documents/Projects/ida-python-2022/.git/objects/4a\n",
      "/home/sanityseeker/Documents/Projects/ida-python-2022/.git/objects/4a/e4ee8415fc11c24bccc8c14fbb2ad2b2623e34\n",
      "/home/sanityseeker/Documents/Projects/ida-python-2022/.git/objects/db\n",
      "/home/sanityseeker/Documents/Projects/ida-python-2022/.git/objects/db/3482557ebd9e900fee50753883554d2062f6ff\n",
      "/home/sanityseeker/Documents/Projects/ida-python-2022/.git/objects/b5\n",
      "/home/sanityseeker/Documents/Projects/ida-python-2022/.git/objects/b5/e8c61be70a7e0f4911510dc5a72686c70400d4\n",
      "/home/sanityseeker/Documents/Projects/ida-python-2022/.git/objects/58\n",
      "/home/sanityseeker/Documents/Projects/ida-python-2022/.git/objects/58/8b5ba080f355844a1273fb6141a296fce7e2ad\n",
      "/home/sanityseeker/Documents/Projects/ida-python-2022/.git/objects/05\n",
      "/home/sanityseeker/Documents/Projects/ida-python-2022/.git/objects/05/c74faddaca1db00b8dd5281e8073ca8ed10f28\n",
      "/home/sanityseeker/Documents/Projects/ida-python-2022/.git/objects/91\n",
      "/home/sanityseeker/Documents/Projects/ida-python-2022/.git/objects/91/6eb7726b7fa20f08578bf5b460697490c03e06\n",
      "/home/sanityseeker/Documents/Projects/ida-python-2022/.git/objects/26\n",
      "/home/sanityseeker/Documents/Projects/ida-python-2022/.git/objects/26/f90e57178f06ea4a87b819017c36ee7d3bb880\n",
      "/home/sanityseeker/Documents/Projects/ida-python-2022/.git/objects/04\n",
      "/home/sanityseeker/Documents/Projects/ida-python-2022/.git/objects/04/8adcb66387be0d1f8927b5c9fea8a9b8cdab6b\n",
      "/home/sanityseeker/Documents/Projects/ida-python-2022/.git/objects/15\n",
      "/home/sanityseeker/Documents/Projects/ida-python-2022/.git/objects/15/29ab86ff61c262e01eb2e87d74b5ffe77216cc\n",
      "/home/sanityseeker/Documents/Projects/ida-python-2022/.git/objects/8d\n",
      "/home/sanityseeker/Documents/Projects/ida-python-2022/.git/objects/8d/198b59734942e48fbcf5de0ed474f6213eaf29\n",
      "/home/sanityseeker/Documents/Projects/ida-python-2022/.git/objects/14\n",
      "/home/sanityseeker/Documents/Projects/ida-python-2022/.git/objects/14/372c901f27705c76872226c98d78ca13edff7f\n",
      "/home/sanityseeker/Documents/Projects/ida-python-2022/.git/objects/63\n",
      "/home/sanityseeker/Documents/Projects/ida-python-2022/.git/objects/63/e90f9468780960842dd1acdce4d5c1062c379a\n",
      "/home/sanityseeker/Documents/Projects/ida-python-2022/.git/objects/b1\n",
      "/home/sanityseeker/Documents/Projects/ida-python-2022/.git/objects/b1/a6d1ffbdad3a670e228816809c9cdb7b3487c2\n",
      "/home/sanityseeker/Documents/Projects/ida-python-2022/.git/objects/95\n",
      "/home/sanityseeker/Documents/Projects/ida-python-2022/.git/objects/95/54ca64cc10228f47b434d9d4078c57d5525b98\n",
      "/home/sanityseeker/Documents/Projects/ida-python-2022/.git/objects/72\n",
      "/home/sanityseeker/Documents/Projects/ida-python-2022/.git/objects/72/b440dd47368fe3772d670741b331778f889c43\n",
      "/home/sanityseeker/Documents/Projects/ida-python-2022/.git/objects/72/c521d050cfa8fa264b720b684a35e25dab9ff4\n",
      "/home/sanityseeker/Documents/Projects/ida-python-2022/.git/objects/72/8a81415293a9000c441da5284a05a82ca81808\n",
      "/home/sanityseeker/Documents/Projects/ida-python-2022/.git/objects/89\n",
      "/home/sanityseeker/Documents/Projects/ida-python-2022/.git/objects/89/3387e99baed389b9e8cbefd2909c98cebbd887\n",
      "/home/sanityseeker/Documents/Projects/ida-python-2022/.git/objects/78\n",
      "/home/sanityseeker/Documents/Projects/ida-python-2022/.git/objects/78/dfa4a76a6967e7722917c8493cba98072b8383\n",
      "/home/sanityseeker/Documents/Projects/ida-python-2022/.git/objects/54\n",
      "/home/sanityseeker/Documents/Projects/ida-python-2022/.git/objects/54/b912f73444529fd8d931db84e1701d53fc4bbd\n",
      "/home/sanityseeker/Documents/Projects/ida-python-2022/.git/objects/info\n",
      "/home/sanityseeker/Documents/Projects/ida-python-2022/.git/objects/10\n",
      "/home/sanityseeker/Documents/Projects/ida-python-2022/.git/objects/10/3196ed14f51d60d3fe191e872ad87121cfcf6a\n",
      "/home/sanityseeker/Documents/Projects/ida-python-2022/.git/objects/38\n",
      "/home/sanityseeker/Documents/Projects/ida-python-2022/.git/objects/38/b46db1e8e3d8831523398c151cefb9b0ed20c8\n",
      "/home/sanityseeker/Documents/Projects/ida-python-2022/.git/refs\n",
      "/home/sanityseeker/Documents/Projects/ida-python-2022/.git/refs/heads\n",
      "/home/sanityseeker/Documents/Projects/ida-python-2022/.git/refs/heads/main\n",
      "/home/sanityseeker/Documents/Projects/ida-python-2022/.git/refs/tags\n",
      "/home/sanityseeker/Documents/Projects/ida-python-2022/.git/refs/remotes\n",
      "/home/sanityseeker/Documents/Projects/ida-python-2022/.git/refs/remotes/origin\n",
      "/home/sanityseeker/Documents/Projects/ida-python-2022/.git/refs/remotes/origin/main\n",
      "/home/sanityseeker/Documents/Projects/ida-python-2022/.git/refs/remotes/origin/HEAD\n",
      "/home/sanityseeker/Documents/Projects/ida-python-2022/.git/ORIG_HEAD\n",
      "/home/sanityseeker/Documents/Projects/ida-python-2022/.git/HEAD\n",
      "/home/sanityseeker/Documents/Projects/ida-python-2022/.git/packed-refs\n",
      "/home/sanityseeker/Documents/Projects/ida-python-2022/.git/config\n",
      "/home/sanityseeker/Documents/Projects/ida-python-2022/.git/index\n",
      "/home/sanityseeker/Documents/Projects/ida-python-2022/.git/FETCH_HEAD\n",
      "/home/sanityseeker/Documents/Projects/ida-python-2022/.git/hooks\n",
      "/home/sanityseeker/Documents/Projects/ida-python-2022/.git/hooks/prepare-commit-msg.sample\n",
      "/home/sanityseeker/Documents/Projects/ida-python-2022/.git/hooks/pre-push.sample\n",
      "/home/sanityseeker/Documents/Projects/ida-python-2022/.git/hooks/update.sample\n",
      "/home/sanityseeker/Documents/Projects/ida-python-2022/.git/hooks/pre-applypatch.sample\n",
      "/home/sanityseeker/Documents/Projects/ida-python-2022/.git/hooks/commit-msg.sample\n",
      "/home/sanityseeker/Documents/Projects/ida-python-2022/.git/hooks/fsmonitor-watchman.sample\n",
      "/home/sanityseeker/Documents/Projects/ida-python-2022/.git/hooks/applypatch-msg.sample\n",
      "/home/sanityseeker/Documents/Projects/ida-python-2022/.git/hooks/pre-commit.sample\n",
      "/home/sanityseeker/Documents/Projects/ida-python-2022/.git/hooks/pre-merge-commit.sample\n",
      "/home/sanityseeker/Documents/Projects/ida-python-2022/.git/hooks/pre-rebase.sample\n",
      "/home/sanityseeker/Documents/Projects/ida-python-2022/.git/hooks/pre-receive.sample\n",
      "/home/sanityseeker/Documents/Projects/ida-python-2022/.git/hooks/post-update.sample\n",
      "/home/sanityseeker/Documents/Projects/ida-python-2022/.git/description\n",
      "/home/sanityseeker/Documents/Projects/ida-python-2022/.git/COMMIT_EDITMSG\n",
      "/home/sanityseeker/Documents/Projects/ida-python-2022/.git/branches\n",
      "/home/sanityseeker/Documents/Projects/ida-python-2022/.git/info\n",
      "/home/sanityseeker/Documents/Projects/ida-python-2022/.git/info/exclude\n",
      "/home/sanityseeker/Documents/Projects/ida-python-2022/seminar_3_sequences.ipynb\n",
      "/home/sanityseeker/Documents/Projects/ida-python-2022/seminar_5_functions_1.ipynb\n",
      "/home/sanityseeker/Documents/Projects/ida-python-2022/seminar_2_floats_fstrings.ipynb\n",
      "/home/sanityseeker/Documents/Projects/ida-python-2022/seminar_5_functions_2.ipynb\n",
      "/home/sanityseeker/Documents/Projects/ida-python-2022/.gitignore\n",
      "/home/sanityseeker/Documents/Projects/ida-python-2022/README.md\n"
     ]
    }
   ],
   "source": [
    "traverse_subfolders('/home/sanityseeker/Documents/Projects/ida-python-2022/')"
   ]
  },
  {
   "cell_type": "code",
   "execution_count": 10,
   "id": "7b53eeec",
   "metadata": {
    "ExecuteTime": {
     "end_time": "2022-11-02T11:54:44.973856Z",
     "start_time": "2022-11-02T11:54:44.968770Z"
    }
   },
   "outputs": [],
   "source": [
    "import os\n",
    "\n",
    "def traverse_subfolders(path):    \n",
    "    for dir_name, sibdirs, files in os.walk(path):\n",
    "        for file in files:\n",
    "            print(os.path.join(dir_name, file))"
   ]
  },
  {
   "cell_type": "code",
   "execution_count": 11,
   "id": "701cb362",
   "metadata": {
    "ExecuteTime": {
     "end_time": "2022-11-02T11:54:58.851158Z",
     "start_time": "2022-11-02T11:54:58.844931Z"
    }
   },
   "outputs": [
    {
     "name": "stdout",
     "output_type": "stream",
     "text": [
      "/home/sanityseeker/Documents/Projects/ida-python-2022/seminar_4_hashtables_solved.ipynb\n",
      "/home/sanityseeker/Documents/Projects/ida-python-2022/seminar_5_6_functions_2.ipynb\n",
      "/home/sanityseeker/Documents/Projects/ida-python-2022/seminar_5_functions_solved.ipynb\n",
      "/home/sanityseeker/Documents/Projects/ida-python-2022/seminar_4_hashtables.ipynb\n",
      "/home/sanityseeker/Documents/Projects/ida-python-2022/seminar_1_intro.ipynb\n",
      "/home/sanityseeker/Documents/Projects/ida-python-2022/seminar_5_6_functions_1.ipynb\n",
      "/home/sanityseeker/Documents/Projects/ida-python-2022/seminar_3_sequences.ipynb\n",
      "/home/sanityseeker/Documents/Projects/ida-python-2022/seminar_5_functions_1.ipynb\n",
      "/home/sanityseeker/Documents/Projects/ida-python-2022/seminar_2_floats_fstrings.ipynb\n",
      "/home/sanityseeker/Documents/Projects/ida-python-2022/seminar_5_functions_2.ipynb\n",
      "/home/sanityseeker/Documents/Projects/ida-python-2022/.gitignore\n",
      "/home/sanityseeker/Documents/Projects/ida-python-2022/README.md\n",
      "/home/sanityseeker/Documents/Projects/ida-python-2022/img/python_seq_memory.png\n",
      "/home/sanityseeker/Documents/Projects/ida-python-2022/.ipynb_checkpoints/seminar_5_functions_2-checkpoint.ipynb\n",
      "/home/sanityseeker/Documents/Projects/ida-python-2022/.ipynb_checkpoints/seminar_5_6_functions_1-checkpoint.ipynb\n",
      "/home/sanityseeker/Documents/Projects/ida-python-2022/.ipynb_checkpoints/seminar_3_sequences-checkpoint.ipynb\n",
      "/home/sanityseeker/Documents/Projects/ida-python-2022/.ipynb_checkpoints/seminar_2_floats_fstrings-checkpoint.ipynb\n",
      "/home/sanityseeker/Documents/Projects/ida-python-2022/.ipynb_checkpoints/seminar_4_hashtables_solved-checkpoint.ipynb\n",
      "/home/sanityseeker/Documents/Projects/ida-python-2022/.ipynb_checkpoints/seminar_4_hashtables-checkpoint.ipynb\n",
      "/home/sanityseeker/Documents/Projects/ida-python-2022/.ipynb_checkpoints/seminar_5_functions_solved-checkpoint.ipynb\n",
      "/home/sanityseeker/Documents/Projects/ida-python-2022/.ipynb_checkpoints/seminar_5_functions_1-checkpoint.ipynb\n",
      "/home/sanityseeker/Documents/Projects/ida-python-2022/.ipynb_checkpoints/seminar_5_6_functions_2-checkpoint.ipynb\n",
      "/home/sanityseeker/Documents/Projects/ida-python-2022/.git/ORIG_HEAD\n",
      "/home/sanityseeker/Documents/Projects/ida-python-2022/.git/HEAD\n",
      "/home/sanityseeker/Documents/Projects/ida-python-2022/.git/packed-refs\n",
      "/home/sanityseeker/Documents/Projects/ida-python-2022/.git/config\n",
      "/home/sanityseeker/Documents/Projects/ida-python-2022/.git/index\n",
      "/home/sanityseeker/Documents/Projects/ida-python-2022/.git/FETCH_HEAD\n",
      "/home/sanityseeker/Documents/Projects/ida-python-2022/.git/description\n",
      "/home/sanityseeker/Documents/Projects/ida-python-2022/.git/COMMIT_EDITMSG\n",
      "/home/sanityseeker/Documents/Projects/ida-python-2022/.git/logs/HEAD\n",
      "/home/sanityseeker/Documents/Projects/ida-python-2022/.git/logs/refs/heads/main\n",
      "/home/sanityseeker/Documents/Projects/ida-python-2022/.git/logs/refs/remotes/origin/main\n",
      "/home/sanityseeker/Documents/Projects/ida-python-2022/.git/logs/refs/remotes/origin/HEAD\n",
      "/home/sanityseeker/Documents/Projects/ida-python-2022/.git/objects/2f/8c0da35a357f6d4f15dac8efea97c8199472ea\n",
      "/home/sanityseeker/Documents/Projects/ida-python-2022/.git/objects/a9/c6391d015a1f46a30ea4ed339ca25982bcd0d9\n",
      "/home/sanityseeker/Documents/Projects/ida-python-2022/.git/objects/c2/d078b3f1d17251a70b24cf2179ca34ca4b45e4\n",
      "/home/sanityseeker/Documents/Projects/ida-python-2022/.git/objects/ec/4c25058cb6f510231adb6030c9cd5c46a26d66\n",
      "/home/sanityseeker/Documents/Projects/ida-python-2022/.git/objects/fb/5cb167905c4c62db78528caba00ecc1284adef\n",
      "/home/sanityseeker/Documents/Projects/ida-python-2022/.git/objects/86/0d62fd205c593161bf3cb38003c2dce1beaaea\n",
      "/home/sanityseeker/Documents/Projects/ida-python-2022/.git/objects/pack/pack-8be4a917896a228067fc3a279b61a879bffb9831.pack\n",
      "/home/sanityseeker/Documents/Projects/ida-python-2022/.git/objects/pack/pack-8be4a917896a228067fc3a279b61a879bffb9831.idx\n",
      "/home/sanityseeker/Documents/Projects/ida-python-2022/.git/objects/56/037b10718df244c907c05eea90aa3ad8766eb4\n",
      "/home/sanityseeker/Documents/Projects/ida-python-2022/.git/objects/44/648e4a8352ecdebcd39c7fcc98a75a3fa30054\n",
      "/home/sanityseeker/Documents/Projects/ida-python-2022/.git/objects/50/a766e2f75ec09b977e00c073e8aaee30bc431d\n",
      "/home/sanityseeker/Documents/Projects/ida-python-2022/.git/objects/4e/1abd4e0454b9c973a385dc46f79d4e14a9fe19\n",
      "/home/sanityseeker/Documents/Projects/ida-python-2022/.git/objects/f1/dfe736d0f0deb4df910bdca5fabff84f5db5a1\n",
      "/home/sanityseeker/Documents/Projects/ida-python-2022/.git/objects/40/20295e001f218a058a6f724948d1a4cf956edd\n",
      "/home/sanityseeker/Documents/Projects/ida-python-2022/.git/objects/40/7dd2d7c318eb37dcad06bb7345a278da831313\n",
      "/home/sanityseeker/Documents/Projects/ida-python-2022/.git/objects/3c/6f5db229bfea3a6aa4043823bfc7d54cb88847\n",
      "/home/sanityseeker/Documents/Projects/ida-python-2022/.git/objects/c4/2cc93364283d79b24ed8339482600aef739afe\n",
      "/home/sanityseeker/Documents/Projects/ida-python-2022/.git/objects/51/5c8565130d8b3753d14c2e6f04f9433cb3ef88\n",
      "/home/sanityseeker/Documents/Projects/ida-python-2022/.git/objects/51/eedcca6690b1fef96d5476396cdb69f4015463\n",
      "/home/sanityseeker/Documents/Projects/ida-python-2022/.git/objects/75/9e3ab233e15046b74448d34a5e357b0bf09e6c\n",
      "/home/sanityseeker/Documents/Projects/ida-python-2022/.git/objects/eb/16f454c32c4e3a46d0b4bb9b4251bb90f267bb\n",
      "/home/sanityseeker/Documents/Projects/ida-python-2022/.git/objects/ce/afc9d219c6a50778557d1e7d6dfe3aff297da9\n",
      "/home/sanityseeker/Documents/Projects/ida-python-2022/.git/objects/55/4e578730336d047a7c83da60c652c9c31cb0e8\n",
      "/home/sanityseeker/Documents/Projects/ida-python-2022/.git/objects/4a/e4ee8415fc11c24bccc8c14fbb2ad2b2623e34\n",
      "/home/sanityseeker/Documents/Projects/ida-python-2022/.git/objects/db/3482557ebd9e900fee50753883554d2062f6ff\n",
      "/home/sanityseeker/Documents/Projects/ida-python-2022/.git/objects/b5/e8c61be70a7e0f4911510dc5a72686c70400d4\n",
      "/home/sanityseeker/Documents/Projects/ida-python-2022/.git/objects/58/8b5ba080f355844a1273fb6141a296fce7e2ad\n",
      "/home/sanityseeker/Documents/Projects/ida-python-2022/.git/objects/05/c74faddaca1db00b8dd5281e8073ca8ed10f28\n",
      "/home/sanityseeker/Documents/Projects/ida-python-2022/.git/objects/91/6eb7726b7fa20f08578bf5b460697490c03e06\n",
      "/home/sanityseeker/Documents/Projects/ida-python-2022/.git/objects/26/f90e57178f06ea4a87b819017c36ee7d3bb880\n",
      "/home/sanityseeker/Documents/Projects/ida-python-2022/.git/objects/04/8adcb66387be0d1f8927b5c9fea8a9b8cdab6b\n",
      "/home/sanityseeker/Documents/Projects/ida-python-2022/.git/objects/15/29ab86ff61c262e01eb2e87d74b5ffe77216cc\n",
      "/home/sanityseeker/Documents/Projects/ida-python-2022/.git/objects/8d/198b59734942e48fbcf5de0ed474f6213eaf29\n",
      "/home/sanityseeker/Documents/Projects/ida-python-2022/.git/objects/14/372c901f27705c76872226c98d78ca13edff7f\n",
      "/home/sanityseeker/Documents/Projects/ida-python-2022/.git/objects/63/e90f9468780960842dd1acdce4d5c1062c379a\n",
      "/home/sanityseeker/Documents/Projects/ida-python-2022/.git/objects/b1/a6d1ffbdad3a670e228816809c9cdb7b3487c2\n",
      "/home/sanityseeker/Documents/Projects/ida-python-2022/.git/objects/95/54ca64cc10228f47b434d9d4078c57d5525b98\n",
      "/home/sanityseeker/Documents/Projects/ida-python-2022/.git/objects/72/b440dd47368fe3772d670741b331778f889c43\n",
      "/home/sanityseeker/Documents/Projects/ida-python-2022/.git/objects/72/c521d050cfa8fa264b720b684a35e25dab9ff4\n",
      "/home/sanityseeker/Documents/Projects/ida-python-2022/.git/objects/72/8a81415293a9000c441da5284a05a82ca81808\n",
      "/home/sanityseeker/Documents/Projects/ida-python-2022/.git/objects/89/3387e99baed389b9e8cbefd2909c98cebbd887\n",
      "/home/sanityseeker/Documents/Projects/ida-python-2022/.git/objects/78/dfa4a76a6967e7722917c8493cba98072b8383\n",
      "/home/sanityseeker/Documents/Projects/ida-python-2022/.git/objects/54/b912f73444529fd8d931db84e1701d53fc4bbd\n",
      "/home/sanityseeker/Documents/Projects/ida-python-2022/.git/objects/10/3196ed14f51d60d3fe191e872ad87121cfcf6a\n",
      "/home/sanityseeker/Documents/Projects/ida-python-2022/.git/objects/38/b46db1e8e3d8831523398c151cefb9b0ed20c8\n",
      "/home/sanityseeker/Documents/Projects/ida-python-2022/.git/refs/heads/main\n",
      "/home/sanityseeker/Documents/Projects/ida-python-2022/.git/refs/remotes/origin/main\n",
      "/home/sanityseeker/Documents/Projects/ida-python-2022/.git/refs/remotes/origin/HEAD\n",
      "/home/sanityseeker/Documents/Projects/ida-python-2022/.git/hooks/prepare-commit-msg.sample\n",
      "/home/sanityseeker/Documents/Projects/ida-python-2022/.git/hooks/pre-push.sample\n",
      "/home/sanityseeker/Documents/Projects/ida-python-2022/.git/hooks/update.sample\n",
      "/home/sanityseeker/Documents/Projects/ida-python-2022/.git/hooks/pre-applypatch.sample\n",
      "/home/sanityseeker/Documents/Projects/ida-python-2022/.git/hooks/commit-msg.sample\n",
      "/home/sanityseeker/Documents/Projects/ida-python-2022/.git/hooks/fsmonitor-watchman.sample\n",
      "/home/sanityseeker/Documents/Projects/ida-python-2022/.git/hooks/applypatch-msg.sample\n",
      "/home/sanityseeker/Documents/Projects/ida-python-2022/.git/hooks/pre-commit.sample\n",
      "/home/sanityseeker/Documents/Projects/ida-python-2022/.git/hooks/pre-merge-commit.sample\n",
      "/home/sanityseeker/Documents/Projects/ida-python-2022/.git/hooks/pre-rebase.sample\n",
      "/home/sanityseeker/Documents/Projects/ida-python-2022/.git/hooks/pre-receive.sample\n",
      "/home/sanityseeker/Documents/Projects/ida-python-2022/.git/hooks/post-update.sample\n",
      "/home/sanityseeker/Documents/Projects/ida-python-2022/.git/info/exclude\n"
     ]
    }
   ],
   "source": [
    "traverse_subfolders('/home/sanityseeker/Documents/Projects/ida-python-2022/')"
   ]
  },
  {
   "cell_type": "markdown",
   "id": "9f8bf8fb",
   "metadata": {},
   "source": [
    "### overflow"
   ]
  },
  {
   "cell_type": "markdown",
   "id": "641f9c97",
   "metadata": {},
   "source": [
    "Поскольку в Python нет специальных оптимизаций для рекурсии, их глубина обычно сильно ограничена. Например, 1000 или 3000 как в моей системе"
   ]
  },
  {
   "cell_type": "code",
   "execution_count": 12,
   "id": "5311a4b2",
   "metadata": {
    "ExecuteTime": {
     "end_time": "2022-11-02T11:58:23.951804Z",
     "start_time": "2022-11-02T11:58:23.945006Z"
    }
   },
   "outputs": [
    {
     "name": "stdout",
     "output_type": "stream",
     "text": [
      "3000\n"
     ]
    }
   ],
   "source": [
    "import sys\n",
    "print(sys.getrecursionlimit())"
   ]
  },
  {
   "cell_type": "code",
   "execution_count": 16,
   "id": "ed618b3f",
   "metadata": {
    "ExecuteTime": {
     "end_time": "2022-11-02T12:00:20.316746Z",
     "start_time": "2022-11-02T12:00:20.289141Z"
    }
   },
   "outputs": [
    {
     "ename": "RecursionError",
     "evalue": "maximum recursion depth exceeded in comparison",
     "output_type": "error",
     "traceback": [
      "\u001b[0;31m---------------------------------------------------------------------------\u001b[0m",
      "\u001b[0;31mRecursionError\u001b[0m                            Traceback (most recent call last)",
      "Cell \u001b[0;32mIn [16], line 1\u001b[0m\n\u001b[0;32m----> 1\u001b[0m fact(\u001b[38;5;241m3000\u001b[39m)\n",
      "Cell \u001b[0;32mIn [1], line 4\u001b[0m, in \u001b[0;36mfact\u001b[0;34m(n)\u001b[0m\n\u001b[1;32m      2\u001b[0m \u001b[38;5;28;01mif\u001b[39;00m n \u001b[38;5;241m==\u001b[39m \u001b[38;5;241m0\u001b[39m:\n\u001b[1;32m      3\u001b[0m     \u001b[38;5;28;01mreturn\u001b[39;00m \u001b[38;5;241m1\u001b[39m  \u001b[38;5;66;03m# условие выхода из рекурсии\u001b[39;00m\n\u001b[0;32m----> 4\u001b[0m \u001b[38;5;28;01mreturn\u001b[39;00m n \u001b[38;5;241m*\u001b[39m \u001b[43mfact\u001b[49m\u001b[43m(\u001b[49m\u001b[43mn\u001b[49m\u001b[43m \u001b[49m\u001b[38;5;241;43m-\u001b[39;49m\u001b[43m \u001b[49m\u001b[38;5;241;43m1\u001b[39;49m\u001b[43m)\u001b[49m\n",
      "Cell \u001b[0;32mIn [1], line 4\u001b[0m, in \u001b[0;36mfact\u001b[0;34m(n)\u001b[0m\n\u001b[1;32m      2\u001b[0m \u001b[38;5;28;01mif\u001b[39;00m n \u001b[38;5;241m==\u001b[39m \u001b[38;5;241m0\u001b[39m:\n\u001b[1;32m      3\u001b[0m     \u001b[38;5;28;01mreturn\u001b[39;00m \u001b[38;5;241m1\u001b[39m  \u001b[38;5;66;03m# условие выхода из рекурсии\u001b[39;00m\n\u001b[0;32m----> 4\u001b[0m \u001b[38;5;28;01mreturn\u001b[39;00m n \u001b[38;5;241m*\u001b[39m \u001b[43mfact\u001b[49m\u001b[43m(\u001b[49m\u001b[43mn\u001b[49m\u001b[43m \u001b[49m\u001b[38;5;241;43m-\u001b[39;49m\u001b[43m \u001b[49m\u001b[38;5;241;43m1\u001b[39;49m\u001b[43m)\u001b[49m\n",
      "    \u001b[0;31m[... skipping similar frames: fact at line 4 (2969 times)]\u001b[0m\n",
      "Cell \u001b[0;32mIn [1], line 4\u001b[0m, in \u001b[0;36mfact\u001b[0;34m(n)\u001b[0m\n\u001b[1;32m      2\u001b[0m \u001b[38;5;28;01mif\u001b[39;00m n \u001b[38;5;241m==\u001b[39m \u001b[38;5;241m0\u001b[39m:\n\u001b[1;32m      3\u001b[0m     \u001b[38;5;28;01mreturn\u001b[39;00m \u001b[38;5;241m1\u001b[39m  \u001b[38;5;66;03m# условие выхода из рекурсии\u001b[39;00m\n\u001b[0;32m----> 4\u001b[0m \u001b[38;5;28;01mreturn\u001b[39;00m n \u001b[38;5;241m*\u001b[39m \u001b[43mfact\u001b[49m\u001b[43m(\u001b[49m\u001b[43mn\u001b[49m\u001b[43m \u001b[49m\u001b[38;5;241;43m-\u001b[39;49m\u001b[43m \u001b[49m\u001b[38;5;241;43m1\u001b[39;49m\u001b[43m)\u001b[49m\n",
      "Cell \u001b[0;32mIn [1], line 2\u001b[0m, in \u001b[0;36mfact\u001b[0;34m(n)\u001b[0m\n\u001b[1;32m      1\u001b[0m \u001b[38;5;28;01mdef\u001b[39;00m \u001b[38;5;21mfact\u001b[39m(n):\n\u001b[0;32m----> 2\u001b[0m     \u001b[38;5;28;01mif\u001b[39;00m \u001b[43mn\u001b[49m\u001b[43m \u001b[49m\u001b[38;5;241;43m==\u001b[39;49m\u001b[43m \u001b[49m\u001b[38;5;241;43m0\u001b[39;49m:\n\u001b[1;32m      3\u001b[0m         \u001b[38;5;28;01mreturn\u001b[39;00m \u001b[38;5;241m1\u001b[39m  \u001b[38;5;66;03m# условие выхода из рекурсии\u001b[39;00m\n\u001b[1;32m      4\u001b[0m     \u001b[38;5;28;01mreturn\u001b[39;00m n \u001b[38;5;241m*\u001b[39m fact(n \u001b[38;5;241m-\u001b[39m \u001b[38;5;241m1\u001b[39m)\n",
      "\u001b[0;31mRecursionError\u001b[0m: maximum recursion depth exceeded in comparison"
     ]
    }
   ],
   "source": [
    "fact(3000)"
   ]
  },
  {
   "cell_type": "code",
   "execution_count": 17,
   "id": "a44d9b65",
   "metadata": {
    "ExecuteTime": {
     "end_time": "2022-11-02T12:00:35.684104Z",
     "start_time": "2022-11-02T12:00:35.678064Z"
    }
   },
   "outputs": [],
   "source": [
    "sys.setrecursionlimit(5000)"
   ]
  },
  {
   "cell_type": "code",
   "execution_count": 18,
   "id": "63f78c00",
   "metadata": {
    "ExecuteTime": {
     "end_time": "2022-11-02T12:00:43.107192Z",
     "start_time": "2022-11-02T12:00:43.095003Z"
    }
   },
   "outputs": [
    {
     "data": {
      "text/plain": [
       "18288019515140650133147431755739190442173777107304392197064526954208959797973177364850370286870484107336443041569285571754672461861543557333942615617956996716745284831597317498818760937482804980419576512948720610558928129788097800620593429537705326740624453884285091743951756746144447362378722469436194575929579900114212973360658998073977714697261205048663725936337490404066097966637170254021348800944280342285355946649681316260163459743803577175903394733170076841764779082166891184529324230033414145497801832598218518406552257097392530024582738982919104406782168708871495603501905867399966298798534877747923179195791416504408054878974770308650707120878837624986576073340449414854578367383301715706358194127400849855604080473305196833482408079420964275187538889115296655522397723924887154624810659788321005620558369604778657904771918388054319251513981954296741688447246185021250402225010116433016818588036690180177691461779713104301640395708274734701186772756966064611023656528765138735704190876200697145804692125236821066805337175220605745377557452592208653939853278523841448314026548802309860391087939783218946129582647928430739985554883806198749831633640196211202756086016039171607744078776876219661603702759454887945247605749205543464095883664514960293873244842409803801480566600124415293789831496309554117113888561569494314926134470477513516416560102984058751906208865570183683850791317395702861350821464653600469443279077733978568711404244774089509216727922510660941411716412467443445414001188915966547283773988670739792818897314762082568914041952211779194055311405259158538932388745292324386826830135904886472292289993848482289254307628467614523292519222687689180219788377184005246290896703260524910362136627321135976515358528150143796798116836263053229733971612275184896139539613129329008449214723196703789119820971205922195513915546814704778682373487718946560822811623038853887054357316290622378472322045316639418491798517077275839637525427601452961835674484434498885698840692468550825765131610925966585339561854456154229048295742274725126218799745448031391826295221114381890600683208441558088271228618006589059444108806652992787854634497487158675770983422610936590600627170500972481399444145398522756870626097250230229195799277299921844954715690883242553569256657132515663544931830393317518828986443942138971609142621397646808351809694603734872977984148002699965137870448199866167162949256435040416146886823942144459105175033488395869910405207521329016842673168563837531518918339627724066152933627236730561155418227888673513937454508103826102827706121560330906016404162420051373313654570111102003319577878502216919170112074608722852376799943191590480651623958062982829452035227119036502426583752512199824089725611711059153935434418985109241404135069047109527514730648502064630431371185922523036941621026392783813435540195800531988645430344745298845640017082732623248838473771603478336326662579219137601422632057648758807935233915527562817942378675243919886800056209434731407685691942327092464101136254795499159351103542747723434544436366313104996373661654989465498180892716462805042227038222104784062626027480151567377841821316292095295686368619300417863327530764301323081902435971165925163513225511176258919471673437553320934916910573999020966087207663133871516530391787535755420348174519954013015999193335205032571176460105005716115305748669364682675265014310223271762807620242805617435594927890676408953057384890719681225840400396698155624793888816156585043604782961704971397764959404751358445856914581957186533573207690355894150776647727994156425641953755517727965486096675384222232344185537279888780570854092084221993660761154788359777439798490851148031275123759286793224660188593768897291749180357297185650430735063126035278321749629995702200115722386600046772883018963166273463715186812543356173550341233310175600817771447170656517505385258772069067139665478506263898380526394388218036388768999161538645432932116471146392562992204259450889291928261780531925618148311151259088519869787637913607866079920830781433275298468534248595471485354420794089854693167644320115900404444471266030942746376074187982809857292874382829734306879420308783010740784767155894363033186129183748698373599293267795620690003900348542140553208244771165593739117369452474295075445169488356550100854423929030967163401348223503674045821834526710830392520955478859202303175309815706259592416130388770535449570146586161954289529234209342432075461261173246383180702862172009624828852517861214008242944903162464816939278645210656431141653019224783906038062818006434258491952705341708781231767324026544165240012431457995565227331912056216396141277926932316783631899833106810492890045890947294731794016389385348294079360921757589715698098491612254898203787546124091057862387229987442131738499764391062422228395736099751277880661280909246369674792326056952220508861243875642482808175793303703933394191224832165950388337931626643339913192088808753619030386928808349931733881036690498513779587801764477865791351420222949860738228995728065763459283625096944678593378349990211317403358327367677358882377095918185840441346045760435580063918587956888086127034558064154832456098224664532422114583653763989534559801683261113731162039500068729224661509382267286483841867542303955164213391663536072749966590737898408144092699675796793165775891429992491955485860639629542416955757565163223827874193321274119938618709482020627749094917473754346320653165690129809741806883246764053966717253521140010801409998318494470531219051920354752556183478378238398583402765337923843167749738355049636714529840534145950376598809459294819192486096200503652538835417613002983933634477053826438814791235363934440952835213240806543802505241445900981152753843778634021300832293332432473400040109754281828950625464331409151961292319287863535740382445771128522343533054993071872524564127962306298218521662304206610010638488461150361786151832595182055013210238035059473479841417644445066550217093994746959565730463201996845756999575031950401331385688683576883429289274419202816101239071817771853612534620088858074904095239406471009098851796038360101243053736361346640211872570375441319261567131238168652234864182359667285536913841122976956009892970909409178865928472056691904571596961458646895132972589012090613887584436018692038947475932753085268106507554394567201654757930957224629573401948677157237825005540282635839895509019254240256916422227590032685003087320017232658420681209681389364174854034319152111706246564733896551636271748411627920466475472421243033805492052542237647091252577811952376244836844025673570936216945539206875730684120187779664758451508678786539887154966732995692212544207529457534936853900663520665102592278581210192104846016594846265525000394264201946315492667174670489454576610993722063668720936949698308641684437046485292906040368218708947194882991333823400676584552108673913669306118549159369734833071319506680872661886898225398171896329288732499509337836463164384614967690283284184136334006184670970038275153458133098776493171693249836721707632973537518273692928527497068121779606865163943692606596848941143683627629169873171114739189794632775706536177409526869936538136348369630762610163490694986911903178859927739423796596582439105912599204583810744740479342404550513976713360591833475711496976836332005885151231030818986389033126325119226309584818058301429763149472903925739659774337307109687940297813700796873400566095281249251559137923743113469044584820584542770746490047535898370961450995287930441328833542933636539386097851378739174078158132593877463567524868470795313740375647059352650583871001646082364842709333314532933141725314262510333047099681128329792983694287727106008519184538377065089964546579000542260452715147077137452076302879112802094308224402060706282308208678850263037733351444756065285721900833083634023860920356321356382318484421995141074387149942542550133039926139155010190614633196727199469768170121209097613598302048321148497175007150184555423280152476407230065108963493864309805262458731715886593175689747530567359088332598961192319881186961400055356294945140450806114214490420494488195417136403967132286869444062615622815233336396279517485469862880809956041938378161336156979526713793454354319018535526139196959277008828634440008764782171726908279132449346924807112458895951881542382952497102061566169481361027449429416228859029591798532192088531772405831332410104172391828682208239266557146168642210154401086974397003647170356217905465594944933170065175291981240572835024374361017977695084363373226470846255498368067535698751768103817520605779489720985090002595078926475029239124403277040719184010486962844211160986922952144938430963756963408787147933184107904312838985994963982784496688190643908936394858404598837762653245968848299901455260080572627872653099337092686312650606546084656202210845053932679131706841390889951865628810708670194485207654079244417321332232196041180225814997707988397637369268804955010409293139079608620689856756139863786355461818276369292665568749282154818479663283704713663666842236273009790537968973379093662517795316051746410279831975339791651704861188979834156418998505732384020730350075052669695594594753081616632885311572351609352631187129393729557398993321794518158269658073683417584260274184235030846683698193879109933863561435059993549597333514217973995915742796206889856584584493875193805504685107321011420502217815128118404137521250590361329385146997427292035829509205811367395885622247504950811752188165627552137681095618860955664505372763469788466067973748736658759105548049054658237200096293754479296344115915560231138432518248450383276234795400180535655551222536669390799317067896797756236783441752907948891802488298281245615590113512482344591092230909649423933991714557108941323849548468680509335203770970493785006636718394242326057416155509029270066096293813080877339787718442773014833232754755736783313789547145535129557193581885962158684756484475219230828423777756012721234731368785218564362953263092286535139160440838713013861328416662947756104857391740722209360021068158824717926850831589591367302143596625426553706038593255843919505223140871543995210720444637571268651195165483531243799087083070940544241515809139594158704843980567202482856647644447362604252961907705738740354460336586792214638225365973993001974668174157206242597452556046629209551599663117912609702944345176608757619561247872050409609062772362769045711709729061066411540898769707847042980034982033351136308779676287974627667703893888026848748953201438481632037717854462054861859986684636917120883602793194058658599425778515519713798214407689849211487929150179918547200558584524139792439377469676039518101451697712860634235352474290575260172151562129240720796835619967878383018961055921622371480562682714603085506932806187937976625431071742833007749235636990700120567425836156233607547500827789537909071263596294926763891075439575973972560478399510790078797663071024149826759934524980569432847819403219226207098701759952415628476519584752248050578584198211799092030838909208236225141975964892778944163008811179723219354847713753084628828883321692575327835658786892010648865205021985527642612795652759365359359048052205587306960853879351302215329380382709288672566169552660197788055450054177652374955319992805345989662399494012874012278677451052584166987084866267245492968785684175508510910492913793478551456991152291522750377308973310200505007906906671435839262115546753934391579860133029544403932422271218975046896384482252108820546415274174791693426071019927278518520520164621127271231748277979659289204850823018535192067323372368224831050642902153626845618478009622824733150764188329304815843651352730897836727021023023627320228373645802602496000000000000000000000000000000000000000000000000000000000000000000000000000000000000000000000000000000000000000000000000000000000000000000000000000000000000000000000000000000000000000000000000000000000000000000000000000000000000000000000000000000000000000000000000000000000000000000000000000000000000000000000000000000000000000000000000000000000000000000000000000000000000000000000000000000000000000000000000000000000000000000000000000000000000000000000000000000000000000000000000000000000000000000000000000000000000000000000000000000000000000000000000000000000000000000000000000000000000000000000000000000000000000000000000000000000000000000000000000000000000000000000000000000000000000000000000000000000000000000000000000000000000000000000000000000000000000000000000000000000000000000000000000000000000000000000000000000000000000000000000000000000000000000000000000000000000000000000000000000000000000000000000000000000000000000000000000000000000000000000000000000000000000000000000000000000000000"
      ]
     },
     "execution_count": 18,
     "metadata": {},
     "output_type": "execute_result"
    }
   ],
   "source": [
    "fact(4000)"
   ]
  },
  {
   "cell_type": "markdown",
   "id": "76127403",
   "metadata": {},
   "source": [
    "Если у вас хорошая рекурсивная программа, где число вызовов рекурсии не больше log(n), то такие ограничения не доставят проблем"
   ]
  },
  {
   "cell_type": "markdown",
   "id": "923c890b",
   "metadata": {},
   "source": [
    "### Бинпоиск"
   ]
  },
  {
   "cell_type": "markdown",
   "id": "06528376",
   "metadata": {},
   "source": [
    "Поиск элемента в отсортированном по неубыванию массиве.\n",
    "\n",
    "1. Считаем индекс середины массива\n",
    "2. Если элемент по этому индексу и есть искомый, то возвращаем индекс\n",
    "3. Если средний элемент < искомого, то производим такой же поиск в правой половине массива\n",
    "4. Если средний элемент > искомого, то ищем в левой половине"
   ]
  },
  {
   "cell_type": "code",
   "execution_count": 96,
   "id": "e5966a08",
   "metadata": {
    "ExecuteTime": {
     "end_time": "2022-11-02T12:57:35.605560Z",
     "start_time": "2022-11-02T12:57:35.600508Z"
    }
   },
   "outputs": [],
   "source": [
    "def binary_search_recursive(arr: list, low_ind: int, high_ind: int, val: int):\n",
    "    \n",
    "    if high_ind >= low_ind:\n",
    "        \n",
    "        mid_ind = (high_ind + low_ind) // 2\n",
    "        \n",
    "        if arr[mid_ind] == val:\n",
    "            return mid_ind\n",
    "        \n",
    "        elif arr[mid_ind] > val:\n",
    "            return binary_search_recursive(arr, low_ind, mid_ind - 1, val)\n",
    "        else:\n",
    "            return binary_search_recursive(arr, mid_ind + 1, high_ind, val)\n",
    "    \n",
    "    else:\n",
    "        return -1"
   ]
  },
  {
   "cell_type": "code",
   "execution_count": 100,
   "id": "89687cb2",
   "metadata": {
    "ExecuteTime": {
     "end_time": "2022-11-02T12:58:26.026192Z",
     "start_time": "2022-11-02T12:58:26.021668Z"
    }
   },
   "outputs": [
    {
     "data": {
      "text/plain": [
       "-1"
      ]
     },
     "execution_count": 100,
     "metadata": {},
     "output_type": "execute_result"
    }
   ],
   "source": [
    "a = list(range(30))\n",
    "\n",
    "binary_search_recursive(a, 0, len(a) - 1, -10)"
   ]
  },
  {
   "cell_type": "code",
   "execution_count": 102,
   "id": "c2eadb0a",
   "metadata": {
    "ExecuteTime": {
     "end_time": "2022-11-02T13:00:17.180558Z",
     "start_time": "2022-11-02T13:00:16.573121Z"
    }
   },
   "outputs": [],
   "source": [
    "import random\n",
    "\n",
    "size = 10**6\n",
    "large_array = sorted([random.randint(0, size * 10) for i in range(size)])"
   ]
  },
  {
   "cell_type": "code",
   "execution_count": 105,
   "id": "10c47d52",
   "metadata": {
    "ExecuteTime": {
     "end_time": "2022-11-02T13:00:39.203528Z",
     "start_time": "2022-11-02T13:00:39.197475Z"
    }
   },
   "outputs": [],
   "source": [
    "value = 9989804"
   ]
  },
  {
   "cell_type": "code",
   "execution_count": 106,
   "id": "08ae802a",
   "metadata": {
    "ExecuteTime": {
     "end_time": "2022-11-02T13:01:47.116268Z",
     "start_time": "2022-11-02T13:01:26.723613Z"
    }
   },
   "outputs": [
    {
     "name": "stdout",
     "output_type": "stream",
     "text": [
      "29.1 ms ± 52.8 µs per loop (mean ± std. dev. of 7 runs, 100 loops each)\n"
     ]
    }
   ],
   "source": [
    "%%timeit -n 100\n",
    "large_array.index(value)"
   ]
  },
  {
   "cell_type": "code",
   "execution_count": 110,
   "id": "8b292192",
   "metadata": {
    "ExecuteTime": {
     "end_time": "2022-11-02T13:02:35.116545Z",
     "start_time": "2022-11-02T13:02:35.109501Z"
    }
   },
   "outputs": [
    {
     "name": "stdout",
     "output_type": "stream",
     "text": [
      "2.6 µs ± 425 ns per loop (mean ± std. dev. of 7 runs, 100 loops each)\n"
     ]
    }
   ],
   "source": [
    "%%timeit -n 100\n",
    "binary_search_recursive(large_array, 0, len(large_array) - 1, value)"
   ]
  },
  {
   "cell_type": "code",
   "execution_count": 114,
   "id": "55c730da",
   "metadata": {
    "ExecuteTime": {
     "end_time": "2022-11-02T13:03:26.855437Z",
     "start_time": "2022-11-02T13:03:26.850763Z"
    }
   },
   "outputs": [],
   "source": [
    "found_ind = binary_search_recursive(large_array, 0, len(large_array) - 1, value)\n",
    "assert large_array[found_ind] == value"
   ]
  },
  {
   "cell_type": "markdown",
   "id": "00339fdf",
   "metadata": {},
   "source": [
    "Как и многие рекурсивные алгоритмы, бинпоиск можно написать без использования рекурсии. Часто для замещения рекурсии может использоваться стек (для DFS к примеру), но и обычного цикла тоже может хватить"
   ]
  },
  {
   "cell_type": "code",
   "execution_count": 3,
   "id": "034dc226",
   "metadata": {
    "ExecuteTime": {
     "end_time": "2022-11-04T13:59:06.156174Z",
     "start_time": "2022-11-04T13:59:06.150383Z"
    }
   },
   "outputs": [],
   "source": [
    "def binary_search(arr: list, val: int) -> int:\n",
    "    \n",
    "    low_ind = 0\n",
    "    high_ind = len(arr) - 1\n",
    "    \n",
    "    while high_ind >= low_ind:\n",
    "        mid_ind = (high_ind + low_ind) // 2 \n",
    "        \n",
    "        if arr[mid_ind] > val:\n",
    "            high_ind = mid_ind - 1\n",
    "        \n",
    "        elif arr[mid_ind] < val:\n",
    "            low_ind = mid_ind + 1\n",
    "        \n",
    "        else:\n",
    "            return mid_ind\n",
    "    \n",
    "    return -1"
   ]
  },
  {
   "cell_type": "markdown",
   "id": "a3a59703-49be-43f4-a0a4-c5612a08ce10",
   "metadata": {},
   "source": [
    "## Decorators"
   ]
  },
  {
   "cell_type": "markdown",
   "id": "1f4b460f-fa1d-4ab3-8ca5-b8f0c560e9f0",
   "metadata": {},
   "source": [
    "Декоратор -- обертка над функцией. Позволяет сделать что-то до и после вызова передаваемой функции.\n",
    "\n",
    "Для этого функции декоратора передается декорируемая функция, а внутри создается новая, которая будет выполняться вместе с декорируемой. Ей передаются такие же аргументы, и в ней же пишется код того, что будет совершаться до и после запуска переданной функции, а между этими блоками будет запускаться сама декорируемая функция. Внешняя функция возвращает ссылку на получившуюся функцию"
   ]
  },
  {
   "cell_type": "markdown",
   "id": "bbb39851-fd7e-46a7-baf7-a8d89d4738cf",
   "metadata": {},
   "source": [
    "### Простой пример"
   ]
  },
  {
   "cell_type": "code",
   "execution_count": 22,
   "id": "5b6bb048",
   "metadata": {
    "ExecuteTime": {
     "end_time": "2022-11-02T12:03:58.288799Z",
     "start_time": "2022-11-02T12:03:58.283170Z"
    }
   },
   "outputs": [
    {
     "name": "stdout",
     "output_type": "stream",
     "text": [
      "doing smth before\n",
      "5\n",
      "doing smth after\n"
     ]
    }
   ],
   "source": [
    "def my_decorator(func: callable):\n",
    "    def decorated(a, b):  # название можно менять\n",
    "        print(\"doing smth before\")\n",
    "        func(a, b)\n",
    "        print(\"doing smth after\")\n",
    "    return decorated\n",
    "\n",
    "def func(a, b):\n",
    "    print(a + b)\n",
    "\n",
    "func = my_decorator(func)\n",
    "func(2, 3)"
   ]
  },
  {
   "cell_type": "code",
   "execution_count": 23,
   "id": "489b92ff",
   "metadata": {
    "ExecuteTime": {
     "end_time": "2022-11-02T12:04:14.383352Z",
     "start_time": "2022-11-02T12:04:14.377002Z"
    }
   },
   "outputs": [],
   "source": [
    "@my_decorator\n",
    "def func(a, b):\n",
    "    print(a + b)"
   ]
  },
  {
   "cell_type": "code",
   "execution_count": 24,
   "id": "32d4c917",
   "metadata": {
    "ExecuteTime": {
     "end_time": "2022-11-02T12:04:37.072417Z",
     "start_time": "2022-11-02T12:04:37.067519Z"
    }
   },
   "outputs": [
    {
     "name": "stdout",
     "output_type": "stream",
     "text": [
      "doing smth before\n",
      "5\n",
      "doing smth after\n"
     ]
    }
   ],
   "source": [
    "func(2, 3)"
   ]
  },
  {
   "cell_type": "markdown",
   "id": "ef0e9820-7032-445d-90ba-88b576c2d6ed",
   "metadata": {},
   "source": [
    "**Задачка**\n",
    "\n",
    "Попробуйте реализовать декоратор, который будет приводить выход функции к верхнему регистру"
   ]
  },
  {
   "cell_type": "code",
   "execution_count": 25,
   "id": "13a6e9ee",
   "metadata": {
    "ExecuteTime": {
     "end_time": "2022-11-02T12:06:28.171985Z",
     "start_time": "2022-11-02T12:06:28.166699Z"
    }
   },
   "outputs": [],
   "source": [
    "def upper_decorator(func: callable):\n",
    "    def decorated():\n",
    "        value = func()\n",
    "        return value.upper()\n",
    "    \n",
    "    return decorated"
   ]
  },
  {
   "cell_type": "code",
   "execution_count": 29,
   "id": "724e91b3",
   "metadata": {
    "ExecuteTime": {
     "end_time": "2022-11-02T12:07:05.777875Z",
     "start_time": "2022-11-02T12:07:05.771739Z"
    }
   },
   "outputs": [],
   "source": [
    "@upper_decorator\n",
    "def print_something():\n",
    "    return 'today is a good day'"
   ]
  },
  {
   "cell_type": "code",
   "execution_count": 31,
   "id": "1fc2acda",
   "metadata": {
    "ExecuteTime": {
     "end_time": "2022-11-02T12:07:08.989012Z",
     "start_time": "2022-11-02T12:07:08.983797Z"
    }
   },
   "outputs": [
    {
     "data": {
      "text/plain": [
       "'TODAY IS A GOOD DAY'"
      ]
     },
     "execution_count": 31,
     "metadata": {},
     "output_type": "execute_result"
    }
   ],
   "source": [
    "print_something()"
   ]
  },
  {
   "cell_type": "markdown",
   "id": "1e498b66",
   "metadata": {},
   "source": [
    "### Декораторы заменяют исходную функцию"
   ]
  },
  {
   "cell_type": "markdown",
   "id": "669b53ef",
   "metadata": {},
   "source": [
    "Функция, возвращаемая декоратором, заменяет декорируемую"
   ]
  },
  {
   "cell_type": "code",
   "execution_count": 32,
   "id": "3a684955",
   "metadata": {
    "ExecuteTime": {
     "end_time": "2022-11-02T12:07:39.768792Z",
     "start_time": "2022-11-02T12:07:39.763827Z"
    }
   },
   "outputs": [
    {
     "data": {
      "text/plain": [
       "<function __main__.upper_decorator.<locals>.decorated()>"
      ]
     },
     "execution_count": 32,
     "metadata": {},
     "output_type": "execute_result"
    }
   ],
   "source": [
    "print_something"
   ]
  },
  {
   "cell_type": "code",
   "execution_count": 33,
   "id": "ed98f02b",
   "metadata": {
    "ExecuteTime": {
     "end_time": "2022-11-02T12:08:32.990802Z",
     "start_time": "2022-11-02T12:08:32.983964Z"
    }
   },
   "outputs": [],
   "source": [
    "def deco(func):\n",
    "    def inner():\n",
    "        print('running inner()!')\n",
    "    return inner"
   ]
  },
  {
   "cell_type": "code",
   "execution_count": 34,
   "id": "dd60eff9",
   "metadata": {
    "ExecuteTime": {
     "end_time": "2022-11-02T12:09:10.805986Z",
     "start_time": "2022-11-02T12:09:10.799864Z"
    }
   },
   "outputs": [],
   "source": [
    "def do_smth():\n",
    "    print('running do_smth()!')"
   ]
  },
  {
   "cell_type": "code",
   "execution_count": 36,
   "id": "c397697d",
   "metadata": {
    "ExecuteTime": {
     "end_time": "2022-11-02T12:09:21.438955Z",
     "start_time": "2022-11-02T12:09:21.431890Z"
    }
   },
   "outputs": [
    {
     "name": "stdout",
     "output_type": "stream",
     "text": [
      "running do_smth()!\n"
     ]
    }
   ],
   "source": [
    "do_smth()"
   ]
  },
  {
   "cell_type": "code",
   "execution_count": 37,
   "id": "a8e60dfe",
   "metadata": {
    "ExecuteTime": {
     "end_time": "2022-11-02T12:09:34.880226Z",
     "start_time": "2022-11-02T12:09:34.875870Z"
    }
   },
   "outputs": [],
   "source": [
    "@deco\n",
    "def do_smth():\n",
    "    print('running do_smth()!')"
   ]
  },
  {
   "cell_type": "code",
   "execution_count": 40,
   "id": "da8ae1fc",
   "metadata": {
    "ExecuteTime": {
     "end_time": "2022-11-02T12:10:20.527799Z",
     "start_time": "2022-11-02T12:10:20.521907Z"
    }
   },
   "outputs": [
    {
     "name": "stdout",
     "output_type": "stream",
     "text": [
      "running inner()!\n"
     ]
    },
    {
     "data": {
      "text/plain": [
       "(<function __main__.deco.<locals>.inner()>, None)"
      ]
     },
     "execution_count": 40,
     "metadata": {},
     "output_type": "execute_result"
    }
   ],
   "source": [
    "do_smth, do_smth()"
   ]
  },
  {
   "cell_type": "markdown",
   "id": "2573aabc",
   "metadata": {},
   "source": [
    "### Декораторы работают в момент интерпретации кода"
   ]
  },
  {
   "cell_type": "markdown",
   "id": "52272992",
   "metadata": {},
   "source": [
    "Key feature декораторов в том, что они применяются сразу после объявления декорируемой функции во время загрузки модуля в Python "
   ]
  },
  {
   "cell_type": "code",
   "execution_count": 42,
   "id": "3ea3efc0",
   "metadata": {
    "ExecuteTime": {
     "end_time": "2022-11-02T12:15:36.036094Z",
     "start_time": "2022-11-02T12:15:36.030817Z"
    }
   },
   "outputs": [
    {
     "name": "stdout",
     "output_type": "stream",
     "text": [
      "running register for <function f1 at 0x7f6369c79550>\n",
      "running register for <function f2 at 0x7f6369c79ee0>\n"
     ]
    }
   ],
   "source": [
    "registry = []\n",
    "\n",
    "def register(func):\n",
    "    print(f'running register for {func}')\n",
    "    registry.append(func)\n",
    "    return func\n",
    "\n",
    "@register\n",
    "def f1():\n",
    "    print('running f1()')\n",
    "\n",
    "@register\n",
    "def f2():\n",
    "    print('running f2()')\n",
    "\n",
    "def f3():\n",
    "    print('running f3()')\n",
    "    \n",
    "    \n",
    "def run():\n",
    "    print('running run()!')\n",
    "    print('registry', registry)\n",
    "    f1()\n",
    "    f2()\n",
    "    f3()"
   ]
  },
  {
   "cell_type": "code",
   "execution_count": 43,
   "id": "e413717d",
   "metadata": {
    "ExecuteTime": {
     "end_time": "2022-11-02T12:15:54.237674Z",
     "start_time": "2022-11-02T12:15:54.232874Z"
    }
   },
   "outputs": [
    {
     "name": "stdout",
     "output_type": "stream",
     "text": [
      "running run()!\n",
      "registry [<function f1 at 0x7f6369c79550>, <function f2 at 0x7f6369c79ee0>]\n",
      "running f1()\n",
      "running f2()\n",
      "running f3()\n"
     ]
    }
   ],
   "source": [
    "run()"
   ]
  },
  {
   "cell_type": "markdown",
   "id": "312d94b2-09f6-4ba0-acef-a5c1405998f8",
   "metadata": {},
   "source": [
    "### О сохранении поведения help и докстроки"
   ]
  },
  {
   "cell_type": "code",
   "execution_count": 50,
   "id": "fafe2388",
   "metadata": {
    "ExecuteTime": {
     "end_time": "2022-11-02T12:18:30.770307Z",
     "start_time": "2022-11-02T12:18:30.763830Z"
    }
   },
   "outputs": [],
   "source": [
    "def do_first_func():\n",
    "    '''\n",
    "    This function does nothing but does it first\n",
    "    '''\n",
    "    \n",
    "    print('I am first')"
   ]
  },
  {
   "cell_type": "code",
   "execution_count": 51,
   "id": "e54a673e",
   "metadata": {
    "ExecuteTime": {
     "end_time": "2022-11-02T12:18:31.167045Z",
     "start_time": "2022-11-02T12:18:31.160418Z"
    }
   },
   "outputs": [
    {
     "name": "stdout",
     "output_type": "stream",
     "text": [
      "Help on function do_first_func in module __main__:\n",
      "\n",
      "do_first_func()\n",
      "    This function does nothing but does it first\n",
      "\n"
     ]
    }
   ],
   "source": [
    "help(do_first_func)"
   ]
  },
  {
   "cell_type": "code",
   "execution_count": 55,
   "id": "13eef767",
   "metadata": {
    "ExecuteTime": {
     "end_time": "2022-11-02T12:22:15.644138Z",
     "start_time": "2022-11-02T12:22:15.639144Z"
    }
   },
   "outputs": [
    {
     "name": "stdout",
     "output_type": "stream",
     "text": [
      "inner \n",
      "        This is some inner function from decorator\n",
      "        \n",
      "inner \n",
      "        This is some inner function from decorator\n",
      "        \n"
     ]
    }
   ],
   "source": [
    "def decorator(func):\n",
    "    def inner(*args, **kwargs):\n",
    "        '''\n",
    "        This is some inner function from decorator\n",
    "        '''\n",
    "        func()\n",
    "    return inner\n",
    "\n",
    "@decorator\n",
    "def do_first_func():\n",
    "    '''\n",
    "    This function does nothing but does it first\n",
    "    '''\n",
    "    \n",
    "    print('I am first')\n",
    "    \n",
    "@decorator\n",
    "def do_second_func():\n",
    "    '''\n",
    "    This function does nothing but does it second\n",
    "    '''\n",
    "    \n",
    "    print('I am second')\n",
    "    \n",
    "    \n",
    "print(do_first_func.__name__, do_first_func.__doc__)\n",
    "print(do_second_func.__name__, do_second_func.__doc__)"
   ]
  },
  {
   "cell_type": "code",
   "execution_count": 54,
   "id": "5ee129ba",
   "metadata": {
    "ExecuteTime": {
     "end_time": "2022-11-02T12:21:57.755408Z",
     "start_time": "2022-11-02T12:21:57.750611Z"
    }
   },
   "outputs": [
    {
     "name": "stdout",
     "output_type": "stream",
     "text": [
      "Help on function inner in module __main__:\n",
      "\n",
      "inner(*args, **kwargs)\n",
      "    This is some inner function from decorator\n",
      "\n"
     ]
    }
   ],
   "source": [
    "help(do_first_func)"
   ]
  },
  {
   "cell_type": "markdown",
   "id": "e14db3c0",
   "metadata": {},
   "source": [
    "Кажется, мы потеряли \"документацию\". Можно попробовать поправить вручную!"
   ]
  },
  {
   "cell_type": "code",
   "execution_count": 1,
   "id": "990f22ca",
   "metadata": {
    "ExecuteTime": {
     "end_time": "2022-11-04T13:54:07.024166Z",
     "start_time": "2022-11-04T13:54:07.018123Z"
    }
   },
   "outputs": [
    {
     "name": "stdout",
     "output_type": "stream",
     "text": [
      "do_first_func \n",
      "    This function does nothing but does it first\n",
      "    \n",
      "do_second_func \n",
      "    This function does nothing but does it second\n",
      "    \n"
     ]
    }
   ],
   "source": [
    "def decorator(func):\n",
    "    def inner(*args, **kwargs):\n",
    "        '''\n",
    "        This is some inner function from decorator\n",
    "        '''\n",
    "        func()\n",
    "    \n",
    "    inner.__name__ = func.__name__\n",
    "    inner.__doc__ = func.__doc__\n",
    "    \n",
    "    return inner\n",
    "\n",
    "@decorator\n",
    "def do_first_func(a: int):\n",
    "    '''\n",
    "    This function does nothing but does it first\n",
    "    '''\n",
    "    \n",
    "    print('I am first')\n",
    "    \n",
    "@decorator\n",
    "def do_second_func():\n",
    "    '''\n",
    "    This function does nothing but does it second\n",
    "    '''\n",
    "    \n",
    "    print('I am second')\n",
    "    \n",
    "    \n",
    "print(do_first_func.__name__, do_first_func.__doc__)\n",
    "print(do_second_func.__name__, do_second_func.__doc__)"
   ]
  },
  {
   "cell_type": "code",
   "execution_count": 2,
   "id": "052d3f5e",
   "metadata": {
    "ExecuteTime": {
     "end_time": "2022-11-04T13:54:20.465558Z",
     "start_time": "2022-11-04T13:54:20.460725Z"
    }
   },
   "outputs": [
    {
     "name": "stdout",
     "output_type": "stream",
     "text": [
      "Help on function do_first_func in module __main__:\n",
      "\n",
      "do_first_func(*args, **kwargs)\n",
      "    This function does nothing but does it first\n",
      "\n"
     ]
    }
   ],
   "source": [
    "help(do_first_func)"
   ]
  },
  {
   "cell_type": "markdown",
   "id": "4c7653d6",
   "metadata": {},
   "source": [
    "Потеряли корректные аргументы при вызове help"
   ]
  },
  {
   "cell_type": "code",
   "execution_count": 61,
   "id": "f08c9177",
   "metadata": {
    "ExecuteTime": {
     "end_time": "2022-11-02T12:24:34.219553Z",
     "start_time": "2022-11-02T12:24:34.207833Z"
    }
   },
   "outputs": [
    {
     "name": "stdout",
     "output_type": "stream",
     "text": [
      "do_first_func \n",
      "    This function does nothing but does it first\n",
      "    \n",
      "do_second_func \n",
      "    This function does nothing but does it second\n",
      "    \n"
     ]
    }
   ],
   "source": [
    "from functools import wraps\n",
    "\n",
    "def decorator(func):\n",
    "    \n",
    "    @wraps(func)\n",
    "    def inner(*args, **kwargs):\n",
    "        '''\n",
    "        This is some inner function from decorator\n",
    "        '''\n",
    "        func()\n",
    "    \n",
    "    return inner\n",
    "\n",
    "@decorator\n",
    "def do_first_func(a: int):\n",
    "    '''\n",
    "    This function does nothing but does it first\n",
    "    '''\n",
    "    \n",
    "    print('I am first')\n",
    "    \n",
    "@decorator\n",
    "def do_second_func():\n",
    "    '''\n",
    "    This function does nothing but does it second\n",
    "    '''\n",
    "    \n",
    "    print('I am second')\n",
    "    \n",
    "    \n",
    "print(do_first_func.__name__, do_first_func.__doc__)\n",
    "print(do_second_func.__name__, do_second_func.__doc__)"
   ]
  },
  {
   "cell_type": "code",
   "execution_count": 62,
   "id": "d5243ec5",
   "metadata": {
    "ExecuteTime": {
     "end_time": "2022-11-02T12:24:45.121959Z",
     "start_time": "2022-11-02T12:24:45.117408Z"
    }
   },
   "outputs": [
    {
     "name": "stdout",
     "output_type": "stream",
     "text": [
      "Help on function do_first_func in module __main__:\n",
      "\n",
      "do_first_func(a: int)\n",
      "    This function does nothing but does it first\n",
      "\n"
     ]
    }
   ],
   "source": [
    "help(do_first_func)"
   ]
  },
  {
   "cell_type": "code",
   "execution_count": 63,
   "id": "f7081c24",
   "metadata": {
    "ExecuteTime": {
     "end_time": "2022-11-02T12:24:55.586936Z",
     "start_time": "2022-11-02T12:24:55.579266Z"
    }
   },
   "outputs": [
    {
     "name": "stdout",
     "output_type": "stream",
     "text": [
      "Help on function do_second_func in module __main__:\n",
      "\n",
      "do_second_func()\n",
      "    This function does nothing but does it second\n",
      "\n"
     ]
    }
   ],
   "source": [
    "help(do_second_func)"
   ]
  },
  {
   "cell_type": "markdown",
   "id": "17402cb0",
   "metadata": {},
   "source": [
    "Мораль: используйте декоратор `@wraps`"
   ]
  },
  {
   "cell_type": "markdown",
   "id": "c7c4f2a8-5756-40fb-904f-2969891fc1a2",
   "metadata": {},
   "source": [
    "### Пример. Декоратор-время"
   ]
  },
  {
   "cell_type": "markdown",
   "id": "8eb94347-ed1a-45d8-a757-c4f019b2e08b",
   "metadata": {},
   "source": [
    "Подумайте, как можно реализовать декоратор, который будет выводить время работы функции?\n",
    "\n",
    "Для замера времени вам поможет функция `time` из модуля `time`"
   ]
  },
  {
   "cell_type": "code",
   "execution_count": 64,
   "id": "7541aa30",
   "metadata": {
    "ExecuteTime": {
     "end_time": "2022-11-02T12:27:49.651337Z",
     "start_time": "2022-11-02T12:27:49.645493Z"
    }
   },
   "outputs": [],
   "source": [
    "import time"
   ]
  },
  {
   "cell_type": "code",
   "execution_count": 68,
   "id": "31619611",
   "metadata": {
    "ExecuteTime": {
     "end_time": "2022-11-02T12:28:24.157859Z",
     "start_time": "2022-11-02T12:28:24.152720Z"
    }
   },
   "outputs": [],
   "source": [
    "def calc_slow_fact(n):\n",
    "    time.sleep(1)\n",
    "    if n == 0:\n",
    "        return 1  # условие выхода из рекурсии\n",
    "    return n * calc_slow_fact(n - 1)"
   ]
  },
  {
   "cell_type": "code",
   "execution_count": 69,
   "id": "69815703",
   "metadata": {
    "ExecuteTime": {
     "end_time": "2022-11-02T12:28:29.773391Z",
     "start_time": "2022-11-02T12:28:24.760380Z"
    }
   },
   "outputs": [
    {
     "data": {
      "text/plain": [
       "24"
      ]
     },
     "execution_count": 69,
     "metadata": {},
     "output_type": "execute_result"
    }
   ],
   "source": [
    "calc_slow_fact(4)"
   ]
  },
  {
   "cell_type": "code",
   "execution_count": 71,
   "id": "485789fd",
   "metadata": {
    "ExecuteTime": {
     "end_time": "2022-11-02T12:31:58.631093Z",
     "start_time": "2022-11-02T12:31:58.625711Z"
    }
   },
   "outputs": [],
   "source": [
    "def clock(func):\n",
    "    \n",
    "    @wraps(func)\n",
    "    def clocked(*args, **kwargs):\n",
    "        t_start = time.time()\n",
    "        res = func(*args, **kwargs)\n",
    "        total_time = time.time() - t_start\n",
    "        \n",
    "        print(f'{func.__name__}({args, kwargs}) -> {res} executed in {total_time:.3f}s')\n",
    "        \n",
    "        return res\n",
    "    \n",
    "    return clocked"
   ]
  },
  {
   "cell_type": "code",
   "execution_count": 72,
   "id": "2790bb07",
   "metadata": {
    "ExecuteTime": {
     "end_time": "2022-11-02T12:32:12.037138Z",
     "start_time": "2022-11-02T12:32:12.031972Z"
    }
   },
   "outputs": [],
   "source": [
    "@clock\n",
    "def calc_slow_fact(n):\n",
    "    time.sleep(1)\n",
    "    if n == 0:\n",
    "        return 1  # условие выхода из рекурсии\n",
    "    return n * calc_slow_fact(n - 1)"
   ]
  },
  {
   "cell_type": "code",
   "execution_count": 73,
   "id": "0d0ec8eb",
   "metadata": {
    "ExecuteTime": {
     "end_time": "2022-11-02T12:32:31.581617Z",
     "start_time": "2022-11-02T12:32:20.560659Z"
    }
   },
   "outputs": [
    {
     "name": "stdout",
     "output_type": "stream",
     "text": [
      "calc_slow_fact(((0,), {})) -> 1 executed in 1.001s\n",
      "calc_slow_fact(((1,), {})) -> 1 executed in 2.002s\n",
      "calc_slow_fact(((2,), {})) -> 2 executed in 3.003s\n",
      "calc_slow_fact(((3,), {})) -> 6 executed in 4.005s\n",
      "calc_slow_fact(((4,), {})) -> 24 executed in 5.006s\n",
      "calc_slow_fact(((5,), {})) -> 120 executed in 6.007s\n",
      "calc_slow_fact(((6,), {})) -> 720 executed in 7.008s\n",
      "calc_slow_fact(((7,), {})) -> 5040 executed in 8.009s\n",
      "calc_slow_fact(((8,), {})) -> 40320 executed in 9.010s\n",
      "calc_slow_fact(((9,), {})) -> 362880 executed in 10.011s\n",
      "calc_slow_fact(((10,), {})) -> 3628800 executed in 11.012s\n"
     ]
    },
    {
     "data": {
      "text/plain": [
       "3628800"
      ]
     },
     "execution_count": 73,
     "metadata": {},
     "output_type": "execute_result"
    }
   ],
   "source": [
    "calc_slow_fact(10)"
   ]
  },
  {
   "cell_type": "markdown",
   "id": "cc6d5dec-1618-4d9f-b3e5-98e2c1c681b6",
   "metadata": {},
   "source": [
    "### Параметр для декоратора"
   ]
  },
  {
   "cell_type": "markdown",
   "id": "976324e6-398f-40be-a990-af1c996684ca",
   "metadata": {},
   "source": [
    "Модифицируем декоратор из примера выше, чтобы сделать его отключаемым"
   ]
  },
  {
   "cell_type": "code",
   "execution_count": 74,
   "id": "12e2d683",
   "metadata": {
    "ExecuteTime": {
     "end_time": "2022-11-02T12:38:04.829795Z",
     "start_time": "2022-11-02T12:38:04.824084Z"
    }
   },
   "outputs": [],
   "source": [
    "def clock(active=True, unit='s'):\n",
    "\n",
    "    def decorate(func):\n",
    "        \n",
    "        if unit == 's':\n",
    "            modifier = 1\n",
    "        elif unit == 'm':\n",
    "            modifier = 60\n",
    "        elif unit == 'ms':\n",
    "            modifier = 0.001\n",
    "        elif unit == 'h':\n",
    "            modifier = 3600\n",
    "        \n",
    "        \n",
    "        @wraps(func)\n",
    "        def clocked(*args, **kwargs):\n",
    "            if not active:\n",
    "                return func(*args, **kwargs)\n",
    "            \n",
    "            t_start = time.time()\n",
    "            res = func(*args, **kwargs)\n",
    "            total_time = time.time() - t_start\n",
    "\n",
    "            print(f'{func.__name__}({args, kwargs}) -> {res} executed in {total_time / modifier:.3f} {unit}')\n",
    "\n",
    "            return res\n",
    "\n",
    "        return clocked\n",
    "    \n",
    "    return decorate"
   ]
  },
  {
   "cell_type": "code",
   "execution_count": 79,
   "id": "ef159b5e",
   "metadata": {
    "ExecuteTime": {
     "end_time": "2022-11-02T12:39:17.652466Z",
     "start_time": "2022-11-02T12:39:17.647220Z"
    }
   },
   "outputs": [],
   "source": [
    "@clock(unit='m', active=False)\n",
    "def calc_slow_fact(n):\n",
    "    time.sleep(1)\n",
    "    if n == 0:\n",
    "        return 1  # условие выхода из рекурсии\n",
    "    return n * calc_slow_fact(n - 1)"
   ]
  },
  {
   "cell_type": "code",
   "execution_count": 80,
   "id": "1410ac75",
   "metadata": {
    "ExecuteTime": {
     "end_time": "2022-11-02T12:39:24.316931Z",
     "start_time": "2022-11-02T12:39:19.303825Z"
    }
   },
   "outputs": [
    {
     "data": {
      "text/plain": [
       "24"
      ]
     },
     "execution_count": 80,
     "metadata": {},
     "output_type": "execute_result"
    }
   ],
   "source": [
    "calc_slow_fact(4)"
   ]
  },
  {
   "cell_type": "markdown",
   "id": "a25769a8-6a6a-40a8-bf3c-6d8c27abb232",
   "metadata": {},
   "source": [
    "### LRU Cache"
   ]
  },
  {
   "cell_type": "code",
   "execution_count": 81,
   "id": "fa9027c1",
   "metadata": {
    "ExecuteTime": {
     "end_time": "2022-11-02T12:41:38.333812Z",
     "start_time": "2022-11-02T12:41:38.329130Z"
    }
   },
   "outputs": [],
   "source": [
    "from functools import lru_cache"
   ]
  },
  {
   "cell_type": "code",
   "execution_count": 83,
   "id": "ebeb1c4b",
   "metadata": {
    "ExecuteTime": {
     "end_time": "2022-11-02T12:42:57.815512Z",
     "start_time": "2022-11-02T12:42:57.810405Z"
    }
   },
   "outputs": [],
   "source": [
    "@clock()\n",
    "def calc_fib(n):\n",
    "    time.sleep(1)\n",
    "    \n",
    "    if n < 2:\n",
    "        return n\n",
    "    \n",
    "    return calc_fib(n - 1) + calc_fib(n - 2)"
   ]
  },
  {
   "cell_type": "code",
   "execution_count": 84,
   "id": "3fd2f311",
   "metadata": {
    "ExecuteTime": {
     "end_time": "2022-11-02T12:43:26.743541Z",
     "start_time": "2022-11-02T12:43:11.717219Z"
    }
   },
   "outputs": [
    {
     "name": "stdout",
     "output_type": "stream",
     "text": [
      "calc_fib(((1,), {})) -> 1 executed in 1.001 s\n",
      "calc_fib(((0,), {})) -> 0 executed in 1.001 s\n",
      "calc_fib(((2,), {})) -> 1 executed in 3.004 s\n",
      "calc_fib(((1,), {})) -> 1 executed in 1.001 s\n",
      "calc_fib(((3,), {})) -> 2 executed in 5.006 s\n",
      "calc_fib(((1,), {})) -> 1 executed in 1.001 s\n",
      "calc_fib(((0,), {})) -> 0 executed in 1.001 s\n",
      "calc_fib(((2,), {})) -> 1 executed in 3.004 s\n",
      "calc_fib(((4,), {})) -> 3 executed in 9.011 s\n",
      "calc_fib(((1,), {})) -> 1 executed in 1.001 s\n",
      "calc_fib(((0,), {})) -> 0 executed in 1.001 s\n",
      "calc_fib(((2,), {})) -> 1 executed in 3.004 s\n",
      "calc_fib(((1,), {})) -> 1 executed in 1.001 s\n",
      "calc_fib(((3,), {})) -> 2 executed in 5.006 s\n",
      "calc_fib(((5,), {})) -> 5 executed in 15.018 s\n"
     ]
    },
    {
     "data": {
      "text/plain": [
       "5"
      ]
     },
     "execution_count": 84,
     "metadata": {},
     "output_type": "execute_result"
    }
   ],
   "source": [
    "calc_fib(5)"
   ]
  },
  {
   "cell_type": "code",
   "execution_count": 85,
   "id": "a9ebef64",
   "metadata": {
    "ExecuteTime": {
     "end_time": "2022-11-02T12:45:32.630217Z",
     "start_time": "2022-11-02T12:45:32.625274Z"
    }
   },
   "outputs": [],
   "source": [
    "@lru_cache(None)\n",
    "def calc_fib(n):\n",
    "    time.sleep(1)\n",
    "    \n",
    "    if n < 2:\n",
    "        return n\n",
    "    \n",
    "    return calc_fib(n - 1) + calc_fib(n - 2)"
   ]
  },
  {
   "cell_type": "code",
   "execution_count": 86,
   "id": "a0132506",
   "metadata": {
    "ExecuteTime": {
     "end_time": "2022-11-02T12:45:50.700341Z",
     "start_time": "2022-11-02T12:45:44.686223Z"
    }
   },
   "outputs": [
    {
     "data": {
      "text/plain": [
       "5"
      ]
     },
     "execution_count": 86,
     "metadata": {},
     "output_type": "execute_result"
    }
   ],
   "source": [
    "calc_fib(5)"
   ]
  },
  {
   "cell_type": "code",
   "execution_count": 94,
   "id": "912a9a12",
   "metadata": {
    "ExecuteTime": {
     "end_time": "2022-11-02T12:49:55.537784Z",
     "start_time": "2022-11-02T12:49:55.532593Z"
    }
   },
   "outputs": [],
   "source": [
    "@clock(active=True)\n",
    "@lru_cache(None)\n",
    "def calc_fib(n):\n",
    "    time.sleep(1)\n",
    "    \n",
    "    if n < 2:\n",
    "        return n\n",
    "    \n",
    "    return calc_fib(n - 1) + calc_fib(n - 2)"
   ]
  },
  {
   "cell_type": "code",
   "execution_count": 95,
   "id": "a2bd65ef",
   "metadata": {
    "ExecuteTime": {
     "end_time": "2022-11-02T12:50:04.914530Z",
     "start_time": "2022-11-02T12:49:55.895927Z"
    }
   },
   "outputs": [
    {
     "name": "stdout",
     "output_type": "stream",
     "text": [
      "calc_fib(((1,), {})) -> 1 executed in 1.001 s\n",
      "calc_fib(((0,), {})) -> 0 executed in 1.001 s\n",
      "calc_fib(((2,), {})) -> 1 executed in 3.004 s\n",
      "calc_fib(((1,), {})) -> 1 executed in 0.000 s\n",
      "calc_fib(((3,), {})) -> 2 executed in 4.005 s\n",
      "calc_fib(((2,), {})) -> 1 executed in 0.000 s\n",
      "calc_fib(((4,), {})) -> 3 executed in 5.006 s\n",
      "calc_fib(((3,), {})) -> 2 executed in 0.000 s\n",
      "calc_fib(((5,), {})) -> 5 executed in 6.007 s\n",
      "calc_fib(((4,), {})) -> 3 executed in 0.000 s\n",
      "calc_fib(((6,), {})) -> 8 executed in 7.008 s\n",
      "calc_fib(((5,), {})) -> 5 executed in 0.000 s\n",
      "calc_fib(((7,), {})) -> 13 executed in 8.009 s\n",
      "calc_fib(((6,), {})) -> 8 executed in 0.000 s\n",
      "calc_fib(((8,), {})) -> 21 executed in 9.010 s\n"
     ]
    },
    {
     "data": {
      "text/plain": [
       "21"
      ]
     },
     "execution_count": 95,
     "metadata": {},
     "output_type": "execute_result"
    }
   ],
   "source": [
    "calc_fib(8)"
   ]
  },
  {
   "cell_type": "markdown",
   "id": "d3e906f5",
   "metadata": {},
   "source": [
    "## Bonus Task"
   ]
  },
  {
   "cell_type": "markdown",
   "id": "f5f68202",
   "metadata": {},
   "source": [
    "**1. Напишите декоратор, который может:**\n",
    "\n",
    "- Поддерживать кэш размера N из обработанных входных значений. Попробуйте реализовать два варианта кэша по следующей логике:\n",
    "\n",
    "\n",
    "    1. храним в памяти результат работы функции для N самых часто используемых входных параметров\n",
    "    \n",
    "    В таком случае, если кэш на текущий момент заполнен и на вход пришел новый набор параметров, нужно освободить самый непопулярный набор параметров из имеющихся в кэше и заменить его тем, который пришел на вход.\n",
    "    \n",
    "    2. храним в памяти результат работы для N последних входных параметров\n",
    "\n",
    "    Переключение между вариантами сделайти в виде отдельного параметра (например, назовите его cache_type)    \n",
    "    \n",
    "    Если N=-1, то размер кэша считаем \"бесконечным\". Если `N=None` (по дефолту), то кэш считается отключенным и ничего хранить не надо.\n",
    "\n",
    "\n",
    "- хранить небольшую историю последних вызовов размера K и печатать ее после каждого нового выполнения функции. В случае, если K = None (по дефолту), историю хранить не нужно.\n",
    "\n",
    "**2. Продемонстрируйте на каких-нибудь примерах, что ваши реализации кэшей действительно работают.**\n",
    "\n",
    "Сравните время выполнения операций со включенным и выключенным кэшем разных типов. Для демонстрации работы можно воспользоваться следующей \"dummy\" функцией, или предложить свою (приветствуется!)."
   ]
  },
  {
   "cell_type": "code",
   "execution_count": 21,
   "id": "0185e390",
   "metadata": {
    "ExecuteTime": {
     "end_time": "2022-11-02T00:12:48.470188Z",
     "start_time": "2022-11-02T00:12:48.465017Z"
    }
   },
   "outputs": [],
   "source": [
    "import random\n",
    "import time\n",
    "\n",
    "def do_heavy_calculation(*args, **kwargs):\n",
    "    # for example, calling some api\n",
    "    time.sleep(2)\n",
    "    ans = random.randint(1, 5)\n",
    "    return ans"
   ]
  },
  {
   "cell_type": "code",
   "execution_count": 22,
   "id": "062d240f",
   "metadata": {
    "ExecuteTime": {
     "end_time": "2022-11-02T00:12:52.306320Z",
     "start_time": "2022-11-02T00:12:50.296705Z"
    }
   },
   "outputs": [
    {
     "data": {
      "text/plain": [
       "3"
      ]
     },
     "execution_count": 22,
     "metadata": {},
     "output_type": "execute_result"
    }
   ],
   "source": [
    "do_heavy_calculation()"
   ]
  },
  {
   "cell_type": "markdown",
   "id": "df8629e3",
   "metadata": {},
   "source": [
    "Просьба оформить это решение в виде collab ноутбука, в котором сразу будут видны результаты :) "
   ]
  },
  {
   "cell_type": "markdown",
   "id": "403295bd",
   "metadata": {},
   "source": [
    "---"
   ]
  },
  {
   "cell_type": "markdown",
   "id": "91db0e7e",
   "metadata": {},
   "source": [
    "---"
   ]
  },
  {
   "cell_type": "markdown",
   "id": "aace75e7",
   "metadata": {},
   "source": [
    "## Bisect\n",
    "\n",
    "Выше мы упоминали алгоритмы бинпоиска. В Python есть стандартный модуль, где реализована такая логика\n",
    "\n",
    "https://docs.python.org/3/library/bisect.html\n",
    "\n",
    "**bisect** -- модуль, в котором реализованы операции по поиску наилучшего идекса вставки элемента в отсортированный массив. Внутри функции реализованы по принципу бинарного поиска по аналогии с алгоритмом, который мы рассмотрели выше "
   ]
  },
  {
   "cell_type": "code",
   "execution_count": 115,
   "id": "43342818",
   "metadata": {
    "ExecuteTime": {
     "end_time": "2022-11-02T13:04:48.763239Z",
     "start_time": "2022-11-02T13:04:48.757526Z"
    }
   },
   "outputs": [
    {
     "name": "stdout",
     "output_type": "stream",
     "text": [
      "2\n",
      "3\n"
     ]
    }
   ],
   "source": [
    "from bisect import bisect_left, bisect_right\n",
    " \n",
    "def binary_search_bisect(arr, value):\n",
    "    i = bisect_left(arr, value)\n",
    "    if i != len(arr) and arr[i] == value:\n",
    "        return i\n",
    "    else:\n",
    "        return -1\n",
    "\n",
    "arr = [1, 3, 5, 8, 9, 12, 15, 29, 45]\n",
    "value = 5\n",
    "\n",
    "print(bisect_left(arr, value))\n",
    "print(bisect_right(arr, value))"
   ]
  },
  {
   "cell_type": "markdown",
   "id": "8f97e00a",
   "metadata": {},
   "source": [
    "Проверим, насколько использование bisect быстрее, чем обычная проверка за линию"
   ]
  },
  {
   "cell_type": "code",
   "execution_count": 116,
   "id": "e9dcd5ce",
   "metadata": {
    "ExecuteTime": {
     "end_time": "2022-11-02T13:04:50.280593Z",
     "start_time": "2022-11-02T13:04:50.244428Z"
    }
   },
   "outputs": [],
   "source": [
    "size = 10**6\n",
    "large_array = [i for i in range(size)]\n",
    "\n",
    "value = 900000"
   ]
  },
  {
   "cell_type": "code",
   "execution_count": 117,
   "id": "03a2a938",
   "metadata": {
    "ExecuteTime": {
     "end_time": "2022-11-02T13:05:13.049762Z",
     "start_time": "2022-11-02T13:04:51.038291Z"
    }
   },
   "outputs": [
    {
     "name": "stdout",
     "output_type": "stream",
     "text": [
      "3.14 ms ± 2.27 µs per loop (mean ± std. dev. of 7 runs, 1,000 loops each)\n"
     ]
    }
   ],
   "source": [
    "%%timeit -n 1000\n",
    "value in large_array"
   ]
  },
  {
   "cell_type": "code",
   "execution_count": 118,
   "id": "b55b417c",
   "metadata": {
    "ExecuteTime": {
     "end_time": "2022-11-02T13:05:46.851018Z",
     "start_time": "2022-11-02T13:05:13.109744Z"
    }
   },
   "outputs": [
    {
     "name": "stdout",
     "output_type": "stream",
     "text": [
      "4.82 ms ± 2.6 µs per loop (mean ± std. dev. of 7 runs, 1,000 loops each)\n"
     ]
    }
   ],
   "source": [
    "%%timeit -n 1000\n",
    "large_array.index(value)"
   ]
  },
  {
   "cell_type": "code",
   "execution_count": 119,
   "id": "7f6ed393",
   "metadata": {
    "ExecuteTime": {
     "end_time": "2022-11-02T13:05:46.913413Z",
     "start_time": "2022-11-02T13:05:46.909068Z"
    }
   },
   "outputs": [
    {
     "name": "stdout",
     "output_type": "stream",
     "text": [
      "248 ns ± 6.68 ns per loop (mean ± std. dev. of 7 runs, 1,000 loops each)\n"
     ]
    }
   ],
   "source": [
    "%%timeit -n 1000\n",
    "binary_search_bisect(large_array, value)"
   ]
  },
  {
   "cell_type": "markdown",
   "id": "b38e0884",
   "metadata": {},
   "source": [
    "Некоторые примеры из документации"
   ]
  },
  {
   "cell_type": "code",
   "execution_count": null,
   "id": "2833e071",
   "metadata": {},
   "outputs": [],
   "source": [
    "def index(a, x):\n",
    "    'Locate the leftmost value exactly equal to x'\n",
    "    i = bisect_left(a, x)\n",
    "    if i != len(a) and a[i] == x:\n",
    "        return i\n",
    "    raise ValueError\n",
    "\n",
    "def find_lt(a, x):\n",
    "    'Find rightmost value less than x'\n",
    "    i = bisect_left(a, x)\n",
    "    if i:\n",
    "        return a[i-1]\n",
    "    raise ValueError\n",
    "\n",
    "def find_le(a, x):\n",
    "    'Find rightmost value less than or equal to x'\n",
    "    i = bisect_right(a, x)\n",
    "    if i:\n",
    "        return a[i-1]\n",
    "    raise ValueError\n",
    "\n",
    "def find_gt(a, x):\n",
    "    'Find leftmost value greater than x'\n",
    "    i = bisect_right(a, x)\n",
    "    if i != len(a):\n",
    "        return a[i]\n",
    "    raise ValueError\n",
    "\n",
    "def find_ge(a, x):\n",
    "    'Find leftmost item greater than or equal to x'\n",
    "    i = bisect_left(a, x)\n",
    "    if i != len(a):\n",
    "        return a[i]\n",
    "    raise ValueError"
   ]
  }
 ],
 "metadata": {
  "kernelspec": {
   "display_name": "Python 3 (ipykernel)",
   "language": "python",
   "name": "python3"
  },
  "language_info": {
   "codemirror_mode": {
    "name": "ipython",
    "version": 3
   },
   "file_extension": ".py",
   "mimetype": "text/x-python",
   "name": "python",
   "nbconvert_exporter": "python",
   "pygments_lexer": "ipython3",
   "version": "3.9.12"
  },
  "latex_envs": {
   "LaTeX_envs_menu_present": true,
   "autoclose": false,
   "autocomplete": true,
   "bibliofile": "biblio.bib",
   "cite_by": "apalike",
   "current_citInitial": 1,
   "eqLabelWithNumbers": true,
   "eqNumInitial": 1,
   "hotkeys": {
    "equation": "Ctrl-E",
    "itemize": "Ctrl-I"
   },
   "labels_anchors": false,
   "latex_user_defs": false,
   "report_style_numbering": false,
   "user_envs_cfg": false
  },
  "toc": {
   "base_numbering": 1,
   "nav_menu": {},
   "number_sections": true,
   "sideBar": true,
   "skip_h1_title": false,
   "title_cell": "Table of Contents",
   "title_sidebar": "Contents",
   "toc_cell": false,
   "toc_position": {
    "height": "calc(100% - 180px)",
    "left": "10px",
    "top": "150px",
    "width": "294.393px"
   },
   "toc_section_display": true,
   "toc_window_display": true
  },
  "varInspector": {
   "cols": {
    "lenName": 16,
    "lenType": 16,
    "lenVar": 40
   },
   "kernels_config": {
    "python": {
     "delete_cmd_postfix": "",
     "delete_cmd_prefix": "del ",
     "library": "var_list.py",
     "varRefreshCmd": "print(var_dic_list())"
    },
    "r": {
     "delete_cmd_postfix": ") ",
     "delete_cmd_prefix": "rm(",
     "library": "var_list.r",
     "varRefreshCmd": "cat(var_dic_list()) "
    }
   },
   "types_to_exclude": [
    "module",
    "function",
    "builtin_function_or_method",
    "instance",
    "_Feature"
   ],
   "window_display": false
  }
 },
 "nbformat": 4,
 "nbformat_minor": 5
}
