{
 "cells": [
  {
   "cell_type": "markdown",
   "metadata": {},
   "source": [
    "## Немного о float в Python"
   ]
  },
  {
   "cell_type": "markdown",
   "metadata": {
    "ExecuteTime": {
     "end_time": "2022-09-28T09:50:51.165564Z",
     "start_time": "2022-09-28T09:50:51.161259Z"
    }
   },
   "source": [
    "https://bit.ly/iad-floats"
   ]
  },
  {
   "cell_type": "markdown",
   "metadata": {},
   "source": [
    "Вы помните, как хранятся с памяти компьютера float? (IEEE754) Хорошее [видео](https://www.youtube.com/watch?v=RuKkePyo9zk) с объяснением формата"
   ]
  },
  {
   "cell_type": "markdown",
   "metadata": {},
   "source": [
    "Python использует 64 бита (8 байт):\n",
    "\n",
    "    - 1 bit для знака (положительное или отрицательное число)\n",
    "    - 11 bits для экспоненты. Например, 1.5e-5 = 1.5 x 10-5: (экспонента будет -5)\n",
    "    - 52 bits for significant digits"
   ]
  },
  {
   "cell_type": "markdown",
   "metadata": {},
   "source": [
    "![](https://media.geeksforgeeks.org/wp-content/uploads/Double-Precision-IEEE-754-Floating-Point-Standard-1024x266.jpg)"
   ]
  },
  {
   "cell_type": "markdown",
   "metadata": {},
   "source": [
    "Как перевести число:\n",
    "\n",
    "    1. Определить знак\n",
    "    \n",
    "    2. Сконвертировать в binary\n",
    "    \n",
    "    3. Нормализовать, чтобы определить мантиссу и unbiased экспоненту (поместить binary point после самой левой единички). \"float\" binary point влево\n",
    "    \n",
    "    4. Посчитать biased exponent (добавить 2^(11 - 1) - 1 = 1023)\n",
    "    \n",
    "    5. Удалить leading единичку из мантиссы, потому что мы знаем, что она всегда там должна быть (экономим бит)"
   ]
  },
  {
   "cell_type": "markdown",
   "metadata": {},
   "source": [
    "### Ограничения"
   ]
  },
  {
   "cell_type": "markdown",
   "metadata": {},
   "source": [
    "Мы знаем, что компьютер оперирует числами в двоичной системе. Из-за этого мы можем \n",
    "\n",
    "Иногда значения сопоставимы, как, например в случае с дробью 1/8\n",
    "\n",
    "$\\frac{1}{8} = 0.125_{10} = 1 / 10 + 2 / 100 + 5 / 1000$ и $0.001_2 = \\frac{1}{8}$"
   ]
  },
  {
   "cell_type": "code",
   "execution_count": 103,
   "metadata": {},
   "outputs": [
    {
     "data": {
      "text/plain": [
       "True"
      ]
     },
     "execution_count": 103,
     "metadata": {},
     "output_type": "execute_result"
    }
   ],
   "source": [
    "0.125 == 1 / 8"
   ]
  },
  {
   "cell_type": "markdown",
   "metadata": {},
   "source": [
    "На примере десятичной системы счисления, мы, например, уже никак не можем точно записать дробь $\\frac{1}{3}$:\n",
    "\n",
    "$\\frac{1}{3} \\approx 0.3 \\approx 0.33 \\approx 0.33(3)$"
   ]
  },
  {
   "cell_type": "markdown",
   "metadata": {},
   "source": [
    "Также и в двоичной уже дробь $\\frac{1}{10}$ не представляется точно:\n",
    "\n",
    "0.0001100110011001100110011001100110011001100110011..."
   ]
  },
  {
   "cell_type": "markdown",
   "metadata": {},
   "source": [
    "Как думаете, что будет храниться в переменной со значением 0.1?"
   ]
  },
  {
   "cell_type": "code",
   "execution_count": 104,
   "metadata": {},
   "outputs": [
    {
     "data": {
      "text/plain": [
       "0.1"
      ]
     },
     "execution_count": 104,
     "metadata": {},
     "output_type": "execute_result"
    }
   ],
   "source": [
    "1 / 10 "
   ]
  },
  {
   "cell_type": "code",
   "execution_count": 107,
   "metadata": {},
   "outputs": [
    {
     "data": {
      "text/plain": [
       "'0.1000000000000000055511151'"
      ]
     },
     "execution_count": 107,
     "metadata": {},
     "output_type": "execute_result"
    }
   ],
   "source": [
    "f'{1 / 10:.25g}'"
   ]
  },
  {
   "cell_type": "code",
   "execution_count": 108,
   "metadata": {},
   "outputs": [
    {
     "data": {
      "text/plain": [
       "(3602879701896397, 36028797018963968)"
      ]
     },
     "execution_count": 108,
     "metadata": {},
     "output_type": "execute_result"
    }
   ],
   "source": [
    "0.1.as_integer_ratio()"
   ]
  },
  {
   "cell_type": "markdown",
   "metadata": {},
   "source": [
    "### Будьте очень аккуратны со сравнениями float"
   ]
  },
  {
   "cell_type": "code",
   "execution_count": 109,
   "metadata": {
    "tags": []
   },
   "outputs": [
    {
     "data": {
      "text/plain": [
       "True"
      ]
     },
     "execution_count": 109,
     "metadata": {},
     "output_type": "execute_result"
    }
   ],
   "source": [
    "1.53 - 1. == 0.53"
   ]
  },
  {
   "cell_type": "code",
   "execution_count": 110,
   "metadata": {},
   "outputs": [
    {
     "data": {
      "text/plain": [
       "True"
      ]
     },
     "execution_count": 110,
     "metadata": {},
     "output_type": "execute_result"
    }
   ],
   "source": [
    "10.4 + 20.8 > 31.2"
   ]
  },
  {
   "cell_type": "code",
   "execution_count": 112,
   "metadata": {},
   "outputs": [
    {
     "data": {
      "text/plain": [
       "True"
      ]
     },
     "execution_count": 112,
     "metadata": {},
     "output_type": "execute_result"
    }
   ],
   "source": [
    "0.8 - 0.1 > 0.7"
   ]
  },
  {
   "cell_type": "code",
   "execution_count": 116,
   "metadata": {},
   "outputs": [
    {
     "data": {
      "text/plain": [
       "'0.7000000000000000666133815'"
      ]
     },
     "execution_count": 116,
     "metadata": {},
     "output_type": "execute_result"
    }
   ],
   "source": [
    "f'{0.8 - 0.1:.25f}'"
   ]
  },
  {
   "cell_type": "code",
   "execution_count": 117,
   "metadata": {
    "tags": []
   },
   "outputs": [
    {
     "data": {
      "text/plain": [
       "False"
      ]
     },
     "execution_count": 117,
     "metadata": {},
     "output_type": "execute_result"
    }
   ],
   "source": [
    ".1 + .1 + .1 == .3"
   ]
  },
  {
   "cell_type": "code",
   "execution_count": 118,
   "metadata": {
    "tags": []
   },
   "outputs": [
    {
     "data": {
      "text/plain": [
       "False"
      ]
     },
     "execution_count": 118,
     "metadata": {},
     "output_type": "execute_result"
    }
   ],
   "source": [
    "round(.1, 1) + round(.1, 1) + round(.1, 1) == round(.3, 1)"
   ]
  },
  {
   "cell_type": "markdown",
   "metadata": {},
   "source": [
    "Хорошая напоминалка есть во многих источниках и в частности в [официальной документации](https://docs.python.org/3/tutorial/floatingpoint.html)"
   ]
  },
  {
   "cell_type": "markdown",
   "metadata": {},
   "source": [
    "### Как можно делать?"
   ]
  },
  {
   "cell_type": "code",
   "execution_count": 120,
   "metadata": {
    "tags": []
   },
   "outputs": [
    {
     "data": {
      "text/plain": [
       "True"
      ]
     },
     "execution_count": 120,
     "metadata": {},
     "output_type": "execute_result"
    }
   ],
   "source": [
    "desired_value = 0.1 + 0.2\n",
    "answer_value = 0.3\n",
    "\n",
    "round(desired_value, 3) == round(answer_value, 3)"
   ]
  },
  {
   "cell_type": "markdown",
   "metadata": {},
   "source": [
    "Для дробных значений можно использовать модуль `fractions`"
   ]
  },
  {
   "cell_type": "code",
   "execution_count": 123,
   "metadata": {},
   "outputs": [],
   "source": [
    "from fractions import Fraction\n",
    "\n",
    "val = Fraction(1, 10)"
   ]
  },
  {
   "cell_type": "code",
   "execution_count": 124,
   "metadata": {},
   "outputs": [
    {
     "data": {
      "text/plain": [
       "True"
      ]
     },
     "execution_count": 124,
     "metadata": {},
     "output_type": "execute_result"
    }
   ],
   "source": [
    "val + val + val == Fraction(3, 10)"
   ]
  },
  {
   "cell_type": "markdown",
   "metadata": {},
   "source": [
    "Можно использовать метод `isclose()` из `math`"
   ]
  },
  {
   "cell_type": "code",
   "execution_count": 24,
   "metadata": {},
   "outputs": [],
   "source": [
    "from math import isclose"
   ]
  },
  {
   "cell_type": "code",
   "execution_count": 125,
   "metadata": {},
   "outputs": [
    {
     "data": {
      "text/plain": [
       "True"
      ]
     },
     "execution_count": 125,
     "metadata": {},
     "output_type": "execute_result"
    }
   ],
   "source": [
    "isclose(0.1 + 0.2, 0.3)"
   ]
  },
  {
   "cell_type": "markdown",
   "metadata": {},
   "source": [
    "## (*) Про память"
   ]
  },
  {
   "cell_type": "code",
   "execution_count": 10,
   "metadata": {},
   "outputs": [
    {
     "data": {
      "text/plain": [
       "2000000"
      ]
     },
     "execution_count": 10,
     "metadata": {},
     "output_type": "execute_result"
    }
   ],
   "source": [
    "2 * (1_000_000 + 1)"
   ]
  },
  {
   "cell_type": "markdown",
   "metadata": {},
   "source": [
    "Что происходит в этот момент?"
   ]
  },
  {
   "cell_type": "markdown",
   "metadata": {},
   "source": [
    "1. Лексический парсер\n",
    "2. Синтаксический анализ выражения\n",
    "3. Вычисление выражения:\n",
    "\n",
    "    3.1 Заводятся объекты 1_000_000 и 1\n",
    "    \n",
    "    3.2 Вычисляется их сумма и заводится объект 1000001\n",
    "    \n",
    "    3.3 Заводится объект 2\n",
    "    \n",
    "    3.4 Заводится объект 2 * 1000001\n",
    "    \n",
    "    3.5. Получается объект результата выражения\n",
    "\n",
    "4. Объекты удаляются, потому что на них ничего не ссылается\n",
    "\n",
    "\n",
    "\n",
    "Когда мы пишем \"=\", мы сохраняем объект с помощью операции связывания\n",
    "\n",
    "**dir()** -- список имен в пространстве имен\n",
    "\n",
    "**globals()** -- позволяет посмотреть, что находится в глобальном скоупе"
   ]
  },
  {
   "cell_type": "markdown",
   "metadata": {},
   "source": [
    "А сколько ссылок на ячейку памяти?"
   ]
  },
  {
   "cell_type": "markdown",
   "metadata": {},
   "source": [
    "```import sys\n",
    "sys.getrefcount(a)``` -- в момент вызова этой функции создается еще одна ссылка, поэтому значение будет +1 к реальному количеству \n",
    "\n",
    "операция `del` -- это не операция удаления объекта, а удаление ссылки"
   ]
  },
  {
   "cell_type": "code",
   "execution_count": 22,
   "metadata": {},
   "outputs": [],
   "source": [
    "import _ctypes\n",
    "\n",
    "def get_by_id(obj_id: int):\n",
    "    \"\"\" Inverse of id() function. \"\"\"\n",
    "    return _ctypes.PyObj_FromPtr(obj_id)"
   ]
  },
  {
   "cell_type": "markdown",
   "metadata": {},
   "source": [
    "## Строки и разное с ними связанное"
   ]
  },
  {
   "cell_type": "markdown",
   "metadata": {
    "id": "NK6v9ZKnXahZ"
   },
   "source": [
    "### Строки и кавычки"
   ]
  },
  {
   "cell_type": "code",
   "execution_count": 8,
   "metadata": {
    "id": "VW2opF1RXahZ",
    "outputId": "b9a5322e-4802-4cdd-c8e3-89e141cb20f0"
   },
   "outputs": [
    {
     "name": "stdout",
     "output_type": "stream",
     "text": [
      "Hello world!\n"
     ]
    }
   ],
   "source": [
    "print(\"Hello world!\")"
   ]
  },
  {
   "cell_type": "markdown",
   "metadata": {
    "id": "bSM9bdFsXahZ"
   },
   "source": [
    "Строка – это объект, как и число. Строки используются для записи текстовой информации, а также произвольных последовательностей байтов. Чтобы отличать обычную строку от строк кода, её нужно обрамлять либо одинарными, либо двойными кавычками. "
   ]
  },
  {
   "cell_type": "code",
   "execution_count": 9,
   "metadata": {
    "id": "serdUtwgXahZ",
    "outputId": "9b39c286-c47c-4c1f-fefb-2476af84ed0b"
   },
   "outputs": [
    {
     "data": {
      "text/plain": [
       "True"
      ]
     },
     "execution_count": 9,
     "metadata": {},
     "output_type": "execute_result"
    }
   ],
   "source": [
    "#Например:\n",
    "\"Hello world!\" == 'Hello world!'\n"
   ]
  },
  {
   "cell_type": "markdown",
   "metadata": {
    "id": "2InBKkNNXaha"
   },
   "source": [
    "Если текст состоит из нескольких строк, его нужно обрамлять в тройные кавычки"
   ]
  },
  {
   "cell_type": "code",
   "execution_count": 10,
   "metadata": {
    "id": "pslWA72NXaha",
    "outputId": "4e621ae8-82dc-4ac1-ecb7-d5bf0d34587e"
   },
   "outputs": [
    {
     "name": "stdout",
     "output_type": "stream",
     "text": [
      "Hello \n",
      "world!\n"
     ]
    }
   ],
   "source": [
    "print(\"\"\"Hello \n",
    "world!\"\"\")"
   ]
  },
  {
   "cell_type": "markdown",
   "metadata": {},
   "source": [
    "Кавычки в таких случаях также могут быть как одинарными, так и двойными"
   ]
  },
  {
   "cell_type": "code",
   "execution_count": 11,
   "metadata": {},
   "outputs": [
    {
     "name": "stdout",
     "output_type": "stream",
     "text": [
      "Hello \n",
      "world!\n"
     ]
    }
   ],
   "source": [
    "print('''Hello \n",
    "world!''')"
   ]
  },
  {
   "cell_type": "markdown",
   "metadata": {
    "id": "UBDeJYsTXaha"
   },
   "source": [
    "Символы кавычек внутри строк нужно экранировать, то же самое со специсимвлолами. Например, `\\t` (символ вертикальной табуляции) или `\\n` -- символ перевода строки"
   ]
  },
  {
   "cell_type": "markdown",
   "metadata": {},
   "source": [
    "### Что такое строка"
   ]
  },
  {
   "cell_type": "markdown",
   "metadata": {},
   "source": [
    "Строка -- это частный случай последоватьностей в Python, представитель группы `Flat sequences`. То есть, строка -- это последовательность, каждый элемент в которой представляет лишь один тип. Можно сказать, что строка -- это последовательность символов.\n",
    "\n",
    "Также строка -- одна из неизменяемых последовательностей (immutable sequences). Это значит, что мы не можем ее изменить после создания"
   ]
  },
  {
   "cell_type": "code",
   "execution_count": 30,
   "metadata": {},
   "outputs": [],
   "source": [
    "example_str = 'example_str'"
   ]
  },
  {
   "cell_type": "markdown",
   "metadata": {
    "id": "OTGY3U0NXahb"
   },
   "source": [
    "Строка является последовательностью односимвольных строк, к которым можно получить доступ. Строки можно сохранять в переменные и выполнять над ними некоторые операции."
   ]
  },
  {
   "cell_type": "code",
   "execution_count": 126,
   "metadata": {
    "id": "Amw_1yEzXahc",
    "outputId": "bac69506-e19c-4f01-8e01-6e9eb73f7c7e"
   },
   "outputs": [
    {
     "name": "stdout",
     "output_type": "stream",
     "text": [
      "What is your name?\n"
     ]
    },
    {
     "name": "stdin",
     "output_type": "stream",
     "text": [
      " Denis\n"
     ]
    },
    {
     "name": "stdout",
     "output_type": "stream",
     "text": [
      "Hello,Denis\n"
     ]
    }
   ],
   "source": [
    "print(\"What is your name?\")\n",
    "name = input()\n",
    "print(\"Hello,\" + name)"
   ]
  },
  {
   "cell_type": "markdown",
   "metadata": {
    "id": "jkj44nDKih43"
   },
   "source": [
    "Функция **len()** возвращает длину строки-параметра"
   ]
  },
  {
   "cell_type": "code",
   "execution_count": null,
   "metadata": {
    "id": "a5XuXJN1ih44",
    "outputId": "ec79729e-861c-407c-f9fb-41d451139759"
   },
   "outputs": [
    {
     "name": "stdout",
     "output_type": "stream",
     "text": [
      "hello\n",
      "5\n"
     ]
    }
   ],
   "source": [
    "s = input()\n",
    "print(len(s))"
   ]
  },
  {
   "cell_type": "markdown",
   "metadata": {},
   "source": [
    "### Что происходит, когда мы печатаем на экран?"
   ]
  },
  {
   "cell_type": "markdown",
   "metadata": {},
   "source": [
    "Вам что-то говорят следующие названия?   `__repr__ , __str__`"
   ]
  },
  {
   "cell_type": "code",
   "execution_count": 133,
   "metadata": {},
   "outputs": [],
   "source": [
    "class MyPrettyInt:\n",
    "    def __init__(self, value: int):\n",
    "        self.value = value\n",
    "    \n",
    "    def __repr__(self):\n",
    "        return f'MyPrettyInt({self.value})'\n",
    "    \n",
    "    def __str__(self):\n",
    "        return f'here is my pretty {self.value}'"
   ]
  },
  {
   "cell_type": "markdown",
   "metadata": {},
   "source": [
    "Строка, возвращаемая `__repr__` должна быть однозначной и по возможности совпадать с кодом, требуемым для создания показываемого объекта"
   ]
  },
  {
   "cell_type": "markdown",
   "metadata": {},
   "source": [
    "Строка, возвращаемая `__str__`, должна быть понятной конечному пользователю"
   ]
  },
  {
   "cell_type": "markdown",
   "metadata": {},
   "source": [
    "У разных объектов в Python могуть быть по-разному объявлены данные методы"
   ]
  },
  {
   "cell_type": "markdown",
   "metadata": {
    "id": "tO7OSmduXahc"
   },
   "source": [
    "### Слайсы на примере строк"
   ]
  },
  {
   "cell_type": "markdown",
   "metadata": {},
   "source": [
    "#### Немного общей информации"
   ]
  },
  {
   "cell_type": "markdown",
   "metadata": {},
   "source": [
    "    \"As you may have noticed, several of the operations mentioned work equally for texts, lists and tables. Texts, lists and tables together are called trains. \n",
    "    […] The FOR command also works generically on trains\""
   ]
  },
  {
   "cell_type": "markdown",
   "metadata": {},
   "source": [
    "Мощь Python в том, что для многих схожих классов у нас есть общее множество поддерживаемых операций. Например, strings, lists, byte sequences, arrays и др. поддерживают iteration, slicing, sorting, contactenation и прочие общие операции.\n",
    "\n",
    "Understanding и embracing данного принципа помогает нам не изобретать велосипед, а использовать общий интерфейс, который дает реализуемым классам поддержку уже принятых методов "
   ]
  },
  {
   "cell_type": "markdown",
   "metadata": {},
   "source": [
    "#### Slicing (срезы, слайсы, whatever you call it)"
   ]
  },
  {
   "cell_type": "markdown",
   "metadata": {},
   "source": [
    "**Slicing** -- это общая фича всех последовательностей в Python. Ниже мы рассмотрим ее на примере строк, но помните, что это относится и к другим последовательностям"
   ]
  },
  {
   "cell_type": "markdown",
   "metadata": {},
   "source": [
    "`sequence[start:stop:step]`"
   ]
  },
  {
   "cell_type": "markdown",
   "metadata": {
    "id": "XrLP3Nz7Xahc"
   },
   "source": [
    "Срезы нужны для того, чтобы извлечь подстроки или символы из исходной строки. Таким образом, создаётся новая строка, а исходная остается неизменённой."
   ]
  },
  {
   "cell_type": "markdown",
   "metadata": {},
   "source": [
    "#### Basics"
   ]
  },
  {
   "cell_type": "markdown",
   "metadata": {
    "id": "97VkXV5HXahc"
   },
   "source": [
    "Чтобы обратиться к символу строки, используются две нумерации: неотрицательными и отрицательными числами."
   ]
  },
  {
   "cell_type": "markdown",
   "metadata": {
    "id": "Tx3nFXYaXahc"
   },
   "source": [
    "![alternate text](https://pp.userapi.com/c837320/v837320502/59b9f/c4cTcRUnMWg.jpg)"
   ]
  },
  {
   "cell_type": "markdown",
   "metadata": {
    "id": "x7-PdBfkXahd"
   },
   "source": [
    "Нумерация неотрицательными числами начинается с 0 и идет слева направо. То есть чтобы получить первый символ строки s, нужно написать s[0], второй символ – s[1], и т.д."
   ]
  },
  {
   "cell_type": "markdown",
   "metadata": {
    "id": "Voi41XZDXahd"
   },
   "source": [
    "Нумерация отрицательными числами начинается с -1 и также идет слева направо (справа налево, если смотреть на модуль числа). То есть чтобы получить последний символ строки s, нужно написать s[-1], предпоследний символ – s[-2], и т.д."
   ]
  },
  {
   "cell_type": "code",
   "execution_count": 143,
   "metadata": {
    "id": "fy2k2cfnXahd",
    "outputId": "8dd25f55-abd1-4d04-fa7f-2fb6896b13b2"
   },
   "outputs": [
    {
     "name": "stdout",
     "output_type": "stream",
     "text": [
      "12\n",
      "H\n",
      "!\n"
     ]
    }
   ],
   "source": [
    "# Например\n",
    "s = \"Hello world!\"  # создали переменную s со содержимым “Hello world!”\n",
    "print(len(s))\n",
    "print(s[0])  # печатает первый символ строки\n",
    "print(s[-1])  # печатает последний символ строки\n",
    "# print(s[15])  # выдаст ошибку, так как должна напечатать 16-ый элемент строки, а длина строки s меньше 16 символов"
   ]
  },
  {
   "cell_type": "markdown",
   "metadata": {
    "id": "lhLsG_9WXahe"
   },
   "source": [
    "Следующий вид срезов – с двумя параметрами, между которыми ставится двоеточие. Если нужно получить подстроку строки s с __i__ по __j__ символы включительно, то нужно применить срез __s[i: j+1]__."
   ]
  },
  {
   "cell_type": "markdown",
   "metadata": {},
   "source": [
    "Правая граница не включается"
   ]
  },
  {
   "cell_type": "markdown",
   "metadata": {},
   "source": [
    "Это не просто так!"
   ]
  },
  {
   "cell_type": "markdown",
   "metadata": {},
   "source": [
    "#### Правая граница"
   ]
  },
  {
   "cell_type": "markdown",
   "metadata": {},
   "source": [
    "1. Просто сразу видеть длину слайса, если задана только конечная позиция!\n",
    "`my_seq[:3] -- 3 items`"
   ]
  },
  {
   "cell_type": "markdown",
   "metadata": {},
   "source": [
    "2. Просто посчитать длину!\n",
    "`stop - start == length`"
   ]
  },
  {
   "cell_type": "markdown",
   "metadata": {},
   "source": [
    "3. Просто разбирать на две части без пересечения!\n"
   ]
  },
  {
   "cell_type": "code",
   "execution_count": 152,
   "metadata": {},
   "outputs": [
    {
     "name": "stdout",
     "output_type": "stream",
     "text": [
      "123 456789\n",
      "0  123456789\n",
      "1 1 23456789\n",
      "2 12 3456789\n",
      "3 123 456789\n",
      "4 1234 56789\n",
      "5 12345 6789\n",
      "6 123456 789\n",
      "7 1234567 89\n",
      "8 12345678 9\n"
     ]
    }
   ],
   "source": [
    "my_seq = '123456789'\n",
    "\n",
    "print(my_seq[:3], my_seq[3:])\n",
    "\n",
    "for i in range(len(my_seq)):\n",
    "    print(i, my_seq[:i], my_seq[i:])\n",
    "    assert my_seq[:i] + my_seq[i:] == my_seq"
   ]
  },
  {
   "cell_type": "markdown",
   "metadata": {},
   "source": [
    "#### Step"
   ]
  },
  {
   "cell_type": "code",
   "execution_count": 156,
   "metadata": {},
   "outputs": [
    {
     "data": {
      "text/plain": [
       "'12345678'"
      ]
     },
     "execution_count": 156,
     "metadata": {},
     "output_type": "execute_result"
    }
   ],
   "source": [
    "my_seq[0:-1:1]"
   ]
  },
  {
   "cell_type": "code",
   "execution_count": 157,
   "metadata": {},
   "outputs": [
    {
     "data": {
      "text/plain": [
       "'12345678'"
      ]
     },
     "execution_count": 157,
     "metadata": {},
     "output_type": "execute_result"
    }
   ],
   "source": [
    "my_seq[:-1]"
   ]
  },
  {
   "cell_type": "markdown",
   "metadata": {},
   "source": [
    "А как можно развернуть строчку?"
   ]
  },
  {
   "cell_type": "code",
   "execution_count": 158,
   "metadata": {},
   "outputs": [
    {
     "data": {
      "text/plain": [
       "'987654321'"
      ]
     },
     "execution_count": 158,
     "metadata": {},
     "output_type": "execute_result"
    }
   ],
   "source": [
    "my_seq[::-1]"
   ]
  },
  {
   "cell_type": "markdown",
   "metadata": {},
   "source": [
    "#### Слайсы можно именовать"
   ]
  },
  {
   "cell_type": "markdown",
   "metadata": {},
   "source": [
    "Пусть у нас есть большая строчка"
   ]
  },
  {
   "cell_type": "code",
   "execution_count": 159,
   "metadata": {},
   "outputs": [],
   "source": [
    "invoice = \"\"\"\n",
    "0.....6.................................40........52...55........\n",
    "1909  Pimoroni PiBrella                   $17.50     3    $52.50\n",
    "1489  6mm Tactile Switch x20              $4.95      2    $9.90\n",
    "1510  Panavise Jr. - PV-201               $28.00     1    $28.00\n",
    "1601  PiTFT Mini Kit 320x240              $34.95     1    $34.95\n",
    "\"\"\""
   ]
  },
  {
   "cell_type": "code",
   "execution_count": 160,
   "metadata": {},
   "outputs": [
    {
     "name": "stdout",
     "output_type": "stream",
     "text": [
      "  $17.50     Pimoroni PiBrella                 \n",
      "  $4.95      6mm Tactile Switch x20            \n",
      "  $28.00     Panavise Jr. - PV-201             \n",
      "  $34.95     PiTFT Mini Kit 320x240            \n",
      " \n"
     ]
    }
   ],
   "source": [
    "NUMBER = slice(0, 6)\n",
    "DESC = slice(6, 40)\n",
    "PRICE = slice(40, 52)\n",
    "TOTAL = slice(55, None)\n",
    "\n",
    "for sold_item in invoice.split('\\n')[2:]:\n",
    "    print(sold_item[PRICE], sold_item[DESC])"
   ]
  },
  {
   "cell_type": "code",
   "execution_count": 163,
   "metadata": {},
   "outputs": [
    {
     "data": {
      "text/plain": [
       "'  $17.50    '"
      ]
     },
     "execution_count": 163,
     "metadata": {},
     "output_type": "execute_result"
    }
   ],
   "source": [
    "invoice_part = '1909  Pimoroni PiBrella                   $17.50     3    $52.50'\n",
    "invoice_part[PRICE]"
   ]
  },
  {
   "cell_type": "markdown",
   "metadata": {
    "id": "Am8SwfSQXahg"
   },
   "source": [
    "### Форматирование"
   ]
  },
  {
   "cell_type": "markdown",
   "metadata": {
    "id": "wqHTiuxIXahh"
   },
   "source": [
    "Часто возникают ситуации, когда нужно сделать строку, подставив в неё некоторые данные, полученные в процессе выполнения программы. \n",
    "Форматирование можно сделать с помощью оператора %, format и f-string"
   ]
  },
  {
   "cell_type": "markdown",
   "metadata": {
    "id": "Kf6ZdkMhXahh"
   },
   "source": [
    "Чтобы отформатировать строку  требуется:\n"
   ]
  },
  {
   "cell_type": "markdown",
   "metadata": {
    "id": "8saF7W-iXahh"
   },
   "source": [
    "#### Оператор %.  \n",
    "\n",
    "<Строка формата, содержащая один или более спецификаторов формата(например, %d (digit))> % <объект (или объекты, в виде кортежа),значение которого должно быть подставлено на место спецификатора (или спецификаторов) в левой части выражения>.\n"
   ]
  },
  {
   "cell_type": "code",
   "execution_count": null,
   "metadata": {
    "id": "IqNNt3PWXahh",
    "outputId": "df2c8ced-07dc-4606-af22-aa669154a67f"
   },
   "outputs": [
    {
     "name": "stdout",
     "output_type": "stream",
     "text": [
      "That  is  1  gold  fish!\n"
     ]
    }
   ],
   "source": [
    "print('That  is  %d  %s  fish!' % (1, 'gold')) "
   ]
  },
  {
   "cell_type": "code",
   "execution_count": 168,
   "metadata": {
    "id": "n0eJTaSkXahh",
    "outputId": "ee4efac7-13c8-4759-addf-eadc633eaae6"
   },
   "outputs": [
    {
     "name": "stdin",
     "output_type": "stream",
     "text": [
      " 1\n",
      " spam\n",
      " 4\n"
     ]
    },
    {
     "data": {
      "text/plain": [
       "'1 spam 4 you'"
      ]
     },
     "execution_count": 168,
     "metadata": {},
     "output_type": "execute_result"
    }
   ],
   "source": [
    "\"%d %s %d you\" % (int(input()), input(), int(input()))"
   ]
  },
  {
   "cell_type": "code",
   "execution_count": 166,
   "metadata": {
    "id": "E416PxXSXahi",
    "outputId": "abc8a337-2781-43f5-9fda-94aa928f4681"
   },
   "outputs": [
    {
     "data": {
      "text/plain": [
       "'42 -- 3.14159 -- [1, 2, 3]'"
      ]
     },
     "execution_count": 166,
     "metadata": {},
     "output_type": "execute_result"
    }
   ],
   "source": [
    "\"%s -- %s -- %s\" % (42, 3.14159, [1, 2, 3])"
   ]
  },
  {
   "cell_type": "markdown",
   "metadata": {},
   "source": [
    "**почему так больше не надо**"
   ]
  },
  {
   "cell_type": "markdown",
   "metadata": {},
   "source": [
    "Хотя бы потому, что это очень длинно и малочитаемо"
   ]
  },
  {
   "cell_type": "code",
   "execution_count": 26,
   "metadata": {},
   "outputs": [
    {
     "data": {
      "text/plain": [
       "'Hello, Eric Idle. You are 74. You are a comedian. You were a member of Monty Python.'"
      ]
     },
     "execution_count": 26,
     "metadata": {},
     "output_type": "execute_result"
    }
   ],
   "source": [
    "first_name = \"Eric\"\n",
    "last_name = \"Idle\"\n",
    "age = 74\n",
    "profession = \"comedian\"\n",
    "affiliation = \"Monty Python\"\n",
    "\n",
    "\"Hello, %s %s. You are %s. You are a %s. You were a member of %s.\" % (first_name, last_name, age, profession, affiliation)"
   ]
  },
  {
   "cell_type": "markdown",
   "metadata": {},
   "source": [
    "#### format"
   ]
  },
  {
   "cell_type": "code",
   "execution_count": 170,
   "metadata": {
    "id": "lDyG-VaoaC0h",
    "outputId": "3d667c41-6df0-4b03-d1da-6ce76c7b03bb"
   },
   "outputs": [
    {
     "data": {
      "text/plain": [
       "'One sheep is 23.123 kilos'"
      ]
     },
     "execution_count": 170,
     "metadata": {},
     "output_type": "execute_result"
    }
   ],
   "source": [
    "weight_of_one_sheep = 23.1234\n",
    "'One sheep is {:.3f} kilos'.format(weight_of_one_sheep)"
   ]
  },
  {
   "cell_type": "markdown",
   "metadata": {},
   "source": [
    "`format` позволяет задать тип числа и отформатировать строку"
   ]
  },
  {
   "cell_type": "code",
   "execution_count": 181,
   "metadata": {},
   "outputs": [
    {
     "data": {
      "text/plain": [
       "'left aligned******************'"
      ]
     },
     "execution_count": 181,
     "metadata": {},
     "output_type": "execute_result"
    }
   ],
   "source": [
    "'{:*<30}'.format('left aligned')  # \"*\" здесь задаваемый символ"
   ]
  },
  {
   "cell_type": "code",
   "execution_count": 174,
   "metadata": {},
   "outputs": [
    {
     "data": {
      "text/plain": [
       "'*****************right aligned'"
      ]
     },
     "execution_count": 174,
     "metadata": {},
     "output_type": "execute_result"
    }
   ],
   "source": [
    "'{:*>30}'.format('right aligned')  # \"*\" здесь задаваемый символ"
   ]
  },
  {
   "cell_type": "code",
   "execution_count": 175,
   "metadata": {},
   "outputs": [
    {
     "data": {
      "text/plain": [
       "'***********aligned************'"
      ]
     },
     "execution_count": 175,
     "metadata": {},
     "output_type": "execute_result"
    }
   ],
   "source": [
    "'{:*^30}'.format('aligned')  # \"*\" здесь задаваемый символ\n"
   ]
  },
  {
   "cell_type": "code",
   "execution_count": 176,
   "metadata": {},
   "outputs": [
    {
     "data": {
      "text/plain": [
       "'+3.140000; -3.140000'"
      ]
     },
     "execution_count": 176,
     "metadata": {},
     "output_type": "execute_result"
    }
   ],
   "source": [
    "'{:+f}; {:+f}'.format(3.14, -3.14)  # всегда показывать знак"
   ]
  },
  {
   "cell_type": "code",
   "execution_count": 177,
   "metadata": {},
   "outputs": [
    {
     "data": {
      "text/plain": [
       "'3.140000000000000124344979'"
      ]
     },
     "execution_count": 177,
     "metadata": {},
     "output_type": "execute_result"
    }
   ],
   "source": [
    "'{:.25g}'.format(3.14)  # показать первые n значимых цифр"
   ]
  },
  {
   "cell_type": "code",
   "execution_count": 178,
   "metadata": {},
   "outputs": [
    {
     "data": {
      "text/plain": [
       "'10100111001 539'"
      ]
     },
     "execution_count": 178,
     "metadata": {},
     "output_type": "execute_result"
    }
   ],
   "source": [
    "'{0:b} {0:x}'.format(1337)  # показать в бинарном или hex виде"
   ]
  },
  {
   "cell_type": "code",
   "execution_count": 179,
   "metadata": {},
   "outputs": [
    {
     "data": {
      "text/plain": [
       "'    314.31'"
      ]
     },
     "execution_count": 179,
     "metadata": {},
     "output_type": "execute_result"
    }
   ],
   "source": [
    "'{:10.2f}'.format(314.314)  # можно задать точность "
   ]
  },
  {
   "cell_type": "markdown",
   "metadata": {},
   "source": [
    "*Task*. А как записать с нулями впереди?"
   ]
  },
  {
   "cell_type": "code",
   "execution_count": 182,
   "metadata": {},
   "outputs": [
    {
     "data": {
      "text/plain": [
       "'0000314.31'"
      ]
     },
     "execution_count": 182,
     "metadata": {},
     "output_type": "execute_result"
    }
   ],
   "source": [
    "'{:010.2f}'.format(314.314)"
   ]
  },
  {
   "cell_type": "markdown",
   "metadata": {},
   "source": [
    "Удобство *.format* заключается в том, что можно передавать строку с плейсхолдерами, а потом их доопределять. Плейсхолдеры могут быть именованными или нет, в единственном числе или множество. Пример:"
   ]
  },
  {
   "cell_type": "code",
   "execution_count": 184,
   "metadata": {},
   "outputs": [
    {
     "name": "stdout",
     "output_type": "stream",
     "text": [
      "Our brand new estimation of sheeps weight is 42.000 kilos\n",
      "Our brand new estimation of sheeps weight is 42.000 kilos\n",
      "Our brand new estimation of sheeps weight is 42.000 kilos\n"
     ]
    }
   ],
   "source": [
    "new_estimation = 42.\n",
    "\n",
    "future_info_unnamed = 'Our brand new estimation of sheeps weight is {:.3f} kilos'\n",
    "print(future_info_unnamed.format(new_estimation))\n",
    "\n",
    "future_info_named = 'Our brand new estimation of sheeps weight is {new_value:.3f} kilos'\n",
    "print(future_info_named.format(new_value=new_estimation))\n",
    "\n",
    "future_info_named_mult = 'Our brand new estimation of sheeps {item} is {new_value:.3f} kilos'\n",
    "print(future_info_named_mult.format(new_value=new_estimation, item='weight'))"
   ]
  },
  {
   "cell_type": "code",
   "execution_count": 185,
   "metadata": {
    "id": "jR5ED0e-Xahi",
    "outputId": "be8872ad-a59a-45f6-8310-4b40dd5f9e50"
   },
   "outputs": [
    {
     "data": {
      "text/plain": [
       "'a, b, c'"
      ]
     },
     "execution_count": 185,
     "metadata": {},
     "output_type": "execute_result"
    }
   ],
   "source": [
    "'{0}, {1}, {2}'.format('a', 'b', 'c')"
   ]
  },
  {
   "cell_type": "code",
   "execution_count": 186,
   "metadata": {
    "id": "kA3uXaTZXahi",
    "outputId": "588374c8-c2c4-4a50-ce89-260a653c750f"
   },
   "outputs": [
    {
     "data": {
      "text/plain": [
       "'a, b, c'"
      ]
     },
     "execution_count": 186,
     "metadata": {},
     "output_type": "execute_result"
    }
   ],
   "source": [
    "'{}, {}, {}'.format('a', 'b', 'c')"
   ]
  },
  {
   "cell_type": "code",
   "execution_count": 188,
   "metadata": {
    "id": "8lSHyNokXahi",
    "outputId": "5468e7c6-d1d7-4f42-fe32-86eff9526692"
   },
   "outputs": [
    {
     "data": {
      "text/plain": [
       "'c, a, b'"
      ]
     },
     "execution_count": 188,
     "metadata": {},
     "output_type": "execute_result"
    }
   ],
   "source": [
    "'{2}, {0}, {1}'.format('a', 'b', 'c')"
   ]
  },
  {
   "cell_type": "markdown",
   "metadata": {},
   "source": [
    "Классно, но все еще длинно"
   ]
  },
  {
   "cell_type": "code",
   "execution_count": 54,
   "metadata": {},
   "outputs": [
    {
     "data": {
      "text/plain": [
       "'Hello, Eric Idle. You are 74. You are a comedian. You were a member of Monty Python.'"
      ]
     },
     "execution_count": 54,
     "metadata": {},
     "output_type": "execute_result"
    }
   ],
   "source": [
    "first_name = \"Eric\"\n",
    "last_name = \"Idle\"\n",
    "age = 74\n",
    "profession = \"comedian\"\n",
    "affiliation = \"Monty Python\"\n",
    "\n",
    "pattern_str = \"Hello, {first_name} {last_name}. You are {age}. You are a {profession}. You were a member of {affiliation}.\"\n",
    "\n",
    "pattern_str.format(\n",
    "    first_name=first_name,\n",
    "    last_name=last_name,\n",
    "    age=age,\n",
    "    profession=profession,\n",
    "    affiliation=affiliation,\n",
    ")"
   ]
  },
  {
   "cell_type": "markdown",
   "metadata": {},
   "source": [
    "Можно чуть короче, если есть dict"
   ]
  },
  {
   "cell_type": "code",
   "execution_count": 56,
   "metadata": {},
   "outputs": [
    {
     "data": {
      "text/plain": [
       "'Hello, John Doe. You are 18. You are a seeker. You were a member of humanity.'"
      ]
     },
     "execution_count": 56,
     "metadata": {},
     "output_type": "execute_result"
    }
   ],
   "source": [
    "data = {\n",
    "    'first_name': 'John',\n",
    "    'last_name': 'Doe',\n",
    "    'age': '18',\n",
    "    'profession': 'seeker',\n",
    "    'affiliation': 'humanity'\n",
    "}\n",
    "\n",
    "pattern_str.format(**data)"
   ]
  },
  {
   "cell_type": "markdown",
   "metadata": {},
   "source": [
    "#### f-strings\n",
    "\n",
    "Как format, только чуть короче"
   ]
  },
  {
   "cell_type": "markdown",
   "metadata": {},
   "source": [
    "Можно писать коротко"
   ]
  },
  {
   "cell_type": "code",
   "execution_count": 195,
   "metadata": {},
   "outputs": [
    {
     "data": {
      "text/plain": [
       "'my name is Denis Belyakov'"
      ]
     },
     "execution_count": 195,
     "metadata": {},
     "output_type": "execute_result"
    }
   ],
   "source": [
    "name = 'Denis'\n",
    "surname = 'Belyakov'\n",
    "\n",
    "f'my name is {name} {surname}'"
   ]
  },
  {
   "cell_type": "markdown",
   "metadata": {},
   "source": [
    "И можно использовать выражения!"
   ]
  },
  {
   "cell_type": "code",
   "execution_count": 197,
   "metadata": {},
   "outputs": [
    {
     "data": {
      "text/plain": [
       "'my name is DENIS Bely'"
      ]
     },
     "execution_count": 197,
     "metadata": {},
     "output_type": "execute_result"
    }
   ],
   "source": [
    "f'my name is {name.upper()} {surname[:4] if len(surname) > 4 else surname}'"
   ]
  },
  {
   "cell_type": "markdown",
   "metadata": {},
   "source": [
    "Тоже можно использовать форматирование, как смотрели выше"
   ]
  },
  {
   "cell_type": "code",
   "execution_count": 198,
   "metadata": {},
   "outputs": [
    {
     "data": {
      "text/plain": [
       "'000123456.12'"
      ]
     },
     "execution_count": 198,
     "metadata": {},
     "output_type": "execute_result"
    }
   ],
   "source": [
    "number = 123456.1234\n",
    "f\"{number:012.2f}\""
   ]
  },
  {
   "cell_type": "code",
   "execution_count": 201,
   "metadata": {},
   "outputs": [
    {
     "data": {
      "text/plain": [
       "'     1.2e+05'"
      ]
     },
     "execution_count": 201,
     "metadata": {},
     "output_type": "execute_result"
    }
   ],
   "source": [
    "f\"{number:12.2}\""
   ]
  },
  {
   "cell_type": "markdown",
   "metadata": {},
   "source": [
    "### Вспомним про два возможных строковых представления для объектов"
   ]
  },
  {
   "cell_type": "code",
   "execution_count": 59,
   "metadata": {},
   "outputs": [],
   "source": [
    "class MyPrettyInt:\n",
    "    def __init__(self, value: int):\n",
    "        self.value = value\n",
    "    \n",
    "    def __repr__(self):\n",
    "        return f'MyPrettyInt({self.value})'\n",
    "    \n",
    "    def __str__(self):\n",
    "        return f'here is my pretty {self.value}'"
   ]
  },
  {
   "cell_type": "markdown",
   "metadata": {},
   "source": [
    "Вызов `format` для него будет вызывать метод `__str__`, а потом уже `__repr__`"
   ]
  },
  {
   "cell_type": "code",
   "execution_count": 203,
   "metadata": {},
   "outputs": [],
   "source": [
    "pretty_int = MyPrettyInt(4) "
   ]
  },
  {
   "cell_type": "code",
   "execution_count": 204,
   "metadata": {},
   "outputs": [
    {
     "data": {
      "text/plain": [
       "'here is my pretty 4 and it is the prettiest!'"
      ]
     },
     "execution_count": 204,
     "metadata": {},
     "output_type": "execute_result"
    }
   ],
   "source": [
    "f'{pretty_int} and it is the prettiest!'"
   ]
  },
  {
   "cell_type": "markdown",
   "metadata": {},
   "source": [
    "Можно насильно вызвать представление через `__repr__` написав `!r`"
   ]
  },
  {
   "cell_type": "code",
   "execution_count": 205,
   "metadata": {},
   "outputs": [
    {
     "data": {
      "text/plain": [
       "'MyPrettyInt(4) and it is the prettiest!'"
      ]
     },
     "execution_count": 205,
     "metadata": {},
     "output_type": "execute_result"
    }
   ],
   "source": [
    "f'{pretty_int!r} and it is the prettiest!'"
   ]
  },
  {
   "cell_type": "code",
   "execution_count": 208,
   "metadata": {},
   "outputs": [
    {
     "data": {
      "text/plain": [
       "'there is a great number 4'"
      ]
     },
     "execution_count": 208,
     "metadata": {},
     "output_type": "execute_result"
    }
   ],
   "source": [
    "num = '4'\n",
    "f'there is a great number {num}'"
   ]
  },
  {
   "cell_type": "code",
   "execution_count": 210,
   "metadata": {},
   "outputs": [
    {
     "data": {
      "text/plain": [
       "\"there is a great number '4'\""
      ]
     },
     "execution_count": 210,
     "metadata": {},
     "output_type": "execute_result"
    }
   ],
   "source": [
    "f'there is a great number {num!r}'"
   ]
  },
  {
   "cell_type": "markdown",
   "metadata": {},
   "source": [
    "**Мультистрока**"
   ]
  },
  {
   "cell_type": "code",
   "execution_count": 211,
   "metadata": {},
   "outputs": [
    {
     "name": "stdout",
     "output_type": "stream",
     "text": [
      "\n",
      "My \n",
      "name is Denis\n",
      "and surname is Belyakov\n",
      "\n"
     ]
    }
   ],
   "source": [
    "print(f'''\n",
    "My \n",
    "name is {name}\n",
    "and surname is {surname}\n",
    "''')"
   ]
  },
  {
   "cell_type": "code",
   "execution_count": 212,
   "metadata": {},
   "outputs": [
    {
     "name": "stdout",
     "output_type": "stream",
     "text": [
      "My name is Denis and surname is Belyakov\n"
     ]
    }
   ],
   "source": [
    "sample_str = f'My ' \\\n",
    "             f'name is {name} ' \\\n",
    "             f'and surname is {surname}' \\\n",
    "\n",
    "print(sample_str)"
   ]
  },
  {
   "cell_type": "markdown",
   "metadata": {},
   "source": [
    "### А что по скорости"
   ]
  },
  {
   "cell_type": "code",
   "execution_count": 213,
   "metadata": {},
   "outputs": [],
   "source": [
    "name = 'John'\n",
    "surname = 'Doe'\n",
    "age = 99"
   ]
  },
  {
   "cell_type": "code",
   "execution_count": 214,
   "metadata": {},
   "outputs": [
    {
     "name": "stdout",
     "output_type": "stream",
     "text": [
      "130 ns ± 2.72 ns per loop (mean ± std. dev. of 7 runs, 1,000,000 loops each)\n"
     ]
    }
   ],
   "source": [
    "%%timeit -n 1000000\n",
    "'name is %s, surname is %s, and age is %d' % (name, surname, age)"
   ]
  },
  {
   "cell_type": "code",
   "execution_count": 215,
   "metadata": {},
   "outputs": [
    {
     "name": "stdout",
     "output_type": "stream",
     "text": [
      "431 ns ± 2.03 ns per loop (mean ± std. dev. of 7 runs, 1,000,000 loops each)\n"
     ]
    }
   ],
   "source": [
    "%%timeit -n 1000000\n",
    "'name is {name}, surname is {surname}, and age is {age}'.format(name=name, surname=surname, age=age)"
   ]
  },
  {
   "cell_type": "code",
   "execution_count": 216,
   "metadata": {},
   "outputs": [
    {
     "name": "stdout",
     "output_type": "stream",
     "text": [
      "108 ns ± 2.83 ns per loop (mean ± std. dev. of 7 runs, 1,000,000 loops each)\n"
     ]
    }
   ],
   "source": [
    "%%timeit -n 1000000\n",
    "f'name is {name}, surname is {surname}, and age is {age}'"
   ]
  },
  {
   "cell_type": "markdown",
   "metadata": {},
   "source": [
    "Кто-нибудь знает, почему?"
   ]
  },
  {
   "cell_type": "markdown",
   "metadata": {},
   "source": [
    "Давайте посмотрим"
   ]
  },
  {
   "cell_type": "code",
   "execution_count": 35,
   "metadata": {},
   "outputs": [],
   "source": [
    "def create_format_str():\n",
    "    name = 'Denis'\n",
    "    surname = 'Belyakov'\n",
    "    age = 24\n",
    "    string = 'name is {name}, surname is {surname}, and age is {age}'.format(name=name, surname=surname, age=age)\n",
    "    return string\n",
    "\n",
    "def create_f_str():\n",
    "    name = 'Denis'\n",
    "    surname = 'Belyakov'\n",
    "    age = 24\n",
    "    string = f'name is {name}, surname is {surname}, and age is {age}'\n",
    "    return string"
   ]
  },
  {
   "cell_type": "markdown",
   "metadata": {},
   "source": [
    "[Диссим](https://docs.python.org/3/library/dis.html) Python"
   ]
  },
  {
   "cell_type": "code",
   "execution_count": 36,
   "metadata": {},
   "outputs": [
    {
     "name": "stdout",
     "output_type": "stream",
     "text": [
      "  9           0 LOAD_CONST               1 ('Denis')\n",
      "              2 STORE_FAST               0 (name)\n",
      "\n",
      " 10           4 LOAD_CONST               2 ('Belyakov')\n",
      "              6 STORE_FAST               1 (surname)\n",
      "\n",
      " 11           8 LOAD_CONST               3 (24)\n",
      "             10 STORE_FAST               2 (age)\n",
      "\n",
      " 12          12 LOAD_CONST               4 ('name is ')\n",
      "             14 LOAD_FAST                0 (name)\n",
      "             16 FORMAT_VALUE             0\n",
      "             18 LOAD_CONST               5 (', surname is ')\n",
      "             20 LOAD_FAST                1 (surname)\n",
      "             22 FORMAT_VALUE             0\n",
      "             24 LOAD_CONST               6 (', and age is ')\n",
      "             26 LOAD_FAST                2 (age)\n",
      "             28 FORMAT_VALUE             0\n",
      "             30 BUILD_STRING             6\n",
      "             32 STORE_FAST               3 (string)\n",
      "\n",
      " 13          34 LOAD_FAST                3 (string)\n",
      "             36 RETURN_VALUE\n"
     ]
    }
   ],
   "source": [
    "import dis\n",
    "\n",
    "dis.dis(create_f_str)"
   ]
  },
  {
   "cell_type": "markdown",
   "metadata": {},
   "source": [
    "Обратите внимание на [FORMAT_VALUE](https://docs.python.org/3/library/dis.html#opcode-FORMAT_VALUE)"
   ]
  },
  {
   "cell_type": "code",
   "execution_count": 37,
   "metadata": {},
   "outputs": [
    {
     "name": "stdout",
     "output_type": "stream",
     "text": [
      "  2           0 LOAD_CONST               1 ('Denis')\n",
      "              2 STORE_FAST               0 (name)\n",
      "\n",
      "  3           4 LOAD_CONST               2 ('Belyakov')\n",
      "              6 STORE_FAST               1 (surname)\n",
      "\n",
      "  4           8 LOAD_CONST               3 (24)\n",
      "             10 STORE_FAST               2 (age)\n",
      "\n",
      "  5          12 LOAD_CONST               4 ('name is {name}, surname is {surname}, and age is {age}')\n",
      "             14 LOAD_ATTR                0 (format)\n",
      "             16 LOAD_FAST                0 (name)\n",
      "             18 LOAD_FAST                1 (surname)\n",
      "             20 LOAD_FAST                2 (age)\n",
      "             22 LOAD_CONST               5 (('name', 'surname', 'age'))\n",
      "             24 CALL_FUNCTION_KW         3\n",
      "             26 STORE_FAST               3 (string)\n",
      "\n",
      "  6          28 LOAD_FAST                3 (string)\n",
      "             30 RETURN_VALUE\n"
     ]
    }
   ],
   "source": [
    "dis.dis(create_format_str)"
   ]
  },
  {
   "cell_type": "markdown",
   "metadata": {},
   "source": [
    "Наличие Function call (24) без дополнительных оптимизаций скорее всего обуславливает относительную медлительность .format() "
   ]
  },
  {
   "cell_type": "markdown",
   "metadata": {},
   "source": [
    "**special cases**"
   ]
  },
  {
   "cell_type": "code",
   "execution_count": 217,
   "metadata": {},
   "outputs": [
    {
     "data": {
      "text/plain": [
       "\"I love 'Nestle' chocolate\""
      ]
     },
     "execution_count": 217,
     "metadata": {},
     "output_type": "execute_result"
    }
   ],
   "source": [
    "f'I love \\'Nestle\\' chocolate' # экранирование"
   ]
  },
  {
   "cell_type": "code",
   "execution_count": 218,
   "metadata": {},
   "outputs": [
    {
     "data": {
      "text/plain": [
       "'Values in braces are the best: {4 + 5}'"
      ]
     },
     "execution_count": 218,
     "metadata": {},
     "output_type": "execute_result"
    }
   ],
   "source": [
    "f'Values in braces are the best: {{4 + 5}}'  # {{}} для показа скобочек"
   ]
  },
  {
   "cell_type": "code",
   "execution_count": 219,
   "metadata": {},
   "outputs": [
    {
     "data": {
      "text/plain": [
       "'Values in braces are the best: {9}'"
      ]
     },
     "execution_count": 219,
     "metadata": {},
     "output_type": "execute_result"
    }
   ],
   "source": [
    "f'Values in braces are the best: {{{4 + 5}}}'  # {{{}}} для показа скобочек и вычисления"
   ]
  },
  {
   "cell_type": "code",
   "execution_count": 220,
   "metadata": {},
   "outputs": [
    {
     "data": {
      "text/plain": [
       "'Values in braces are the best: {{4 + 5}}'"
      ]
     },
     "execution_count": 220,
     "metadata": {},
     "output_type": "execute_result"
    }
   ],
   "source": [
    "f'Values in braces are the best: {{{{4 + 5}}}}'  # {{{}}} для показа скобочек и вычисления"
   ]
  },
  {
   "cell_type": "markdown",
   "metadata": {},
   "source": [
    "Ну, вы поняли"
   ]
  },
  {
   "cell_type": "markdown",
   "metadata": {
    "id": "1s-Zqbl-Xahj"
   },
   "source": [
    "### Дополнительные функции и методы строк"
   ]
  },
  {
   "cell_type": "code",
   "execution_count": 221,
   "metadata": {
    "id": "9XqqjYj5Xahj",
    "outputId": "c8c8ebc6-848a-4e43-eb4c-5bbc48cb6ff7"
   },
   "outputs": [
    {
     "name": "stdin",
     "output_type": "stream",
     "text": [
      " 10\n"
     ]
    },
    {
     "name": "stdout",
     "output_type": "stream",
     "text": [
      "101010\n"
     ]
    }
   ],
   "source": [
    "# Функция input() считывает строку из консоли, пока не нажат enter\n",
    "s = input()\n",
    "print(s*3)"
   ]
  },
  {
   "cell_type": "markdown",
   "metadata": {
    "id": "TutEm3PoXahj",
    "outputId": "fd10b271-6544-47d4-e09b-2f2eef818fce"
   },
   "source": [
    "*Поиск подстроки в строке. Возвращает номер первого вхождения или -1*\n",
    "\n",
    "    s.find(str, [start],[end])\n",
    "    \n",
    "*Поиск подстроки в строке. Возвращает номер последнего вхождения или -1*\n",
    "\n",
    "    s.rfind(str, [start],[end]\n",
    "\n",
    "*Поиск подстроки в строке. Возвращает номер первого вхождения или вызывает ValueError*\n",
    "\n",
    "    s.index(str, [start],[end])\n",
    "\n",
    "*Поиск подстроки в строке. Возвращает номер последнего вхождения или вызывает ValueError*\n",
    "\n",
    "    s.rindex(str, [start],[end])\n",
    "    \n",
    "*Замена шаблона*\n",
    "\n",
    "    s.replace(шаблон, замена)\n",
    "    \n",
    "*Разбиение строки по разделителю*\n",
    "\n",
    "    s.split(символ)\n",
    "    \n",
    "*Состоит ли строка из цифр*\n",
    "\n",
    "    s.isdigit()\n",
    "    \n",
    "*Состоит ли строка из букв*\n",
    "\n",
    "    s.isalpha()"
   ]
  },
  {
   "cell_type": "markdown",
   "metadata": {
    "id": "6t7GW8OTXahj",
    "jupyter": {
     "outputs_hidden": true
    }
   },
   "source": [
    "*Состоит ли строка из цифр или букв*\n",
    "\n",
    "    s.isalnum()\n",
    "\n",
    "*Состоит ли строка из символов в нижнем регистре*\n",
    "\n",
    "    s.islower()\n",
    "    \n",
    "\n",
    "*Состоит ли строка из символов в верхнем регистре*\n",
    "    \n",
    "    s.isupper()\n",
    "\n",
    "*Состоит ли строка из неотображаемых символов (пробел, символ перевода страницы ('\\f'), \"новая строка\" ('\\n'), \"перевод каретки\" ('\\r'), \"горизонтальная табуляция\" ('\\t') и \"вертикальная табуляция\" ('\\v'))*\n",
    "    \n",
    "    s.isspace()\n",
    "\n",
    "*Начинаются ли слова в строке с заглавной буквы*\n",
    "\n",
    "    s.istitle()\n",
    "\n",
    "*Преобразование строки к верхнему регистру*\n",
    "    \n",
    "    s.upper()\n",
    "\n",
    "*Преобразование строки к нижнему регистру*\n",
    "    \n",
    "    s.lower()\n",
    "\n",
    "*Начинается ли строка S с шаблона str*\n",
    "    \n",
    "    s.startswith(str)\n",
    "\n",
    "*Переводит символы нижнего регистра в верхний, а верхнего – в нижний*\n",
    "    \n",
    "    s.swapcase()"
   ]
  },
  {
   "cell_type": "markdown",
   "metadata": {
    "id": "6t7GW8OTXahj",
    "jupyter": {
     "outputs_hidden": true
    }
   },
   "source": [
    "*Символ в его код ASCII*\n",
    "    \n",
    "    ord(символ)\n",
    "\n",
    "*Код ASCII в символ*\n",
    "    \n",
    "    chr(число)"
   ]
  },
  {
   "cell_type": "code",
   "execution_count": 223,
   "metadata": {},
   "outputs": [
    {
     "data": {
      "text/plain": [
       "(97, 'a')"
      ]
     },
     "execution_count": 223,
     "metadata": {},
     "output_type": "execute_result"
    }
   ],
   "source": [
    "ord('a'), chr(97)"
   ]
  },
  {
   "cell_type": "markdown",
   "metadata": {
    "id": "6t7GW8OTXahj",
    "jupyter": {
     "outputs_hidden": true
    }
   },
   "source": [
    "*Возвращает количество непересекающихся вхождений подстроки в диапазоне [начало, конец] (0 и длина строки по умолчанию)*\n",
    "\n",
    "    s.count(str, [start],[end])\n",
    "\n",
    "\n",
    "*Удаление пробельных символов в начале строки*\n",
    "\n",
    "    s.lstrip([chars])\n",
    "\n",
    "*Удаление пробельных символов в конце строки*\n",
    "\n",
    "    s.rstrip([chars])\n",
    "\n",
    "*Удаление пробельных символов в начале и в конце строки*\n",
    "\n",
    "    s.strip([chars])\n",
    "\n",
    "*Первую букву каждого слова переводит в верхний регистр, а все остальные в нижний*\n",
    "    \n",
    "    s.title()"
   ]
  },
  {
   "cell_type": "markdown",
   "metadata": {
    "id": "5BdzMAV4ih5I"
   },
   "source": [
    "### Метод split()"
   ]
  },
  {
   "cell_type": "markdown",
   "metadata": {
    "id": "dBWTdCzBih5K"
   },
   "source": [
    "Метод `split()` разделяет строку на подстроки по указанному разделителю и выдает на выходе другую (уже изменяемую!) последовательность -- `list`"
   ]
  },
  {
   "cell_type": "code",
   "execution_count": 224,
   "metadata": {
    "id": "2jylZN-7ih5L",
    "outputId": "f8fd701f-663a-4239-e0d4-01552772595f"
   },
   "outputs": [
    {
     "data": {
      "text/plain": [
       "['mother', 'father', 'sister', 'brother']"
      ]
     },
     "execution_count": 224,
     "metadata": {},
     "output_type": "execute_result"
    }
   ],
   "source": [
    "s = \"mother, father, sister, brother\"\n",
    "s.split(\", \")"
   ]
  },
  {
   "cell_type": "markdown",
   "metadata": {
    "id": "NccVqoytih5S"
   },
   "source": [
    "Если разделитель не указан, что строка разделяется по любому whitespace символу"
   ]
  },
  {
   "cell_type": "code",
   "execution_count": 227,
   "metadata": {
    "id": "i-J5DZXPih5U",
    "outputId": "39a229a0-26b1-468d-f697-f2415456ddff"
   },
   "outputs": [
    {
     "data": {
      "text/plain": [
       "['mother', 'father', 'sister', 'brother', 'me']"
      ]
     },
     "execution_count": 227,
     "metadata": {},
     "output_type": "execute_result"
    }
   ],
   "source": [
    "s = \"mother father \\t sister \\n brother   me\"\n",
    "s.split()"
   ]
  },
  {
   "cell_type": "markdown",
   "metadata": {},
   "source": [
    "### Text Versus Bytes (1)"
   ]
  },
  {
   "cell_type": "markdown",
   "metadata": {},
   "source": [
    "Выше мы дали определение строки как неизменяемая последовательность символов (immutabe sequence of _charachters_). Но что такое _charachter_?"
   ]
  },
  {
   "cell_type": "markdown",
   "metadata": {},
   "source": [
    "в Python3 это символ Unicode. В зависимости от используемого стандарта Unicode, представление кода в байтах может отличаться"
   ]
  },
  {
   "cell_type": "code",
   "execution_count": 138,
   "metadata": {},
   "outputs": [
    {
     "data": {
      "text/plain": [
       "4"
      ]
     },
     "execution_count": 138,
     "metadata": {},
     "output_type": "execute_result"
    }
   ],
   "source": [
    "s = 'café'\n",
    "len(s)  # 4 символа юникода"
   ]
  },
  {
   "cell_type": "code",
   "execution_count": 141,
   "metadata": {},
   "outputs": [
    {
     "data": {
      "text/plain": [
       "b'caf\\xc3\\xa9'"
      ]
     },
     "execution_count": 141,
     "metadata": {},
     "output_type": "execute_result"
    }
   ],
   "source": [
    "b = s.encode('utf8')\n",
    "b  # 5 байт в кодировке, т.к. последний символ занимает 2 байта в UTF-8"
   ]
  },
  {
   "cell_type": "code",
   "execution_count": 140,
   "metadata": {},
   "outputs": [
    {
     "data": {
      "text/plain": [
       "'café'"
      ]
     },
     "execution_count": 140,
     "metadata": {},
     "output_type": "execute_result"
    }
   ],
   "source": [
    "b.decode('utf8')"
   ]
  },
  {
   "cell_type": "markdown",
   "metadata": {},
   "source": [
    "**В Unicode бывают сюрпризы**"
   ]
  },
  {
   "cell_type": "code",
   "execution_count": 39,
   "metadata": {},
   "outputs": [],
   "source": [
    "s_one = 'Spicy Jalape\\u00f1o' \n",
    "s_two = 'Spicy Jalapen\\u0303o' "
   ]
  },
  {
   "cell_type": "code",
   "execution_count": 41,
   "metadata": {},
   "outputs": [
    {
     "data": {
      "text/plain": [
       "('Spicy Jalapeño', 'Spicy Jalapeño')"
      ]
     },
     "execution_count": 41,
     "metadata": {},
     "output_type": "execute_result"
    }
   ],
   "source": [
    "s_one, s_two"
   ]
  },
  {
   "cell_type": "code",
   "execution_count": 42,
   "metadata": {},
   "outputs": [
    {
     "data": {
      "text/plain": [
       "False"
      ]
     },
     "execution_count": 42,
     "metadata": {},
     "output_type": "execute_result"
    }
   ],
   "source": [
    "s_one == s_two"
   ]
  },
  {
   "cell_type": "code",
   "execution_count": 43,
   "metadata": {},
   "outputs": [
    {
     "data": {
      "text/plain": [
       "(14, 15)"
      ]
     },
     "execution_count": 43,
     "metadata": {},
     "output_type": "execute_result"
    }
   ],
   "source": [
    "len(s_one), len(s_two)"
   ]
  },
  {
   "cell_type": "markdown",
   "metadata": {},
   "source": [
    "Что делать?"
   ]
  },
  {
   "cell_type": "code",
   "execution_count": 44,
   "metadata": {},
   "outputs": [],
   "source": [
    "import unicodedata"
   ]
  },
  {
   "cell_type": "code",
   "execution_count": 47,
   "metadata": {},
   "outputs": [],
   "source": [
    "ns_one = unicodedata.normalize('NFD', s_one)\n",
    "ns_two = unicodedata.normalize('NFD', s_two)"
   ]
  },
  {
   "cell_type": "code",
   "execution_count": 48,
   "metadata": {},
   "outputs": [
    {
     "data": {
      "text/plain": [
       "True"
      ]
     },
     "execution_count": 48,
     "metadata": {},
     "output_type": "execute_result"
    }
   ],
   "source": [
    "ns_one == ns_two"
   ]
  },
  {
   "cell_type": "code",
   "execution_count": 51,
   "metadata": {},
   "outputs": [
    {
     "data": {
      "text/plain": [
       "(b'Spicy Jalapen\\xcc\\x83o', b'Spicy Jalapen\\xcc\\x83o')"
      ]
     },
     "execution_count": 51,
     "metadata": {},
     "output_type": "execute_result"
    }
   ],
   "source": [
    "ns_one.encode('utf-8'), ns_two.encode('utf-8')"
   ]
  },
  {
   "cell_type": "code",
   "execution_count": 53,
   "metadata": {},
   "outputs": [
    {
     "data": {
      "text/plain": [
       "('Spicy Jalapeño', 'Spicy Jalapeño')"
      ]
     },
     "execution_count": 53,
     "metadata": {},
     "output_type": "execute_result"
    }
   ],
   "source": [
    "ns_one, ns_two"
   ]
  },
  {
   "cell_type": "markdown",
   "metadata": {},
   "source": [
    "Например, можно почистить текст от спецсимволов вроде диактритических знаков"
   ]
  },
  {
   "cell_type": "code",
   "execution_count": 54,
   "metadata": {},
   "outputs": [
    {
     "data": {
      "text/plain": [
       "'Spicy Jalapeno'"
      ]
     },
     "execution_count": 54,
     "metadata": {},
     "output_type": "execute_result"
    }
   ],
   "source": [
    "''.join(c for c in ns_one if not unicodedata.combining(c))"
   ]
  },
  {
   "cell_type": "markdown",
   "metadata": {},
   "source": [
    "## Немного задачек"
   ]
  },
  {
   "cell_type": "markdown",
   "metadata": {},
   "source": [
    "Бонусный балл предлагется за решение 1, 2, 3 или 1, 2, 4. Можно получить частичный. Решайте! Надеюсь, будет интересно"
   ]
  },
  {
   "cell_type": "markdown",
   "metadata": {},
   "source": [
    "**1. Получите с помощью форматирования строк строку \"foo:foo\".**\n",
    "\n",
    "Попробуйте использовать все способы, которые вы знаете на текущий момент (>=5)"
   ]
  },
  {
   "cell_type": "code",
   "execution_count": 65,
   "metadata": {
    "ExecuteTime": {
     "end_time": "2022-09-28T17:42:23.896963Z",
     "start_time": "2022-09-28T17:42:23.893927Z"
    }
   },
   "outputs": [],
   "source": [
    "bar = 'foo'"
   ]
  },
  {
   "cell_type": "code",
   "execution_count": null,
   "metadata": {},
   "outputs": [],
   "source": [
    "# your solutions"
   ]
  },
  {
   "cell_type": "markdown",
   "metadata": {},
   "source": [
    "**2. Напишите форматную строку, которая могла бы форматировать число по заданной ширине и целочисленной точности**\n",
    "\n",
    "hint: в f-строках возможно вложенное использование {}"
   ]
  },
  {
   "cell_type": "code",
   "execution_count": 22,
   "metadata": {
    "ExecuteTime": {
     "end_time": "2022-09-28T17:17:10.802558Z",
     "start_time": "2022-09-28T17:17:10.796432Z"
    }
   },
   "outputs": [],
   "source": [
    "width = 10\n",
    "d_prec = 3\n",
    "value = 1337.808"
   ]
  },
  {
   "cell_type": "markdown",
   "metadata": {},
   "source": [
    "```'output:   1.34e+03'```"
   ]
  },
  {
   "cell_type": "code",
   "execution_count": 23,
   "metadata": {
    "ExecuteTime": {
     "end_time": "2022-09-28T17:17:11.254344Z",
     "start_time": "2022-09-28T17:17:11.251132Z"
    }
   },
   "outputs": [],
   "source": [
    "# your solution"
   ]
  },
  {
   "cell_type": "markdown",
   "metadata": {},
   "source": [
    "**3. Напишите функцию, которая:**\n",
    "\n",
    "   - получает на вход строку (возможно, небольшой текст) и стоп-слово\n",
    "    \n",
    "   - находит все индексы стоп-слова в строке\n",
    "    \n",
    "   - (*) в результате своей работы собирает новую строку, в которой нет стоп-слов\n",
    "   - (*) желательно написать удаление именно стопслова, когда оно не является частью другого слова"
   ]
  },
  {
   "cell_type": "markdown",
   "metadata": {
    "ExecuteTime": {
     "end_time": "2022-09-28T17:03:06.249229Z",
     "start_time": "2022-09-28T17:03:06.243508Z"
    }
   },
   "source": [
    "example:\n",
    "\n",
    "    s = 'here is my stopword stop it please stop'\n",
    "    stopword = 'stop'\n",
    "    \n",
    "output:\n",
    "    \n",
    "    20 24\n",
    "    35 39\n",
    "    'here is my stopword  it please '"
   ]
  },
  {
   "cell_type": "code",
   "execution_count": 58,
   "metadata": {
    "ExecuteTime": {
     "end_time": "2022-09-28T17:35:40.516944Z",
     "start_time": "2022-09-28T17:35:40.510397Z"
    }
   },
   "outputs": [],
   "source": [
    "s = 'here is my stopword stop it please stop'\n",
    "stopword = 'stop'"
   ]
  },
  {
   "cell_type": "code",
   "execution_count": 62,
   "metadata": {
    "ExecuteTime": {
     "end_time": "2022-09-28T17:37:16.150417Z",
     "start_time": "2022-09-28T17:37:16.143101Z"
    }
   },
   "outputs": [
    {
     "name": "stdout",
     "output_type": "stream",
     "text": [
      "20 24\n",
      "35 39\n"
     ]
    },
    {
     "data": {
      "text/plain": [
       "'here is my stopword  it please '"
      ]
     },
     "execution_count": 62,
     "metadata": {},
     "output_type": "execute_result"
    }
   ],
   "source": [
    "# your solution"
   ]
  },
  {
   "cell_type": "code",
   "execution_count": 64,
   "metadata": {
    "ExecuteTime": {
     "end_time": "2022-09-28T17:37:31.576311Z",
     "start_time": "2022-09-28T17:37:31.570167Z"
    }
   },
   "outputs": [
    {
     "data": {
      "text/plain": [
       "('stop', 'stop')"
      ]
     },
     "execution_count": 64,
     "metadata": {},
     "output_type": "execute_result"
    }
   ],
   "source": [
    "s[20:24], s[35:39]"
   ]
  },
  {
   "cell_type": "markdown",
   "metadata": {},
   "source": [
    "   **4. Let the FUN begin**\n",
    "   \n",
    "   4.1 Сделайте преобразование  с использованием .format(). Но теперь в вашем решении не должно быть символов \"{}\""
   ]
  },
  {
   "cell_type": "code",
   "execution_count": 60,
   "metadata": {},
   "outputs": [],
   "source": [
    "bar = 'foo'"
   ]
  },
  {
   "cell_type": "code",
   "execution_count": 63,
   "metadata": {},
   "outputs": [],
   "source": [
    "# bar = ... .format(...)"
   ]
  },
  {
   "cell_type": "code",
   "execution_count": null,
   "metadata": {},
   "outputs": [],
   "source": [
    "assert bar == 'foo:foo'"
   ]
  },
  {
   "cell_type": "markdown",
   "metadata": {},
   "source": [
    "4.2 \n",
    "Получите строчку 'foo:foo' с использованием функции format, без использования \"{}\" и без использования каких-либо переменных"
   ]
  },
  {
   "cell_type": "code",
   "execution_count": 64,
   "metadata": {},
   "outputs": [],
   "source": [
    "# answer = ..."
   ]
  },
  {
   "cell_type": "code",
   "execution_count": null,
   "metadata": {},
   "outputs": [],
   "source": [
    "assert answer == 'foo:foo'"
   ]
  }
 ],
 "metadata": {
  "colab": {
   "name": "строки.ipynb",
   "provenance": []
  },
  "kernelspec": {
   "display_name": "Python 3 (ipykernel)",
   "language": "python",
   "name": "python3"
  },
  "language_info": {
   "codemirror_mode": {
    "name": "ipython",
    "version": 3
   },
   "file_extension": ".py",
   "mimetype": "text/x-python",
   "name": "python",
   "nbconvert_exporter": "python",
   "pygments_lexer": "ipython3",
   "version": "3.9.12"
  },
  "latex_envs": {
   "LaTeX_envs_menu_present": true,
   "autoclose": false,
   "autocomplete": true,
   "bibliofile": "biblio.bib",
   "cite_by": "apalike",
   "current_citInitial": 1,
   "eqLabelWithNumbers": true,
   "eqNumInitial": 1,
   "hotkeys": {
    "equation": "Ctrl-E",
    "itemize": "Ctrl-I"
   },
   "labels_anchors": false,
   "latex_user_defs": false,
   "report_style_numbering": false,
   "user_envs_cfg": false
  },
  "toc": {
   "base_numbering": 1,
   "nav_menu": {},
   "number_sections": true,
   "sideBar": true,
   "skip_h1_title": false,
   "title_cell": "Table of Contents",
   "title_sidebar": "Contents",
   "toc_cell": false,
   "toc_position": {
    "height": "calc(100% - 180px)",
    "left": "10px",
    "top": "150px",
    "width": "273.398px"
   },
   "toc_section_display": true,
   "toc_window_display": true
  },
  "toc-autonumbering": false,
  "varInspector": {
   "cols": {
    "lenName": 16,
    "lenType": 16,
    "lenVar": 40
   },
   "kernels_config": {
    "python": {
     "delete_cmd_postfix": "",
     "delete_cmd_prefix": "del ",
     "library": "var_list.py",
     "varRefreshCmd": "print(var_dic_list())"
    },
    "r": {
     "delete_cmd_postfix": ") ",
     "delete_cmd_prefix": "rm(",
     "library": "var_list.r",
     "varRefreshCmd": "cat(var_dic_list()) "
    }
   },
   "types_to_exclude": [
    "module",
    "function",
    "builtin_function_or_method",
    "instance",
    "_Feature"
   ],
   "window_display": false
  }
 },
 "nbformat": 4,
 "nbformat_minor": 4
}
