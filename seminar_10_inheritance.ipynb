{
 "cells": [
  {
   "cell_type": "markdown",
   "id": "aa2428d4",
   "metadata": {},
   "source": [
    "# Elements of functional programming"
   ]
  },
  {
   "cell_type": "markdown",
   "id": "43a2c385",
   "metadata": {},
   "source": [
    "Немного об этом от самого [Гвидо](http://python-history.blogspot.com/2009/04/origins-of-pythons-functional-features.html)"
   ]
  },
  {
   "cell_type": "code",
   "execution_count": 15,
   "id": "4de9502e",
   "metadata": {
    "ExecuteTime": {
     "end_time": "2022-12-09T21:46:12.111682Z",
     "start_time": "2022-12-09T21:46:12.106897Z"
    }
   },
   "outputs": [],
   "source": [
    "from operator import itemgetter, attrgetter, methodcaller"
   ]
  },
  {
   "cell_type": "markdown",
   "id": "c5c01ec9",
   "metadata": {},
   "source": [
    "## itemgetter"
   ]
  },
  {
   "cell_type": "code",
   "execution_count": 16,
   "id": "57d50f6c",
   "metadata": {
    "ExecuteTime": {
     "end_time": "2022-12-09T21:46:12.170511Z",
     "start_time": "2022-12-09T21:46:12.162606Z"
    }
   },
   "outputs": [],
   "source": [
    "some_data = [\n",
    "    ('A', 'JP', 36.933, (1, 139.691667)),\n",
    "    ('B', 'IN', 21.935, (28.613889, 77.208889)),\n",
    "    ('C', 'MX', 20.142, (19.433333, -99.133333)),\n",
    "    ('A', 'US', 20.104, (-1, -74.020386)),\n",
    "    ('B', 'BR', 19.649, (-23.547778, -46.635833)),\n",
    "]"
   ]
  },
  {
   "cell_type": "code",
   "execution_count": 17,
   "id": "9fd87e72",
   "metadata": {
    "ExecuteTime": {
     "end_time": "2022-12-09T21:46:12.176838Z",
     "start_time": "2022-12-09T21:46:12.174284Z"
    }
   },
   "outputs": [
    {
     "data": {
      "text/plain": [
       "[('A', 'JP', 36.933, (1, 139.691667)),\n",
       " ('A', 'US', 20.104, (-1, -74.020386)),\n",
       " ('B', 'IN', 21.935, (28.613889, 77.208889)),\n",
       " ('B', 'BR', 19.649, (-23.547778, -46.635833)),\n",
       " ('C', 'MX', 20.142, (19.433333, -99.133333))]"
      ]
     },
     "execution_count": 17,
     "metadata": {},
     "output_type": "execute_result"
    }
   ],
   "source": [
    "sorted(some_data, key=itemgetter(0))"
   ]
  },
  {
   "cell_type": "code",
   "execution_count": 18,
   "id": "5d449be1",
   "metadata": {
    "ExecuteTime": {
     "end_time": "2022-12-09T21:46:12.204159Z",
     "start_time": "2022-12-09T21:46:12.193572Z"
    }
   },
   "outputs": [
    {
     "data": {
      "text/plain": [
       "[('A', 'US', 20.104, (-1, -74.020386)),\n",
       " ('A', 'JP', 36.933, (1, 139.691667)),\n",
       " ('B', 'BR', 19.649, (-23.547778, -46.635833)),\n",
       " ('B', 'IN', 21.935, (28.613889, 77.208889)),\n",
       " ('C', 'MX', 20.142, (19.433333, -99.133333))]"
      ]
     },
     "execution_count": 18,
     "metadata": {},
     "output_type": "execute_result"
    }
   ],
   "source": [
    "sorted(some_data, key=itemgetter(0, 2))"
   ]
  },
  {
   "cell_type": "markdown",
   "id": "6f3c7853",
   "metadata": {},
   "source": [
    "Получили сортировку по нескольким параметрам. Также можно написать и с помощью лямбды"
   ]
  },
  {
   "cell_type": "code",
   "execution_count": 19,
   "id": "acff513b",
   "metadata": {
    "ExecuteTime": {
     "end_time": "2022-12-09T21:46:12.286139Z",
     "start_time": "2022-12-09T21:46:12.274348Z"
    }
   },
   "outputs": [
    {
     "data": {
      "text/plain": [
       "[('A', 'US', 20.104, (-1, -74.020386)),\n",
       " ('A', 'JP', 36.933, (1, 139.691667)),\n",
       " ('B', 'BR', 19.649, (-23.547778, -46.635833)),\n",
       " ('B', 'IN', 21.935, (28.613889, 77.208889)),\n",
       " ('C', 'MX', 20.142, (19.433333, -99.133333))]"
      ]
     },
     "execution_count": 19,
     "metadata": {},
     "output_type": "execute_result"
    }
   ],
   "source": [
    "sorted(some_data, key=lambda x: (x[0], x[2]))"
   ]
  },
  {
   "cell_type": "markdown",
   "id": "6fdb8366",
   "metadata": {},
   "source": [
    "## attrgetter"
   ]
  },
  {
   "cell_type": "code",
   "execution_count": 20,
   "id": "af2def29",
   "metadata": {
    "ExecuteTime": {
     "end_time": "2022-12-09T21:46:12.379086Z",
     "start_time": "2022-12-09T21:46:12.372829Z"
    }
   },
   "outputs": [],
   "source": [
    "class T:\n",
    "    name = 'T'"
   ]
  },
  {
   "cell_type": "code",
   "execution_count": 21,
   "id": "35811e30",
   "metadata": {
    "ExecuteTime": {
     "end_time": "2022-12-09T21:46:12.390623Z",
     "start_time": "2022-12-09T21:46:12.384571Z"
    }
   },
   "outputs": [],
   "source": [
    "t = T()"
   ]
  },
  {
   "cell_type": "code",
   "execution_count": 22,
   "id": "dd512a7a",
   "metadata": {
    "ExecuteTime": {
     "end_time": "2022-12-09T21:46:12.395925Z",
     "start_time": "2022-12-09T21:46:12.393879Z"
    }
   },
   "outputs": [
    {
     "data": {
      "text/plain": [
       "('T', 'T')"
      ]
     },
     "execution_count": 22,
     "metadata": {},
     "output_type": "execute_result"
    }
   ],
   "source": [
    "T.name, t.name"
   ]
  },
  {
   "cell_type": "code",
   "execution_count": 23,
   "id": "35a6eb5e",
   "metadata": {
    "ExecuteTime": {
     "end_time": "2022-12-09T21:46:12.397914Z",
     "start_time": "2022-12-09T21:46:12.396712Z"
    }
   },
   "outputs": [],
   "source": [
    "name_caller = attrgetter('name')"
   ]
  },
  {
   "cell_type": "code",
   "execution_count": 24,
   "id": "2949a8b3",
   "metadata": {
    "ExecuteTime": {
     "end_time": "2022-12-09T21:46:12.400628Z",
     "start_time": "2022-12-09T21:46:12.398807Z"
    }
   },
   "outputs": [
    {
     "data": {
      "text/plain": [
       "'T'"
      ]
     },
     "execution_count": 24,
     "metadata": {},
     "output_type": "execute_result"
    }
   ],
   "source": [
    "name_caller(T)"
   ]
  },
  {
   "cell_type": "code",
   "execution_count": 25,
   "id": "f481e6b1",
   "metadata": {
    "ExecuteTime": {
     "end_time": "2022-12-09T21:46:12.403531Z",
     "start_time": "2022-12-09T21:46:12.401849Z"
    }
   },
   "outputs": [
    {
     "data": {
      "text/plain": [
       "'T'"
      ]
     },
     "execution_count": 25,
     "metadata": {},
     "output_type": "execute_result"
    }
   ],
   "source": [
    "name_caller(t)"
   ]
  },
  {
   "cell_type": "markdown",
   "id": "9b5c2b99",
   "metadata": {},
   "source": [
    "## methodcaller"
   ]
  },
  {
   "cell_type": "code",
   "execution_count": 26,
   "id": "a32d3148",
   "metadata": {
    "ExecuteTime": {
     "end_time": "2022-12-09T21:46:12.502697Z",
     "start_time": "2022-12-09T21:46:12.496835Z"
    }
   },
   "outputs": [],
   "source": [
    "lowcase = methodcaller('lower')"
   ]
  },
  {
   "cell_type": "code",
   "execution_count": 27,
   "id": "93d36391",
   "metadata": {
    "ExecuteTime": {
     "end_time": "2022-12-09T21:46:12.514029Z",
     "start_time": "2022-12-09T21:46:12.508176Z"
    }
   },
   "outputs": [],
   "source": [
    "sample_string = 'TODAY IS A GOOD DAY'"
   ]
  },
  {
   "cell_type": "code",
   "execution_count": 28,
   "id": "ad72f6d3",
   "metadata": {
    "ExecuteTime": {
     "end_time": "2022-12-09T21:46:12.517125Z",
     "start_time": "2022-12-09T21:46:12.515290Z"
    }
   },
   "outputs": [
    {
     "data": {
      "text/plain": [
       "'today is a good day'"
      ]
     },
     "execution_count": 28,
     "metadata": {},
     "output_type": "execute_result"
    }
   ],
   "source": [
    "lowcase(sample_string)  # sample_string.lower()"
   ]
  },
  {
   "cell_type": "code",
   "execution_count": 29,
   "id": "ba6de0ba",
   "metadata": {
    "ExecuteTime": {
     "end_time": "2022-12-09T21:46:12.519755Z",
     "start_time": "2022-12-09T21:46:12.518038Z"
    }
   },
   "outputs": [
    {
     "data": {
      "text/plain": [
       "'TODAY!IS!A!GOOD!DAY'"
      ]
     },
     "execution_count": 29,
     "metadata": {},
     "output_type": "execute_result"
    }
   ],
   "source": [
    "repl = methodcaller('replace', ' ', '!')\n",
    "repl(sample_string)"
   ]
  },
  {
   "cell_type": "markdown",
   "id": "9596d96a",
   "metadata": {},
   "source": [
    "## partial"
   ]
  },
  {
   "cell_type": "markdown",
   "id": "e6e59d11",
   "metadata": {},
   "source": [
    "Иногда бывает, что в конкретной ситуации вы хотите вызывать функцию с фиксированным конкретным параметром, у которого нет дефолтного значения"
   ]
  },
  {
   "cell_type": "code",
   "execution_count": 30,
   "id": "dd8b6c90",
   "metadata": {
    "ExecuteTime": {
     "end_time": "2022-12-09T21:46:12.769997Z",
     "start_time": "2022-12-09T21:46:12.763510Z"
    }
   },
   "outputs": [],
   "source": [
    "from functools import partial\n",
    "from operator import mul"
   ]
  },
  {
   "cell_type": "code",
   "execution_count": 31,
   "id": "7cb8587c",
   "metadata": {
    "ExecuteTime": {
     "end_time": "2022-12-09T21:46:12.784818Z",
     "start_time": "2022-12-09T21:46:12.775847Z"
    }
   },
   "outputs": [
    {
     "data": {
      "text/plain": [
       "40"
      ]
     },
     "execution_count": 31,
     "metadata": {},
     "output_type": "execute_result"
    }
   ],
   "source": [
    "mul(4, 10)"
   ]
  },
  {
   "cell_type": "code",
   "execution_count": 32,
   "id": "ead247b4",
   "metadata": {
    "ExecuteTime": {
     "end_time": "2022-12-09T21:46:12.788098Z",
     "start_time": "2022-12-09T21:46:12.786677Z"
    }
   },
   "outputs": [],
   "source": [
    "triple = partial(mul, 3)"
   ]
  },
  {
   "cell_type": "code",
   "execution_count": 33,
   "id": "eea2bfd6",
   "metadata": {
    "ExecuteTime": {
     "end_time": "2022-12-09T21:46:12.792229Z",
     "start_time": "2022-12-09T21:46:12.790586Z"
    }
   },
   "outputs": [
    {
     "data": {
      "text/plain": [
       "30"
      ]
     },
     "execution_count": 33,
     "metadata": {},
     "output_type": "execute_result"
    }
   ],
   "source": [
    "triple(10)"
   ]
  },
  {
   "cell_type": "markdown",
   "id": "e83cec25",
   "metadata": {},
   "source": [
    "## map"
   ]
  },
  {
   "cell_type": "code",
   "execution_count": 34,
   "id": "7af6aa34",
   "metadata": {
    "ExecuteTime": {
     "end_time": "2022-12-09T21:46:12.922426Z",
     "start_time": "2022-12-09T21:46:12.917280Z"
    }
   },
   "outputs": [
    {
     "data": {
      "text/plain": [
       "['aaa', 'bbb', 'ccc', 'ddd', 'eee', 'fff', 'ggg', 'hhh']"
      ]
     },
     "execution_count": 34,
     "metadata": {},
     "output_type": "execute_result"
    }
   ],
   "source": [
    "list(map(triple, 'abcdefgh'))"
   ]
  },
  {
   "cell_type": "markdown",
   "id": "3822940e",
   "metadata": {},
   "source": [
    "## filter"
   ]
  },
  {
   "cell_type": "code",
   "execution_count": 35,
   "id": "aee820cc",
   "metadata": {
    "ExecuteTime": {
     "end_time": "2022-12-09T21:46:13.002021Z",
     "start_time": "2022-12-09T21:46:12.992676Z"
    }
   },
   "outputs": [
    {
     "data": {
      "text/plain": [
       "[1, 2, 3, 4]"
      ]
     },
     "execution_count": 35,
     "metadata": {},
     "output_type": "execute_result"
    }
   ],
   "source": [
    "list(filter(None, [1, 2, 3, 4]))"
   ]
  },
  {
   "cell_type": "code",
   "execution_count": 36,
   "id": "4163b7fa",
   "metadata": {
    "ExecuteTime": {
     "end_time": "2022-12-09T21:46:13.015929Z",
     "start_time": "2022-12-09T21:46:13.006908Z"
    }
   },
   "outputs": [
    {
     "data": {
      "text/plain": [
       "[1, 3, 4]"
      ]
     },
     "execution_count": 36,
     "metadata": {},
     "output_type": "execute_result"
    }
   ],
   "source": [
    "list(filter(None, [1, 0, 3, 4]))"
   ]
  },
  {
   "cell_type": "code",
   "execution_count": 37,
   "id": "bc15a210",
   "metadata": {
    "ExecuteTime": {
     "end_time": "2022-12-09T21:46:13.019828Z",
     "start_time": "2022-12-09T21:46:13.017561Z"
    }
   },
   "outputs": [
    {
     "data": {
      "text/plain": [
       "[7, 91]"
      ]
     },
     "execution_count": 37,
     "metadata": {},
     "output_type": "execute_result"
    }
   ],
   "source": [
    "n = 5\n",
    "list(filter(lambda x: x > n, [1, 0, 3, 4, 7, 91]))"
   ]
  },
  {
   "cell_type": "markdown",
   "id": "7765bbfb",
   "metadata": {},
   "source": [
    "## reduce и accumulate"
   ]
  },
  {
   "cell_type": "code",
   "execution_count": 38,
   "id": "bdbe0b2a",
   "metadata": {
    "ExecuteTime": {
     "end_time": "2022-12-09T21:46:13.102865Z",
     "start_time": "2022-12-09T21:46:13.097613Z"
    }
   },
   "outputs": [],
   "source": [
    "from functools import reduce\n",
    "from itertools import accumulate"
   ]
  },
  {
   "cell_type": "code",
   "execution_count": 39,
   "id": "24b7fce3",
   "metadata": {
    "ExecuteTime": {
     "end_time": "2022-12-09T21:46:13.114399Z",
     "start_time": "2022-12-09T21:46:13.108536Z"
    }
   },
   "outputs": [],
   "source": [
    "numbers_seq = list(range(1, 11))"
   ]
  },
  {
   "cell_type": "code",
   "execution_count": 40,
   "id": "dc093679",
   "metadata": {
    "ExecuteTime": {
     "end_time": "2022-12-09T21:46:13.118532Z",
     "start_time": "2022-12-09T21:46:13.116776Z"
    }
   },
   "outputs": [
    {
     "data": {
      "text/plain": [
       "[1, 2, 3, 4, 5, 6, 7, 8, 9, 10]"
      ]
     },
     "execution_count": 40,
     "metadata": {},
     "output_type": "execute_result"
    }
   ],
   "source": [
    "numbers_seq"
   ]
  },
  {
   "cell_type": "code",
   "execution_count": 41,
   "id": "08d6183e",
   "metadata": {
    "ExecuteTime": {
     "end_time": "2022-12-09T21:46:13.121369Z",
     "start_time": "2022-12-09T21:46:13.119564Z"
    }
   },
   "outputs": [
    {
     "data": {
      "text/plain": [
       "3628800"
      ]
     },
     "execution_count": 41,
     "metadata": {},
     "output_type": "execute_result"
    }
   ],
   "source": [
    "reduce(mul, numbers_seq)"
   ]
  },
  {
   "cell_type": "code",
   "execution_count": 42,
   "id": "59f2bdd1",
   "metadata": {
    "ExecuteTime": {
     "end_time": "2022-12-09T21:46:13.123929Z",
     "start_time": "2022-12-09T21:46:13.122219Z"
    }
   },
   "outputs": [
    {
     "data": {
      "text/plain": [
       "3628800"
      ]
     },
     "execution_count": 42,
     "metadata": {},
     "output_type": "execute_result"
    }
   ],
   "source": [
    "reduce(lambda x, y: x * y, numbers_seq)"
   ]
  },
  {
   "cell_type": "code",
   "execution_count": 43,
   "id": "9ffd9f3a",
   "metadata": {
    "ExecuteTime": {
     "end_time": "2022-12-09T21:46:13.126515Z",
     "start_time": "2022-12-09T21:46:13.124652Z"
    }
   },
   "outputs": [
    {
     "data": {
      "text/plain": [
       "[1, 2, 6, 24, 120, 720, 5040, 40320, 362880, 3628800]"
      ]
     },
     "execution_count": 43,
     "metadata": {},
     "output_type": "execute_result"
    }
   ],
   "source": [
    "list(accumulate(numbers_seq, mul))"
   ]
  },
  {
   "cell_type": "code",
   "execution_count": 44,
   "id": "90690766",
   "metadata": {
    "ExecuteTime": {
     "end_time": "2022-12-09T21:46:13.129228Z",
     "start_time": "2022-12-09T21:46:13.127311Z"
    }
   },
   "outputs": [
    {
     "data": {
      "text/plain": [
       "[1, 2, 6, 24, 120, 720, 5040, 40320, 362880, 3628800]"
      ]
     },
     "execution_count": 44,
     "metadata": {},
     "output_type": "execute_result"
    }
   ],
   "source": [
    "list(accumulate(numbers_seq, lambda x, y: x * y))"
   ]
  },
  {
   "cell_type": "code",
   "execution_count": 45,
   "id": "100f92dd",
   "metadata": {
    "ExecuteTime": {
     "end_time": "2022-12-09T21:46:13.131765Z",
     "start_time": "2022-12-09T21:46:13.129982Z"
    }
   },
   "outputs": [],
   "source": [
    "numbers_pairs_seq = [(i, i * 3) for i in range(1, 10)]"
   ]
  },
  {
   "cell_type": "code",
   "execution_count": 46,
   "id": "d29694a4",
   "metadata": {
    "ExecuteTime": {
     "end_time": "2022-12-09T21:46:13.134700Z",
     "start_time": "2022-12-09T21:46:13.132887Z"
    }
   },
   "outputs": [
    {
     "data": {
      "text/plain": [
       "[(1, 3), (2, 6), (3, 9), (4, 12), (5, 15), (6, 18), (7, 21), (8, 24), (9, 27)]"
      ]
     },
     "execution_count": 46,
     "metadata": {},
     "output_type": "execute_result"
    }
   ],
   "source": [
    "numbers_pairs_seq"
   ]
  },
  {
   "cell_type": "code",
   "execution_count": 47,
   "id": "22551b32",
   "metadata": {
    "ExecuteTime": {
     "end_time": "2022-12-09T21:46:13.137370Z",
     "start_time": "2022-12-09T21:46:13.135390Z"
    }
   },
   "outputs": [
    {
     "data": {
      "text/plain": [
       "(9, 135)"
      ]
     },
     "execution_count": 47,
     "metadata": {},
     "output_type": "execute_result"
    }
   ],
   "source": [
    "reduce(lambda tup_one, tup_two: (max(tup_one[0], tup_two[0]), tup_one[1] + tup_two[1]), numbers_pairs_seq)"
   ]
  },
  {
   "cell_type": "markdown",
   "id": "c69d64d2",
   "metadata": {},
   "source": [
    "**reduce** возвращает итоговое аккумулированное значение, а **accumulate()** -- еще и все промежуточные вычисления "
   ]
  },
  {
   "cell_type": "markdown",
   "id": "55913186",
   "metadata": {},
   "source": [
    "## Посчитаем общее количество событий в логах"
   ]
  },
  {
   "cell_type": "markdown",
   "id": "513b6665",
   "metadata": {},
   "source": [
    "Пусть у нас есть данные за день в формате `(id пользователя/куки, название аналитического событий, число событий за единицу времени)`. Такая постановка задачи типична для многих компаний, в которых есть аналитика действий пользователей на сайте"
   ]
  },
  {
   "cell_type": "code",
   "execution_count": 48,
   "id": "b3eb6bb1",
   "metadata": {
    "ExecuteTime": {
     "end_time": "2022-12-09T21:46:17.852473Z",
     "start_time": "2022-12-09T21:46:17.846883Z"
    }
   },
   "outputs": [],
   "source": [
    "event_log = [\n",
    "    (11214, 'search', 5),\n",
    "    (11215, 'item_view', 1),\n",
    "    (11216, 'item_viewphone', 10),\n",
    "    (11217, 'item_view', 2),\n",
    "    (11218, 'item_viewphone', 4),\n",
    "    (11219, 'item_view', 6),\n",
    "    (11210, 'item_viewphone', 2),\n",
    "    (11234, 'item_view', 4),\n",
    "    (11264, 'item_view', 3),\n",
    "    (11224, 'item_viewphone', 1),\n",
    "    (11204, 'search', 6),\n",
    "    (12214, 'search', 34),\n",
    "    (13214, 'item_view', 3),\n",
    "    (14214, 'item_view', 1000),\n",
    "    (15214, 'item_viewphone', 2000),\n",
    "    (16214, 'item_viewphone', 3444),\n",
    "    (17214, 'item_view', 0),\n",
    "    (18214, 'item_viewphone', 12),\n",
    "    (19214, 'search', 244),\n",
    "    (29214, 'item_viewphone', 4),\n",
    "    (30214, 'item_view', 56),\n",
    "    (48214, 'item_viewphone', 5),\n",
    "    (67214, 'item_view', 2),\n",
    "]"
   ]
  },
  {
   "cell_type": "markdown",
   "id": "66f7160b",
   "metadata": {},
   "source": [
    "Сделаем некоторые несложные задачи на этих данных"
   ]
  },
  {
   "cell_type": "markdown",
   "id": "2561d2b6",
   "metadata": {},
   "source": [
    "1. Отфильтруем аномальные поля. Давайте считать поле аномальным, если его значение > 500"
   ]
  },
  {
   "cell_type": "code",
   "execution_count": 49,
   "id": "b0ae8e12",
   "metadata": {
    "ExecuteTime": {
     "end_time": "2022-12-09T21:46:22.120143Z",
     "start_time": "2022-12-09T21:46:22.113461Z"
    }
   },
   "outputs": [
    {
     "data": {
      "text/plain": [
       "[(11214, 'search', 5),\n",
       " (11215, 'item_view', 1),\n",
       " (11216, 'item_viewphone', 10),\n",
       " (11217, 'item_view', 2),\n",
       " (11218, 'item_viewphone', 4),\n",
       " (11219, 'item_view', 6),\n",
       " (11210, 'item_viewphone', 2),\n",
       " (11234, 'item_view', 4),\n",
       " (11264, 'item_view', 3),\n",
       " (11224, 'item_viewphone', 1),\n",
       " (11204, 'search', 6),\n",
       " (12214, 'search', 34),\n",
       " (13214, 'item_view', 3),\n",
       " (17214, 'item_view', 0),\n",
       " (18214, 'item_viewphone', 12),\n",
       " (19214, 'search', 244),\n",
       " (29214, 'item_viewphone', 4),\n",
       " (30214, 'item_view', 56),\n",
       " (48214, 'item_viewphone', 5),\n",
       " (67214, 'item_view', 2)]"
      ]
     },
     "execution_count": 49,
     "metadata": {},
     "output_type": "execute_result"
    }
   ],
   "source": [
    "# code\n",
    "list(filter(lambda elem: elem[2] <= 500, event_log))"
   ]
  },
  {
   "cell_type": "markdown",
   "id": "86ffb1fe",
   "metadata": {},
   "source": [
    "Посчитаем количество аномальных полей в данных"
   ]
  },
  {
   "cell_type": "code",
   "execution_count": 50,
   "id": "8a55f64a",
   "metadata": {
    "ExecuteTime": {
     "end_time": "2022-12-09T21:46:23.795091Z",
     "start_time": "2022-12-09T21:46:23.789527Z"
    }
   },
   "outputs": [
    {
     "data": {
      "text/plain": [
       "3"
      ]
     },
     "execution_count": 50,
     "metadata": {},
     "output_type": "execute_result"
    }
   ],
   "source": [
    "# code\n",
    "len(list(filter(lambda elem: elem[2] > 500, event_log)))"
   ]
  },
  {
   "cell_type": "markdown",
   "id": "f086ccb7",
   "metadata": {
    "ExecuteTime": {
     "end_time": "2022-12-07T10:38:50.504852Z",
     "start_time": "2022-12-07T10:38:50.495952Z"
    }
   },
   "source": [
    "2. Агрегируем события заданного типа, используя только неаномальные поля"
   ]
  },
  {
   "cell_type": "code",
   "execution_count": 51,
   "id": "b62e2394",
   "metadata": {
    "ExecuteTime": {
     "end_time": "2022-12-09T21:46:24.685778Z",
     "start_time": "2022-12-09T21:46:24.679474Z"
    }
   },
   "outputs": [],
   "source": [
    "event_type = 'item_viewphone'"
   ]
  },
  {
   "cell_type": "code",
   "execution_count": 52,
   "id": "98030cec",
   "metadata": {
    "ExecuteTime": {
     "end_time": "2022-12-09T21:46:26.126015Z",
     "start_time": "2022-12-09T21:46:26.120541Z"
    }
   },
   "outputs": [
    {
     "data": {
      "text/plain": [
       "('Result', 'item_viewphone', 38)"
      ]
     },
     "execution_count": 52,
     "metadata": {},
     "output_type": "execute_result"
    }
   ],
   "source": [
    "# code\n",
    "reduce(\n",
    "    lambda tup_one, tup_two: ('Result', event_type, tup_one[2] + tup_two[2]),\n",
    "    filter(lambda elem: elem[2] <= 500 and elem[1] == event_type, event_log)\n",
    ")"
   ]
  },
  {
   "cell_type": "markdown",
   "id": "0d40726c",
   "metadata": {},
   "source": [
    "Нужно помнить про формат возвращаемого значения в передаваемой лямбде. Как вариант, можно поддерживать исходный формат данных"
   ]
  },
  {
   "cell_type": "markdown",
   "id": "8d90d858",
   "metadata": {},
   "source": [
    "Главное условие, накладываемую на функцию -- чтобы она могла быть вызвана от результатом своего выполнения и следующего элемента последовательности "
   ]
  },
  {
   "cell_type": "markdown",
   "id": "4f9c8d27",
   "metadata": {},
   "source": [
    "```operation((11214, 'a', 5), (11215, 'a', 1)) -> operation(prev result, (2141241, 'a', 124124)) -> ...```"
   ]
  },
  {
   "cell_type": "markdown",
   "id": "ed0ab297",
   "metadata": {},
   "source": [
    "```[\n",
    " (11214, 'a', 5),\n",
    " (11215, 'a', 1),\n",
    " (2141241, 'a', 124124),\n",
    "]```"
   ]
  },
  {
   "cell_type": "code",
   "execution_count": 53,
   "id": "c67d425f",
   "metadata": {
    "ExecuteTime": {
     "end_time": "2022-12-09T21:46:48.246345Z",
     "start_time": "2022-12-09T21:46:48.240965Z"
    }
   },
   "outputs": [
    {
     "data": {
      "text/plain": [
       "(38,)"
      ]
     },
     "execution_count": 53,
     "metadata": {},
     "output_type": "execute_result"
    }
   ],
   "source": [
    "reduce(\n",
    "    lambda tup_one, tup_two: (tup_one[-1] + tup_two[-1],),\n",
    "    filter(lambda elem: elem[2] <= 500 and elem[1] == event_type, event_log)\n",
    ")"
   ]
  },
  {
   "cell_type": "markdown",
   "id": "ad05f496",
   "metadata": {},
   "source": [
    "# Наследование"
   ]
  },
  {
   "cell_type": "markdown",
   "id": "5dbabf23",
   "metadata": {},
   "source": [
    "Повторное использование свойств объектов с описанием различий.\n",
    "\n",
    "\"А можно сделать вот так же, как тут, только в некоторых пунктах мы делаем изменения\""
   ]
  },
  {
   "cell_type": "code",
   "execution_count": 177,
   "id": "83710e09",
   "metadata": {
    "ExecuteTime": {
     "end_time": "2022-12-07T12:24:43.005944Z",
     "start_time": "2022-12-07T12:24:43.001114Z"
    }
   },
   "outputs": [],
   "source": [
    "class Parent:\n",
    "    def __init__(self, identity: str):\n",
    "        self.identity = identity \n",
    "    \n",
    "    def get_identity(self):\n",
    "        return self.identity"
   ]
  },
  {
   "cell_type": "code",
   "execution_count": 178,
   "id": "609cca25",
   "metadata": {
    "ExecuteTime": {
     "end_time": "2022-12-07T12:25:04.367393Z",
     "start_time": "2022-12-07T12:25:04.362123Z"
    }
   },
   "outputs": [],
   "source": [
    "class Child(Parent):\n",
    "    def get_identity(self):\n",
    "        return 'AAAAAAA'"
   ]
  },
  {
   "cell_type": "code",
   "execution_count": 179,
   "id": "cbfb8a7e",
   "metadata": {
    "ExecuteTime": {
     "end_time": "2022-12-07T12:25:05.798450Z",
     "start_time": "2022-12-07T12:25:05.793676Z"
    }
   },
   "outputs": [
    {
     "data": {
      "text/plain": [
       "'I am parent'"
      ]
     },
     "execution_count": 179,
     "metadata": {},
     "output_type": "execute_result"
    }
   ],
   "source": [
    "p = Parent('I am parent')\n",
    "p.get_identity()"
   ]
  },
  {
   "cell_type": "code",
   "execution_count": 180,
   "id": "67aa6e40",
   "metadata": {
    "ExecuteTime": {
     "end_time": "2022-12-07T12:25:21.106665Z",
     "start_time": "2022-12-07T12:25:21.100012Z"
    }
   },
   "outputs": [],
   "source": [
    "c = Child('I am child')"
   ]
  },
  {
   "cell_type": "code",
   "execution_count": 181,
   "id": "68a0c649",
   "metadata": {
    "ExecuteTime": {
     "end_time": "2022-12-07T12:25:31.514114Z",
     "start_time": "2022-12-07T12:25:31.509032Z"
    }
   },
   "outputs": [
    {
     "data": {
      "text/plain": [
       "'AAAAAAA'"
      ]
     },
     "execution_count": 181,
     "metadata": {},
     "output_type": "execute_result"
    }
   ],
   "source": [
    "c.get_identity()"
   ]
  },
  {
   "cell_type": "markdown",
   "id": "2ab3e521",
   "metadata": {},
   "source": [
    "Порядок видимости снизу вверх: объект -> класс -> родительский класс\n",
    "\n",
    "Для доступа к полям родителя используется `super()`"
   ]
  },
  {
   "cell_type": "code",
   "execution_count": 182,
   "id": "1c1b7c3a",
   "metadata": {
    "ExecuteTime": {
     "end_time": "2022-12-07T12:26:31.398843Z",
     "start_time": "2022-12-07T12:26:31.393968Z"
    }
   },
   "outputs": [],
   "source": [
    "class Child(Parent):\n",
    "    def get_identity(self):\n",
    "        parent_get_identity = super().get_identity()\n",
    "        print(\"Parent's get_id\", parent_get_identity)\n",
    "        return parent_get_identity + ' AAAAAAAAAAAAAAAaa'"
   ]
  },
  {
   "cell_type": "code",
   "execution_count": 185,
   "id": "3dc5a99b",
   "metadata": {
    "ExecuteTime": {
     "end_time": "2022-12-07T12:27:24.557605Z",
     "start_time": "2022-12-07T12:27:24.550939Z"
    }
   },
   "outputs": [],
   "source": [
    "c = Child('B')"
   ]
  },
  {
   "cell_type": "code",
   "execution_count": 186,
   "id": "f35db84b",
   "metadata": {
    "ExecuteTime": {
     "end_time": "2022-12-07T12:27:25.045881Z",
     "start_time": "2022-12-07T12:27:25.036473Z"
    }
   },
   "outputs": [
    {
     "name": "stdout",
     "output_type": "stream",
     "text": [
      "Parent's get_id B\n"
     ]
    },
    {
     "data": {
      "text/plain": [
       "'B AAAAAAAAAAAAAAAaa'"
      ]
     },
     "execution_count": 186,
     "metadata": {},
     "output_type": "execute_result"
    }
   ],
   "source": [
    "c.get_identity()"
   ]
  },
  {
   "cell_type": "markdown",
   "id": "e29f13b6",
   "metadata": {},
   "source": [
    "Хотим расширить init"
   ]
  },
  {
   "cell_type": "code",
   "execution_count": 187,
   "id": "ed0f7b0e",
   "metadata": {
    "ExecuteTime": {
     "end_time": "2022-12-07T12:28:37.435363Z",
     "start_time": "2022-12-07T12:28:37.429847Z"
    }
   },
   "outputs": [],
   "source": [
    "class Parent:\n",
    "    def __init__(self, identity):\n",
    "        self._identity = identity\n",
    "        print(f'parent initted {self._identity}')\n",
    "        \n",
    "    def get_identity(self):\n",
    "        return self._identity\n",
    "    \n",
    "class Child(Parent):\n",
    "        \n",
    "    def __init__(self, parent_identity, child_identity):\n",
    "        super().__init__(parent_identity)\n",
    "        \n",
    "        self._child_identity = child_identity\n",
    "    \n",
    "    def get_child_identity(self):\n",
    "        return self._child_identity"
   ]
  },
  {
   "cell_type": "code",
   "execution_count": 188,
   "id": "ef806e2f",
   "metadata": {
    "ExecuteTime": {
     "end_time": "2022-12-07T12:28:40.819849Z",
     "start_time": "2022-12-07T12:28:40.815715Z"
    }
   },
   "outputs": [
    {
     "name": "stdout",
     "output_type": "stream",
     "text": [
      "parent initted AAAAAA\n"
     ]
    }
   ],
   "source": [
    "p = Parent('AAAAAA')"
   ]
  },
  {
   "cell_type": "code",
   "execution_count": 189,
   "id": "509dcb34",
   "metadata": {
    "ExecuteTime": {
     "end_time": "2022-12-07T12:28:42.730774Z",
     "start_time": "2022-12-07T12:28:42.723589Z"
    }
   },
   "outputs": [
    {
     "name": "stdout",
     "output_type": "stream",
     "text": [
      "parent initted AAAAAAAAAAAAAAA\n"
     ]
    }
   ],
   "source": [
    "c = Child('AAAAAAAAAAAAAAA', 'BBBBBBBBBB')"
   ]
  },
  {
   "cell_type": "code",
   "execution_count": 190,
   "id": "4622b07e",
   "metadata": {
    "ExecuteTime": {
     "end_time": "2022-12-07T12:29:09.432172Z",
     "start_time": "2022-12-07T12:29:09.426640Z"
    }
   },
   "outputs": [
    {
     "data": {
      "text/plain": [
       "'AAAAAAAAAAAAAAA'"
      ]
     },
     "execution_count": 190,
     "metadata": {},
     "output_type": "execute_result"
    }
   ],
   "source": [
    "c.get_identity()"
   ]
  },
  {
   "cell_type": "code",
   "execution_count": 191,
   "id": "7a795836",
   "metadata": {
    "ExecuteTime": {
     "end_time": "2022-12-07T12:29:22.822129Z",
     "start_time": "2022-12-07T12:29:22.813709Z"
    }
   },
   "outputs": [
    {
     "data": {
      "text/plain": [
       "'BBBBBBBBBB'"
      ]
     },
     "execution_count": 191,
     "metadata": {},
     "output_type": "execute_result"
    }
   ],
   "source": [
    "c.get_child_identity()"
   ]
  },
  {
   "cell_type": "code",
   "execution_count": 192,
   "id": "605463f5",
   "metadata": {
    "ExecuteTime": {
     "end_time": "2022-12-07T12:29:29.761242Z",
     "start_time": "2022-12-07T12:29:29.752284Z"
    }
   },
   "outputs": [
    {
     "data": {
      "text/plain": [
       "{'_identity': 'AAAAAAAAAAAAAAA', '_child_identity': 'BBBBBBBBBB'}"
      ]
     },
     "execution_count": 192,
     "metadata": {},
     "output_type": "execute_result"
    }
   ],
   "source": [
    "c.__dict__"
   ]
  },
  {
   "cell_type": "code",
   "execution_count": 193,
   "id": "e317f966",
   "metadata": {
    "ExecuteTime": {
     "end_time": "2022-12-07T12:29:32.791308Z",
     "start_time": "2022-12-07T12:29:32.782346Z"
    }
   },
   "outputs": [
    {
     "data": {
      "text/plain": [
       "'AAAAAAAAAAAAAAA'"
      ]
     },
     "execution_count": 193,
     "metadata": {},
     "output_type": "execute_result"
    }
   ],
   "source": [
    "c._identity"
   ]
  },
  {
   "cell_type": "markdown",
   "id": "7d9ab54f",
   "metadata": {},
   "source": [
    "Предполагается, что если пользователь переопредляет имя, значит он этого хочет.\n",
    "\n",
    "Если создатель класса не хочет, чтобы какое-то поле было явно перегружено, то можно, например, использовать дескрипторы или особый нейминг:\n",
    "\n",
    "    - есть общее соглашение, что переменные, названные с `_` не надо трогать вне класса, в котором они объявлены\n",
    "    - в Python предусмотрен механизм защиты атрибутов названием, начинающися с `__`"
   ]
  },
  {
   "cell_type": "code",
   "execution_count": 202,
   "id": "390b9ec1",
   "metadata": {
    "ExecuteTime": {
     "end_time": "2022-12-07T12:34:37.482005Z",
     "start_time": "2022-12-07T12:34:37.476416Z"
    }
   },
   "outputs": [],
   "source": [
    "class StrictParent:\n",
    "    def __init__(self, identity: str):\n",
    "        self.__identity = identity\n",
    "    \n",
    "class Child(StrictParent):\n",
    "    def __init__(self, identity: str):\n",
    "        super().__init__(identity)\n",
    "        self.__identity = identity\n",
    "\n",
    "class BadChild(StrictParent):\n",
    "    def __init__(self, identity: str):\n",
    "        super().__init__(identity)\n",
    "        self._StrictParent__identity = identity"
   ]
  },
  {
   "cell_type": "code",
   "execution_count": 203,
   "id": "3d00dba1",
   "metadata": {
    "ExecuteTime": {
     "end_time": "2022-12-07T12:34:44.502587Z",
     "start_time": "2022-12-07T12:34:44.496150Z"
    }
   },
   "outputs": [],
   "source": [
    "c = Child('BBBBBBB')"
   ]
  },
  {
   "cell_type": "markdown",
   "id": "845c599f",
   "metadata": {},
   "source": [
    "Произошло переименование"
   ]
  },
  {
   "cell_type": "code",
   "execution_count": 204,
   "id": "93f0d768",
   "metadata": {
    "ExecuteTime": {
     "end_time": "2022-12-07T12:34:45.487286Z",
     "start_time": "2022-12-07T12:34:45.481996Z"
    }
   },
   "outputs": [
    {
     "data": {
      "text/plain": [
       "{'_StrictParent__identity': 'BBBBBBB', '_Child__identity': 'BBBBBBB'}"
      ]
     },
     "execution_count": 204,
     "metadata": {},
     "output_type": "execute_result"
    }
   ],
   "source": [
    "c.__dict__"
   ]
  },
  {
   "cell_type": "markdown",
   "id": "32ac9f73",
   "metadata": {},
   "source": [
    "Но если мы явно переопределяем атрибут, как сделали это в классе `BadChild`, нам никто не мешает стрелять себе по ногам"
   ]
  },
  {
   "cell_type": "code",
   "execution_count": 205,
   "id": "cbb777d3",
   "metadata": {
    "ExecuteTime": {
     "end_time": "2022-12-07T12:34:48.264243Z",
     "start_time": "2022-12-07T12:34:48.258223Z"
    }
   },
   "outputs": [],
   "source": [
    "bad_child = BadChild('RAAAAAAR')"
   ]
  },
  {
   "cell_type": "code",
   "execution_count": 206,
   "id": "7d419d95",
   "metadata": {
    "ExecuteTime": {
     "end_time": "2022-12-07T12:34:50.023316Z",
     "start_time": "2022-12-07T12:34:50.018363Z"
    }
   },
   "outputs": [
    {
     "data": {
      "text/plain": [
       "{'_StrictParent__identity': 'RAAAAAAR'}"
      ]
     },
     "execution_count": 206,
     "metadata": {},
     "output_type": "execute_result"
    }
   ],
   "source": [
    "bad_child.__dict__"
   ]
  },
  {
   "cell_type": "code",
   "execution_count": 207,
   "id": "c9df3eba",
   "metadata": {
    "ExecuteTime": {
     "end_time": "2022-12-07T12:35:26.293928Z",
     "start_time": "2022-12-07T12:35:26.288341Z"
    }
   },
   "outputs": [
    {
     "data": {
      "text/plain": [
       "{'_StrictParent__identity': 'BBBBBBB', '_Child__identity': 'BBBBBBB'}"
      ]
     },
     "execution_count": 207,
     "metadata": {},
     "output_type": "execute_result"
    }
   ],
   "source": [
    "c.__dict__"
   ]
  },
  {
   "cell_type": "markdown",
   "id": "3fb3dea7",
   "metadata": {},
   "source": [
    "## Обработка исключений"
   ]
  },
  {
   "cell_type": "markdown",
   "id": "a6b62245",
   "metadata": {},
   "source": [
    "Если написать просто except, будут перехвачены все исключения"
   ]
  },
  {
   "cell_type": "code",
   "execution_count": 208,
   "id": "5c852d00",
   "metadata": {
    "ExecuteTime": {
     "end_time": "2022-12-07T12:36:39.044772Z",
     "start_time": "2022-12-07T12:36:39.040358Z"
    }
   },
   "outputs": [
    {
     "name": "stdout",
     "output_type": "stream",
     "text": [
      "impossible to modify object\n"
     ]
    }
   ],
   "source": [
    "a = '1234'\n",
    "\n",
    "try:\n",
    "    a[0] = '10'\n",
    "except:\n",
    "    print('impossible to modify object')"
   ]
  },
  {
   "cell_type": "markdown",
   "id": "c73faff1",
   "metadata": {},
   "source": [
    "Может быть соблазн писать подобный код. Но это нехорошо, потому что мы совсем никак не сохраняем информацию о встреченных исключениях"
   ]
  },
  {
   "cell_type": "code",
   "execution_count": 209,
   "id": "56dfc385",
   "metadata": {
    "ExecuteTime": {
     "end_time": "2022-12-07T12:37:20.621937Z",
     "start_time": "2022-12-07T12:37:20.615403Z"
    }
   },
   "outputs": [],
   "source": [
    "a = '1234'\n",
    "\n",
    "try:\n",
    "    a[0] = '10'\n",
    "except:\n",
    "    pass  # так плохо"
   ]
  },
  {
   "cell_type": "code",
   "execution_count": 210,
   "id": "0fa92b99",
   "metadata": {
    "ExecuteTime": {
     "end_time": "2022-12-07T12:37:43.604586Z",
     "start_time": "2022-12-07T12:37:43.595184Z"
    }
   },
   "outputs": [
    {
     "ename": "TypeError",
     "evalue": "'str' object does not support item assignment",
     "output_type": "error",
     "traceback": [
      "\u001b[0;31m---------------------------------------------------------------------------\u001b[0m",
      "\u001b[0;31mTypeError\u001b[0m                                 Traceback (most recent call last)",
      "Cell \u001b[0;32mIn [210], line 2\u001b[0m\n\u001b[1;32m      1\u001b[0m a \u001b[38;5;241m=\u001b[39m \u001b[38;5;124m'\u001b[39m\u001b[38;5;124m1214\u001b[39m\u001b[38;5;124m'\u001b[39m\n\u001b[0;32m----> 2\u001b[0m a[\u001b[38;5;241m0\u001b[39m] \u001b[38;5;241m=\u001b[39m \u001b[38;5;124m'\u001b[39m\u001b[38;5;124m10\u001b[39m\u001b[38;5;124m'\u001b[39m\n",
      "\u001b[0;31mTypeError\u001b[0m: 'str' object does not support item assignment"
     ]
    }
   ],
   "source": [
    "a = '1214'\n",
    "a[0] = '10'"
   ]
  },
  {
   "cell_type": "markdown",
   "id": "b64d0d28",
   "metadata": {},
   "source": [
    "Основное правило обработки исплючений в том, что перехватываются исключения переданного класса и всех его наследников"
   ]
  },
  {
   "cell_type": "code",
   "execution_count": 212,
   "id": "48d8b516",
   "metadata": {
    "ExecuteTime": {
     "end_time": "2022-12-07T12:38:06.768095Z",
     "start_time": "2022-12-07T12:38:06.760076Z"
    }
   },
   "outputs": [
    {
     "name": "stdout",
     "output_type": "stream",
     "text": [
      "impossible to modify object\n"
     ]
    }
   ],
   "source": [
    "a = '1234'\n",
    "\n",
    "try:\n",
    "    a[0] = '10'\n",
    "except TypeError:\n",
    "    print('impossible to modify object')"
   ]
  },
  {
   "cell_type": "code",
   "execution_count": 215,
   "id": "f6ed4c2c",
   "metadata": {
    "ExecuteTime": {
     "end_time": "2022-12-07T12:39:11.935462Z",
     "start_time": "2022-12-07T12:39:11.930232Z"
    }
   },
   "outputs": [
    {
     "name": "stdout",
     "output_type": "stream",
     "text": [
      "impossible to modify object\n",
      "run finally in any case\n"
     ]
    }
   ],
   "source": [
    "a = '1234'\n",
    "\n",
    "try:\n",
    "    a[0] = '10'\n",
    "except BaseException:\n",
    "    print('impossible to modify object')\n",
    "finally:\n",
    "    print('run finally in any case')"
   ]
  },
  {
   "cell_type": "markdown",
   "id": "9d8340b2",
   "metadata": {},
   "source": [
    "Блок finally выполняется всегда"
   ]
  },
  {
   "cell_type": "markdown",
   "id": "73d8b955",
   "metadata": {},
   "source": [
    "TypeError являтся наследником BaseException, поэтому мы перехватили"
   ]
  },
  {
   "cell_type": "code",
   "execution_count": 54,
   "id": "8e425676",
   "metadata": {
    "ExecuteTime": {
     "end_time": "2022-12-09T21:55:39.976775Z",
     "start_time": "2022-12-09T21:55:39.971107Z"
    }
   },
   "outputs": [
    {
     "data": {
      "text/plain": [
       "True"
      ]
     },
     "execution_count": 54,
     "metadata": {},
     "output_type": "execute_result"
    }
   ],
   "source": [
    "issubclass(TypeError, BaseException)"
   ]
  },
  {
   "cell_type": "code",
   "execution_count": 216,
   "id": "a6c597e3",
   "metadata": {
    "ExecuteTime": {
     "end_time": "2022-12-07T12:39:15.280275Z",
     "start_time": "2022-12-07T12:39:15.271933Z"
    }
   },
   "outputs": [
    {
     "name": "stdout",
     "output_type": "stream",
     "text": [
      "run finally in any case\n"
     ]
    }
   ],
   "source": [
    "a = [1, 2]\n",
    "\n",
    "try:\n",
    "    a[0] = '10'\n",
    "except BaseException:\n",
    "    print('impossible to modify object')\n",
    "finally:\n",
    "    print('run finally in any case')"
   ]
  },
  {
   "cell_type": "code",
   "execution_count": 217,
   "id": "3b9b8d63",
   "metadata": {
    "ExecuteTime": {
     "end_time": "2022-12-07T12:39:24.883855Z",
     "start_time": "2022-12-07T12:39:24.878158Z"
    }
   },
   "outputs": [
    {
     "data": {
      "text/plain": [
       "(True, True)"
      ]
     },
     "execution_count": 217,
     "metadata": {},
     "output_type": "execute_result"
    }
   ],
   "source": [
    "issubclass(TypeError, BaseException), issubclass(ValueError, BaseException)"
   ]
  },
  {
   "cell_type": "code",
   "execution_count": 124,
   "id": "00eb7a21",
   "metadata": {
    "ExecuteTime": {
     "end_time": "2022-12-07T11:22:20.882174Z",
     "start_time": "2022-12-07T11:22:20.876578Z"
    }
   },
   "outputs": [
    {
     "data": {
      "text/plain": [
       "([TypeError, Exception, BaseException, object],\n",
       " [ValueError, Exception, BaseException, object])"
      ]
     },
     "execution_count": 124,
     "metadata": {},
     "output_type": "execute_result"
    }
   ],
   "source": [
    "TypeError.mro(), ValueError.mro()  # смотрим цепочку наследования"
   ]
  },
  {
   "cell_type": "markdown",
   "id": "71e1434b",
   "metadata": {},
   "source": [
    "Можно создать свой класс с красивым названием, отнаследовавшись от какого-то другого класса исключения"
   ]
  },
  {
   "cell_type": "code",
   "execution_count": 218,
   "id": "67bd2ae0",
   "metadata": {
    "ExecuteTime": {
     "end_time": "2022-12-07T12:40:58.270661Z",
     "start_time": "2022-12-07T12:40:58.264430Z"
    }
   },
   "outputs": [],
   "source": [
    "class CustomStringException(BaseException):\n",
    "    pass"
   ]
  },
  {
   "cell_type": "markdown",
   "id": "3ec2cc85",
   "metadata": {},
   "source": [
    "Блок else выполняется, если не было исключений"
   ]
  },
  {
   "cell_type": "code",
   "execution_count": 219,
   "id": "85156eeb",
   "metadata": {
    "ExecuteTime": {
     "end_time": "2022-12-07T12:41:30.555526Z",
     "start_time": "2022-12-07T12:41:30.534485Z"
    }
   },
   "outputs": [
    {
     "ename": "CustomStringException",
     "evalue": "'str' object does not support item assignment",
     "output_type": "error",
     "traceback": [
      "\u001b[0;31m---------------------------------------------------------------------------\u001b[0m",
      "\u001b[0;31mTypeError\u001b[0m                                 Traceback (most recent call last)",
      "Cell \u001b[0;32mIn [219], line 4\u001b[0m\n\u001b[1;32m      3\u001b[0m \u001b[38;5;28;01mtry\u001b[39;00m:\n\u001b[0;32m----> 4\u001b[0m     a[\u001b[38;5;241m0\u001b[39m] \u001b[38;5;241m=\u001b[39m \u001b[38;5;124m'\u001b[39m\u001b[38;5;124m10\u001b[39m\u001b[38;5;124m'\u001b[39m\n\u001b[1;32m      6\u001b[0m \u001b[38;5;28;01mexcept\u001b[39;00m \u001b[38;5;167;01mTypeError\u001b[39;00m \u001b[38;5;28;01mas\u001b[39;00m e:\n",
      "\u001b[0;31mTypeError\u001b[0m: 'str' object does not support item assignment",
      "\nDuring handling of the above exception, another exception occurred:\n",
      "\u001b[0;31mCustomStringException\u001b[0m                     Traceback (most recent call last)",
      "Cell \u001b[0;32mIn [219], line 7\u001b[0m\n\u001b[1;32m      4\u001b[0m     a[\u001b[38;5;241m0\u001b[39m] \u001b[38;5;241m=\u001b[39m \u001b[38;5;124m'\u001b[39m\u001b[38;5;124m10\u001b[39m\u001b[38;5;124m'\u001b[39m\n\u001b[1;32m      6\u001b[0m \u001b[38;5;28;01mexcept\u001b[39;00m \u001b[38;5;167;01mTypeError\u001b[39;00m \u001b[38;5;28;01mas\u001b[39;00m e:\n\u001b[0;32m----> 7\u001b[0m     \u001b[38;5;28;01mraise\u001b[39;00m CustomStringException(e)\n\u001b[1;32m      9\u001b[0m \u001b[38;5;28;01melse\u001b[39;00m:\n\u001b[1;32m     10\u001b[0m     \u001b[38;5;28mprint\u001b[39m(\u001b[38;5;124m'\u001b[39m\u001b[38;5;124msuccessfully modified\u001b[39m\u001b[38;5;124m'\u001b[39m, a)\n",
      "\u001b[0;31mCustomStringException\u001b[0m: 'str' object does not support item assignment"
     ]
    }
   ],
   "source": [
    "a = '1234'\n",
    "\n",
    "try:\n",
    "    a[0] = '10'\n",
    "    \n",
    "except TypeError as e:\n",
    "    raise CustomStringException(e)\n",
    "\n",
    "else:\n",
    "    print('successfully modified', a)"
   ]
  },
  {
   "cell_type": "code",
   "execution_count": 220,
   "id": "c28e64cd",
   "metadata": {
    "ExecuteTime": {
     "end_time": "2022-12-07T12:41:56.810939Z",
     "start_time": "2022-12-07T12:41:56.805718Z"
    }
   },
   "outputs": [
    {
     "name": "stdout",
     "output_type": "stream",
     "text": [
      "successfully modified a=['10', 2, 3]\n"
     ]
    }
   ],
   "source": [
    "a = ['1234', 2, 3]\n",
    "\n",
    "try:\n",
    "    a[0] = '10'\n",
    "    \n",
    "except TypeError as e:\n",
    "    raise CustomStringException(e)\n",
    "\n",
    "else:\n",
    "    print(f'successfully modified {a=}')"
   ]
  },
  {
   "cell_type": "code",
   "execution_count": 221,
   "id": "6980338a",
   "metadata": {
    "ExecuteTime": {
     "end_time": "2022-12-07T12:42:06.447879Z",
     "start_time": "2022-12-07T12:42:06.437527Z"
    }
   },
   "outputs": [
    {
     "ename": "CustomStringException",
     "evalue": "some message",
     "output_type": "error",
     "traceback": [
      "\u001b[0;31m---------------------------------------------------------------------------\u001b[0m",
      "\u001b[0;31mCustomStringException\u001b[0m                     Traceback (most recent call last)",
      "Cell \u001b[0;32mIn [221], line 1\u001b[0m\n\u001b[0;32m----> 1\u001b[0m \u001b[38;5;28;01mraise\u001b[39;00m CustomStringException(\u001b[38;5;124m'\u001b[39m\u001b[38;5;124msome message\u001b[39m\u001b[38;5;124m'\u001b[39m)\n",
      "\u001b[0;31mCustomStringException\u001b[0m: some message"
     ]
    }
   ],
   "source": [
    "raise CustomStringException('some message')"
   ]
  },
  {
   "cell_type": "markdown",
   "id": "cf5d5a80",
   "metadata": {},
   "source": [
    "Можно по очереди обрабатывать несколько типов исключений в рамках одного блока try except"
   ]
  },
  {
   "cell_type": "code",
   "execution_count": 222,
   "id": "58fefd4a",
   "metadata": {
    "ExecuteTime": {
     "end_time": "2022-12-07T12:43:59.560511Z",
     "start_time": "2022-12-07T12:43:59.554881Z"
    }
   },
   "outputs": [
    {
     "name": "stdout",
     "output_type": "stream",
     "text": [
      "raised C\n",
      "A\n",
      "raised A\n",
      "A\n",
      "raised B\n",
      "A\n"
     ]
    }
   ],
   "source": [
    "class A(BaseException):\n",
    "    pass\n",
    "\n",
    "class B(A):\n",
    "    pass\n",
    "\n",
    "class C(B):\n",
    "    pass\n",
    "\n",
    "for cls in [C, A, B]:\n",
    "    try:\n",
    "        print(f'raised {cls.__name__}')\n",
    "        raise cls()\n",
    "    \n",
    "    except A:\n",
    "        print('A')\n",
    "    \n",
    "    except C:\n",
    "        print('C')\n",
    "        \n",
    "    except B:\n",
    "        print('B')\n",
    "        \n",
    "  "
   ]
  },
  {
   "cell_type": "code",
   "execution_count": 223,
   "id": "68652586",
   "metadata": {
    "ExecuteTime": {
     "end_time": "2022-12-07T12:44:30.012949Z",
     "start_time": "2022-12-07T12:44:30.007909Z"
    }
   },
   "outputs": [
    {
     "name": "stdout",
     "output_type": "stream",
     "text": [
      "raised C\n",
      "B\n",
      "raised A\n",
      "A\n",
      "raised B\n",
      "B\n"
     ]
    }
   ],
   "source": [
    "for cls in [C, A, B]:\n",
    "    try:\n",
    "        print(f'raised {cls.__name__}')\n",
    "        raise cls()\n",
    "    \n",
    "    except B:\n",
    "        print('B')\n",
    "    \n",
    "    except C:\n",
    "        print('C')\n",
    "        \n",
    "    except A:\n",
    "        print('A')\n",
    "        \n",
    "  "
   ]
  },
  {
   "cell_type": "code",
   "execution_count": 134,
   "id": "cf33451a",
   "metadata": {
    "ExecuteTime": {
     "end_time": "2022-12-07T11:26:43.739326Z",
     "start_time": "2022-12-07T11:26:43.733798Z"
    }
   },
   "outputs": [
    {
     "name": "stdout",
     "output_type": "stream",
     "text": [
      "raised C\n",
      "C\n",
      "raised A\n",
      "A\n",
      "raised B\n",
      "B\n"
     ]
    }
   ],
   "source": [
    "for cls in [C, A, B]:\n",
    "    try:\n",
    "        print(f'raised {cls.__name__}')\n",
    "        raise cls()\n",
    "    \n",
    "    except C:\n",
    "        print('C')\n",
    "    \n",
    "    except B:\n",
    "        print('B')\n",
    "        \n",
    "    except A:\n",
    "        print('A')"
   ]
  },
  {
   "cell_type": "markdown",
   "id": "591e90a1",
   "metadata": {},
   "source": [
    "Родительское исключение будет перехватывать исключения всех своих наследников"
   ]
  },
  {
   "cell_type": "markdown",
   "id": "d307b6bb",
   "metadata": {},
   "source": [
    "## Немного про метаклассы"
   ]
  },
  {
   "cell_type": "markdown",
   "id": "88f9c2d9",
   "metadata": {},
   "source": [
    "http://uneex.org/LecturesCMC/PythonIntro2022/12_MetaclassAnnotations -- очень советую лекцию"
   ]
  },
  {
   "cell_type": "markdown",
   "id": "0cfcb127",
   "metadata": {},
   "source": [
    "Совсем-совсем-совсем немного проговорим про метаклассы.\n",
    "\n",
    "Классы создают свои инстансы, а кто создает сами классы? Стандартный механизм -- метакласс type"
   ]
  },
  {
   "cell_type": "code",
   "execution_count": 56,
   "id": "5dd9b0a4",
   "metadata": {
    "ExecuteTime": {
     "end_time": "2022-12-09T22:02:21.335892Z",
     "start_time": "2022-12-09T22:02:21.329777Z"
    }
   },
   "outputs": [],
   "source": [
    "class A:\n",
    "    field = '1337'"
   ]
  },
  {
   "cell_type": "code",
   "execution_count": 57,
   "id": "2c73c7a5",
   "metadata": {
    "ExecuteTime": {
     "end_time": "2022-12-09T22:02:21.742519Z",
     "start_time": "2022-12-09T22:02:21.735339Z"
    }
   },
   "outputs": [
    {
     "name": "stdout",
     "output_type": "stream",
     "text": [
      "<class 'str'>\n",
      "<class 'int'>\n",
      "<class 'type'>\n"
     ]
    }
   ],
   "source": [
    "print(type('some_string'))\n",
    "print(type(42))\n",
    "print(type(A))"
   ]
  },
  {
   "cell_type": "code",
   "execution_count": 58,
   "id": "15528f38",
   "metadata": {
    "ExecuteTime": {
     "end_time": "2022-12-09T22:02:22.257618Z",
     "start_time": "2022-12-09T22:02:22.250334Z"
    }
   },
   "outputs": [],
   "source": [
    "AClass = type('AClass', (A,), {'echo_name': lambda self: print(self.__class__.__name__)})\n",
    "\n",
    "# код выше является алиасом к\n",
    "# class AClass(A):\n",
    "#     def echo_name(self):\n",
    "#         print(self.__class__.__name__)"
   ]
  },
  {
   "cell_type": "code",
   "execution_count": 243,
   "id": "bf54285c",
   "metadata": {
    "ExecuteTime": {
     "end_time": "2022-12-07T12:55:30.547530Z",
     "start_time": "2022-12-07T12:55:30.541310Z"
    }
   },
   "outputs": [],
   "source": [
    "a = AClass()"
   ]
  },
  {
   "cell_type": "code",
   "execution_count": 236,
   "id": "faa2d525",
   "metadata": {
    "ExecuteTime": {
     "end_time": "2022-12-07T12:52:50.044859Z",
     "start_time": "2022-12-07T12:52:50.039846Z"
    }
   },
   "outputs": [
    {
     "data": {
      "text/plain": [
       "'1337'"
      ]
     },
     "execution_count": 236,
     "metadata": {},
     "output_type": "execute_result"
    }
   ],
   "source": [
    "a.field"
   ]
  },
  {
   "cell_type": "code",
   "execution_count": 237,
   "id": "d1618244",
   "metadata": {
    "ExecuteTime": {
     "end_time": "2022-12-07T12:52:55.185816Z",
     "start_time": "2022-12-07T12:52:55.178899Z"
    }
   },
   "outputs": [
    {
     "name": "stdout",
     "output_type": "stream",
     "text": [
      "AClass\n"
     ]
    }
   ],
   "source": [
    "a.echo_name()"
   ]
  },
  {
   "cell_type": "code",
   "execution_count": 242,
   "id": "ee624ac0",
   "metadata": {
    "ExecuteTime": {
     "end_time": "2022-12-07T12:55:02.206319Z",
     "start_time": "2022-12-07T12:55:02.201215Z"
    }
   },
   "outputs": [
    {
     "data": {
      "text/plain": [
       "type"
      ]
     },
     "execution_count": 242,
     "metadata": {},
     "output_type": "execute_result"
    }
   ],
   "source": [
    "A.__class__"
   ]
  },
  {
   "cell_type": "code",
   "execution_count": 248,
   "id": "d6647233",
   "metadata": {
    "ExecuteTime": {
     "end_time": "2022-12-07T12:55:51.913167Z",
     "start_time": "2022-12-07T12:55:51.908078Z"
    }
   },
   "outputs": [
    {
     "data": {
      "text/plain": [
       "type"
      ]
     },
     "execution_count": 248,
     "metadata": {},
     "output_type": "execute_result"
    }
   ],
   "source": [
    "a.__class__.__class__"
   ]
  },
  {
   "cell_type": "markdown",
   "id": "4ec8e094-95f8-450e-80e6-0761d3bda2b3",
   "metadata": {},
   "source": [
    "## Возможные проблемы с наследованием от стандартного типа"
   ]
  },
  {
   "cell_type": "markdown",
   "id": "9c08f582",
   "metadata": {},
   "source": [
    "В чем могут быть проблемы при наследовании от стандартных типов"
   ]
  },
  {
   "cell_type": "code",
   "execution_count": 259,
   "id": "40bf097f",
   "metadata": {
    "ExecuteTime": {
     "end_time": "2022-12-07T13:00:21.073217Z",
     "start_time": "2022-12-07T13:00:21.068444Z"
    }
   },
   "outputs": [],
   "source": [
    "class DoubleDict(dict):\n",
    "    def __setitem__(self, key, value):\n",
    "        super().__setitem__(key, value * 2)\n",
    "        \n",
    "#     def update(self, d: dict):\n",
    "#         for key, val in d.items():\n",
    "#             self.__setitem__(key, val)"
   ]
  },
  {
   "cell_type": "code",
   "execution_count": 260,
   "id": "702b3dcb",
   "metadata": {
    "ExecuteTime": {
     "end_time": "2022-12-07T13:00:21.190022Z",
     "start_time": "2022-12-07T13:00:21.184216Z"
    }
   },
   "outputs": [],
   "source": [
    "double_d = DoubleDict()"
   ]
  },
  {
   "cell_type": "code",
   "execution_count": 261,
   "id": "4d9866ae",
   "metadata": {
    "ExecuteTime": {
     "end_time": "2022-12-07T13:00:21.329145Z",
     "start_time": "2022-12-07T13:00:21.319886Z"
    }
   },
   "outputs": [
    {
     "data": {
      "text/plain": [
       "{'sdf': 4}"
      ]
     },
     "execution_count": 261,
     "metadata": {},
     "output_type": "execute_result"
    }
   ],
   "source": [
    "double_d['sdf'] = 2\n",
    "double_d"
   ]
  },
  {
   "cell_type": "code",
   "execution_count": 262,
   "id": "7504be4b",
   "metadata": {
    "ExecuteTime": {
     "end_time": "2022-12-07T13:00:21.791356Z",
     "start_time": "2022-12-07T13:00:21.785937Z"
    }
   },
   "outputs": [
    {
     "data": {
      "text/plain": [
       "{'sdf': 4, 'afaf': 24, '41': 12}"
      ]
     },
     "execution_count": 262,
     "metadata": {},
     "output_type": "execute_result"
    }
   ],
   "source": [
    "double_d.update({'afaf': 24, '41': 12})\n",
    "double_d"
   ]
  },
  {
   "cell_type": "markdown",
   "id": "0f61f438",
   "metadata": {},
   "source": [
    "Проигнорили setitem"
   ]
  },
  {
   "cell_type": "code",
   "execution_count": 264,
   "id": "e65c9968",
   "metadata": {
    "ExecuteTime": {
     "end_time": "2022-12-07T13:00:51.279368Z",
     "start_time": "2022-12-07T13:00:51.274469Z"
    }
   },
   "outputs": [],
   "source": [
    "class AnswerDict(dict):\n",
    "    def __getitem__(self, key):\n",
    "        return 42"
   ]
  },
  {
   "cell_type": "code",
   "execution_count": 265,
   "id": "07c24ae3",
   "metadata": {
    "ExecuteTime": {
     "end_time": "2022-12-07T13:00:51.647939Z",
     "start_time": "2022-12-07T13:00:51.641937Z"
    }
   },
   "outputs": [],
   "source": [
    "ad = AnswerDict(a='answer')"
   ]
  },
  {
   "cell_type": "code",
   "execution_count": 267,
   "id": "b6c831fb",
   "metadata": {
    "ExecuteTime": {
     "end_time": "2022-12-07T13:01:11.743289Z",
     "start_time": "2022-12-07T13:01:11.738277Z"
    }
   },
   "outputs": [
    {
     "data": {
      "text/plain": [
       "42"
      ]
     },
     "execution_count": 267,
     "metadata": {},
     "output_type": "execute_result"
    }
   ],
   "source": [
    "ad['a']"
   ]
  },
  {
   "cell_type": "code",
   "execution_count": 268,
   "id": "83cec0bf",
   "metadata": {
    "ExecuteTime": {
     "end_time": "2022-12-07T13:01:21.622728Z",
     "start_time": "2022-12-07T13:01:21.616536Z"
    }
   },
   "outputs": [],
   "source": [
    "simple_dict = {}\n",
    "simple_dict.update(ad)"
   ]
  },
  {
   "cell_type": "code",
   "execution_count": 269,
   "id": "089cc4c1",
   "metadata": {
    "ExecuteTime": {
     "end_time": "2022-12-07T13:01:23.021156Z",
     "start_time": "2022-12-07T13:01:23.011144Z"
    }
   },
   "outputs": [
    {
     "data": {
      "text/plain": [
       "{'a': 'answer'}"
      ]
     },
     "execution_count": 269,
     "metadata": {},
     "output_type": "execute_result"
    }
   ],
   "source": [
    "simple_dict"
   ]
  },
  {
   "cell_type": "markdown",
   "id": "6ad2546c",
   "metadata": {},
   "source": [
    "Проигнорили getitem"
   ]
  },
  {
   "cell_type": "markdown",
   "id": "c59bc21d",
   "metadata": {},
   "source": [
    "Так произошло потому, что реализация метода update не использует измененные методы. Пофиксить можно наследованием от \"пользовательского словаря\" из модуля collections."
   ]
  },
  {
   "cell_type": "code",
   "execution_count": 271,
   "id": "37ea7592",
   "metadata": {
    "ExecuteTime": {
     "end_time": "2022-12-07T13:02:11.830701Z",
     "start_time": "2022-12-07T13:02:11.824226Z"
    }
   },
   "outputs": [],
   "source": [
    "from collections import UserDict"
   ]
  },
  {
   "cell_type": "code",
   "execution_count": 272,
   "id": "911cc569",
   "metadata": {
    "ExecuteTime": {
     "end_time": "2022-12-07T13:02:12.213913Z",
     "start_time": "2022-12-07T13:02:12.206928Z"
    }
   },
   "outputs": [],
   "source": [
    "class DoubleDict(UserDict):\n",
    "    def __setitem__(self, key, value):\n",
    "        super().__setitem__(key, value * 2)"
   ]
  },
  {
   "cell_type": "code",
   "execution_count": 273,
   "id": "7ce65c74",
   "metadata": {
    "ExecuteTime": {
     "end_time": "2022-12-07T13:02:19.077858Z",
     "start_time": "2022-12-07T13:02:19.072115Z"
    }
   },
   "outputs": [],
   "source": [
    "double_d = DoubleDict()"
   ]
  },
  {
   "cell_type": "code",
   "execution_count": 274,
   "id": "d2544c13",
   "metadata": {
    "ExecuteTime": {
     "end_time": "2022-12-07T13:02:21.044499Z",
     "start_time": "2022-12-07T13:02:21.039000Z"
    }
   },
   "outputs": [
    {
     "data": {
      "text/plain": [
       "{'sdf': 4}"
      ]
     },
     "execution_count": 274,
     "metadata": {},
     "output_type": "execute_result"
    }
   ],
   "source": [
    "double_d['sdf'] = 2\n",
    "double_d"
   ]
  },
  {
   "cell_type": "code",
   "execution_count": 275,
   "id": "29fe5fbb",
   "metadata": {
    "ExecuteTime": {
     "end_time": "2022-12-07T13:02:21.873677Z",
     "start_time": "2022-12-07T13:02:21.867890Z"
    }
   },
   "outputs": [
    {
     "data": {
      "text/plain": [
       "{'sdf': 4, 'afaf': 48, '41': 24}"
      ]
     },
     "execution_count": 275,
     "metadata": {},
     "output_type": "execute_result"
    }
   ],
   "source": [
    "double_d.update({'afaf': 24, '41': 12})\n",
    "double_d"
   ]
  },
  {
   "cell_type": "code",
   "execution_count": 276,
   "id": "235ca24d",
   "metadata": {
    "ExecuteTime": {
     "end_time": "2022-12-07T13:02:27.899154Z",
     "start_time": "2022-12-07T13:02:27.894469Z"
    }
   },
   "outputs": [],
   "source": [
    "class AnswerDict(UserDict):\n",
    "    def __getitem__(self, key):\n",
    "        return 42"
   ]
  },
  {
   "cell_type": "code",
   "execution_count": 277,
   "id": "fddfbdd0",
   "metadata": {
    "ExecuteTime": {
     "end_time": "2022-12-07T13:02:28.369407Z",
     "start_time": "2022-12-07T13:02:28.363107Z"
    }
   },
   "outputs": [],
   "source": [
    "ad = AnswerDict(a='answer')"
   ]
  },
  {
   "cell_type": "code",
   "execution_count": 278,
   "id": "115e735d",
   "metadata": {
    "ExecuteTime": {
     "end_time": "2022-12-07T13:02:28.817663Z",
     "start_time": "2022-12-07T13:02:28.808832Z"
    }
   },
   "outputs": [
    {
     "data": {
      "text/plain": [
       "42"
      ]
     },
     "execution_count": 278,
     "metadata": {},
     "output_type": "execute_result"
    }
   ],
   "source": [
    "ad['a']"
   ]
  },
  {
   "cell_type": "code",
   "execution_count": 280,
   "id": "089827a0",
   "metadata": {
    "ExecuteTime": {
     "end_time": "2022-12-07T13:02:36.992829Z",
     "start_time": "2022-12-07T13:02:36.987201Z"
    }
   },
   "outputs": [
    {
     "data": {
      "text/plain": [
       "{'data': {'a': 'answer'}}"
      ]
     },
     "execution_count": 280,
     "metadata": {},
     "output_type": "execute_result"
    }
   ],
   "source": [
    "ad.__dict__"
   ]
  },
  {
   "cell_type": "code",
   "execution_count": 281,
   "id": "8a7a6e3a",
   "metadata": {
    "ExecuteTime": {
     "end_time": "2022-12-07T13:02:37.351094Z",
     "start_time": "2022-12-07T13:02:37.345070Z"
    }
   },
   "outputs": [],
   "source": [
    "simple_dict = {}\n",
    "simple_dict.update(ad)"
   ]
  },
  {
   "cell_type": "code",
   "execution_count": 282,
   "id": "547d1342",
   "metadata": {
    "ExecuteTime": {
     "end_time": "2022-12-07T13:02:37.920162Z",
     "start_time": "2022-12-07T13:02:37.910937Z"
    }
   },
   "outputs": [
    {
     "data": {
      "text/plain": [
       "{'a': 42}"
      ]
     },
     "execution_count": 282,
     "metadata": {},
     "output_type": "execute_result"
    }
   ],
   "source": [
    "simple_dict"
   ]
  },
  {
   "cell_type": "markdown",
   "id": "6474b261",
   "metadata": {},
   "source": []
  },
  {
   "cell_type": "markdown",
   "id": "a75eaffd",
   "metadata": {},
   "source": [
    "# Финальные бонусы"
   ]
  },
  {
   "cell_type": "markdown",
   "id": "29cd5c54",
   "metadata": {},
   "source": [
    "Два несложных бонуса напоследок, чтобы нафармить себе автомат :)"
   ]
  },
  {
   "cell_type": "markdown",
   "id": "be81e626",
   "metadata": {},
   "source": [
    "## Поисковый индекс (2  балла)"
   ]
  },
  {
   "cell_type": "markdown",
   "id": "a4744ed3",
   "metadata": {},
   "source": [
    "https://en.wikipedia.org/wiki/Inverted_index"
   ]
  },
  {
   "cell_type": "markdown",
   "id": "01c9124b",
   "metadata": {},
   "source": [
    "Давайте разберем на примере самый простой способ реализации быстрого поиска слов в заданном корпусе текстов -- создание инвертированного индекса"
   ]
  },
  {
   "cell_type": "markdown",
   "id": "b603af84",
   "metadata": {},
   "source": [
    "Предположим, что у нас есть директория с большим количеством текстовых файлов -- N. Мы хотели бы один раз по ним пройтись и научиться выдавать документы, в которых есть то или иное ключевое слово.\n",
    "\n",
    "Алгоритм построения инвертированного индекса:\n",
    "\n",
    "0. Построить словарь соответствия, где каждому уникальному слову будет поставлен в соответствие некоторый внутренний id: `{word_1 : 0, word_2: 1 ...}`. Можно делать \"на лету\"\n",
    "1. Прочитать все документы и собрать все пары `(wordID, docID)`. Для простоты предполагаем, что количество слов в документах нам не важно, важен сам факт, что в документе **docID** есть слово **wordID** (hence, какой тип данных нам будет удобен?)  \n",
    "2. Сгруппировать пары так, чтобы у нас получились новые пары `(wordID, [list of docIDs])` \n"
   ]
  },
  {
   "cell_type": "markdown",
   "id": "afeb4f8f",
   "metadata": {},
   "source": [
    "Ваша задача -- написать класс `DirectoryIndex`, который:\n",
    "\n",
    "- Будет создавать инвертированный индекс для текстовых файлов, находящихся в переданном пути (и игнорировать остальные типы). Делать ли рекурсивный обход всех вложенных папок или нет -- на ваше усмотрение (если будете реализовывать, добавьте параметр). Если переданная папка пустая или не содержит текстовых файлов, следует выбросить исключение с сообщением об этом.\n",
    "- По принимаемому слову выдает список названий документов, в которых оно содержится. Если таких документов нет, то выводить пустой список\n",
    "- Может обновлять построенный индекс новыми текстовыми файлами\n",
    "\n",
    "Советую вынести в отдельную функцию обработку одного файла, и использовать ее при построении общего инвертированного индекса.\n",
    "\n",
    "Для работы с файлами и директориями вам поможет модуль **os**"
   ]
  },
  {
   "cell_type": "markdown",
   "id": "e9b69d8b",
   "metadata": {},
   "source": [
    "Шаблон с основными функциями. Детали остальной внутренней реализации на ваше усмотрение"
   ]
  },
  {
   "cell_type": "code",
   "execution_count": null,
   "id": "ea2c5e39",
   "metadata": {},
   "outputs": [],
   "source": [
    "class DirectoryIndex:\n",
    "    \n",
    "    def __init__(self, dirpath: str, encoding: str='utf-8'):\n",
    "        pass\n",
    "    \n",
    "    def find_documents(self, word: str) -> list:\n",
    "        pass\n",
    "    \n",
    "    def update(self, filepath: str, encoding: str='utf-8'):\n",
    "        pass\n",
    "    \n",
    "    @property\n",
    "    def inverted_index(self):\n",
    "        pass\n",
    "    "
   ]
  },
  {
   "cell_type": "markdown",
   "id": "49508dac",
   "metadata": {},
   "source": [
    "Проверьте работу на коллекции файлов по [ссылке](https://drive.google.com/file/d/1YNy315BqnKLGxgKfhjGmdU40IkIqKTNp/view?usp=share_link). Файлы могут иметь отличную от utf-8 кодировку. Погуглите, как с этим справляться \n",
    "\n",
    "PS Для файлов по ссылке должна работать одна из кодировок `cp12**`"
   ]
  },
  {
   "cell_type": "markdown",
   "id": "83ae0838",
   "metadata": {},
   "source": [
    "Референс для самопроверки.\n",
    "\n",
    "```python\n",
    "test_word = 'shakespeare'\n",
    "directory_index.find_documents()\n",
    "\n",
    "-> {0, 1, 2, 3, 7, 12, 15, 19, 20, 30, 33, 34, 39, 44}\n",
    "```"
   ]
  },
  {
   "cell_type": "markdown",
   "id": "4d6985c8",
   "metadata": {},
   "source": [
    "PPS На практике часто используется подход векторизации для поиска похожих документов или документов, содержащих определенное слово. In a nutshell, каждому документу в базе сопоставляется вектор, и тогда поиск похожих документов будет равносилен вычислению некоторой метрики расстояния между векторами документов и взятия ближаших. Часто используемая метрика -- косинусное расстояние. Один из простых способов задания вектора:\n",
    "- взять топ N самых популярных слов в базе, где N определит нашу размерность данных\n",
    "- сопоставить каждому слову слову позицию от 0 до N\n",
    "- сформировать вектор как `[tf-idf(word_0), ..., tf-idf(word_N)]`\n",
    "\n",
    "Понятно, что у данного способа много недостатков, но на практике это может быть достаточно неплохим бейзлайном. Если вам интересно, можете реализовать такую логику в рамках класса DirectoryIndex вместо второго бонуса (только реализовать самим и аккуратно!)"
   ]
  },
  {
   "cell_type": "markdown",
   "id": "e3043b65",
   "metadata": {
    "ExecuteTime": {
     "end_time": "2022-09-29T00:25:48.242814Z",
     "start_time": "2022-09-29T00:25:48.237247Z"
    }
   },
   "source": [
    "## Декоратор -- assert типов (2 балла)"
   ]
  },
  {
   "cell_type": "markdown",
   "id": "d7da87ae",
   "metadata": {},
   "source": [
    "Мы уже говорили про type hints, а также про то, что никаких ошибок без использования сторонних модулей некорректные типы нам не дадут. Давайте реализуем логику проверки типов с помощью декоратора.\n",
    "\n",
    "Типы могут быть заданы как стандартными названиями, так и с использованыем модуля `typing`. Для Any пропускайте проверку. Для сложных типов вроде `List[List[int]]` проверяйте только на самый первый (для данного примера проверьте, что переданные данные являются списком). Вам поможет функция `get_origin`"
   ]
  },
  {
   "cell_type": "code",
   "execution_count": 62,
   "id": "4577bf9c",
   "metadata": {
    "ExecuteTime": {
     "end_time": "2022-12-09T23:39:53.833767Z",
     "start_time": "2022-12-09T23:39:53.827759Z"
    }
   },
   "outputs": [],
   "source": [
    "import typing"
   ]
  },
  {
   "cell_type": "code",
   "execution_count": 9,
   "id": "4f6e4775",
   "metadata": {
    "ExecuteTime": {
     "end_time": "2022-09-29T01:22:10.141518Z",
     "start_time": "2022-09-29T01:22:10.137240Z"
    }
   },
   "outputs": [],
   "source": [
    "@check_types\n",
    "def func(a: int, b: str) -> str:\n",
    "    return a * b"
   ]
  },
  {
   "cell_type": "markdown",
   "id": "dfd6d913",
   "metadata": {
    "ExecuteTime": {
     "end_time": "2022-09-29T01:22:59.687912Z",
     "start_time": "2022-09-29T01:22:59.683005Z"
    }
   },
   "source": [
    "Стоит выбросить `ValueError` или вашу собственную ошибку, если есть несовпадение между реальным и ожидаемым типом у какой-то из переданных переменных или у возвращаемого значения. В сообщении должна быть информация о том, в каком аргументе найдено несовпадение, какой тип ожидался и какой был получен."
   ]
  },
  {
   "cell_type": "markdown",
   "id": "78ee77d6",
   "metadata": {},
   "source": [
    "**Что-то из написанного ниже может помочь для выполнения задания**"
   ]
  },
  {
   "cell_type": "code",
   "execution_count": 67,
   "id": "bccf8f42",
   "metadata": {
    "ExecuteTime": {
     "end_time": "2022-12-09T23:40:53.285155Z",
     "start_time": "2022-12-09T23:40:53.279960Z"
    }
   },
   "outputs": [
    {
     "name": "stdout",
     "output_type": "stream",
     "text": [
      "<class 'list'>\n",
      "<class 'dict'>\n",
      "<class 'list'>\n"
     ]
    }
   ],
   "source": [
    "from typing import get_origin\n",
    "\n",
    "print(get_origin(list[list[int]]))\n",
    "print(get_origin(dict[tuple[int]]))\n",
    "print(get_origin(typing.List[typing.List[int]]))"
   ]
  },
  {
   "cell_type": "code",
   "execution_count": 68,
   "id": "85027a89",
   "metadata": {
    "ExecuteTime": {
     "end_time": "2022-12-09T23:44:36.053494Z",
     "start_time": "2022-12-09T23:44:36.046417Z"
    }
   },
   "outputs": [],
   "source": [
    "def func(a: int, b: int) -> str:\n",
    "    pass"
   ]
  },
  {
   "cell_type": "code",
   "execution_count": 69,
   "id": "b038a9f8",
   "metadata": {
    "ExecuteTime": {
     "end_time": "2022-12-09T23:44:41.323984Z",
     "start_time": "2022-12-09T23:44:41.318347Z"
    }
   },
   "outputs": [
    {
     "data": {
      "text/plain": [
       "{'a': int, 'b': int, 'return': str}"
      ]
     },
     "execution_count": 69,
     "metadata": {},
     "output_type": "execute_result"
    }
   ],
   "source": [
    "func.__annotations__"
   ]
  },
  {
   "cell_type": "code",
   "execution_count": 75,
   "id": "c66e57af",
   "metadata": {
    "ExecuteTime": {
     "end_time": "2022-12-09T23:49:11.258756Z",
     "start_time": "2022-12-09T23:49:11.253766Z"
    }
   },
   "outputs": [
    {
     "data": {
      "text/plain": [
       "<Signature (a: int, b: int) -> str>"
      ]
     },
     "execution_count": 75,
     "metadata": {},
     "output_type": "execute_result"
    }
   ],
   "source": [
    "import inspect\n",
    "\n",
    "inspect.signature(func)"
   ]
  },
  {
   "cell_type": "code",
   "execution_count": 78,
   "id": "3006aead",
   "metadata": {
    "ExecuteTime": {
     "end_time": "2022-12-09T23:51:23.730843Z",
     "start_time": "2022-12-09T23:51:23.724607Z"
    }
   },
   "outputs": [],
   "source": [
    "sig = inspect.signature(func)"
   ]
  },
  {
   "cell_type": "code",
   "execution_count": 91,
   "id": "f641d331",
   "metadata": {
    "ExecuteTime": {
     "end_time": "2022-12-09T23:53:21.433378Z",
     "start_time": "2022-12-09T23:53:21.427600Z"
    }
   },
   "outputs": [
    {
     "data": {
      "text/plain": [
       "['KEYWORD_ONLY',\n",
       " 'POSITIONAL_ONLY',\n",
       " 'POSITIONAL_OR_KEYWORD',\n",
       " 'VAR_KEYWORD',\n",
       " 'VAR_POSITIONAL',\n",
       " '__class__',\n",
       " '__delattr__',\n",
       " '__dir__',\n",
       " '__doc__',\n",
       " '__eq__',\n",
       " '__format__',\n",
       " '__ge__',\n",
       " '__getattribute__',\n",
       " '__gt__',\n",
       " '__hash__',\n",
       " '__init__',\n",
       " '__init_subclass__',\n",
       " '__le__',\n",
       " '__lt__',\n",
       " '__module__',\n",
       " '__ne__',\n",
       " '__new__',\n",
       " '__reduce__',\n",
       " '__reduce_ex__',\n",
       " '__repr__',\n",
       " '__setattr__',\n",
       " '__setstate__',\n",
       " '__sizeof__',\n",
       " '__slots__',\n",
       " '__str__',\n",
       " '__subclasshook__',\n",
       " '_annotation',\n",
       " '_default',\n",
       " '_kind',\n",
       " '_name',\n",
       " 'annotation',\n",
       " 'default',\n",
       " 'empty',\n",
       " 'kind',\n",
       " 'name',\n",
       " 'replace']"
      ]
     },
     "execution_count": 91,
     "metadata": {},
     "output_type": "execute_result"
    }
   ],
   "source": [
    "dir(sig.parameters['a'])"
   ]
  },
  {
   "cell_type": "code",
   "execution_count": 95,
   "id": "303d62b2",
   "metadata": {
    "ExecuteTime": {
     "end_time": "2022-12-09T23:53:57.029788Z",
     "start_time": "2022-12-09T23:53:57.024407Z"
    }
   },
   "outputs": [
    {
     "data": {
      "text/plain": [
       "int"
      ]
     },
     "execution_count": 95,
     "metadata": {},
     "output_type": "execute_result"
    }
   ],
   "source": [
    "sig.parameters['a'].annotation"
   ]
  },
  {
   "cell_type": "code",
   "execution_count": 96,
   "id": "7a2e4ce8",
   "metadata": {
    "ExecuteTime": {
     "end_time": "2022-12-09T23:54:13.378113Z",
     "start_time": "2022-12-09T23:54:13.369021Z"
    }
   },
   "outputs": [
    {
     "data": {
      "text/plain": [
       "True"
      ]
     },
     "execution_count": 96,
     "metadata": {},
     "output_type": "execute_result"
    }
   ],
   "source": [
    "isinstance(4, sig.parameters['a'].annotation)"
   ]
  },
  {
   "cell_type": "code",
   "execution_count": 82,
   "id": "cd4eee7a",
   "metadata": {
    "ExecuteTime": {
     "end_time": "2022-12-09T23:52:13.488298Z",
     "start_time": "2022-12-09T23:52:13.482694Z"
    }
   },
   "outputs": [
    {
     "data": {
      "text/plain": [
       "{'a': 1, 'b': 2}"
      ]
     },
     "execution_count": 82,
     "metadata": {},
     "output_type": "execute_result"
    }
   ],
   "source": [
    "sig.bind(1, 2).arguments"
   ]
  },
  {
   "cell_type": "code",
   "execution_count": 83,
   "id": "51fd0659",
   "metadata": {
    "ExecuteTime": {
     "end_time": "2022-12-09T23:52:28.964508Z",
     "start_time": "2022-12-09T23:52:28.958760Z"
    }
   },
   "outputs": [
    {
     "data": {
      "text/plain": [
       "{'a': 2, 'b': 1}"
      ]
     },
     "execution_count": 83,
     "metadata": {},
     "output_type": "execute_result"
    }
   ],
   "source": [
    "sig.bind(b=1, a=2).arguments"
   ]
  }
 ],
 "metadata": {
  "kernelspec": {
   "display_name": "Python 3 (ipykernel)",
   "language": "python",
   "name": "python3"
  },
  "language_info": {
   "codemirror_mode": {
    "name": "ipython",
    "version": 3
   },
   "file_extension": ".py",
   "mimetype": "text/x-python",
   "name": "python",
   "nbconvert_exporter": "python",
   "pygments_lexer": "ipython3",
   "version": "3.9.12"
  },
  "toc": {
   "base_numbering": 1,
   "nav_menu": {},
   "number_sections": true,
   "sideBar": true,
   "skip_h1_title": false,
   "title_cell": "Table of Contents",
   "title_sidebar": "Contents",
   "toc_cell": false,
   "toc_position": {},
   "toc_section_display": true,
   "toc_window_display": true
  },
  "varInspector": {
   "cols": {
    "lenName": 16,
    "lenType": 16,
    "lenVar": 40
   },
   "kernels_config": {
    "python": {
     "delete_cmd_postfix": "",
     "delete_cmd_prefix": "del ",
     "library": "var_list.py",
     "varRefreshCmd": "print(var_dic_list())"
    },
    "r": {
     "delete_cmd_postfix": ") ",
     "delete_cmd_prefix": "rm(",
     "library": "var_list.r",
     "varRefreshCmd": "cat(var_dic_list()) "
    }
   },
   "types_to_exclude": [
    "module",
    "function",
    "builtin_function_or_method",
    "instance",
    "_Feature"
   ],
   "window_display": false
  }
 },
 "nbformat": 4,
 "nbformat_minor": 5
}
